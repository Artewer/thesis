{
 "cells": [
  {
   "cell_type": "code",
   "execution_count": 1,
   "metadata": {},
   "outputs": [],
   "source": [
    "%load_ext autoreload\n",
    "%autoreload 2"
   ]
  },
  {
   "cell_type": "code",
   "execution_count": 3,
   "metadata": {},
   "outputs": [],
   "source": [
    "# Libs\n",
    "import logging\n",
    "import pandas as pd\n",
    "from collections import OrderedDict\n",
    "import torch\n",
    "\n",
    "# Own Modules\n",
    "from source_torch.mlca.mlca import mlca_mechanism\n",
    "from source_torch.mlca.mlca_setup import set_value_model_parameters\n",
    "#from source.mlca.mlca import mlca_mechanism\n",
    "#from source.mlca.mlca_setup import set_value_model_parameters\n",
    "\n",
    "import datetime\n",
    "import os\n",
    "from source_torch.util import save_result, load_result\n",
    "import numpy as np\n",
    "import os\n",
    "#import multiprocessing\n",
    "import concurrent"
   ]
  },
  {
   "cell_type": "code",
   "execution_count": 5,
   "metadata": {},
   "outputs": [
    {
     "name": "stderr",
     "output_type": "stream",
     "text": [
      "18:54:19:               START MLCA:\n",
      "18:54:19:               -----------------------------------------------\n",
      "18:54:19:               Model: GSVM\n",
      "18:54:19:               Seed SATS Instance: 2\n",
      "18:54:19:               Qinit: 30\n",
      "18:54:19:               Qmax: 50\n",
      "18:54:19:               Qround: 7\n",
      "\n",
      "18:54:19:               Instantiate SATS Instance\n",
      "18:54:19:               Set NN parameters\n",
      "18:54:19:               Set MIP parameters\n",
      "18:54:19:               INITIALIZE BIDS\n",
      "18:54:19:               -----------------------------------------------\n",
      "\n",
      "18:54:19:               Set up initial Bids for: Bidder_0\n",
      "18:54:19:               Sampling uniformly at random 30 bundle-value pairs from bidder 0\n",
      "18:54:19:               Set up initial Bids for: Bidder_1\n",
      "18:54:19:               Sampling uniformly at random 30 bundle-value pairs from bidder 1\n",
      "18:54:19:               Set up initial Bids for: Bidder_2\n",
      "18:54:19:               Sampling uniformly at random 30 bundle-value pairs from bidder 2\n",
      "18:54:19:               Set up initial Bids for: Bidder_3\n",
      "18:54:19:               Sampling uniformly at random 30 bundle-value pairs from bidder 3\n",
      "18:54:19:               Set up initial Bids for: Bidder_4\n",
      "18:54:19:               Sampling uniformly at random 30 bundle-value pairs from bidder 4\n",
      "18:54:19:               Set up initial Bids for: Bidder_5\n",
      "18:54:19:               Sampling uniformly at random 30 bundle-value pairs from bidder 5\n",
      "18:54:19:               Set up initial Bids for: Bidder_6\n",
      "18:54:19:               Sampling uniformly at random 30 bundle-value pairs from bidder 6\n",
      "18:54:19:               \n",
      "18:54:19:               Calculate current efficiency:\n"
     ]
    },
    {
     "name": "stdout",
     "output_type": "stream",
     "text": [
      "MLCA NN_MIP Class imported\n",
      "\n",
      "------------------------ SATS parameters ------------------------\n",
      "Value Model:  GSVM\n",
      "Number of Bidders:  7\n",
      "Number of BidderTypes:  2\n",
      "Number of Items:  18\n",
      "Scaler:  None\n",
      "\n",
      "------------------------ DNN  parameters ------------------------\n",
      "Epochs: 512\n",
      "Batch Size: 32\n",
      "Regularization: l1_l2\n",
      "\n",
      "Bidder_0:\n",
      "regularization: 1e-05\n",
      "learning_rate: 0.01\n",
      "architecture: [32, 32]\n",
      "dropout: True\n",
      "dropout_prob: 0.05\n",
      "epochs: 512\n",
      "batch_size: 32\n",
      "regularization_type: l1_l2\n",
      "device: cuda:5\n",
      "\n",
      "Bidder_1:\n",
      "regularization: 1e-05\n",
      "learning_rate: 0.01\n",
      "architecture: [32, 32]\n",
      "dropout: True\n",
      "dropout_prob: 0.05\n",
      "epochs: 512\n",
      "batch_size: 32\n",
      "regularization_type: l1_l2\n",
      "device: cuda:5\n",
      "\n",
      "Bidder_2:\n",
      "regularization: 1e-05\n",
      "learning_rate: 0.01\n",
      "architecture: [32, 32]\n",
      "dropout: True\n",
      "dropout_prob: 0.05\n",
      "epochs: 512\n",
      "batch_size: 32\n",
      "regularization_type: l1_l2\n",
      "device: cuda:5\n",
      "\n",
      "Bidder_3:\n",
      "regularization: 1e-05\n",
      "learning_rate: 0.01\n",
      "architecture: [32, 32]\n",
      "dropout: True\n",
      "dropout_prob: 0.05\n",
      "epochs: 512\n",
      "batch_size: 32\n",
      "regularization_type: l1_l2\n",
      "device: cuda:5\n",
      "\n",
      "Bidder_4:\n",
      "regularization: 1e-05\n",
      "learning_rate: 0.01\n",
      "architecture: [32, 32]\n",
      "dropout: True\n",
      "dropout_prob: 0.05\n",
      "epochs: 512\n",
      "batch_size: 32\n",
      "regularization_type: l1_l2\n",
      "device: cuda:5\n",
      "\n",
      "Bidder_5:\n",
      "regularization: 1e-05\n",
      "learning_rate: 0.01\n",
      "architecture: [32, 32]\n",
      "dropout: True\n",
      "dropout_prob: 0.05\n",
      "epochs: 512\n",
      "batch_size: 32\n",
      "regularization_type: l1_l2\n",
      "device: cuda:5\n",
      "\n",
      "Bidder_6:\n",
      "regularization: 1e-05\n",
      "learning_rate: 0.01\n",
      "architecture: [10, 10]\n",
      "dropout: True\n",
      "dropout_prob: 0.05\n",
      "epochs: 512\n",
      "batch_size: 32\n",
      "regularization_type: l1_l2\n",
      "device: cuda:5\n",
      "\n",
      "------------------------ MIP  parameters ------------------------\n",
      "bigM: 6000\n",
      "mip_bounds_tightening: IA\n",
      "warm_start: False\n",
      "time_limit: 1800\n",
      "relative_gap: 0.001\n",
      "integrality_tol: 1e-08\n",
      "attempts_DNN_WDP: 10000\n",
      "\n",
      "------------------------ MLCA  parameters ------------------------\n",
      "Qinit: 30\n",
      "Qmax: 50\n",
      "Qround: 7\n",
      "Seed SATS Instance:  2\n"
     ]
    },
    {
     "name": "stderr",
     "output_type": "stream",
     "text": [
      "18:54:19:               Solving WDP based on elicited bids for bidder: ['Bidder_0', 'Bidder_1', 'Bidder_2', 'Bidder_3', 'Bidder_4', 'Bidder_5', 'Bidder_6']\n"
     ]
    },
    {
     "name": "stderr",
     "output_type": "stream",
     "text": [
      "18:54:19:               Status  : integer optimal solution\n",
      "18:54:19:               Time    : 0 sec\n",
      "18:54:20:               Problem : MILP\n",
      "18:54:20:               Rel. Gap: 0.0 %\n",
      "18:54:20:               N. Iter : 18\n",
      "18:54:20:               Hit Lim.: False\n",
      "18:54:20:               Objective Value: 272.3249030698017\n",
      "18:55:25:               INFO\n",
      "18:55:25:               -----------------------------------------------\n",
      "18:55:25:               Seed Auction Instance: 2\n",
      "18:55:25:               Iteration of MLCA: 1\n",
      "18:55:25:               Number of Elicited Bids:\n",
      "18:55:25:               Bidder_0: 30\n",
      "18:55:25:               Bidder_1: 30\n",
      "18:55:25:               Bidder_2: 30\n",
      "18:55:25:               Bidder_3: 30\n",
      "18:55:25:               Bidder_4: 30\n",
      "18:55:25:               Bidder_5: 30\n",
      "18:55:25:               Bidder_6: 30\n",
      "18:55:25:               Qinit: 30 | Qround: 7 | Qmax: 50\n",
      "18:55:25:               Efficiency given elicited bids from iteration 0-0: 0.6336093783639153\n",
      "\n",
      "18:55:25:               Current query profile S=(S_1,...,S_n):\n",
      "18:55:25:               Bidder_0:  None\n",
      "18:55:25:               Bidder_1:  None\n",
      "18:55:25:               Bidder_2:  None\n",
      "18:55:25:               Bidder_3:  None\n",
      "18:55:25:               Bidder_4:  None\n",
      "18:55:25:               Bidder_5:  None\n",
      "18:55:25:               Bidder_6:  None\n",
      "18:55:25:               MARGINAL ECONOMIES FOR ALL BIDDERS\n",
      "18:55:25:               -----------------------------------------------\n",
      "\n",
      "18:55:25:               Bidder_0\n",
      "18:55:25:               -----------------------------------------------\n",
      "18:55:25:               Sampling marginals for Bidder_0\n",
      "18:55:25:               Calculate next queries for the following sampled marginals:\n",
      "18:55:25:               Marginal Economy -(1)\n",
      "18:55:25:               Marginal Economy -(2)\n",
      "18:55:25:               Marginal Economy -(3)\n",
      "18:55:25:               Marginal Economy -(4)\n",
      "18:55:25:               Marginal Economy -(5)\n",
      "18:55:25:               Marginal Economy -(6)\n",
      "18:55:25:               \n",
      "18:55:25:               Bidder_0 | Marginal Economy -(1)\n",
      "18:55:25:               -----------------------------------------------\n",
      "18:55:25:               Status of Economy: False\n",
      "\n",
      "18:55:25:               ESTIMATON STEP\n",
      "18:55:25:               -----------------------------------------------\n",
      "18:55:25:               Bidder_0\n",
      "18:55:25:               Neural Net initialized\n",
      "18:55:28:               Time for Bidder_0: 3 sec\n",
      "\n",
      "18:55:28:               Bidder_2\n",
      "18:55:28:               Neural Net initialized\n",
      "18:55:30:               Time for Bidder_2: 2 sec\n",
      "\n",
      "18:55:30:               Bidder_3\n",
      "18:55:30:               Neural Net initialized\n",
      "18:55:32:               Time for Bidder_3: 2 sec\n",
      "\n",
      "18:55:32:               Bidder_4\n",
      "18:55:32:               Neural Net initialized\n",
      "18:55:35:               Time for Bidder_4: 3 sec\n",
      "\n",
      "18:55:35:               Bidder_5\n",
      "18:55:35:               Neural Net initialized\n",
      "18:55:37:               Time for Bidder_5: 3 sec\n",
      "\n",
      "18:55:37:               Bidder_6\n",
      "18:55:37:               Neural Net initialized\n",
      "18:55:40:               Time for Bidder_6: 2 sec\n",
      "\n",
      "18:55:40:               OPTIMIZATION STEP\n",
      "18:55:40:               -----------------------------------------------\n",
      "18:55:40:               Initialize MIP\n"
     ]
    },
    {
     "name": "stdout",
     "output_type": "stream",
     "text": [
      "First time in optimization step.\n"
     ]
    },
    {
     "name": "stderr",
     "output_type": "stream",
     "text": [
      "18:55:40:               Tighten bounds with IA for Bidder_0\n",
      "18:55:40:               Tighten bounds with IA for Bidder_2\n",
      "18:55:40:               Tighten bounds with IA for Bidder_3\n",
      "18:55:40:               Tighten bounds with IA for Bidder_4\n",
      "18:55:40:               Tighten bounds with IA for Bidder_5\n",
      "18:55:40:               Tighten bounds with IA for Bidder_6\n",
      "18:55:40:               Sorted active bidders in MIP: ['Bidder_0', 'Bidder_2', 'Bidder_3', 'Bidder_4', 'Bidder_5', 'Bidder_6']\n",
      "18:55:40:               Mip initialized\n",
      "18:55:40:               Solving MIP\n",
      "18:55:40:               Attempt no: 1\n",
      "18:55:40:               Mip time Limit of 1800\n",
      "18:55:40:               Mip relative gap 0.001\n",
      "18:55:40:               Mip integrality tol 1e-08\n"
     ]
    },
    {
     "name": "stdout",
     "output_type": "stream",
     "text": [
      "Time limit is 1800\n"
     ]
    },
    {
     "name": "stderr",
     "output_type": "stream",
     "text": [
      "18:56:36:               -----------------------------------------------\n",
      "18:56:36:               Status  : integer optimal, tolerance\n",
      "18:56:36:               Time    : 55 sec\n",
      "18:56:36:               Problem : MILP\n",
      "18:56:36:               Rel. Gap: 0.00048 %\n",
      "18:56:36:               N. Iter : 4134\n",
      "18:56:36:               Hit Lim.: False\n",
      "18:56:36:               SET ARGMAX ALLOCATION FOR ALL BIDDERS\n",
      "18:56:36:               Bidder_0:  [1. 1. 1. 1. 0. 0. 0. 0. 1. 0. 0. 0. 0. 0. 0. 0. 0. 0.] | None\n",
      "18:56:36:               Bidder_2:  [0. 0. 0. 0. 1. 1. 1. 0. 0. 0. 0. 0. 0. 1. 1. 0. 0. 0.] | None\n",
      "18:56:36:               Bidder_3:  [0. 0. 0. 0. 0. 0. 0. 1. 0. 1. 0. 0. 0. 0. 0. 1. 1. 0.] | None\n",
      "18:56:36:               Bidder_4:  [0. 0. 0. 0. 0. 0. 0. 0. 0. 0. 0. 0. 0. 0. 0. 0. 0. 0.] | None\n",
      "18:56:36:               Bidder_5:  [0. 0. 0. 0. 0. 0. 0. 0. 0. 0. 1. 1. 1. 0. 0. 0. 0. 1.] | None\n",
      "18:56:36:               Bidder_6:  [0. 0. 0. 0. 0. 0. 0. 0. 0. 0. 0. 0. 0. 0. 0. 0. 0. 0.] | None\n",
      "18:56:36:               Current query profile is empty -> ADD BUNDLE\n",
      "18:56:36:               \n",
      "18:56:36:               Current query profile for Bidder_0:\n",
      "18:56:36:               [1. 1. 1. 1. 0. 0. 0. 0. 1. 0. 0. 0. 0. 0. 0. 0. 0. 0.]\n",
      "18:56:36:               \n",
      "18:56:36:               \n",
      "18:56:36:               Bidder_0 | Marginal Economy -(2)\n",
      "18:56:36:               -----------------------------------------------\n",
      "18:56:36:               Status of Economy: False\n",
      "\n",
      "18:56:36:               ESTIMATON STEP\n",
      "18:56:36:               -----------------------------------------------\n",
      "18:56:36:               Bidder_0\n",
      "18:56:36:               Neural Net initialized\n"
     ]
    },
    {
     "name": "stdout",
     "output_type": "stream",
     "text": [
      "Time for MIP run: 55 sec\n",
      "Found objective 479.3624744686085\n"
     ]
    },
    {
     "name": "stderr",
     "output_type": "stream",
     "text": [
      "18:56:38:               Time for Bidder_0: 2 sec\n",
      "\n",
      "18:56:38:               Bidder_1\n",
      "18:56:38:               Neural Net initialized\n",
      "18:56:40:               Time for Bidder_1: 2 sec\n",
      "\n",
      "18:56:40:               Bidder_3\n",
      "18:56:40:               Neural Net initialized\n",
      "18:56:42:               Time for Bidder_3: 2 sec\n",
      "\n",
      "18:56:42:               Bidder_4\n",
      "18:56:42:               Neural Net initialized\n",
      "18:56:44:               Time for Bidder_4: 2 sec\n",
      "\n",
      "18:56:44:               Bidder_5\n",
      "18:56:44:               Neural Net initialized\n",
      "18:56:47:               Time for Bidder_5: 2 sec\n",
      "\n",
      "18:56:47:               Bidder_6\n",
      "18:56:47:               Neural Net initialized\n",
      "18:56:49:               Time for Bidder_6: 2 sec\n",
      "\n",
      "18:56:49:               OPTIMIZATION STEP\n",
      "18:56:49:               -----------------------------------------------\n",
      "18:56:49:               Initialize MIP\n"
     ]
    },
    {
     "name": "stdout",
     "output_type": "stream",
     "text": [
      "First time in optimization step.\n"
     ]
    },
    {
     "name": "stderr",
     "output_type": "stream",
     "text": [
      "18:56:49:               Tighten bounds with IA for Bidder_0\n",
      "18:56:49:               Tighten bounds with IA for Bidder_1\n",
      "18:56:49:               Tighten bounds with IA for Bidder_3\n",
      "18:56:49:               Tighten bounds with IA for Bidder_4\n",
      "18:56:49:               Tighten bounds with IA for Bidder_5\n",
      "18:56:49:               Tighten bounds with IA for Bidder_6\n",
      "18:56:49:               Sorted active bidders in MIP: ['Bidder_0', 'Bidder_1', 'Bidder_3', 'Bidder_4', 'Bidder_5', 'Bidder_6']\n",
      "18:56:50:               Mip initialized\n",
      "18:56:50:               Solving MIP\n",
      "18:56:50:               Attempt no: 1\n",
      "18:56:50:               Mip time Limit of 1800\n",
      "18:56:50:               Mip relative gap 0.001\n",
      "18:56:50:               Mip integrality tol 1e-08\n"
     ]
    },
    {
     "name": "stdout",
     "output_type": "stream",
     "text": [
      "Time limit is 1800\n"
     ]
    },
    {
     "name": "stderr",
     "output_type": "stream",
     "text": [
      "18:57:24:               -----------------------------------------------\n",
      "18:57:24:               Status  : integer optimal, tolerance\n",
      "18:57:24:               Time    : 34 sec\n",
      "18:57:24:               Problem : MILP\n",
      "18:57:24:               Rel. Gap: 0.00093 %\n",
      "18:57:24:               N. Iter : 116593\n",
      "18:57:24:               Hit Lim.: False\n",
      "18:57:24:               SET ARGMAX ALLOCATION FOR ALL BIDDERS\n",
      "18:57:24:               Bidder_0:  [0. 0. 0. 0. 0. 0. 0. 0. 0. 0. 0. 0. 0. 0. 0. 0. 0. 0.] | None\n",
      "18:57:24:               Bidder_1:  [0. 0. 1. 1. 1. 1. 0. 0. 1. 0. 0. 0. 0. 1. 1. 0. 0. 0.] | None\n",
      "18:57:24:               Bidder_3:  [0. 0. 0. 0. 0. 0. 1. 1. 0. 1. 0. 0. 0. 0. 0. 1. 1. 0.] | None\n",
      "18:57:24:               Bidder_4:  [0. 0. 0. 0. 0. 0. 0. 0. 0. 0. 0. 0. 0. 0. 0. 0. 0. 0.] | None\n",
      "18:57:24:               Bidder_5:  [1. 1. 0. 0. 0. 0. 0. 0. 0. 0. 1. 1. 1. 0. 0. 0. 0. 1.] | None\n",
      "18:57:24:               Bidder_6:  [0. 0. 0. 0. 0. 0. 0. 0. 0. 0. 0. 0. 0. 0. 0. 0. 0. 0.] | None\n",
      "18:57:24:               Argmax bundle ALREADY ELICITED from Bidder_0\n",
      "\n",
      "18:57:24:               ADDITIONAL BIDDER SPECIFIC OPTIMIZATION STEP for Bidder_0\n",
      "18:57:24:               -----------------------------------------------\n",
      "18:57:24:               Initialize MIP\n"
     ]
    },
    {
     "name": "stdout",
     "output_type": "stream",
     "text": [
      "Time for MIP run: 34 sec\n",
      "Found objective 500.17175859259197\n",
      "*** Query existed, resolving- active bidder is bidder Bidder_0 ***\n"
     ]
    },
    {
     "name": "stderr",
     "output_type": "stream",
     "text": [
      "18:57:24:               Tighten bounds with IA for Bidder_0\n",
      "18:57:24:               Tighten bounds with IA for Bidder_1\n",
      "18:57:24:               Tighten bounds with IA for Bidder_3\n",
      "18:57:24:               Tighten bounds with IA for Bidder_4\n",
      "18:57:24:               Tighten bounds with IA for Bidder_5\n",
      "18:57:24:               Tighten bounds with IA for Bidder_6\n",
      "18:57:24:               Sorted active bidders in MIP: ['Bidder_0', 'Bidder_1', 'Bidder_3', 'Bidder_4', 'Bidder_5', 'Bidder_6']\n",
      "18:57:25:               Adding bidder specific constraints\n",
      "18:57:25:               Mip initialized\n",
      "18:57:25:               Solving MIP\n",
      "18:57:25:               Attempt no: 1\n",
      "18:57:25:               Mip time Limit of 1800\n",
      "18:57:25:               Mip relative gap 0.001\n",
      "18:57:25:               Mip integrality tol 1e-08\n"
     ]
    },
    {
     "name": "stdout",
     "output_type": "stream",
     "text": [
      "Time limit is 1800\n"
     ]
    },
    {
     "name": "stderr",
     "output_type": "stream",
     "text": [
      "18:57:59:               -----------------------------------------------\n",
      "18:57:59:               Status  : integer optimal, tolerance\n",
      "18:57:59:               Time    : 34 sec\n",
      "18:57:59:               Problem : MILP\n",
      "18:57:59:               Rel. Gap: 0.00086 %\n",
      "18:57:59:               N. Iter : 166711\n",
      "18:57:59:               Hit Lim.: False\n",
      "18:57:59:               SET ARGMAX ALLOCATION ONLY BIDDER SPECIFIC for Bidder_0\n",
      "18:57:59:               Bidder_0:  [0. 0. 0. 0. 0. 0. 0. 0. 0. 0. 0. 0. 0. 0. 0. 0. 0. 0.] | [0. 0. 0. 0. 1. 0. 0. 0. 0. 0. 0. 0. 0. 0. 0. 0. 0. 0.]\n",
      "18:57:59:               Bidder_1:  [0. 0. 1. 1. 1. 1. 0. 0. 1. 0. 0. 0. 0. 1. 1. 0. 0. 0.] | None\n",
      "18:57:59:               Bidder_3:  [0. 0. 0. 0. 0. 0. 1. 1. 0. 1. 0. 0. 0. 0. 0. 1. 1. 0.] | None\n",
      "18:57:59:               Bidder_4:  [0. 0. 0. 0. 0. 0. 0. 0. 0. 0. 0. 0. 0. 0. 0. 0. 0. 0.] | None\n",
      "18:57:59:               Bidder_5:  [1. 1. 0. 0. 0. 0. 0. 0. 0. 0. 1. 1. 1. 0. 0. 0. 0. 1.] | None\n",
      "18:57:59:               Bidder_6:  [0. 0. 0. 0. 0. 0. 0. 0. 0. 0. 0. 0. 0. 0. 0. 0. 0. 0.] | None\n",
      "18:57:59:               ADD BUNDLE to current query profile\n",
      "18:57:59:               \n",
      "18:57:59:               Current query profile for Bidder_0:\n",
      "18:57:59:               [1. 1. 1. 1. 0. 0. 0. 0. 1. 0. 0. 0. 0. 0. 0. 0. 0. 0.]\n",
      "18:57:59:               [0. 0. 0. 0. 1. 0. 0. 0. 0. 0. 0. 0. 0. 0. 0. 0. 0. 0.]\n",
      "18:57:59:               \n",
      "18:57:59:               \n",
      "18:57:59:               Bidder_0 | Marginal Economy -(3)\n",
      "18:57:59:               -----------------------------------------------\n",
      "18:57:59:               Status of Economy: False\n",
      "\n",
      "18:57:59:               ESTIMATON STEP\n",
      "18:57:59:               -----------------------------------------------\n",
      "18:57:59:               Bidder_0\n",
      "18:57:59:               Neural Net initialized\n"
     ]
    },
    {
     "name": "stdout",
     "output_type": "stream",
     "text": [
      "Time for MIP run: 34 sec\n",
      "Found objective 496.7787225978624\n"
     ]
    },
    {
     "name": "stderr",
     "output_type": "stream",
     "text": [
      "18:58:01:               Time for Bidder_0: 3 sec\n",
      "\n",
      "18:58:01:               Bidder_1\n",
      "18:58:01:               Neural Net initialized\n",
      "18:58:04:               Time for Bidder_1: 2 sec\n",
      "\n",
      "18:58:04:               Bidder_2\n",
      "18:58:04:               Neural Net initialized\n",
      "18:58:06:               Time for Bidder_2: 2 sec\n",
      "\n",
      "18:58:06:               Bidder_4\n",
      "18:58:06:               Neural Net initialized\n",
      "18:58:08:               Time for Bidder_4: 2 sec\n",
      "\n",
      "18:58:08:               Bidder_5\n",
      "18:58:08:               Neural Net initialized\n",
      "18:58:11:               Time for Bidder_5: 2 sec\n",
      "\n",
      "18:58:11:               Bidder_6\n",
      "18:58:11:               Neural Net initialized\n",
      "18:58:14:               Time for Bidder_6: 3 sec\n",
      "\n",
      "18:58:14:               OPTIMIZATION STEP\n",
      "18:58:14:               -----------------------------------------------\n",
      "18:58:14:               Initialize MIP\n"
     ]
    },
    {
     "name": "stdout",
     "output_type": "stream",
     "text": [
      "First time in optimization step.\n"
     ]
    },
    {
     "name": "stderr",
     "output_type": "stream",
     "text": [
      "18:58:14:               Tighten bounds with IA for Bidder_0\n",
      "18:58:14:               Tighten bounds with IA for Bidder_1\n",
      "18:58:14:               Tighten bounds with IA for Bidder_2\n",
      "18:58:14:               Tighten bounds with IA for Bidder_4\n",
      "18:58:14:               Tighten bounds with IA for Bidder_5\n",
      "18:58:14:               Tighten bounds with IA for Bidder_6\n",
      "18:58:14:               Sorted active bidders in MIP: ['Bidder_0', 'Bidder_1', 'Bidder_2', 'Bidder_4', 'Bidder_5', 'Bidder_6']\n",
      "18:58:14:               Mip initialized\n",
      "18:58:14:               Solving MIP\n",
      "18:58:14:               Attempt no: 1\n",
      "18:58:14:               Mip time Limit of 1800\n",
      "18:58:14:               Mip relative gap 0.001\n",
      "18:58:14:               Mip integrality tol 1e-08\n"
     ]
    },
    {
     "name": "stdout",
     "output_type": "stream",
     "text": [
      "Time limit is 1800\n"
     ]
    },
    {
     "name": "stderr",
     "output_type": "stream",
     "text": [
      "18:59:21:               -----------------------------------------------\n",
      "18:59:21:               Status  : integer optimal, tolerance\n",
      "18:59:21:               Time    : 67 sec\n",
      "18:59:21:               Problem : MILP\n",
      "18:59:21:               Rel. Gap: 0.00044 %\n",
      "18:59:21:               N. Iter : 38551\n",
      "18:59:21:               Hit Lim.: False\n",
      "18:59:21:               SET ARGMAX ALLOCATION FOR ALL BIDDERS\n",
      "18:59:21:               Bidder_0:  [0. 0. 0. 0. 0. 0. 0. 0. 0. 0. 0. 0. 0. 0. 0. 0. 0. 0.] | None\n",
      "18:59:22:               Bidder_1:  [0. 0. 1. 1. 0. 1. 0. 0. 0. 0. 0. 0. 0. 1. 1. 0. 0. 0.] | None\n",
      "18:59:22:               Bidder_2:  [0. 0. 0. 0. 1. 0. 1. 0. 0. 0. 0. 0. 0. 0. 0. 1. 0. 0.] | None\n",
      "18:59:22:               Bidder_4:  [0. 0. 0. 0. 0. 0. 0. 0. 1. 1. 0. 0. 0. 0. 0. 0. 1. 0.] | None\n",
      "18:59:22:               Bidder_5:  [1. 1. 0. 0. 0. 0. 0. 1. 0. 0. 1. 1. 1. 0. 0. 0. 0. 1.] | None\n",
      "18:59:22:               Bidder_6:  [0. 0. 0. 0. 0. 0. 0. 0. 0. 0. 0. 0. 0. 0. 0. 0. 0. 0.] | None\n",
      "18:59:22:               Argmax bundle ALREADY ELICITED from Bidder_0\n",
      "\n",
      "18:59:22:               ADDITIONAL BIDDER SPECIFIC OPTIMIZATION STEP for Bidder_0\n",
      "18:59:22:               -----------------------------------------------\n",
      "18:59:22:               Initialize MIP\n"
     ]
    },
    {
     "name": "stdout",
     "output_type": "stream",
     "text": [
      "Time for MIP run: 67 sec\n",
      "Found objective 504.78115399545254\n",
      "*** Query existed, resolving- active bidder is bidder Bidder_0 ***\n"
     ]
    },
    {
     "name": "stderr",
     "output_type": "stream",
     "text": [
      "18:59:22:               Tighten bounds with IA for Bidder_0\n",
      "18:59:22:               Tighten bounds with IA for Bidder_1\n",
      "18:59:22:               Tighten bounds with IA for Bidder_2\n",
      "18:59:22:               Tighten bounds with IA for Bidder_4\n",
      "18:59:22:               Tighten bounds with IA for Bidder_5\n",
      "18:59:22:               Tighten bounds with IA for Bidder_6\n",
      "18:59:22:               Sorted active bidders in MIP: ['Bidder_0', 'Bidder_1', 'Bidder_2', 'Bidder_4', 'Bidder_5', 'Bidder_6']\n",
      "18:59:22:               Adding bidder specific constraints\n",
      "18:59:22:               Mip initialized\n",
      "18:59:22:               Solving MIP\n",
      "18:59:22:               Attempt no: 1\n",
      "18:59:22:               Mip time Limit of 1800\n",
      "18:59:22:               Mip relative gap 0.001\n",
      "18:59:22:               Mip integrality tol 1e-08\n"
     ]
    },
    {
     "name": "stdout",
     "output_type": "stream",
     "text": [
      "Time limit is 1800\n"
     ]
    },
    {
     "name": "stderr",
     "output_type": "stream",
     "text": [
      "18:59:47:               -----------------------------------------------\n",
      "18:59:47:               Status  : integer optimal, tolerance\n",
      "18:59:47:               Time    : 25 sec\n",
      "18:59:47:               Problem : MILP\n",
      "18:59:47:               Rel. Gap: 0.0 %\n",
      "18:59:47:               N. Iter : 27675\n",
      "18:59:47:               Hit Lim.: False\n",
      "18:59:48:               SET ARGMAX ALLOCATION ONLY BIDDER SPECIFIC for Bidder_0\n",
      "18:59:48:               Bidder_0:  [0. 0. 0. 0. 0. 0. 0. 0. 0. 0. 0. 0. 0. 0. 0. 0. 0. 0.] | [1. 1. 1. 0. 0. 0. 0. 0. 1. 0. 0. 0. 0. 0. 0. 0. 0. 0.]\n",
      "18:59:48:               Bidder_1:  [0. 0. 1. 1. 0. 1. 0. 0. 0. 0. 0. 0. 0. 1. 1. 0. 0. 0.] | None\n",
      "18:59:48:               Bidder_2:  [0. 0. 0. 0. 1. 0. 1. 0. 0. 0. 0. 0. 0. 0. 0. 1. 0. 0.] | None\n",
      "18:59:48:               Bidder_4:  [0. 0. 0. 0. 0. 0. 0. 0. 1. 1. 0. 0. 0. 0. 0. 0. 1. 0.] | None\n",
      "18:59:48:               Bidder_5:  [1. 1. 0. 0. 0. 0. 0. 1. 0. 0. 1. 1. 1. 0. 0. 0. 0. 1.] | None\n",
      "18:59:48:               Bidder_6:  [0. 0. 0. 0. 0. 0. 0. 0. 0. 0. 0. 0. 0. 0. 0. 0. 0. 0.] | None\n",
      "18:59:48:               ADD BUNDLE to current query profile\n",
      "18:59:48:               \n",
      "18:59:48:               Current query profile for Bidder_0:\n",
      "18:59:48:               [1. 1. 1. 1. 0. 0. 0. 0. 1. 0. 0. 0. 0. 0. 0. 0. 0. 0.]\n",
      "18:59:48:               [0. 0. 0. 0. 1. 0. 0. 0. 0. 0. 0. 0. 0. 0. 0. 0. 0. 0.]\n",
      "18:59:48:               [1. 1. 1. 0. 0. 0. 0. 0. 1. 0. 0. 0. 0. 0. 0. 0. 0. 0.]\n",
      "18:59:48:               \n",
      "18:59:48:               \n",
      "18:59:48:               Bidder_0 | Marginal Economy -(4)\n",
      "18:59:48:               -----------------------------------------------\n",
      "18:59:48:               Status of Economy: False\n",
      "\n",
      "18:59:48:               ESTIMATON STEP\n",
      "18:59:48:               -----------------------------------------------\n",
      "18:59:48:               Bidder_0\n",
      "18:59:48:               Neural Net initialized\n"
     ]
    },
    {
     "name": "stdout",
     "output_type": "stream",
     "text": [
      "Time for MIP run: 25 sec\n",
      "Found objective 503.2749133789724\n"
     ]
    },
    {
     "name": "stderr",
     "output_type": "stream",
     "text": [
      "18:59:50:               Time for Bidder_0: 2 sec\n",
      "\n",
      "18:59:50:               Bidder_1\n",
      "18:59:50:               Neural Net initialized\n",
      "18:59:52:               Time for Bidder_1: 3 sec\n",
      "\n",
      "18:59:52:               Bidder_2\n",
      "18:59:52:               Neural Net initialized\n",
      "18:59:55:               Time for Bidder_2: 3 sec\n",
      "\n",
      "18:59:55:               Bidder_3\n",
      "18:59:55:               Neural Net initialized\n",
      "18:59:58:               Time for Bidder_3: 3 sec\n",
      "\n",
      "18:59:58:               Bidder_5\n",
      "18:59:58:               Neural Net initialized\n",
      "19:00:00:               Time for Bidder_5: 2 sec\n",
      "\n",
      "19:00:00:               Bidder_6\n",
      "19:00:00:               Neural Net initialized\n",
      "19:00:02:               Time for Bidder_6: 2 sec\n",
      "\n",
      "19:00:02:               OPTIMIZATION STEP\n",
      "19:00:02:               -----------------------------------------------\n",
      "19:00:02:               Initialize MIP\n"
     ]
    },
    {
     "name": "stdout",
     "output_type": "stream",
     "text": [
      "First time in optimization step.\n"
     ]
    },
    {
     "name": "stderr",
     "output_type": "stream",
     "text": [
      "19:00:02:               Tighten bounds with IA for Bidder_0\n",
      "19:00:02:               Tighten bounds with IA for Bidder_1\n",
      "19:00:02:               Tighten bounds with IA for Bidder_2\n",
      "19:00:02:               Tighten bounds with IA for Bidder_3\n",
      "19:00:02:               Tighten bounds with IA for Bidder_5\n",
      "19:00:02:               Tighten bounds with IA for Bidder_6\n",
      "19:00:02:               Sorted active bidders in MIP: ['Bidder_0', 'Bidder_1', 'Bidder_2', 'Bidder_3', 'Bidder_5', 'Bidder_6']\n",
      "19:00:02:               Mip initialized\n",
      "19:00:03:               Solving MIP\n",
      "19:00:03:               Attempt no: 1\n",
      "19:00:03:               Mip time Limit of 1800\n",
      "19:00:03:               Mip relative gap 0.001\n",
      "19:00:03:               Mip integrality tol 1e-08\n"
     ]
    },
    {
     "name": "stdout",
     "output_type": "stream",
     "text": [
      "Time limit is 1800\n"
     ]
    },
    {
     "name": "stderr",
     "output_type": "stream",
     "text": [
      "19:00:44:               -----------------------------------------------\n",
      "19:00:44:               Status  : integer optimal, tolerance\n",
      "19:00:44:               Time    : 41 sec\n",
      "19:00:44:               Problem : MILP\n",
      "19:00:44:               Rel. Gap: 0.001 %\n",
      "19:00:44:               N. Iter : 2149\n",
      "19:00:44:               Hit Lim.: False\n",
      "19:00:44:               SET ARGMAX ALLOCATION FOR ALL BIDDERS\n",
      "19:00:44:               Bidder_0:  [0. 0. 0. 0. 0. 0. 0. 0. 0. 0. 0. 0. 0. 0. 0. 0. 0. 0.] | None\n",
      "19:00:44:               Bidder_1:  [0. 0. 1. 1. 0. 1. 0. 0. 0. 0. 0. 0. 0. 1. 1. 0. 0. 0.] | None\n",
      "19:00:44:               Bidder_2:  [0. 0. 0. 0. 1. 0. 1. 0. 0. 0. 0. 0. 0. 0. 0. 1. 0. 0.] | None\n",
      "19:00:44:               Bidder_3:  [0. 0. 0. 0. 0. 0. 0. 1. 1. 1. 0. 0. 0. 0. 0. 0. 1. 0.] | None\n",
      "19:00:44:               Bidder_5:  [1. 1. 0. 0. 0. 0. 0. 0. 0. 0. 1. 1. 1. 0. 0. 0. 0. 1.] | None\n",
      "19:00:44:               Bidder_6:  [0. 0. 0. 0. 0. 0. 0. 0. 0. 0. 0. 0. 0. 0. 0. 0. 0. 0.] | None\n",
      "19:00:44:               Argmax bundle ALREADY ELICITED from Bidder_0\n",
      "\n",
      "19:00:44:               ADDITIONAL BIDDER SPECIFIC OPTIMIZATION STEP for Bidder_0\n",
      "19:00:44:               -----------------------------------------------\n",
      "19:00:44:               Initialize MIP\n"
     ]
    },
    {
     "name": "stdout",
     "output_type": "stream",
     "text": [
      "Time for MIP run: 41 sec\n",
      "Found objective 522.9037577315797\n",
      "*** Query existed, resolving- active bidder is bidder Bidder_0 ***\n"
     ]
    },
    {
     "name": "stderr",
     "output_type": "stream",
     "text": [
      "19:00:44:               Tighten bounds with IA for Bidder_0\n",
      "19:00:44:               Tighten bounds with IA for Bidder_1\n",
      "19:00:44:               Tighten bounds with IA for Bidder_2\n",
      "19:00:44:               Tighten bounds with IA for Bidder_3\n",
      "19:00:44:               Tighten bounds with IA for Bidder_5\n",
      "19:00:44:               Tighten bounds with IA for Bidder_6\n",
      "19:00:44:               Sorted active bidders in MIP: ['Bidder_0', 'Bidder_1', 'Bidder_2', 'Bidder_3', 'Bidder_5', 'Bidder_6']\n",
      "19:00:44:               Adding bidder specific constraints\n",
      "19:00:44:               Mip initialized\n",
      "19:00:44:               Solving MIP\n",
      "19:00:44:               Attempt no: 1\n",
      "19:00:44:               Mip time Limit of 1800\n",
      "19:00:44:               Mip relative gap 0.001\n",
      "19:00:44:               Mip integrality tol 1e-08\n"
     ]
    },
    {
     "name": "stdout",
     "output_type": "stream",
     "text": [
      "Time limit is 1800\n"
     ]
    },
    {
     "name": "stderr",
     "output_type": "stream",
     "text": [
      "19:02:15:               -----------------------------------------------\n",
      "19:02:15:               Status  : integer optimal, tolerance\n",
      "19:02:15:               Time    : 90 sec\n",
      "19:02:15:               Problem : MILP\n",
      "19:02:15:               Rel. Gap: 0.0 %\n",
      "19:02:15:               N. Iter : 19036\n",
      "19:02:15:               Hit Lim.: False\n",
      "19:02:15:               SET ARGMAX ALLOCATION ONLY BIDDER SPECIFIC for Bidder_0\n",
      "19:02:15:               Bidder_0:  [0. 0. 0. 0. 0. 0. 0. 0. 0. 0. 0. 0. 0. 0. 0. 0. 0. 0.] | [0. 0. 0. 0. 0. 0. 0. 0. 1. 0. 0. 0. 0. 0. 0. 0. 0. 0.]\n",
      "19:02:15:               Bidder_1:  [0. 0. 1. 1. 0. 1. 0. 0. 0. 0. 0. 0. 0. 1. 1. 0. 0. 0.] | None\n",
      "19:02:15:               Bidder_2:  [0. 0. 0. 0. 1. 0. 1. 0. 0. 0. 0. 0. 0. 0. 0. 1. 0. 0.] | None\n",
      "19:02:15:               Bidder_3:  [0. 0. 0. 0. 0. 0. 0. 1. 1. 1. 0. 0. 0. 0. 0. 0. 1. 0.] | None\n",
      "19:02:15:               Bidder_5:  [1. 1. 0. 0. 0. 0. 0. 0. 0. 0. 1. 1. 1. 0. 0. 0. 0. 1.] | None\n",
      "19:02:15:               Bidder_6:  [0. 0. 0. 0. 0. 0. 0. 0. 0. 0. 0. 0. 0. 0. 0. 0. 0. 0.] | None\n",
      "19:02:15:               ADD BUNDLE to current query profile\n",
      "19:02:15:               \n",
      "19:02:15:               Current query profile for Bidder_0:\n",
      "19:02:15:               [1. 1. 1. 1. 0. 0. 0. 0. 1. 0. 0. 0. 0. 0. 0. 0. 0. 0.]\n",
      "19:02:15:               [0. 0. 0. 0. 1. 0. 0. 0. 0. 0. 0. 0. 0. 0. 0. 0. 0. 0.]\n",
      "19:02:15:               [1. 1. 1. 0. 0. 0. 0. 0. 1. 0. 0. 0. 0. 0. 0. 0. 0. 0.]\n",
      "19:02:15:               [0. 0. 0. 0. 0. 0. 0. 0. 1. 0. 0. 0. 0. 0. 0. 0. 0. 0.]\n",
      "19:02:15:               \n",
      "19:02:15:               \n",
      "19:02:15:               Bidder_0 | Marginal Economy -(5)\n",
      "19:02:15:               -----------------------------------------------\n",
      "19:02:15:               Status of Economy: False\n",
      "\n",
      "19:02:15:               ESTIMATON STEP\n",
      "19:02:15:               -----------------------------------------------\n",
      "19:02:15:               Bidder_0\n",
      "19:02:15:               Neural Net initialized\n"
     ]
    },
    {
     "name": "stdout",
     "output_type": "stream",
     "text": [
      "Time for MIP run: 90 sec\n",
      "Found objective 509.4772916820589\n"
     ]
    },
    {
     "name": "stderr",
     "output_type": "stream",
     "text": [
      "19:02:17:               Time for Bidder_0: 3 sec\n",
      "\n",
      "19:02:17:               Bidder_1\n",
      "19:02:17:               Neural Net initialized\n",
      "19:02:20:               Time for Bidder_1: 3 sec\n",
      "\n",
      "19:02:20:               Bidder_2\n",
      "19:02:20:               Neural Net initialized\n",
      "19:02:23:               Time for Bidder_2: 3 sec\n",
      "\n",
      "19:02:23:               Bidder_3\n",
      "19:02:23:               Neural Net initialized\n",
      "19:02:25:               Time for Bidder_3: 2 sec\n",
      "\n",
      "19:02:25:               Bidder_4\n",
      "19:02:25:               Neural Net initialized\n",
      "19:02:27:               Time for Bidder_4: 2 sec\n",
      "\n",
      "19:02:27:               Bidder_6\n",
      "19:02:27:               Neural Net initialized\n",
      "19:02:29:               Time for Bidder_6: 2 sec\n",
      "\n",
      "19:02:29:               OPTIMIZATION STEP\n",
      "19:02:29:               -----------------------------------------------\n",
      "19:02:29:               Initialize MIP\n"
     ]
    },
    {
     "name": "stdout",
     "output_type": "stream",
     "text": [
      "First time in optimization step.\n"
     ]
    },
    {
     "name": "stderr",
     "output_type": "stream",
     "text": [
      "19:02:29:               Tighten bounds with IA for Bidder_0\n",
      "19:02:29:               Tighten bounds with IA for Bidder_1\n",
      "19:02:29:               Tighten bounds with IA for Bidder_2\n",
      "19:02:29:               Tighten bounds with IA for Bidder_3\n",
      "19:02:29:               Tighten bounds with IA for Bidder_4\n",
      "19:02:29:               Tighten bounds with IA for Bidder_6\n",
      "19:02:29:               Sorted active bidders in MIP: ['Bidder_0', 'Bidder_1', 'Bidder_2', 'Bidder_3', 'Bidder_4', 'Bidder_6']\n",
      "19:02:30:               Mip initialized\n",
      "19:02:30:               Solving MIP\n",
      "19:02:30:               Attempt no: 1\n",
      "19:02:30:               Mip time Limit of 1800\n",
      "19:02:30:               Mip relative gap 0.001\n",
      "19:02:30:               Mip integrality tol 1e-08\n"
     ]
    },
    {
     "name": "stdout",
     "output_type": "stream",
     "text": [
      "Time limit is 1800\n"
     ]
    },
    {
     "name": "stderr",
     "output_type": "stream",
     "text": [
      "19:03:11:               -----------------------------------------------\n",
      "19:03:11:               Status  : integer optimal, tolerance\n",
      "19:03:11:               Time    : 41 sec\n",
      "19:03:11:               Problem : MILP\n",
      "19:03:11:               Rel. Gap: 0.00086 %\n",
      "19:03:11:               N. Iter : 72786\n",
      "19:03:11:               Hit Lim.: False\n",
      "19:03:11:               SET ARGMAX ALLOCATION FOR ALL BIDDERS\n",
      "19:03:11:               Bidder_0:  [1. 1. 1. 0. 0. 0. 0. 0. 1. 0. 0. 0. 1. 0. 0. 0. 0. 0.] | None\n",
      "19:03:11:               Bidder_1:  [0. 0. 0. 1. 0. 1. 0. 0. 0. 0. 0. 0. 0. 1. 1. 0. 0. 1.] | None\n",
      "19:03:11:               Bidder_2:  [0. 0. 0. 0. 1. 0. 1. 0. 0. 0. 0. 0. 0. 0. 0. 1. 1. 0.] | None\n",
      "19:03:11:               Bidder_3:  [0. 0. 0. 0. 0. 0. 0. 0. 0. 0. 0. 0. 0. 0. 0. 0. 0. 0.] | None\n",
      "19:03:11:               Bidder_4:  [0. 0. 0. 0. 0. 0. 0. 0. 0. 0. 0. 0. 0. 0. 0. 0. 0. 0.] | None\n",
      "19:03:11:               Bidder_6:  [0. 0. 0. 0. 0. 0. 0. 1. 0. 1. 1. 1. 0. 0. 0. 0. 0. 0.] | None\n",
      "19:03:11:               ADD BUNDLE to current query profile\n",
      "19:03:11:               \n",
      "19:03:11:               Current query profile for Bidder_0:\n",
      "19:03:11:               [1. 1. 1. 1. 0. 0. 0. 0. 1. 0. 0. 0. 0. 0. 0. 0. 0. 0.]\n",
      "19:03:11:               [0. 0. 0. 0. 1. 0. 0. 0. 0. 0. 0. 0. 0. 0. 0. 0. 0. 0.]\n",
      "19:03:11:               [1. 1. 1. 0. 0. 0. 0. 0. 1. 0. 0. 0. 0. 0. 0. 0. 0. 0.]\n",
      "19:03:11:               [0. 0. 0. 0. 0. 0. 0. 0. 1. 0. 0. 0. 0. 0. 0. 0. 0. 0.]\n",
      "19:03:11:               [1. 1. 1. 0. 0. 0. 0. 0. 1. 0. 0. 0. 1. 0. 0. 0. 0. 0.]\n",
      "19:03:11:               \n",
      "19:03:11:               \n",
      "19:03:11:               Bidder_0 | Marginal Economy -(6)\n",
      "19:03:11:               -----------------------------------------------\n",
      "19:03:11:               Status of Economy: False\n",
      "\n",
      "19:03:11:               ESTIMATON STEP\n",
      "19:03:11:               -----------------------------------------------\n",
      "19:03:11:               Bidder_0\n",
      "19:03:11:               Neural Net initialized\n"
     ]
    },
    {
     "name": "stdout",
     "output_type": "stream",
     "text": [
      "Time for MIP run: 41 sec\n",
      "Found objective 487.20316815057396\n"
     ]
    },
    {
     "name": "stderr",
     "output_type": "stream",
     "text": [
      "19:03:13:               Time for Bidder_0: 2 sec\n",
      "\n",
      "19:03:13:               Bidder_1\n",
      "19:03:13:               Neural Net initialized\n",
      "19:03:15:               Time for Bidder_1: 2 sec\n",
      "\n",
      "19:03:15:               Bidder_2\n",
      "19:03:15:               Neural Net initialized\n",
      "19:03:18:               Time for Bidder_2: 3 sec\n",
      "\n",
      "19:03:18:               Bidder_3\n",
      "19:03:18:               Neural Net initialized\n",
      "19:03:21:               Time for Bidder_3: 3 sec\n",
      "\n",
      "19:03:21:               Bidder_4\n",
      "19:03:21:               Neural Net initialized\n",
      "19:03:23:               Time for Bidder_4: 2 sec\n",
      "\n",
      "19:03:23:               Bidder_5\n",
      "19:03:23:               Neural Net initialized\n",
      "19:03:25:               Time for Bidder_5: 2 sec\n",
      "\n",
      "19:03:25:               OPTIMIZATION STEP\n",
      "19:03:25:               -----------------------------------------------\n",
      "19:03:25:               Initialize MIP\n"
     ]
    },
    {
     "name": "stdout",
     "output_type": "stream",
     "text": [
      "First time in optimization step.\n"
     ]
    },
    {
     "name": "stderr",
     "output_type": "stream",
     "text": [
      "19:03:25:               Tighten bounds with IA for Bidder_0\n",
      "19:03:25:               Tighten bounds with IA for Bidder_1\n",
      "19:03:25:               Tighten bounds with IA for Bidder_2\n",
      "19:03:25:               Tighten bounds with IA for Bidder_3\n",
      "19:03:25:               Tighten bounds with IA for Bidder_4\n",
      "19:03:25:               Tighten bounds with IA for Bidder_5\n",
      "19:03:25:               Sorted active bidders in MIP: ['Bidder_0', 'Bidder_1', 'Bidder_2', 'Bidder_3', 'Bidder_4', 'Bidder_5']\n",
      "19:03:26:               Mip initialized\n",
      "19:03:26:               Solving MIP\n",
      "19:03:26:               Attempt no: 1\n",
      "19:03:26:               Mip time Limit of 1800\n",
      "19:03:26:               Mip relative gap 0.001\n",
      "19:03:26:               Mip integrality tol 1e-08\n"
     ]
    },
    {
     "name": "stdout",
     "output_type": "stream",
     "text": [
      "Time limit is 1800\n"
     ]
    },
    {
     "name": "stderr",
     "output_type": "stream",
     "text": [
      "19:04:01:               -----------------------------------------------\n",
      "19:04:01:               Status  : integer optimal, tolerance\n",
      "19:04:01:               Time    : 35 sec\n",
      "19:04:01:               Problem : MILP\n",
      "19:04:01:               Rel. Gap: 0.00019 %\n",
      "19:04:01:               N. Iter : 96837\n",
      "19:04:01:               Hit Lim.: False\n",
      "19:04:01:               SET ARGMAX ALLOCATION FOR ALL BIDDERS\n",
      "19:04:01:               Bidder_0:  [0. 0. 0. 0. 0. 0. 0. 0. 0. 0. 0. 0. 0. 0. 0. 0. 0. 0.] | None\n",
      "19:04:01:               Bidder_1:  [0. 0. 1. 1. 0. 1. 0. 0. 0. 0. 0. 0. 0. 1. 1. 0. 0. 0.] | None\n",
      "19:04:01:               Bidder_2:  [0. 0. 0. 0. 1. 0. 1. 0. 0. 0. 0. 0. 0. 0. 0. 0. 0. 0.] | None\n",
      "19:04:01:               Bidder_3:  [0. 0. 0. 0. 0. 0. 0. 1. 1. 1. 0. 0. 0. 0. 0. 1. 1. 0.] | None\n",
      "19:04:01:               Bidder_4:  [0. 0. 0. 0. 0. 0. 0. 0. 0. 0. 0. 0. 0. 0. 0. 0. 0. 0.] | None\n",
      "19:04:01:               Bidder_5:  [1. 1. 0. 0. 0. 0. 0. 0. 0. 0. 1. 1. 1. 0. 0. 0. 0. 1.] | None\n",
      "19:04:01:               Argmax bundle ALREADY ELICITED from Bidder_0\n",
      "\n",
      "19:04:01:               ADDITIONAL BIDDER SPECIFIC OPTIMIZATION STEP for Bidder_0\n",
      "19:04:01:               -----------------------------------------------\n",
      "19:04:01:               Initialize MIP\n"
     ]
    },
    {
     "name": "stdout",
     "output_type": "stream",
     "text": [
      "\n",
      "KeyboardInterrupt\n",
      "Time for MIP run: 35 sec\n",
      "Found objective 511.5352719055194\n",
      "*** Query existed, resolving- active bidder is bidder Bidder_0 ***\n"
     ]
    },
    {
     "name": "stderr",
     "output_type": "stream",
     "text": [
      "19:04:01:               Tighten bounds with IA for Bidder_0\n",
      "19:04:01:               Tighten bounds with IA for Bidder_1\n",
      "19:04:01:               Tighten bounds with IA for Bidder_2\n",
      "19:04:01:               Tighten bounds with IA for Bidder_3\n",
      "19:04:01:               Tighten bounds with IA for Bidder_4\n",
      "19:04:01:               Tighten bounds with IA for Bidder_5\n",
      "19:04:01:               Sorted active bidders in MIP: ['Bidder_0', 'Bidder_1', 'Bidder_2', 'Bidder_3', 'Bidder_4', 'Bidder_5']\n",
      "19:04:02:               Adding bidder specific constraints\n",
      "19:04:02:               Mip initialized\n",
      "19:04:02:               Solving MIP\n",
      "19:04:02:               Attempt no: 1\n",
      "19:04:02:               Mip time Limit of 1800\n",
      "19:04:02:               Mip relative gap 0.001\n",
      "19:04:02:               Mip integrality tol 1e-08\n"
     ]
    },
    {
     "name": "stdout",
     "output_type": "stream",
     "text": [
      "Time limit is 1800\n"
     ]
    }
   ],
   "source": [
    "\n",
    "# print(multiprocessing.cpu_count())\n",
    "\n",
    "# def test_task(seed, iteration):\n",
    "#     print('hello')\n",
    "#     print(seed)\n",
    "\n",
    "exe = concurrent.futures.ProcessPoolExecutor(10)\n",
    "\n",
    "\n",
    "torch.cuda.set_device(5)\n",
    "device = torch.device(\"cuda:5\")\n",
    "\n",
    "for i in range(2, 100):\n",
    "    exe.submit(test_auc, i, 1)\n",
    "\n",
    "\n",
    "\n",
    "# Importing the library\n",
    "#import psutil\n",
    "#import os\n",
    "# Get the current process\n",
    "#process = psutil.Process(os.getpid())\n",
    "\n",
    "# Set the CPU affinity to specific CPUs (e.g., CPUs 0, 2, 4)\n",
    "#process.cpu_affinity([5])\n",
    "\n",
    "# Print the current CPU affinity\n",
    "#print(f\"CPU Affinity: {process.cpu_affinity()}\")\n",
    "\n",
    "#test_auc(2, 1)"
   ]
  },
  {
   "cell_type": "code",
   "execution_count": 3,
   "metadata": {
    "scrolled": true
   },
   "outputs": [],
   "source": [
    "def test_auc(start_seed, iterations_amount):\n",
    "    iterations = iterations_amount\n",
    "    seed = start_seed\n",
    "    while iterations > 0:\n",
    "        x = datetime.datetime.now()\n",
    "        m = x.month\n",
    "        d = x.day\n",
    "        h = x.hour\n",
    "        mi = x.minute\n",
    "\n",
    "        for handler in logging.root.handlers[:]:\n",
    "            logging.root.removeHandler(handler)\n",
    "        # log debug to console\n",
    "        logging.basicConfig(level=logging.DEBUG, format='%(asctime)s:               %(message)s', datefmt='%H:%M:%S')\n",
    "        #logging.basicConfig(level=logging.WARNING, format='%(asctime)s:               %(message)s', datefmt='%H:%M:%S')\n",
    "        #logging.basicConfig(level=logging.INFO, format='%(asctime)s:               %(message)s', datefmt='%H:%M:%S')    \n",
    "        \n",
    "        configdict_mlca = OrderedDict([('SATS_domain_name','GSVM'),\n",
    "                            ('SATS_auction_instance_seed', seed),\n",
    "                            ('bidders',0),\n",
    "                            ('items',0),\n",
    "                            ('bidder_ids',0),\n",
    "                            ('Qinit', 30),\n",
    "                            ('Qmax', 50),#50\n",
    "                            ('Qround',0),\n",
    "                            ('Starter','mlca_extra'),\n",
    "                            ('epochs' , 512),#512\n",
    "                            ('batch_size' , 32),\n",
    "                            ('regularization_type' , 'l1_l2'),\n",
    "                            ('layer_N' , [10, 10]),\n",
    "                            ('layer_R' ,[32, 32] ),\n",
    "                            ('layer_L' , [16, 16]),\n",
    "                            ('device', device),\n",
    "                            ('NN_parameters', []),\n",
    "                            ('bigM',6000),\n",
    "                            ('warm_start',False),\n",
    "                            ('MIP_parameters',[]),\n",
    "                            ('scaler',None),\n",
    "                            ('init_bids_and_fitted_scaler',[None,None]),\n",
    "                            ('return_allocation',True),\n",
    "                            ('return_payments',True),\n",
    "                            ('lra',0.01),\n",
    "                            ('regularization',1e-5),\n",
    "                            ('calc_efficiency_per_iteration',True),\n",
    "                            ('active_learning_algorithm', 'fft'),\n",
    "                            ('presampled_n', 20),\n",
    "                            ('presampled_algorithm', 'unif')])\n",
    "\n",
    "        configdict_mlca = set_value_model_parameters(configdict_mlca)\n",
    "\n",
    "        res = mlca_mechanism(configdict = configdict_mlca)\n",
    "        seed += 1\n",
    "\n",
    "        if res == 'UNIQUENESS CHECK FAILED see logfile':\n",
    "            # add one more iteration to the loop\n",
    "            iterations += 1\n",
    "            #continue\n",
    "\n",
    "        iterations -= 1\n",
    "\n",
    "        dirname = './experiments/MLCA/Torch/results/' + configdict_mlca['SATS_domain_name'] +'_'+ configdict_mlca['active_learning_algorithm']\n",
    "        result_dir = './experiments/MLCA/Torch/results/' + configdict_mlca['SATS_domain_name'] +'_' + configdict_mlca['active_learning_algorithm'] +'/' +str(m)+'_'+str(d) + '_' + str(h) + '_' + str(mi) + '_' + str(configdict_mlca['SATS_auction_instance_seed'])\n",
    "        os.makedirs(dirname,exist_ok=True)\n",
    "        save_result(result_dir, res)"
   ]
  },
  {
   "cell_type": "code",
   "execution_count": null,
   "metadata": {},
   "outputs": [
    {
     "name": "stdout",
     "output_type": "stream",
     "text": [
      "/home/artem/ica/experiments/MLCA/Torch/results/GSVM_fft/8_23_12_13_-1 is loaded \n"
     ]
    }
   ],
   "source": [
    "results = load_result('/home/artem/ica/experiments/MLCA/Torch/results/GSVM_fft/8_23_12_13_-1')"
   ]
  },
  {
   "cell_type": "code",
   "execution_count": null,
   "metadata": {},
   "outputs": [
    {
     "data": {
      "text/plain": [
       "'UNIQUENESS CHECK FAILED see logfile'"
      ]
     },
     "execution_count": 8,
     "metadata": {},
     "output_type": "execute_result"
    }
   ],
   "source": [
    "# check if all vectors are unique in  results[0]['Elicited Bids']['Bidder_1'][0]\n",
    "results"
   ]
  }
 ],
 "metadata": {
  "kernelspec": {
   "display_name": "ica",
   "language": "python",
   "name": "python3"
  },
  "language_info": {
   "codemirror_mode": {
    "name": "ipython",
    "version": 3
   },
   "file_extension": ".py",
   "mimetype": "text/x-python",
   "name": "python",
   "nbconvert_exporter": "python",
   "pygments_lexer": "ipython3",
   "version": "3.6.13"
  }
 },
 "nbformat": 4,
 "nbformat_minor": 4
}
