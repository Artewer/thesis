{
 "cells": [
  {
   "cell_type": "code",
   "execution_count": 1,
   "metadata": {},
   "outputs": [],
   "source": [
    "%load_ext autoreload\n",
    "%autoreload 2"
   ]
  },
  {
   "cell_type": "code",
   "execution_count": 2,
   "metadata": {},
   "outputs": [
    {
     "name": "stdout",
     "output_type": "stream",
     "text": [
      "MLCA NN Class imported\n",
      "MLCA NN_MIP Class imported\n",
      "WDP Class imported\n",
      "MLCA_Economies imported\n",
      "MLCA function imported\n"
     ]
    }
   ],
   "source": [
    "# Libs\n",
    "import logging\n",
    "import pandas as pd\n",
    "from collections import OrderedDict\n",
    "import pickle\n",
    "import torch\n",
    "\n",
    "# Own Modules\n",
    "from source_torch.mlca.mlca import mlca_mechanism\n",
    "from source_torch.mlca.mlca_setup import set_value_model_parameters\n",
    "#from source.mlca.mlca import mlca_mechanism\n",
    "#from source.mlca.mlca_setup import set_value_model_parameters\n",
    "\n",
    "import datetime\n",
    "import os\n",
    "from source_torch.util import save_result, load_result\n",
    "import numpy as np"
   ]
  },
  {
   "cell_type": "code",
   "execution_count": 3,
   "metadata": {},
   "outputs": [
    {
     "name": "stdout",
     "output_type": "stream",
     "text": [
      "| ID | GPU | MEM |\n",
      "------------------\n",
      "|  0 |  0% |  0% |\n",
      "|  1 |  0% |  0% |\n",
      "|  2 |  0% |  0% |\n",
      "|  3 |  0% |  0% |\n",
      "|  4 |  0% |  0% |\n",
      "|  5 |  0% |  0% |\n",
      "|  6 |  0% |  0% |\n",
      "|  7 |  0% |  0% |\n"
     ]
    }
   ],
   "source": [
    "import GPUtil\n",
    "GPUtil.showUtilization()"
   ]
  },
  {
   "cell_type": "code",
   "execution_count": 4,
   "metadata": {},
   "outputs": [
    {
     "data": {
      "text/plain": [
       "True"
      ]
     },
     "execution_count": 4,
     "metadata": {},
     "output_type": "execute_result"
    }
   ],
   "source": [
    "torch.cuda.set_device(4)\n",
    "torch.cuda.is_available()\n",
    "# device = torch.device(\"cuda\" if torch.cuda.is_available() else \"cpu\")\n",
    "# device"
   ]
  },
  {
   "cell_type": "code",
   "execution_count": 5,
   "metadata": {
    "scrolled": true
   },
   "outputs": [
    {
     "name": "stderr",
     "output_type": "stream",
     "text": [
      "15:26:11:               START MLCA:\n",
      "15:26:11:               -----------------------------------------------\n",
      "15:26:11:               Model: GSVM\n",
      "15:26:11:               Seed SATS Instance: 0\n",
      "15:26:11:               Qinit: 30\n",
      "15:26:11:               Qmax: 50\n",
      "15:26:11:               Qround: 7\n",
      "\n",
      "15:26:11:               Instantiate SATS Instance\n"
     ]
    },
    {
     "name": "stdout",
     "output_type": "stream",
     "text": [
      "\n",
      "------------------------ SATS parameters ------------------------\n",
      "Value Model:  GSVM\n",
      "Number of Bidders:  7\n",
      "Number of BidderTypes:  2\n",
      "Number of Items:  18\n",
      "Scaler:  None\n",
      "\n",
      "------------------------ DNN  parameters ------------------------\n",
      "Epochs: 512\n",
      "Batch Size: 32\n",
      "Regularization: l1_l2\n",
      "\n",
      "Bidder_0:\n",
      "regularization: 1e-05\n",
      "learning_rate: 0.01\n",
      "architecture: [32, 32]\n",
      "dropout: True\n",
      "dropout_prob: 0.05\n",
      "epochs: 512\n",
      "batch_size: 32\n",
      "regularization_type: l1_l2\n",
      "\n",
      "Bidder_1:\n",
      "regularization: 1e-05\n",
      "learning_rate: 0.01\n",
      "architecture: [32, 32]\n",
      "dropout: True\n",
      "dropout_prob: 0.05\n",
      "epochs: 512\n",
      "batch_size: 32\n",
      "regularization_type: l1_l2\n",
      "\n",
      "Bidder_2:\n",
      "regularization: 1e-05\n",
      "learning_rate: 0.01\n",
      "architecture: [32, 32]\n",
      "dropout: True\n",
      "dropout_prob: 0.05\n",
      "epochs: 512\n",
      "batch_size: 32\n",
      "regularization_type: l1_l2\n",
      "\n",
      "Bidder_3:\n",
      "regularization: 1e-05\n",
      "learning_rate: 0.01\n",
      "architecture: [32, 32]\n",
      "dropout: True\n",
      "dropout_prob: 0.05\n",
      "epochs: 512\n",
      "batch_size: 32\n",
      "regularization_type: l1_l2\n",
      "\n",
      "Bidder_4:\n",
      "regularization: 1e-05\n",
      "learning_rate: 0.01\n",
      "architecture: [32, 32]\n",
      "dropout: True\n",
      "dropout_prob: 0.05\n",
      "epochs: 512\n",
      "batch_size: 32\n",
      "regularization_type: l1_l2\n",
      "\n",
      "Bidder_5:\n",
      "regularization: 1e-05\n",
      "learning_rate: 0.01\n",
      "architecture: [32, 32]\n",
      "dropout: True\n",
      "dropout_prob: 0.05\n",
      "epochs: 512\n",
      "batch_size: 32\n",
      "regularization_type: l1_l2\n",
      "\n",
      "Bidder_6:\n",
      "regularization: 1e-05\n",
      "learning_rate: 0.01\n",
      "architecture: [10, 10]\n",
      "dropout: True\n",
      "dropout_prob: 0.05\n",
      "epochs: 512\n",
      "batch_size: 32\n",
      "regularization_type: l1_l2\n",
      "\n",
      "------------------------ MIP  parameters ------------------------\n",
      "bigM: 6000\n",
      "mip_bounds_tightening: IA\n",
      "warm_start: False\n",
      "time_limit: 1800\n",
      "relative_gap: 0.001\n",
      "integrality_tol: 1e-08\n",
      "attempts_DNN_WDP: 10000\n",
      "\n",
      "------------------------ MLCA  parameters ------------------------\n",
      "Qinit: 30\n",
      "Qmax: 50\n",
      "Qround: 7\n",
      "Seed SATS Instance:  0\n"
     ]
    },
    {
     "name": "stderr",
     "output_type": "stream",
     "text": [
      "15:26:12:               Set NN parameters\n",
      "15:26:12:               Set MIP parameters\n",
      "15:26:12:               INITIALIZE BIDS\n",
      "15:26:12:               -----------------------------------------------\n",
      "\n",
      "15:26:12:               Set up intial Bids for: Bidder_0\n",
      "15:26:12:               Sampling uniformly at random 30 bundle-value pairs from bidder 0\n",
      "15:26:12:               Set up intial Bids for: Bidder_1\n",
      "15:26:12:               Sampling uniformly at random 30 bundle-value pairs from bidder 1\n",
      "15:26:12:               Set up intial Bids for: Bidder_2\n",
      "15:26:12:               Sampling uniformly at random 30 bundle-value pairs from bidder 2\n",
      "15:26:12:               Set up intial Bids for: Bidder_3\n",
      "15:26:12:               Sampling uniformly at random 30 bundle-value pairs from bidder 3\n",
      "15:26:12:               Set up intial Bids for: Bidder_4\n",
      "15:26:12:               Sampling uniformly at random 30 bundle-value pairs from bidder 4\n",
      "15:26:12:               Set up intial Bids for: Bidder_5\n",
      "15:26:12:               Sampling uniformly at random 30 bundle-value pairs from bidder 5\n",
      "15:26:12:               Set up intial Bids for: Bidder_6\n",
      "15:26:12:               Sampling uniformly at random 30 bundle-value pairs from bidder 6\n",
      "15:26:12:               \n",
      "15:26:12:               Calculate current efficiency:\n",
      "15:26:12:               Solving WDP based on elicited bids for bidder: ['Bidder_0', 'Bidder_1', 'Bidder_2', 'Bidder_3', 'Bidder_4', 'Bidder_5', 'Bidder_6']\n",
      "15:26:12:               Status  : integer optimal solution\n",
      "15:26:12:               Time    : 0 sec\n",
      "15:26:12:               Problem : MILP\n",
      "15:26:12:               Rel. Gap: 0.0 %\n",
      "15:26:12:               N. Iter : 10\n",
      "15:26:12:               Hit Lim.: False\n",
      "15:26:12:               Objective Value: 315.08711252546505\n",
      "15:26:13:               INFO\n",
      "15:26:13:               -----------------------------------------------\n",
      "15:26:13:               Seed Auction Instance: 0\n",
      "15:26:13:               Iteration of MLCA: 1\n",
      "15:26:13:               Number of Elicited Bids:\n",
      "15:26:13:               Bidder_0: 30\n",
      "15:26:13:               Bidder_1: 30\n",
      "15:26:13:               Bidder_2: 30\n",
      "15:26:13:               Bidder_3: 30\n",
      "15:26:13:               Bidder_4: 30\n",
      "15:26:13:               Bidder_5: 30\n",
      "15:26:13:               Bidder_6: 30\n",
      "15:26:13:               Qinit: 30 | Qround: 7 | Qmax: 50\n",
      "15:26:13:               Efficiency given elicited bids from iteration 0-0: 0.6808201106786792\n",
      "\n",
      "15:26:13:               Current query profile S=(S_1,...,S_n):\n",
      "15:26:13:               Bidder_0:  None\n",
      "15:26:13:               Bidder_1:  None\n",
      "15:26:13:               Bidder_2:  None\n",
      "15:26:13:               Bidder_3:  None\n",
      "15:26:13:               Bidder_4:  None\n",
      "15:26:13:               Bidder_5:  None\n",
      "15:26:13:               Bidder_6:  None\n",
      "15:26:13:               MARGINAL ECONOMIES FOR ALL BIDDERS\n",
      "15:26:13:               -----------------------------------------------\n",
      "\n",
      "15:26:13:               Bidder_0\n",
      "15:26:13:               -----------------------------------------------\n",
      "15:26:13:               Sampling marginals for Bidder_0\n",
      "15:26:13:               Calculate next queries for the following sampled marginals:\n",
      "15:26:13:               Marginal Economy -(1)\n",
      "15:26:13:               Marginal Economy -(2)\n",
      "15:26:13:               Marginal Economy -(3)\n",
      "15:26:13:               Marginal Economy -(4)\n",
      "15:26:13:               Marginal Economy -(5)\n",
      "15:26:13:               Marginal Economy -(6)\n",
      "15:26:13:               \n",
      "15:26:13:               Bidder_0 | Marginal Economy -(1)\n",
      "15:26:13:               -----------------------------------------------\n",
      "15:26:13:               Status of Economy: False\n",
      "\n",
      "15:26:13:               ESTIMATON STEP\n",
      "15:26:13:               -----------------------------------------------\n",
      "15:26:13:               Bidder_0\n",
      "15:26:13:               Neural Net initialized\n",
      "15:26:16:               Time for Bidder_0: 3 sec\n",
      "\n",
      "15:26:16:               Bidder_2\n",
      "15:26:16:               Neural Net initialized\n"
     ]
    }
   ],
   "source": [
    "mean_scores = 0\n",
    "#instance = list(range(120,150,10))\n",
    "\n",
    "for i in range(10):\n",
    "    x = datetime.datetime.now()\n",
    "    m = x.month\n",
    "    d = x.day\n",
    "    h = x.hour\n",
    "    mi = x.minute\n",
    "\n",
    "    for handler in logging.root.handlers[:]:\n",
    "        logging.root.removeHandler(handler)\n",
    "    # log debug to console\n",
    "    logging.basicConfig(level=logging.DEBUG, format='%(asctime)s:               %(message)s', datefmt='%H:%M:%S')\n",
    "#     logging.basicConfig(level=logging.WARNING, format='%(asctime)s:               %(message)s', datefmt='%H:%M:%S')\n",
    "#   logging.basicConfig(level=logging.INFO, format='%(asctime)s:               %(message)s', datefmt='%H:%M:%S')    \n",
    "    \n",
    "    configdict_mlca = OrderedDict([('SATS_domain_name','GSVM'),\n",
    "                        ('SATS_auction_instance_seed', i),\n",
    "                        ('bidders',0),\n",
    "                        ('items',0),\n",
    "                        ('bidder_ids',0),\n",
    "                        ('Qinit', 30),\n",
    "                        ('Qmax', 50),#50 for test\n",
    "                        ('Qround',0),\n",
    "                        ('Starter','mlca_extra'),\n",
    "                        ('epochs' , 512),\n",
    "                        ('batch_size' , 32),\n",
    "                        ('regularization_type' , 'l1_l2'),\n",
    "                        ('layer_N' , [10, 10]),\n",
    "                        ('layer_R' ,[32, 32] ),\n",
    "                        ('layer_L' , [16, 16]),\n",
    "                        ('NN_parameters',[]),\n",
    "                        ('bigM',6000),\n",
    "                        ('warm_start',False),\n",
    "                        ('MIP_parameters',[]),\n",
    "                        ('scaler',None),\n",
    "                        ('init_bids_and_fitted_scaler',[None,None]),\n",
    "                        ('return_allocation',True),\n",
    "                        ('return_payments',True),\n",
    "                        ('lra',0.01),\n",
    "                        ('regularization',1e-5),\n",
    "                        ('calc_efficiency_per_iteration',True),\n",
    "                        ('active_learning_algorithm', 'unif')])\n",
    "\n",
    "    configdict_mlca = set_value_model_parameters(configdict_mlca)\n",
    "\n",
    "    res = mlca_mechanism(configdict = configdict_mlca)\n",
    "    dirname = './experiments/MLCA/Torch/results/GSVM' +'_'+ configdict_mlca['active_learning_algorithm'] +'_'+str(m)+'_'+str(d) + '_' + str(h) + '_' + str(mi)\n",
    "    result_dir = './experiments/MLCA/Torch/results/GSVM' +'_' + configdict_mlca['active_learning_algorithm'] +'_' +str(m)+'_'+str(d) + '_' + str(h) + '_' + str(mi) + '/results'\n",
    "    os.makedirs(dirname,exist_ok=True)\n",
    "    save_result(result_dir, res)"
   ]
  },
  {
   "cell_type": "code",
   "execution_count": 6,
   "metadata": {},
   "outputs": [
    {
     "data": {
      "text/plain": [
       "'Result is saved as./experiments/MLCA/Torch/results/GSVM_unif_7_7_15_0/results'"
      ]
     },
     "execution_count": 6,
     "metadata": {},
     "output_type": "execute_result"
    }
   ],
   "source": [
    "# import numpy as np\n",
    "# np.mean(scores), np.std(scores)\n",
    "#print(res.keys())\n",
    "#len(res['Initial_Bundles']['Bidder_2'][0])\n",
    "# for bundles in res['Initial_Bundles']:\n",
    "#     print(bundles)\n",
    "\n",
    "#print(len(res['Elicited Bids']['Bidder_1'][0]))\n",
    "dirname = './experiments/MLCA/Torch/results/GSVM' +'_'+ configdict_mlca['active_learning_algorithm'] +'_'+str(m)+'_'+str(d) + '_' + str(h) + '_' + str(mi)\n",
    "result_dir = './experiments/MLCA/Torch/results/GSVM' +'_' + configdict_mlca['active_learning_algorithm'] +'_' +str(m)+'_'+str(d) + '_' + str(h) + '_' + str(mi) + '/results'\n",
    "os.makedirs(dirname,exist_ok=True)\n",
    "save_result(result_dir, stats)\n",
    "#save_result(result_dir, stats)"
   ]
  },
  {
   "cell_type": "code",
   "execution_count": 8,
   "metadata": {},
   "outputs": [
    {
     "data": {
      "text/plain": [
       "'Result is saved as./experiments/MLCA/Torch/results6_20_12_56'"
      ]
     },
     "execution_count": 8,
     "metadata": {},
     "output_type": "execute_result"
    }
   ],
   "source": [
    "save_result(dirname, stats)"
   ]
  },
  {
   "cell_type": "code",
   "execution_count": 8,
   "metadata": {},
   "outputs": [
    {
     "data": {
      "text/plain": [
       "OrderedDict([(0, 0.7134047345057994),\n",
       "             (1, 0.8406287355509882),\n",
       "             (2, 0.943061638279735)])"
      ]
     },
     "execution_count": 8,
     "metadata": {},
     "output_type": "execute_result"
    }
   ],
   "source": [
    "stats[0]['Statistics']['Efficiency per Iteration'] "
   ]
  },
  {
   "cell_type": "code",
   "execution_count": 25,
   "metadata": {},
   "outputs": [
    {
     "name": "stdout",
     "output_type": "stream",
     "text": [
      "./experiments/MLCA/Torch/results19_6_17_7 is loaded \n",
      "./experiments/MLCA/Torch/results6_20_12_56 is loaded \n",
      "./experiments/MLCA/Torch/results6_20_18_25 is loaded \n",
      "./experiments/MLCA/Torch/results6_20_19_51 is loaded \n"
     ]
    }
   ],
   "source": [
    "dirname_active_lsvm = './experiments/MLCA/Torch/results'+'19'+'_'+'6' + '_' + '17' + '_' + '7'\n",
    "dirname_active_mrvm = './experiments/MLCA/Torch/results'+'6'+'_'+'20' + '_' + '12' + '_' + '56'\n",
    "dirname_active_gsvm = './experiments/MLCA/Torch/results'+'6'+'_'+'20' + '_' + '18' + '_' + '25'\n",
    "dirname_unif_lsvm = './experiments/MLCA/Torch/results'+'6'+'_'+'20' + '_' + '19' + '_' + '51'\n",
    "loaded_res_1 = load_result(dirname_active_lsvm)\n",
    "loaded_res_2 = load_result(dirname_active_mrvm)\n",
    "loaded_res_3 = load_result(dirname_active_gsvm)\n",
    "loaded_res_4 = load_result(dirname_unif_lsvm)\n",
    "results_all = [loaded_res_1, loaded_res_2, loaded_res_3, loaded_res_4]"
   ]
  },
  {
   "cell_type": "code",
   "execution_count": 8,
   "metadata": {},
   "outputs": [
    {
     "ename": "NameError",
     "evalue": "name 'loaded_res_1' is not defined",
     "output_type": "error",
     "traceback": [
      "\u001b[0;31m---------------------------------------------------------------------------\u001b[0m",
      "\u001b[0;31mNameError\u001b[0m                                 Traceback (most recent call last)",
      "\u001b[0;32m<ipython-input-8-8bb5932c09e5>\u001b[0m in \u001b[0;36m<module>\u001b[0;34m\u001b[0m\n\u001b[0;32m----> 1\u001b[0;31m \u001b[0mloaded_res_1\u001b[0m\u001b[0;34m[\u001b[0m\u001b[0;36m0\u001b[0m\u001b[0;34m]\u001b[0m\u001b[0;34m\u001b[0m\u001b[0;34m\u001b[0m\u001b[0m\n\u001b[0m\u001b[1;32m      2\u001b[0m \u001b[0;31m#loaded_res[0]['MLCA Allocation']\u001b[0m\u001b[0;34m\u001b[0m\u001b[0;34m\u001b[0m\u001b[0;34m\u001b[0m\u001b[0m\n\u001b[1;32m      3\u001b[0m \u001b[0;31m# for res_l in loaded_res:\u001b[0m\u001b[0;34m\u001b[0m\u001b[0;34m\u001b[0m\u001b[0;34m\u001b[0m\u001b[0m\n\u001b[1;32m      4\u001b[0m \u001b[0;31m#     try:\u001b[0m\u001b[0;34m\u001b[0m\u001b[0;34m\u001b[0m\u001b[0;34m\u001b[0m\u001b[0m\n\u001b[1;32m      5\u001b[0m \u001b[0;31m#         print(res_l['MLCA Efficiency'])\u001b[0m\u001b[0;34m\u001b[0m\u001b[0;34m\u001b[0m\u001b[0;34m\u001b[0m\u001b[0m\n",
      "\u001b[0;31mNameError\u001b[0m: name 'loaded_res_1' is not defined"
     ]
    }
   ],
   "source": [
    "loaded_res_1[0]\n",
    "#loaded_res[0]['MLCA Allocation']\n",
    "# for res_l in loaded_res:\n",
    "#     try:\n",
    "#         print(res_l['MLCA Efficiency'])\n",
    "#     except:\n",
    "#         pass\n",
    "# loaded_res[0]['MLCA Efficiency']"
   ]
  },
  {
   "cell_type": "code",
   "execution_count": 32,
   "metadata": {},
   "outputs": [
    {
     "data": {
      "text/plain": [
       "OrderedDict([(0, 0.6880173599333909), (1, 0.8845542910694237)])"
      ]
     },
     "execution_count": 32,
     "metadata": {},
     "output_type": "execute_result"
    }
   ],
   "source": [
    "loaded_res[0]['Statistics']['Efficiency per Iteration']"
   ]
  },
  {
   "cell_type": "code",
   "execution_count": 20,
   "metadata": {},
   "outputs": [
    {
     "data": {
      "text/plain": [
       "OrderedDict([(0,\n",
       "              OrderedDict([('Bidder_0',\n",
       "                            {'good_ids': [0,\n",
       "                              1,\n",
       "                              2,\n",
       "                              3,\n",
       "                              4,\n",
       "                              6,\n",
       "                              7,\n",
       "                              8,\n",
       "                              10,\n",
       "                              11,\n",
       "                              12,\n",
       "                              13,\n",
       "                              14,\n",
       "                              15,\n",
       "                              16,\n",
       "                              17],\n",
       "                             'value': 392.0473444342457}),\n",
       "                           ('Bidder_1', {'good_ids': [], 'value': 0}),\n",
       "                           ('Bidder_2', {'good_ids': [], 'value': 0}),\n",
       "                           ('Bidder_3', {'good_ids': [], 'value': 0}),\n",
       "                           ('Bidder_4', {'good_ids': [], 'value': 0}),\n",
       "                           ('Bidder_5', {'good_ids': [], 'value': 0})])),\n",
       "             (1,\n",
       "              OrderedDict([('Bidder_0', {'good_ids': [], 'value': 0}),\n",
       "                           ('Bidder_1', {'good_ids': [], 'value': 0}),\n",
       "                           ('Bidder_2', {'good_ids': [], 'value': 0}),\n",
       "                           ('Bidder_3',\n",
       "                            {'good_ids': [2, 3, 4, 8, 9, 17],\n",
       "                             'value': 146.89721960144118}),\n",
       "                           ('Bidder_4',\n",
       "                            {'good_ids': [0, 1, 6, 7, 12, 13, 14],\n",
       "                             'value': 197.40095824774474}),\n",
       "                           ('Bidder_5',\n",
       "                            {'good_ids': [5, 10, 11, 15, 16],\n",
       "                             'value': 159.74020986716178})]))])"
      ]
     },
     "execution_count": 20,
     "metadata": {},
     "output_type": "execute_result"
    }
   ],
   "source": [
    "loaded_res[0]['Statistics']['Efficient allocation per Iteration']"
   ]
  },
  {
   "cell_type": "code",
   "execution_count": 27,
   "metadata": {},
   "outputs": [
    {
     "name": "stdout",
     "output_type": "stream",
     "text": [
      "0.8398288549098961 0.05182647459019574\n",
      "0.8031062808481103 0.040352068583338244\n",
      "0.9337057142031697 0.04263073235248043\n",
      "0.7507823537018439 0.07330770972253216\n"
     ]
    }
   ],
   "source": [
    "#LSVM\n",
    "#MRVM\n",
    "#GSVM\n",
    "for i_load in results_all:\n",
    "    mean_scores = []\n",
    "    for res_l in i_load:\n",
    "        try:\n",
    "            mean_scores.append(res_l['MLCA Efficiency'])\n",
    "            #print(res_l['MLCA Efficiency'])\n",
    "        except:\n",
    "            pass\n",
    "    print(np.mean(mean_scores), np.std(mean_scores))"
   ]
  }
 ],
 "metadata": {
  "kernelspec": {
   "display_name": "ica",
   "language": "python",
   "name": "python3"
  },
  "language_info": {
   "codemirror_mode": {
    "name": "ipython",
    "version": 3
   },
   "file_extension": ".py",
   "mimetype": "text/x-python",
   "name": "python",
   "nbconvert_exporter": "python",
   "pygments_lexer": "ipython3",
   "version": "3.6.13"
  }
 },
 "nbformat": 4,
 "nbformat_minor": 4
}
