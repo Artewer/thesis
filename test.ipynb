{
 "cells": [
  {
   "cell_type": "code",
   "execution_count": 1,
   "metadata": {},
   "outputs": [],
   "source": [
    "from docplex.mp.model import Model"
   ]
  },
  {
   "cell_type": "code",
   "execution_count": 3,
   "metadata": {},
   "outputs": [
    {
     "data": {
      "text/plain": [
       "docplex.mp.solution.SolveSolution(obj=34,values={p_0:0.8,p_1:0.2,r:34})"
      ]
     },
     "execution_count": 3,
     "metadata": {},
     "output_type": "execute_result"
    }
   ],
   "source": [
    "m = Model(name='test')\n",
    "p = m.continuous_var_list(keys=range(2),name='p')\n",
    "r = m.continuous_var(name='r')\n",
    "m.add_constraint(30*p[0] + 50*p[1] >= r)\n",
    "m.add_constraint(40*p[0] + 10*p[1] >= r)\n",
    "m.add_constraint(p[0] + p[1] == 1)\n",
    "m.add_constraint(p[0] >= 0)\n",
    "m.add_constraint(p[1] >= 0)\n",
    "m.maximize(r)\n",
    "sol = m.solve()\n",
    "sol"
   ]
  }
 ],
 "metadata": {
  "kernelspec": {
   "display_name": "ica_new",
   "language": "python",
   "name": "python3"
  },
  "language_info": {
   "codemirror_mode": {
    "name": "ipython",
    "version": 3
   },
   "file_extension": ".py",
   "mimetype": "text/x-python",
   "name": "python",
   "nbconvert_exporter": "python",
   "pygments_lexer": "ipython3",
   "version": "3.6.13"
  },
  "orig_nbformat": 4
 },
 "nbformat": 4,
 "nbformat_minor": 2
}
