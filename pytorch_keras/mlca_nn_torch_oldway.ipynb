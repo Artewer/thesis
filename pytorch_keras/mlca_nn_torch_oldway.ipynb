{
 "cells": [
  {
   "cell_type": "code",
   "execution_count": 10,
   "metadata": {},
   "outputs": [],
   "source": [
    "import numpy as np\n",
    "import logging\n",
    "import matplotlib.pyplot as plt\n",
    "from tensorflow.keras import models,layers,regularizers,optimizers\n"
   ]
  },
  {
   "cell_type": "code",
   "execution_count": 11,
   "metadata": {},
   "outputs": [],
   "source": [
    "import torch.nn as nn\n",
    "import torch\n",
    "import torch.optim as optim\n",
    "import numpy as np\n",
    "import logging\n",
    "import matplotlib.pyplot as plt\n",
    "from collections import OrderedDict"
   ]
  },
  {
   "cell_type": "code",
   "execution_count": 12,
   "metadata": {},
   "outputs": [],
   "source": [
    "\n",
    "epochs, batch_size = 10, 4\n",
    "X_valid=None\n",
    "Y_valid=None\n",
    "nq = 123\n",
    "X_train = np.float32(np.random.randn(nq,18) > .5)\n",
    "Y_train = np.random.rand(nq,1) * 70\n"
   ]
  },
  {
   "cell_type": "code",
   "execution_count": 4,
   "metadata": {},
   "outputs": [
    {
     "data": {
      "text/plain": [
       "tensor(3.7500)"
      ]
     },
     "execution_count": 4,
     "metadata": {},
     "output_type": "execute_result"
    }
   ],
   "source": [
    "criterion = nn.L1Loss(reduction='mean')\n",
    "x ,y = torch.FloatTensor([[1,5],[2,5]]), torch.FloatTensor([[8,2],[5,3]])\n",
    "\n",
    "criterion(x, y)"
   ]
  },
  {
   "cell_type": "code",
   "execution_count": 5,
   "metadata": {},
   "outputs": [
    {
     "data": {
      "text/plain": [
       "tensor(3.7500)"
      ]
     },
     "execution_count": 5,
     "metadata": {},
     "output_type": "execute_result"
    }
   ],
   "source": [
    "torch.abs(x - y).mean()"
   ]
  },
  {
   "cell_type": "code",
   "execution_count": 64,
   "metadata": {},
   "outputs": [
    {
     "data": {
      "text/plain": [
       "1.4142135623730951"
      ]
     },
     "execution_count": 64,
     "metadata": {},
     "output_type": "execute_result"
    }
   ],
   "source": [
    "nn.init.calculate_gain('relu')"
   ]
  },
  {
   "cell_type": "code",
   "execution_count": 101,
   "metadata": {},
   "outputs": [],
   "source": [
    "class MLCA_NN_torch:\n",
    "\n",
    "    def __init__(self, X_train, Y_train, scaler=None):\n",
    "        self.M = X_train.shape[1]  # number of items\n",
    "        self.X_train = X_train  # training set of bundles\n",
    "        self.Y_train = Y_train  # bidder's values for the bundels in X_train\n",
    "        self.X_valid = None   # test/validation set of bundles\n",
    "        self.Y_valid = None  # bidder's values for the bundels in X_valid\n",
    "        self.model_parameters = None  # neural network parameters\n",
    "        self.model = None  # keras model, i.e., the neural network\n",
    "        self.scaler = scaler  # the scaler used for initially scaling the Y_train values\n",
    "        self.history = None  # return value of the model.fit() method from keras\n",
    "        self.loss = None  # return value of the model.fit() method from keras\n",
    "        self.device = torch.device('cpu')\n",
    "\n",
    "    def initialize_model(self, model_parameters):\n",
    "        self.model_parameters = model_parameters\n",
    "        # model parameters is a tuple:(r=regularization_parameters,lr=learning rate for ADAM, dim=number and dimension of hidden layers, dropout=boolean if dropout is used in trainig, dp=dropout rate,epochs=epochs, batch_size=batch_size, regularization_type=regularization_type)\n",
    "        lr = self.model_parameters['learning_rate']\n",
    "        architecture = self.model_parameters['architecture']\n",
    "        dropout = self.model_parameters['dropout']\n",
    "        dp = self.model_parameters['dropout_prob']\n",
    "\n",
    "        architecture = [int(layer) for layer in architecture]  # integer check\n",
    "        number_of_hidden_layers = len(architecture)\n",
    "        dropout = bool(dropout)\n",
    "        # -------------------------------------------------- NN Architecture -------------------------------------------------#\n",
    "        # GET MODEL HERE\n",
    "        # first hidden layer\n",
    "        model = nn.Sequential()\n",
    "        model.add_module('dense_0',nn.Linear(self.M, architecture[0])) \n",
    "        model.add_module('relu_0',nn.ReLU())\n",
    "        if dropout is True: \n",
    "            model.add_module(\"dropout_0\", nn.Dropout(p=dp))\n",
    "\n",
    "        # remaining hidden layer\n",
    "        for k in range(1, number_of_hidden_layers):\n",
    "            model.add_module(f\"dense_{k}\", nn.Linear(architecture[k-1], architecture[k]))\n",
    "            model.add_module(f\"relu_{k}\", nn.ReLU())\n",
    "            if dropout is True:\n",
    "                model.add_module(f\"dropout{k}\", nn.Dropout(p=dp))\n",
    "        # final output layer\n",
    "        model.add_module(f\"dense_{k+1}_last\", nn.Linear(architecture[k], 1))\n",
    "        model.add_module(f\"relu_{k+1}_last\", nn.ReLU())        \n",
    "        \n",
    "        for m in model.modules():\n",
    "            if type(m) == nn.Linear:\n",
    "                nn.init.xavier_uniform_(m.weight, gain=nn.init.calculate_gain('relu'))\n",
    "#                 nn.init.kaiming_uniform_(m.weight)\n",
    "                m.bias.data.fill_(0.0)        \n",
    "\n",
    "        self.model = model\n",
    "        \n",
    "        # ADAM = adaptive moment estimation a first-order gradient-based optimization algorithm\n",
    "        self.optimizer = optim.Adam(self.model.parameters(),lr=lr, betas=(0.9, 0.999), \n",
    "                                    weight_decay=0.0, amsgrad=False)\n",
    "        self.criterion = nn.L1Loss(reduction='mean')\n",
    "        logging.debug('Neural Net initialized')\n",
    "\n",
    "        \n",
    "    def __get_reg_loss(self):\n",
    "        regularization_type = self.model_parameters['regularization_type']\n",
    "        r = self.model_parameters['regularization']\n",
    "        w1, w2 = 0,0\n",
    "        # set regularization\n",
    "        if regularization_type == 'l2' or regularization_type is None:\n",
    "            w2 = r\n",
    "        if regularization_type == 'l1':\n",
    "            w1 = r\n",
    "        if regularization_type == 'l1_l2':\n",
    "            w1,w2 = r, r\n",
    "        \n",
    "        l1_regularization, l2_regularization = torch.FloatTensor([0]), torch.FloatTensor([0])\n",
    "                \n",
    "        for name, param in self.model.named_parameters():\n",
    "            if 'last' in name: continue\n",
    "            l1_regularization += torch.sum( torch.abs(param) )\n",
    "            l2_regularization += torch.sum( torch.square(param) )\n",
    "        \n",
    "        return w1*l1_regularization + w2*l2_regularization\n",
    "\n",
    "        \n",
    "    def fit(self, epochs, batch_size, X_valid=None, Y_valid=None):\n",
    "        # set test set if desired\n",
    "        self.X_valid = X_valid\n",
    "        self.Y_valid = Y_valid\n",
    "\n",
    "        size = self.X_train.shape[0]\n",
    "        N_iter = size//batch_size + int(bool(size%batch_size))\n",
    "        \n",
    "\n",
    "        X = torch.FloatTensor(self.X_train).to(self.device)\n",
    "        Y = torch.FloatTensor(self.Y_train).to(self.device)\n",
    "        self.model.to(self.device)\n",
    "\n",
    "        self.epoch_losses = {'train':[], 'val':[] ,'reg':[]}\n",
    "\n",
    "        for n in range(epochs):\n",
    "\n",
    "            self.model.train()\n",
    "            losses = {'train':[], 'val':[] ,'reg':[]}\n",
    "            nsamples = 0\n",
    "            indices = np.arange(len(X)) \n",
    "            np.random.shuffle(indices)\n",
    "\n",
    "            for i in range(N_iter):\n",
    "                x = X[indices[i*batch_size: (i+1)*batch_size]]\n",
    "                y = Y[indices[i*batch_size: (i+1)*batch_size]]\n",
    "                nsamples += len(x)\n",
    "                self.optimizer.zero_grad()\n",
    "                # Compute prediction and loss\n",
    "                pred = self.model(x)\n",
    "                mse_loss = self.criterion(pred, y)\n",
    "                reg_loss = self.__get_reg_loss()\n",
    "                loss = mse_loss + reg_loss\n",
    "                \n",
    "                # Backpropagation\n",
    "                loss.backward()\n",
    "                self.optimizer.step()\n",
    "                losses['train'].append(loss.item())\n",
    "                losses['reg'].append(reg_loss.item())\n",
    "\n",
    "            self.epoch_losses['train'].append(np.mean(losses['train']))\n",
    "            self.epoch_losses['reg'].append(np.mean(losses['reg'])/self.model_parameters['regularization'])\n",
    "\n",
    "            if (self.X_valid is not None) and (self.Y_valid is not None):\n",
    "                self.model.eval()\n",
    "                Xval = torch.FloatTensor(self.X_valid).to(self.device)\n",
    "                Yval = torch.FloatTensor(self.Y_valid).to(self.device)\n",
    "\n",
    "                size_val = self.X_valid.shape[0]\n",
    "                N_iter_val = size_val//batch_size + int(bool(size_val%batch_size))\n",
    "\n",
    "                with torch.no_grad():\n",
    "                    for i in range(N_iter_val):\n",
    "                        x = Xval[i*batch_size: (i+1)*batch_size]\n",
    "                        y = Yval[i*batch_size: (i+1)*batch_size]\n",
    "                        pred = self.model(x)\n",
    "                        mse_loss = self.criterion(pred, y)\n",
    "                        reg_loss = self.__get_reg_loss()\n",
    "                        loss = mse_loss + reg_loss\n",
    "                        losses['val'].append(loss.item())\n",
    "                        \n",
    "\n",
    "                self.epoch_losses['val'].append(np.mean(losses['val']))\n",
    "            \n",
    "            self.epoch_losses['val'].append(indices)\n",
    "\n",
    "            \n",
    "#             loss = self.loss_info(batch_size, plot=False)\n",
    "#         return (loss)\n",
    "        tr, val = None, None\n",
    "        tr_orig, val_orig = self.epoch_losses['train'][-1], self.epoch_losses['val']\n",
    "#         return ((tr, val, tr_orig, val_orig))\n",
    "        return  self.epoch_losses['train']\n",
    "\n"
   ]
  },
  {
   "cell_type": "code",
   "execution_count": 106,
   "metadata": {},
   "outputs": [],
   "source": [
    "regularization_N = 1e-2\n",
    "learning_rate_N = 0.01\n",
    "layer_N = [16,160,16]\n",
    "dropout_N = True\n",
    "dropout_prob_N = 0.05\n",
    "epochs, batch_size = 30, 4\n",
    "regularization_type = 'l1_l2'\n",
    "\n",
    "model_parameters =  OrderedDict([('regularization', regularization_N),\n",
    "                                ('learning_rate', learning_rate_N),\n",
    "                                ('architecture', layer_N),\n",
    "                                ('dropout', dropout_N),\n",
    "                                ('dropout_prob', dropout_prob_N),\n",
    "                                ('epochs', epochs),\n",
    "                                ('batch_size', batch_size),\n",
    "                                ('regularization_type',\n",
    "                                 regularization_type)])\n",
    "\n",
    "\n",
    "mlca_nn = MLCA_NN_torch(X_train, Y_train)\n",
    "mlca_nn.initialize_model(model_parameters)"
   ]
  },
  {
   "cell_type": "code",
   "execution_count": 107,
   "metadata": {},
   "outputs": [],
   "source": [
    "losses = mlca_nn.fit(epochs=epochs, batch_size=batch_size)"
   ]
  },
  {
   "cell_type": "code",
   "execution_count": 108,
   "metadata": {},
   "outputs": [
    {
     "data": {
      "text/plain": [
       "<matplotlib.legend.Legend at 0x7fcb30037208>"
      ]
     },
     "execution_count": 108,
     "metadata": {},
     "output_type": "execute_result"
    },
    {
     "data": {
      "image/png": "[encoded data removed]",
      "text/plain": [
       "<Figure size 432x288 with 1 Axes>"
      ]
     },
     "metadata": {
      "needs_background": "light"
     },
     "output_type": "display_data"
    }
   ],
   "source": [
    "plt.plot(mlca_nn.epoch_losses['reg'],label='reg')\n",
    "plt.plot(mlca_nn.epoch_losses['train'] , label='train')\n",
    "plt.legend()"
   ]
  },
  {
   "cell_type": "code",
   "execution_count": 50,
   "metadata": {},
   "outputs": [
    {
     "name": "stdout",
     "output_type": "stream",
     "text": [
      "(16, 18) (16,)\n",
      "(16, 16) (16,)\n",
      "(16, 16) (16,)\n",
      "(1, 16) (1,)\n"
     ]
    }
   ],
   "source": [
    "W = []\n",
    "B = []\n",
    "for m in mlca_nn.model.modules():\n",
    "    if type(m) == nn.Linear:\n",
    "        W.append(m.weight.data.numpy())\n",
    "        B.append(m.bias.data.numpy())        \n",
    "        print(W[-1].shape, B[-1].shape)"
   ]
  },
  {
   "cell_type": "code",
   "execution_count": 51,
   "metadata": {},
   "outputs": [
    {
     "data": {
      "image/png": "[encoded data removed]",
      "text/plain": [
       "<Figure size 432x288 with 2 Axes>"
      ]
     },
     "metadata": {
      "needs_background": "light"
     },
     "output_type": "display_data"
    },
    {
     "data": {
      "image/png": "[encoded data removed]",
      "text/plain": [
       "<Figure size 432x288 with 2 Axes>"
      ]
     },
     "metadata": {
      "needs_background": "light"
     },
     "output_type": "display_data"
    },
    {
     "data": {
      "image/png": "[encoded data removed]",
      "text/plain": [
       "<Figure size 432x288 with 2 Axes>"
      ]
     },
     "metadata": {
      "needs_background": "light"
     },
     "output_type": "display_data"
    },
    {
     "data": {
      "image/png": "[encoded data removed]",
      "text/plain": [
       "<Figure size 432x288 with 2 Axes>"
      ]
     },
     "metadata": {
      "needs_background": "light"
     },
     "output_type": "display_data"
    }
   ],
   "source": [
    "# DEFAULT TORCH\n",
    "for i in range(len(W)):\n",
    "    fig, axes = plt.subplots(1,2)\n",
    "    axes[0].hist(W[i].reshape(-1), bins=np.arange(-1,1,0.1))\n",
    "    axes[1].hist(B[i].reshape(-1), bins=np.arange(-1,1,0.1))"
   ]
  },
  {
   "cell_type": "code",
   "execution_count": 100,
   "metadata": {},
   "outputs": [
    {
     "name": "stdout",
     "output_type": "stream",
     "text": [
      "(16, 18) (16,) 0.5737327\n",
      "(160, 16) (160,) 0.61186445\n",
      "(16, 160) (16,) 0.19363551\n",
      "(1, 16) (1,) 0.5710938\n"
     ]
    },
    {
     "data": {
      "image/png": "[encoded data removed]",
      "text/plain": [
       "<Figure size 432x288 with 2 Axes>"
      ]
     },
     "metadata": {
      "needs_background": "light"
     },
     "output_type": "display_data"
    },
    {
     "data": {
      "image/png": "[encoded data removed]",
      "text/plain": [
       "<Figure size 432x288 with 2 Axes>"
      ]
     },
     "metadata": {
      "needs_background": "light"
     },
     "output_type": "display_data"
    },
    {
     "data": {
      "image/png": "[encoded data removed]",
      "text/plain": [
       "<Figure size 432x288 with 2 Axes>"
      ]
     },
     "metadata": {
      "needs_background": "light"
     },
     "output_type": "display_data"
    },
    {
     "data": {
      "image/png": "[encoded data removed]",
      "text/plain": [
       "<Figure size 432x288 with 2 Axes>"
      ]
     },
     "metadata": {
      "needs_background": "light"
     },
     "output_type": "display_data"
    }
   ],
   "source": [
    "W = []\n",
    "B = []\n",
    "for m in mlca_nn.model.modules():\n",
    "    if type(m) == nn.Linear:\n",
    "        W.append(m.weight.data.numpy())\n",
    "        B.append(m.bias.data.numpy())        \n",
    "        print(W[-1].shape, B[-1].shape, np.max(W[-1]))\n",
    "# MODIFIED TORCH KAIMING\n",
    "for i in range(len(W)):\n",
    "    fig, axes = plt.subplots(1,2)\n",
    "    axes[0].hist(W[i].reshape(-1), bins=np.arange(-1,1,0.1))\n",
    "    axes[1].hist(B[i].reshape(-1), bins=np.arange(-1,1,0.1))"
   ]
  },
  {
   "cell_type": "code",
   "execution_count": 103,
   "metadata": {},
   "outputs": [
    {
     "name": "stdout",
     "output_type": "stream",
     "text": [
      "(16, 18) (16,) 0.5909972\n",
      "(160, 16) (160,) 0.2607285\n",
      "(16, 160) (16,) 0.2610846\n",
      "(1, 16) (1,) 0.81751794\n"
     ]
    },
    {
     "data": {
      "image/png": "[encoded data removed]",
      "text/plain": [
       "<Figure size 432x288 with 2 Axes>"
      ]
     },
     "metadata": {
      "needs_background": "light"
     },
     "output_type": "display_data"
    },
    {
     "data": {
      "image/png": "[encoded data removed]",
      "text/plain": [
       "<Figure size 432x288 with 2 Axes>"
      ]
     },
     "metadata": {
      "needs_background": "light"
     },
     "output_type": "display_data"
    },
    {
     "data": {
      "image/png": "[encoded data removed]",
      "text/plain": [
       "<Figure size 432x288 with 2 Axes>"
      ]
     },
     "metadata": {
      "needs_background": "light"
     },
     "output_type": "display_data"
    },
    {
     "data": {
      "image/png": "[encoded data removed]",
      "text/plain": [
       "<Figure size 432x288 with 2 Axes>"
      ]
     },
     "metadata": {
      "needs_background": "light"
     },
     "output_type": "display_data"
    }
   ],
   "source": [
    "W = []\n",
    "B = []\n",
    "for m in mlca_nn.model.modules():\n",
    "    if type(m) == nn.Linear:\n",
    "        W.append(m.weight.data.numpy())\n",
    "        B.append(m.bias.data.numpy())        \n",
    "        print(W[-1].shape, B[-1].shape, np.max(W[-1]))\n",
    "# MODIFIED TORCH XAVIER\n",
    "for i in range(len(W)):\n",
    "    fig, axes = plt.subplots(1,2)\n",
    "    axes[0].hist(W[i].reshape(-1), bins=np.arange(-1,1,0.1))\n",
    "    axes[1].hist(B[i].reshape(-1), bins=np.arange(-1,1,0.1))"
   ]
  },
  {
   "cell_type": "code",
   "execution_count": 105,
   "metadata": {},
   "outputs": [
    {
     "name": "stdout",
     "output_type": "stream",
     "text": [
      "(16, 18) (16,) 1.0939623\n",
      "(160, 16) (160,) 1.062652\n",
      "(16, 160) (16,) 0.99504876\n",
      "(1, 16) (1,) 0.8076952\n"
     ]
    },
    {
     "data": {
      "image/png": "[encoded data removed]",
      "text/plain": [
       "<Figure size 432x288 with 2 Axes>"
      ]
     },
     "metadata": {
      "needs_background": "light"
     },
     "output_type": "display_data"
    },
    {
     "data": {
      "image/png": "[encoded data removed]",
      "text/plain": [
       "<Figure size 432x288 with 2 Axes>"
      ]
     },
     "metadata": {
      "needs_background": "light"
     },
     "output_type": "display_data"
    },
    {
     "data": {
      "image/png": "[encoded data removed]",
      "text/plain": [
       "<Figure size 432x288 with 2 Axes>"
      ]
     },
     "metadata": {
      "needs_background": "light"
     },
     "output_type": "display_data"
    },
    {
     "data": {
      "image/png": "[encoded data removed]",
      "text/plain": [
       "<Figure size 432x288 with 2 Axes>"
      ]
     },
     "metadata": {
      "needs_background": "light"
     },
     "output_type": "display_data"
    }
   ],
   "source": [
    "W = []\n",
    "B = []\n",
    "for m in mlca_nn.model.modules():\n",
    "    if type(m) == nn.Linear:\n",
    "        W.append(m.weight.data.numpy())\n",
    "        B.append(m.bias.data.numpy())        \n",
    "        print(W[-1].shape, B[-1].shape, np.max(W[-1]))\n",
    "# MODIFIED TORCH XAVIER - AFTER TRAIN\n",
    "for i in range(len(W)):\n",
    "    fig, axes = plt.subplots(1,2)\n",
    "    axes[0].hist(W[i].reshape(-1), bins=np.arange(-1,1,0.1))\n",
    "    axes[1].hist(B[i].reshape(-1), bins=np.arange(-1,1,0.1))"
   ]
  },
  {
   "cell_type": "code",
   "execution_count": 109,
   "metadata": {},
   "outputs": [
    {
     "name": "stdout",
     "output_type": "stream",
     "text": [
      "(16, 18) (16,) 0.77249604\n",
      "(160, 16) (160,) 0.9731601\n",
      "(16, 160) (16,) 0.69274026\n",
      "(1, 16) (1,) 1.1065694\n"
     ]
    },
    {
     "data": {
      "image/png": "[encoded data removed]",
      "text/plain": [
       "<Figure size 432x288 with 2 Axes>"
      ]
     },
     "metadata": {
      "needs_background": "light"
     },
     "output_type": "display_data"
    },
    {
     "data": {
      "image/png": "[encoded data removed]",
      "text/plain": [
       "<Figure size 432x288 with 2 Axes>"
      ]
     },
     "metadata": {
      "needs_background": "light"
     },
     "output_type": "display_data"
    },
    {
     "data": {
      "image/png": "[encoded data removed]",
      "text/plain": [
       "<Figure size 432x288 with 2 Axes>"
      ]
     },
     "metadata": {
      "needs_background": "light"
     },
     "output_type": "display_data"
    },
    {
     "data": {
      "image/png": "[encoded data removed]",
      "text/plain": [
       "<Figure size 432x288 with 2 Axes>"
      ]
     },
     "metadata": {
      "needs_background": "light"
     },
     "output_type": "display_data"
    }
   ],
   "source": [
    "W = []\n",
    "B = []\n",
    "for m in mlca_nn.model.modules():\n",
    "    if type(m) == nn.Linear:\n",
    "        W.append(m.weight.data.numpy())\n",
    "        B.append(m.bias.data.numpy())        \n",
    "        print(W[-1].shape, B[-1].shape, np.max(W[-1]))\n",
    "# MODIFIED TORCH XAVIER - AFTER TRAIN\n",
    "for i in range(len(W)):\n",
    "    fig, axes = plt.subplots(1,2)\n",
    "    axes[0].hist(W[i].reshape(-1), bins=np.arange(-1,1,0.1))\n",
    "    axes[1].hist(B[i].reshape(-1), bins=np.arange(-1,1,0.1))"
   ]
  },
  {
   "cell_type": "code",
   "execution_count": null,
   "metadata": {},
   "outputs": [],
   "source": []
  },
  {
   "cell_type": "code",
   "execution_count": 99,
   "metadata": {},
   "outputs": [
    {
     "name": "stdout",
     "output_type": "stream",
     "text": [
      "(18, 16) 0.41732666\n",
      "(16,) 0.0\n",
      "(16, 160) 0.18455224\n",
      "(160,) 0.0\n",
      "(160, 16) 0.18430962\n",
      "(16,) 0.0\n",
      "(16, 1) 0.57975733\n",
      "(1,) 0.0\n"
     ]
    },
    {
     "data": {
      "image/png": "[encoded data removed]",
      "text/plain": [
       "<Figure size 432x288 with 2 Axes>"
      ]
     },
     "metadata": {
      "needs_background": "light"
     },
     "output_type": "display_data"
    },
    {
     "data": {
      "image/png": "[encoded data removed]",
      "text/plain": [
       "<Figure size 432x288 with 2 Axes>"
      ]
     },
     "metadata": {
      "needs_background": "light"
     },
     "output_type": "display_data"
    },
    {
     "data": {
      "image/png": "[encoded data removed]",
      "text/plain": [
       "<Figure size 432x288 with 2 Axes>"
      ]
     },
     "metadata": {
      "needs_background": "light"
     },
     "output_type": "display_data"
    },
    {
     "data": {
      "image/png": "[encoded data removed]",
      "text/plain": [
       "<Figure size 432x288 with 2 Axes>"
      ]
     },
     "metadata": {
      "needs_background": "light"
     },
     "output_type": "display_data"
    }
   ],
   "source": [
    "# DEFAULT KERAS\n",
    "W = []\n",
    "B = []\n",
    "for i,w in enumerate(model.get_weights()):\n",
    "    if i%2==0:\n",
    "        W.append(w)\n",
    "        \n",
    "    else:\n",
    "        B.append(w)\n",
    "    print(w.shape, np.max(w))\n",
    "    \n",
    "for i in range(len(W)):\n",
    "    fig, axes = plt.subplots(1,2)\n",
    "    axes[0].hist(W[i].reshape(-1), bins=np.arange(-1,1,0.1))\n",
    "    axes[1].hist(B[i].reshape(-1), bins=np.arange(-1,1,0.1))"
   ]
  },
  {
   "cell_type": "code",
   "execution_count": 114,
   "metadata": {},
   "outputs": [
    {
     "name": "stdout",
     "output_type": "stream",
     "text": [
      "(18, 16) 0.95537615\n",
      "(16,) 0.4385924\n",
      "(16, 160) 0.86573374\n",
      "(160,) 0.41771135\n",
      "(160, 16) 0.6338696\n",
      "(16,) 0.5013605\n",
      "(16, 1) 0.9123951\n",
      "(1,) 0.8693749\n"
     ]
    },
    {
     "data": {
      "image/png": "[encoded data removed]",
      "text/plain": [
       "<Figure size 432x288 with 2 Axes>"
      ]
     },
     "metadata": {
      "needs_background": "light"
     },
     "output_type": "display_data"
    },
    {
     "data": {
      "image/png": "[encoded data removed]",
      "text/plain": [
       "<Figure size 432x288 with 2 Axes>"
      ]
     },
     "metadata": {
      "needs_background": "light"
     },
     "output_type": "display_data"
    },
    {
     "data": {
      "image/png": "[encoded data removed]",
      "text/plain": [
       "<Figure size 432x288 with 2 Axes>"
      ]
     },
     "metadata": {
      "needs_background": "light"
     },
     "output_type": "display_data"
    },
    {
     "data": {
      "image/png": "[encoded data removed]",
      "text/plain": [
       "<Figure size 432x288 with 2 Axes>"
      ]
     },
     "metadata": {
      "needs_background": "light"
     },
     "output_type": "display_data"
    }
   ],
   "source": [
    "# DEFAULT KERAS - AFTER TRAIN\n",
    "W = []\n",
    "B = []\n",
    "for i,w in enumerate(model.get_weights()):\n",
    "    if i%2==0:\n",
    "        W.append(w)\n",
    "        \n",
    "    else:\n",
    "        B.append(w)\n",
    "    print(w.shape, np.max(w))\n",
    "    \n",
    "for i in range(len(W)):\n",
    "    fig, axes = plt.subplots(1,2)\n",
    "    axes[0].hist(W[i].reshape(-1), bins=np.arange(-1,1,0.1))\n",
    "    axes[1].hist(B[i].reshape(-1), bins=np.arange(-1,1,0.1))"
   ]
  },
  {
   "cell_type": "code",
   "execution_count": null,
   "metadata": {},
   "outputs": [],
   "source": []
  },
  {
   "cell_type": "code",
   "execution_count": 33,
   "metadata": {},
   "outputs": [
    {
     "name": "stdout",
     "output_type": "stream",
     "text": [
      "0 Sequential(\n",
      "  (dense_0): Linear(in_features=18, out_features=16, bias=True)\n",
      "  (relu_0): ReLU()\n",
      "  (dropout_0): Dropout(p=0.05, inplace=False)\n",
      "  (dense_1): Linear(in_features=16, out_features=16, bias=True)\n",
      "  (relu_1): ReLU()\n",
      "  (dropout1): Dropout(p=0.05, inplace=False)\n",
      "  (dense_2): Linear(in_features=16, out_features=16, bias=True)\n",
      "  (relu_2): ReLU()\n",
      "  (dropout2): Dropout(p=0.05, inplace=False)\n",
      "  (dense_3_last): Linear(in_features=16, out_features=1, bias=True)\n",
      "  (relu_3_last): ReLU()\n",
      ")\n",
      "1 Linear(in_features=18, out_features=16, bias=True)\n",
      "2 ReLU()\n",
      "3 Dropout(p=0.05, inplace=False)\n",
      "4 Linear(in_features=16, out_features=16, bias=True)\n",
      "5 ReLU()\n",
      "6 Dropout(p=0.05, inplace=False)\n",
      "7 Linear(in_features=16, out_features=16, bias=True)\n",
      "8 ReLU()\n",
      "9 Dropout(p=0.05, inplace=False)\n",
      "10 Linear(in_features=16, out_features=1, bias=True)\n",
      "11 ReLU()\n"
     ]
    }
   ],
   "source": [
    "for i,m in enumerate(nnmodel.modules()):\n",
    "    print(i,m)\n",
    "    "
   ]
  },
  {
   "cell_type": "code",
   "execution_count": 23,
   "metadata": {},
   "outputs": [
    {
     "data": {
      "text/plain": [
       "Sequential(\n",
       "  (dense_0): Linear(in_features=18, out_features=16, bias=True)\n",
       "  (relu_0): ReLU()\n",
       "  (dropout_0): Dropout(p=0.05, inplace=False)\n",
       "  (dense_1): Linear(in_features=16, out_features=16, bias=True)\n",
       "  (relu_1): ReLU()\n",
       "  (dropout1): Dropout(p=0.05, inplace=False)\n",
       "  (dense_2): Linear(in_features=16, out_features=16, bias=True)\n",
       "  (relu_2): ReLU()\n",
       "  (dropout2): Dropout(p=0.05, inplace=False)\n",
       "  (dense_3_last): Linear(in_features=16, out_features=1, bias=True)\n",
       "  (relu_3_last): ReLU()\n",
       ")"
      ]
     },
     "execution_count": 23,
     "metadata": {},
     "output_type": "execute_result"
    }
   ],
   "source": []
  },
  {
   "cell_type": "code",
   "execution_count": null,
   "metadata": {},
   "outputs": [],
   "source": []
  },
  {
   "cell_type": "code",
   "execution_count": null,
   "metadata": {},
   "outputs": [],
   "source": []
  },
  {
   "cell_type": "code",
   "execution_count": 208,
   "metadata": {},
   "outputs": [],
   "source": [
    "for m in nnmodel.modules():\n",
    "# def init_weights(m):\n",
    "    if type(m) == nn.Linear:\n",
    "        nn.init.xavier_uniform_(m.weight, gain=nn.init.calculate_gain('relu'))\n",
    "        m.bias.data.fill_(0.0)\n",
    "        "
   ]
  },
  {
   "cell_type": "code",
   "execution_count": 219,
   "metadata": {},
   "outputs": [
    {
     "ename": "RuntimeError",
     "evalue": "CUDA error: all CUDA-capable devices are busy or unavailable",
     "output_type": "error",
     "traceback": [
      "\u001b[0;31m---------------------------------------------------------------------------\u001b[0m",
      "\u001b[0;31mRuntimeError\u001b[0m                              Traceback (most recent call last)",
      "\u001b[0;32m<ipython-input-219-1811a15e952a>\u001b[0m in \u001b[0;36m<module>\u001b[0;34m\u001b[0m\n\u001b[0;32m----> 1\u001b[0;31m \u001b[0mnnmodel\u001b[0m\u001b[0;34m.\u001b[0m\u001b[0mto\u001b[0m\u001b[0;34m(\u001b[0m\u001b[0mtorch\u001b[0m\u001b[0;34m.\u001b[0m\u001b[0mdevice\u001b[0m\u001b[0;34m(\u001b[0m\u001b[0;34m'cuda'\u001b[0m\u001b[0;34m)\u001b[0m\u001b[0;34m)\u001b[0m\u001b[0;34m\u001b[0m\u001b[0;34m\u001b[0m\u001b[0m\n\u001b[0m",
      "\u001b[0;32m~/miniconda3/envs/thesis_v2_torch/lib/python3.6/site-packages/torch/nn/modules/module.py\u001b[0m in \u001b[0;36mto\u001b[0;34m(self, *args, **kwargs)\u001b[0m\n\u001b[1;32m    671\u001b[0m             \u001b[0;32mreturn\u001b[0m \u001b[0mt\u001b[0m\u001b[0;34m.\u001b[0m\u001b[0mto\u001b[0m\u001b[0;34m(\u001b[0m\u001b[0mdevice\u001b[0m\u001b[0;34m,\u001b[0m \u001b[0mdtype\u001b[0m \u001b[0;32mif\u001b[0m \u001b[0mt\u001b[0m\u001b[0;34m.\u001b[0m\u001b[0mis_floating_point\u001b[0m\u001b[0;34m(\u001b[0m\u001b[0;34m)\u001b[0m \u001b[0;32mor\u001b[0m \u001b[0mt\u001b[0m\u001b[0;34m.\u001b[0m\u001b[0mis_complex\u001b[0m\u001b[0;34m(\u001b[0m\u001b[0;34m)\u001b[0m \u001b[0;32melse\u001b[0m \u001b[0;32mNone\u001b[0m\u001b[0;34m,\u001b[0m \u001b[0mnon_blocking\u001b[0m\u001b[0;34m)\u001b[0m\u001b[0;34m\u001b[0m\u001b[0;34m\u001b[0m\u001b[0m\n\u001b[1;32m    672\u001b[0m \u001b[0;34m\u001b[0m\u001b[0m\n\u001b[0;32m--> 673\u001b[0;31m         \u001b[0;32mreturn\u001b[0m \u001b[0mself\u001b[0m\u001b[0;34m.\u001b[0m\u001b[0m_apply\u001b[0m\u001b[0;34m(\u001b[0m\u001b[0mconvert\u001b[0m\u001b[0;34m)\u001b[0m\u001b[0;34m\u001b[0m\u001b[0;34m\u001b[0m\u001b[0m\n\u001b[0m\u001b[1;32m    674\u001b[0m \u001b[0;34m\u001b[0m\u001b[0m\n\u001b[1;32m    675\u001b[0m     def register_backward_hook(\n",
      "\u001b[0;32m~/miniconda3/envs/thesis_v2_torch/lib/python3.6/site-packages/torch/nn/modules/module.py\u001b[0m in \u001b[0;36m_apply\u001b[0;34m(self, fn)\u001b[0m\n\u001b[1;32m    385\u001b[0m     \u001b[0;32mdef\u001b[0m \u001b[0m_apply\u001b[0m\u001b[0;34m(\u001b[0m\u001b[0mself\u001b[0m\u001b[0;34m,\u001b[0m \u001b[0mfn\u001b[0m\u001b[0;34m)\u001b[0m\u001b[0;34m:\u001b[0m\u001b[0;34m\u001b[0m\u001b[0;34m\u001b[0m\u001b[0m\n\u001b[1;32m    386\u001b[0m         \u001b[0;32mfor\u001b[0m \u001b[0mmodule\u001b[0m \u001b[0;32min\u001b[0m \u001b[0mself\u001b[0m\u001b[0;34m.\u001b[0m\u001b[0mchildren\u001b[0m\u001b[0;34m(\u001b[0m\u001b[0;34m)\u001b[0m\u001b[0;34m:\u001b[0m\u001b[0;34m\u001b[0m\u001b[0;34m\u001b[0m\u001b[0m\n\u001b[0;32m--> 387\u001b[0;31m             \u001b[0mmodule\u001b[0m\u001b[0;34m.\u001b[0m\u001b[0m_apply\u001b[0m\u001b[0;34m(\u001b[0m\u001b[0mfn\u001b[0m\u001b[0;34m)\u001b[0m\u001b[0;34m\u001b[0m\u001b[0;34m\u001b[0m\u001b[0m\n\u001b[0m\u001b[1;32m    388\u001b[0m \u001b[0;34m\u001b[0m\u001b[0m\n\u001b[1;32m    389\u001b[0m         \u001b[0;32mdef\u001b[0m \u001b[0mcompute_should_use_set_data\u001b[0m\u001b[0;34m(\u001b[0m\u001b[0mtensor\u001b[0m\u001b[0;34m,\u001b[0m \u001b[0mtensor_applied\u001b[0m\u001b[0;34m)\u001b[0m\u001b[0;34m:\u001b[0m\u001b[0;34m\u001b[0m\u001b[0;34m\u001b[0m\u001b[0m\n",
      "\u001b[0;32m~/miniconda3/envs/thesis_v2_torch/lib/python3.6/site-packages/torch/nn/modules/module.py\u001b[0m in \u001b[0;36m_apply\u001b[0;34m(self, fn)\u001b[0m\n\u001b[1;32m    407\u001b[0m                 \u001b[0;31m# `with torch.no_grad():`\u001b[0m\u001b[0;34m\u001b[0m\u001b[0;34m\u001b[0m\u001b[0;34m\u001b[0m\u001b[0m\n\u001b[1;32m    408\u001b[0m                 \u001b[0;32mwith\u001b[0m \u001b[0mtorch\u001b[0m\u001b[0;34m.\u001b[0m\u001b[0mno_grad\u001b[0m\u001b[0;34m(\u001b[0m\u001b[0;34m)\u001b[0m\u001b[0;34m:\u001b[0m\u001b[0;34m\u001b[0m\u001b[0;34m\u001b[0m\u001b[0m\n\u001b[0;32m--> 409\u001b[0;31m                     \u001b[0mparam_applied\u001b[0m \u001b[0;34m=\u001b[0m \u001b[0mfn\u001b[0m\u001b[0;34m(\u001b[0m\u001b[0mparam\u001b[0m\u001b[0;34m)\u001b[0m\u001b[0;34m\u001b[0m\u001b[0;34m\u001b[0m\u001b[0m\n\u001b[0m\u001b[1;32m    410\u001b[0m                 \u001b[0mshould_use_set_data\u001b[0m \u001b[0;34m=\u001b[0m \u001b[0mcompute_should_use_set_data\u001b[0m\u001b[0;34m(\u001b[0m\u001b[0mparam\u001b[0m\u001b[0;34m,\u001b[0m \u001b[0mparam_applied\u001b[0m\u001b[0;34m)\u001b[0m\u001b[0;34m\u001b[0m\u001b[0;34m\u001b[0m\u001b[0m\n\u001b[1;32m    411\u001b[0m                 \u001b[0;32mif\u001b[0m \u001b[0mshould_use_set_data\u001b[0m\u001b[0;34m:\u001b[0m\u001b[0;34m\u001b[0m\u001b[0;34m\u001b[0m\u001b[0m\n",
      "\u001b[0;32m~/miniconda3/envs/thesis_v2_torch/lib/python3.6/site-packages/torch/nn/modules/module.py\u001b[0m in \u001b[0;36mconvert\u001b[0;34m(t)\u001b[0m\n\u001b[1;32m    669\u001b[0m                 return t.to(device, dtype if t.is_floating_point() or t.is_complex() else None,\n\u001b[1;32m    670\u001b[0m                             non_blocking, memory_format=convert_to_format)\n\u001b[0;32m--> 671\u001b[0;31m             \u001b[0;32mreturn\u001b[0m \u001b[0mt\u001b[0m\u001b[0;34m.\u001b[0m\u001b[0mto\u001b[0m\u001b[0;34m(\u001b[0m\u001b[0mdevice\u001b[0m\u001b[0;34m,\u001b[0m \u001b[0mdtype\u001b[0m \u001b[0;32mif\u001b[0m \u001b[0mt\u001b[0m\u001b[0;34m.\u001b[0m\u001b[0mis_floating_point\u001b[0m\u001b[0;34m(\u001b[0m\u001b[0;34m)\u001b[0m \u001b[0;32mor\u001b[0m \u001b[0mt\u001b[0m\u001b[0;34m.\u001b[0m\u001b[0mis_complex\u001b[0m\u001b[0;34m(\u001b[0m\u001b[0;34m)\u001b[0m \u001b[0;32melse\u001b[0m \u001b[0;32mNone\u001b[0m\u001b[0;34m,\u001b[0m \u001b[0mnon_blocking\u001b[0m\u001b[0;34m)\u001b[0m\u001b[0;34m\u001b[0m\u001b[0;34m\u001b[0m\u001b[0m\n\u001b[0m\u001b[1;32m    672\u001b[0m \u001b[0;34m\u001b[0m\u001b[0m\n\u001b[1;32m    673\u001b[0m         \u001b[0;32mreturn\u001b[0m \u001b[0mself\u001b[0m\u001b[0;34m.\u001b[0m\u001b[0m_apply\u001b[0m\u001b[0;34m(\u001b[0m\u001b[0mconvert\u001b[0m\u001b[0;34m)\u001b[0m\u001b[0;34m\u001b[0m\u001b[0;34m\u001b[0m\u001b[0m\n",
      "\u001b[0;31mRuntimeError\u001b[0m: CUDA error: all CUDA-capable devices are busy or unavailable"
     ]
    }
   ],
   "source": [
    "nnmodel.to(torch.device('cuda'))"
   ]
  },
  {
   "cell_type": "code",
   "execution_count": null,
   "metadata": {},
   "outputs": [],
   "source": [
    "for m in nnmodel.modules():\n",
    "    "
   ]
  },
  {
   "cell_type": "code",
   "execution_count": 217,
   "metadata": {},
   "outputs": [
    {
     "data": {
      "text/plain": [
       "True"
      ]
     },
     "execution_count": 217,
     "metadata": {},
     "output_type": "execute_result"
    }
   ],
   "source": [
    "torch.cuda.is_available()"
   ]
  },
  {
   "cell_type": "code",
   "execution_count": 216,
   "metadata": {},
   "outputs": [
    {
     "data": {
      "text/plain": [
       "[<matplotlib.lines.Line2D at 0x7ff5a9ef6908>]"
      ]
     },
     "execution_count": 216,
     "metadata": {},
     "output_type": "execute_result"
    },
    {
     "data": {
      "image/png": "[encoded data removed]",
      "text/plain": [
       "<Figure size 432x288 with 1 Axes>"
      ]
     },
     "metadata": {
      "needs_background": "light"
     },
     "output_type": "display_data"
    }
   ],
   "source": [
    "plt.plot(losses)"
   ]
  },
  {
   "cell_type": "code",
   "execution_count": 33,
   "metadata": {},
   "outputs": [
    {
     "data": {
      "text/plain": [
       "[<matplotlib.lines.Line2D at 0x7f21b1867d68>]"
      ]
     },
     "execution_count": 33,
     "metadata": {},
     "output_type": "execute_result"
    },
    {
     "data": {
      "image/png": "[encoded data removed]",
      "text/plain": [
       "<Figure size 432x288 with 1 Axes>"
      ]
     },
     "metadata": {
      "needs_background": "light"
     },
     "output_type": "display_data"
    }
   ],
   "source": [
    "plt.plot(losses)"
   ]
  },
  {
   "cell_type": "code",
   "execution_count": 58,
   "metadata": {},
   "outputs": [
    {
     "data": {
      "text/plain": [
       "1896.1112149556477"
      ]
     },
     "execution_count": 58,
     "metadata": {},
     "output_type": "execute_result"
    }
   ],
   "source": [
    "losses[-1]"
   ]
  },
  {
   "cell_type": "code",
   "execution_count": 17,
   "metadata": {},
   "outputs": [
    {
     "data": {
      "text/plain": [
       "Sequential(\n",
       "  (dense_0): Linear(in_features=18, out_features=16, bias=True)\n",
       "  (relu_0): ReLU()\n",
       "  (dropout_0): Dropout(p=0.05, inplace=False)\n",
       "  (dense_1): Linear(in_features=16, out_features=16, bias=True)\n",
       "  (relu_1): ReLU()\n",
       "  (dropout1): Dropout(p=0.05, inplace=False)\n",
       "  (dense_2): Linear(in_features=16, out_features=16, bias=True)\n",
       "  (relu_2): ReLU()\n",
       "  (dropout2): Dropout(p=0.05, inplace=False)\n",
       "  (dense_3_last): Linear(in_features=16, out_features=1, bias=True)\n",
       "  (relu_3_last): ReLU()\n",
       ")"
      ]
     },
     "execution_count": 17,
     "metadata": {},
     "output_type": "execute_result"
    }
   ],
   "source": [
    "# self.Models[key] = mlca_nn.model\n",
    "nnmodel = mlca_nn.model\n",
    "nnmodel"
   ]
  },
  {
   "cell_type": "code",
   "execution_count": 75,
   "metadata": {},
   "outputs": [],
   "source": [
    "y_true = np.random.randint(0, 2, size=(2, 3))\n",
    "y_pred = np.random.random(size=(2, 3))\n"
   ]
  },
  {
   "cell_type": "code",
   "execution_count": 77,
   "metadata": {},
   "outputs": [
    {
     "data": {
      "text/plain": [
       "array([0.61506515, 0.56670212])"
      ]
     },
     "execution_count": 77,
     "metadata": {},
     "output_type": "execute_result"
    }
   ],
   "source": [
    "np.mean(np.abs(y_true - y_pred), axis=-1)"
   ]
  },
  {
   "cell_type": "code",
   "execution_count": 68,
   "metadata": {},
   "outputs": [
    {
     "ename": "TypeError",
     "evalue": "'generator' object is not subscriptable",
     "output_type": "error",
     "traceback": [
      "\u001b[0;31m---------------------------------------------------------------------------\u001b[0m",
      "\u001b[0;31mTypeError\u001b[0m                                 Traceback (most recent call last)",
      "\u001b[0;32m<ipython-input-68-996554443ee1>\u001b[0m in \u001b[0;36m<module>\u001b[0;34m\u001b[0m\n\u001b[0;32m----> 1\u001b[0;31m \u001b[0;32mfor\u001b[0m \u001b[0mm\u001b[0m \u001b[0;32min\u001b[0m \u001b[0mnnmodel\u001b[0m\u001b[0;34m.\u001b[0m\u001b[0mparameters\u001b[0m\u001b[0;34m(\u001b[0m\u001b[0;34m)\u001b[0m\u001b[0;34m[\u001b[0m\u001b[0;34m-\u001b[0m\u001b[0;36m1\u001b[0m\u001b[0;34m]\u001b[0m\u001b[0;34m:\u001b[0m\u001b[0;34m\u001b[0m\u001b[0;34m\u001b[0m\u001b[0m\n\u001b[0m\u001b[1;32m      2\u001b[0m     \u001b[0mprint\u001b[0m\u001b[0;34m(\u001b[0m\u001b[0mm\u001b[0m\u001b[0;34m.\u001b[0m\u001b[0mgrad\u001b[0m\u001b[0;34m)\u001b[0m\u001b[0;34m\u001b[0m\u001b[0;34m\u001b[0m\u001b[0m\n",
      "\u001b[0;31mTypeError\u001b[0m: 'generator' object is not subscriptable"
     ]
    }
   ],
   "source": [
    "for m in nnmodel.parameters():\n",
    "    print(m.grad)"
   ]
  },
  {
   "cell_type": "code",
   "execution_count": 114,
   "metadata": {},
   "outputs": [
    {
     "data": {
      "text/plain": [
       "[18, 16, 16, 16, 1]"
      ]
     },
     "execution_count": 114,
     "metadata": {},
     "output_type": "execute_result"
    }
   ],
   "source": [
    "layer_type=['dense', 'input']\n",
    "Layer_shapes = []\n",
    "for i, (name, param) in enumerate(nnmodel.named_parameters()):\n",
    "    if (i==0) and ('input' in layer_type): \n",
    "        Layer_shapes.append(param.shape[1])\n",
    "    if any([x in name for x in layer_type]) and ('bias' in name):\n",
    "        Layer_shapes.append(param.shape[0])\n",
    "        \n",
    "Layer_shapes"
   ]
  },
  {
   "cell_type": "code",
   "execution_count": 100,
   "metadata": {},
   "outputs": [
    {
     "name": "stdout",
     "output_type": "stream",
     "text": [
      "dense_0.weight\n",
      "dense_0.bias\n",
      "dense_1.weight\n",
      "dense_1.bias\n",
      "dense_2.weight\n",
      "dense_2.bias\n",
      "dense_3_last.weight\n",
      "dense_3_last.bias\n"
     ]
    }
   ],
   "source": [
    "for name, param in nnmodel.named_parameters():\n",
    "#     if 'last' not in name:\n",
    "    print(name)"
   ]
  },
  {
   "cell_type": "code",
   "execution_count": 94,
   "metadata": {},
   "outputs": [
    {
     "data": {
      "text/plain": [
       "[16, 16, 16, 1]"
      ]
     },
     "execution_count": 94,
     "metadata": {},
     "output_type": "execute_result"
    }
   ],
   "source": [
    "[param.data.shape[0] for name, param in nnmodel.named_parameters() \n",
    " if (any([x in name for x in layer_type])) and ('bias' not in name)]"
   ]
  },
  {
   "cell_type": "code",
   "execution_count": 83,
   "metadata": {},
   "outputs": [
    {
     "data": {
      "text/plain": [
       "['dense_3', 'bias']"
      ]
     },
     "execution_count": 83,
     "metadata": {},
     "output_type": "execute_result"
    }
   ],
   "source": [
    "name.split('.')"
   ]
  },
  {
   "cell_type": "code",
   "execution_count": null,
   "metadata": {},
   "outputs": [],
   "source": [
    "class layer():\n",
    "    def __init__(self,):\n",
    "        self.input\n",
    "        self.output"
   ]
  },
  {
   "cell_type": "code",
   "execution_count": 84,
   "metadata": {},
   "outputs": [
    {
     "data": {
      "text/plain": [
       "816"
      ]
     },
     "execution_count": 84,
     "metadata": {},
     "output_type": "execute_result"
    }
   ],
   "source": [
    "18*16+16*16+16*16+16"
   ]
  },
  {
   "cell_type": "code",
   "execution_count": 118,
   "metadata": {},
   "outputs": [
    {
     "name": "stdout",
     "output_type": "stream",
     "text": [
      "(18, 16)\n",
      "(16,)\n",
      "(16, 16)\n",
      "(16,)\n",
      "(16, 16)\n",
      "(16,)\n",
      "(16, 1)\n",
      "(1,)\n"
     ]
    }
   ],
   "source": [
    "for W in kerasmodel.get_weights(): print(W.shape)"
   ]
  },
  {
   "cell_type": "code",
   "execution_count": 123,
   "metadata": {},
   "outputs": [
    {
     "data": {
      "text/plain": [
       "array([0.], dtype=float32)"
      ]
     },
     "execution_count": 123,
     "metadata": {},
     "output_type": "execute_result"
    }
   ],
   "source": [
    "W"
   ]
  },
  {
   "cell_type": "code",
   "execution_count": 119,
   "metadata": {},
   "outputs": [],
   "source": [
    "\n",
    "weights = []\n",
    "for params in nnmodel.parameters():\n",
    "    weights.append(params.detach().cpu().numpy().T)   "
   ]
  },
  {
   "cell_type": "code",
   "execution_count": 124,
   "metadata": {},
   "outputs": [
    {
     "data": {
      "text/plain": [
       "array([1.1134294], dtype=float32)"
      ]
     },
     "execution_count": 124,
     "metadata": {},
     "output_type": "execute_result"
    }
   ],
   "source": [
    "w"
   ]
  },
  {
   "cell_type": "code",
   "execution_count": 115,
   "metadata": {},
   "outputs": [],
   "source": [
    "# UPPER BOUND TORCH\n",
    "L = 5000\n",
    "upper_bounds_z = []\n",
    "for layer in Layer_shapes:\n",
    "#     print(layer.output.shape)\n",
    "    upper_bounds_z.append(np.array([L]*layer).reshape(-1, 1))\n",
    "#     print(upper_bounds_z[-1].shape)\n",
    "    \n",
    "# upper_bounds_z"
   ]
  },
  {
   "cell_type": "code",
   "execution_count": 116,
   "metadata": {
    "scrolled": true
   },
   "outputs": [
    {
     "data": {
      "text/plain": [
       "[array([[5000],\n",
       "        [5000],\n",
       "        [5000],\n",
       "        [5000],\n",
       "        [5000],\n",
       "        [5000],\n",
       "        [5000],\n",
       "        [5000],\n",
       "        [5000],\n",
       "        [5000],\n",
       "        [5000],\n",
       "        [5000],\n",
       "        [5000],\n",
       "        [5000],\n",
       "        [5000],\n",
       "        [5000],\n",
       "        [5000],\n",
       "        [5000]]),\n",
       " array([[5000],\n",
       "        [5000],\n",
       "        [5000],\n",
       "        [5000],\n",
       "        [5000],\n",
       "        [5000],\n",
       "        [5000],\n",
       "        [5000],\n",
       "        [5000],\n",
       "        [5000],\n",
       "        [5000],\n",
       "        [5000],\n",
       "        [5000],\n",
       "        [5000],\n",
       "        [5000],\n",
       "        [5000]]),\n",
       " array([[5000],\n",
       "        [5000],\n",
       "        [5000],\n",
       "        [5000],\n",
       "        [5000],\n",
       "        [5000],\n",
       "        [5000],\n",
       "        [5000],\n",
       "        [5000],\n",
       "        [5000],\n",
       "        [5000],\n",
       "        [5000],\n",
       "        [5000],\n",
       "        [5000],\n",
       "        [5000],\n",
       "        [5000]]),\n",
       " array([[5000],\n",
       "        [5000],\n",
       "        [5000],\n",
       "        [5000],\n",
       "        [5000],\n",
       "        [5000],\n",
       "        [5000],\n",
       "        [5000],\n",
       "        [5000],\n",
       "        [5000],\n",
       "        [5000],\n",
       "        [5000],\n",
       "        [5000],\n",
       "        [5000],\n",
       "        [5000],\n",
       "        [5000]]),\n",
       " array([[5000]])]"
      ]
     },
     "execution_count": 116,
     "metadata": {},
     "output_type": "execute_result"
    }
   ],
   "source": [
    "upper_bounds_z"
   ]
  },
  {
   "cell_type": "code",
   "execution_count": 50,
   "metadata": {},
   "outputs": [],
   "source": [
    "kerasmodel = model"
   ]
  },
  {
   "cell_type": "code",
   "execution_count": 97,
   "metadata": {},
   "outputs": [
    {
     "data": {
      "text/plain": [
       "[<tensorflow.python.keras.engine.input_layer.InputLayer at 0x7f4d4404c8d0>,\n",
       " <tensorflow.python.keras.layers.core.Dense at 0x7f4c78f3aba8>,\n",
       " <tensorflow.python.keras.layers.core.Dense at 0x7f4c78f3af98>,\n",
       " <tensorflow.python.keras.layers.core.Dense at 0x7f4c78eb44a8>,\n",
       " <tensorflow.python.keras.layers.core.Dense at 0x7f4c78f3af28>]"
      ]
     },
     "execution_count": 97,
     "metadata": {},
     "output_type": "execute_result"
    }
   ],
   "source": [
    "# def _get_model_layers(self, key, layer_type=None):\n",
    "layer_type=['dense', 'input']\n",
    "Layers = kerasmodel.layers\n",
    "if layer_type is not None:\n",
    "    tmp = [layer.get_config()['name'] for layer in Layers]\n",
    "    Layers = [Layers[i] for i in [tmp.index(s) for s in tmp if any([x in s for x in layer_type])]]\n",
    "Layers"
   ]
  },
  {
   "cell_type": "code",
   "execution_count": 99,
   "metadata": {},
   "outputs": [
    {
     "name": "stdout",
     "output_type": "stream",
     "text": [
      "(?, 18)\n",
      "(?, 16)\n",
      "(?, 16)\n",
      "(?, 16)\n",
      "(?, 1)\n"
     ]
    }
   ],
   "source": [
    "# UPPER BOUND KERAS\n",
    "L = 5000\n",
    "upper_bounds_z = []\n",
    "for layer in Layers:\n",
    "    print(layer.output.shape)\n",
    "    upper_bounds_z.append(np.array([L]*layer.output.shape[1]).reshape(-1, 1))\n",
    "#     print(upper_bounds_z[-1].shape)\n",
    "    \n",
    "# upper_bounds_z"
   ]
  },
  {
   "cell_type": "code",
   "execution_count": 22,
   "metadata": {},
   "outputs": [],
   "source": [
    "weights = []\n",
    "for params in mlca_nn.model.parameters():\n",
    "    weights.append(params.detach().cpu().numpy().T)"
   ]
  },
  {
   "cell_type": "code",
   "execution_count": 9,
   "metadata": {},
   "outputs": [
    {
     "data": {
      "text/plain": [
       "[array([[ 1.18929148e-01,  4.53559905e-02,  4.42951053e-01,\n",
       "          5.55481936e-04,  3.13948505e-02, -1.66309386e-01,\n",
       "         -8.80541503e-01,  6.90855622e-01,  1.48354948e-01,\n",
       "          1.71940997e-01,  3.95700708e-02,  1.50353982e-04,\n",
       "          5.05199470e-02,  2.92447209e-01,  3.57873440e-02,\n",
       "          8.62426981e-02],\n",
       "        [ 2.42102489e-01, -2.72588711e-03, -9.22238111e-01,\n",
       "          1.79898925e-04, -1.94031432e-01,  1.21537137e+00,\n",
       "         -1.65109360e+00, -6.84855163e-01,  1.37793422e-01,\n",
       "          7.46035576e-02,  2.55230904e-01,  5.16394328e-04,\n",
       "         -4.51084346e-01, -8.23684752e-01,  1.76347092e-01,\n",
       "          9.52642560e-02],\n",
       "        [ 1.17326513e-01,  1.11802608e-01,  1.40774712e-01,\n",
       "         -4.73475666e-06,  2.12679937e-01, -7.26036057e-02,\n",
       "          2.85818964e-01, -1.20832086e-01,  2.90042832e-02,\n",
       "          1.26340449e-01,  1.50541186e-01,  4.04810387e-04,\n",
       "          2.73408413e-01, -5.45950457e-02,  1.80974558e-01,\n",
       "          2.40132481e-01],\n",
       "        [ 4.91330564e-01,  4.63267475e-01,  1.44709721e-01,\n",
       "         -5.07604273e-04,  2.36272186e-01,  4.67937887e-01,\n",
       "         -5.01221381e-02,  6.38405681e-01,  4.44041997e-01,\n",
       "          4.95959818e-01,  5.20951748e-01, -6.23307016e-04,\n",
       "          3.52432013e-01, -9.16679084e-01,  4.88213539e-01,\n",
       "          4.61169720e-01],\n",
       "        [ 7.38477111e-02, -1.97515443e-01,  2.81019598e-01,\n",
       "         -2.93003337e-04,  3.68581922e-03, -6.31432652e-01,\n",
       "         -2.47200996e-01,  9.55654979e-02, -1.03614209e-02,\n",
       "          1.85650121e-02, -9.33392160e-03,  6.43236213e-04,\n",
       "          1.66063458e-01,  4.43453163e-01, -1.90251004e-02,\n",
       "         -6.46550730e-02],\n",
       "        [ 6.75854832e-02,  1.23352423e-01,  2.83545643e-01,\n",
       "          1.48175727e-03,  1.30720362e-01, -6.73659801e-01,\n",
       "         -2.78731018e-01, -3.70910257e-01, -3.63475606e-02,\n",
       "          5.77766076e-02, -5.50072640e-02, -1.96445850e-04,\n",
       "          2.10309237e-01,  7.70571470e-01, -4.73762639e-02,\n",
       "          6.21245019e-02],\n",
       "        [-3.40806156e-01, -1.87493786e-01,  1.59448728e-01,\n",
       "          2.01837945e-04,  1.84566919e-02, -9.27151442e-01,\n",
       "         -1.24226743e-02,  6.47278726e-01, -1.56412140e-01,\n",
       "         -1.76741764e-01, -9.92491916e-02, -5.37782558e-04,\n",
       "          1.95362315e-01, -4.73719180e-01,  2.92923301e-02,\n",
       "         -1.08454034e-01],\n",
       "        [-1.56749830e-01, -9.25198942e-02,  1.87523812e-01,\n",
       "         -1.53579749e-03, -9.45562795e-02,  4.20409262e-01,\n",
       "         -1.70875943e+00, -5.61117679e-02, -1.77300036e-01,\n",
       "         -1.55770570e-01, -8.76310989e-02, -7.00216915e-04,\n",
       "          3.92651111e-01,  4.55496639e-01, -2.13111475e-01,\n",
       "          1.46173025e-02],\n",
       "        [ 1.74779713e-01,  2.37001568e-01,  4.18885887e-01,\n",
       "          1.73672888e-04,  1.94848686e-01, -2.32032371e+00,\n",
       "          4.48913664e-01,  7.05919027e-01,  1.55076876e-01,\n",
       "          2.40283221e-01,  2.39927560e-01,  8.38087581e-04,\n",
       "          2.08873644e-01,  2.09853187e-01,  2.82116354e-01,\n",
       "          2.59295911e-01],\n",
       "        [ 1.17556803e-01, -2.76491731e-01, -3.49091679e-01,\n",
       "         -5.28070494e-04, -6.88828453e-02, -2.38779381e-01,\n",
       "          2.57363439e-01, -6.65243745e-01,  2.53264755e-01,\n",
       "         -1.38460159e-01,  2.70102024e-01,  7.12140114e-04,\n",
       "         -6.91988945e-01,  1.57149881e-01, -3.25665921e-01,\n",
       "          1.45358801e-01],\n",
       "        [-1.59417108e-01, -1.42315075e-01,  5.70810847e-02,\n",
       "         -1.28618529e-04, -1.21753760e-01,  3.26151550e-01,\n",
       "          6.11982763e-01,  1.13968223e-01, -1.70234725e-01,\n",
       "         -1.61307707e-01, -5.35707548e-02, -5.13371197e-04,\n",
       "         -1.11441147e-02, -6.50104284e-01, -1.58921763e-01,\n",
       "         -1.74658835e-01],\n",
       "        [ 3.69228125e-02,  2.08745301e-01, -1.49649128e-01,\n",
       "         -3.63407307e-04,  3.38091664e-02, -8.89034808e-01,\n",
       "          1.36688545e-01,  6.00021899e-01,  9.26653855e-03,\n",
       "          2.70080231e-02,  1.01709284e-01, -6.81494770e-04,\n",
       "          3.15237135e-01, -3.89462501e-01,  1.59044310e-01,\n",
       "          1.06258743e-01],\n",
       "        [-2.48928428e-01, -4.53088552e-01,  1.60421524e-02,\n",
       "          4.33043868e-04, -2.92813480e-01,  7.70798028e-01,\n",
       "          8.28797370e-02, -7.45484352e-01, -3.33385229e-01,\n",
       "         -3.48258764e-01, -4.67784733e-01, -1.75227539e-03,\n",
       "         -2.16287300e-01,  2.25163057e-01, -5.21990776e-01,\n",
       "         -3.63687724e-01],\n",
       "        [ 8.69392902e-02,  1.45480305e-01,  8.56229588e-02,\n",
       "         -1.05685415e-03,  1.34109393e-01,  1.90868564e-02,\n",
       "         -1.95079327e+00,  6.10000432e-01,  7.75010362e-02,\n",
       "          3.00071687e-01,  1.27991095e-01,  6.29724353e-04,\n",
       "          1.82822242e-01,  1.54456541e-01,  2.19714418e-01,\n",
       "          3.04393113e-01],\n",
       "        [-2.93985397e-01, -2.12512404e-01, -2.71293521e-01,\n",
       "          6.02092012e-04, -4.56045242e-03,  6.81241572e-01,\n",
       "          2.03738943e-01,  4.85820472e-01, -2.99291641e-01,\n",
       "         -2.14053512e-01, -1.48796305e-01, -1.85835292e-03,\n",
       "         -1.43627807e-01, -1.84522188e+00, -6.47142828e-02,\n",
       "          3.85204554e-02],\n",
       "        [-2.26689830e-01, -3.16588044e-01, -3.23551685e-01,\n",
       "          1.96618366e-05, -1.87587559e-01,  1.27710700e-01,\n",
       "          4.01774347e-02, -1.76406689e-02, -1.52005717e-01,\n",
       "         -1.76301464e-01, -3.15287821e-02, -1.47446262e-05,\n",
       "         -8.46303344e-01,  3.05991799e-01, -3.69119108e-01,\n",
       "         -8.08814242e-02],\n",
       "        [ 2.79568970e-01,  3.19895387e-01, -1.97128296e-01,\n",
       "          6.93551323e-04,  3.56225297e-02, -4.68802869e-01,\n",
       "          1.78432405e-01, -2.02751517e-01,  2.82047123e-01,\n",
       "          2.23633394e-01,  3.84017736e-01,  4.35168884e-04,\n",
       "         -1.49377495e-01, -2.41070420e-01,  3.08177888e-01,\n",
       "          1.93974301e-01],\n",
       "        [-2.61510968e-01, -2.67509401e-01, -2.21722141e-01,\n",
       "         -3.04086460e-03, -2.25284532e-01,  1.33540913e-01,\n",
       "          4.48019445e-01, -2.59667844e-01, -2.62571871e-01,\n",
       "         -1.95529714e-01, -1.39606163e-01, -5.71266690e-04,\n",
       "         -4.00123775e-01, -7.34816134e-01, -1.24468580e-01,\n",
       "          1.62875298e-02]], dtype=float32),\n",
       " array([ 0.33365765,  0.33539915,  0.25184596, -0.10975648,  0.40473315,\n",
       "         0.11609482,  0.5209587 , -0.36153567,  0.34001258,  0.19154614,\n",
       "         0.30480036, -0.06867611,  0.27425897,  0.47121596,  0.25171164,\n",
       "         0.3538578 ], dtype=float32),\n",
       " array([[ 8.03827122e-02,  1.07562598e-02, -8.25879872e-02,\n",
       "          9.24111009e-02,  1.15557938e-04, -9.19529617e-01,\n",
       "          8.82946253e-02,  5.68166859e-02, -1.14299897e-02,\n",
       "         -2.02270001e-01,  5.56671545e-02, -5.43948300e-02,\n",
       "          1.80179533e-02,  9.32956487e-02,  8.68357942e-02,\n",
       "         -1.40349880e-01],\n",
       "        [ 1.69586465e-01,  1.41507402e-01,  3.29865292e-02,\n",
       "          1.28323376e-01,  1.32282221e-04, -8.72853220e-01,\n",
       "          1.29221857e-01,  9.46042910e-02, -2.16979701e-02,\n",
       "         -1.42201334e-01,  1.63127691e-01, -2.43037581e-01,\n",
       "          3.28873545e-02,  1.32667944e-01,  9.81278792e-02,\n",
       "          4.87032644e-02],\n",
       "        [ 1.32092729e-01,  1.64210662e-01,  1.36650071e-01,\n",
       "          2.37957194e-01, -2.05784163e-04, -8.87075663e-01,\n",
       "          1.99934617e-01,  2.21660852e-01, -3.80285792e-02,\n",
       "          6.86982870e-02,  2.27901638e-01, -1.46940842e-01,\n",
       "          1.67223245e-01,  2.62270749e-01,  1.76284775e-01,\n",
       "          2.06561968e-01],\n",
       "        [ 8.09159246e-05, -1.34985894e-04, -3.26246140e-04,\n",
       "          1.72207598e-04,  1.58596120e-03, -1.66624400e-03,\n",
       "         -3.06526126e-05, -6.02578293e-05,  7.22608529e-04,\n",
       "         -3.53368116e-04, -5.12014783e-04, -2.53174314e-03,\n",
       "          1.59055577e-04, -2.39651243e-04, -5.96094644e-04,\n",
       "         -1.46902283e-04],\n",
       "        [-1.00134416e-02, -1.73857994e-02, -1.25568748e-01,\n",
       "          6.91091060e-04, -1.16677293e-05,  4.17093709e-02,\n",
       "          4.54272069e-02,  1.30729005e-02, -2.46538169e-04,\n",
       "         -2.38954335e-01,  6.88346801e-03, -1.05756089e-01,\n",
       "         -6.88880831e-02,  5.06852847e-03,  5.02102263e-02,\n",
       "         -1.61373526e-01],\n",
       "        [ 1.49799645e+00,  1.60665298e+00,  1.85843301e+00,\n",
       "          1.54215264e+00,  5.43848728e-06,  1.40370595e+00,\n",
       "          1.56016302e+00,  1.54038632e+00, -4.59251896e-04,\n",
       "          1.67756617e+00,  1.46814787e+00, -3.45929384e-01,\n",
       "          1.46800745e+00,  1.51056957e+00,  1.59060729e+00,\n",
       "          8.21395338e-01],\n",
       "        [ 8.75888348e-01,  8.54237080e-01,  1.15109372e+00,\n",
       "          9.87249315e-01,  1.78375514e-04,  7.26581752e-01,\n",
       "          8.68978679e-01,  9.88338232e-01,  1.16532203e-04,\n",
       "          1.42102814e+00,  9.88094747e-01, -3.28459114e-01,\n",
       "          8.53336275e-01,  9.75180626e-01,  1.03070962e+00,\n",
       "          1.96243668e+00],\n",
       "        [ 5.03072500e-01,  5.04117608e-01,  5.46701670e-01,\n",
       "          4.50365067e-01,  7.36684888e-06, -1.50350249e+00,\n",
       "          4.41264331e-01,  5.16343236e-01,  1.51981390e-03,\n",
       "          2.33982950e-01,  4.52130347e-01, -1.03394136e-01,\n",
       "          3.86950254e-01,  4.93799925e-01,  4.94985461e-01,\n",
       "          9.63216305e-01],\n",
       "        [ 1.04370005e-01,  2.73485202e-05, -8.38320479e-02,\n",
       "          1.18289143e-01,  6.71510315e-06, -7.45844662e-01,\n",
       "          6.56577721e-02,  6.49330020e-02, -4.49862964e-02,\n",
       "         -1.79532841e-01,  1.20811172e-01, -7.52846822e-02,\n",
       "         -8.10435275e-04,  9.21549127e-02,  1.04522385e-01,\n",
       "         -2.13952035e-01],\n",
       "        [ 1.28686696e-01,  9.95370969e-02,  4.07197289e-02,\n",
       "          1.18440248e-01, -1.65947204e-05, -1.50113821e-01,\n",
       "          1.00299463e-01,  4.78805304e-02,  1.28136162e-04,\n",
       "         -1.56217873e-01,  1.17330156e-01, -9.22046900e-02,\n",
       "          6.13933951e-02,  1.53322905e-01,  1.16573632e-01,\n",
       "          1.24321114e-02],\n",
       "        [ 1.39483690e-01,  1.17938697e-01,  4.69458364e-02,\n",
       "          1.08976394e-01, -9.98744508e-06, -4.15845633e-01,\n",
       "          1.00150026e-01,  1.80763006e-01,  1.16678159e-04,\n",
       "         -7.73954540e-02,  1.63598835e-01, -1.09217040e-01,\n",
       "          4.21679020e-02,  1.70969158e-01,  1.74850896e-01,\n",
       "          9.58939344e-02],\n",
       "        [ 6.54762089e-02,  5.46329394e-02,  1.13087349e-01,\n",
       "          6.64557964e-02, -2.16784654e-03,  3.82687373e-04,\n",
       "          7.05264285e-02,  6.96031451e-02,  1.52362906e-03,\n",
       "          3.11220094e-04,  4.48994637e-02, -2.87609961e-04,\n",
       "          4.71260473e-02,  8.33448172e-02,  9.03691426e-02,\n",
       "          1.38416260e-01],\n",
       "        [ 1.45656571e-01,  1.66352376e-01,  4.94064763e-02,\n",
       "          1.64155975e-01,  7.43632991e-05, -2.25355935e+00,\n",
       "          1.97906807e-01,  2.04459637e-01, -9.39204916e-03,\n",
       "         -6.74054548e-02,  1.87241793e-01, -1.91143140e-01,\n",
       "          1.64735779e-01,  1.88106105e-01,  1.71293706e-01,\n",
       "          2.44716212e-01],\n",
       "        [ 7.97963619e-01,  7.65374839e-01,  1.18597209e+00,\n",
       "          8.24436903e-01,  1.55378060e-04, -1.49257100e+00,\n",
       "          8.00967932e-01,  9.04992759e-01, -5.03818621e-04,\n",
       "          9.88361716e-01,  7.86177695e-01, -1.57147914e-01,\n",
       "          8.59993815e-01,  9.20226038e-01,  8.82556558e-01,\n",
       "          1.55614913e+00],\n",
       "        [ 1.66676939e-01,  9.10944194e-02, -1.02344528e-02,\n",
       "          1.74314260e-01, -3.75569944e-05, -6.45726740e-01,\n",
       "          1.32604077e-01,  1.83688909e-01, -6.76447824e-02,\n",
       "         -9.49463770e-02,  1.46125555e-01, -1.36869341e-01,\n",
       "          1.00652501e-01,  2.01335967e-01,  1.97316483e-01,\n",
       "         -4.60887998e-02],\n",
       "        [ 1.43146202e-01,  1.52065635e-01,  5.51788881e-03,\n",
       "          1.09181568e-01,  4.03496924e-05, -6.34513199e-02,\n",
       "          1.34767056e-01,  1.71576291e-01, -4.95811142e-02,\n",
       "         -1.75595328e-01,  1.86258242e-01, -1.94739345e-02,\n",
       "          9.20898840e-02,  1.68689027e-01,  2.06340447e-01,\n",
       "         -3.07113677e-02]], dtype=float32),\n",
       " array([ 0.34396607,  0.4333843 ,  0.25200766,  0.38490102, -0.0852574 ,\n",
       "         1.0019668 ,  0.49400255,  0.4044724 , -0.18467562,  0.37707266,\n",
       "         0.46005118, -0.17813091,  0.36534658,  0.46937567,  0.5081379 ,\n",
       "        -0.36442554], dtype=float32),\n",
       " array([[-7.14418897e-03,  1.10451935e-03,  1.97056964e-01,\n",
       "          3.56237710e-01,  3.28232497e-01, -2.14440282e-03,\n",
       "         -1.89964689e-04, -8.20390061e-02,  2.64043987e-01,\n",
       "         -8.84918571e-02,  2.91020840e-01, -5.12578350e-04,\n",
       "          3.09933603e-01,  3.19048524e-01,  2.94053167e-01,\n",
       "          3.25591147e-01],\n",
       "        [-7.60207977e-03, -1.66445747e-02,  1.64689943e-01,\n",
       "          3.59221816e-01,  3.07063967e-01, -5.94199693e-04,\n",
       "         -2.83069152e-04, -9.48745757e-02,  3.64931434e-01,\n",
       "         -6.81508183e-02,  2.79909909e-01, -6.70906389e-04,\n",
       "          2.81749934e-01,  3.75978142e-01,  3.35273117e-01,\n",
       "          4.20009553e-01],\n",
       "        [-1.33851524e-02, -6.74933181e-05,  6.27848208e-01,\n",
       "          4.13004339e-01,  4.53754127e-01, -1.18632428e-03,\n",
       "          1.22902286e-03, -4.76256981e-02,  3.55080098e-01,\n",
       "         -7.66528472e-02,  4.80698824e-01,  6.37818710e-04,\n",
       "          3.91679585e-01,  4.12860006e-01,  4.09065247e-01,\n",
       "          4.48267221e-01],\n",
       "        [-6.65092724e-04,  1.88363629e-05,  1.83033094e-01,\n",
       "          3.37496907e-01,  2.99828321e-01, -4.87230631e-04,\n",
       "          1.00286255e-04, -1.30787060e-01,  3.25133860e-01,\n",
       "         -6.41429797e-02,  3.33469599e-01,  2.53004488e-04,\n",
       "          3.46288413e-01,  3.43247086e-01,  3.34544152e-01,\n",
       "          4.13357764e-01],\n",
       "        [ 8.65631911e-04, -2.92257173e-03, -7.77029491e-05,\n",
       "          4.08320193e-05,  5.49065553e-05, -1.00268342e-03,\n",
       "         -1.01872848e-03,  1.70476269e-04, -3.47662972e-05,\n",
       "          6.70237932e-04,  2.56269668e-05, -2.01512803e-03,\n",
       "         -5.35495565e-05,  6.92513422e-05, -1.10755218e-05,\n",
       "          4.10833163e-05],\n",
       "        [ 6.68636784e-02, -1.40609569e-04, -1.56682873e+00,\n",
       "         -1.68076098e+00, -1.54716504e+00,  2.47403677e-03,\n",
       "         -6.50652219e-05, -1.33223855e-03, -1.59593499e+00,\n",
       "         -3.33235785e-03, -1.54081750e+00, -1.93757005e-05,\n",
       "         -1.68163443e+00, -1.51279235e+00, -1.68436694e+00,\n",
       "         -1.71607590e+00],\n",
       "        [-5.69431158e-03, -3.44337635e-02,  1.98524684e-01,\n",
       "          3.52080047e-01,  3.04740608e-01, -1.05236002e-04,\n",
       "         -1.78630900e-04, -1.19026490e-01,  3.18302512e-01,\n",
       "         -7.46159256e-02,  3.49730670e-01, -1.93742628e-04,\n",
       "          3.38268042e-01,  3.46429348e-01,  3.24334770e-01,\n",
       "          4.07440007e-01],\n",
       "        [-8.33696034e-03,  2.29974044e-04,  3.52080494e-01,\n",
       "          3.84111315e-01,  3.49201590e-01, -1.65211479e-03,\n",
       "          2.72739999e-04, -6.75066188e-02,  3.48530293e-01,\n",
       "         -6.69888034e-02,  3.89775276e-01,  3.57473735e-04,\n",
       "          3.71303678e-01,  3.11464190e-01,  3.36735010e-01,\n",
       "          4.03789312e-01],\n",
       "        [-2.15901667e-03, -1.30587898e-04,  9.27695291e-05,\n",
       "          5.39233014e-02,  4.73318808e-02,  2.88357609e-04,\n",
       "          3.21992993e-05, -1.98303699e-03,  8.10298026e-02,\n",
       "          3.81855003e-04, -6.21954561e-04, -1.95614295e-03,\n",
       "          5.64318299e-02,  6.72329590e-02,  8.38640034e-02,\n",
       "          8.73099715e-02],\n",
       "        [-4.75979969e-02, -1.03709885e-04,  7.64534056e-01,\n",
       "          4.78593856e-01,  4.59900409e-01, -7.09348824e-04,\n",
       "         -2.89136264e-03, -1.52186118e-03,  3.92364651e-01,\n",
       "         -5.83758280e-02,  5.31668067e-01, -8.12230632e-04,\n",
       "          4.18457508e-01,  4.29587841e-01,  3.91331077e-01,\n",
       "          4.76212531e-01],\n",
       "        [-5.99239301e-03, -9.20199230e-03,  2.20977440e-01,\n",
       "          3.55045944e-01,  3.35547239e-01, -1.62651495e-03,\n",
       "          2.89429678e-04, -1.12419948e-01,  3.31747651e-01,\n",
       "         -6.01923838e-02,  3.65564674e-01, -2.66557501e-04,\n",
       "          3.24233204e-01,  3.60939533e-01,  3.64319324e-01,\n",
       "          4.14368272e-01],\n",
       "        [-1.13636814e-02, -6.89585519e-04,  3.02754305e-02,\n",
       "          1.83301233e-02, -2.69391775e-01, -2.64251465e-03,\n",
       "         -1.89091195e-04,  1.01713988e-03,  5.11881560e-02,\n",
       "         -1.62357988e-04,  6.07538931e-02,  1.18007744e-03,\n",
       "          5.69136664e-02,  2.07657441e-02,  7.36615509e-02,\n",
       "          6.05935492e-02],\n",
       "        [-8.40795133e-03, -2.75881235e-02,  2.45513663e-01,\n",
       "          3.52723122e-01,  2.83549041e-01,  4.54752066e-04,\n",
       "          1.04561186e-04, -3.40773165e-02,  3.16410840e-01,\n",
       "         -7.50541613e-02,  2.78836459e-01,  7.28903397e-04,\n",
       "          3.02328944e-01,  3.15027177e-01,  3.49108458e-01,\n",
       "          3.57930869e-01],\n",
       "        [-6.42225007e-03, -3.81287740e-04,  3.26854527e-01,\n",
       "          4.00739908e-01,  3.78461629e-01,  6.15736702e-04,\n",
       "         -1.99658243e-05, -1.13409489e-01,  3.84961635e-01,\n",
       "         -8.45011473e-02,  3.29500318e-01,  5.38736349e-04,\n",
       "          3.39052707e-01,  3.32774073e-01,  3.92814547e-01,\n",
       "          4.25534517e-01],\n",
       "        [-5.46423905e-03, -2.65911818e-02,  2.67557412e-01,\n",
       "          4.00480628e-01,  3.34982783e-01,  5.22181042e-04,\n",
       "          1.02888836e-04, -1.30418226e-01,  3.22989613e-01,\n",
       "         -6.82348907e-02,  3.50980997e-01,  3.76689597e-04,\n",
       "          3.84796679e-01,  3.83854240e-01,  3.74001145e-01,\n",
       "          3.78530473e-01],\n",
       "        [-1.68848127e-01,  4.48712417e-05,  1.05523515e+00,\n",
       "          6.17855608e-01,  5.47495723e-01, -2.04821117e-04,\n",
       "          1.94029429e-03,  1.55488681e-03,  5.44459820e-01,\n",
       "          2.49671575e-04,  7.60162055e-01, -8.10290978e-04,\n",
       "          5.90181947e-01,  6.08946621e-01,  5.63365638e-01,\n",
       "          6.37657225e-01]], dtype=float32),\n",
       " array([ 0.12068046, -0.05299498,  0.38333791,  0.783657  ,  0.7341798 ,\n",
       "        -0.06314968, -0.04834173, -0.07505031,  0.75650036, -0.06420332,\n",
       "         0.7107553 , -0.02676123,  0.74215645,  0.7724119 ,  0.75989085,\n",
       "         0.8397189 ], dtype=float32),\n",
       " array([[-9.6799051e-03],\n",
       "        [-7.8555830e-03],\n",
       "        [ 4.2492115e-01],\n",
       "        [ 4.5951664e-01],\n",
       "        [ 3.9934990e-01],\n",
       "        [ 7.5286381e-02],\n",
       "        [ 4.3237237e-06],\n",
       "        [-1.2385196e-01],\n",
       "        [ 4.0956792e-01],\n",
       "        [-6.7286305e-02],\n",
       "        [ 4.1500416e-01],\n",
       "        [-2.9075982e-06],\n",
       "        [ 4.1550630e-01],\n",
       "        [ 4.3260172e-01],\n",
       "        [ 4.2067376e-01],\n",
       "        [ 4.7814018e-01]], dtype=float32),\n",
       " array([0.8905545], dtype=float32)]"
      ]
     },
     "execution_count": 9,
     "metadata": {},
     "output_type": "execute_result"
    }
   ],
   "source": [
    "weights"
   ]
  },
  {
   "cell_type": "code",
   "execution_count": 10,
   "metadata": {},
   "outputs": [
    {
     "name": "stdout",
     "output_type": "stream",
     "text": [
      "(18, 16)\n",
      "(16,)\n",
      "(16, 16)\n",
      "(16,)\n",
      "(16, 16)\n",
      "(16,)\n",
      "(16, 1)\n",
      "(1,)\n"
     ]
    }
   ],
   "source": [
    "for w in weights:\n",
    "    print(w.shape)"
   ]
  },
  {
   "cell_type": "code",
   "execution_count": 110,
   "metadata": {},
   "outputs": [],
   "source": [
    "from tensorflow.keras import models,layers,regularizers,optimizers\n",
    "# how to get weights from keras\n",
    "\n",
    "r = regularization_N\n",
    "lr = learning_rate_N\n",
    "architecture = layer_N\n",
    "dropout = dropout_N\n",
    "dp = dropout_prob_N\n",
    "regularization_type = 'l1_l2'\n",
    "M = 18\n",
    "architecture = [int(layer) for layer in architecture]  # integer check\n",
    "number_of_hidden_layers = len(architecture)\n",
    "dropout = bool(dropout)\n",
    "\n",
    "# define input layer\n",
    "inputs = layers.Input(shape=(X_train.shape[1], ))\n",
    "# set regularization\n",
    "REG = regularizers.l1(r)\n",
    "# first hidden layer\n",
    "x = layers.Dense(architecture[0], kernel_regularizer=REG, bias_regularizer=REG, activation='relu')(inputs)\n",
    "if dropout is True:\n",
    "    x = layers.Dropout(rate=dp)(x)\n",
    "# remaining hidden layer\n",
    "for k in range(1, number_of_hidden_layers):\n",
    "    x = layers.Dense(architecture[k], kernel_regularizer=REG, bias_regularizer=REG, activation='relu')(x)\n",
    "    if dropout is True:\n",
    "        x = layers.Dropout(rate=dp)(x)\n",
    "# final output layer\n",
    "predictions = layers.Dense(1, activation='relu')(x)\n",
    "model = models.Model(inputs=inputs, outputs=predictions)"
   ]
  },
  {
   "cell_type": "code",
   "execution_count": 111,
   "metadata": {},
   "outputs": [
    {
     "name": "stdout",
     "output_type": "stream",
     "text": [
      "_________________________________________________________________\n",
      "Layer (type)                 Output Shape              Param #   \n",
      "=================================================================\n",
      "input_7 (InputLayer)         (None, 18)                0         \n",
      "_________________________________________________________________\n",
      "dense_24 (Dense)             (None, 16)                304       \n",
      "_________________________________________________________________\n",
      "dropout_18 (Dropout)         (None, 16)                0         \n",
      "_________________________________________________________________\n",
      "dense_25 (Dense)             (None, 160)               2720      \n",
      "_________________________________________________________________\n",
      "dropout_19 (Dropout)         (None, 160)               0         \n",
      "_________________________________________________________________\n",
      "dense_26 (Dense)             (None, 16)                2576      \n",
      "_________________________________________________________________\n",
      "dropout_20 (Dropout)         (None, 16)                0         \n",
      "_________________________________________________________________\n",
      "dense_27 (Dense)             (None, 1)                 17        \n",
      "=================================================================\n",
      "Total params: 5,617\n",
      "Trainable params: 5,617\n",
      "Non-trainable params: 0\n",
      "_________________________________________________________________\n"
     ]
    }
   ],
   "source": [
    "model.summary()"
   ]
  },
  {
   "cell_type": "code",
   "execution_count": 112,
   "metadata": {},
   "outputs": [],
   "source": [
    "ADAM = optimizers.Adam(lr=lr, beta_1=0.9, beta_2=0.999, decay=0.0, amsgrad=False)\n",
    "# compile the model and define the loss function\n",
    "model.compile(optimizer=ADAM, loss='mean_absolute_error')\n"
   ]
  },
  {
   "cell_type": "code",
   "execution_count": 113,
   "metadata": {
    "scrolled": true
   },
   "outputs": [
    {
     "name": "stdout",
     "output_type": "stream",
     "text": [
      "WARNING:tensorflow:From /home/korhan/miniconda3/envs/thesis_v2_torch/lib/python3.6/site-packages/tensorflow/python/ops/math_ops.py:3066: to_int32 (from tensorflow.python.ops.math_ops) is deprecated and will be removed in a future version.\n",
      "Instructions for updating:\n",
      "Use tf.cast instead.\n"
     ]
    },
    {
     "name": "stderr",
     "output_type": "stream",
     "text": [
      "WARNING:tensorflow:From /home/korhan/miniconda3/envs/thesis_v2_torch/lib/python3.6/site-packages/tensorflow/python/ops/math_ops.py:3066: to_int32 (from tensorflow.python.ops.math_ops) is deprecated and will be removed in a future version.\n",
      "Instructions for updating:\n",
      "Use tf.cast instead.\n"
     ]
    },
    {
     "name": "stdout",
     "output_type": "stream",
     "text": [
      "Epoch 1/30\n",
      "123/123 [==============================] - 0s 3ms/sample - loss: 27.8077\n",
      "Epoch 2/30\n",
      "123/123 [==============================] - 0s 260us/sample - loss: 25.3336\n",
      "Epoch 3/30\n",
      "123/123 [==============================] - 0s 264us/sample - loss: 22.6505\n",
      "Epoch 4/30\n",
      "123/123 [==============================] - 0s 262us/sample - loss: 20.8862\n",
      "Epoch 5/30\n",
      "123/123 [==============================] - 0s 246us/sample - loss: 20.4517\n",
      "Epoch 6/30\n",
      "123/123 [==============================] - 0s 295us/sample - loss: 21.2649\n",
      "Epoch 7/30\n",
      "123/123 [==============================] - 0s 343us/sample - loss: 19.2472\n",
      "Epoch 8/30\n",
      "123/123 [==============================] - 0s 274us/sample - loss: 19.3903\n",
      "Epoch 9/30\n",
      "123/123 [==============================] - 0s 305us/sample - loss: 18.9825\n",
      "Epoch 10/30\n",
      "123/123 [==============================] - 0s 326us/sample - loss: 20.4562\n",
      "Epoch 11/30\n",
      "123/123 [==============================] - 0s 304us/sample - loss: 18.8377\n",
      "Epoch 12/30\n",
      "123/123 [==============================] - 0s 252us/sample - loss: 18.7042\n",
      "Epoch 13/30\n",
      "123/123 [==============================] - 0s 225us/sample - loss: 18.8525\n",
      "Epoch 14/30\n",
      "123/123 [==============================] - 0s 265us/sample - loss: 18.0635\n",
      "Epoch 15/30\n",
      "123/123 [==============================] - 0s 300us/sample - loss: 19.2253\n",
      "Epoch 16/30\n",
      "123/123 [==============================] - 0s 298us/sample - loss: 17.8272\n",
      "Epoch 17/30\n",
      "123/123 [==============================] - 0s 298us/sample - loss: 17.5851\n",
      "Epoch 18/30\n",
      "123/123 [==============================] - 0s 257us/sample - loss: 17.2463\n",
      "Epoch 19/30\n",
      "123/123 [==============================] - 0s 270us/sample - loss: 17.4196\n",
      "Epoch 20/30\n",
      "123/123 [==============================] - 0s 249us/sample - loss: 17.3549\n",
      "Epoch 21/30\n",
      "123/123 [==============================] - 0s 245us/sample - loss: 17.7215\n",
      "Epoch 22/30\n",
      "123/123 [==============================] - 0s 255us/sample - loss: 16.0902\n",
      "Epoch 23/30\n",
      "123/123 [==============================] - 0s 231us/sample - loss: 16.2652\n",
      "Epoch 24/30\n",
      "123/123 [==============================] - 0s 255us/sample - loss: 15.7942\n",
      "Epoch 25/30\n",
      "123/123 [==============================] - 0s 290us/sample - loss: 15.8605\n",
      "Epoch 26/30\n",
      "123/123 [==============================] - 0s 233us/sample - loss: 14.7314\n",
      "Epoch 27/30\n",
      "123/123 [==============================] - 0s 239us/sample - loss: 14.4839\n",
      "Epoch 28/30\n",
      "123/123 [==============================] - 0s 249us/sample - loss: 14.5959\n",
      "Epoch 29/30\n",
      "123/123 [==============================] - 0s 262us/sample - loss: 13.7278\n",
      "Epoch 30/30\n",
      "123/123 [==============================] - 0s 255us/sample - loss: 14.6076\n"
     ]
    }
   ],
   "source": [
    "history = model.fit(x=X_train, y=Y_train, verbose=1, \n",
    "          epochs=epochs, batch_size=batch_size)"
   ]
  },
  {
   "cell_type": "code",
   "execution_count": 144,
   "metadata": {},
   "outputs": [
    {
     "data": {
      "text/plain": [
       "{'loss': [32.261395645141604,\n",
       "  18.667125495274863,\n",
       "  17.49925397237142,\n",
       "  17.684793949127197,\n",
       "  17.04701827367147,\n",
       "  17.1748522122701,\n",
       "  16.191215300559996,\n",
       "  15.785735066731771,\n",
       "  15.894254557291667,\n",
       "  16.126668405532836]}"
      ]
     },
     "execution_count": 144,
     "metadata": {},
     "output_type": "execute_result"
    }
   ],
   "source": [
    "history.history"
   ]
  },
  {
   "cell_type": "code",
   "execution_count": 58,
   "metadata": {},
   "outputs": [],
   "source": [
    "kerasmodel = model"
   ]
  },
  {
   "cell_type": "code",
   "execution_count": 55,
   "metadata": {},
   "outputs": [
    {
     "name": "stdout",
     "output_type": "stream",
     "text": [
      "(18, 16)\n",
      "(16,)\n",
      "(16, 16)\n",
      "(16,)\n",
      "(16, 16)\n",
      "(16,)\n",
      "(16, 1)\n",
      "(1,)\n"
     ]
    }
   ],
   "source": [
    "for w in model.get_weights():\n",
    "    print(w.shape)"
   ]
  },
  {
   "cell_type": "code",
   "execution_count": 51,
   "metadata": {},
   "outputs": [
    {
     "data": {
      "text/plain": [
       "18"
      ]
     },
     "execution_count": 51,
     "metadata": {},
     "output_type": "execute_result"
    }
   ],
   "source": [
    "mlca_nn.model[0].weight.data.T.numpy().shape[0]"
   ]
  },
  {
   "cell_type": "code",
   "execution_count": 55,
   "metadata": {},
   "outputs": [
    {
     "data": {
      "text/plain": [
       "['input_1',\n",
       " 'dense',\n",
       " 'dropout',\n",
       " 'dense_1',\n",
       " 'dropout_1',\n",
       " 'dense_2',\n",
       " 'dropout_2',\n",
       " 'dense_3']"
      ]
     },
     "execution_count": 55,
     "metadata": {},
     "output_type": "execute_result"
    }
   ],
   "source": [
    "Layers = kerasmodel.layers\n",
    "[layer.get_config()['name'] for layer in Layers]"
   ]
  },
  {
   "cell_type": "code",
   "execution_count": 43,
   "metadata": {},
   "outputs": [
    {
     "data": {
      "text/plain": [
       "Dimension(1)"
      ]
     },
     "execution_count": 43,
     "metadata": {},
     "output_type": "execute_result"
    }
   ],
   "source": [
    "layer.output.shape[1]"
   ]
  },
  {
   "cell_type": "code",
   "execution_count": 44,
   "metadata": {},
   "outputs": [
    {
     "data": {
      "text/plain": [
       "[array([[5000],\n",
       "        [5000],\n",
       "        [5000],\n",
       "        [5000],\n",
       "        [5000],\n",
       "        [5000],\n",
       "        [5000],\n",
       "        [5000],\n",
       "        [5000],\n",
       "        [5000],\n",
       "        [5000],\n",
       "        [5000],\n",
       "        [5000],\n",
       "        [5000],\n",
       "        [5000],\n",
       "        [5000],\n",
       "        [5000],\n",
       "        [5000]]),\n",
       " array([[5000],\n",
       "        [5000],\n",
       "        [5000],\n",
       "        [5000],\n",
       "        [5000],\n",
       "        [5000],\n",
       "        [5000],\n",
       "        [5000],\n",
       "        [5000],\n",
       "        [5000],\n",
       "        [5000],\n",
       "        [5000],\n",
       "        [5000],\n",
       "        [5000],\n",
       "        [5000],\n",
       "        [5000]]),\n",
       " array([[5000],\n",
       "        [5000],\n",
       "        [5000],\n",
       "        [5000],\n",
       "        [5000],\n",
       "        [5000],\n",
       "        [5000],\n",
       "        [5000],\n",
       "        [5000],\n",
       "        [5000],\n",
       "        [5000],\n",
       "        [5000],\n",
       "        [5000],\n",
       "        [5000],\n",
       "        [5000],\n",
       "        [5000]]),\n",
       " array([[5000],\n",
       "        [5000],\n",
       "        [5000],\n",
       "        [5000],\n",
       "        [5000],\n",
       "        [5000],\n",
       "        [5000],\n",
       "        [5000],\n",
       "        [5000],\n",
       "        [5000],\n",
       "        [5000],\n",
       "        [5000],\n",
       "        [5000],\n",
       "        [5000],\n",
       "        [5000],\n",
       "        [5000]]),\n",
       " array([[5000],\n",
       "        [5000],\n",
       "        [5000],\n",
       "        [5000],\n",
       "        [5000],\n",
       "        [5000],\n",
       "        [5000],\n",
       "        [5000],\n",
       "        [5000],\n",
       "        [5000],\n",
       "        [5000],\n",
       "        [5000],\n",
       "        [5000],\n",
       "        [5000],\n",
       "        [5000],\n",
       "        [5000]]),\n",
       " array([[5000],\n",
       "        [5000],\n",
       "        [5000],\n",
       "        [5000],\n",
       "        [5000],\n",
       "        [5000],\n",
       "        [5000],\n",
       "        [5000],\n",
       "        [5000],\n",
       "        [5000],\n",
       "        [5000],\n",
       "        [5000],\n",
       "        [5000],\n",
       "        [5000],\n",
       "        [5000],\n",
       "        [5000]]),\n",
       " array([[5000],\n",
       "        [5000],\n",
       "        [5000],\n",
       "        [5000],\n",
       "        [5000],\n",
       "        [5000],\n",
       "        [5000],\n",
       "        [5000],\n",
       "        [5000],\n",
       "        [5000],\n",
       "        [5000],\n",
       "        [5000],\n",
       "        [5000],\n",
       "        [5000],\n",
       "        [5000],\n",
       "        [5000]]),\n",
       " array([[5000]])]"
      ]
     },
     "execution_count": 44,
     "metadata": {},
     "output_type": "execute_result"
    }
   ],
   "source": [
    "upper_bounds_z"
   ]
  },
  {
   "cell_type": "code",
   "execution_count": 38,
   "metadata": {},
   "outputs": [
    {
     "ename": "NameError",
     "evalue": "name 'layer_type' is not defined",
     "output_type": "error",
     "traceback": [
      "\u001b[0;31m---------------------------------------------------------------------------\u001b[0m",
      "\u001b[0;31mNameError\u001b[0m                                 Traceback (most recent call last)",
      "\u001b[0;32m<ipython-input-38-ede7e4690fe6>\u001b[0m in \u001b[0;36m<module>\u001b[0;34m\u001b[0m\n\u001b[1;32m      1\u001b[0m \u001b[0mtmp\u001b[0m \u001b[0;34m=\u001b[0m \u001b[0;34m[\u001b[0m\u001b[0mlayer\u001b[0m\u001b[0;34m.\u001b[0m\u001b[0mget_config\u001b[0m\u001b[0;34m(\u001b[0m\u001b[0;34m)\u001b[0m\u001b[0;34m[\u001b[0m\u001b[0;34m'name'\u001b[0m\u001b[0;34m]\u001b[0m \u001b[0;32mfor\u001b[0m \u001b[0mlayer\u001b[0m \u001b[0;32min\u001b[0m \u001b[0mLayers\u001b[0m\u001b[0;34m]\u001b[0m\u001b[0;34m\u001b[0m\u001b[0;34m\u001b[0m\u001b[0m\n\u001b[0;32m----> 2\u001b[0;31m \u001b[0mLayers\u001b[0m \u001b[0;34m=\u001b[0m \u001b[0;34m[\u001b[0m\u001b[0mLayers\u001b[0m\u001b[0;34m[\u001b[0m\u001b[0mi\u001b[0m\u001b[0;34m]\u001b[0m \u001b[0;32mfor\u001b[0m \u001b[0mi\u001b[0m \u001b[0;32min\u001b[0m \u001b[0;34m[\u001b[0m\u001b[0mtmp\u001b[0m\u001b[0;34m.\u001b[0m\u001b[0mindex\u001b[0m\u001b[0;34m(\u001b[0m\u001b[0ms\u001b[0m\u001b[0;34m)\u001b[0m \u001b[0;32mfor\u001b[0m \u001b[0ms\u001b[0m \u001b[0;32min\u001b[0m \u001b[0mtmp\u001b[0m \u001b[0;32mif\u001b[0m \u001b[0many\u001b[0m\u001b[0;34m(\u001b[0m\u001b[0;34m[\u001b[0m\u001b[0mx\u001b[0m \u001b[0;32min\u001b[0m \u001b[0ms\u001b[0m \u001b[0;32mfor\u001b[0m \u001b[0mx\u001b[0m \u001b[0;32min\u001b[0m \u001b[0mlayer_type\u001b[0m\u001b[0;34m]\u001b[0m\u001b[0;34m)\u001b[0m\u001b[0;34m]\u001b[0m\u001b[0;34m]\u001b[0m\u001b[0;34m\u001b[0m\u001b[0;34m\u001b[0m\u001b[0m\n\u001b[0m",
      "\u001b[0;32m<ipython-input-38-ede7e4690fe6>\u001b[0m in \u001b[0;36m<listcomp>\u001b[0;34m(.0)\u001b[0m\n\u001b[1;32m      1\u001b[0m \u001b[0mtmp\u001b[0m \u001b[0;34m=\u001b[0m \u001b[0;34m[\u001b[0m\u001b[0mlayer\u001b[0m\u001b[0;34m.\u001b[0m\u001b[0mget_config\u001b[0m\u001b[0;34m(\u001b[0m\u001b[0;34m)\u001b[0m\u001b[0;34m[\u001b[0m\u001b[0;34m'name'\u001b[0m\u001b[0;34m]\u001b[0m \u001b[0;32mfor\u001b[0m \u001b[0mlayer\u001b[0m \u001b[0;32min\u001b[0m \u001b[0mLayers\u001b[0m\u001b[0;34m]\u001b[0m\u001b[0;34m\u001b[0m\u001b[0;34m\u001b[0m\u001b[0m\n\u001b[0;32m----> 2\u001b[0;31m \u001b[0mLayers\u001b[0m \u001b[0;34m=\u001b[0m \u001b[0;34m[\u001b[0m\u001b[0mLayers\u001b[0m\u001b[0;34m[\u001b[0m\u001b[0mi\u001b[0m\u001b[0;34m]\u001b[0m \u001b[0;32mfor\u001b[0m \u001b[0mi\u001b[0m \u001b[0;32min\u001b[0m \u001b[0;34m[\u001b[0m\u001b[0mtmp\u001b[0m\u001b[0;34m.\u001b[0m\u001b[0mindex\u001b[0m\u001b[0;34m(\u001b[0m\u001b[0ms\u001b[0m\u001b[0;34m)\u001b[0m \u001b[0;32mfor\u001b[0m \u001b[0ms\u001b[0m \u001b[0;32min\u001b[0m \u001b[0mtmp\u001b[0m \u001b[0;32mif\u001b[0m \u001b[0many\u001b[0m\u001b[0;34m(\u001b[0m\u001b[0;34m[\u001b[0m\u001b[0mx\u001b[0m \u001b[0;32min\u001b[0m \u001b[0ms\u001b[0m \u001b[0;32mfor\u001b[0m \u001b[0mx\u001b[0m \u001b[0;32min\u001b[0m \u001b[0mlayer_type\u001b[0m\u001b[0;34m]\u001b[0m\u001b[0;34m)\u001b[0m\u001b[0;34m]\u001b[0m\u001b[0;34m]\u001b[0m\u001b[0;34m\u001b[0m\u001b[0;34m\u001b[0m\u001b[0m\n\u001b[0m",
      "\u001b[0;31mNameError\u001b[0m: name 'layer_type' is not defined"
     ]
    }
   ],
   "source": [
    "tmp = [layer.get_config()['name'] for layer in Layers]\n",
    "Layers = [Layers[i] for i in [tmp.index(s) for s in tmp if any([x in s for x in layer_type])]]"
   ]
  }
 ],
 "metadata": {
  "kernelspec": {
   "display_name": "thesis_v2_torch",
   "language": "python",
   "name": "thesis_v2_torch"
  },
  "language_info": {
   "codemirror_mode": {
    "name": "ipython",
    "version": 3
   },
   "file_extension": ".py",
   "mimetype": "text/x-python",
   "name": "python",
   "nbconvert_exporter": "python",
   "pygments_lexer": "ipython3",
   "version": "3.6.12"
  }
 },
 "nbformat": 4,
 "nbformat_minor": 4
}
