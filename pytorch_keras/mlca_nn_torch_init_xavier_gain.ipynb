{
 "cells": [
  {
   "cell_type": "code",
   "execution_count": 1,
   "metadata": {},
   "outputs": [
    {
     "name": "stderr",
     "output_type": "stream",
     "text": [
      "/home/korhan/miniconda3/envs/thesis_v2_torch/lib/python3.6/site-packages/tensorflow/python/framework/dtypes.py:526: FutureWarning: Passing (type, 1) or '1type' as a synonym of type is deprecated; in a future version of numpy, it will be understood as (type, (1,)) / '(1,)type'.\n",
      "  _np_qint8 = np.dtype([(\"qint8\", np.int8, 1)])\n",
      "/home/korhan/miniconda3/envs/thesis_v2_torch/lib/python3.6/site-packages/tensorflow/python/framework/dtypes.py:527: FutureWarning: Passing (type, 1) or '1type' as a synonym of type is deprecated; in a future version of numpy, it will be understood as (type, (1,)) / '(1,)type'.\n",
      "  _np_quint8 = np.dtype([(\"quint8\", np.uint8, 1)])\n",
      "/home/korhan/miniconda3/envs/thesis_v2_torch/lib/python3.6/site-packages/tensorflow/python/framework/dtypes.py:528: FutureWarning: Passing (type, 1) or '1type' as a synonym of type is deprecated; in a future version of numpy, it will be understood as (type, (1,)) / '(1,)type'.\n",
      "  _np_qint16 = np.dtype([(\"qint16\", np.int16, 1)])\n",
      "/home/korhan/miniconda3/envs/thesis_v2_torch/lib/python3.6/site-packages/tensorflow/python/framework/dtypes.py:529: FutureWarning: Passing (type, 1) or '1type' as a synonym of type is deprecated; in a future version of numpy, it will be understood as (type, (1,)) / '(1,)type'.\n",
      "  _np_quint16 = np.dtype([(\"quint16\", np.uint16, 1)])\n",
      "/home/korhan/miniconda3/envs/thesis_v2_torch/lib/python3.6/site-packages/tensorflow/python/framework/dtypes.py:530: FutureWarning: Passing (type, 1) or '1type' as a synonym of type is deprecated; in a future version of numpy, it will be understood as (type, (1,)) / '(1,)type'.\n",
      "  _np_qint32 = np.dtype([(\"qint32\", np.int32, 1)])\n",
      "/home/korhan/miniconda3/envs/thesis_v2_torch/lib/python3.6/site-packages/tensorflow/python/framework/dtypes.py:535: FutureWarning: Passing (type, 1) or '1type' as a synonym of type is deprecated; in a future version of numpy, it will be understood as (type, (1,)) / '(1,)type'.\n",
      "  np_resource = np.dtype([(\"resource\", np.ubyte, 1)])\n"
     ]
    }
   ],
   "source": [
    "import numpy as np\n",
    "import logging\n",
    "import matplotlib.pyplot as plt\n",
    "from tensorflow.keras import models,layers,regularizers,optimizers\n",
    "import torch.nn as nn\n",
    "import torch\n",
    "import torch.optim as optim\n",
    "import numpy as np\n",
    "import logging\n",
    "import matplotlib.pyplot as plt\n",
    "from collections import OrderedDict\n",
    "import pandas as pd\n"
   ]
  },
  {
   "cell_type": "code",
   "execution_count": 2,
   "metadata": {},
   "outputs": [],
   "source": [
    "epochs, batch_size = 20, 30\n",
    "X_valid=None\n",
    "Y_valid=None\n",
    "nq = 30\n",
    "X_train = np.float32(np.random.randn(nq,18) > .5)\n",
    "Y_train = np.random.rand(nq,1) * 70"
   ]
  },
  {
   "cell_type": "code",
   "execution_count": null,
   "metadata": {},
   "outputs": [],
   "source": [
    "#i will fit 1 time then check if reg works"
   ]
  },
  {
   "cell_type": "code",
   "execution_count": 85,
   "metadata": {},
   "outputs": [],
   "source": [
    "class BidderNN(nn.Module):\n",
    "    def __init__(self, M, model_parameters):\n",
    "        super(BidderNN, self).__init__()\n",
    "\n",
    "        self.model_parameters = model_parameters\n",
    "        self.M = M\n",
    "        \n",
    "        architecture = self.model_parameters['architecture']\n",
    "        dropout = self.model_parameters['dropout']\n",
    "        dp = self.model_parameters['dropout_prob']\n",
    "\n",
    "        architecture = [int(layer) for layer in architecture]  # integer check\n",
    "        number_of_hidden_layers = len(architecture)\n",
    "        dropout = bool(dropout)\n",
    "        # -------------------------------------------------- NN Architecture -------------------------------------------------#\n",
    "        # GET MODEL HERE\n",
    "        # first hidden layer\n",
    "        model = nn.Sequential()\n",
    "        model.add_module('dense_0',nn.Linear(self.M, architecture[0])) \n",
    "        model.add_module('relu_0',nn.ReLU())\n",
    "        if dropout is True: \n",
    "            model.add_module(\"dropout_0\", nn.Dropout(p=dp))\n",
    "\n",
    "        # remaining hidden layer\n",
    "        for k in range(1, number_of_hidden_layers):\n",
    "            model.add_module(f\"dense_{k}\", nn.Linear(architecture[k-1], architecture[k]))\n",
    "            model.add_module(f\"relu_{k}\", nn.ReLU())\n",
    "            if dropout is True:\n",
    "                model.add_module(f\"dropout{k}\", nn.Dropout(p=dp))\n",
    "        # final output layer\n",
    "        model.add_module(f\"dense_{k+1}_last\", nn.Linear(architecture[k], 1))\n",
    "        model.add_module(f\"relu_{k+1}_last\", nn.ReLU())        \n",
    "        \n",
    "        for m in model.modules():\n",
    "            if type(m) == nn.Linear:\n",
    "                nn.init.xavier_uniform_(m.weight,gain=1)\n",
    "#                 nn.init.kaiming_uniform_(m.weight)\n",
    "                m.bias.data.fill_(0.0)        \n",
    "\n",
    "        self.model = model\n",
    "\n",
    "    \n",
    "    def forward(self, x):\n",
    "        \n",
    "        return self.model(x)\n",
    "\n",
    "    \n",
    "class MLCA_NN:\n",
    "\n",
    "    def __init__(self, X_train, Y_train, scaler=None):\n",
    "        self.M = X_train.shape[1]  # number of items\n",
    "        self.X_train = X_train  # training set of bundles\n",
    "        self.Y_train = Y_train  # bidder's values for the bundels in X_train\n",
    "        self.X_valid = None   # test/validation set of bundles\n",
    "        self.Y_valid = None  # bidder's values for the bundels in X_valid\n",
    "        self.model_parameters = None  # neural network parameters\n",
    "        self.model = None  # keras model, i.e., the neural network\n",
    "        self.scaler = scaler  # the scaler used for initially scaling the Y_train values\n",
    "        self.history = None  # return value of the model.fit() method from keras\n",
    "        self.loss = None  # return value of the model.fit() method from keras\n",
    "        self.device = torch.device('cpu') # default, may be changed in init\n",
    "\n",
    "        \n",
    "    def initialize_model(self, model_parameters):\n",
    "        \n",
    "        self.model_parameters = model_parameters\n",
    "        # self.device = torch.device(model_parameters['device'])\n",
    "        self.model = BidderNN(self.M, model_parameters).to(self.device)\n",
    "        lr = model_parameters['learning_rate']\n",
    "                \n",
    "        # ADAM = adaptive moment estimation a first-order gradient-based optimization algorithm\n",
    "        self.optimizer = optim.Adam(self.model.parameters(),lr=lr, betas=(0.9, 0.999), \n",
    "                                    weight_decay=0.0, amsgrad=False)\n",
    "        self.criterion = nn.L1Loss(reduction='mean')\n",
    "        logging.debug('Neural Net initialized')\n",
    "\n",
    "\n",
    "    def __get_reg_loss(self, model):\n",
    "        regularization_type = self.model_parameters['regularization_type']\n",
    "        r = self.model_parameters['regularization']\n",
    "        w1, w2 = 0,0\n",
    "        # set regularization\n",
    "        if regularization_type == 'l2' or regularization_type is None:\n",
    "            w2 = r\n",
    "        if regularization_type == 'l1':\n",
    "            w1 = r\n",
    "        if regularization_type == 'l1_l2':\n",
    "            w1,w2 = r, r\n",
    "        \n",
    "        l1_regularization, l2_regularization = torch.FloatTensor([0]).to(self.device), torch.FloatTensor([0]).to(self.device)\n",
    "                \n",
    "        for name, param in model.named_parameters():\n",
    "            if 'last' in name: continue\n",
    "            l1_regularization += torch.sum( torch.abs(param) )\n",
    "            l2_regularization += torch.sum( torch.square(param) )\n",
    "        \n",
    "        return w1*l1_regularization + w2*l2_regularization\n",
    "        \n",
    "        \n",
    "    def fit(self, epochs, batch_size, X_valid=None, Y_valid=None):\n",
    "        # set test set if desired\n",
    "        self.X_valid = X_valid\n",
    "        self.Y_valid = Y_valid\n",
    "\n",
    "        size = self.X_train.shape[0]\n",
    "        N_iter = size//batch_size + int(bool(size%batch_size))\n",
    "\n",
    "        X = torch.FloatTensor(self.X_train).to(self.device)\n",
    "        Y = torch.FloatTensor(self.Y_train).to(self.device)\n",
    "\n",
    "        self.epoch_losses = {'train':[], 'val':[] ,'reg':[]}\n",
    "\n",
    "        for n in range(epochs):\n",
    "\n",
    "            self.model.train()\n",
    "            losses = {'train':[], 'val':[] ,'reg':[]}\n",
    "            nsamples = 0\n",
    "            indices = np.arange(len(X)) \n",
    "            np.random.shuffle(indices)\n",
    "\n",
    "            for i in range(N_iter):\n",
    "                x = X[indices[i*batch_size: (i+1)*batch_size]]\n",
    "                y = Y[indices[i*batch_size: (i+1)*batch_size]]\n",
    "                nsamples += len(x)\n",
    "                self.optimizer.zero_grad()\n",
    "                # Compute prediction and loss\n",
    "                pred = self.model(x)\n",
    "                mse_loss = self.criterion(pred.flatten(), y)\n",
    "                reg_loss = self.__get_reg_loss(self.model)\n",
    "                loss = mse_loss + reg_loss\n",
    "                \n",
    "                # Backpropagation\n",
    "                loss.backward()\n",
    "                self.optimizer.step()\n",
    "                losses['train'].append(loss.item())\n",
    "                losses['reg'].append(reg_loss.item())\n",
    "\n",
    "            self.epoch_losses['train'].append(np.mean(losses['train']))\n",
    "            self.epoch_losses['reg'].append(np.mean(losses['reg'])/self.model_parameters['regularization'])\n",
    "            \n",
    "            if (self.X_valid is not None) and (self.Y_valid is not None):\n",
    "                self.model.eval()\n",
    "                Xval = torch.FloatTensor(self.X_valid).to(self.device)\n",
    "                Yval = torch.FloatTensor(self.Y_valid).to(self.device)\n",
    "\n",
    "                size_val = self.X_valid.shape[0]\n",
    "                N_iter_val = size_val//batch_size + int(bool(size_val%batch_size))\n",
    "\n",
    "                with torch.no_grad():\n",
    "                    for i in range(N_iter_val):\n",
    "                        x = Xval[i*batch_size: (i+1)*batch_size]\n",
    "                        y = Yval[i*batch_size: (i+1)*batch_size]\n",
    "                        pred = self.model(x)\n",
    "                        mse_loss = self.criterion(pred.squeeze(), y)\n",
    "                        reg_loss = self.__get_reg_loss(self.model)\n",
    "                        loss = mse_loss + reg_loss\n",
    "                        losses['val'].append(loss.item())\n",
    "\n",
    "                epoch_losses['val'].append(np.mean(losses['val']))\n",
    "\n",
    "            \n",
    "#             loss = self.loss_info(batch_size, plot=False)\n",
    "#         return (loss)\n",
    "        tr, val = None, None\n",
    "        # TO DO: val icin de en son loss'un varligini kontrol edip sadece onu cekecek\n",
    "        tr_orig, val_orig = self.epoch_losses['train'][-1], self.epoch_losses['val']\n",
    "        return ((tr, val, tr_orig, val_orig))\n"
   ]
  },
  {
   "cell_type": "code",
   "execution_count": 107,
   "metadata": {},
   "outputs": [],
   "source": [
    "regularization_N = 1e-5\n",
    "learning_rate_N = 0.01\n",
    "layer_N = [32,150,50]\n",
    "dropout_N = True\n",
    "dropout_prob_N = 0.05\n",
    "epochs, batch_size = 30, 30\n",
    "regularization_type = 'l1_l2'\n",
    "## type: (default,xavier,kaiming)\n",
    "# nn_type = 'default'\n",
    "\n",
    "\n",
    "model_parameters =  OrderedDict([('regularization', regularization_N),\n",
    "                                ('learning_rate', learning_rate_N),\n",
    "                                ('architecture', layer_N),\n",
    "                                ('dropout', dropout_N),\n",
    "                                ('dropout_prob', dropout_prob_N),\n",
    "                                ('epochs', epochs),\n",
    "                                ('batch_size', batch_size),\n",
    "                                ('regularization_type',regularization_type),\n",
    "                                ('device','cpu')])\n",
    "\n",
    "mlca_nn_default = MLCA_NN(X_train, Y_train)\n",
    "mlca_nn_default.initialize_model(model_parameters)"
   ]
  },
  {
   "cell_type": "code",
   "execution_count": 81,
   "metadata": {},
   "outputs": [],
   "source": [
    "# mlca_nn.model.state_dict().keys()\n",
    "# mlca_nn.model.cpu().model[0]\n",
    "# mlca_nn.model.modules\n"
   ]
  },
  {
   "cell_type": "code",
   "execution_count": 108,
   "metadata": {
    "scrolled": false
   },
   "outputs": [
    {
     "name": "stdout",
     "output_type": "stream",
     "text": [
      "(32, 18) (32,)\n",
      "(150, 32) (150,)\n",
      "(50, 150) (50,)\n",
      "(1, 50) (1,)\n"
     ]
    },
    {
     "data": {
      "image/png": "[encoded data removed]",
      "text/plain": [
       "<Figure size 432x288 with 2 Axes>"
      ]
     },
     "metadata": {
      "needs_background": "light"
     },
     "output_type": "display_data"
    },
    {
     "data": {
      "image/png": "[encoded data removed]",
      "text/plain": [
       "<Figure size 432x288 with 2 Axes>"
      ]
     },
     "metadata": {
      "needs_background": "light"
     },
     "output_type": "display_data"
    },
    {
     "data": {
      "image/png": "[encoded data removed]",
      "text/plain": [
       "<Figure size 432x288 with 2 Axes>"
      ]
     },
     "metadata": {
      "needs_background": "light"
     },
     "output_type": "display_data"
    },
    {
     "data": {
      "image/png": "[encoded data removed]",
      "text/plain": [
       "<Figure size 432x288 with 2 Axes>"
      ]
     },
     "metadata": {
      "needs_background": "light"
     },
     "output_type": "display_data"
    }
   ],
   "source": [
    "# DEFAULT TORCH - before training-1e-5 reg\n",
    "W = []\n",
    "B = []\n",
    "for m in mlca_nn_default.model.modules():\n",
    "    if type(m) == nn.Linear:\n",
    "        W.append(m.weight.data.numpy())\n",
    "        B.append(m.bias.data.numpy())        \n",
    "        print(W[-1].shape, B[-1].shape)\n",
    "for i in range(len(W)):\n",
    "    fig, axes = plt.subplots(1,2)\n",
    "    axes[0].hist(W[i].reshape(-1), bins=np.arange(-1.1,1.1,0.05))\n",
    "    axes[1].hist(B[i].reshape(-1), bins=np.arange(-1.1,1.1,0.05))"
   ]
  },
  {
   "cell_type": "code",
   "execution_count": 109,
   "metadata": {
    "scrolled": true
   },
   "outputs": [
    {
     "data": {
      "text/plain": [
       "<matplotlib.legend.Legend at 0x7fc7742a2a90>"
      ]
     },
     "execution_count": 109,
     "metadata": {},
     "output_type": "execute_result"
    },
    {
     "data": {
      "image/png": "[encoded data removed]",
      "text/plain": [
       "<Figure size 432x288 with 1 Axes>"
      ]
     },
     "metadata": {
      "needs_background": "light"
     },
     "output_type": "display_data"
    }
   ],
   "source": [
    "#fitting\n",
    "losses = mlca_nn_default.fit(epochs=epochs, batch_size=batch_size)\n",
    "losses\n",
    "plt.plot(mlca_nn_default.epoch_losses['reg'],label='reg')\n",
    "plt.plot(mlca_nn_default.epoch_losses['train'] , label='train')\n",
    "plt.legend()\n"
   ]
  },
  {
   "cell_type": "code",
   "execution_count": 110,
   "metadata": {
    "scrolled": false
   },
   "outputs": [
    {
     "name": "stdout",
     "output_type": "stream",
     "text": [
      "(32, 18) (32,)\n",
      "(150, 32) (150,)\n",
      "(50, 150) (50,)\n",
      "(1, 50) (1,)\n"
     ]
    },
    {
     "data": {
      "image/png": "[encoded data removed]",
      "text/plain": [
       "<Figure size 432x288 with 2 Axes>"
      ]
     },
     "metadata": {
      "needs_background": "light"
     },
     "output_type": "display_data"
    },
    {
     "data": {
      "image/png": "[encoded data removed]",
      "text/plain": [
       "<Figure size 432x288 with 2 Axes>"
      ]
     },
     "metadata": {
      "needs_background": "light"
     },
     "output_type": "display_data"
    },
    {
     "data": {
      "image/png": "[encoded data removed]",
      "text/plain": [
       "<Figure size 432x288 with 2 Axes>"
      ]
     },
     "metadata": {
      "needs_background": "light"
     },
     "output_type": "display_data"
    },
    {
     "data": {
      "image/png": "[encoded data removed]",
      "text/plain": [
       "<Figure size 432x288 with 2 Axes>"
      ]
     },
     "metadata": {
      "needs_background": "light"
     },
     "output_type": "display_data"
    }
   ],
   "source": [
    "#after training-default 1e-5 reg\n",
    "W = []\n",
    "B = []\n",
    "for m in mlca_nn_default.model.modules():\n",
    "    if type(m) == nn.Linear:\n",
    "        W.append(m.weight.data.numpy())\n",
    "        B.append(m.bias.data.numpy())        \n",
    "        print(W[-1].shape, B[-1].shape)\n",
    "for i in range(len(W)):\n",
    "    fig, axes = plt.subplots(1,2)\n",
    "    axes[0].hist(W[i].reshape(-1), bins=np.arange(-1.1,1.1,0.05))\n",
    "    axes[1].hist(B[i].reshape(-1), bins=np.arange(-1.1,1.1,0.05))"
   ]
  },
  {
   "cell_type": "code",
   "execution_count": 111,
   "metadata": {},
   "outputs": [],
   "source": [
    "##KERAS##"
   ]
  },
  {
   "cell_type": "code",
   "execution_count": 112,
   "metadata": {},
   "outputs": [],
   "source": [
    "from tensorflow.keras import models,layers,regularizers,optimizers\n",
    "# how to get weights from keras\n",
    "\n",
    "r = regularization_N\n",
    "lr = learning_rate_N\n",
    "architecture = layer_N\n",
    "dropout = dropout_N\n",
    "dp = dropout_prob_N\n",
    "regularization_type = 'l1_l2'\n",
    "M = 18\n",
    "architecture = [int(layer) for layer in architecture]  # integer check\n",
    "number_of_hidden_layers = len(architecture)\n",
    "dropout = bool(dropout)\n",
    "\n",
    "# define input layer\n",
    "inputs = layers.Input(shape=(X_train.shape[1], ))\n",
    "# set regularization\n",
    "REG = regularizers.l1(r)\n",
    "# first hidden layer\n",
    "x = layers.Dense(architecture[0], kernel_regularizer=REG, bias_regularizer=REG, activation='relu')(inputs)\n",
    "if dropout is True:\n",
    "    x = layers.Dropout(rate=dp)(x)\n",
    "# remaining hidden layer\n",
    "for k in range(1, number_of_hidden_layers):\n",
    "    x = layers.Dense(architecture[k], kernel_regularizer=REG, bias_regularizer=REG, activation='relu')(x)\n",
    "    if dropout is True:\n",
    "        x = layers.Dropout(rate=dp)(x)\n",
    "# final output layer\n",
    "predictions = layers.Dense(1, activation='relu')(x)\n",
    "model = models.Model(inputs=inputs, outputs=predictions)"
   ]
  },
  {
   "cell_type": "code",
   "execution_count": 113,
   "metadata": {},
   "outputs": [
    {
     "name": "stdout",
     "output_type": "stream",
     "text": [
      "_________________________________________________________________\n",
      "Layer (type)                 Output Shape              Param #   \n",
      "=================================================================\n",
      "input_6 (InputLayer)         (None, 18)                0         \n",
      "_________________________________________________________________\n",
      "dense_20 (Dense)             (None, 32)                608       \n",
      "_________________________________________________________________\n",
      "dropout_15 (Dropout)         (None, 32)                0         \n",
      "_________________________________________________________________\n",
      "dense_21 (Dense)             (None, 150)               4950      \n",
      "_________________________________________________________________\n",
      "dropout_16 (Dropout)         (None, 150)               0         \n",
      "_________________________________________________________________\n",
      "dense_22 (Dense)             (None, 50)                7550      \n",
      "_________________________________________________________________\n",
      "dropout_17 (Dropout)         (None, 50)                0         \n",
      "_________________________________________________________________\n",
      "dense_23 (Dense)             (None, 1)                 51        \n",
      "=================================================================\n",
      "Total params: 13,159\n",
      "Trainable params: 13,159\n",
      "Non-trainable params: 0\n",
      "_________________________________________________________________\n"
     ]
    }
   ],
   "source": [
    "model.summary()\n",
    "ADAM = optimizers.Adam(lr=lr, beta_1=0.9, beta_2=0.999, decay=0.0, amsgrad=False)\n",
    "# compile the model and define the loss function\n",
    "model.compile(optimizer=ADAM, loss='mean_absolute_error')"
   ]
  },
  {
   "cell_type": "code",
   "execution_count": 114,
   "metadata": {},
   "outputs": [
    {
     "name": "stdout",
     "output_type": "stream",
     "text": [
      "(18, 32) 0.34528595\n",
      "(32,) 0.0\n",
      "(32, 150) 0.18149623\n",
      "(150,) 0.0\n",
      "(150, 50) 0.173184\n",
      "(50,) 0.0\n",
      "(50, 1) 0.33713308\n",
      "(1,) 0.0\n"
     ]
    },
    {
     "data": {
      "image/png": "[encoded data removed]",
      "text/plain": [
       "<Figure size 432x288 with 2 Axes>"
      ]
     },
     "metadata": {
      "needs_background": "light"
     },
     "output_type": "display_data"
    },
    {
     "data": {
      "image/png": "[encoded data removed]",
      "text/plain": [
       "<Figure size 432x288 with 2 Axes>"
      ]
     },
     "metadata": {
      "needs_background": "light"
     },
     "output_type": "display_data"
    },
    {
     "data": {
      "image/png": "[encoded data removed]",
      "text/plain": [
       "<Figure size 432x288 with 2 Axes>"
      ]
     },
     "metadata": {
      "needs_background": "light"
     },
     "output_type": "display_data"
    },
    {
     "data": {
      "image/png": "[encoded data removed]",
      "text/plain": [
       "<Figure size 432x288 with 2 Axes>"
      ]
     },
     "metadata": {
      "needs_background": "light"
     },
     "output_type": "display_data"
    }
   ],
   "source": [
    "# DEFAULT KERAS\n",
    "W = []\n",
    "B = []\n",
    "for i,w in enumerate(model.get_weights()):\n",
    "    if i%2==0:\n",
    "        W.append(w)\n",
    "        \n",
    "    else:\n",
    "        B.append(w)\n",
    "    print(w.shape, np.max(w))\n",
    "    \n",
    "for i in range(len(W)):\n",
    "    fig, axes = plt.subplots(1,2)\n",
    "    axes[0].hist(W[i].reshape(-1), bins=np.arange(-1.1,1.1,0.05))\n",
    "    axes[1].hist(B[i].reshape(-1), bins=np.arange(-1.1,1.1,0.05))"
   ]
  },
  {
   "cell_type": "code",
   "execution_count": 115,
   "metadata": {
    "scrolled": true
   },
   "outputs": [
    {
     "name": "stdout",
     "output_type": "stream",
     "text": [
      "Epoch 1/30\n",
      "30/30 [==============================] - 0s 16ms/sample - loss: 29.7870\n",
      "Epoch 2/30\n",
      "30/30 [==============================] - 0s 50us/sample - loss: 29.0296\n",
      "Epoch 3/30\n",
      "30/30 [==============================] - 0s 45us/sample - loss: 28.0822\n",
      "Epoch 4/30\n",
      "30/30 [==============================] - 0s 43us/sample - loss: 26.8352\n",
      "Epoch 5/30\n",
      "30/30 [==============================] - 0s 45us/sample - loss: 24.8172\n",
      "Epoch 6/30\n",
      "30/30 [==============================] - 0s 50us/sample - loss: 21.8226\n",
      "Epoch 7/30\n",
      "30/30 [==============================] - 0s 48us/sample - loss: 18.0978\n",
      "Epoch 8/30\n",
      "30/30 [==============================] - 0s 43us/sample - loss: 16.6112\n",
      "Epoch 9/30\n",
      "30/30 [==============================] - 0s 42us/sample - loss: 17.5990\n",
      "Epoch 10/30\n",
      "30/30 [==============================] - 0s 43us/sample - loss: 18.3525\n",
      "Epoch 11/30\n",
      "30/30 [==============================] - 0s 42us/sample - loss: 16.5964\n",
      "Epoch 12/30\n",
      "30/30 [==============================] - 0s 41us/sample - loss: 15.6546\n",
      "Epoch 13/30\n",
      "30/30 [==============================] - 0s 41us/sample - loss: 13.5064\n",
      "Epoch 14/30\n",
      "30/30 [==============================] - 0s 43us/sample - loss: 13.4919\n",
      "Epoch 15/30\n",
      "30/30 [==============================] - 0s 48us/sample - loss: 12.5662\n",
      "Epoch 16/30\n",
      "30/30 [==============================] - 0s 47us/sample - loss: 12.3620\n",
      "Epoch 17/30\n",
      "30/30 [==============================] - 0s 45us/sample - loss: 11.9635\n",
      "Epoch 18/30\n",
      "30/30 [==============================] - 0s 45us/sample - loss: 10.1853\n",
      "Epoch 19/30\n",
      "30/30 [==============================] - 0s 38us/sample - loss: 8.8177\n",
      "Epoch 20/30\n",
      "30/30 [==============================] - 0s 40us/sample - loss: 8.7687\n",
      "Epoch 21/30\n",
      "30/30 [==============================] - 0s 40us/sample - loss: 10.0748\n",
      "Epoch 22/30\n",
      "30/30 [==============================] - 0s 38us/sample - loss: 8.3272\n",
      "Epoch 23/30\n",
      "30/30 [==============================] - 0s 42us/sample - loss: 7.9316\n",
      "Epoch 24/30\n",
      "30/30 [==============================] - 0s 42us/sample - loss: 7.9113\n",
      "Epoch 25/30\n",
      "30/30 [==============================] - 0s 40us/sample - loss: 8.1320\n",
      "Epoch 26/30\n",
      "30/30 [==============================] - 0s 43us/sample - loss: 7.6767\n",
      "Epoch 27/30\n",
      "30/30 [==============================] - 0s 44us/sample - loss: 7.2012\n",
      "Epoch 28/30\n",
      "30/30 [==============================] - 0s 48us/sample - loss: 7.1071\n",
      "Epoch 29/30\n",
      "30/30 [==============================] - 0s 45us/sample - loss: 6.9468\n",
      "Epoch 30/30\n",
      "30/30 [==============================] - 0s 43us/sample - loss: 6.6947\n"
     ]
    }
   ],
   "source": [
    "history = model.fit(x=X_train, y=Y_train, verbose=1, \n",
    "          epochs=epochs, batch_size=batch_size)"
   ]
  },
  {
   "cell_type": "code",
   "execution_count": 116,
   "metadata": {},
   "outputs": [
    {
     "name": "stdout",
     "output_type": "stream",
     "text": [
      "(18, 32) 0.52964777\n",
      "(32,) 0.17824166\n",
      "(32, 150) 0.41676724\n",
      "(150,) 0.13187887\n",
      "(150, 50) 0.38133484\n",
      "(50,) 0.12999013\n",
      "(50, 1) 0.38621852\n",
      "(1,) 0.13268314\n"
     ]
    },
    {
     "data": {
      "image/png": "[encoded data removed]",
      "text/plain": [
       "<Figure size 432x288 with 2 Axes>"
      ]
     },
     "metadata": {
      "needs_background": "light"
     },
     "output_type": "display_data"
    },
    {
     "data": {
      "image/png": "[encoded data removed]",
      "text/plain": [
       "<Figure size 432x288 with 2 Axes>"
      ]
     },
     "metadata": {
      "needs_background": "light"
     },
     "output_type": "display_data"
    },
    {
     "data": {
      "image/png": "[encoded data removed]",
      "text/plain": [
       "<Figure size 432x288 with 2 Axes>"
      ]
     },
     "metadata": {
      "needs_background": "light"
     },
     "output_type": "display_data"
    },
    {
     "data": {
      "image/png": "[encoded data removed]",
      "text/plain": [
       "<Figure size 432x288 with 2 Axes>"
      ]
     },
     "metadata": {
      "needs_background": "light"
     },
     "output_type": "display_data"
    }
   ],
   "source": [
    "# DEFAULT KERAS - AFTER TRAIN\n",
    "W = []\n",
    "B = []\n",
    "for i,w in enumerate(model.get_weights()):\n",
    "    if i%2==0:\n",
    "        W.append(w)\n",
    "        \n",
    "    else:\n",
    "        B.append(w)\n",
    "    print(w.shape, np.max(w))\n",
    "    \n",
    "for i in range(len(W)):\n",
    "    fig, axes = plt.subplots(1,2)\n",
    "    axes[0].hist(W[i].reshape(-1), bins=np.arange(-1,1,0.1))\n",
    "    axes[1].hist(B[i].reshape(-1), bins=np.arange(-1,1,0.1))"
   ]
  },
  {
   "cell_type": "code",
   "execution_count": null,
   "metadata": {},
   "outputs": [],
   "source": [
    "for i,m in enumerate(nnmodel.modules()):\n",
    "    print(i,m)\n",
    "    "
   ]
  },
  {
   "cell_type": "code",
   "execution_count": null,
   "metadata": {},
   "outputs": [],
   "source": [
    "for m in nnmodel.modules():\n",
    "# def init_weights(m):\n",
    "    if type(m) == nn.Linear:\n",
    "        nn.init.xavier_uniform_(m.weight, gain=nn.init.calculate_gain('relu'))\n",
    "        m.bias.data.fill_(0.0)\n",
    "        "
   ]
  },
  {
   "cell_type": "code",
   "execution_count": null,
   "metadata": {},
   "outputs": [],
   "source": [
    "y_true = np.random.randint(0, 2, size=(2, 3))\n",
    "y_pred = np.random.random(size=(2, 3))\n"
   ]
  },
  {
   "cell_type": "code",
   "execution_count": null,
   "metadata": {},
   "outputs": [],
   "source": [
    "np.mean(np.abs(y_true - y_pred), axis=-1)"
   ]
  },
  {
   "cell_type": "code",
   "execution_count": null,
   "metadata": {},
   "outputs": [],
   "source": [
    "for m in nnmodel.parameters():\n",
    "    print(m.grad)"
   ]
  },
  {
   "cell_type": "code",
   "execution_count": null,
   "metadata": {},
   "outputs": [],
   "source": [
    "layer_type=['dense', 'input']\n",
    "Layer_shapes = []\n",
    "for i, (name, param) in enumerate(nnmodel.named_parameters()):\n",
    "    if (i==0) and ('input' in layer_type): \n",
    "        Layer_shapes.append(param.shape[1])\n",
    "    if any([x in name for x in layer_type]) and ('bias' in name):\n",
    "        Layer_shapes.append(param.shape[0])\n",
    "        \n",
    "Layer_shapes"
   ]
  },
  {
   "cell_type": "code",
   "execution_count": null,
   "metadata": {},
   "outputs": [],
   "source": [
    "for name, param in nnmodel.named_parameters():\n",
    "#     if 'last' not in name:\n",
    "    print(name)"
   ]
  },
  {
   "cell_type": "code",
   "execution_count": null,
   "metadata": {},
   "outputs": [],
   "source": [
    "[param.data.shape[0] for name, param in nnmodel.named_parameters() \n",
    " if (any([x in name for x in layer_type])) and ('bias' not in name)]"
   ]
  },
  {
   "cell_type": "code",
   "execution_count": null,
   "metadata": {},
   "outputs": [],
   "source": [
    "name.split('.')"
   ]
  },
  {
   "cell_type": "code",
   "execution_count": null,
   "metadata": {},
   "outputs": [],
   "source": [
    "for W in kerasmodel.get_weights(): print(W.shape)"
   ]
  },
  {
   "cell_type": "code",
   "execution_count": null,
   "metadata": {},
   "outputs": [],
   "source": [
    "W"
   ]
  },
  {
   "cell_type": "code",
   "execution_count": null,
   "metadata": {},
   "outputs": [],
   "source": [
    "18*16+16*16+16*16+16"
   ]
  },
  {
   "cell_type": "code",
   "execution_count": null,
   "metadata": {},
   "outputs": [],
   "source": [
    "weights = []\n",
    "for params in nnmodel.parameters():\n",
    "    weights.append(params.detach().cpu().numpy().T)   "
   ]
  },
  {
   "cell_type": "code",
   "execution_count": null,
   "metadata": {},
   "outputs": [],
   "source": [
    "w"
   ]
  },
  {
   "cell_type": "code",
   "execution_count": null,
   "metadata": {},
   "outputs": [],
   "source": [
    "# UPPER BOUND TORCH\n",
    "L = 5000\n",
    "upper_bounds_z = []\n",
    "for layer in Layer_shapes:\n",
    "#     print(layer.output.shape)\n",
    "    upper_bounds_z.append(np.array([L]*layer).reshape(-1, 1))\n",
    "#     print(upper_bounds_z[-1].shape)\n",
    "    \n",
    "# upper_bounds_z"
   ]
  },
  {
   "cell_type": "code",
   "execution_count": null,
   "metadata": {
    "scrolled": true
   },
   "outputs": [],
   "source": [
    "upper_bounds_z"
   ]
  },
  {
   "cell_type": "code",
   "execution_count": null,
   "metadata": {},
   "outputs": [],
   "source": [
    "kerasmodel = model"
   ]
  },
  {
   "cell_type": "code",
   "execution_count": null,
   "metadata": {},
   "outputs": [],
   "source": [
    "# def _get_model_layers(self, key, layer_type=None):\n",
    "layer_type=['dense', 'input']\n",
    "Layers = kerasmodel.layers\n",
    "if layer_type is not None:\n",
    "    tmp = [layer.get_config()['name'] for layer in Layers]\n",
    "    Layers = [Layers[i] for i in [tmp.index(s) for s in tmp if any([x in s for x in layer_type])]]\n",
    "Layers"
   ]
  },
  {
   "cell_type": "code",
   "execution_count": null,
   "metadata": {},
   "outputs": [],
   "source": [
    "# UPPER BOUND KERAS\n",
    "L = 5000\n",
    "upper_bounds_z = []\n",
    "for layer in Layers:\n",
    "    print(layer.output.shape)\n",
    "    upper_bounds_z.append(np.array([L]*layer.output.shape[1]).reshape(-1, 1))\n",
    "#     print(upper_bounds_z[-1].shape)\n",
    "    \n",
    "# upper_bounds_z"
   ]
  },
  {
   "cell_type": "code",
   "execution_count": null,
   "metadata": {},
   "outputs": [],
   "source": [
    "weights = []\n",
    "for params in mlca_nn.model.parameters():\n",
    "    weights.append(params.detach().cpu().numpy().T)"
   ]
  },
  {
   "cell_type": "code",
   "execution_count": null,
   "metadata": {},
   "outputs": [],
   "source": [
    "weights"
   ]
  },
  {
   "cell_type": "code",
   "execution_count": null,
   "metadata": {},
   "outputs": [],
   "source": [
    "for w in weights:\n",
    "    print(w.shape)"
   ]
  },
  {
   "cell_type": "code",
   "execution_count": null,
   "metadata": {
    "scrolled": true
   },
   "outputs": [],
   "source": [
    "history = model.fit(x=X_train, y=Y_train, verbose=1, \n",
    "          epochs=epochs, batch_size=batch_size)"
   ]
  },
  {
   "cell_type": "code",
   "execution_count": null,
   "metadata": {},
   "outputs": [],
   "source": [
    "history.history"
   ]
  },
  {
   "cell_type": "code",
   "execution_count": null,
   "metadata": {},
   "outputs": [],
   "source": [
    "kerasmodel = model"
   ]
  },
  {
   "cell_type": "code",
   "execution_count": null,
   "metadata": {},
   "outputs": [],
   "source": [
    "for w in model.get_weights():\n",
    "    print(w.shape)"
   ]
  },
  {
   "cell_type": "code",
   "execution_count": null,
   "metadata": {},
   "outputs": [],
   "source": [
    "mlca_nn.model[0].weight.data.T.numpy().shape[0]"
   ]
  },
  {
   "cell_type": "code",
   "execution_count": null,
   "metadata": {},
   "outputs": [],
   "source": [
    "Layers = kerasmodel.layers\n",
    "[layer.get_config()['name'] for layer in Layers]"
   ]
  },
  {
   "cell_type": "code",
   "execution_count": null,
   "metadata": {},
   "outputs": [],
   "source": [
    "layer.output.shape[1]"
   ]
  },
  {
   "cell_type": "code",
   "execution_count": null,
   "metadata": {},
   "outputs": [],
   "source": [
    "upper_bounds_z"
   ]
  },
  {
   "cell_type": "code",
   "execution_count": null,
   "metadata": {},
   "outputs": [],
   "source": [
    "tmp = [layer.get_config()['name'] for layer in Layers]\n",
    "Layers = [Layers[i] for i in [tmp.index(s) for s in tmp if any([x in s for x in layer_type])]]"
   ]
  },
  {
   "cell_type": "code",
   "execution_count": null,
   "metadata": {},
   "outputs": [],
   "source": [
    "nn.init.calculate_gain('relu')\n",
    "criterion = nn.L1Loss(reduction='mean')\n",
    "x ,y = torch.FloatTensor([[1,5],[2,5]]), torch.FloatTensor([[8,2],[5,3]])\n",
    "\n",
    "criterion(x, y)\n",
    "torch.abs(x - y).mean()"
   ]
  }
 ],
 "metadata": {
  "kernelspec": {
   "display_name": "thesis_v2_torch",
   "language": "python",
   "name": "thesis_v2_torch"
  },
  "language_info": {
   "codemirror_mode": {
    "name": "ipython",
    "version": 3
   },
   "file_extension": ".py",
   "mimetype": "text/x-python",
   "name": "python",
   "nbconvert_exporter": "python",
   "pygments_lexer": "ipython3",
   "version": "3.6.12"
  }
 },
 "nbformat": 4,
 "nbformat_minor": 4
}
