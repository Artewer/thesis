{
 "cells": [
  {
   "cell_type": "code",
   "execution_count": 33,
   "metadata": {},
   "outputs": [
    {
     "name": "stdout",
     "output_type": "stream",
     "text": [
      "beta_0 = 2.3306196453868318e-08\n",
      "beta_1 = 4.4477683303601064e-08\n",
      "beta_2 = 0.6670070153309257\n",
      "beta_3 = 1.4959215580282613e-08\n",
      "beta_4 = 0.3182671405910768\n",
      "beta_5 = 1.6734899953778344e-08\n",
      "beta_6 = 1.1470420077846508e-08\n",
      "beta_7 = 8.204124031817441e-09\n",
      "beta_8 = 0.36929348868930784\n",
      "beta_9 = 1.2008052797460477e-08\n"
     ]
    }
   ],
   "source": [
    "from docplex.mp.model import Model\n",
    "import numpy as np\n",
    "\n",
    "# Sample data\n",
    "X = np.random.randint(100, size=(4, 10))\n",
    "\n",
    "y = np.random.randint(100, size=(4, 1)).reshape(-1)\n",
    "\n",
    "n, p = X.shape\n",
    "\n",
    "# Create the model\n",
    "mdl = Model(\"LinearRegression\")\n",
    "\n",
    "# Define the variables for regression coefficients\n",
    "beta = mdl.continuous_var_list(p, name=\"beta\")\n",
    "\n",
    "# Define the quadratic objective\n",
    "XT_X = np.dot(X.T, X)\n",
    "XT_y = np.dot(X.T, y)\n",
    "obj = 0.5 * mdl.sum(XT_X[i][j] * beta[i] * beta[j] for i in range(p) for j in range(p)) - mdl.sum(XT_y[i] * beta[i] for i in range(p)) + 0.5 * np.dot(y, y)\n",
    "\n",
    "mdl.minimize(obj)\n",
    "\n",
    "# Solve the model\n",
    "mdl.solve()\n",
    "\n",
    "b = [v.solution_value for v in beta]\n",
    "# Print the solution\n",
    "for v in beta:\n",
    "    print(f\"{v.name} = {v.solution_value}\")\n",
    "\n",
    "\n"
   ]
  },
  {
   "cell_type": "code",
   "execution_count": 39,
   "metadata": {},
   "outputs": [
    {
     "name": "stdout",
     "output_type": "stream",
     "text": [
      "[[48 51 41 69 14 53 59 96  7 52]\n",
      " [59  4 67  5 95 93 46 98 54 39]\n",
      " [51 15 12 29 18 16 62 18 91 57]\n",
      " [54 89 89 61 22  8 11  0 57  0]]\n",
      "[33 95 47 88]\n"
     ]
    },
    {
     "data": {
      "text/plain": [
       "array([34.38808941, 94.86670176, 47.33860429, 87.4152367 ])"
      ]
     },
     "execution_count": 39,
     "metadata": {},
     "output_type": "execute_result"
    }
   ],
   "source": [
    "print(X)\n",
    "print(y)\n",
    "np.sum(X * b, axis=1)\n"
   ]
  }
 ],
 "metadata": {
  "kernelspec": {
   "display_name": "ica_new",
   "language": "python",
   "name": "python3"
  },
  "language_info": {
   "codemirror_mode": {
    "name": "ipython",
    "version": 3
   },
   "file_extension": ".py",
   "mimetype": "text/x-python",
   "name": "python",
   "nbconvert_exporter": "python",
   "pygments_lexer": "ipython3",
   "version": "3.6.13"
  },
  "orig_nbformat": 4
 },
 "nbformat": 4,
 "nbformat_minor": 2
}
