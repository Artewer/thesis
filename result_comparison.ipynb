{
 "cells": [
  {
   "cell_type": "code",
   "execution_count": 1,
   "metadata": {},
   "outputs": [
    {
     "name": "stdout",
     "output_type": "stream",
     "text": [
      "MLCA NN Class imported\n",
      "MLCA NN_MIP Class imported\n",
      "WDP Class imported\n",
      "MLCA_Economies imported\n",
      "MLCA function imported\n"
     ]
    }
   ],
   "source": [
    "# Libs\n",
    "#torch\"\n",
    "import torch.nn as nn\n",
    "import torch\n",
    "import torch.optim as optim\n",
    "import torch.nn.functional as F\n",
    "import logging\n",
    "import pandas as pd\n",
    "from collections import OrderedDict\n",
    "import pickle\n",
    "import numpy as np\n",
    "import seaborn as sns\n",
    "import datetime\n",
    "import os\n",
    "import random\n",
    "import glob\n",
    "import matplotlib.pyplot as plt\n",
    "from functools import reduce\n",
    "# Own Modules\n",
    "from source_torch.mlca.mlca_setup import set_value_model_parameters\n",
    "from source_torch.mlca.mlca import mlca_mechanism\n",
    "from source_torch.util import save_result,load_result"
   ]
  },
  {
   "cell_type": "code",
   "execution_count": 3,
   "metadata": {},
   "outputs": [],
   "source": [
    "# log debug to console\n",
    "logging.basicConfig(level=logging.DEBUG, format='%(asctime)s:               %(message)s', datefmt='%H:%M:%S')\n",
    "device0='cuda'\n",
    "torch.cuda.is_available()\n",
    "dirname = './experiments/MLCA/Torch/results'"
   ]
  },
  {
   "cell_type": "code",
   "execution_count": 79,
   "metadata": {},
   "outputs": [
    {
     "name": "stdout",
     "output_type": "stream",
     "text": [
      "['./experiments/MLCA/Torch/results/GSVM_unif', './experiments/MLCA/Torch/results/MRVM_unif', './experiments/MLCA/Torch/results/LSVM_gali', './experiments/MLCA/Torch/results/LSVM_unif', './experiments/MLCA/Torch/results/GSVM_gali']\n",
      "./experiments/MLCA/Torch/results/GSVM_unif/results_2 is loaded \n",
      "2\n",
      "./experiments/MLCA/Torch/results/GSVM_unif/7_19_14_34_5 is loaded \n",
      "5\n",
      "./experiments/MLCA/Torch/results/GSVM_unif/results_1 is loaded \n",
      "1\n",
      "./experiments/MLCA/Torch/results/GSVM_unif/results_4 is loaded \n",
      "4\n",
      "./experiments/MLCA/Torch/results/GSVM_unif/results_0 is loaded \n",
      "0\n",
      "./experiments/MLCA/Torch/results/GSVM_unif/results_3 is loaded \n",
      "3\n",
      "./experiments/MLCA/Torch/results/MRVM_unif/results_1 is loaded \n",
      "1\n",
      "./experiments/MLCA/Torch/results/MRVM_unif/results_0 is loaded \n",
      "0\n",
      "./experiments/MLCA/Torch/results/LSVM_gali/results_1 is loaded \n",
      "1\n",
      "./experiments/MLCA/Torch/results/LSVM_gali/results_0 is loaded \n",
      "0\n",
      "./experiments/MLCA/Torch/results/LSVM_unif/results_5 is loaded \n",
      "5\n",
      "./experiments/MLCA/Torch/results/LSVM_unif/results_1 is loaded \n",
      "1\n",
      "./experiments/MLCA/Torch/results/LSVM_unif/results_4 is loaded \n",
      "4\n",
      "./experiments/MLCA/Torch/results/LSVM_unif/results_0 is loaded \n",
      "0\n",
      "./experiments/MLCA/Torch/results/GSVM_gali/results_2 is loaded \n",
      "2\n",
      "./experiments/MLCA/Torch/results/GSVM_gali/results_1 is loaded \n",
      "1\n"
     ]
    }
   ],
   "source": [
    "#Preparations\n",
    "# model_name_1 = dirname + '/GSVM_unif'#LSVM MRVM GSVM\n",
    "# model_name_2 = dirname + '/LSVM_unif'\n",
    "# model_name_3 = dirname + '/MRVM_unif'\n",
    "# model_name_4 = dirname + '/GSVM_gali'\n",
    "# model_name_5 = dirname + '/LSVM_gali'\n",
    "# model_name_6 = dirname + '/MRVM_gali'\n",
    "#add all folders from dirname to a list\n",
    "models = []\n",
    "\n",
    "for root, dirs, files in os.walk(dirname):\n",
    "    if dirs:\n",
    "        for fold in dirs:\n",
    "            models.append(dirname + '/' + fold)\n",
    "\n",
    "print(models)\n",
    "def find_files(directory):\n",
    "    results = []\n",
    "    for root, dirs, files in os.walk(directory):\n",
    "        for file in files:\n",
    "            res = load_result((os.path.join(root, file)))\n",
    "            results.append(res)\n",
    "            print(res['SEED TRUE VALUES']['Seed'])\n",
    "    return results\n",
    "\n",
    "\n",
    "results = {}\n",
    "for path in models:\n",
    "    res = find_files(path)\n",
    "    if res:\n",
    "        results[path] = res"
   ]
  },
  {
   "cell_type": "code",
   "execution_count": 80,
   "metadata": {},
   "outputs": [
    {
     "data": {
      "text/plain": [
       "dict_keys(['./experiments/MLCA/Torch/results/GSVM_unif', './experiments/MLCA/Torch/results/MRVM_unif', './experiments/MLCA/Torch/results/LSVM_gali', './experiments/MLCA/Torch/results/LSVM_unif', './experiments/MLCA/Torch/results/GSVM_gali'])"
      ]
     },
     "execution_count": 80,
     "metadata": {},
     "output_type": "execute_result"
    }
   ],
   "source": [
    "results.keys()"
   ]
  },
  {
   "cell_type": "code",
   "execution_count": 81,
   "metadata": {},
   "outputs": [
    {
     "name": "stdout",
     "output_type": "stream",
     "text": [
      "./experiments/MLCA/Torch/results/GSVM_unif: \n",
      "Average MLCA Efficiency: 0.9630226058416573\n",
      "Average Number of Iterations: 3.0\n",
      "Total Time Elapsed for an instance: ['0d 0h:29m:28s', '0d 0h:27m:45s', '0d 0h:28m:27s', '0d 0h:27m:5s', '0d 1h:2m:30s', '0d 0h:24m:14s']\n",
      "./experiments/MLCA/Torch/results/MRVM_unif: \n",
      "Average MLCA Efficiency: 0.9220221370548547\n",
      "Average Number of Iterations: 7.0\n",
      "Total Time Elapsed for an instance: ['0d 4h:25m:44s', '0d 6h:53m:10s']\n",
      "./experiments/MLCA/Torch/results/LSVM_gali: \n",
      "Average MLCA Efficiency: 0.9521407343129331\n",
      "Average Number of Iterations: 2.0\n",
      "Total Time Elapsed for an instance: ['0d 0h:24m:0s', '0d 0h:19m:42s']\n",
      "./experiments/MLCA/Torch/results/LSVM_unif: \n",
      "Average MLCA Efficiency: 0.8591625963905684\n",
      "Average Number of Iterations: 2.0\n",
      "Total Time Elapsed for an instance: ['0d 0h:28m:14s', '0d 0h:23m:9s', '0d 0h:20m:21s', '0d 1h:14m:18s']\n",
      "./experiments/MLCA/Torch/results/GSVM_gali: \n",
      "Average MLCA Efficiency: 0.9803668763924998\n",
      "Average Number of Iterations: 3.0\n",
      "Total Time Elapsed for an instance: ['0d 0h:24m:50s', '0d 0h:36m:56s']\n"
     ]
    }
   ],
   "source": [
    "for i in results.keys():\n",
    "    print(i + ': ')\n",
    "    #average MLCA Efficiency of all runs\n",
    "    print('Average MLCA Efficiency: ' + str(np.mean([results[i][j]['MLCA Efficiency'] for j in range(len(results[i]))])))\n",
    "    #average number of iterations of all runs\n",
    "    print('Average Number of Iterations: ' + str(np.mean([len(results[i][j]['Statistics']['Efficiency per Iteration']) for j in range(len(results[i]))])))\n",
    "    #Total time elapsed of all runs\n",
    "    print('Total Time Elapsed for an instance: ' + str([results[i][j]['Statistics']['Total Time Elapsed'] for j in range(len(results[i]))]))"
   ]
  },
  {
   "cell_type": "code",
   "execution_count": 82,
   "metadata": {},
   "outputs": [],
   "source": [
    "#function to efficiency for different models\n",
    "def plot_efficiency(results):\n",
    "    types = results.keys()\n",
    "    df = pd.DataFrame(columns=['Efficiency', 'Type'])\n",
    "    for i in results.keys():\n",
    "        # get mean efficiency\n",
    "        eff = np.mean([results[i][j]['MLCA Efficiency'] for j in range(len(results[i]))])\n",
    "        df = df.append({'Efficiency': eff, 'Type': i}, ignore_index=True)\n",
    "    \n",
    "    sns.set(style=\"whitegrid\")\n",
    "    g = sns.catplot(\n",
    "    data=df, kind=\"bar\",\n",
    "    x=\"Type\", y=\"Efficiency\", palette=\"dark\", alpha=.6, height=6\n",
    "    )\n",
    "    # hue=\"something additional on the right\"\n",
    "    #errorbar=\"Standard Deviation\"\n",
    "    #g.despine(left=True)\n",
    "    g.set_axis_labels(\"\", \"Efficiency\")\n",
    "\n",
    "def plot_efficiency_per_round(results):\n",
    "    types = results.keys()\n",
    "    #get mean efficiency per round\n",
    "     \n",
    "    df = pd.DataFrame(columns=['Iteration', 'Efficiency', 'Type'])\n",
    "    for i in results.keys():\n",
    "        for j in range(len(results[i]['Statistics']['Efficiency per Iteration'])):\n",
    "            eff = np.mean([results[i][k]['Statistics']['Efficiency per Iteration'][j] for k in range(len(results[i]))])\n",
    "            df = df.append({'Iteration': j, 'Efficiency': eff, 'Type': i}, ignore_index=True)\n",
    "    \n",
    "    sns.set_theme(style=\"darkgrid\")\n",
    "    sns.lineplot(x=\"Iteration\", y=\"Efficiency\",\n",
    "             data=df, hue = 'Type')\n",
    "    # Get the current axes object\n",
    "    ax = plt.gca()\n",
    "\n",
    "    # Set custom steps for the x-axis ticks\n",
    "    custom_ticks = np.arange(0, np.max(df['Iteration'])+1, 1)  # Custom steps: start=0, stop=10, step=2\n",
    "    ax.set_xticks(custom_ticks)"
   ]
  },
  {
   "cell_type": "code",
   "execution_count": 84,
   "metadata": {},
   "outputs": [
    {
     "ename": "TypeError",
     "evalue": "list indices must be integers or slices, not str",
     "output_type": "error",
     "traceback": [
      "\u001b[0;31m---------------------------------------------------------------------------\u001b[0m",
      "\u001b[0;31mTypeError\u001b[0m                                 Traceback (most recent call last)",
      "\u001b[0;32m<ipython-input-84-1f7183a0a9da>\u001b[0m in \u001b[0;36m<module>\u001b[0;34m\u001b[0m\n\u001b[0;32m----> 1\u001b[0;31m \u001b[0mplot_efficiency_per_round\u001b[0m\u001b[0;34m(\u001b[0m\u001b[0mresults\u001b[0m\u001b[0;34m)\u001b[0m\u001b[0;34m\u001b[0m\u001b[0;34m\u001b[0m\u001b[0m\n\u001b[0m\u001b[1;32m      2\u001b[0m \u001b[0;31m#plot_efficiency(results)\u001b[0m\u001b[0;34m\u001b[0m\u001b[0;34m\u001b[0m\u001b[0;34m\u001b[0m\u001b[0m\n",
      "\u001b[0;32m<ipython-input-82-d403e4133e8f>\u001b[0m in \u001b[0;36mplot_efficiency_per_round\u001b[0;34m(results)\u001b[0m\n\u001b[1;32m     24\u001b[0m     \u001b[0mdf\u001b[0m \u001b[0;34m=\u001b[0m \u001b[0mpd\u001b[0m\u001b[0;34m.\u001b[0m\u001b[0mDataFrame\u001b[0m\u001b[0;34m(\u001b[0m\u001b[0mcolumns\u001b[0m\u001b[0;34m=\u001b[0m\u001b[0;34m[\u001b[0m\u001b[0;34m'Iteration'\u001b[0m\u001b[0;34m,\u001b[0m \u001b[0;34m'Efficiency'\u001b[0m\u001b[0;34m,\u001b[0m \u001b[0;34m'Type'\u001b[0m\u001b[0;34m]\u001b[0m\u001b[0;34m)\u001b[0m\u001b[0;34m\u001b[0m\u001b[0;34m\u001b[0m\u001b[0m\n\u001b[1;32m     25\u001b[0m     \u001b[0;32mfor\u001b[0m \u001b[0mi\u001b[0m \u001b[0;32min\u001b[0m \u001b[0mresults\u001b[0m\u001b[0;34m.\u001b[0m\u001b[0mkeys\u001b[0m\u001b[0;34m(\u001b[0m\u001b[0;34m)\u001b[0m\u001b[0;34m:\u001b[0m\u001b[0;34m\u001b[0m\u001b[0;34m\u001b[0m\u001b[0m\n\u001b[0;32m---> 26\u001b[0;31m         \u001b[0;32mfor\u001b[0m \u001b[0mj\u001b[0m \u001b[0;32min\u001b[0m \u001b[0mrange\u001b[0m\u001b[0;34m(\u001b[0m\u001b[0mlen\u001b[0m\u001b[0;34m(\u001b[0m\u001b[0mresults\u001b[0m\u001b[0;34m[\u001b[0m\u001b[0mi\u001b[0m\u001b[0;34m]\u001b[0m\u001b[0;34m[\u001b[0m\u001b[0;34m'Statistics'\u001b[0m\u001b[0;34m]\u001b[0m\u001b[0;34m[\u001b[0m\u001b[0;34m'Efficiency per Iteration'\u001b[0m\u001b[0;34m]\u001b[0m\u001b[0;34m)\u001b[0m\u001b[0;34m)\u001b[0m\u001b[0;34m:\u001b[0m\u001b[0;34m\u001b[0m\u001b[0;34m\u001b[0m\u001b[0m\n\u001b[0m\u001b[1;32m     27\u001b[0m             \u001b[0meff\u001b[0m \u001b[0;34m=\u001b[0m \u001b[0mnp\u001b[0m\u001b[0;34m.\u001b[0m\u001b[0mmean\u001b[0m\u001b[0;34m(\u001b[0m\u001b[0;34m[\u001b[0m\u001b[0mresults\u001b[0m\u001b[0;34m[\u001b[0m\u001b[0mi\u001b[0m\u001b[0;34m]\u001b[0m\u001b[0;34m[\u001b[0m\u001b[0mk\u001b[0m\u001b[0;34m]\u001b[0m\u001b[0;34m[\u001b[0m\u001b[0;34m'Statistics'\u001b[0m\u001b[0;34m]\u001b[0m\u001b[0;34m[\u001b[0m\u001b[0;34m'Efficiency per Iteration'\u001b[0m\u001b[0;34m]\u001b[0m\u001b[0;34m[\u001b[0m\u001b[0mj\u001b[0m\u001b[0;34m]\u001b[0m \u001b[0;32mfor\u001b[0m \u001b[0mk\u001b[0m \u001b[0;32min\u001b[0m \u001b[0mrange\u001b[0m\u001b[0;34m(\u001b[0m\u001b[0mlen\u001b[0m\u001b[0;34m(\u001b[0m\u001b[0mresults\u001b[0m\u001b[0;34m[\u001b[0m\u001b[0mi\u001b[0m\u001b[0;34m]\u001b[0m\u001b[0;34m)\u001b[0m\u001b[0;34m)\u001b[0m\u001b[0;34m]\u001b[0m\u001b[0;34m)\u001b[0m\u001b[0;34m\u001b[0m\u001b[0;34m\u001b[0m\u001b[0m\n\u001b[1;32m     28\u001b[0m             \u001b[0mdf\u001b[0m \u001b[0;34m=\u001b[0m \u001b[0mdf\u001b[0m\u001b[0;34m.\u001b[0m\u001b[0mappend\u001b[0m\u001b[0;34m(\u001b[0m\u001b[0;34m{\u001b[0m\u001b[0;34m'Iteration'\u001b[0m\u001b[0;34m:\u001b[0m \u001b[0mj\u001b[0m\u001b[0;34m,\u001b[0m \u001b[0;34m'Efficiency'\u001b[0m\u001b[0;34m:\u001b[0m \u001b[0meff\u001b[0m\u001b[0;34m,\u001b[0m \u001b[0;34m'Type'\u001b[0m\u001b[0;34m:\u001b[0m \u001b[0mi\u001b[0m\u001b[0;34m}\u001b[0m\u001b[0;34m,\u001b[0m \u001b[0mignore_index\u001b[0m\u001b[0;34m=\u001b[0m\u001b[0;32mTrue\u001b[0m\u001b[0;34m)\u001b[0m\u001b[0;34m\u001b[0m\u001b[0;34m\u001b[0m\u001b[0m\n",
      "\u001b[0;31mTypeError\u001b[0m: list indices must be integers or slices, not str"
     ]
    }
   ],
   "source": [
    "#plot_efficiency_per_round(results)\n",
    "#plot_efficiency(results)"
   ]
  },
  {
   "cell_type": "code",
   "execution_count": 30,
   "metadata": {},
   "outputs": [
    {
     "data": {
      "text/plain": [
       "OrderedDict([(0, 0.5083803905189288),\n",
       "             (1, 0.8721127072078818),\n",
       "             (2, 0.902746982296867),\n",
       "             (3, 0.9128866737766014),\n",
       "             (4, 0.9128866737766025),\n",
       "             (5, 0.9128866737766014),\n",
       "             (6, 0.9357784382230352),\n",
       "             (7, 0.9357784382230294),\n",
       "             (8, 0.9357784382230316),\n",
       "             (9, 0.9439172925977332)])"
      ]
     },
     "execution_count": 30,
     "metadata": {},
     "output_type": "execute_result"
    }
   ],
   "source": [
    "results[2]['Statistics']['Efficiency per Iteration']"
   ]
  },
  {
   "cell_type": "code",
   "execution_count": 14,
   "metadata": {},
   "outputs": [],
   "source": [
    "def _get_file_names(dir_file,Domain,Qinit,Qmax,Seed):\n",
    "    Domain=Domain\n",
    "    Qinit= Qinit\n",
    "    Qmax= Qmax\n",
    "    Seed = Seed\n",
    "    my_dict={}\n",
    "    \n",
    "    for i in Domain:\n",
    "        for l in Qinit:\n",
    "            for k in Qmax:\n",
    "                for j in Seed:\n",
    "                    key_name=i+'_'+str(l)+'_'+str(k)+'_'+str(j)\n",
    "                    instance = dir_file+i+'_'+str(l)+'_'+str(k)+'_'+str(j)+'_'+'*'\n",
    "                    my_dict[key_name]=glob.glob(instance)\n",
    "\n",
    "    my_dict = dict( [(k,v) for k,v in my_dict.items() if len(v)>0])\n",
    "    return(my_dict)\n",
    "\n",
    "def _retrieve_data(my_dict):\n",
    "    mydict_data={}\n",
    "    for key, value in my_dict.items():\n",
    "        data=[]\n",
    "        for i in my_dict[key]:\n",
    "            tmp=load_result(i)\n",
    "            data.append(tmp['result'])\n",
    "        mydict_data[key] = pd.DataFrame.from_records(data)\n",
    "    return(mydict_data)\n",
    "\n",
    "def NN_Bidder_df(dict_nn,summary):\n",
    "    seeds = list(dict_nn.keys())\n",
    "    bidders = list(dict_nn[seeds[0]]['Main Economy'].keys())\n",
    "    rounds= list(np.arange(0,len(dict_nn[seeds[0]]['Main Economy'][bidders[0]]),1))\n",
    "\n",
    "    main_dict = {}\n",
    "    if summary[0] =='Full':\n",
    "        for seed in seeds:\n",
    "            main_dict[seed]={}\n",
    "            for bidder in bidders:\n",
    "                main_dict[seed][bidder]={}\n",
    "                for rond in rounds:\n",
    "                    main_dict[seed][bidder][rond]=[]\n",
    "                    for marginal,values in dict_nn[seed].items() :\n",
    "                        try:\n",
    "                            main_dict[seed][bidder][rond].append(dict_nn[seed][marginal][bidder][rond][2])\n",
    "                        except:\n",
    "                            pass\n",
    "        return(pd.DataFrame.from_dict(main_dict))\n",
    "\n",
    "                    \n",
    "    elif summary[0]=='Compact':\n",
    "        for bidder in bidders:\n",
    "            main_dict[bidder]={}\n",
    "            for rond in rounds:\n",
    "                main_dict[bidder][rond]=[]\n",
    "                for seed in seeds:\n",
    "                    for marginal,values in dict_nn[seed].items():\n",
    "                        try:\n",
    "                            main_dict[bidder][rond].append(dict_nn[seed][marginal][bidder][rond][2])\n",
    "                        except:\n",
    "                            pass\n",
    "    \n",
    "        if summary[1]=='Average':\n",
    "            summary_dict= pd.DataFrame({'Round':[],'Mean':[],'Std':[],'Type':[]})\n",
    "            for bidder in bidders:\n",
    "                for rond in rounds:\n",
    "                    mean=np.array(main_dict[bidder][rond]).mean()\n",
    "                    std=np.array(main_dict[bidder][rond]).std()\n",
    "                    new_row= {'Round':rond,'Mean':mean,'Std':std,'Type':bidder}\n",
    "                    summary_dict = summary_dict.append(new_row, ignore_index=True)\n",
    "                    \n",
    "            return(summary_dict)\n",
    "\n",
    "        elif summary[1]=='Particular':\n",
    "            summary_dict= pd.DataFrame({'Round':[],'Error':[],'Type':[]})\n",
    "            for bidder in bidders:\n",
    "                for rond in rounds:\n",
    "                    tmp = main_dict[bidder][rond]\n",
    "                    for i in range(len(tmp)):\n",
    "                        new_row= {'Round':rond,'Error':tmp[i],'Type':bidder}\n",
    "                        summary_dict = summary_dict.append(new_row, ignore_index=True)\n",
    "                        \n",
    "            return(summary_dict)                        \n",
    "        elif summary[1]=='None':\n",
    "                  \n",
    "            return(pd.DataFrame.from_dict(main_dict))\n",
    "        \n",
    "def Eff_round(raw_dict,setting):\n",
    "    seeds = list(raw_dict.keys())\n",
    "    rounds= list(raw_dict[seeds[0]].keys())\n",
    "    tpe= setting\n",
    "    df= pd.DataFrame({'Round':[],'Efficiency':[],'Type':setting})\n",
    "    for seed in seeds:\n",
    "        for rond in rounds:\n",
    "            new_row= {'Round':rond,'Efficiency':raw_dict[seed][rond],'Type':setting}\n",
    "            df = df.append(new_row, ignore_index=True)    \n",
    "    \n",
    "    return(df)\n",
    "\n",
    "\n",
    "def get_results(dir_file,Domain,Qinit,Qmax,Seed):\n",
    "    Domain=Domain\n",
    "    Qinit= Qinit\n",
    "    Qmax= Qmax\n",
    "    Seed = Seed\n",
    "    my_dict={}\n",
    "    \n",
    "    my_dict=_get_file_names(dir_file,Domain,Qinit,Qmax,Seed)\n",
    "    mydict_data=_retrieve_data(my_dict)\n",
    "    \n",
    "    return(mydict_data)\n",
    "\n",
    "def get_summary(input_dict,criteria):\n",
    "    my_dict={}\n",
    "    if criteria=='Efficiency':\n",
    "    \n",
    "        for keys in input_dict.keys():\n",
    "            my_dict[keys]=input_dict['Statistics'][0]['Efficiency per Iteration']\n",
    "            \n",
    "        return(pd.DataFrame.from_records(my_dict))\n",
    "            \n",
    "    elif criteria=='NN Losses':\n",
    "            \n",
    "        for keys in input_dict.keys():\n",
    "            my_dict[keys]=input_dict[keys]['Statistics'][0]['NN Losses']\n",
    "            \n",
    "        return(my_dict)\n",
    "\n",
    "        \n",
    "    elif criteria=='Total Time':\n",
    "            \n",
    "        for keys in input_dict.keys():\n",
    "            my_dict[keys]=[input_dict['Statistics'][0]['Total Time Elapsed']]\n",
    "        \n",
    "        return(pd.DataFrame.from_dict(my_dict))\n"
   ]
  },
  {
   "cell_type": "code",
   "execution_count": 15,
   "metadata": {},
   "outputs": [
    {
     "ename": "KeyError",
     "evalue": "0",
     "output_type": "error",
     "traceback": [
      "\u001b[0;31m---------------------------------------------------------------------------\u001b[0m",
      "\u001b[0;31mKeyError\u001b[0m                                  Traceback (most recent call last)",
      "\u001b[0;32m<ipython-input-15-6c3f9763e5e1>\u001b[0m in \u001b[0;36m<module>\u001b[0;34m\u001b[0m\n\u001b[1;32m     20\u001b[0m \u001b[0;34m\u001b[0m\u001b[0m\n\u001b[1;32m     21\u001b[0m \u001b[0;34m\u001b[0m\u001b[0m\n\u001b[0;32m---> 22\u001b[0;31m \u001b[0mdf_file_1\u001b[0m \u001b[0;34m=\u001b[0m \u001b[0mget_summary\u001b[0m\u001b[0;34m(\u001b[0m\u001b[0mresult_file\u001b[0m\u001b[0;34m,\u001b[0m\u001b[0mcriteria\u001b[0m\u001b[0;34m=\u001b[0m\u001b[0;34m'Efficiency'\u001b[0m\u001b[0;34m)\u001b[0m\u001b[0;34m\u001b[0m\u001b[0;34m\u001b[0m\u001b[0m\n\u001b[0m\u001b[1;32m     23\u001b[0m \u001b[0mprint\u001b[0m\u001b[0;34m(\u001b[0m\u001b[0mdf_file_1\u001b[0m\u001b[0;34m)\u001b[0m\u001b[0;34m\u001b[0m\u001b[0;34m\u001b[0m\u001b[0m\n\u001b[1;32m     24\u001b[0m \u001b[0;31m#df_file_2=get_summary(file_2,criteria='Efficiency')\u001b[0m\u001b[0;34m\u001b[0m\u001b[0;34m\u001b[0m\u001b[0;34m\u001b[0m\u001b[0m\n",
      "\u001b[0;32m<ipython-input-14-49558e0d208c>\u001b[0m in \u001b[0;36mget_summary\u001b[0;34m(input_dict, criteria)\u001b[0m\n\u001b[1;32m    115\u001b[0m \u001b[0;34m\u001b[0m\u001b[0m\n\u001b[1;32m    116\u001b[0m         \u001b[0;32mfor\u001b[0m \u001b[0mkeys\u001b[0m \u001b[0;32min\u001b[0m \u001b[0minput_dict\u001b[0m\u001b[0;34m.\u001b[0m\u001b[0mkeys\u001b[0m\u001b[0;34m(\u001b[0m\u001b[0;34m)\u001b[0m\u001b[0;34m:\u001b[0m\u001b[0;34m\u001b[0m\u001b[0;34m\u001b[0m\u001b[0m\n\u001b[0;32m--> 117\u001b[0;31m             \u001b[0mmy_dict\u001b[0m\u001b[0;34m[\u001b[0m\u001b[0mkeys\u001b[0m\u001b[0;34m]\u001b[0m\u001b[0;34m=\u001b[0m\u001b[0minput_dict\u001b[0m\u001b[0;34m[\u001b[0m\u001b[0;34m'Statistics'\u001b[0m\u001b[0;34m]\u001b[0m\u001b[0;34m[\u001b[0m\u001b[0;36m0\u001b[0m\u001b[0;34m]\u001b[0m\u001b[0;34m[\u001b[0m\u001b[0;34m'Efficiency per Iteration'\u001b[0m\u001b[0;34m]\u001b[0m\u001b[0;34m\u001b[0m\u001b[0;34m\u001b[0m\u001b[0m\n\u001b[0m\u001b[1;32m    118\u001b[0m \u001b[0;34m\u001b[0m\u001b[0m\n\u001b[1;32m    119\u001b[0m         \u001b[0;32mreturn\u001b[0m\u001b[0;34m(\u001b[0m\u001b[0mpd\u001b[0m\u001b[0;34m.\u001b[0m\u001b[0mDataFrame\u001b[0m\u001b[0;34m.\u001b[0m\u001b[0mfrom_records\u001b[0m\u001b[0;34m(\u001b[0m\u001b[0mmy_dict\u001b[0m\u001b[0;34m)\u001b[0m\u001b[0;34m)\u001b[0m\u001b[0;34m\u001b[0m\u001b[0;34m\u001b[0m\u001b[0m\n",
      "\u001b[0;31mKeyError\u001b[0m: 0"
     ]
    }
   ],
   "source": [
    "#tensor-pytorch\n",
    "Domain = ['GSVM']\n",
    "Qinit= [30]\n",
    "Qmax= [100]\n",
    "Seed = np.arange(10,500,10)\n",
    "\n",
    "dir_file_1 = './experiments/alper/Alloc/mip_alloc/gsvm_mip/'\n",
    "dir_file_2 = './experiments/MLCA/Alloc/pytorch_alloc/GSVM_final/'\n",
    "# dir_file_3 = './experiments/MLCA/Alloc/pytorch_alloc/sample_numbers/sample-100/'\n",
    "# dir_file_4 = './experiments/MLCA/Alloc/pytorch_alloc/sample_numbers/sample-500/'\n",
    "# dir_file_5 = './experiments/MLCA/Alloc/pytorch_alloc/sample_numbers/sample-1k/'\n",
    "\n",
    "\n",
    "#file_1 = get_results(result_file_dir,['GSVM'],Qinit,Qmax,Seed)\n",
    "#print(file_1)\n",
    "#file_2 = get_results(dir_file_2,['GSVM'],Qinit,Qmax,Seed)\n",
    "# file_3 = get_results(dir_file_3,['GSVM'],Qinit,Qmax,Seed)\n",
    "# file_4 = get_results(dir_file_4,['GSVM'],Qinit,Qmax,Seed)\n",
    "# file_5 = get_results(dir_file_5,['GSVM'],Qinit,Qmax,Seed)\n",
    "\n",
    "\n",
    "df_file_1 = get_summary(result_file,criteria='Efficiency')\n",
    "print(df_file_1)\n",
    "#df_file_2=get_summary(file_2,criteria='Efficiency')\n",
    "# df_file_3=get_summary(file_3,criteria='Efficiency')\n",
    "# df_file_4=get_summary(file_4,criteria='Efficiency')\n",
    "# df_file_5=get_summary(file_5,criteria='Efficiency')\n",
    "\n",
    "eff_file_1 = Eff_round(df_file_1,'GSVM DL-ICA')\n",
    "#eff_file_2 = Eff_round(df_file_2,'GSVM RL-ICA')\n",
    "# eff_file_3 = Eff_round(df_file_3,'Sample Number 100')\n",
    "# eff_file_4 = Eff_round(df_file_4,'Sample Number 500')\n",
    "# eff_file_5 = Eff_round(df_file_5,'Sample Number 1000')\n",
    "\n",
    "combined = eff_file_1.merge(eff_file_2,how='outer')\n",
    "# combined = combined.merge(eff_file_3,how='outer')\n",
    "# combined = combined.merge(eff_file_4,how='outer')\n",
    "# combined = combined.merge(eff_file_5,how='outer')"
   ]
  },
  {
   "cell_type": "code",
   "execution_count": 5,
   "metadata": {},
   "outputs": [
    {
     "ename": "NameError",
     "evalue": "name 'combined' is not defined",
     "output_type": "error",
     "traceback": [
      "\u001b[0;31m---------------------------------------------------------------------------\u001b[0m",
      "\u001b[0;31mNameError\u001b[0m                                 Traceback (most recent call last)",
      "\u001b[0;32m<ipython-input-5-563fa9969ba7>\u001b[0m in \u001b[0;36m<module>\u001b[0;34m\u001b[0m\n\u001b[1;32m      1\u001b[0m sns.catplot(x=\"Efficiency\", y=\"Round\", row=\"Type\",\n\u001b[1;32m      2\u001b[0m                 \u001b[0mkind\u001b[0m\u001b[0;34m=\u001b[0m\u001b[0;34m\"box\"\u001b[0m\u001b[0;34m,\u001b[0m \u001b[0morient\u001b[0m\u001b[0;34m=\u001b[0m\u001b[0;34m\"h\"\u001b[0m\u001b[0;34m,\u001b[0m \u001b[0mheight\u001b[0m\u001b[0;34m=\u001b[0m\u001b[0;36m2\u001b[0m\u001b[0;34m,\u001b[0m \u001b[0maspect\u001b[0m\u001b[0;34m=\u001b[0m\u001b[0;36m4\u001b[0m\u001b[0;34m,\u001b[0m\u001b[0;34m\u001b[0m\u001b[0;34m\u001b[0m\u001b[0m\n\u001b[0;32m----> 3\u001b[0;31m                 data=combined)\n\u001b[0m\u001b[1;32m      4\u001b[0m \u001b[0;34m\u001b[0m\u001b[0m\n\u001b[1;32m      5\u001b[0m sns.lineplot(\n",
      "\u001b[0;31mNameError\u001b[0m: name 'combined' is not defined"
     ]
    }
   ],
   "source": [
    "sns.catplot(x=\"Efficiency\", y=\"Round\", row=\"Type\",\n",
    "                kind=\"box\", orient=\"h\", height=2, aspect=4,\n",
    "                data=combined)\n",
    "\n",
    "sns.lineplot(\n",
    "    data=combined,\n",
    "    x=\"Round\", y=\"Efficiency\", hue=\"Type\", err_style='bars',\n",
    "    markers=True, dashes=True\n",
    ")"
   ]
  },
  {
   "cell_type": "code",
   "execution_count": 41,
   "metadata": {},
   "outputs": [
    {
     "ename": "KeyError",
     "evalue": "'Statistics'",
     "output_type": "error",
     "traceback": [
      "\u001b[0;31m---------------------------------------------------------------------------\u001b[0m",
      "\u001b[0;31mKeyError\u001b[0m                                  Traceback (most recent call last)",
      "\u001b[0;32m<ipython-input-41-b7fdbd4808ed>\u001b[0m in \u001b[0;36m<module>\u001b[0;34m\u001b[0m\n\u001b[0;32m----> 1\u001b[0;31m \u001b[0mdf_file_1\u001b[0m \u001b[0;34m=\u001b[0m \u001b[0mget_summary\u001b[0m\u001b[0;34m(\u001b[0m\u001b[0mresult_file\u001b[0m\u001b[0;34m,\u001b[0m\u001b[0mcriteria\u001b[0m\u001b[0;34m=\u001b[0m\u001b[0;34m'Total Time'\u001b[0m\u001b[0;34m)\u001b[0m\u001b[0;34m\u001b[0m\u001b[0;34m\u001b[0m\u001b[0m\n\u001b[0m\u001b[1;32m      2\u001b[0m \u001b[0mdf_file_2\u001b[0m \u001b[0;34m=\u001b[0m \u001b[0mget_summary\u001b[0m\u001b[0;34m(\u001b[0m\u001b[0mresult_file\u001b[0m\u001b[0;34m,\u001b[0m\u001b[0mcriteria\u001b[0m\u001b[0;34m=\u001b[0m\u001b[0;34m'Total Time'\u001b[0m\u001b[0;34m)\u001b[0m\u001b[0;34m\u001b[0m\u001b[0;34m\u001b[0m\u001b[0m\n\u001b[1;32m      3\u001b[0m \u001b[0;34m\u001b[0m\u001b[0m\n\u001b[1;32m      4\u001b[0m \u001b[0;34m\u001b[0m\u001b[0m\n\u001b[1;32m      5\u001b[0m \u001b[0mruntime_file_1\u001b[0m\u001b[0;34m=\u001b[0m\u001b[0mpd\u001b[0m\u001b[0;34m.\u001b[0m\u001b[0mto_timedelta\u001b[0m\u001b[0;34m(\u001b[0m\u001b[0mdf_file_1\u001b[0m\u001b[0;34m.\u001b[0m\u001b[0mtranspose\u001b[0m\u001b[0;34m(\u001b[0m\u001b[0;34m)\u001b[0m\u001b[0;34m[\u001b[0m\u001b[0;36m0\u001b[0m\u001b[0;34m]\u001b[0m\u001b[0;34m)\u001b[0m\u001b[0;34m\u001b[0m\u001b[0;34m\u001b[0m\u001b[0m\n",
      "\u001b[0;32m<ipython-input-39-8f8d90df06d2>\u001b[0m in \u001b[0;36mget_summary\u001b[0;34m(input_dict, criteria)\u001b[0m\n\u001b[1;32m    130\u001b[0m \u001b[0;34m\u001b[0m\u001b[0m\n\u001b[1;32m    131\u001b[0m         \u001b[0;32mfor\u001b[0m \u001b[0mkeys\u001b[0m \u001b[0;32min\u001b[0m \u001b[0minput_dict\u001b[0m\u001b[0;34m.\u001b[0m\u001b[0mkeys\u001b[0m\u001b[0;34m(\u001b[0m\u001b[0;34m)\u001b[0m\u001b[0;34m:\u001b[0m\u001b[0;34m\u001b[0m\u001b[0;34m\u001b[0m\u001b[0m\n\u001b[0;32m--> 132\u001b[0;31m             \u001b[0mmy_dict\u001b[0m\u001b[0;34m[\u001b[0m\u001b[0mkeys\u001b[0m\u001b[0;34m]\u001b[0m\u001b[0;34m=\u001b[0m\u001b[0;34m[\u001b[0m\u001b[0minput_dict\u001b[0m\u001b[0;34m[\u001b[0m\u001b[0mkeys\u001b[0m\u001b[0;34m]\u001b[0m\u001b[0;34m[\u001b[0m\u001b[0;34m'Statistics'\u001b[0m\u001b[0;34m]\u001b[0m\u001b[0;34m[\u001b[0m\u001b[0;36m0\u001b[0m\u001b[0;34m]\u001b[0m\u001b[0;34m[\u001b[0m\u001b[0;34m'Total Time Elapsed'\u001b[0m\u001b[0;34m]\u001b[0m\u001b[0;34m]\u001b[0m\u001b[0;34m\u001b[0m\u001b[0;34m\u001b[0m\u001b[0m\n\u001b[0m\u001b[1;32m    133\u001b[0m \u001b[0;34m\u001b[0m\u001b[0m\n\u001b[1;32m    134\u001b[0m         \u001b[0;32mreturn\u001b[0m\u001b[0;34m(\u001b[0m\u001b[0mpd\u001b[0m\u001b[0;34m.\u001b[0m\u001b[0mDataFrame\u001b[0m\u001b[0;34m.\u001b[0m\u001b[0mfrom_dict\u001b[0m\u001b[0;34m(\u001b[0m\u001b[0mmy_dict\u001b[0m\u001b[0;34m)\u001b[0m\u001b[0;34m)\u001b[0m\u001b[0;34m\u001b[0m\u001b[0;34m\u001b[0m\u001b[0m\n",
      "\u001b[0;31mKeyError\u001b[0m: 'Statistics'"
     ]
    }
   ],
   "source": [
    "df_file_1 = get_summary(result_file,criteria='Total Time')\n",
    "df_file_2 = get_summary(result_file,criteria='Total Time')\n",
    "\n",
    "\n",
    "runtime_file_1=pd.to_timedelta(df_file_1.transpose()[0])\n",
    "runtime_file_2=pd.to_timedelta(df_file_2.transpose()[0])\n",
    "\n",
    "\n",
    "\n",
    "df_run_file_1 =pd.DataFrame({\n",
    "    'Run Time(m)' : (runtime_file_1.astype('timedelta64[m]')).array,\n",
    "    'Type' : 'DL-ICA'})\n",
    "df_run_file_2 =pd.DataFrame({\n",
    "    'Run Time(m)' : (runtime_file_2.astype('timedelta64[m]')).array,\n",
    "    'Type' :'RL-ICA'})\n",
    "\n",
    "\n",
    "frames = [df_run_file_1,df_run_file_2]\n",
    "\n",
    "run_compact = pd.concat(frames)"
   ]
  },
  {
   "cell_type": "code",
   "execution_count": 40,
   "metadata": {},
   "outputs": [
    {
     "data": {
      "image/png": "[encoded data removed]",
      "text/plain": [
       "<Figure size 720x360 with 2 Axes>"
      ]
     },
     "metadata": {
      "needs_background": "light"
     },
     "output_type": "display_data"
    }
   ],
   "source": [
    "h=sns.displot(data=run_compact, x=\"Run Time(m)\", col=\"Type\", kde=False ,stat=\"density\",common_norm=False)"
   ]
  }
 ],
 "metadata": {
  "kernelspec": {
   "display_name": "icas",
   "language": "python",
   "name": "python3"
  },
  "language_info": {
   "codemirror_mode": {
    "name": "ipython",
    "version": 3
   },
   "file_extension": ".py",
   "mimetype": "text/x-python",
   "name": "python",
   "nbconvert_exporter": "python",
   "pygments_lexer": "ipython3",
   "version": "3.6.13"
  },
  "vscode": {
   "interpreter": {
    "hash": "d0576317c0d99ba114c96081b30a9d1da57ab737e142f9900fae0eadddd5439e"
   }
  }
 },
 "nbformat": 4,
 "nbformat_minor": 4
}
