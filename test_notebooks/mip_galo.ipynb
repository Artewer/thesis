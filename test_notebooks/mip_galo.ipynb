{
 "cells": [
  {
   "cell_type": "code",
   "execution_count": 28,
   "metadata": {},
   "outputs": [],
   "source": [
    "import docplex\n",
    "from docplex.mp.model import Model\n",
    "import numpy as np\n",
    "from sklearn.linear_model import LinearRegression"
   ]
  },
  {
   "cell_type": "code",
   "execution_count": 2,
   "metadata": {},
   "outputs": [
    {
     "name": "stdout",
     "output_type": "stream",
     "text": [
      "6.5\n"
     ]
    }
   ],
   "source": [
    "n = 5\n",
    "M = 3\n",
    "bundles = np.array([[0,1,1], [1,0,1]])\n",
    "values = [3, 10]\n",
    "solution = []\n",
    "#np.random.randint(0, 2, size=(18, 10)).tolist()\n",
    "reg = LinearRegression().fit(bundles, values)\n",
    "bundle = [1,1,1]\n",
    "coef = reg.coef_\n",
    "intercept = reg.intercept_\n",
    "print(np.sum(bundle * coef) + intercept)\n",
    "#reg.predict([[1,1,1]])\n",
    "\n",
    "\n",
    "#values = np.random.randint(0, 100, size=(18)).tolist()\n",
    "#bundles = np.random.randint(0, 2, size=(18, 10)).tolist()\n",
    "#reg = LinearRegression().fit(bundles, values)\n",
    "#reg.predict([[0,1,1,0,0,0,0,0,0,0]])[0]"
   ]
  },
  {
   "cell_type": "code",
   "execution_count": 31,
   "metadata": {},
   "outputs": [
    {
     "name": "stdout",
     "output_type": "stream",
     "text": [
      "[-58.05       -41.4        -31.51666667 -26.09166667 -26.09166667]\n",
      "177.75000000000006\n",
      "JobSolveStatus.OPTIMAL_SOLUTION\n",
      "JobSolveStatus.OPTIMAL_SOLUTION\n",
      "No solution found\n",
      "58.050x_0+41.400x_1+31.517x_2+26.092x_3+26.092x_4-166.750 <= r\n",
      "-58.050x_0-41.400x_1-31.517x_2-26.092x_3-26.092x_4+166.750 <= r\n",
      "58.050x_0+41.400x_1+31.517x_2+26.092x_3+26.092x_4+6000b_0-78.750 >= r\n",
      "-58.050x_0-41.400x_1-31.517x_2-26.092x_3-26.092x_4-6000b_0+6078.750 >= r\n",
      "58.050x_0+41.400x_1+31.517x_2+26.092x_3+26.092x_4+6000b_1-148.750 >= r\n",
      "-58.050x_0-41.400x_1-31.517x_2-26.092x_3-26.092x_4-6000b_1+6148.750 >= r\n",
      "58.050x_0+41.400x_1+31.517x_2+26.092x_3+26.092x_4+6000b_2-166.750 >= r\n",
      "-58.050x_0-41.400x_1-31.517x_2-26.092x_3-26.092x_4-6000b_2+6166.750 >= r\n",
      "58.050x_0+41.400x_1+31.517x_2+26.092x_3+26.092x_4+6000b_3-106.750 >= r\n",
      "-58.050x_0-41.400x_1-31.517x_2-26.092x_3-26.092x_4-6000b_3+6106.750 >= r\n",
      "58.050x_0+41.400x_1+31.517x_2+26.092x_3+26.092x_4+6000b_4-176.750 >= r\n",
      "-58.050x_0-41.400x_1-31.517x_2-26.092x_3-26.092x_4-6000b_4+6176.750 >= r\n",
      "58.050x_0+41.400x_1+31.517x_2+26.092x_3+26.092x_4+6000b_5-87.750 >= r\n",
      "-58.050x_0-41.400x_1-31.517x_2-26.092x_3-26.092x_4-6000b_5+6087.750 >= r\n",
      "58.050x_0+41.400x_1+31.517x_2+26.092x_3+26.092x_4+6000b_6-141.750 >= r\n",
      "-58.050x_0-41.400x_1-31.517x_2-26.092x_3-26.092x_4-6000b_6+6141.750 >= r\n",
      "58.050x_0+41.400x_1+31.517x_2+26.092x_3+26.092x_4+6000b_7-173.750 >= r\n",
      "-58.050x_0-41.400x_1-31.517x_2-26.092x_3-26.092x_4-6000b_7+6173.750 >= r\n",
      "58.050x_0+41.400x_1+31.517x_2+26.092x_3+26.092x_4+6000b_8-88.750 >= r\n",
      "-58.050x_0-41.400x_1-31.517x_2-26.092x_3-26.092x_4-6000b_8+6088.750 >= r\n",
      "58.050x_0+41.400x_1+31.517x_2+26.092x_3+26.092x_4+6000b_9-85.750 >= r\n",
      "-58.050x_0-41.400x_1-31.517x_2-26.092x_3-26.092x_4-6000b_9+6085.750 >= r\n",
      "#################\n"
     ]
    },
    {
     "ename": "DOcplexException",
     "evalue": "Model<galo> did not solve successfully",
     "output_type": "error",
     "traceback": [
      "\u001b[0;31m---------------------------------------------------------------------------\u001b[0m",
      "\u001b[0;31mDOcplexException\u001b[0m                          Traceback (most recent call last)",
      "\u001b[0;32m<ipython-input-31-65d657140b65>\u001b[0m in \u001b[0;36m<module>\u001b[0;34m\u001b[0m\n\u001b[1;32m     76\u001b[0m     \u001b[0;32mreturn\u001b[0m \u001b[0mbundles\u001b[0m\u001b[0;34m\u001b[0m\u001b[0;34m\u001b[0m\u001b[0m\n\u001b[1;32m     77\u001b[0m \u001b[0;34m\u001b[0m\u001b[0m\n\u001b[0;32m---> 78\u001b[0;31m \u001b[0mresults\u001b[0m \u001b[0;34m=\u001b[0m \u001b[0mgalo_bids_init\u001b[0m\u001b[0;34m(\u001b[0m\u001b[0;32mNone\u001b[0m\u001b[0;34m,\u001b[0m \u001b[0;36m0\u001b[0m\u001b[0;34m,\u001b[0m \u001b[0;36m20\u001b[0m\u001b[0;34m,\u001b[0m \u001b[0;36m10\u001b[0m\u001b[0;34m,\u001b[0m \u001b[0;34m'unif'\u001b[0m\u001b[0;34m,\u001b[0m \u001b[0;32mNone\u001b[0m\u001b[0;34m)\u001b[0m\u001b[0;34m\u001b[0m\u001b[0;34m\u001b[0m\u001b[0m\n\u001b[0m\u001b[1;32m     79\u001b[0m \u001b[0;31m#results\u001b[0m\u001b[0;34m\u001b[0m\u001b[0;34m\u001b[0m\u001b[0;34m\u001b[0m\u001b[0m\n",
      "\u001b[0;32m<ipython-input-31-65d657140b65>\u001b[0m in \u001b[0;36mgalo_bids_init\u001b[0;34m(value_model, bidder_id, n, presampled_n, presampled_algorithm, ml_model)\u001b[0m\n\u001b[1;32m     57\u001b[0m                     \u001b[0mprint\u001b[0m\u001b[0;34m(\u001b[0m\u001b[0mi\u001b[0m\u001b[0;34m)\u001b[0m\u001b[0;34m\u001b[0m\u001b[0;34m\u001b[0m\u001b[0m\n\u001b[1;32m     58\u001b[0m                 \u001b[0mprint\u001b[0m\u001b[0;34m(\u001b[0m\u001b[0;34m'#################'\u001b[0m\u001b[0;34m)\u001b[0m\u001b[0;34m\u001b[0m\u001b[0;34m\u001b[0m\u001b[0m\n\u001b[0;32m---> 59\u001b[0;31m             \u001b[0mvector\u001b[0m \u001b[0;34m=\u001b[0m \u001b[0mnp\u001b[0m\u001b[0;34m.\u001b[0m\u001b[0marray\u001b[0m\u001b[0;34m(\u001b[0m\u001b[0;34m[\u001b[0m\u001b[0mx\u001b[0m\u001b[0;34m[\u001b[0m\u001b[0mk\u001b[0m\u001b[0;34m]\u001b[0m\u001b[0;34m.\u001b[0m\u001b[0msolution_value\u001b[0m \u001b[0;32mfor\u001b[0m \u001b[0mk\u001b[0m \u001b[0;32min\u001b[0m \u001b[0mrange\u001b[0m\u001b[0;34m(\u001b[0m\u001b[0mM\u001b[0m\u001b[0;34m)\u001b[0m\u001b[0;34m]\u001b[0m\u001b[0;34m)\u001b[0m\u001b[0;34m\u001b[0m\u001b[0;34m\u001b[0m\u001b[0m\n\u001b[0m\u001b[1;32m     60\u001b[0m             \u001b[0mx_vectors\u001b[0m\u001b[0;34m.\u001b[0m\u001b[0mappend\u001b[0m\u001b[0;34m(\u001b[0m\u001b[0mvector\u001b[0m\u001b[0;34m)\u001b[0m\u001b[0;34m\u001b[0m\u001b[0;34m\u001b[0m\u001b[0m\n\u001b[1;32m     61\u001b[0m             \u001b[0mdistance\u001b[0m \u001b[0;34m=\u001b[0m \u001b[0mnp\u001b[0m\u001b[0;34m.\u001b[0m\u001b[0msum\u001b[0m\u001b[0;34m(\u001b[0m\u001b[0mnp\u001b[0m\u001b[0;34m.\u001b[0m\u001b[0mabs\u001b[0m\u001b[0;34m(\u001b[0m\u001b[0mnp\u001b[0m\u001b[0;34m.\u001b[0m\u001b[0msum\u001b[0m\u001b[0;34m(\u001b[0m\u001b[0mvector\u001b[0m \u001b[0;34m*\u001b[0m \u001b[0mcoef\u001b[0m\u001b[0;34m)\u001b[0m \u001b[0;34m+\u001b[0m \u001b[0mintercept\u001b[0m \u001b[0;34m-\u001b[0m \u001b[0mvalues\u001b[0m\u001b[0;34m[\u001b[0m\u001b[0mbundle\u001b[0m\u001b[0;34m]\u001b[0m\u001b[0;34m)\u001b[0m\u001b[0;34m)\u001b[0m\u001b[0;34m\u001b[0m\u001b[0;34m\u001b[0m\u001b[0m\n",
      "\u001b[0;32m<ipython-input-31-65d657140b65>\u001b[0m in \u001b[0;36m<listcomp>\u001b[0;34m(.0)\u001b[0m\n\u001b[1;32m     57\u001b[0m                     \u001b[0mprint\u001b[0m\u001b[0;34m(\u001b[0m\u001b[0mi\u001b[0m\u001b[0;34m)\u001b[0m\u001b[0;34m\u001b[0m\u001b[0;34m\u001b[0m\u001b[0m\n\u001b[1;32m     58\u001b[0m                 \u001b[0mprint\u001b[0m\u001b[0;34m(\u001b[0m\u001b[0;34m'#################'\u001b[0m\u001b[0;34m)\u001b[0m\u001b[0;34m\u001b[0m\u001b[0;34m\u001b[0m\u001b[0m\n\u001b[0;32m---> 59\u001b[0;31m             \u001b[0mvector\u001b[0m \u001b[0;34m=\u001b[0m \u001b[0mnp\u001b[0m\u001b[0;34m.\u001b[0m\u001b[0marray\u001b[0m\u001b[0;34m(\u001b[0m\u001b[0;34m[\u001b[0m\u001b[0mx\u001b[0m\u001b[0;34m[\u001b[0m\u001b[0mk\u001b[0m\u001b[0;34m]\u001b[0m\u001b[0;34m.\u001b[0m\u001b[0msolution_value\u001b[0m \u001b[0;32mfor\u001b[0m \u001b[0mk\u001b[0m \u001b[0;32min\u001b[0m \u001b[0mrange\u001b[0m\u001b[0;34m(\u001b[0m\u001b[0mM\u001b[0m\u001b[0;34m)\u001b[0m\u001b[0;34m]\u001b[0m\u001b[0;34m)\u001b[0m\u001b[0;34m\u001b[0m\u001b[0;34m\u001b[0m\u001b[0m\n\u001b[0m\u001b[1;32m     60\u001b[0m             \u001b[0mx_vectors\u001b[0m\u001b[0;34m.\u001b[0m\u001b[0mappend\u001b[0m\u001b[0;34m(\u001b[0m\u001b[0mvector\u001b[0m\u001b[0;34m)\u001b[0m\u001b[0;34m\u001b[0m\u001b[0;34m\u001b[0m\u001b[0m\n\u001b[1;32m     61\u001b[0m             \u001b[0mdistance\u001b[0m \u001b[0;34m=\u001b[0m \u001b[0mnp\u001b[0m\u001b[0;34m.\u001b[0m\u001b[0msum\u001b[0m\u001b[0;34m(\u001b[0m\u001b[0mnp\u001b[0m\u001b[0;34m.\u001b[0m\u001b[0mabs\u001b[0m\u001b[0;34m(\u001b[0m\u001b[0mnp\u001b[0m\u001b[0;34m.\u001b[0m\u001b[0msum\u001b[0m\u001b[0;34m(\u001b[0m\u001b[0mvector\u001b[0m \u001b[0;34m*\u001b[0m \u001b[0mcoef\u001b[0m\u001b[0;34m)\u001b[0m \u001b[0;34m+\u001b[0m \u001b[0mintercept\u001b[0m \u001b[0;34m-\u001b[0m \u001b[0mvalues\u001b[0m\u001b[0;34m[\u001b[0m\u001b[0mbundle\u001b[0m\u001b[0;34m]\u001b[0m\u001b[0;34m)\u001b[0m\u001b[0;34m)\u001b[0m\u001b[0;34m\u001b[0m\u001b[0;34m\u001b[0m\u001b[0m\n",
      "\u001b[0;32m~/.conda/envs/ica_new/lib/python3.6/site-packages/docplex/mp/linear.py\u001b[0m in \u001b[0;36msolution_value\u001b[0;34m(self)\u001b[0m\n\u001b[1;32m    250\u001b[0m \u001b[0;34m\u001b[0m\u001b[0m\n\u001b[1;32m    251\u001b[0m         \"\"\"\n\u001b[0;32m--> 252\u001b[0;31m         \u001b[0mself\u001b[0m\u001b[0;34m.\u001b[0m\u001b[0m_check_model_has_solution\u001b[0m\u001b[0;34m(\u001b[0m\u001b[0;34m)\u001b[0m\u001b[0;34m\u001b[0m\u001b[0;34m\u001b[0m\u001b[0m\n\u001b[0m\u001b[1;32m    253\u001b[0m         \u001b[0;32mreturn\u001b[0m \u001b[0mself\u001b[0m\u001b[0;34m.\u001b[0m\u001b[0m_get_solution_value\u001b[0m\u001b[0;34m(\u001b[0m\u001b[0;34m)\u001b[0m\u001b[0;34m\u001b[0m\u001b[0;34m\u001b[0m\u001b[0m\n\u001b[1;32m    254\u001b[0m \u001b[0;34m\u001b[0m\u001b[0m\n",
      "\u001b[0;32m~/.conda/envs/ica_new/lib/python3.6/site-packages/docplex/mp/basic.py\u001b[0m in \u001b[0;36m_check_model_has_solution\u001b[0;34m(self)\u001b[0m\n\u001b[1;32m    100\u001b[0m \u001b[0;34m\u001b[0m\u001b[0m\n\u001b[1;32m    101\u001b[0m     \u001b[0;32mdef\u001b[0m \u001b[0m_check_model_has_solution\u001b[0m\u001b[0;34m(\u001b[0m\u001b[0mself\u001b[0m\u001b[0;34m)\u001b[0m\u001b[0;34m:\u001b[0m\u001b[0;34m\u001b[0m\u001b[0;34m\u001b[0m\u001b[0m\n\u001b[0;32m--> 102\u001b[0;31m         \u001b[0mself\u001b[0m\u001b[0;34m.\u001b[0m\u001b[0mmodel\u001b[0m\u001b[0;34m.\u001b[0m\u001b[0mcheck_has_solution\u001b[0m\u001b[0;34m(\u001b[0m\u001b[0;34m)\u001b[0m\u001b[0;34m\u001b[0m\u001b[0;34m\u001b[0m\u001b[0m\n\u001b[0m\u001b[1;32m    103\u001b[0m \u001b[0;34m\u001b[0m\u001b[0m\n\u001b[1;32m    104\u001b[0m     \u001b[0;32mdef\u001b[0m \u001b[0mfatal\u001b[0m\u001b[0;34m(\u001b[0m\u001b[0mself\u001b[0m\u001b[0;34m,\u001b[0m \u001b[0mmsg\u001b[0m\u001b[0;34m,\u001b[0m \u001b[0;34m*\u001b[0m\u001b[0margs\u001b[0m\u001b[0;34m)\u001b[0m\u001b[0;34m:\u001b[0m\u001b[0;34m\u001b[0m\u001b[0;34m\u001b[0m\u001b[0m\n",
      "\u001b[0;32m~/.conda/envs/ica_new/lib/python3.6/site-packages/docplex/mp/model.py\u001b[0m in \u001b[0;36mcheck_has_solution\u001b[0;34m(self)\u001b[0m\n\u001b[1;32m   3798\u001b[0m         \u001b[0;31m# see if we can refine messages here...\u001b[0m\u001b[0;34m\u001b[0m\u001b[0;34m\u001b[0m\u001b[0;34m\u001b[0m\u001b[0m\n\u001b[1;32m   3799\u001b[0m         \u001b[0;32mif\u001b[0m \u001b[0mself\u001b[0m\u001b[0;34m.\u001b[0m\u001b[0m_solution\u001b[0m \u001b[0;32mis\u001b[0m \u001b[0;32mNone\u001b[0m\u001b[0;34m:\u001b[0m\u001b[0;34m\u001b[0m\u001b[0;34m\u001b[0m\u001b[0m\n\u001b[0;32m-> 3800\u001b[0;31m             \u001b[0mself\u001b[0m\u001b[0;34m.\u001b[0m\u001b[0mfatal\u001b[0m\u001b[0;34m(\u001b[0m\u001b[0;34m\"Model<{0}> did not solve successfully\"\u001b[0m\u001b[0;34m,\u001b[0m \u001b[0mself\u001b[0m\u001b[0;34m.\u001b[0m\u001b[0mname\u001b[0m\u001b[0;34m)\u001b[0m\u001b[0;34m\u001b[0m\u001b[0;34m\u001b[0m\u001b[0m\n\u001b[0m\u001b[1;32m   3801\u001b[0m \u001b[0;34m\u001b[0m\u001b[0m\n\u001b[1;32m   3802\u001b[0m     \u001b[0;32mdef\u001b[0m \u001b[0madd_mip_start\u001b[0m\u001b[0;34m(\u001b[0m\u001b[0mself\u001b[0m\u001b[0;34m,\u001b[0m \u001b[0mmip_start_sol\u001b[0m\u001b[0;34m)\u001b[0m\u001b[0;34m:\u001b[0m\u001b[0;34m\u001b[0m\u001b[0;34m\u001b[0m\u001b[0m\n",
      "\u001b[0;32m~/.conda/envs/ica_new/lib/python3.6/site-packages/docplex/mp/model.py\u001b[0m in \u001b[0;36mfatal\u001b[0;34m(self, msg, *args)\u001b[0m\n\u001b[1;32m    736\u001b[0m \u001b[0;34m\u001b[0m\u001b[0m\n\u001b[1;32m    737\u001b[0m     \u001b[0;32mdef\u001b[0m \u001b[0mfatal\u001b[0m\u001b[0;34m(\u001b[0m\u001b[0mself\u001b[0m\u001b[0;34m,\u001b[0m \u001b[0mmsg\u001b[0m\u001b[0;34m,\u001b[0m \u001b[0;34m*\u001b[0m\u001b[0margs\u001b[0m\u001b[0;34m)\u001b[0m\u001b[0;34m:\u001b[0m\u001b[0;34m\u001b[0m\u001b[0;34m\u001b[0m\u001b[0m\n\u001b[0;32m--> 738\u001b[0;31m         \u001b[0mself\u001b[0m\u001b[0;34m.\u001b[0m\u001b[0m_error_handler\u001b[0m\u001b[0;34m.\u001b[0m\u001b[0mfatal\u001b[0m\u001b[0;34m(\u001b[0m\u001b[0mmsg\u001b[0m\u001b[0;34m,\u001b[0m \u001b[0margs\u001b[0m\u001b[0;34m)\u001b[0m\u001b[0;34m\u001b[0m\u001b[0;34m\u001b[0m\u001b[0m\n\u001b[0m\u001b[1;32m    739\u001b[0m \u001b[0;34m\u001b[0m\u001b[0m\n\u001b[1;32m    740\u001b[0m     \u001b[0;32mdef\u001b[0m \u001b[0merror\u001b[0m\u001b[0;34m(\u001b[0m\u001b[0mself\u001b[0m\u001b[0;34m,\u001b[0m \u001b[0mmsg\u001b[0m\u001b[0;34m,\u001b[0m \u001b[0;34m*\u001b[0m\u001b[0margs\u001b[0m\u001b[0;34m)\u001b[0m\u001b[0;34m:\u001b[0m\u001b[0;34m\u001b[0m\u001b[0;34m\u001b[0m\u001b[0m\n",
      "\u001b[0;32m~/.conda/envs/ica_new/lib/python3.6/site-packages/docplex/mp/error_handler.py\u001b[0m in \u001b[0;36mfatal\u001b[0;34m(self, msg, args)\u001b[0m\n\u001b[1;32m    208\u001b[0m         \u001b[0mresolved_message\u001b[0m \u001b[0;34m=\u001b[0m \u001b[0mresolve_pattern\u001b[0m\u001b[0;34m(\u001b[0m\u001b[0mmsg\u001b[0m\u001b[0;34m,\u001b[0m \u001b[0margs\u001b[0m\u001b[0;34m)\u001b[0m\u001b[0;34m\u001b[0m\u001b[0;34m\u001b[0m\u001b[0m\n\u001b[1;32m    209\u001b[0m         \u001b[0mdocplex_error_stop_here\u001b[0m\u001b[0;34m(\u001b[0m\u001b[0;34m)\u001b[0m\u001b[0;34m\u001b[0m\u001b[0;34m\u001b[0m\u001b[0m\n\u001b[0;32m--> 210\u001b[0;31m         \u001b[0;32mraise\u001b[0m \u001b[0mDOcplexException\u001b[0m\u001b[0;34m(\u001b[0m\u001b[0mresolved_message\u001b[0m\u001b[0;34m)\u001b[0m\u001b[0;34m\u001b[0m\u001b[0;34m\u001b[0m\u001b[0m\n\u001b[0m\u001b[1;32m    211\u001b[0m \u001b[0;34m\u001b[0m\u001b[0m\n\u001b[1;32m    212\u001b[0m     \u001b[0;32mdef\u001b[0m \u001b[0mok\u001b[0m\u001b[0;34m(\u001b[0m\u001b[0mself\u001b[0m\u001b[0;34m)\u001b[0m\u001b[0;34m:\u001b[0m\u001b[0;34m\u001b[0m\u001b[0;34m\u001b[0m\u001b[0m\n",
      "\u001b[0;31mDOcplexException\u001b[0m: Model<galo> did not solve successfully"
     ]
    }
   ],
   "source": [
    "def galo_bids_init(value_model, bidder_id, n, presampled_n, presampled_algorithm, ml_model):\n",
    "\n",
    "    values = np.random.randint(0, 100, size=(10)).tolist()\n",
    "    bundles = np.random.randint(0, 2, size=(10, 5)).tolist()\n",
    "    #print(bundles)\n",
    "    M = len(bundles[0])\n",
    "\n",
    "    # bundles random 18 bundles of length 10\n",
    "    reg = LinearRegression().fit(bundles, values)\n",
    "\n",
    "    r_max = []\n",
    "    count = 10\n",
    "    bigM = 6000\n",
    "    while count <= 30:\n",
    "        reg = LinearRegression().fit(bundles, values)\n",
    "        coef = reg.coef_\n",
    "        intercept = reg.intercept_\n",
    "        print(coef)\n",
    "        print(intercept)\n",
    "        x_vectors = []\n",
    "        x_distances = []\n",
    "        for bundle in range(len(bundles)):\n",
    "\n",
    "            m = Model(name='galo')\n",
    "\n",
    "            r = m.continuous_var(name='r')\n",
    "            \n",
    "            x = m.binary_var_list(range(M), name='x')\n",
    "            \n",
    "            b = [m.binary_var(name=f'b_{j}') for j in range(len(values))]\n",
    "\n",
    "            constraints = []\n",
    "\n",
    "            y_prediction = m.sum(x[k]*coef[k] for k in range(M)) + intercept\n",
    "\n",
    "            #y_prediction = np.sum(x*coef) + intercept\n",
    "\n",
    "            constraints.append(values[bundle] - y_prediction <= r)\n",
    "            constraints.append(y_prediction - values[bundle] <= r)\n",
    "\n",
    "            for j in range(len(values)):\n",
    "                constraints.append(values[j] - y_prediction + bigM * b[j] >= r)\n",
    "                constraints.append(y_prediction - values[j] + bigM * (1 - b[j]) >= r)\n",
    "\n",
    "            m.add_constraints(constraints)\n",
    "            \n",
    "            m.maximize(r)\n",
    "\n",
    "            sol = m.solve()\n",
    "\n",
    "            try:\n",
    "                print(sol.solve_status)\n",
    "            except:\n",
    "                print('No solution found')\n",
    "                #iterate over constraints\n",
    "                for i in m.iter_constraints():\n",
    "                    print(i)\n",
    "                print('#################')\n",
    "            vector = np.array([x[k].solution_value for k in range(M)])\n",
    "            x_vectors.append(vector)\n",
    "            distance = np.sum(np.abs(np.sum(vector * coef) + intercept - values[bundle]))\n",
    "            x_distances.append(distance)\n",
    "\n",
    "        chosen_bundle = x_vectors[np.argmax(x_distances)]\n",
    "        value = 10\n",
    "        values.append(value)\n",
    "        bundles.append(chosen_bundle.tolist())\n",
    "        print(chosen_bundle)\n",
    "        print(value)\n",
    "        count+=1\n",
    "\n",
    "    # D = np.array(bundles)\n",
    "    # D = np.hstack((D, np.array(values).reshape(-1, 1)))\n",
    "    # print(D)\n",
    "    # return (D)\n",
    "    return bundles\n",
    "\n",
    "results = galo_bids_init(None, 0, 20, 10, 'unif', None)\n",
    "#results"
   ]
  },
  {
   "cell_type": "code",
   "execution_count": 3,
   "metadata": {},
   "outputs": [
    {
     "ename": "NameError",
     "evalue": "name 'results' is not defined",
     "output_type": "error",
     "traceback": [
      "\u001b[0;31m---------------------------------------------------------------------------\u001b[0m",
      "\u001b[0;31mNameError\u001b[0m                                 Traceback (most recent call last)",
      "\u001b[0;32m<ipython-input-3-100f62972f2f>\u001b[0m in \u001b[0;36m<module>\u001b[0;34m\u001b[0m\n\u001b[0;32m----> 1\u001b[0;31m \u001b[0mresults\u001b[0m\u001b[0;34m\u001b[0m\u001b[0;34m\u001b[0m\u001b[0m\n\u001b[0m",
      "\u001b[0;31mNameError\u001b[0m: name 'results' is not defined"
     ]
    }
   ],
   "source": [
    "results"
   ]
  }
 ],
 "metadata": {
  "kernelspec": {
   "display_name": "ica_new",
   "language": "python",
   "name": "python3"
  },
  "language_info": {
   "codemirror_mode": {
    "name": "ipython",
    "version": 3
   },
   "file_extension": ".py",
   "mimetype": "text/x-python",
   "name": "python",
   "nbconvert_exporter": "python",
   "pygments_lexer": "ipython3",
   "version": "3.6.13"
  },
  "orig_nbformat": 4
 },
 "nbformat": 4,
 "nbformat_minor": 2
}
