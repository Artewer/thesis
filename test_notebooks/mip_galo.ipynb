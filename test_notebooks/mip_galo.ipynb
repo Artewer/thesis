{
 "cells": [
  {
   "cell_type": "code",
   "execution_count": 38,
   "metadata": {},
   "outputs": [],
   "source": [
    "from docplex.mp.model import Model\n",
    "import numpy as np\n",
    "from sklearn.linear_model import LinearRegression\n",
    "import docplex.mp.conflict_refiner as cr"
   ]
  },
  {
   "cell_type": "code",
   "execution_count": 37,
   "metadata": {},
   "outputs": [
    {
     "name": "stdout",
     "output_type": "stream",
     "text": [
      "[  6.88679245  38.73584906  -2.88679245   3.8490566  -18.86792453]\n",
      "35.58490566037738\n",
      "JobSolveStatus.OPTIMAL_SOLUTION\n",
      "JobSolveStatus.OPTIMAL_SOLUTION\n"
     ]
    },
    {
     "name": "stdout",
     "output_type": "stream",
     "text": [
      "JobSolveStatus.OPTIMAL_SOLUTION\n",
      "JobSolveStatus.OPTIMAL_SOLUTION\n",
      "JobSolveStatus.OPTIMAL_SOLUTION\n",
      "JobSolveStatus.OPTIMAL_SOLUTION\n",
      "JobSolveStatus.OPTIMAL_SOLUTION\n",
      "JobSolveStatus.OPTIMAL_SOLUTION\n",
      "JobSolveStatus.OPTIMAL_SOLUTION\n",
      "JobSolveStatus.OPTIMAL_SOLUTION\n",
      "[  3.796  25.1     0.204  22.212 -26.504]\n",
      "30.676000000000016\n",
      "No solution found\n",
      "JobSolveStatus.OPTIMAL_SOLUTION\n",
      "JobSolveStatus.OPTIMAL_SOLUTION\n",
      "show some of the constraints that can be removed to arrive at a minimal conflict\n",
      "Initial y\n",
      "67\n",
      "Intercept\n",
      "30.676000000000016\n",
      "Conflict set:\n",
      "\t<class 'docplex.mp.constr.LinearConstraint'> (status code: ConflictStatus.Member): -3.796x_0-25.100x_1-0.204x_2-22.212x_3+26.504x_4+36.324 <= r\n",
      "\t<class 'docplex.mp.constr.LinearConstraint'> (status code: ConflictStatus.Member): 3.796x_0+25.100x_1+0.204x_2+22.212x_3-26.504x_4-36.324 <= r\n",
      "\t<class 'docplex.mp.constr.LinearConstraint'> (status code: ConflictStatus.Member): -3.796x_0-25.100x_1-0.204x_2-22.212x_3+26.504x_4+300b_2+33.324 >= r\n",
      "\t<class 'docplex.mp.constr.LinearConstraint'> (status code: ConflictStatus.Member): 3.796x_0+25.100x_1+0.204x_2+22.212x_3-26.504x_4-300b_2+266.676 >= r\n",
      "\t<class 'docplex.mp.constr.LinearConstraint'> (status code: ConflictStatus.Member): -3.796x_0-25.100x_1-0.204x_2-22.212x_3+26.504x_4+300b_6+52.324 >= r\n",
      "\t<class 'docplex.mp.constr.LinearConstraint'> (status code: ConflictStatus.Member): 3.796x_0+25.100x_1+0.204x_2+22.212x_3-26.504x_4-300b_6+247.676 >= r\n",
      "No solution found\n"
     ]
    },
    {
     "name": "stderr",
     "output_type": "stream",
     "text": [
      "/home/artem/.conda/envs/ica_new/lib/python3.6/site-packages/docplex/mp/model.py:3278: UserWarning: Unknown quick-setting in Context: display, value: True\n",
      "  context.update_key_value(argname, argval)\n"
     ]
    },
    {
     "name": "stdout",
     "output_type": "stream",
     "text": [
      "show some of the constraints that can be removed to arrive at a minimal conflict\n"
     ]
    },
    {
     "name": "stderr",
     "output_type": "stream",
     "text": [
      "/home/artem/.conda/envs/ica_new/lib/python3.6/site-packages/docplex/mp/model.py:3278: UserWarning: Unknown quick-setting in Context: display, value: True\n",
      "  context.update_key_value(argname, argval)\n"
     ]
    },
    {
     "name": "stdout",
     "output_type": "stream",
     "text": [
      "Initial y\n",
      "67\n",
      "Intercept\n",
      "30.676000000000016\n",
      "Conflict set:\n",
      "\t<class 'docplex.mp.constr.LinearConstraint'> (status code: ConflictStatus.Member): -3.796x_0-25.100x_1-0.204x_2-22.212x_3+26.504x_4+36.324 <= r\n",
      "\t<class 'docplex.mp.constr.LinearConstraint'> (status code: ConflictStatus.Member): 3.796x_0+25.100x_1+0.204x_2+22.212x_3-26.504x_4-36.324 <= r\n",
      "\t<class 'docplex.mp.constr.LinearConstraint'> (status code: ConflictStatus.Member): -3.796x_0-25.100x_1-0.204x_2-22.212x_3+26.504x_4+300b_2+33.324 >= r\n",
      "\t<class 'docplex.mp.constr.LinearConstraint'> (status code: ConflictStatus.Member): 3.796x_0+25.100x_1+0.204x_2+22.212x_3-26.504x_4-300b_2+266.676 >= r\n",
      "\t<class 'docplex.mp.constr.LinearConstraint'> (status code: ConflictStatus.Member): -3.796x_0-25.100x_1-0.204x_2-22.212x_3+26.504x_4+300b_6+52.324 >= r\n",
      "\t<class 'docplex.mp.constr.LinearConstraint'> (status code: ConflictStatus.Member): 3.796x_0+25.100x_1+0.204x_2+22.212x_3-26.504x_4-300b_6+247.676 >= r\n",
      "No solution found\n",
      "JobSolveStatus.OPTIMAL_SOLUTION\n",
      "JobSolveStatus.OPTIMAL_SOLUTION\n",
      "JobSolveStatus.OPTIMAL_SOLUTION\n",
      "JobSolveStatus.OPTIMAL_SOLUTION\n",
      "show some of the constraints that can be removed to arrive at a minimal conflict\n",
      "Initial y\n",
      "87\n",
      "Intercept\n",
      "30.676000000000016\n",
      "Conflict set:\n",
      "\t<class 'docplex.mp.constr.LinearConstraint'> (status code: ConflictStatus.Member): -3.796x_0-25.100x_1-0.204x_2-22.212x_3+26.504x_4+56.324 <= r\n",
      "\t<class 'docplex.mp.constr.LinearConstraint'> (status code: ConflictStatus.Member): -3.796x_0-25.100x_1-0.204x_2-22.212x_3+26.504x_4+300b_6+52.324 >= r\n",
      "\t<class 'docplex.mp.constr.LinearConstraint'> (status code: ConflictStatus.Member): 3.796x_0+25.100x_1+0.204x_2+22.212x_3-26.504x_4-300b_6+247.676 >= r\n",
      "No solution found\n"
     ]
    },
    {
     "name": "stderr",
     "output_type": "stream",
     "text": [
      "/home/artem/.conda/envs/ica_new/lib/python3.6/site-packages/docplex/mp/model.py:3278: UserWarning: Unknown quick-setting in Context: display, value: True\n",
      "  context.update_key_value(argname, argval)\n"
     ]
    },
    {
     "name": "stdout",
     "output_type": "stream",
     "text": [
      "show some of the constraints that can be removed to arrive at a minimal conflict\n",
      "Initial y\n",
      "10\n",
      "Intercept\n",
      "30.676000000000016\n",
      "Conflict set:\n",
      "\t<class 'docplex.mp.constr.LinearConstraint'> (status code: ConflictStatus.Member): -3.796x_0-25.100x_1-0.204x_2-22.212x_3+26.504x_4-20.676 <= r\n",
      "\t<class 'docplex.mp.constr.LinearConstraint'> (status code: ConflictStatus.Member): 3.796x_0+25.100x_1+0.204x_2+22.212x_3-26.504x_4+20.676 <= r\n",
      "\t<class 'docplex.mp.constr.LinearConstraint'> (status code: ConflictStatus.Member): -3.796x_0-25.100x_1-0.204x_2-22.212x_3+26.504x_4+300b_5-21.676 >= r\n",
      "\t<class 'docplex.mp.constr.LinearConstraint'> (status code: ConflictStatus.Member): 3.796x_0+25.100x_1+0.204x_2+22.212x_3-26.504x_4-300b_5+321.676 >= r\n",
      "\t<class 'docplex.mp.constr.LinearConstraint'> (status code: ConflictStatus.Member): -3.796x_0-25.100x_1-0.204x_2-22.212x_3+26.504x_4+300b_7-9.676 >= r\n",
      "\t<class 'docplex.mp.constr.LinearConstraint'> (status code: ConflictStatus.Member): 3.796x_0+25.100x_1+0.204x_2+22.212x_3-26.504x_4-300b_7+309.676 >= r\n",
      "No solution found\n",
      "[ -3.49804433  14.72229465  -7.32724902  26.30378096 -32.31551499]\n",
      "41.76531942633638\n"
     ]
    },
    {
     "name": "stderr",
     "output_type": "stream",
     "text": [
      "/home/artem/.conda/envs/ica_new/lib/python3.6/site-packages/docplex/mp/model.py:3278: UserWarning: Unknown quick-setting in Context: display, value: True\n",
      "  context.update_key_value(argname, argval)\n"
     ]
    },
    {
     "name": "stdout",
     "output_type": "stream",
     "text": [
      "JobSolveStatus.OPTIMAL_SOLUTION\n",
      "JobSolveStatus.OPTIMAL_SOLUTION\n",
      "JobSolveStatus.OPTIMAL_SOLUTION\n",
      "JobSolveStatus.OPTIMAL_SOLUTION\n",
      "JobSolveStatus.OPTIMAL_SOLUTION\n",
      "JobSolveStatus.OPTIMAL_SOLUTION\n",
      "JobSolveStatus.OPTIMAL_SOLUTION\n",
      "JobSolveStatus.OPTIMAL_SOLUTION\n",
      "JobSolveStatus.OPTIMAL_SOLUTION\n",
      "show some of the constraints that can be removed to arrive at a minimal conflict\n",
      "Initial y\n",
      "87\n",
      "Intercept\n",
      "41.76531942633638\n",
      "Conflict set:\n",
      "\t<class 'docplex.mp.constr.LinearConstraint'> (status code: ConflictStatus.Member): 3.498x_0-14.722x_1+7.327x_2-26.304x_3+32.316x_4+45.235 <= r\n",
      "\t<class 'docplex.mp.constr.LinearConstraint'> (status code: ConflictStatus.Member): 3.498x_0-14.722x_1+7.327x_2-26.304x_3+32.316x_4+300b_6+41.235 >= r\n",
      "\t<class 'docplex.mp.constr.LinearConstraint'> (status code: ConflictStatus.Member): -3.498x_0+14.722x_1-7.327x_2+26.304x_3-32.316x_4-300b_6+258.765 >= r\n",
      "No solution found\n"
     ]
    },
    {
     "name": "stderr",
     "output_type": "stream",
     "text": [
      "/home/artem/.conda/envs/ica_new/lib/python3.6/site-packages/docplex/mp/model.py:3278: UserWarning: Unknown quick-setting in Context: display, value: True\n",
      "  context.update_key_value(argname, argval)\n"
     ]
    },
    {
     "name": "stdout",
     "output_type": "stream",
     "text": [
      "JobSolveStatus.OPTIMAL_SOLUTION\n",
      "JobSolveStatus.OPTIMAL_SOLUTION\n",
      "[ -0.98506289  14.56132075  -7.13050314  23.38836478 -30.75943396]\n",
      "42.015723270440255\n",
      "JobSolveStatus.OPTIMAL_SOLUTION\n",
      "JobSolveStatus.OPTIMAL_SOLUTION\n",
      "JobSolveStatus.OPTIMAL_SOLUTION\n",
      "JobSolveStatus.OPTIMAL_SOLUTION\n",
      "JobSolveStatus.OPTIMAL_SOLUTION\n",
      "JobSolveStatus.OPTIMAL_SOLUTION\n",
      "JobSolveStatus.OPTIMAL_SOLUTION\n",
      "JobSolveStatus.OPTIMAL_SOLUTION\n",
      "JobSolveStatus.OPTIMAL_SOLUTION\n",
      "show some of the constraints that can be removed to arrive at a minimal conflict\n",
      "Initial y\n",
      "87\n",
      "Intercept\n",
      "42.015723270440255\n",
      "Conflict set:\n",
      "\t<class 'docplex.mp.constr.LinearConstraint'> (status code: ConflictStatus.Member): 0.985x_0-14.561x_1+7.131x_2-23.388x_3+30.759x_4+44.984 <= r\n",
      "\t<class 'docplex.mp.constr.LinearConstraint'> (status code: ConflictStatus.Member): 0.985x_0-14.561x_1+7.131x_2-23.388x_3+30.759x_4+300b_6+40.984 >= r\n",
      "\t<class 'docplex.mp.constr.LinearConstraint'> (status code: ConflictStatus.Member): -0.985x_0+14.561x_1-7.131x_2+23.388x_3-30.759x_4-300b_6+259.016 >= r\n",
      "No solution found\n"
     ]
    },
    {
     "name": "stderr",
     "output_type": "stream",
     "text": [
      "/home/artem/.conda/envs/ica_new/lib/python3.6/site-packages/docplex/mp/model.py:3278: UserWarning: Unknown quick-setting in Context: display, value: True\n",
      "  context.update_key_value(argname, argval)\n"
     ]
    },
    {
     "name": "stdout",
     "output_type": "stream",
     "text": [
      "JobSolveStatus.OPTIMAL_SOLUTION\n",
      "JobSolveStatus.OPTIMAL_SOLUTION\n",
      "JobSolveStatus.OPTIMAL_SOLUTION\n",
      "[-10.0391696    3.09635723  -5.73756365  37.85350568 -25.93772033]\n",
      "39.65844104974539\n",
      "JobSolveStatus.OPTIMAL_SOLUTION\n",
      "JobSolveStatus.OPTIMAL_SOLUTION\n",
      "JobSolveStatus.OPTIMAL_SOLUTION\n",
      "JobSolveStatus.OPTIMAL_SOLUTION\n",
      "JobSolveStatus.OPTIMAL_SOLUTION\n",
      "JobSolveStatus.OPTIMAL_SOLUTION\n",
      "JobSolveStatus.OPTIMAL_SOLUTION\n",
      "JobSolveStatus.OPTIMAL_SOLUTION\n",
      "JobSolveStatus.OPTIMAL_SOLUTION\n",
      "show some of the constraints that can be removed to arrive at a minimal conflict\n",
      "Initial y\n",
      "87\n",
      "Intercept\n",
      "39.65844104974539\n",
      "Conflict set:\n",
      "\t<class 'docplex.mp.constr.LinearConstraint'> (status code: ConflictStatus.Member): 10.039x_0-3.096x_1+5.738x_2-37.854x_3+25.938x_4+47.342 <= r\n",
      "\t<class 'docplex.mp.constr.LinearConstraint'> (status code: ConflictStatus.Member): 10.039x_0-3.096x_1+5.738x_2-37.854x_3+25.938x_4+300b_6+43.342 >= r\n",
      "\t<class 'docplex.mp.constr.LinearConstraint'> (status code: ConflictStatus.Member): -10.039x_0+3.096x_1-5.738x_2+37.854x_3-25.938x_4-300b_6+256.658 >= r\n",
      "No solution found\n"
     ]
    },
    {
     "name": "stderr",
     "output_type": "stream",
     "text": [
      "/home/artem/.conda/envs/ica_new/lib/python3.6/site-packages/docplex/mp/model.py:3278: UserWarning: Unknown quick-setting in Context: display, value: True\n",
      "  context.update_key_value(argname, argval)\n"
     ]
    },
    {
     "name": "stdout",
     "output_type": "stream",
     "text": [
      "JobSolveStatus.OPTIMAL_SOLUTION\n",
      "JobSolveStatus.OPTIMAL_SOLUTION\n",
      "JobSolveStatus.OPTIMAL_SOLUTION\n",
      "JobSolveStatus.OPTIMAL_SOLUTION\n",
      "[ -8.496   2.466  -5.524  36.238 -24.522]\n",
      "39.748\n",
      "JobSolveStatus.OPTIMAL_SOLUTION\n",
      "JobSolveStatus.OPTIMAL_SOLUTION\n",
      "JobSolveStatus.OPTIMAL_SOLUTION\n",
      "JobSolveStatus.OPTIMAL_SOLUTION\n",
      "JobSolveStatus.OPTIMAL_SOLUTION\n",
      "JobSolveStatus.OPTIMAL_SOLUTION\n",
      "JobSolveStatus.OPTIMAL_SOLUTION\n",
      "JobSolveStatus.OPTIMAL_SOLUTION\n",
      "JobSolveStatus.OPTIMAL_SOLUTION\n",
      "show some of the constraints that can be removed to arrive at a minimal conflict\n",
      "Initial y\n",
      "87\n",
      "Intercept\n",
      "39.748\n",
      "Conflict set:\n",
      "\t<class 'docplex.mp.constr.LinearConstraint'> (status code: ConflictStatus.Member): 8.496x_0-2.466x_1+5.524x_2-36.238x_3+24.522x_4+47.252 <= r\n",
      "\t<class 'docplex.mp.constr.LinearConstraint'> (status code: ConflictStatus.Member): 8.496x_0-2.466x_1+5.524x_2-36.238x_3+24.522x_4+300b_6+43.252 >= r\n",
      "\t<class 'docplex.mp.constr.LinearConstraint'> (status code: ConflictStatus.Member): -8.496x_0+2.466x_1-5.524x_2+36.238x_3-24.522x_4-300b_6+256.748 >= r\n",
      "No solution found\n"
     ]
    },
    {
     "name": "stderr",
     "output_type": "stream",
     "text": [
      "/home/artem/.conda/envs/ica_new/lib/python3.6/site-packages/docplex/mp/model.py:3278: UserWarning: Unknown quick-setting in Context: display, value: True\n",
      "  context.update_key_value(argname, argval)\n"
     ]
    },
    {
     "name": "stdout",
     "output_type": "stream",
     "text": [
      "JobSolveStatus.OPTIMAL_SOLUTION\n",
      "JobSolveStatus.OPTIMAL_SOLUTION\n",
      "JobSolveStatus.OPTIMAL_SOLUTION\n",
      "JobSolveStatus.OPTIMAL_SOLUTION\n",
      "JobSolveStatus.OPTIMAL_SOLUTION\n",
      "[ -7.61007421   2.10411513  -5.4013942   35.31054644 -23.70924219]\n",
      "39.79941533618169\n",
      "JobSolveStatus.OPTIMAL_SOLUTION\n",
      "JobSolveStatus.OPTIMAL_SOLUTION\n",
      "JobSolveStatus.OPTIMAL_SOLUTION\n",
      "JobSolveStatus.OPTIMAL_SOLUTION\n",
      "JobSolveStatus.OPTIMAL_SOLUTION\n",
      "JobSolveStatus.OPTIMAL_SOLUTION\n",
      "JobSolveStatus.OPTIMAL_SOLUTION\n",
      "JobSolveStatus.OPTIMAL_SOLUTION\n",
      "JobSolveStatus.OPTIMAL_SOLUTION\n",
      "show some of the constraints that can be removed to arrive at a minimal conflict\n",
      "Initial y\n",
      "87\n",
      "Intercept\n",
      "39.79941533618169\n",
      "Conflict set:\n",
      "\t<class 'docplex.mp.constr.LinearConstraint'> (status code: ConflictStatus.Member): 7.610x_0-2.104x_1+5.401x_2-35.311x_3+23.709x_4+47.201 <= r\n",
      "\t<class 'docplex.mp.constr.LinearConstraint'> (status code: ConflictStatus.Member): 7.610x_0-2.104x_1+5.401x_2-35.311x_3+23.709x_4+300b_6+43.201 >= r\n",
      "\t<class 'docplex.mp.constr.LinearConstraint'> (status code: ConflictStatus.Member): -7.610x_0+2.104x_1-5.401x_2+35.311x_3-23.709x_4-300b_6+256.799 >= r\n",
      "No solution found\n"
     ]
    },
    {
     "name": "stderr",
     "output_type": "stream",
     "text": [
      "/home/artem/.conda/envs/ica_new/lib/python3.6/site-packages/docplex/mp/model.py:3278: UserWarning: Unknown quick-setting in Context: display, value: True\n",
      "  context.update_key_value(argname, argval)\n"
     ]
    },
    {
     "name": "stdout",
     "output_type": "stream",
     "text": [
      "JobSolveStatus.OPTIMAL_SOLUTION\n",
      "JobSolveStatus.OPTIMAL_SOLUTION\n",
      "JobSolveStatus.OPTIMAL_SOLUTION\n",
      "JobSolveStatus.OPTIMAL_SOLUTION\n",
      "JobSolveStatus.OPTIMAL_SOLUTION\n",
      "JobSolveStatus.OPTIMAL_SOLUTION\n",
      "[ -0.39290587  20.8317417    7.50068213  21.06866758 -22.59890859]\n",
      "21.84902228285584\n",
      "JobSolveStatus.OPTIMAL_SOLUTION\n",
      "JobSolveStatus.OPTIMAL_SOLUTION\n",
      "JobSolveStatus.OPTIMAL_SOLUTION\n",
      "JobSolveStatus.OPTIMAL_SOLUTION\n",
      "JobSolveStatus.OPTIMAL_SOLUTION\n",
      "JobSolveStatus.OPTIMAL_SOLUTION\n",
      "show some of the constraints that can be removed to arrive at a minimal conflict\n",
      "Initial y\n",
      "83\n",
      "Intercept\n",
      "21.84902228285584\n",
      "Conflict set:\n",
      "\t<class 'docplex.mp.constr.LinearConstraint'> (status code: ConflictStatus.Member): 0.393x_0-20.832x_1-7.501x_2-21.069x_3+22.599x_4+61.151 <= r\n",
      "\t<class 'docplex.mp.constr.LinearConstraint'> (status code: ConflictStatus.Member): 0.393x_0-20.832x_1-7.501x_2-21.069x_3+22.599x_4+300b_2+42.151 >= r\n",
      "\t<class 'docplex.mp.constr.LinearConstraint'> (status code: ConflictStatus.Member): -0.393x_0+20.832x_1+7.501x_2+21.069x_3-22.599x_4-300b_2+257.849 >= r\n",
      "No solution found\n"
     ]
    },
    {
     "name": "stderr",
     "output_type": "stream",
     "text": [
      "/home/artem/.conda/envs/ica_new/lib/python3.6/site-packages/docplex/mp/model.py:3278: UserWarning: Unknown quick-setting in Context: display, value: True\n",
      "  context.update_key_value(argname, argval)\n"
     ]
    },
    {
     "name": "stdout",
     "output_type": "stream",
     "text": [
      "JobSolveStatus.OPTIMAL_SOLUTION\n",
      "JobSolveStatus.OPTIMAL_SOLUTION\n",
      "show some of the constraints that can be removed to arrive at a minimal conflict\n"
     ]
    },
    {
     "name": "stderr",
     "output_type": "stream",
     "text": [
      "/home/artem/.conda/envs/ica_new/lib/python3.6/site-packages/docplex/mp/model.py:3278: UserWarning: Unknown quick-setting in Context: display, value: True\n",
      "  context.update_key_value(argname, argval)\n"
     ]
    },
    {
     "name": "stdout",
     "output_type": "stream",
     "text": [
      "Initial y\n",
      "87\n",
      "Intercept\n",
      "21.84902228285584\n",
      "Conflict set:\n",
      "\t<class 'docplex.mp.constr.LinearConstraint'> (status code: ConflictStatus.Member): 0.393x_0-20.832x_1-7.501x_2-21.069x_3+22.599x_4+65.151 <= r\n",
      "\t<class 'docplex.mp.constr.LinearConstraint'> (status code: ConflictStatus.Member): 0.393x_0-20.832x_1-7.501x_2-21.069x_3+22.599x_4+300b_2+42.151 >= r\n",
      "\t<class 'docplex.mp.constr.LinearConstraint'> (status code: ConflictStatus.Member): -0.393x_0+20.832x_1+7.501x_2+21.069x_3-22.599x_4-300b_2+257.849 >= r\n",
      "No solution found\n",
      "show some of the constraints that can be removed to arrive at a minimal conflict\n",
      "Initial y\n",
      "10\n",
      "Intercept\n",
      "21.84902228285584\n",
      "Conflict set:\n",
      "\t<class 'docplex.mp.constr.LinearConstraint'> (status code: ConflictStatus.Member): 0.393x_0-20.832x_1-7.501x_2-21.069x_3+22.599x_4-11.849 <= r\n",
      "\t<class 'docplex.mp.constr.LinearConstraint'> (status code: ConflictStatus.Member): -0.393x_0+20.832x_1+7.501x_2+21.069x_3-22.599x_4+11.849 <= r\n",
      "\t<class 'docplex.mp.constr.LinearConstraint'> (status code: ConflictStatus.Member): 0.393x_0-20.832x_1-7.501x_2-21.069x_3+22.599x_4+300b_5-12.849 >= r\n",
      "\t<class 'docplex.mp.constr.LinearConstraint'> (status code: ConflictStatus.Member): -0.393x_0+20.832x_1+7.501x_2+21.069x_3-22.599x_4-300b_5+312.849 >= r\n",
      "\t<class 'docplex.mp.constr.LinearConstraint'> (status code: ConflictStatus.Member): 0.393x_0-20.832x_1-7.501x_2-21.069x_3+22.599x_4+300b_7-0.849 >= r\n",
      "\t<class 'docplex.mp.constr.LinearConstraint'> (status code: ConflictStatus.Member): -0.393x_0+20.832x_1+7.501x_2+21.069x_3-22.599x_4-300b_7+300.849 >= r\n",
      "No solution found\n"
     ]
    },
    {
     "name": "stderr",
     "output_type": "stream",
     "text": [
      "/home/artem/.conda/envs/ica_new/lib/python3.6/site-packages/docplex/mp/model.py:3278: UserWarning: Unknown quick-setting in Context: display, value: True\n",
      "  context.update_key_value(argname, argval)\n"
     ]
    },
    {
     "name": "stdout",
     "output_type": "stream",
     "text": [
      "show some of the constraints that can be removed to arrive at a minimal conflict\n"
     ]
    },
    {
     "name": "stderr",
     "output_type": "stream",
     "text": [
      "/home/artem/.conda/envs/ica_new/lib/python3.6/site-packages/docplex/mp/model.py:3278: UserWarning: Unknown quick-setting in Context: display, value: True\n",
      "  context.update_key_value(argname, argval)\n"
     ]
    },
    {
     "name": "stdout",
     "output_type": "stream",
     "text": [
      "Initial y\n",
      "10\n",
      "Intercept\n",
      "21.84902228285584\n",
      "Conflict set:\n",
      "\t<class 'docplex.mp.constr.LinearConstraint'> (status code: ConflictStatus.Member): 0.393x_0-20.832x_1-7.501x_2-21.069x_3+22.599x_4-11.849 <= r\n",
      "\t<class 'docplex.mp.constr.LinearConstraint'> (status code: ConflictStatus.Member): -0.393x_0+20.832x_1+7.501x_2+21.069x_3-22.599x_4+11.849 <= r\n",
      "\t<class 'docplex.mp.constr.LinearConstraint'> (status code: ConflictStatus.Member): 0.393x_0-20.832x_1-7.501x_2-21.069x_3+22.599x_4+300b_5-12.849 >= r\n",
      "\t<class 'docplex.mp.constr.LinearConstraint'> (status code: ConflictStatus.Member): -0.393x_0+20.832x_1+7.501x_2+21.069x_3-22.599x_4-300b_5+312.849 >= r\n",
      "\t<class 'docplex.mp.constr.LinearConstraint'> (status code: ConflictStatus.Member): 0.393x_0-20.832x_1-7.501x_2-21.069x_3+22.599x_4+300b_7-0.849 >= r\n",
      "\t<class 'docplex.mp.constr.LinearConstraint'> (status code: ConflictStatus.Member): -0.393x_0+20.832x_1+7.501x_2+21.069x_3-22.599x_4-300b_7+300.849 >= r\n",
      "No solution found\n",
      "show some of the constraints that can be removed to arrive at a minimal conflict\n"
     ]
    },
    {
     "name": "stderr",
     "output_type": "stream",
     "text": [
      "/home/artem/.conda/envs/ica_new/lib/python3.6/site-packages/docplex/mp/model.py:3278: UserWarning: Unknown quick-setting in Context: display, value: True\n",
      "  context.update_key_value(argname, argval)\n"
     ]
    },
    {
     "name": "stdout",
     "output_type": "stream",
     "text": [
      "Initial y\n",
      "10\n",
      "Intercept\n",
      "21.84902228285584\n",
      "Conflict set:\n",
      "\t<class 'docplex.mp.constr.LinearConstraint'> (status code: ConflictStatus.Member): 0.393x_0-20.832x_1-7.501x_2-21.069x_3+22.599x_4-11.849 <= r\n",
      "\t<class 'docplex.mp.constr.LinearConstraint'> (status code: ConflictStatus.Member): -0.393x_0+20.832x_1+7.501x_2+21.069x_3-22.599x_4+11.849 <= r\n",
      "\t<class 'docplex.mp.constr.LinearConstraint'> (status code: ConflictStatus.Member): 0.393x_0-20.832x_1-7.501x_2-21.069x_3+22.599x_4+300b_5-12.849 >= r\n",
      "\t<class 'docplex.mp.constr.LinearConstraint'> (status code: ConflictStatus.Member): -0.393x_0+20.832x_1+7.501x_2+21.069x_3-22.599x_4-300b_5+312.849 >= r\n",
      "\t<class 'docplex.mp.constr.LinearConstraint'> (status code: ConflictStatus.Member): 0.393x_0-20.832x_1-7.501x_2-21.069x_3+22.599x_4+300b_7-0.849 >= r\n",
      "\t<class 'docplex.mp.constr.LinearConstraint'> (status code: ConflictStatus.Member): -0.393x_0+20.832x_1+7.501x_2+21.069x_3-22.599x_4-300b_7+300.849 >= r\n",
      "No solution found\n",
      "show some of the constraints that can be removed to arrive at a minimal conflict\n"
     ]
    },
    {
     "name": "stderr",
     "output_type": "stream",
     "text": [
      "/home/artem/.conda/envs/ica_new/lib/python3.6/site-packages/docplex/mp/model.py:3278: UserWarning: Unknown quick-setting in Context: display, value: True\n",
      "  context.update_key_value(argname, argval)\n"
     ]
    },
    {
     "name": "stdout",
     "output_type": "stream",
     "text": [
      "Initial y\n",
      "10\n",
      "Intercept\n",
      "21.84902228285584\n",
      "Conflict set:\n",
      "\t<class 'docplex.mp.constr.LinearConstraint'> (status code: ConflictStatus.Member): 0.393x_0-20.832x_1-7.501x_2-21.069x_3+22.599x_4-11.849 <= r\n",
      "\t<class 'docplex.mp.constr.LinearConstraint'> (status code: ConflictStatus.Member): -0.393x_0+20.832x_1+7.501x_2+21.069x_3-22.599x_4+11.849 <= r\n",
      "\t<class 'docplex.mp.constr.LinearConstraint'> (status code: ConflictStatus.Member): 0.393x_0-20.832x_1-7.501x_2-21.069x_3+22.599x_4+300b_5-12.849 >= r\n",
      "\t<class 'docplex.mp.constr.LinearConstraint'> (status code: ConflictStatus.Member): -0.393x_0+20.832x_1+7.501x_2+21.069x_3-22.599x_4-300b_5+312.849 >= r\n",
      "\t<class 'docplex.mp.constr.LinearConstraint'> (status code: ConflictStatus.Member): 0.393x_0-20.832x_1-7.501x_2-21.069x_3+22.599x_4+300b_7-0.849 >= r\n",
      "\t<class 'docplex.mp.constr.LinearConstraint'> (status code: ConflictStatus.Member): -0.393x_0+20.832x_1+7.501x_2+21.069x_3-22.599x_4-300b_7+300.849 >= r\n",
      "No solution found\n",
      "show some of the constraints that can be removed to arrive at a minimal conflict\n"
     ]
    },
    {
     "name": "stderr",
     "output_type": "stream",
     "text": [
      "/home/artem/.conda/envs/ica_new/lib/python3.6/site-packages/docplex/mp/model.py:3278: UserWarning: Unknown quick-setting in Context: display, value: True\n",
      "  context.update_key_value(argname, argval)\n"
     ]
    },
    {
     "name": "stdout",
     "output_type": "stream",
     "text": [
      "Initial y\n",
      "10\n",
      "Intercept\n",
      "21.84902228285584\n",
      "Conflict set:\n",
      "\t<class 'docplex.mp.constr.LinearConstraint'> (status code: ConflictStatus.Member): 0.393x_0-20.832x_1-7.501x_2-21.069x_3+22.599x_4-11.849 <= r\n",
      "\t<class 'docplex.mp.constr.LinearConstraint'> (status code: ConflictStatus.Member): -0.393x_0+20.832x_1+7.501x_2+21.069x_3-22.599x_4+11.849 <= r\n",
      "\t<class 'docplex.mp.constr.LinearConstraint'> (status code: ConflictStatus.Member): 0.393x_0-20.832x_1-7.501x_2-21.069x_3+22.599x_4+300b_5-12.849 >= r\n",
      "\t<class 'docplex.mp.constr.LinearConstraint'> (status code: ConflictStatus.Member): -0.393x_0+20.832x_1+7.501x_2+21.069x_3-22.599x_4-300b_5+312.849 >= r\n",
      "\t<class 'docplex.mp.constr.LinearConstraint'> (status code: ConflictStatus.Member): 0.393x_0-20.832x_1-7.501x_2-21.069x_3+22.599x_4+300b_7-0.849 >= r\n",
      "\t<class 'docplex.mp.constr.LinearConstraint'> (status code: ConflictStatus.Member): -0.393x_0+20.832x_1+7.501x_2+21.069x_3-22.599x_4-300b_7+300.849 >= r\n",
      "No solution found\n",
      "show some of the constraints that can be removed to arrive at a minimal conflict\n"
     ]
    },
    {
     "name": "stderr",
     "output_type": "stream",
     "text": [
      "/home/artem/.conda/envs/ica_new/lib/python3.6/site-packages/docplex/mp/model.py:3278: UserWarning: Unknown quick-setting in Context: display, value: True\n",
      "  context.update_key_value(argname, argval)\n"
     ]
    },
    {
     "name": "stdout",
     "output_type": "stream",
     "text": [
      "Initial y\n",
      "10\n",
      "Intercept\n",
      "21.84902228285584\n",
      "Conflict set:\n",
      "\t<class 'docplex.mp.constr.LinearConstraint'> (status code: ConflictStatus.Member): 0.393x_0-20.832x_1-7.501x_2-21.069x_3+22.599x_4-11.849 <= r\n",
      "\t<class 'docplex.mp.constr.LinearConstraint'> (status code: ConflictStatus.Member): -0.393x_0+20.832x_1+7.501x_2+21.069x_3-22.599x_4+11.849 <= r\n",
      "\t<class 'docplex.mp.constr.LinearConstraint'> (status code: ConflictStatus.Member): 0.393x_0-20.832x_1-7.501x_2-21.069x_3+22.599x_4+300b_5-12.849 >= r\n",
      "\t<class 'docplex.mp.constr.LinearConstraint'> (status code: ConflictStatus.Member): -0.393x_0+20.832x_1+7.501x_2+21.069x_3-22.599x_4-300b_5+312.849 >= r\n",
      "\t<class 'docplex.mp.constr.LinearConstraint'> (status code: ConflictStatus.Member): 0.393x_0-20.832x_1-7.501x_2-21.069x_3+22.599x_4+300b_7-0.849 >= r\n",
      "\t<class 'docplex.mp.constr.LinearConstraint'> (status code: ConflictStatus.Member): -0.393x_0+20.832x_1+7.501x_2+21.069x_3-22.599x_4-300b_7+300.849 >= r\n",
      "No solution found\n",
      "show some of the constraints that can be removed to arrive at a minimal conflict\n"
     ]
    },
    {
     "name": "stderr",
     "output_type": "stream",
     "text": [
      "/home/artem/.conda/envs/ica_new/lib/python3.6/site-packages/docplex/mp/model.py:3278: UserWarning: Unknown quick-setting in Context: display, value: True\n",
      "  context.update_key_value(argname, argval)\n"
     ]
    },
    {
     "name": "stdout",
     "output_type": "stream",
     "text": [
      "Initial y\n",
      "10\n",
      "Intercept\n",
      "21.84902228285584\n",
      "Conflict set:\n",
      "\t<class 'docplex.mp.constr.LinearConstraint'> (status code: ConflictStatus.Member): 0.393x_0-20.832x_1-7.501x_2-21.069x_3+22.599x_4-11.849 <= r\n",
      "\t<class 'docplex.mp.constr.LinearConstraint'> (status code: ConflictStatus.Member): -0.393x_0+20.832x_1+7.501x_2+21.069x_3-22.599x_4+11.849 <= r\n",
      "\t<class 'docplex.mp.constr.LinearConstraint'> (status code: ConflictStatus.Member): 0.393x_0-20.832x_1-7.501x_2-21.069x_3+22.599x_4+300b_5-12.849 >= r\n",
      "\t<class 'docplex.mp.constr.LinearConstraint'> (status code: ConflictStatus.Member): -0.393x_0+20.832x_1+7.501x_2+21.069x_3-22.599x_4-300b_5+312.849 >= r\n",
      "\t<class 'docplex.mp.constr.LinearConstraint'> (status code: ConflictStatus.Member): 0.393x_0-20.832x_1-7.501x_2-21.069x_3+22.599x_4+300b_7-0.849 >= r\n",
      "\t<class 'docplex.mp.constr.LinearConstraint'> (status code: ConflictStatus.Member): -0.393x_0+20.832x_1+7.501x_2+21.069x_3-22.599x_4-300b_7+300.849 >= r\n",
      "No solution found\n",
      "[  1.25394665  19.05144257   4.45264017  21.02014154 -20.80647795]\n",
      "22.883233532934106\n",
      "JobSolveStatus.OPTIMAL_SOLUTION\n",
      "JobSolveStatus.OPTIMAL_SOLUTION\n",
      "JobSolveStatus.OPTIMAL_SOLUTION\n",
      "JobSolveStatus.OPTIMAL_SOLUTION\n",
      "JobSolveStatus.OPTIMAL_SOLUTION\n",
      "JobSolveStatus.OPTIMAL_SOLUTION\n",
      "show some of the constraints that can be removed to arrive at a minimal conflict\n",
      "Initial y\n",
      "83\n",
      "Intercept\n",
      "22.883233532934106\n",
      "Conflict set:\n",
      "\t<class 'docplex.mp.constr.LinearConstraint'> (status code: ConflictStatus.Member): -1.254x_0-19.051x_1-4.453x_2-21.020x_3+20.806x_4+60.117 <= r\n",
      "\t<class 'docplex.mp.constr.LinearConstraint'> (status code: ConflictStatus.Member): -1.254x_0-19.051x_1-4.453x_2-21.020x_3+20.806x_4+300b_2+41.117 >= r\n",
      "\t<class 'docplex.mp.constr.LinearConstraint'> (status code: ConflictStatus.Member): 1.254x_0+19.051x_1+4.453x_2+21.020x_3-20.806x_4-300b_2+258.883 >= r\n",
      "No solution found\n"
     ]
    },
    {
     "name": "stderr",
     "output_type": "stream",
     "text": [
      "/home/artem/.conda/envs/ica_new/lib/python3.6/site-packages/docplex/mp/model.py:3278: UserWarning: Unknown quick-setting in Context: display, value: True\n",
      "  context.update_key_value(argname, argval)\n"
     ]
    },
    {
     "name": "stdout",
     "output_type": "stream",
     "text": [
      "JobSolveStatus.OPTIMAL_SOLUTION\n",
      "JobSolveStatus.OPTIMAL_SOLUTION\n",
      "show some of the constraints that can be removed to arrive at a minimal conflict\n",
      "Initial y\n",
      "87\n",
      "Intercept\n",
      "22.883233532934106\n",
      "Conflict set:\n",
      "\t<class 'docplex.mp.constr.LinearConstraint'> (status code: ConflictStatus.Member): -1.254x_0-19.051x_1-4.453x_2-21.020x_3+20.806x_4+64.117 <= r\n",
      "\t<class 'docplex.mp.constr.LinearConstraint'> (status code: ConflictStatus.Member): -1.254x_0-19.051x_1-4.453x_2-21.020x_3+20.806x_4+300b_2+41.117 >= r\n",
      "\t<class 'docplex.mp.constr.LinearConstraint'> (status code: ConflictStatus.Member): 1.254x_0+19.051x_1+4.453x_2+21.020x_3-20.806x_4-300b_2+258.883 >= r\n",
      "No solution found\n"
     ]
    },
    {
     "name": "stderr",
     "output_type": "stream",
     "text": [
      "/home/artem/.conda/envs/ica_new/lib/python3.6/site-packages/docplex/mp/model.py:3278: UserWarning: Unknown quick-setting in Context: display, value: True\n",
      "  context.update_key_value(argname, argval)\n"
     ]
    },
    {
     "name": "stdout",
     "output_type": "stream",
     "text": [
      "show some of the constraints that can be removed to arrive at a minimal conflict\n"
     ]
    },
    {
     "name": "stderr",
     "output_type": "stream",
     "text": [
      "/home/artem/.conda/envs/ica_new/lib/python3.6/site-packages/docplex/mp/model.py:3278: UserWarning: Unknown quick-setting in Context: display, value: True\n",
      "  context.update_key_value(argname, argval)\n"
     ]
    },
    {
     "name": "stdout",
     "output_type": "stream",
     "text": [
      "Initial y\n",
      "10\n",
      "Intercept\n",
      "22.883233532934106\n",
      "Conflict set:\n",
      "\t<class 'docplex.mp.constr.LinearConstraint'> (status code: ConflictStatus.Member): -1.254x_0-19.051x_1-4.453x_2-21.020x_3+20.806x_4-12.883 <= r\n",
      "\t<class 'docplex.mp.constr.LinearConstraint'> (status code: ConflictStatus.Member): 1.254x_0+19.051x_1+4.453x_2+21.020x_3-20.806x_4+12.883 <= r\n",
      "\t<class 'docplex.mp.constr.LinearConstraint'> (status code: ConflictStatus.Member): -1.254x_0-19.051x_1-4.453x_2-21.020x_3+20.806x_4+300b_5-13.883 >= r\n",
      "\t<class 'docplex.mp.constr.LinearConstraint'> (status code: ConflictStatus.Member): 1.254x_0+19.051x_1+4.453x_2+21.020x_3-20.806x_4-300b_5+313.883 >= r\n",
      "\t<class 'docplex.mp.constr.LinearConstraint'> (status code: ConflictStatus.Member): -1.254x_0-19.051x_1-4.453x_2-21.020x_3+20.806x_4+300b_7-1.883 >= r\n",
      "\t<class 'docplex.mp.constr.LinearConstraint'> (status code: ConflictStatus.Member): 1.254x_0+19.051x_1+4.453x_2+21.020x_3-20.806x_4-300b_7+301.883 >= r\n",
      "No solution found\n",
      "show some of the constraints that can be removed to arrive at a minimal conflict\n",
      "Initial y\n",
      "10\n",
      "Intercept\n",
      "22.883233532934106\n",
      "Conflict set:\n",
      "\t<class 'docplex.mp.constr.LinearConstraint'> (status code: ConflictStatus.Member): -1.254x_0-19.051x_1-4.453x_2-21.020x_3+20.806x_4-12.883 <= r\n",
      "\t<class 'docplex.mp.constr.LinearConstraint'> (status code: ConflictStatus.Member): 1.254x_0+19.051x_1+4.453x_2+21.020x_3-20.806x_4+12.883 <= r\n",
      "\t<class 'docplex.mp.constr.LinearConstraint'> (status code: ConflictStatus.Member): -1.254x_0-19.051x_1-4.453x_2-21.020x_3+20.806x_4+300b_5-13.883 >= r\n",
      "\t<class 'docplex.mp.constr.LinearConstraint'> (status code: ConflictStatus.Member): 1.254x_0+19.051x_1+4.453x_2+21.020x_3-20.806x_4-300b_5+313.883 >= r\n",
      "\t<class 'docplex.mp.constr.LinearConstraint'> (status code: ConflictStatus.Member): -1.254x_0-19.051x_1-4.453x_2-21.020x_3+20.806x_4+300b_7-1.883 >= r\n",
      "\t<class 'docplex.mp.constr.LinearConstraint'> (status code: ConflictStatus.Member): 1.254x_0+19.051x_1+4.453x_2+21.020x_3-20.806x_4-300b_7+301.883 >= r\n",
      "No solution found\n"
     ]
    },
    {
     "name": "stderr",
     "output_type": "stream",
     "text": [
      "/home/artem/.conda/envs/ica_new/lib/python3.6/site-packages/docplex/mp/model.py:3278: UserWarning: Unknown quick-setting in Context: display, value: True\n",
      "  context.update_key_value(argname, argval)\n"
     ]
    },
    {
     "name": "stdout",
     "output_type": "stream",
     "text": [
      "show some of the constraints that can be removed to arrive at a minimal conflict\n"
     ]
    },
    {
     "name": "stderr",
     "output_type": "stream",
     "text": [
      "/home/artem/.conda/envs/ica_new/lib/python3.6/site-packages/docplex/mp/model.py:3278: UserWarning: Unknown quick-setting in Context: display, value: True\n",
      "  context.update_key_value(argname, argval)\n"
     ]
    },
    {
     "name": "stdout",
     "output_type": "stream",
     "text": [
      "Initial y\n",
      "10\n",
      "Intercept\n",
      "22.883233532934106\n",
      "Conflict set:\n",
      "\t<class 'docplex.mp.constr.LinearConstraint'> (status code: ConflictStatus.Member): -1.254x_0-19.051x_1-4.453x_2-21.020x_3+20.806x_4-12.883 <= r\n",
      "\t<class 'docplex.mp.constr.LinearConstraint'> (status code: ConflictStatus.Member): 1.254x_0+19.051x_1+4.453x_2+21.020x_3-20.806x_4+12.883 <= r\n",
      "\t<class 'docplex.mp.constr.LinearConstraint'> (status code: ConflictStatus.Member): -1.254x_0-19.051x_1-4.453x_2-21.020x_3+20.806x_4+300b_5-13.883 >= r\n",
      "\t<class 'docplex.mp.constr.LinearConstraint'> (status code: ConflictStatus.Member): 1.254x_0+19.051x_1+4.453x_2+21.020x_3-20.806x_4-300b_5+313.883 >= r\n",
      "\t<class 'docplex.mp.constr.LinearConstraint'> (status code: ConflictStatus.Member): -1.254x_0-19.051x_1-4.453x_2-21.020x_3+20.806x_4+300b_7-1.883 >= r\n",
      "\t<class 'docplex.mp.constr.LinearConstraint'> (status code: ConflictStatus.Member): 1.254x_0+19.051x_1+4.453x_2+21.020x_3-20.806x_4-300b_7+301.883 >= r\n",
      "No solution found\n",
      "show some of the constraints that can be removed to arrive at a minimal conflict\n",
      "Initial y\n",
      "10\n",
      "Intercept\n",
      "22.883233532934106\n",
      "Conflict set:\n",
      "\t<class 'docplex.mp.constr.LinearConstraint'> (status code: ConflictStatus.Member): -1.254x_0-19.051x_1-4.453x_2-21.020x_3+20.806x_4-12.883 <= r\n",
      "\t<class 'docplex.mp.constr.LinearConstraint'> (status code: ConflictStatus.Member): 1.254x_0+19.051x_1+4.453x_2+21.020x_3-20.806x_4+12.883 <= r\n",
      "\t<class 'docplex.mp.constr.LinearConstraint'> (status code: ConflictStatus.Member): -1.254x_0-19.051x_1-4.453x_2-21.020x_3+20.806x_4+300b_5-13.883 >= r\n",
      "\t<class 'docplex.mp.constr.LinearConstraint'> (status code: ConflictStatus.Member): 1.254x_0+19.051x_1+4.453x_2+21.020x_3-20.806x_4-300b_5+313.883 >= r\n",
      "\t<class 'docplex.mp.constr.LinearConstraint'> (status code: ConflictStatus.Member): -1.254x_0-19.051x_1-4.453x_2-21.020x_3+20.806x_4+300b_7-1.883 >= r\n",
      "\t<class 'docplex.mp.constr.LinearConstraint'> (status code: ConflictStatus.Member): 1.254x_0+19.051x_1+4.453x_2+21.020x_3-20.806x_4-300b_7+301.883 >= r\n",
      "No solution found\n"
     ]
    },
    {
     "name": "stderr",
     "output_type": "stream",
     "text": [
      "/home/artem/.conda/envs/ica_new/lib/python3.6/site-packages/docplex/mp/model.py:3278: UserWarning: Unknown quick-setting in Context: display, value: True\n",
      "  context.update_key_value(argname, argval)\n"
     ]
    },
    {
     "name": "stdout",
     "output_type": "stream",
     "text": [
      "show some of the constraints that can be removed to arrive at a minimal conflict\n"
     ]
    },
    {
     "name": "stderr",
     "output_type": "stream",
     "text": [
      "/home/artem/.conda/envs/ica_new/lib/python3.6/site-packages/docplex/mp/model.py:3278: UserWarning: Unknown quick-setting in Context: display, value: True\n",
      "  context.update_key_value(argname, argval)\n"
     ]
    },
    {
     "name": "stdout",
     "output_type": "stream",
     "text": [
      "Initial y\n",
      "10\n",
      "Intercept\n",
      "22.883233532934106\n",
      "Conflict set:\n",
      "\t<class 'docplex.mp.constr.LinearConstraint'> (status code: ConflictStatus.Member): -1.254x_0-19.051x_1-4.453x_2-21.020x_3+20.806x_4-12.883 <= r\n",
      "\t<class 'docplex.mp.constr.LinearConstraint'> (status code: ConflictStatus.Member): 1.254x_0+19.051x_1+4.453x_2+21.020x_3-20.806x_4+12.883 <= r\n",
      "\t<class 'docplex.mp.constr.LinearConstraint'> (status code: ConflictStatus.Member): -1.254x_0-19.051x_1-4.453x_2-21.020x_3+20.806x_4+300b_5-13.883 >= r\n",
      "\t<class 'docplex.mp.constr.LinearConstraint'> (status code: ConflictStatus.Member): 1.254x_0+19.051x_1+4.453x_2+21.020x_3-20.806x_4-300b_5+313.883 >= r\n",
      "\t<class 'docplex.mp.constr.LinearConstraint'> (status code: ConflictStatus.Member): -1.254x_0-19.051x_1-4.453x_2-21.020x_3+20.806x_4+300b_7-1.883 >= r\n",
      "\t<class 'docplex.mp.constr.LinearConstraint'> (status code: ConflictStatus.Member): 1.254x_0+19.051x_1+4.453x_2+21.020x_3-20.806x_4-300b_7+301.883 >= r\n",
      "No solution found\n",
      "show some of the constraints that can be removed to arrive at a minimal conflict\n"
     ]
    },
    {
     "name": "stderr",
     "output_type": "stream",
     "text": [
      "/home/artem/.conda/envs/ica_new/lib/python3.6/site-packages/docplex/mp/model.py:3278: UserWarning: Unknown quick-setting in Context: display, value: True\n",
      "  context.update_key_value(argname, argval)\n"
     ]
    },
    {
     "name": "stdout",
     "output_type": "stream",
     "text": [
      "Initial y\n",
      "10\n",
      "Intercept\n",
      "22.883233532934106\n",
      "Conflict set:\n",
      "\t<class 'docplex.mp.constr.LinearConstraint'> (status code: ConflictStatus.Member): -1.254x_0-19.051x_1-4.453x_2-21.020x_3+20.806x_4-12.883 <= r\n",
      "\t<class 'docplex.mp.constr.LinearConstraint'> (status code: ConflictStatus.Member): 1.254x_0+19.051x_1+4.453x_2+21.020x_3-20.806x_4+12.883 <= r\n",
      "\t<class 'docplex.mp.constr.LinearConstraint'> (status code: ConflictStatus.Member): -1.254x_0-19.051x_1-4.453x_2-21.020x_3+20.806x_4+300b_5-13.883 >= r\n",
      "\t<class 'docplex.mp.constr.LinearConstraint'> (status code: ConflictStatus.Member): 1.254x_0+19.051x_1+4.453x_2+21.020x_3-20.806x_4-300b_5+313.883 >= r\n",
      "\t<class 'docplex.mp.constr.LinearConstraint'> (status code: ConflictStatus.Member): -1.254x_0-19.051x_1-4.453x_2-21.020x_3+20.806x_4+300b_7-1.883 >= r\n",
      "\t<class 'docplex.mp.constr.LinearConstraint'> (status code: ConflictStatus.Member): 1.254x_0+19.051x_1+4.453x_2+21.020x_3-20.806x_4-300b_7+301.883 >= r\n",
      "No solution found\n",
      "show some of the constraints that can be removed to arrive at a minimal conflict\n"
     ]
    },
    {
     "name": "stderr",
     "output_type": "stream",
     "text": [
      "/home/artem/.conda/envs/ica_new/lib/python3.6/site-packages/docplex/mp/model.py:3278: UserWarning: Unknown quick-setting in Context: display, value: True\n",
      "  context.update_key_value(argname, argval)\n"
     ]
    },
    {
     "name": "stdout",
     "output_type": "stream",
     "text": [
      "Initial y\n",
      "10\n",
      "Intercept\n",
      "22.883233532934106\n",
      "Conflict set:\n",
      "\t<class 'docplex.mp.constr.LinearConstraint'> (status code: ConflictStatus.Member): -1.254x_0-19.051x_1-4.453x_2-21.020x_3+20.806x_4-12.883 <= r\n",
      "\t<class 'docplex.mp.constr.LinearConstraint'> (status code: ConflictStatus.Member): 1.254x_0+19.051x_1+4.453x_2+21.020x_3-20.806x_4+12.883 <= r\n",
      "\t<class 'docplex.mp.constr.LinearConstraint'> (status code: ConflictStatus.Member): -1.254x_0-19.051x_1-4.453x_2-21.020x_3+20.806x_4+300b_5-13.883 >= r\n",
      "\t<class 'docplex.mp.constr.LinearConstraint'> (status code: ConflictStatus.Member): 1.254x_0+19.051x_1+4.453x_2+21.020x_3-20.806x_4-300b_5+313.883 >= r\n",
      "\t<class 'docplex.mp.constr.LinearConstraint'> (status code: ConflictStatus.Member): -1.254x_0-19.051x_1-4.453x_2-21.020x_3+20.806x_4+300b_7-1.883 >= r\n",
      "\t<class 'docplex.mp.constr.LinearConstraint'> (status code: ConflictStatus.Member): 1.254x_0+19.051x_1+4.453x_2+21.020x_3-20.806x_4-300b_7+301.883 >= r\n",
      "No solution found\n",
      "show some of the constraints that can be removed to arrive at a minimal conflict\n"
     ]
    },
    {
     "name": "stderr",
     "output_type": "stream",
     "text": [
      "/home/artem/.conda/envs/ica_new/lib/python3.6/site-packages/docplex/mp/model.py:3278: UserWarning: Unknown quick-setting in Context: display, value: True\n",
      "  context.update_key_value(argname, argval)\n"
     ]
    },
    {
     "name": "stdout",
     "output_type": "stream",
     "text": [
      "Initial y\n",
      "10\n",
      "Intercept\n",
      "22.883233532934106\n",
      "Conflict set:\n",
      "\t<class 'docplex.mp.constr.LinearConstraint'> (status code: ConflictStatus.Member): -1.254x_0-19.051x_1-4.453x_2-21.020x_3+20.806x_4-12.883 <= r\n",
      "\t<class 'docplex.mp.constr.LinearConstraint'> (status code: ConflictStatus.Member): 1.254x_0+19.051x_1+4.453x_2+21.020x_3-20.806x_4+12.883 <= r\n",
      "\t<class 'docplex.mp.constr.LinearConstraint'> (status code: ConflictStatus.Member): -1.254x_0-19.051x_1-4.453x_2-21.020x_3+20.806x_4+300b_5-13.883 >= r\n",
      "\t<class 'docplex.mp.constr.LinearConstraint'> (status code: ConflictStatus.Member): 1.254x_0+19.051x_1+4.453x_2+21.020x_3-20.806x_4-300b_5+313.883 >= r\n",
      "\t<class 'docplex.mp.constr.LinearConstraint'> (status code: ConflictStatus.Member): -1.254x_0-19.051x_1-4.453x_2-21.020x_3+20.806x_4+300b_7-1.883 >= r\n",
      "\t<class 'docplex.mp.constr.LinearConstraint'> (status code: ConflictStatus.Member): 1.254x_0+19.051x_1+4.453x_2+21.020x_3-20.806x_4-300b_7+301.883 >= r\n",
      "No solution found\n",
      "[  0.56851193  18.96835957   2.27171153  23.26338243 -17.8154901 ]\n",
      "21.034636871508365\n",
      "JobSolveStatus.OPTIMAL_SOLUTION\n",
      "JobSolveStatus.OPTIMAL_SOLUTION\n",
      "JobSolveStatus.OPTIMAL_SOLUTION\n",
      "JobSolveStatus.OPTIMAL_SOLUTION\n",
      "JobSolveStatus.OPTIMAL_SOLUTION\n",
      "JobSolveStatus.OPTIMAL_SOLUTION\n",
      "show some of the constraints that can be removed to arrive at a minimal conflict\n",
      "Initial y\n",
      "83\n",
      "Intercept\n",
      "21.034636871508365\n",
      "Conflict set:\n",
      "\t<class 'docplex.mp.constr.LinearConstraint'> (status code: ConflictStatus.Member): -0.569x_0-18.968x_1-2.272x_2-23.263x_3+17.815x_4+61.965 <= r\n",
      "\t<class 'docplex.mp.constr.LinearConstraint'> (status code: ConflictStatus.Member): -0.569x_0-18.968x_1-2.272x_2-23.263x_3+17.815x_4+300b_2+42.965 >= r\n",
      "\t<class 'docplex.mp.constr.LinearConstraint'> (status code: ConflictStatus.Member): 0.569x_0+18.968x_1+2.272x_2+23.263x_3-17.815x_4-300b_2+257.035 >= r\n",
      "No solution found\n"
     ]
    },
    {
     "name": "stderr",
     "output_type": "stream",
     "text": [
      "/home/artem/.conda/envs/ica_new/lib/python3.6/site-packages/docplex/mp/model.py:3278: UserWarning: Unknown quick-setting in Context: display, value: True\n",
      "  context.update_key_value(argname, argval)\n"
     ]
    },
    {
     "name": "stdout",
     "output_type": "stream",
     "text": [
      "JobSolveStatus.OPTIMAL_SOLUTION\n",
      "JobSolveStatus.OPTIMAL_SOLUTION\n",
      "show some of the constraints that can be removed to arrive at a minimal conflict\n",
      "Initial y\n",
      "87\n",
      "Intercept\n",
      "21.034636871508365\n",
      "Conflict set:\n",
      "\t<class 'docplex.mp.constr.LinearConstraint'> (status code: ConflictStatus.Member): -0.569x_0-18.968x_1-2.272x_2-23.263x_3+17.815x_4+65.965 <= r\n",
      "\t<class 'docplex.mp.constr.LinearConstraint'> (status code: ConflictStatus.Member): -0.569x_0-18.968x_1-2.272x_2-23.263x_3+17.815x_4+300b_1+25.965 >= r\n",
      "\t<class 'docplex.mp.constr.LinearConstraint'> (status code: ConflictStatus.Member): 0.569x_0+18.968x_1+2.272x_2+23.263x_3-17.815x_4-300b_1+274.035 >= r\n",
      "No solution found\n"
     ]
    },
    {
     "name": "stderr",
     "output_type": "stream",
     "text": [
      "/home/artem/.conda/envs/ica_new/lib/python3.6/site-packages/docplex/mp/model.py:3278: UserWarning: Unknown quick-setting in Context: display, value: True\n",
      "  context.update_key_value(argname, argval)\n"
     ]
    },
    {
     "name": "stdout",
     "output_type": "stream",
     "text": [
      "show some of the constraints that can be removed to arrive at a minimal conflict\n",
      "Initial y\n",
      "10\n",
      "Intercept\n",
      "21.034636871508365\n",
      "Conflict set:\n",
      "\t<class 'docplex.mp.constr.LinearConstraint'> (status code: ConflictStatus.Member): -0.569x_0-18.968x_1-2.272x_2-23.263x_3+17.815x_4-11.035 <= r\n",
      "\t<class 'docplex.mp.constr.LinearConstraint'> (status code: ConflictStatus.Member): 0.569x_0+18.968x_1+2.272x_2+23.263x_3-17.815x_4+11.035 <= r\n",
      "\t<class 'docplex.mp.constr.LinearConstraint'> (status code: ConflictStatus.Member): -0.569x_0-18.968x_1-2.272x_2-23.263x_3+17.815x_4+300b_5-12.035 >= r\n",
      "\t<class 'docplex.mp.constr.LinearConstraint'> (status code: ConflictStatus.Member): 0.569x_0+18.968x_1+2.272x_2+23.263x_3-17.815x_4-300b_5+312.035 >= r\n",
      "\t<class 'docplex.mp.constr.LinearConstraint'> (status code: ConflictStatus.Member): -0.569x_0-18.968x_1-2.272x_2-23.263x_3+17.815x_4+300b_7-0.035 >= r\n",
      "\t<class 'docplex.mp.constr.LinearConstraint'> (status code: ConflictStatus.Member): 0.569x_0+18.968x_1+2.272x_2+23.263x_3-17.815x_4-300b_7+300.035 >= r\n",
      "No solution found\n"
     ]
    },
    {
     "name": "stderr",
     "output_type": "stream",
     "text": [
      "/home/artem/.conda/envs/ica_new/lib/python3.6/site-packages/docplex/mp/model.py:3278: UserWarning: Unknown quick-setting in Context: display, value: True\n",
      "  context.update_key_value(argname, argval)\n"
     ]
    },
    {
     "name": "stdout",
     "output_type": "stream",
     "text": [
      "show some of the constraints that can be removed to arrive at a minimal conflict\n"
     ]
    },
    {
     "name": "stderr",
     "output_type": "stream",
     "text": [
      "/home/artem/.conda/envs/ica_new/lib/python3.6/site-packages/docplex/mp/model.py:3278: UserWarning: Unknown quick-setting in Context: display, value: True\n",
      "  context.update_key_value(argname, argval)\n"
     ]
    },
    {
     "name": "stdout",
     "output_type": "stream",
     "text": [
      "Initial y\n",
      "10\n",
      "Intercept\n",
      "21.034636871508365\n",
      "Conflict set:\n",
      "\t<class 'docplex.mp.constr.LinearConstraint'> (status code: ConflictStatus.Member): -0.569x_0-18.968x_1-2.272x_2-23.263x_3+17.815x_4-11.035 <= r\n",
      "\t<class 'docplex.mp.constr.LinearConstraint'> (status code: ConflictStatus.Member): 0.569x_0+18.968x_1+2.272x_2+23.263x_3-17.815x_4+11.035 <= r\n",
      "\t<class 'docplex.mp.constr.LinearConstraint'> (status code: ConflictStatus.Member): -0.569x_0-18.968x_1-2.272x_2-23.263x_3+17.815x_4+300b_5-12.035 >= r\n",
      "\t<class 'docplex.mp.constr.LinearConstraint'> (status code: ConflictStatus.Member): 0.569x_0+18.968x_1+2.272x_2+23.263x_3-17.815x_4-300b_5+312.035 >= r\n",
      "\t<class 'docplex.mp.constr.LinearConstraint'> (status code: ConflictStatus.Member): -0.569x_0-18.968x_1-2.272x_2-23.263x_3+17.815x_4+300b_7-0.035 >= r\n",
      "\t<class 'docplex.mp.constr.LinearConstraint'> (status code: ConflictStatus.Member): 0.569x_0+18.968x_1+2.272x_2+23.263x_3-17.815x_4-300b_7+300.035 >= r\n",
      "No solution found\n",
      "show some of the constraints that can be removed to arrive at a minimal conflict\n"
     ]
    },
    {
     "name": "stderr",
     "output_type": "stream",
     "text": [
      "/home/artem/.conda/envs/ica_new/lib/python3.6/site-packages/docplex/mp/model.py:3278: UserWarning: Unknown quick-setting in Context: display, value: True\n",
      "  context.update_key_value(argname, argval)\n"
     ]
    },
    {
     "name": "stdout",
     "output_type": "stream",
     "text": [
      "Initial y\n",
      "10\n",
      "Intercept\n",
      "21.034636871508365\n",
      "Conflict set:\n",
      "\t<class 'docplex.mp.constr.LinearConstraint'> (status code: ConflictStatus.Member): -0.569x_0-18.968x_1-2.272x_2-23.263x_3+17.815x_4-11.035 <= r\n",
      "\t<class 'docplex.mp.constr.LinearConstraint'> (status code: ConflictStatus.Member): 0.569x_0+18.968x_1+2.272x_2+23.263x_3-17.815x_4+11.035 <= r\n",
      "\t<class 'docplex.mp.constr.LinearConstraint'> (status code: ConflictStatus.Member): -0.569x_0-18.968x_1-2.272x_2-23.263x_3+17.815x_4+300b_5-12.035 >= r\n",
      "\t<class 'docplex.mp.constr.LinearConstraint'> (status code: ConflictStatus.Member): 0.569x_0+18.968x_1+2.272x_2+23.263x_3-17.815x_4-300b_5+312.035 >= r\n",
      "\t<class 'docplex.mp.constr.LinearConstraint'> (status code: ConflictStatus.Member): -0.569x_0-18.968x_1-2.272x_2-23.263x_3+17.815x_4+300b_7-0.035 >= r\n",
      "\t<class 'docplex.mp.constr.LinearConstraint'> (status code: ConflictStatus.Member): 0.569x_0+18.968x_1+2.272x_2+23.263x_3-17.815x_4-300b_7+300.035 >= r\n",
      "No solution found\n",
      "show some of the constraints that can be removed to arrive at a minimal conflict\n"
     ]
    },
    {
     "name": "stderr",
     "output_type": "stream",
     "text": [
      "/home/artem/.conda/envs/ica_new/lib/python3.6/site-packages/docplex/mp/model.py:3278: UserWarning: Unknown quick-setting in Context: display, value: True\n",
      "  context.update_key_value(argname, argval)\n"
     ]
    },
    {
     "name": "stdout",
     "output_type": "stream",
     "text": [
      "Initial y\n",
      "10\n",
      "Intercept\n",
      "21.034636871508365\n",
      "Conflict set:\n",
      "\t<class 'docplex.mp.constr.LinearConstraint'> (status code: ConflictStatus.Member): -0.569x_0-18.968x_1-2.272x_2-23.263x_3+17.815x_4-11.035 <= r\n",
      "\t<class 'docplex.mp.constr.LinearConstraint'> (status code: ConflictStatus.Member): 0.569x_0+18.968x_1+2.272x_2+23.263x_3-17.815x_4+11.035 <= r\n",
      "\t<class 'docplex.mp.constr.LinearConstraint'> (status code: ConflictStatus.Member): -0.569x_0-18.968x_1-2.272x_2-23.263x_3+17.815x_4+300b_5-12.035 >= r\n",
      "\t<class 'docplex.mp.constr.LinearConstraint'> (status code: ConflictStatus.Member): 0.569x_0+18.968x_1+2.272x_2+23.263x_3-17.815x_4-300b_5+312.035 >= r\n",
      "\t<class 'docplex.mp.constr.LinearConstraint'> (status code: ConflictStatus.Member): -0.569x_0-18.968x_1-2.272x_2-23.263x_3+17.815x_4+300b_7-0.035 >= r\n",
      "\t<class 'docplex.mp.constr.LinearConstraint'> (status code: ConflictStatus.Member): 0.569x_0+18.968x_1+2.272x_2+23.263x_3-17.815x_4-300b_7+300.035 >= r\n",
      "No solution found\n",
      "show some of the constraints that can be removed to arrive at a minimal conflict\n"
     ]
    },
    {
     "name": "stderr",
     "output_type": "stream",
     "text": [
      "/home/artem/.conda/envs/ica_new/lib/python3.6/site-packages/docplex/mp/model.py:3278: UserWarning: Unknown quick-setting in Context: display, value: True\n",
      "  context.update_key_value(argname, argval)\n"
     ]
    },
    {
     "name": "stdout",
     "output_type": "stream",
     "text": [
      "Initial y\n",
      "10\n",
      "Intercept\n",
      "21.034636871508365\n",
      "Conflict set:\n",
      "\t<class 'docplex.mp.constr.LinearConstraint'> (status code: ConflictStatus.Member): -0.569x_0-18.968x_1-2.272x_2-23.263x_3+17.815x_4-11.035 <= r\n",
      "\t<class 'docplex.mp.constr.LinearConstraint'> (status code: ConflictStatus.Member): 0.569x_0+18.968x_1+2.272x_2+23.263x_3-17.815x_4+11.035 <= r\n",
      "\t<class 'docplex.mp.constr.LinearConstraint'> (status code: ConflictStatus.Member): -0.569x_0-18.968x_1-2.272x_2-23.263x_3+17.815x_4+300b_5-12.035 >= r\n",
      "\t<class 'docplex.mp.constr.LinearConstraint'> (status code: ConflictStatus.Member): 0.569x_0+18.968x_1+2.272x_2+23.263x_3-17.815x_4-300b_5+312.035 >= r\n",
      "\t<class 'docplex.mp.constr.LinearConstraint'> (status code: ConflictStatus.Member): -0.569x_0-18.968x_1-2.272x_2-23.263x_3+17.815x_4+300b_7-0.035 >= r\n",
      "\t<class 'docplex.mp.constr.LinearConstraint'> (status code: ConflictStatus.Member): 0.569x_0+18.968x_1+2.272x_2+23.263x_3-17.815x_4-300b_7+300.035 >= r\n",
      "No solution found\n",
      "show some of the constraints that can be removed to arrive at a minimal conflict\n"
     ]
    },
    {
     "name": "stderr",
     "output_type": "stream",
     "text": [
      "/home/artem/.conda/envs/ica_new/lib/python3.6/site-packages/docplex/mp/model.py:3278: UserWarning: Unknown quick-setting in Context: display, value: True\n",
      "  context.update_key_value(argname, argval)\n"
     ]
    },
    {
     "name": "stdout",
     "output_type": "stream",
     "text": [
      "Initial y\n",
      "10\n",
      "Intercept\n",
      "21.034636871508365\n",
      "Conflict set:\n",
      "\t<class 'docplex.mp.constr.LinearConstraint'> (status code: ConflictStatus.Member): -0.569x_0-18.968x_1-2.272x_2-23.263x_3+17.815x_4-11.035 <= r\n",
      "\t<class 'docplex.mp.constr.LinearConstraint'> (status code: ConflictStatus.Member): 0.569x_0+18.968x_1+2.272x_2+23.263x_3-17.815x_4+11.035 <= r\n",
      "\t<class 'docplex.mp.constr.LinearConstraint'> (status code: ConflictStatus.Member): -0.569x_0-18.968x_1-2.272x_2-23.263x_3+17.815x_4+300b_5-12.035 >= r\n",
      "\t<class 'docplex.mp.constr.LinearConstraint'> (status code: ConflictStatus.Member): 0.569x_0+18.968x_1+2.272x_2+23.263x_3-17.815x_4-300b_5+312.035 >= r\n",
      "\t<class 'docplex.mp.constr.LinearConstraint'> (status code: ConflictStatus.Member): -0.569x_0-18.968x_1-2.272x_2-23.263x_3+17.815x_4+300b_7-0.035 >= r\n",
      "\t<class 'docplex.mp.constr.LinearConstraint'> (status code: ConflictStatus.Member): 0.569x_0+18.968x_1+2.272x_2+23.263x_3-17.815x_4-300b_7+300.035 >= r\n",
      "No solution found\n",
      "show some of the constraints that can be removed to arrive at a minimal conflict\n"
     ]
    },
    {
     "name": "stderr",
     "output_type": "stream",
     "text": [
      "/home/artem/.conda/envs/ica_new/lib/python3.6/site-packages/docplex/mp/model.py:3278: UserWarning: Unknown quick-setting in Context: display, value: True\n",
      "  context.update_key_value(argname, argval)\n"
     ]
    },
    {
     "name": "stdout",
     "output_type": "stream",
     "text": [
      "Initial y\n",
      "10\n",
      "Intercept\n",
      "21.034636871508365\n",
      "Conflict set:\n",
      "\t<class 'docplex.mp.constr.LinearConstraint'> (status code: ConflictStatus.Member): -0.569x_0-18.968x_1-2.272x_2-23.263x_3+17.815x_4-11.035 <= r\n",
      "\t<class 'docplex.mp.constr.LinearConstraint'> (status code: ConflictStatus.Member): 0.569x_0+18.968x_1+2.272x_2+23.263x_3-17.815x_4+11.035 <= r\n",
      "\t<class 'docplex.mp.constr.LinearConstraint'> (status code: ConflictStatus.Member): -0.569x_0-18.968x_1-2.272x_2-23.263x_3+17.815x_4+300b_5-12.035 >= r\n",
      "\t<class 'docplex.mp.constr.LinearConstraint'> (status code: ConflictStatus.Member): 0.569x_0+18.968x_1+2.272x_2+23.263x_3-17.815x_4-300b_5+312.035 >= r\n",
      "\t<class 'docplex.mp.constr.LinearConstraint'> (status code: ConflictStatus.Member): -0.569x_0-18.968x_1-2.272x_2-23.263x_3+17.815x_4+300b_7-0.035 >= r\n",
      "\t<class 'docplex.mp.constr.LinearConstraint'> (status code: ConflictStatus.Member): 0.569x_0+18.968x_1+2.272x_2+23.263x_3-17.815x_4-300b_7+300.035 >= r\n",
      "No solution found\n",
      "show some of the constraints that can be removed to arrive at a minimal conflict\n"
     ]
    },
    {
     "name": "stderr",
     "output_type": "stream",
     "text": [
      "/home/artem/.conda/envs/ica_new/lib/python3.6/site-packages/docplex/mp/model.py:3278: UserWarning: Unknown quick-setting in Context: display, value: True\n",
      "  context.update_key_value(argname, argval)\n"
     ]
    },
    {
     "name": "stdout",
     "output_type": "stream",
     "text": [
      "Initial y\n",
      "10\n",
      "Intercept\n",
      "21.034636871508365\n",
      "Conflict set:\n",
      "\t<class 'docplex.mp.constr.LinearConstraint'> (status code: ConflictStatus.Member): -0.569x_0-18.968x_1-2.272x_2-23.263x_3+17.815x_4-11.035 <= r\n",
      "\t<class 'docplex.mp.constr.LinearConstraint'> (status code: ConflictStatus.Member): 0.569x_0+18.968x_1+2.272x_2+23.263x_3-17.815x_4+11.035 <= r\n",
      "\t<class 'docplex.mp.constr.LinearConstraint'> (status code: ConflictStatus.Member): -0.569x_0-18.968x_1-2.272x_2-23.263x_3+17.815x_4+300b_5-12.035 >= r\n",
      "\t<class 'docplex.mp.constr.LinearConstraint'> (status code: ConflictStatus.Member): 0.569x_0+18.968x_1+2.272x_2+23.263x_3-17.815x_4-300b_5+312.035 >= r\n",
      "\t<class 'docplex.mp.constr.LinearConstraint'> (status code: ConflictStatus.Member): -0.569x_0-18.968x_1-2.272x_2-23.263x_3+17.815x_4+300b_7-0.035 >= r\n",
      "\t<class 'docplex.mp.constr.LinearConstraint'> (status code: ConflictStatus.Member): 0.569x_0+18.968x_1+2.272x_2+23.263x_3-17.815x_4-300b_7+300.035 >= r\n",
      "No solution found\n",
      "show some of the constraints that can be removed to arrive at a minimal conflict\n"
     ]
    },
    {
     "name": "stderr",
     "output_type": "stream",
     "text": [
      "/home/artem/.conda/envs/ica_new/lib/python3.6/site-packages/docplex/mp/model.py:3278: UserWarning: Unknown quick-setting in Context: display, value: True\n",
      "  context.update_key_value(argname, argval)\n"
     ]
    },
    {
     "name": "stdout",
     "output_type": "stream",
     "text": [
      "Initial y\n",
      "10\n",
      "Intercept\n",
      "21.034636871508365\n",
      "Conflict set:\n",
      "\t<class 'docplex.mp.constr.LinearConstraint'> (status code: ConflictStatus.Member): -0.569x_0-18.968x_1-2.272x_2-23.263x_3+17.815x_4-11.035 <= r\n",
      "\t<class 'docplex.mp.constr.LinearConstraint'> (status code: ConflictStatus.Member): 0.569x_0+18.968x_1+2.272x_2+23.263x_3-17.815x_4+11.035 <= r\n",
      "\t<class 'docplex.mp.constr.LinearConstraint'> (status code: ConflictStatus.Member): -0.569x_0-18.968x_1-2.272x_2-23.263x_3+17.815x_4+300b_5-12.035 >= r\n",
      "\t<class 'docplex.mp.constr.LinearConstraint'> (status code: ConflictStatus.Member): 0.569x_0+18.968x_1+2.272x_2+23.263x_3-17.815x_4-300b_5+312.035 >= r\n",
      "\t<class 'docplex.mp.constr.LinearConstraint'> (status code: ConflictStatus.Member): -0.569x_0-18.968x_1-2.272x_2-23.263x_3+17.815x_4+300b_7-0.035 >= r\n",
      "\t<class 'docplex.mp.constr.LinearConstraint'> (status code: ConflictStatus.Member): 0.569x_0+18.968x_1+2.272x_2+23.263x_3-17.815x_4-300b_7+300.035 >= r\n",
      "No solution found\n",
      "[  3.25779439  21.28319319   1.32423267  20.58707914 -19.25423025]\n",
      "20.120903837503025\n",
      "JobSolveStatus.OPTIMAL_SOLUTION\n",
      "JobSolveStatus.OPTIMAL_SOLUTION\n",
      "JobSolveStatus.OPTIMAL_SOLUTION\n",
      "JobSolveStatus.OPTIMAL_SOLUTION\n",
      "JobSolveStatus.OPTIMAL_SOLUTION\n",
      "JobSolveStatus.OPTIMAL_SOLUTION\n",
      "show some of the constraints that can be removed to arrive at a minimal conflict\n",
      "Initial y\n",
      "83\n",
      "Intercept\n",
      "20.120903837503025\n",
      "Conflict set:\n",
      "\t<class 'docplex.mp.constr.LinearConstraint'> (status code: ConflictStatus.Member): -3.258x_0-21.283x_1-1.324x_2-20.587x_3+19.254x_4+62.879 <= r\n",
      "\t<class 'docplex.mp.constr.LinearConstraint'> (status code: ConflictStatus.Member): -3.258x_0-21.283x_1-1.324x_2-20.587x_3+19.254x_4+300b_2+43.879 >= r\n",
      "\t<class 'docplex.mp.constr.LinearConstraint'> (status code: ConflictStatus.Member): 3.258x_0+21.283x_1+1.324x_2+20.587x_3-19.254x_4-300b_2+256.121 >= r\n",
      "No solution found\n"
     ]
    },
    {
     "name": "stderr",
     "output_type": "stream",
     "text": [
      "/home/artem/.conda/envs/ica_new/lib/python3.6/site-packages/docplex/mp/model.py:3278: UserWarning: Unknown quick-setting in Context: display, value: True\n",
      "  context.update_key_value(argname, argval)\n"
     ]
    },
    {
     "name": "stdout",
     "output_type": "stream",
     "text": [
      "JobSolveStatus.OPTIMAL_SOLUTION\n",
      "No solution found\n",
      "show some of the constraints that can be removed to arrive at a minimal conflict\n",
      "Initial y\n",
      "87\n",
      "Intercept\n",
      "20.120903837503025\n",
      "Conflict set:\n",
      "\t<class 'docplex.mp.constr.LinearConstraint'> (status code: ConflictStatus.Member): -3.258x_0-21.283x_1-1.324x_2-20.587x_3+19.254x_4+66.879 <= r\n",
      "\t<class 'docplex.mp.constr.LinearConstraint'> (status code: ConflictStatus.Member): -3.258x_0-21.283x_1-1.324x_2-20.587x_3+19.254x_4+300b_1+26.879 >= r\n",
      "\t<class 'docplex.mp.constr.LinearConstraint'> (status code: ConflictStatus.Member): 3.258x_0+21.283x_1+1.324x_2+20.587x_3-19.254x_4-300b_1+273.121 >= r\n",
      "No solution found\n"
     ]
    },
    {
     "name": "stderr",
     "output_type": "stream",
     "text": [
      "/home/artem/.conda/envs/ica_new/lib/python3.6/site-packages/docplex/mp/model.py:3278: UserWarning: Unknown quick-setting in Context: display, value: True\n",
      "  context.update_key_value(argname, argval)\n"
     ]
    },
    {
     "name": "stdout",
     "output_type": "stream",
     "text": [
      "show some of the constraints that can be removed to arrive at a minimal conflict\n"
     ]
    },
    {
     "name": "stderr",
     "output_type": "stream",
     "text": [
      "/home/artem/.conda/envs/ica_new/lib/python3.6/site-packages/docplex/mp/model.py:3278: UserWarning: Unknown quick-setting in Context: display, value: True\n",
      "  context.update_key_value(argname, argval)\n"
     ]
    },
    {
     "name": "stdout",
     "output_type": "stream",
     "text": [
      "Initial y\n",
      "10\n",
      "Intercept\n",
      "20.120903837503025\n",
      "Conflict set:\n",
      "\t<class 'docplex.mp.constr.LinearConstraint'> (status code: ConflictStatus.Member): -3.258x_0-21.283x_1-1.324x_2-20.587x_3+19.254x_4-10.121 <= r\n",
      "\t<class 'docplex.mp.constr.LinearConstraint'> (status code: ConflictStatus.Member): 3.258x_0+21.283x_1+1.324x_2+20.587x_3-19.254x_4+10.121 <= r\n",
      "\t<class 'docplex.mp.constr.LinearConstraint'> (status code: ConflictStatus.Member): -3.258x_0-21.283x_1-1.324x_2-20.587x_3+19.254x_4+300b_5-11.121 >= r\n",
      "\t<class 'docplex.mp.constr.LinearConstraint'> (status code: ConflictStatus.Member): 3.258x_0+21.283x_1+1.324x_2+20.587x_3-19.254x_4-300b_5+311.121 >= r\n",
      "\t<class 'docplex.mp.constr.LinearConstraint'> (status code: ConflictStatus.Member): -3.258x_0-21.283x_1-1.324x_2-20.587x_3+19.254x_4+300b_7+0.879 >= r\n",
      "\t<class 'docplex.mp.constr.LinearConstraint'> (status code: ConflictStatus.Member): 3.258x_0+21.283x_1+1.324x_2+20.587x_3-19.254x_4-300b_7+299.121 >= r\n",
      "No solution found\n",
      "show some of the constraints that can be removed to arrive at a minimal conflict\n"
     ]
    },
    {
     "name": "stderr",
     "output_type": "stream",
     "text": [
      "/home/artem/.conda/envs/ica_new/lib/python3.6/site-packages/docplex/mp/model.py:3278: UserWarning: Unknown quick-setting in Context: display, value: True\n",
      "  context.update_key_value(argname, argval)\n"
     ]
    },
    {
     "name": "stdout",
     "output_type": "stream",
     "text": [
      "Initial y\n",
      "10\n",
      "Intercept\n",
      "20.120903837503025\n",
      "Conflict set:\n",
      "\t<class 'docplex.mp.constr.LinearConstraint'> (status code: ConflictStatus.Member): -3.258x_0-21.283x_1-1.324x_2-20.587x_3+19.254x_4-10.121 <= r\n",
      "\t<class 'docplex.mp.constr.LinearConstraint'> (status code: ConflictStatus.Member): 3.258x_0+21.283x_1+1.324x_2+20.587x_3-19.254x_4+10.121 <= r\n",
      "\t<class 'docplex.mp.constr.LinearConstraint'> (status code: ConflictStatus.Member): -3.258x_0-21.283x_1-1.324x_2-20.587x_3+19.254x_4+300b_5-11.121 >= r\n",
      "\t<class 'docplex.mp.constr.LinearConstraint'> (status code: ConflictStatus.Member): 3.258x_0+21.283x_1+1.324x_2+20.587x_3-19.254x_4-300b_5+311.121 >= r\n",
      "\t<class 'docplex.mp.constr.LinearConstraint'> (status code: ConflictStatus.Member): -3.258x_0-21.283x_1-1.324x_2-20.587x_3+19.254x_4+300b_7+0.879 >= r\n",
      "\t<class 'docplex.mp.constr.LinearConstraint'> (status code: ConflictStatus.Member): 3.258x_0+21.283x_1+1.324x_2+20.587x_3-19.254x_4-300b_7+299.121 >= r\n",
      "No solution found\n",
      "show some of the constraints that can be removed to arrive at a minimal conflict\n",
      "Initial y\n",
      "10\n",
      "Intercept\n",
      "20.120903837503025\n",
      "Conflict set:\n",
      "\t<class 'docplex.mp.constr.LinearConstraint'> (status code: ConflictStatus.Member): -3.258x_0-21.283x_1-1.324x_2-20.587x_3+19.254x_4-10.121 <= r\n",
      "\t<class 'docplex.mp.constr.LinearConstraint'> (status code: ConflictStatus.Member): 3.258x_0+21.283x_1+1.324x_2+20.587x_3-19.254x_4+10.121 <= r\n",
      "\t<class 'docplex.mp.constr.LinearConstraint'> (status code: ConflictStatus.Member): -3.258x_0-21.283x_1-1.324x_2-20.587x_3+19.254x_4+300b_5-11.121 >= r\n",
      "\t<class 'docplex.mp.constr.LinearConstraint'> (status code: ConflictStatus.Member): 3.258x_0+21.283x_1+1.324x_2+20.587x_3-19.254x_4-300b_5+311.121 >= r\n",
      "\t<class 'docplex.mp.constr.LinearConstraint'> (status code: ConflictStatus.Member): -3.258x_0-21.283x_1-1.324x_2-20.587x_3+19.254x_4+300b_7+0.879 >= r\n",
      "\t<class 'docplex.mp.constr.LinearConstraint'> (status code: ConflictStatus.Member): 3.258x_0+21.283x_1+1.324x_2+20.587x_3-19.254x_4-300b_7+299.121 >= r\n",
      "No solution found\n"
     ]
    },
    {
     "name": "stderr",
     "output_type": "stream",
     "text": [
      "/home/artem/.conda/envs/ica_new/lib/python3.6/site-packages/docplex/mp/model.py:3278: UserWarning: Unknown quick-setting in Context: display, value: True\n",
      "  context.update_key_value(argname, argval)\n"
     ]
    },
    {
     "name": "stdout",
     "output_type": "stream",
     "text": [
      "show some of the constraints that can be removed to arrive at a minimal conflict\n"
     ]
    },
    {
     "name": "stderr",
     "output_type": "stream",
     "text": [
      "/home/artem/.conda/envs/ica_new/lib/python3.6/site-packages/docplex/mp/model.py:3278: UserWarning: Unknown quick-setting in Context: display, value: True\n",
      "  context.update_key_value(argname, argval)\n"
     ]
    },
    {
     "name": "stdout",
     "output_type": "stream",
     "text": [
      "Initial y\n",
      "10\n",
      "Intercept\n",
      "20.120903837503025\n",
      "Conflict set:\n",
      "\t<class 'docplex.mp.constr.LinearConstraint'> (status code: ConflictStatus.Member): -3.258x_0-21.283x_1-1.324x_2-20.587x_3+19.254x_4-10.121 <= r\n",
      "\t<class 'docplex.mp.constr.LinearConstraint'> (status code: ConflictStatus.Member): 3.258x_0+21.283x_1+1.324x_2+20.587x_3-19.254x_4+10.121 <= r\n",
      "\t<class 'docplex.mp.constr.LinearConstraint'> (status code: ConflictStatus.Member): -3.258x_0-21.283x_1-1.324x_2-20.587x_3+19.254x_4+300b_5-11.121 >= r\n",
      "\t<class 'docplex.mp.constr.LinearConstraint'> (status code: ConflictStatus.Member): 3.258x_0+21.283x_1+1.324x_2+20.587x_3-19.254x_4-300b_5+311.121 >= r\n",
      "\t<class 'docplex.mp.constr.LinearConstraint'> (status code: ConflictStatus.Member): -3.258x_0-21.283x_1-1.324x_2-20.587x_3+19.254x_4+300b_7+0.879 >= r\n",
      "\t<class 'docplex.mp.constr.LinearConstraint'> (status code: ConflictStatus.Member): 3.258x_0+21.283x_1+1.324x_2+20.587x_3-19.254x_4-300b_7+299.121 >= r\n",
      "No solution found\n",
      "show some of the constraints that can be removed to arrive at a minimal conflict\n"
     ]
    },
    {
     "name": "stderr",
     "output_type": "stream",
     "text": [
      "/home/artem/.conda/envs/ica_new/lib/python3.6/site-packages/docplex/mp/model.py:3278: UserWarning: Unknown quick-setting in Context: display, value: True\n",
      "  context.update_key_value(argname, argval)\n"
     ]
    },
    {
     "name": "stdout",
     "output_type": "stream",
     "text": [
      "Initial y\n",
      "10\n",
      "Intercept\n",
      "20.120903837503025\n",
      "Conflict set:\n",
      "\t<class 'docplex.mp.constr.LinearConstraint'> (status code: ConflictStatus.Member): -3.258x_0-21.283x_1-1.324x_2-20.587x_3+19.254x_4-10.121 <= r\n",
      "\t<class 'docplex.mp.constr.LinearConstraint'> (status code: ConflictStatus.Member): 3.258x_0+21.283x_1+1.324x_2+20.587x_3-19.254x_4+10.121 <= r\n",
      "\t<class 'docplex.mp.constr.LinearConstraint'> (status code: ConflictStatus.Member): -3.258x_0-21.283x_1-1.324x_2-20.587x_3+19.254x_4+300b_5-11.121 >= r\n",
      "\t<class 'docplex.mp.constr.LinearConstraint'> (status code: ConflictStatus.Member): 3.258x_0+21.283x_1+1.324x_2+20.587x_3-19.254x_4-300b_5+311.121 >= r\n",
      "\t<class 'docplex.mp.constr.LinearConstraint'> (status code: ConflictStatus.Member): -3.258x_0-21.283x_1-1.324x_2-20.587x_3+19.254x_4+300b_7+0.879 >= r\n",
      "\t<class 'docplex.mp.constr.LinearConstraint'> (status code: ConflictStatus.Member): 3.258x_0+21.283x_1+1.324x_2+20.587x_3-19.254x_4-300b_7+299.121 >= r\n",
      "No solution found\n",
      "show some of the constraints that can be removed to arrive at a minimal conflict\n"
     ]
    },
    {
     "name": "stderr",
     "output_type": "stream",
     "text": [
      "/home/artem/.conda/envs/ica_new/lib/python3.6/site-packages/docplex/mp/model.py:3278: UserWarning: Unknown quick-setting in Context: display, value: True\n",
      "  context.update_key_value(argname, argval)\n"
     ]
    },
    {
     "name": "stdout",
     "output_type": "stream",
     "text": [
      "Initial y\n",
      "10\n",
      "Intercept\n",
      "20.120903837503025\n",
      "Conflict set:\n",
      "\t<class 'docplex.mp.constr.LinearConstraint'> (status code: ConflictStatus.Member): -3.258x_0-21.283x_1-1.324x_2-20.587x_3+19.254x_4-10.121 <= r\n",
      "\t<class 'docplex.mp.constr.LinearConstraint'> (status code: ConflictStatus.Member): 3.258x_0+21.283x_1+1.324x_2+20.587x_3-19.254x_4+10.121 <= r\n",
      "\t<class 'docplex.mp.constr.LinearConstraint'> (status code: ConflictStatus.Member): -3.258x_0-21.283x_1-1.324x_2-20.587x_3+19.254x_4+300b_5-11.121 >= r\n",
      "\t<class 'docplex.mp.constr.LinearConstraint'> (status code: ConflictStatus.Member): 3.258x_0+21.283x_1+1.324x_2+20.587x_3-19.254x_4-300b_5+311.121 >= r\n",
      "\t<class 'docplex.mp.constr.LinearConstraint'> (status code: ConflictStatus.Member): -3.258x_0-21.283x_1-1.324x_2-20.587x_3+19.254x_4+300b_7+0.879 >= r\n",
      "\t<class 'docplex.mp.constr.LinearConstraint'> (status code: ConflictStatus.Member): 3.258x_0+21.283x_1+1.324x_2+20.587x_3-19.254x_4-300b_7+299.121 >= r\n",
      "No solution found\n",
      "show some of the constraints that can be removed to arrive at a minimal conflict\n"
     ]
    },
    {
     "name": "stderr",
     "output_type": "stream",
     "text": [
      "/home/artem/.conda/envs/ica_new/lib/python3.6/site-packages/docplex/mp/model.py:3278: UserWarning: Unknown quick-setting in Context: display, value: True\n",
      "  context.update_key_value(argname, argval)\n"
     ]
    },
    {
     "name": "stdout",
     "output_type": "stream",
     "text": [
      "Initial y\n",
      "10\n",
      "Intercept\n",
      "20.120903837503025\n",
      "Conflict set:\n",
      "\t<class 'docplex.mp.constr.LinearConstraint'> (status code: ConflictStatus.Member): -3.258x_0-21.283x_1-1.324x_2-20.587x_3+19.254x_4-10.121 <= r\n",
      "\t<class 'docplex.mp.constr.LinearConstraint'> (status code: ConflictStatus.Member): 3.258x_0+21.283x_1+1.324x_2+20.587x_3-19.254x_4+10.121 <= r\n",
      "\t<class 'docplex.mp.constr.LinearConstraint'> (status code: ConflictStatus.Member): -3.258x_0-21.283x_1-1.324x_2-20.587x_3+19.254x_4+300b_5-11.121 >= r\n",
      "\t<class 'docplex.mp.constr.LinearConstraint'> (status code: ConflictStatus.Member): 3.258x_0+21.283x_1+1.324x_2+20.587x_3-19.254x_4-300b_5+311.121 >= r\n",
      "\t<class 'docplex.mp.constr.LinearConstraint'> (status code: ConflictStatus.Member): -3.258x_0-21.283x_1-1.324x_2-20.587x_3+19.254x_4+300b_7+0.879 >= r\n",
      "\t<class 'docplex.mp.constr.LinearConstraint'> (status code: ConflictStatus.Member): 3.258x_0+21.283x_1+1.324x_2+20.587x_3-19.254x_4-300b_7+299.121 >= r\n",
      "No solution found\n",
      "show some of the constraints that can be removed to arrive at a minimal conflict\n"
     ]
    },
    {
     "name": "stderr",
     "output_type": "stream",
     "text": [
      "/home/artem/.conda/envs/ica_new/lib/python3.6/site-packages/docplex/mp/model.py:3278: UserWarning: Unknown quick-setting in Context: display, value: True\n",
      "  context.update_key_value(argname, argval)\n"
     ]
    },
    {
     "name": "stdout",
     "output_type": "stream",
     "text": [
      "Initial y\n",
      "10\n",
      "Intercept\n",
      "20.120903837503025\n",
      "Conflict set:\n",
      "\t<class 'docplex.mp.constr.LinearConstraint'> (status code: ConflictStatus.Member): -3.258x_0-21.283x_1-1.324x_2-20.587x_3+19.254x_4-10.121 <= r\n",
      "\t<class 'docplex.mp.constr.LinearConstraint'> (status code: ConflictStatus.Member): 3.258x_0+21.283x_1+1.324x_2+20.587x_3-19.254x_4+10.121 <= r\n",
      "\t<class 'docplex.mp.constr.LinearConstraint'> (status code: ConflictStatus.Member): -3.258x_0-21.283x_1-1.324x_2-20.587x_3+19.254x_4+300b_5-11.121 >= r\n",
      "\t<class 'docplex.mp.constr.LinearConstraint'> (status code: ConflictStatus.Member): 3.258x_0+21.283x_1+1.324x_2+20.587x_3-19.254x_4-300b_5+311.121 >= r\n",
      "\t<class 'docplex.mp.constr.LinearConstraint'> (status code: ConflictStatus.Member): -3.258x_0-21.283x_1-1.324x_2-20.587x_3+19.254x_4+300b_7+0.879 >= r\n",
      "\t<class 'docplex.mp.constr.LinearConstraint'> (status code: ConflictStatus.Member): 3.258x_0+21.283x_1+1.324x_2+20.587x_3-19.254x_4-300b_7+299.121 >= r\n",
      "No solution found\n",
      "show some of the constraints that can be removed to arrive at a minimal conflict\n"
     ]
    },
    {
     "name": "stderr",
     "output_type": "stream",
     "text": [
      "/home/artem/.conda/envs/ica_new/lib/python3.6/site-packages/docplex/mp/model.py:3278: UserWarning: Unknown quick-setting in Context: display, value: True\n",
      "  context.update_key_value(argname, argval)\n"
     ]
    },
    {
     "name": "stdout",
     "output_type": "stream",
     "text": [
      "Initial y\n",
      "10\n",
      "Intercept\n",
      "20.120903837503025\n",
      "Conflict set:\n",
      "\t<class 'docplex.mp.constr.LinearConstraint'> (status code: ConflictStatus.Member): -3.258x_0-21.283x_1-1.324x_2-20.587x_3+19.254x_4-10.121 <= r\n",
      "\t<class 'docplex.mp.constr.LinearConstraint'> (status code: ConflictStatus.Member): 3.258x_0+21.283x_1+1.324x_2+20.587x_3-19.254x_4+10.121 <= r\n",
      "\t<class 'docplex.mp.constr.LinearConstraint'> (status code: ConflictStatus.Member): -3.258x_0-21.283x_1-1.324x_2-20.587x_3+19.254x_4+300b_5-11.121 >= r\n",
      "\t<class 'docplex.mp.constr.LinearConstraint'> (status code: ConflictStatus.Member): 3.258x_0+21.283x_1+1.324x_2+20.587x_3-19.254x_4-300b_5+311.121 >= r\n",
      "\t<class 'docplex.mp.constr.LinearConstraint'> (status code: ConflictStatus.Member): -3.258x_0-21.283x_1-1.324x_2-20.587x_3+19.254x_4+300b_7+0.879 >= r\n",
      "\t<class 'docplex.mp.constr.LinearConstraint'> (status code: ConflictStatus.Member): 3.258x_0+21.283x_1+1.324x_2+20.587x_3-19.254x_4-300b_7+299.121 >= r\n",
      "No solution found\n",
      "show some of the constraints that can be removed to arrive at a minimal conflict\n"
     ]
    },
    {
     "name": "stderr",
     "output_type": "stream",
     "text": [
      "/home/artem/.conda/envs/ica_new/lib/python3.6/site-packages/docplex/mp/model.py:3278: UserWarning: Unknown quick-setting in Context: display, value: True\n",
      "  context.update_key_value(argname, argval)\n"
     ]
    },
    {
     "name": "stdout",
     "output_type": "stream",
     "text": [
      "Initial y\n",
      "10\n",
      "Intercept\n",
      "20.120903837503025\n",
      "Conflict set:\n",
      "\t<class 'docplex.mp.constr.LinearConstraint'> (status code: ConflictStatus.Member): -3.258x_0-21.283x_1-1.324x_2-20.587x_3+19.254x_4-10.121 <= r\n",
      "\t<class 'docplex.mp.constr.LinearConstraint'> (status code: ConflictStatus.Member): 3.258x_0+21.283x_1+1.324x_2+20.587x_3-19.254x_4+10.121 <= r\n",
      "\t<class 'docplex.mp.constr.LinearConstraint'> (status code: ConflictStatus.Member): -3.258x_0-21.283x_1-1.324x_2-20.587x_3+19.254x_4+300b_5-11.121 >= r\n",
      "\t<class 'docplex.mp.constr.LinearConstraint'> (status code: ConflictStatus.Member): 3.258x_0+21.283x_1+1.324x_2+20.587x_3-19.254x_4-300b_5+311.121 >= r\n",
      "\t<class 'docplex.mp.constr.LinearConstraint'> (status code: ConflictStatus.Member): -3.258x_0-21.283x_1-1.324x_2-20.587x_3+19.254x_4+300b_7+0.879 >= r\n",
      "\t<class 'docplex.mp.constr.LinearConstraint'> (status code: ConflictStatus.Member): 3.258x_0+21.283x_1+1.324x_2+20.587x_3-19.254x_4-300b_7+299.121 >= r\n",
      "No solution found\n",
      "[  2.57701337  20.43227519   0.08829233  20.26987853 -18.41380014]\n",
      "21.67847300193938\n",
      "JobSolveStatus.OPTIMAL_SOLUTION\n",
      "JobSolveStatus.OPTIMAL_SOLUTION\n",
      "JobSolveStatus.OPTIMAL_SOLUTION\n",
      "show some of the constraints that can be removed to arrive at a minimal conflict\n",
      "Initial y\n",
      "67\n",
      "Intercept\n",
      "21.67847300193938\n",
      "Conflict set:\n",
      "\t<class 'docplex.mp.constr.LinearConstraint'> (status code: ConflictStatus.Member): -2.577x_0-20.432x_1-0.088x_2-20.270x_3+18.414x_4+45.322 <= r\n",
      "\t<class 'docplex.mp.constr.LinearConstraint'> (status code: ConflictStatus.Member): -2.577x_0-20.432x_1-0.088x_2-20.270x_3+18.414x_4+300b_2+42.322 >= r\n",
      "\t<class 'docplex.mp.constr.LinearConstraint'> (status code: ConflictStatus.Member): 2.577x_0+20.432x_1+0.088x_2+20.270x_3-18.414x_4-300b_2+257.678 >= r\n",
      "No solution found\n"
     ]
    },
    {
     "name": "stderr",
     "output_type": "stream",
     "text": [
      "/home/artem/.conda/envs/ica_new/lib/python3.6/site-packages/docplex/mp/model.py:3278: UserWarning: Unknown quick-setting in Context: display, value: True\n",
      "  context.update_key_value(argname, argval)\n"
     ]
    },
    {
     "name": "stdout",
     "output_type": "stream",
     "text": [
      "show some of the constraints that can be removed to arrive at a minimal conflict\n",
      "Initial y\n",
      "67\n",
      "Intercept\n",
      "21.67847300193938\n",
      "Conflict set:\n",
      "\t<class 'docplex.mp.constr.LinearConstraint'> (status code: ConflictStatus.Member): -2.577x_0-20.432x_1-0.088x_2-20.270x_3+18.414x_4+45.322 <= r\n",
      "\t<class 'docplex.mp.constr.LinearConstraint'> (status code: ConflictStatus.Member): -2.577x_0-20.432x_1-0.088x_2-20.270x_3+18.414x_4+300b_2+42.322 >= r\n",
      "\t<class 'docplex.mp.constr.LinearConstraint'> (status code: ConflictStatus.Member): 2.577x_0+20.432x_1+0.088x_2+20.270x_3-18.414x_4-300b_2+257.678 >= r\n",
      "No solution found\n"
     ]
    },
    {
     "name": "stderr",
     "output_type": "stream",
     "text": [
      "/home/artem/.conda/envs/ica_new/lib/python3.6/site-packages/docplex/mp/model.py:3278: UserWarning: Unknown quick-setting in Context: display, value: True\n",
      "  context.update_key_value(argname, argval)\n"
     ]
    },
    {
     "name": "stdout",
     "output_type": "stream",
     "text": [
      "JobSolveStatus.OPTIMAL_SOLUTION\n",
      "show some of the constraints that can be removed to arrive at a minimal conflict\n"
     ]
    },
    {
     "name": "stderr",
     "output_type": "stream",
     "text": [
      "/home/artem/.conda/envs/ica_new/lib/python3.6/site-packages/docplex/mp/model.py:3278: UserWarning: Unknown quick-setting in Context: display, value: True\n",
      "  context.update_key_value(argname, argval)\n"
     ]
    },
    {
     "name": "stdout",
     "output_type": "stream",
     "text": [
      "Initial y\n",
      "83\n",
      "Intercept\n",
      "21.67847300193938\n",
      "Conflict set:\n",
      "\t<class 'docplex.mp.constr.LinearConstraint'> (status code: ConflictStatus.Member): -2.577x_0-20.432x_1-0.088x_2-20.270x_3+18.414x_4+61.322 <= r\n",
      "\t<class 'docplex.mp.constr.LinearConstraint'> (status code: ConflictStatus.Member): -2.577x_0-20.432x_1-0.088x_2-20.270x_3+18.414x_4+300b_2+42.322 >= r\n",
      "\t<class 'docplex.mp.constr.LinearConstraint'> (status code: ConflictStatus.Member): 2.577x_0+20.432x_1+0.088x_2+20.270x_3-18.414x_4-300b_2+257.678 >= r\n",
      "No solution found\n",
      "JobSolveStatus.OPTIMAL_SOLUTION\n",
      "No solution found\n",
      "show some of the constraints that can be removed to arrive at a minimal conflict\n",
      "Initial y\n",
      "87\n",
      "Intercept\n",
      "21.67847300193938\n",
      "Conflict set:\n",
      "\t<class 'docplex.mp.constr.LinearConstraint'> (status code: ConflictStatus.Member): -2.577x_0-20.432x_1-0.088x_2-20.270x_3+18.414x_4+65.322 <= r\n",
      "\t<class 'docplex.mp.constr.LinearConstraint'> (status code: ConflictStatus.Member): -2.577x_0-20.432x_1-0.088x_2-20.270x_3+18.414x_4+300b_0+22.322 >= r\n",
      "\t<class 'docplex.mp.constr.LinearConstraint'> (status code: ConflictStatus.Member): 2.577x_0+20.432x_1+0.088x_2+20.270x_3-18.414x_4-300b_0+277.678 >= r\n",
      "No solution found\n"
     ]
    },
    {
     "name": "stderr",
     "output_type": "stream",
     "text": [
      "/home/artem/.conda/envs/ica_new/lib/python3.6/site-packages/docplex/mp/model.py:3278: UserWarning: Unknown quick-setting in Context: display, value: True\n",
      "  context.update_key_value(argname, argval)\n"
     ]
    },
    {
     "name": "stdout",
     "output_type": "stream",
     "text": [
      "show some of the constraints that can be removed to arrive at a minimal conflict\n",
      "Initial y\n",
      "10\n",
      "Intercept\n",
      "21.67847300193938\n",
      "Conflict set:\n",
      "\t<class 'docplex.mp.constr.LinearConstraint'> (status code: ConflictStatus.Member): -2.577x_0-20.432x_1-0.088x_2-20.270x_3+18.414x_4-11.678 <= r\n",
      "\t<class 'docplex.mp.constr.LinearConstraint'> (status code: ConflictStatus.Member): 2.577x_0+20.432x_1+0.088x_2+20.270x_3-18.414x_4+11.678 <= r\n",
      "\t<class 'docplex.mp.constr.LinearConstraint'> (status code: ConflictStatus.Member): -2.577x_0-20.432x_1-0.088x_2-20.270x_3+18.414x_4+300b_5-12.678 >= r\n",
      "\t<class 'docplex.mp.constr.LinearConstraint'> (status code: ConflictStatus.Member): 2.577x_0+20.432x_1+0.088x_2+20.270x_3-18.414x_4-300b_5+312.678 >= r\n",
      "\t<class 'docplex.mp.constr.LinearConstraint'> (status code: ConflictStatus.Member): -2.577x_0-20.432x_1-0.088x_2-20.270x_3+18.414x_4+300b_7-0.678 >= r\n",
      "\t<class 'docplex.mp.constr.LinearConstraint'> (status code: ConflictStatus.Member): 2.577x_0+20.432x_1+0.088x_2+20.270x_3-18.414x_4-300b_7+300.678 >= r\n",
      "No solution found\n"
     ]
    },
    {
     "name": "stderr",
     "output_type": "stream",
     "text": [
      "/home/artem/.conda/envs/ica_new/lib/python3.6/site-packages/docplex/mp/model.py:3278: UserWarning: Unknown quick-setting in Context: display, value: True\n",
      "  context.update_key_value(argname, argval)\n"
     ]
    },
    {
     "name": "stdout",
     "output_type": "stream",
     "text": [
      "show some of the constraints that can be removed to arrive at a minimal conflict\n"
     ]
    },
    {
     "name": "stderr",
     "output_type": "stream",
     "text": [
      "/home/artem/.conda/envs/ica_new/lib/python3.6/site-packages/docplex/mp/model.py:3278: UserWarning: Unknown quick-setting in Context: display, value: True\n",
      "  context.update_key_value(argname, argval)\n"
     ]
    },
    {
     "name": "stdout",
     "output_type": "stream",
     "text": [
      "Initial y\n",
      "10\n",
      "Intercept\n",
      "21.67847300193938\n",
      "Conflict set:\n",
      "\t<class 'docplex.mp.constr.LinearConstraint'> (status code: ConflictStatus.Member): -2.577x_0-20.432x_1-0.088x_2-20.270x_3+18.414x_4-11.678 <= r\n",
      "\t<class 'docplex.mp.constr.LinearConstraint'> (status code: ConflictStatus.Member): 2.577x_0+20.432x_1+0.088x_2+20.270x_3-18.414x_4+11.678 <= r\n",
      "\t<class 'docplex.mp.constr.LinearConstraint'> (status code: ConflictStatus.Member): -2.577x_0-20.432x_1-0.088x_2-20.270x_3+18.414x_4+300b_5-12.678 >= r\n",
      "\t<class 'docplex.mp.constr.LinearConstraint'> (status code: ConflictStatus.Member): 2.577x_0+20.432x_1+0.088x_2+20.270x_3-18.414x_4-300b_5+312.678 >= r\n",
      "\t<class 'docplex.mp.constr.LinearConstraint'> (status code: ConflictStatus.Member): -2.577x_0-20.432x_1-0.088x_2-20.270x_3+18.414x_4+300b_7-0.678 >= r\n",
      "\t<class 'docplex.mp.constr.LinearConstraint'> (status code: ConflictStatus.Member): 2.577x_0+20.432x_1+0.088x_2+20.270x_3-18.414x_4-300b_7+300.678 >= r\n",
      "No solution found\n",
      "show some of the constraints that can be removed to arrive at a minimal conflict\n"
     ]
    },
    {
     "name": "stderr",
     "output_type": "stream",
     "text": [
      "/home/artem/.conda/envs/ica_new/lib/python3.6/site-packages/docplex/mp/model.py:3278: UserWarning: Unknown quick-setting in Context: display, value: True\n",
      "  context.update_key_value(argname, argval)\n"
     ]
    },
    {
     "name": "stdout",
     "output_type": "stream",
     "text": [
      "Initial y\n",
      "10\n",
      "Intercept\n",
      "21.67847300193938\n",
      "Conflict set:\n",
      "\t<class 'docplex.mp.constr.LinearConstraint'> (status code: ConflictStatus.Member): -2.577x_0-20.432x_1-0.088x_2-20.270x_3+18.414x_4-11.678 <= r\n",
      "\t<class 'docplex.mp.constr.LinearConstraint'> (status code: ConflictStatus.Member): 2.577x_0+20.432x_1+0.088x_2+20.270x_3-18.414x_4+11.678 <= r\n",
      "\t<class 'docplex.mp.constr.LinearConstraint'> (status code: ConflictStatus.Member): -2.577x_0-20.432x_1-0.088x_2-20.270x_3+18.414x_4+300b_5-12.678 >= r\n",
      "\t<class 'docplex.mp.constr.LinearConstraint'> (status code: ConflictStatus.Member): 2.577x_0+20.432x_1+0.088x_2+20.270x_3-18.414x_4-300b_5+312.678 >= r\n",
      "\t<class 'docplex.mp.constr.LinearConstraint'> (status code: ConflictStatus.Member): -2.577x_0-20.432x_1-0.088x_2-20.270x_3+18.414x_4+300b_7-0.678 >= r\n",
      "\t<class 'docplex.mp.constr.LinearConstraint'> (status code: ConflictStatus.Member): 2.577x_0+20.432x_1+0.088x_2+20.270x_3-18.414x_4-300b_7+300.678 >= r\n",
      "No solution found\n",
      "show some of the constraints that can be removed to arrive at a minimal conflict\n"
     ]
    },
    {
     "name": "stderr",
     "output_type": "stream",
     "text": [
      "/home/artem/.conda/envs/ica_new/lib/python3.6/site-packages/docplex/mp/model.py:3278: UserWarning: Unknown quick-setting in Context: display, value: True\n",
      "  context.update_key_value(argname, argval)\n"
     ]
    },
    {
     "name": "stdout",
     "output_type": "stream",
     "text": [
      "Initial y\n",
      "10\n",
      "Intercept\n",
      "21.67847300193938\n",
      "Conflict set:\n",
      "\t<class 'docplex.mp.constr.LinearConstraint'> (status code: ConflictStatus.Member): -2.577x_0-20.432x_1-0.088x_2-20.270x_3+18.414x_4-11.678 <= r\n",
      "\t<class 'docplex.mp.constr.LinearConstraint'> (status code: ConflictStatus.Member): 2.577x_0+20.432x_1+0.088x_2+20.270x_3-18.414x_4+11.678 <= r\n",
      "\t<class 'docplex.mp.constr.LinearConstraint'> (status code: ConflictStatus.Member): -2.577x_0-20.432x_1-0.088x_2-20.270x_3+18.414x_4+300b_5-12.678 >= r\n",
      "\t<class 'docplex.mp.constr.LinearConstraint'> (status code: ConflictStatus.Member): 2.577x_0+20.432x_1+0.088x_2+20.270x_3-18.414x_4-300b_5+312.678 >= r\n",
      "\t<class 'docplex.mp.constr.LinearConstraint'> (status code: ConflictStatus.Member): -2.577x_0-20.432x_1-0.088x_2-20.270x_3+18.414x_4+300b_7-0.678 >= r\n",
      "\t<class 'docplex.mp.constr.LinearConstraint'> (status code: ConflictStatus.Member): 2.577x_0+20.432x_1+0.088x_2+20.270x_3-18.414x_4-300b_7+300.678 >= r\n",
      "No solution found\n",
      "show some of the constraints that can be removed to arrive at a minimal conflict\n"
     ]
    },
    {
     "name": "stderr",
     "output_type": "stream",
     "text": [
      "/home/artem/.conda/envs/ica_new/lib/python3.6/site-packages/docplex/mp/model.py:3278: UserWarning: Unknown quick-setting in Context: display, value: True\n",
      "  context.update_key_value(argname, argval)\n"
     ]
    },
    {
     "name": "stdout",
     "output_type": "stream",
     "text": [
      "Initial y\n",
      "10\n",
      "Intercept\n",
      "21.67847300193938\n",
      "Conflict set:\n",
      "\t<class 'docplex.mp.constr.LinearConstraint'> (status code: ConflictStatus.Member): -2.577x_0-20.432x_1-0.088x_2-20.270x_3+18.414x_4-11.678 <= r\n",
      "\t<class 'docplex.mp.constr.LinearConstraint'> (status code: ConflictStatus.Member): 2.577x_0+20.432x_1+0.088x_2+20.270x_3-18.414x_4+11.678 <= r\n",
      "\t<class 'docplex.mp.constr.LinearConstraint'> (status code: ConflictStatus.Member): -2.577x_0-20.432x_1-0.088x_2-20.270x_3+18.414x_4+300b_5-12.678 >= r\n",
      "\t<class 'docplex.mp.constr.LinearConstraint'> (status code: ConflictStatus.Member): 2.577x_0+20.432x_1+0.088x_2+20.270x_3-18.414x_4-300b_5+312.678 >= r\n",
      "\t<class 'docplex.mp.constr.LinearConstraint'> (status code: ConflictStatus.Member): -2.577x_0-20.432x_1-0.088x_2-20.270x_3+18.414x_4+300b_7-0.678 >= r\n",
      "\t<class 'docplex.mp.constr.LinearConstraint'> (status code: ConflictStatus.Member): 2.577x_0+20.432x_1+0.088x_2+20.270x_3-18.414x_4-300b_7+300.678 >= r\n",
      "No solution found\n",
      "show some of the constraints that can be removed to arrive at a minimal conflict\n"
     ]
    },
    {
     "name": "stderr",
     "output_type": "stream",
     "text": [
      "/home/artem/.conda/envs/ica_new/lib/python3.6/site-packages/docplex/mp/model.py:3278: UserWarning: Unknown quick-setting in Context: display, value: True\n",
      "  context.update_key_value(argname, argval)\n"
     ]
    },
    {
     "name": "stdout",
     "output_type": "stream",
     "text": [
      "Initial y\n",
      "10\n",
      "Intercept\n",
      "21.67847300193938\n",
      "Conflict set:\n",
      "\t<class 'docplex.mp.constr.LinearConstraint'> (status code: ConflictStatus.Member): -2.577x_0-20.432x_1-0.088x_2-20.270x_3+18.414x_4-11.678 <= r\n",
      "\t<class 'docplex.mp.constr.LinearConstraint'> (status code: ConflictStatus.Member): 2.577x_0+20.432x_1+0.088x_2+20.270x_3-18.414x_4+11.678 <= r\n",
      "\t<class 'docplex.mp.constr.LinearConstraint'> (status code: ConflictStatus.Member): -2.577x_0-20.432x_1-0.088x_2-20.270x_3+18.414x_4+300b_5-12.678 >= r\n",
      "\t<class 'docplex.mp.constr.LinearConstraint'> (status code: ConflictStatus.Member): 2.577x_0+20.432x_1+0.088x_2+20.270x_3-18.414x_4-300b_5+312.678 >= r\n",
      "\t<class 'docplex.mp.constr.LinearConstraint'> (status code: ConflictStatus.Member): -2.577x_0-20.432x_1-0.088x_2-20.270x_3+18.414x_4+300b_7-0.678 >= r\n",
      "\t<class 'docplex.mp.constr.LinearConstraint'> (status code: ConflictStatus.Member): 2.577x_0+20.432x_1+0.088x_2+20.270x_3-18.414x_4-300b_7+300.678 >= r\n",
      "No solution found\n",
      "show some of the constraints that can be removed to arrive at a minimal conflict\n"
     ]
    },
    {
     "name": "stderr",
     "output_type": "stream",
     "text": [
      "/home/artem/.conda/envs/ica_new/lib/python3.6/site-packages/docplex/mp/model.py:3278: UserWarning: Unknown quick-setting in Context: display, value: True\n",
      "  context.update_key_value(argname, argval)\n"
     ]
    },
    {
     "name": "stdout",
     "output_type": "stream",
     "text": [
      "Initial y\n",
      "10\n",
      "Intercept\n",
      "21.67847300193938\n",
      "Conflict set:\n",
      "\t<class 'docplex.mp.constr.LinearConstraint'> (status code: ConflictStatus.Member): -2.577x_0-20.432x_1-0.088x_2-20.270x_3+18.414x_4-11.678 <= r\n",
      "\t<class 'docplex.mp.constr.LinearConstraint'> (status code: ConflictStatus.Member): 2.577x_0+20.432x_1+0.088x_2+20.270x_3-18.414x_4+11.678 <= r\n",
      "\t<class 'docplex.mp.constr.LinearConstraint'> (status code: ConflictStatus.Member): -2.577x_0-20.432x_1-0.088x_2-20.270x_3+18.414x_4+300b_5-12.678 >= r\n",
      "\t<class 'docplex.mp.constr.LinearConstraint'> (status code: ConflictStatus.Member): 2.577x_0+20.432x_1+0.088x_2+20.270x_3-18.414x_4-300b_5+312.678 >= r\n",
      "\t<class 'docplex.mp.constr.LinearConstraint'> (status code: ConflictStatus.Member): -2.577x_0-20.432x_1-0.088x_2-20.270x_3+18.414x_4+300b_7-0.678 >= r\n",
      "\t<class 'docplex.mp.constr.LinearConstraint'> (status code: ConflictStatus.Member): 2.577x_0+20.432x_1+0.088x_2+20.270x_3-18.414x_4-300b_7+300.678 >= r\n",
      "No solution found\n",
      "show some of the constraints that can be removed to arrive at a minimal conflict\n"
     ]
    },
    {
     "name": "stderr",
     "output_type": "stream",
     "text": [
      "/home/artem/.conda/envs/ica_new/lib/python3.6/site-packages/docplex/mp/model.py:3278: UserWarning: Unknown quick-setting in Context: display, value: True\n",
      "  context.update_key_value(argname, argval)\n"
     ]
    },
    {
     "name": "stdout",
     "output_type": "stream",
     "text": [
      "Initial y\n",
      "10\n",
      "Intercept\n",
      "21.67847300193938\n",
      "Conflict set:\n",
      "\t<class 'docplex.mp.constr.LinearConstraint'> (status code: ConflictStatus.Member): -2.577x_0-20.432x_1-0.088x_2-20.270x_3+18.414x_4-11.678 <= r\n",
      "\t<class 'docplex.mp.constr.LinearConstraint'> (status code: ConflictStatus.Member): 2.577x_0+20.432x_1+0.088x_2+20.270x_3-18.414x_4+11.678 <= r\n",
      "\t<class 'docplex.mp.constr.LinearConstraint'> (status code: ConflictStatus.Member): -2.577x_0-20.432x_1-0.088x_2-20.270x_3+18.414x_4+300b_5-12.678 >= r\n",
      "\t<class 'docplex.mp.constr.LinearConstraint'> (status code: ConflictStatus.Member): 2.577x_0+20.432x_1+0.088x_2+20.270x_3-18.414x_4-300b_5+312.678 >= r\n",
      "\t<class 'docplex.mp.constr.LinearConstraint'> (status code: ConflictStatus.Member): -2.577x_0-20.432x_1-0.088x_2-20.270x_3+18.414x_4+300b_7-0.678 >= r\n",
      "\t<class 'docplex.mp.constr.LinearConstraint'> (status code: ConflictStatus.Member): 2.577x_0+20.432x_1+0.088x_2+20.270x_3-18.414x_4-300b_7+300.678 >= r\n",
      "No solution found\n",
      "show some of the constraints that can be removed to arrive at a minimal conflict\n"
     ]
    },
    {
     "name": "stderr",
     "output_type": "stream",
     "text": [
      "/home/artem/.conda/envs/ica_new/lib/python3.6/site-packages/docplex/mp/model.py:3278: UserWarning: Unknown quick-setting in Context: display, value: True\n",
      "  context.update_key_value(argname, argval)\n"
     ]
    },
    {
     "name": "stdout",
     "output_type": "stream",
     "text": [
      "Initial y\n",
      "10\n",
      "Intercept\n",
      "21.67847300193938\n",
      "Conflict set:\n",
      "\t<class 'docplex.mp.constr.LinearConstraint'> (status code: ConflictStatus.Member): -2.577x_0-20.432x_1-0.088x_2-20.270x_3+18.414x_4-11.678 <= r\n",
      "\t<class 'docplex.mp.constr.LinearConstraint'> (status code: ConflictStatus.Member): 2.577x_0+20.432x_1+0.088x_2+20.270x_3-18.414x_4+11.678 <= r\n",
      "\t<class 'docplex.mp.constr.LinearConstraint'> (status code: ConflictStatus.Member): -2.577x_0-20.432x_1-0.088x_2-20.270x_3+18.414x_4+300b_5-12.678 >= r\n",
      "\t<class 'docplex.mp.constr.LinearConstraint'> (status code: ConflictStatus.Member): 2.577x_0+20.432x_1+0.088x_2+20.270x_3-18.414x_4-300b_5+312.678 >= r\n",
      "\t<class 'docplex.mp.constr.LinearConstraint'> (status code: ConflictStatus.Member): -2.577x_0-20.432x_1-0.088x_2-20.270x_3+18.414x_4+300b_7-0.678 >= r\n",
      "\t<class 'docplex.mp.constr.LinearConstraint'> (status code: ConflictStatus.Member): 2.577x_0+20.432x_1+0.088x_2+20.270x_3-18.414x_4-300b_7+300.678 >= r\n",
      "No solution found\n",
      "show some of the constraints that can be removed to arrive at a minimal conflict\n"
     ]
    },
    {
     "name": "stderr",
     "output_type": "stream",
     "text": [
      "/home/artem/.conda/envs/ica_new/lib/python3.6/site-packages/docplex/mp/model.py:3278: UserWarning: Unknown quick-setting in Context: display, value: True\n",
      "  context.update_key_value(argname, argval)\n"
     ]
    },
    {
     "name": "stdout",
     "output_type": "stream",
     "text": [
      "Initial y\n",
      "10\n",
      "Intercept\n",
      "21.67847300193938\n",
      "Conflict set:\n",
      "\t<class 'docplex.mp.constr.LinearConstraint'> (status code: ConflictStatus.Member): -2.577x_0-20.432x_1-0.088x_2-20.270x_3+18.414x_4-11.678 <= r\n",
      "\t<class 'docplex.mp.constr.LinearConstraint'> (status code: ConflictStatus.Member): 2.577x_0+20.432x_1+0.088x_2+20.270x_3-18.414x_4+11.678 <= r\n",
      "\t<class 'docplex.mp.constr.LinearConstraint'> (status code: ConflictStatus.Member): -2.577x_0-20.432x_1-0.088x_2-20.270x_3+18.414x_4+300b_5-12.678 >= r\n",
      "\t<class 'docplex.mp.constr.LinearConstraint'> (status code: ConflictStatus.Member): 2.577x_0+20.432x_1+0.088x_2+20.270x_3-18.414x_4-300b_5+312.678 >= r\n",
      "\t<class 'docplex.mp.constr.LinearConstraint'> (status code: ConflictStatus.Member): -2.577x_0-20.432x_1-0.088x_2-20.270x_3+18.414x_4+300b_7-0.678 >= r\n",
      "\t<class 'docplex.mp.constr.LinearConstraint'> (status code: ConflictStatus.Member): 2.577x_0+20.432x_1+0.088x_2+20.270x_3-18.414x_4-300b_7+300.678 >= r\n",
      "No solution found\n",
      "show some of the constraints that can be removed to arrive at a minimal conflict\n"
     ]
    },
    {
     "name": "stderr",
     "output_type": "stream",
     "text": [
      "/home/artem/.conda/envs/ica_new/lib/python3.6/site-packages/docplex/mp/model.py:3278: UserWarning: Unknown quick-setting in Context: display, value: True\n",
      "  context.update_key_value(argname, argval)\n"
     ]
    },
    {
     "name": "stdout",
     "output_type": "stream",
     "text": [
      "Initial y\n",
      "10\n",
      "Intercept\n",
      "21.67847300193938\n",
      "Conflict set:\n",
      "\t<class 'docplex.mp.constr.LinearConstraint'> (status code: ConflictStatus.Member): -2.577x_0-20.432x_1-0.088x_2-20.270x_3+18.414x_4-11.678 <= r\n",
      "\t<class 'docplex.mp.constr.LinearConstraint'> (status code: ConflictStatus.Member): 2.577x_0+20.432x_1+0.088x_2+20.270x_3-18.414x_4+11.678 <= r\n",
      "\t<class 'docplex.mp.constr.LinearConstraint'> (status code: ConflictStatus.Member): -2.577x_0-20.432x_1-0.088x_2-20.270x_3+18.414x_4+300b_5-12.678 >= r\n",
      "\t<class 'docplex.mp.constr.LinearConstraint'> (status code: ConflictStatus.Member): 2.577x_0+20.432x_1+0.088x_2+20.270x_3-18.414x_4-300b_5+312.678 >= r\n",
      "\t<class 'docplex.mp.constr.LinearConstraint'> (status code: ConflictStatus.Member): -2.577x_0-20.432x_1-0.088x_2-20.270x_3+18.414x_4+300b_7-0.678 >= r\n",
      "\t<class 'docplex.mp.constr.LinearConstraint'> (status code: ConflictStatus.Member): 2.577x_0+20.432x_1+0.088x_2+20.270x_3-18.414x_4-300b_7+300.678 >= r\n",
      "No solution found\n",
      "[  2.17937628  19.93526285  -0.63360753  20.08460497 -17.92291368]\n",
      "22.588232916304552\n",
      "JobSolveStatus.OPTIMAL_SOLUTION\n",
      "JobSolveStatus.OPTIMAL_SOLUTION\n",
      "JobSolveStatus.OPTIMAL_SOLUTION\n",
      "show some of the constraints that can be removed to arrive at a minimal conflict\n",
      "Initial y\n",
      "67\n",
      "Intercept\n",
      "22.588232916304552\n",
      "Conflict set:\n",
      "\t<class 'docplex.mp.constr.LinearConstraint'> (status code: ConflictStatus.Member): -2.179x_0-19.935x_1+0.634x_2-20.085x_3+17.923x_4+44.412 <= r\n",
      "\t<class 'docplex.mp.constr.LinearConstraint'> (status code: ConflictStatus.Member): -2.179x_0-19.935x_1+0.634x_2-20.085x_3+17.923x_4+300b_2+41.412 >= r\n",
      "\t<class 'docplex.mp.constr.LinearConstraint'> (status code: ConflictStatus.Member): 2.179x_0+19.935x_1-0.634x_2+20.085x_3-17.923x_4-300b_2+258.588 >= r\n",
      "No solution found\n"
     ]
    },
    {
     "name": "stderr",
     "output_type": "stream",
     "text": [
      "/home/artem/.conda/envs/ica_new/lib/python3.6/site-packages/docplex/mp/model.py:3278: UserWarning: Unknown quick-setting in Context: display, value: True\n",
      "  context.update_key_value(argname, argval)\n"
     ]
    },
    {
     "name": "stdout",
     "output_type": "stream",
     "text": [
      "show some of the constraints that can be removed to arrive at a minimal conflict\n",
      "Initial y\n",
      "67\n",
      "Intercept\n",
      "22.588232916304552\n",
      "Conflict set:\n",
      "\t<class 'docplex.mp.constr.LinearConstraint'> (status code: ConflictStatus.Member): -2.179x_0-19.935x_1+0.634x_2-20.085x_3+17.923x_4+44.412 <= r\n",
      "\t<class 'docplex.mp.constr.LinearConstraint'> (status code: ConflictStatus.Member): -2.179x_0-19.935x_1+0.634x_2-20.085x_3+17.923x_4+300b_2+41.412 >= r\n",
      "\t<class 'docplex.mp.constr.LinearConstraint'> (status code: ConflictStatus.Member): 2.179x_0+19.935x_1-0.634x_2+20.085x_3-17.923x_4-300b_2+258.588 >= r\n",
      "No solution found\n"
     ]
    },
    {
     "name": "stderr",
     "output_type": "stream",
     "text": [
      "/home/artem/.conda/envs/ica_new/lib/python3.6/site-packages/docplex/mp/model.py:3278: UserWarning: Unknown quick-setting in Context: display, value: True\n",
      "  context.update_key_value(argname, argval)\n"
     ]
    },
    {
     "name": "stdout",
     "output_type": "stream",
     "text": [
      "JobSolveStatus.OPTIMAL_SOLUTION\n",
      "show some of the constraints that can be removed to arrive at a minimal conflict\n"
     ]
    },
    {
     "name": "stderr",
     "output_type": "stream",
     "text": [
      "/home/artem/.conda/envs/ica_new/lib/python3.6/site-packages/docplex/mp/model.py:3278: UserWarning: Unknown quick-setting in Context: display, value: True\n",
      "  context.update_key_value(argname, argval)\n"
     ]
    },
    {
     "name": "stdout",
     "output_type": "stream",
     "text": [
      "Initial y\n",
      "83\n",
      "Intercept\n",
      "22.588232916304552\n",
      "Conflict set:\n",
      "\t<class 'docplex.mp.constr.LinearConstraint'> (status code: ConflictStatus.Member): -2.179x_0-19.935x_1+0.634x_2-20.085x_3+17.923x_4+60.412 <= r\n",
      "\t<class 'docplex.mp.constr.LinearConstraint'> (status code: ConflictStatus.Member): -2.179x_0-19.935x_1+0.634x_2-20.085x_3+17.923x_4+300b_1+24.412 >= r\n",
      "\t<class 'docplex.mp.constr.LinearConstraint'> (status code: ConflictStatus.Member): 2.179x_0+19.935x_1-0.634x_2+20.085x_3-17.923x_4-300b_1+275.588 >= r\n",
      "No solution found\n",
      "JobSolveStatus.OPTIMAL_SOLUTION\n",
      "No solution found\n",
      "show some of the constraints that can be removed to arrive at a minimal conflict\n",
      "Initial y\n",
      "87\n",
      "Intercept\n",
      "22.588232916304552\n",
      "Conflict set:\n",
      "\t<class 'docplex.mp.constr.LinearConstraint'> (status code: ConflictStatus.Member): -2.179x_0-19.935x_1+0.634x_2-20.085x_3+17.923x_4+64.412 <= r\n",
      "\t<class 'docplex.mp.constr.LinearConstraint'> (status code: ConflictStatus.Member): -2.179x_0-19.935x_1+0.634x_2-20.085x_3+17.923x_4+300b_0+21.412 >= r\n",
      "\t<class 'docplex.mp.constr.LinearConstraint'> (status code: ConflictStatus.Member): 2.179x_0+19.935x_1-0.634x_2+20.085x_3-17.923x_4-300b_0+278.588 >= r\n",
      "No solution found\n"
     ]
    },
    {
     "name": "stderr",
     "output_type": "stream",
     "text": [
      "/home/artem/.conda/envs/ica_new/lib/python3.6/site-packages/docplex/mp/model.py:3278: UserWarning: Unknown quick-setting in Context: display, value: True\n",
      "  context.update_key_value(argname, argval)\n"
     ]
    },
    {
     "name": "stdout",
     "output_type": "stream",
     "text": [
      "show some of the constraints that can be removed to arrive at a minimal conflict\n",
      "Initial y\n",
      "10\n",
      "Intercept\n",
      "22.588232916304552\n",
      "Conflict set:\n",
      "\t<class 'docplex.mp.constr.LinearConstraint'> (status code: ConflictStatus.Member): -2.179x_0-19.935x_1+0.634x_2-20.085x_3+17.923x_4-12.588 <= r\n",
      "\t<class 'docplex.mp.constr.LinearConstraint'> (status code: ConflictStatus.Member): 2.179x_0+19.935x_1-0.634x_2+20.085x_3-17.923x_4+12.588 <= r\n",
      "\t<class 'docplex.mp.constr.LinearConstraint'> (status code: ConflictStatus.Member): -2.179x_0-19.935x_1+0.634x_2-20.085x_3+17.923x_4+300b_5-13.588 >= r\n",
      "\t<class 'docplex.mp.constr.LinearConstraint'> (status code: ConflictStatus.Member): 2.179x_0+19.935x_1-0.634x_2+20.085x_3-17.923x_4-300b_5+313.588 >= r\n",
      "\t<class 'docplex.mp.constr.LinearConstraint'> (status code: ConflictStatus.Member): -2.179x_0-19.935x_1+0.634x_2-20.085x_3+17.923x_4+300b_7-1.588 >= r\n",
      "\t<class 'docplex.mp.constr.LinearConstraint'> (status code: ConflictStatus.Member): 2.179x_0+19.935x_1-0.634x_2+20.085x_3-17.923x_4-300b_7+301.588 >= r\n",
      "No solution found\n"
     ]
    },
    {
     "name": "stderr",
     "output_type": "stream",
     "text": [
      "/home/artem/.conda/envs/ica_new/lib/python3.6/site-packages/docplex/mp/model.py:3278: UserWarning: Unknown quick-setting in Context: display, value: True\n",
      "  context.update_key_value(argname, argval)\n"
     ]
    },
    {
     "name": "stdout",
     "output_type": "stream",
     "text": [
      "show some of the constraints that can be removed to arrive at a minimal conflict\n"
     ]
    },
    {
     "name": "stderr",
     "output_type": "stream",
     "text": [
      "/home/artem/.conda/envs/ica_new/lib/python3.6/site-packages/docplex/mp/model.py:3278: UserWarning: Unknown quick-setting in Context: display, value: True\n",
      "  context.update_key_value(argname, argval)\n"
     ]
    },
    {
     "name": "stdout",
     "output_type": "stream",
     "text": [
      "Initial y\n",
      "10\n",
      "Intercept\n",
      "22.588232916304552\n",
      "Conflict set:\n",
      "\t<class 'docplex.mp.constr.LinearConstraint'> (status code: ConflictStatus.Member): -2.179x_0-19.935x_1+0.634x_2-20.085x_3+17.923x_4-12.588 <= r\n",
      "\t<class 'docplex.mp.constr.LinearConstraint'> (status code: ConflictStatus.Member): 2.179x_0+19.935x_1-0.634x_2+20.085x_3-17.923x_4+12.588 <= r\n",
      "\t<class 'docplex.mp.constr.LinearConstraint'> (status code: ConflictStatus.Member): -2.179x_0-19.935x_1+0.634x_2-20.085x_3+17.923x_4+300b_5-13.588 >= r\n",
      "\t<class 'docplex.mp.constr.LinearConstraint'> (status code: ConflictStatus.Member): 2.179x_0+19.935x_1-0.634x_2+20.085x_3-17.923x_4-300b_5+313.588 >= r\n",
      "\t<class 'docplex.mp.constr.LinearConstraint'> (status code: ConflictStatus.Member): -2.179x_0-19.935x_1+0.634x_2-20.085x_3+17.923x_4+300b_7-1.588 >= r\n",
      "\t<class 'docplex.mp.constr.LinearConstraint'> (status code: ConflictStatus.Member): 2.179x_0+19.935x_1-0.634x_2+20.085x_3-17.923x_4-300b_7+301.588 >= r\n",
      "No solution found\n",
      "show some of the constraints that can be removed to arrive at a minimal conflict\n"
     ]
    },
    {
     "name": "stderr",
     "output_type": "stream",
     "text": [
      "/home/artem/.conda/envs/ica_new/lib/python3.6/site-packages/docplex/mp/model.py:3278: UserWarning: Unknown quick-setting in Context: display, value: True\n",
      "  context.update_key_value(argname, argval)\n"
     ]
    },
    {
     "name": "stdout",
     "output_type": "stream",
     "text": [
      "Initial y\n",
      "10\n",
      "Intercept\n",
      "22.588232916304552\n",
      "Conflict set:\n",
      "\t<class 'docplex.mp.constr.LinearConstraint'> (status code: ConflictStatus.Member): -2.179x_0-19.935x_1+0.634x_2-20.085x_3+17.923x_4-12.588 <= r\n",
      "\t<class 'docplex.mp.constr.LinearConstraint'> (status code: ConflictStatus.Member): 2.179x_0+19.935x_1-0.634x_2+20.085x_3-17.923x_4+12.588 <= r\n",
      "\t<class 'docplex.mp.constr.LinearConstraint'> (status code: ConflictStatus.Member): -2.179x_0-19.935x_1+0.634x_2-20.085x_3+17.923x_4+300b_5-13.588 >= r\n",
      "\t<class 'docplex.mp.constr.LinearConstraint'> (status code: ConflictStatus.Member): 2.179x_0+19.935x_1-0.634x_2+20.085x_3-17.923x_4-300b_5+313.588 >= r\n",
      "\t<class 'docplex.mp.constr.LinearConstraint'> (status code: ConflictStatus.Member): -2.179x_0-19.935x_1+0.634x_2-20.085x_3+17.923x_4+300b_7-1.588 >= r\n",
      "\t<class 'docplex.mp.constr.LinearConstraint'> (status code: ConflictStatus.Member): 2.179x_0+19.935x_1-0.634x_2+20.085x_3-17.923x_4-300b_7+301.588 >= r\n",
      "No solution found\n",
      "show some of the constraints that can be removed to arrive at a minimal conflict\n"
     ]
    },
    {
     "name": "stderr",
     "output_type": "stream",
     "text": [
      "/home/artem/.conda/envs/ica_new/lib/python3.6/site-packages/docplex/mp/model.py:3278: UserWarning: Unknown quick-setting in Context: display, value: True\n",
      "  context.update_key_value(argname, argval)\n"
     ]
    },
    {
     "name": "stdout",
     "output_type": "stream",
     "text": [
      "Initial y\n",
      "10\n",
      "Intercept\n",
      "22.588232916304552\n",
      "Conflict set:\n",
      "\t<class 'docplex.mp.constr.LinearConstraint'> (status code: ConflictStatus.Member): -2.179x_0-19.935x_1+0.634x_2-20.085x_3+17.923x_4-12.588 <= r\n",
      "\t<class 'docplex.mp.constr.LinearConstraint'> (status code: ConflictStatus.Member): 2.179x_0+19.935x_1-0.634x_2+20.085x_3-17.923x_4+12.588 <= r\n",
      "\t<class 'docplex.mp.constr.LinearConstraint'> (status code: ConflictStatus.Member): -2.179x_0-19.935x_1+0.634x_2-20.085x_3+17.923x_4+300b_5-13.588 >= r\n",
      "\t<class 'docplex.mp.constr.LinearConstraint'> (status code: ConflictStatus.Member): 2.179x_0+19.935x_1-0.634x_2+20.085x_3-17.923x_4-300b_5+313.588 >= r\n",
      "\t<class 'docplex.mp.constr.LinearConstraint'> (status code: ConflictStatus.Member): -2.179x_0-19.935x_1+0.634x_2-20.085x_3+17.923x_4+300b_7-1.588 >= r\n",
      "\t<class 'docplex.mp.constr.LinearConstraint'> (status code: ConflictStatus.Member): 2.179x_0+19.935x_1-0.634x_2+20.085x_3-17.923x_4-300b_7+301.588 >= r\n",
      "No solution found\n",
      "show some of the constraints that can be removed to arrive at a minimal conflict\n"
     ]
    },
    {
     "name": "stderr",
     "output_type": "stream",
     "text": [
      "/home/artem/.conda/envs/ica_new/lib/python3.6/site-packages/docplex/mp/model.py:3278: UserWarning: Unknown quick-setting in Context: display, value: True\n",
      "  context.update_key_value(argname, argval)\n"
     ]
    },
    {
     "name": "stdout",
     "output_type": "stream",
     "text": [
      "Initial y\n",
      "10\n",
      "Intercept\n",
      "22.588232916304552\n",
      "Conflict set:\n",
      "\t<class 'docplex.mp.constr.LinearConstraint'> (status code: ConflictStatus.Member): -2.179x_0-19.935x_1+0.634x_2-20.085x_3+17.923x_4-12.588 <= r\n",
      "\t<class 'docplex.mp.constr.LinearConstraint'> (status code: ConflictStatus.Member): 2.179x_0+19.935x_1-0.634x_2+20.085x_3-17.923x_4+12.588 <= r\n",
      "\t<class 'docplex.mp.constr.LinearConstraint'> (status code: ConflictStatus.Member): -2.179x_0-19.935x_1+0.634x_2-20.085x_3+17.923x_4+300b_5-13.588 >= r\n",
      "\t<class 'docplex.mp.constr.LinearConstraint'> (status code: ConflictStatus.Member): 2.179x_0+19.935x_1-0.634x_2+20.085x_3-17.923x_4-300b_5+313.588 >= r\n",
      "\t<class 'docplex.mp.constr.LinearConstraint'> (status code: ConflictStatus.Member): -2.179x_0-19.935x_1+0.634x_2-20.085x_3+17.923x_4+300b_7-1.588 >= r\n",
      "\t<class 'docplex.mp.constr.LinearConstraint'> (status code: ConflictStatus.Member): 2.179x_0+19.935x_1-0.634x_2+20.085x_3-17.923x_4-300b_7+301.588 >= r\n",
      "No solution found\n",
      "show some of the constraints that can be removed to arrive at a minimal conflict\n"
     ]
    },
    {
     "name": "stderr",
     "output_type": "stream",
     "text": [
      "/home/artem/.conda/envs/ica_new/lib/python3.6/site-packages/docplex/mp/model.py:3278: UserWarning: Unknown quick-setting in Context: display, value: True\n",
      "  context.update_key_value(argname, argval)\n"
     ]
    },
    {
     "name": "stdout",
     "output_type": "stream",
     "text": [
      "Initial y\n",
      "10\n",
      "Intercept\n",
      "22.588232916304552\n",
      "Conflict set:\n",
      "\t<class 'docplex.mp.constr.LinearConstraint'> (status code: ConflictStatus.Member): -2.179x_0-19.935x_1+0.634x_2-20.085x_3+17.923x_4-12.588 <= r\n",
      "\t<class 'docplex.mp.constr.LinearConstraint'> (status code: ConflictStatus.Member): 2.179x_0+19.935x_1-0.634x_2+20.085x_3-17.923x_4+12.588 <= r\n",
      "\t<class 'docplex.mp.constr.LinearConstraint'> (status code: ConflictStatus.Member): -2.179x_0-19.935x_1+0.634x_2-20.085x_3+17.923x_4+300b_5-13.588 >= r\n",
      "\t<class 'docplex.mp.constr.LinearConstraint'> (status code: ConflictStatus.Member): 2.179x_0+19.935x_1-0.634x_2+20.085x_3-17.923x_4-300b_5+313.588 >= r\n",
      "\t<class 'docplex.mp.constr.LinearConstraint'> (status code: ConflictStatus.Member): -2.179x_0-19.935x_1+0.634x_2-20.085x_3+17.923x_4+300b_7-1.588 >= r\n",
      "\t<class 'docplex.mp.constr.LinearConstraint'> (status code: ConflictStatus.Member): 2.179x_0+19.935x_1-0.634x_2+20.085x_3-17.923x_4-300b_7+301.588 >= r\n",
      "No solution found\n",
      "show some of the constraints that can be removed to arrive at a minimal conflict\n"
     ]
    },
    {
     "name": "stderr",
     "output_type": "stream",
     "text": [
      "/home/artem/.conda/envs/ica_new/lib/python3.6/site-packages/docplex/mp/model.py:3278: UserWarning: Unknown quick-setting in Context: display, value: True\n",
      "  context.update_key_value(argname, argval)\n"
     ]
    },
    {
     "name": "stdout",
     "output_type": "stream",
     "text": [
      "Initial y\n",
      "10\n",
      "Intercept\n",
      "22.588232916304552\n",
      "Conflict set:\n",
      "\t<class 'docplex.mp.constr.LinearConstraint'> (status code: ConflictStatus.Member): -2.179x_0-19.935x_1+0.634x_2-20.085x_3+17.923x_4-12.588 <= r\n",
      "\t<class 'docplex.mp.constr.LinearConstraint'> (status code: ConflictStatus.Member): 2.179x_0+19.935x_1-0.634x_2+20.085x_3-17.923x_4+12.588 <= r\n",
      "\t<class 'docplex.mp.constr.LinearConstraint'> (status code: ConflictStatus.Member): -2.179x_0-19.935x_1+0.634x_2-20.085x_3+17.923x_4+300b_5-13.588 >= r\n",
      "\t<class 'docplex.mp.constr.LinearConstraint'> (status code: ConflictStatus.Member): 2.179x_0+19.935x_1-0.634x_2+20.085x_3-17.923x_4-300b_5+313.588 >= r\n",
      "\t<class 'docplex.mp.constr.LinearConstraint'> (status code: ConflictStatus.Member): -2.179x_0-19.935x_1+0.634x_2-20.085x_3+17.923x_4+300b_7-1.588 >= r\n",
      "\t<class 'docplex.mp.constr.LinearConstraint'> (status code: ConflictStatus.Member): 2.179x_0+19.935x_1-0.634x_2+20.085x_3-17.923x_4-300b_7+301.588 >= r\n",
      "No solution found\n",
      "show some of the constraints that can be removed to arrive at a minimal conflict\n"
     ]
    },
    {
     "name": "stderr",
     "output_type": "stream",
     "text": [
      "/home/artem/.conda/envs/ica_new/lib/python3.6/site-packages/docplex/mp/model.py:3278: UserWarning: Unknown quick-setting in Context: display, value: True\n",
      "  context.update_key_value(argname, argval)\n"
     ]
    },
    {
     "name": "stdout",
     "output_type": "stream",
     "text": [
      "Initial y\n",
      "10\n",
      "Intercept\n",
      "22.588232916304552\n",
      "Conflict set:\n",
      "\t<class 'docplex.mp.constr.LinearConstraint'> (status code: ConflictStatus.Member): -2.179x_0-19.935x_1+0.634x_2-20.085x_3+17.923x_4-12.588 <= r\n",
      "\t<class 'docplex.mp.constr.LinearConstraint'> (status code: ConflictStatus.Member): 2.179x_0+19.935x_1-0.634x_2+20.085x_3-17.923x_4+12.588 <= r\n",
      "\t<class 'docplex.mp.constr.LinearConstraint'> (status code: ConflictStatus.Member): -2.179x_0-19.935x_1+0.634x_2-20.085x_3+17.923x_4+300b_5-13.588 >= r\n",
      "\t<class 'docplex.mp.constr.LinearConstraint'> (status code: ConflictStatus.Member): 2.179x_0+19.935x_1-0.634x_2+20.085x_3-17.923x_4-300b_5+313.588 >= r\n",
      "\t<class 'docplex.mp.constr.LinearConstraint'> (status code: ConflictStatus.Member): -2.179x_0-19.935x_1+0.634x_2-20.085x_3+17.923x_4+300b_7-1.588 >= r\n",
      "\t<class 'docplex.mp.constr.LinearConstraint'> (status code: ConflictStatus.Member): 2.179x_0+19.935x_1-0.634x_2+20.085x_3-17.923x_4-300b_7+301.588 >= r\n",
      "No solution found\n",
      "show some of the constraints that can be removed to arrive at a minimal conflict\n"
     ]
    },
    {
     "name": "stderr",
     "output_type": "stream",
     "text": [
      "/home/artem/.conda/envs/ica_new/lib/python3.6/site-packages/docplex/mp/model.py:3278: UserWarning: Unknown quick-setting in Context: display, value: True\n",
      "  context.update_key_value(argname, argval)\n"
     ]
    },
    {
     "name": "stdout",
     "output_type": "stream",
     "text": [
      "Initial y\n",
      "10\n",
      "Intercept\n",
      "22.588232916304552\n",
      "Conflict set:\n",
      "\t<class 'docplex.mp.constr.LinearConstraint'> (status code: ConflictStatus.Member): -2.179x_0-19.935x_1+0.634x_2-20.085x_3+17.923x_4-12.588 <= r\n",
      "\t<class 'docplex.mp.constr.LinearConstraint'> (status code: ConflictStatus.Member): 2.179x_0+19.935x_1-0.634x_2+20.085x_3-17.923x_4+12.588 <= r\n",
      "\t<class 'docplex.mp.constr.LinearConstraint'> (status code: ConflictStatus.Member): -2.179x_0-19.935x_1+0.634x_2-20.085x_3+17.923x_4+300b_5-13.588 >= r\n",
      "\t<class 'docplex.mp.constr.LinearConstraint'> (status code: ConflictStatus.Member): 2.179x_0+19.935x_1-0.634x_2+20.085x_3-17.923x_4-300b_5+313.588 >= r\n",
      "\t<class 'docplex.mp.constr.LinearConstraint'> (status code: ConflictStatus.Member): -2.179x_0-19.935x_1+0.634x_2-20.085x_3+17.923x_4+300b_7-1.588 >= r\n",
      "\t<class 'docplex.mp.constr.LinearConstraint'> (status code: ConflictStatus.Member): 2.179x_0+19.935x_1-0.634x_2+20.085x_3-17.923x_4-300b_7+301.588 >= r\n",
      "No solution found\n",
      "show some of the constraints that can be removed to arrive at a minimal conflict\n"
     ]
    },
    {
     "name": "stderr",
     "output_type": "stream",
     "text": [
      "/home/artem/.conda/envs/ica_new/lib/python3.6/site-packages/docplex/mp/model.py:3278: UserWarning: Unknown quick-setting in Context: display, value: True\n",
      "  context.update_key_value(argname, argval)\n"
     ]
    },
    {
     "name": "stdout",
     "output_type": "stream",
     "text": [
      "Initial y\n",
      "10\n",
      "Intercept\n",
      "22.588232916304552\n",
      "Conflict set:\n",
      "\t<class 'docplex.mp.constr.LinearConstraint'> (status code: ConflictStatus.Member): -2.179x_0-19.935x_1+0.634x_2-20.085x_3+17.923x_4-12.588 <= r\n",
      "\t<class 'docplex.mp.constr.LinearConstraint'> (status code: ConflictStatus.Member): 2.179x_0+19.935x_1-0.634x_2+20.085x_3-17.923x_4+12.588 <= r\n",
      "\t<class 'docplex.mp.constr.LinearConstraint'> (status code: ConflictStatus.Member): -2.179x_0-19.935x_1+0.634x_2-20.085x_3+17.923x_4+300b_5-13.588 >= r\n",
      "\t<class 'docplex.mp.constr.LinearConstraint'> (status code: ConflictStatus.Member): 2.179x_0+19.935x_1-0.634x_2+20.085x_3-17.923x_4-300b_5+313.588 >= r\n",
      "\t<class 'docplex.mp.constr.LinearConstraint'> (status code: ConflictStatus.Member): -2.179x_0-19.935x_1+0.634x_2-20.085x_3+17.923x_4+300b_7-1.588 >= r\n",
      "\t<class 'docplex.mp.constr.LinearConstraint'> (status code: ConflictStatus.Member): 2.179x_0+19.935x_1-0.634x_2+20.085x_3-17.923x_4-300b_7+301.588 >= r\n",
      "No solution found\n",
      "show some of the constraints that can be removed to arrive at a minimal conflict\n"
     ]
    },
    {
     "name": "stderr",
     "output_type": "stream",
     "text": [
      "/home/artem/.conda/envs/ica_new/lib/python3.6/site-packages/docplex/mp/model.py:3278: UserWarning: Unknown quick-setting in Context: display, value: True\n",
      "  context.update_key_value(argname, argval)\n"
     ]
    },
    {
     "name": "stdout",
     "output_type": "stream",
     "text": [
      "Initial y\n",
      "10\n",
      "Intercept\n",
      "22.588232916304552\n",
      "Conflict set:\n",
      "\t<class 'docplex.mp.constr.LinearConstraint'> (status code: ConflictStatus.Member): -2.179x_0-19.935x_1+0.634x_2-20.085x_3+17.923x_4-12.588 <= r\n",
      "\t<class 'docplex.mp.constr.LinearConstraint'> (status code: ConflictStatus.Member): 2.179x_0+19.935x_1-0.634x_2+20.085x_3-17.923x_4+12.588 <= r\n",
      "\t<class 'docplex.mp.constr.LinearConstraint'> (status code: ConflictStatus.Member): -2.179x_0-19.935x_1+0.634x_2-20.085x_3+17.923x_4+300b_5-13.588 >= r\n",
      "\t<class 'docplex.mp.constr.LinearConstraint'> (status code: ConflictStatus.Member): 2.179x_0+19.935x_1-0.634x_2+20.085x_3-17.923x_4-300b_5+313.588 >= r\n",
      "\t<class 'docplex.mp.constr.LinearConstraint'> (status code: ConflictStatus.Member): -2.179x_0-19.935x_1+0.634x_2-20.085x_3+17.923x_4+300b_7-1.588 >= r\n",
      "\t<class 'docplex.mp.constr.LinearConstraint'> (status code: ConflictStatus.Member): 2.179x_0+19.935x_1-0.634x_2+20.085x_3-17.923x_4-300b_7+301.588 >= r\n",
      "No solution found\n",
      "show some of the constraints that can be removed to arrive at a minimal conflict\n"
     ]
    },
    {
     "name": "stderr",
     "output_type": "stream",
     "text": [
      "/home/artem/.conda/envs/ica_new/lib/python3.6/site-packages/docplex/mp/model.py:3278: UserWarning: Unknown quick-setting in Context: display, value: True\n",
      "  context.update_key_value(argname, argval)\n"
     ]
    },
    {
     "name": "stdout",
     "output_type": "stream",
     "text": [
      "Initial y\n",
      "10\n",
      "Intercept\n",
      "22.588232916304552\n",
      "Conflict set:\n",
      "\t<class 'docplex.mp.constr.LinearConstraint'> (status code: ConflictStatus.Member): -2.179x_0-19.935x_1+0.634x_2-20.085x_3+17.923x_4-12.588 <= r\n",
      "\t<class 'docplex.mp.constr.LinearConstraint'> (status code: ConflictStatus.Member): 2.179x_0+19.935x_1-0.634x_2+20.085x_3-17.923x_4+12.588 <= r\n",
      "\t<class 'docplex.mp.constr.LinearConstraint'> (status code: ConflictStatus.Member): -2.179x_0-19.935x_1+0.634x_2-20.085x_3+17.923x_4+300b_5-13.588 >= r\n",
      "\t<class 'docplex.mp.constr.LinearConstraint'> (status code: ConflictStatus.Member): 2.179x_0+19.935x_1-0.634x_2+20.085x_3-17.923x_4-300b_5+313.588 >= r\n",
      "\t<class 'docplex.mp.constr.LinearConstraint'> (status code: ConflictStatus.Member): -2.179x_0-19.935x_1+0.634x_2-20.085x_3+17.923x_4+300b_7-1.588 >= r\n",
      "\t<class 'docplex.mp.constr.LinearConstraint'> (status code: ConflictStatus.Member): 2.179x_0+19.935x_1-0.634x_2+20.085x_3-17.923x_4-300b_7+301.588 >= r\n",
      "No solution found\n",
      "[ -0.06640398  22.70528656   2.47422394  17.26369629 -19.65920285]\n",
      "23.040211159101823\n",
      "JobSolveStatus.OPTIMAL_SOLUTION\n",
      "JobSolveStatus.OPTIMAL_SOLUTION\n",
      "JobSolveStatus.OPTIMAL_SOLUTION\n",
      "show some of the constraints that can be removed to arrive at a minimal conflict\n",
      "Initial y\n",
      "67\n",
      "Intercept\n",
      "23.040211159101823\n",
      "Conflict set:\n",
      "\t<class 'docplex.mp.constr.LinearConstraint'> (status code: ConflictStatus.Member): 0.066x_0-22.705x_1-2.474x_2-17.264x_3+19.659x_4+43.960 <= r\n",
      "\t<class 'docplex.mp.constr.LinearConstraint'> (status code: ConflictStatus.Member): 0.066x_0-22.705x_1-2.474x_2-17.264x_3+19.659x_4+300b_2+40.960 >= r\n",
      "\t<class 'docplex.mp.constr.LinearConstraint'> (status code: ConflictStatus.Member): -0.066x_0+22.705x_1+2.474x_2+17.264x_3-19.659x_4-300b_2+259.040 >= r\n",
      "No solution found\n"
     ]
    },
    {
     "name": "stderr",
     "output_type": "stream",
     "text": [
      "/home/artem/.conda/envs/ica_new/lib/python3.6/site-packages/docplex/mp/model.py:3278: UserWarning: Unknown quick-setting in Context: display, value: True\n",
      "  context.update_key_value(argname, argval)\n"
     ]
    },
    {
     "name": "stdout",
     "output_type": "stream",
     "text": [
      "show some of the constraints that can be removed to arrive at a minimal conflict\n",
      "Initial y\n",
      "67\n",
      "Intercept\n",
      "23.040211159101823\n",
      "Conflict set:\n",
      "\t<class 'docplex.mp.constr.LinearConstraint'> (status code: ConflictStatus.Member): 0.066x_0-22.705x_1-2.474x_2-17.264x_3+19.659x_4+43.960 <= r\n",
      "\t<class 'docplex.mp.constr.LinearConstraint'> (status code: ConflictStatus.Member): 0.066x_0-22.705x_1-2.474x_2-17.264x_3+19.659x_4+300b_2+40.960 >= r\n",
      "\t<class 'docplex.mp.constr.LinearConstraint'> (status code: ConflictStatus.Member): -0.066x_0+22.705x_1+2.474x_2+17.264x_3-19.659x_4-300b_2+259.040 >= r\n",
      "No solution found\n"
     ]
    },
    {
     "name": "stderr",
     "output_type": "stream",
     "text": [
      "/home/artem/.conda/envs/ica_new/lib/python3.6/site-packages/docplex/mp/model.py:3278: UserWarning: Unknown quick-setting in Context: display, value: True\n",
      "  context.update_key_value(argname, argval)\n"
     ]
    },
    {
     "name": "stdout",
     "output_type": "stream",
     "text": [
      "JobSolveStatus.OPTIMAL_SOLUTION\n",
      "show some of the constraints that can be removed to arrive at a minimal conflict\n"
     ]
    },
    {
     "name": "stderr",
     "output_type": "stream",
     "text": [
      "/home/artem/.conda/envs/ica_new/lib/python3.6/site-packages/docplex/mp/model.py:3278: UserWarning: Unknown quick-setting in Context: display, value: True\n",
      "  context.update_key_value(argname, argval)\n"
     ]
    },
    {
     "name": "stdout",
     "output_type": "stream",
     "text": [
      "Initial y\n",
      "83\n",
      "Intercept\n",
      "23.040211159101823\n",
      "Conflict set:\n",
      "\t<class 'docplex.mp.constr.LinearConstraint'> (status code: ConflictStatus.Member): 0.066x_0-22.705x_1-2.474x_2-17.264x_3+19.659x_4+59.960 <= r\n",
      "\t<class 'docplex.mp.constr.LinearConstraint'> (status code: ConflictStatus.Member): 0.066x_0-22.705x_1-2.474x_2-17.264x_3+19.659x_4+300b_2+40.960 >= r\n",
      "\t<class 'docplex.mp.constr.LinearConstraint'> (status code: ConflictStatus.Member): -0.066x_0+22.705x_1+2.474x_2+17.264x_3-19.659x_4-300b_2+259.040 >= r\n",
      "No solution found\n",
      "JobSolveStatus.OPTIMAL_SOLUTION\n",
      "JobSolveStatus.OPTIMAL_SOLUTION\n",
      "show some of the constraints that can be removed to arrive at a minimal conflict\n",
      "Initial y\n",
      "87\n",
      "Intercept\n",
      "23.040211159101823\n",
      "Conflict set:\n",
      "\t<class 'docplex.mp.constr.LinearConstraint'> (status code: ConflictStatus.Member): 0.066x_0-22.705x_1-2.474x_2-17.264x_3+19.659x_4+63.960 <= r\n",
      "\t<class 'docplex.mp.constr.LinearConstraint'> (status code: ConflictStatus.Member): 0.066x_0-22.705x_1-2.474x_2-17.264x_3+19.659x_4+300b_0+20.960 >= r\n",
      "\t<class 'docplex.mp.constr.LinearConstraint'> (status code: ConflictStatus.Member): -0.066x_0+22.705x_1+2.474x_2+17.264x_3-19.659x_4-300b_0+279.040 >= r\n",
      "No solution found\n"
     ]
    },
    {
     "name": "stderr",
     "output_type": "stream",
     "text": [
      "/home/artem/.conda/envs/ica_new/lib/python3.6/site-packages/docplex/mp/model.py:3278: UserWarning: Unknown quick-setting in Context: display, value: True\n",
      "  context.update_key_value(argname, argval)\n"
     ]
    },
    {
     "name": "stdout",
     "output_type": "stream",
     "text": [
      "show some of the constraints that can be removed to arrive at a minimal conflict\n",
      "Initial y\n",
      "10\n",
      "Intercept\n",
      "23.040211159101823\n",
      "Conflict set:\n",
      "\t<class 'docplex.mp.constr.LinearConstraint'> (status code: ConflictStatus.Member): 0.066x_0-22.705x_1-2.474x_2-17.264x_3+19.659x_4-13.040 <= r\n",
      "\t<class 'docplex.mp.constr.LinearConstraint'> (status code: ConflictStatus.Member): -0.066x_0+22.705x_1+2.474x_2+17.264x_3-19.659x_4+13.040 <= r\n",
      "\t<class 'docplex.mp.constr.LinearConstraint'> (status code: ConflictStatus.Member): 0.066x_0-22.705x_1-2.474x_2-17.264x_3+19.659x_4+300b_5-14.040 >= r\n",
      "\t<class 'docplex.mp.constr.LinearConstraint'> (status code: ConflictStatus.Member): -0.066x_0+22.705x_1+2.474x_2+17.264x_3-19.659x_4-300b_5+314.040 >= r\n",
      "\t<class 'docplex.mp.constr.LinearConstraint'> (status code: ConflictStatus.Member): 0.066x_0-22.705x_1-2.474x_2-17.264x_3+19.659x_4+300b_7-2.040 >= r\n",
      "\t<class 'docplex.mp.constr.LinearConstraint'> (status code: ConflictStatus.Member): -0.066x_0+22.705x_1+2.474x_2+17.264x_3-19.659x_4-300b_7+302.040 >= r\n",
      "No solution found\n"
     ]
    },
    {
     "name": "stderr",
     "output_type": "stream",
     "text": [
      "/home/artem/.conda/envs/ica_new/lib/python3.6/site-packages/docplex/mp/model.py:3278: UserWarning: Unknown quick-setting in Context: display, value: True\n",
      "  context.update_key_value(argname, argval)\n"
     ]
    },
    {
     "name": "stdout",
     "output_type": "stream",
     "text": [
      "show some of the constraints that can be removed to arrive at a minimal conflict\n",
      "Initial y\n",
      "10\n",
      "Intercept\n",
      "23.040211159101823\n",
      "Conflict set:\n",
      "\t<class 'docplex.mp.constr.LinearConstraint'> (status code: ConflictStatus.Member): 0.066x_0-22.705x_1-2.474x_2-17.264x_3+19.659x_4-13.040 <= r\n",
      "\t<class 'docplex.mp.constr.LinearConstraint'> (status code: ConflictStatus.Member): -0.066x_0+22.705x_1+2.474x_2+17.264x_3-19.659x_4+13.040 <= r\n",
      "\t<class 'docplex.mp.constr.LinearConstraint'> (status code: ConflictStatus.Member): 0.066x_0-22.705x_1-2.474x_2-17.264x_3+19.659x_4+300b_5-14.040 >= r\n",
      "\t<class 'docplex.mp.constr.LinearConstraint'> (status code: ConflictStatus.Member): -0.066x_0+22.705x_1+2.474x_2+17.264x_3-19.659x_4-300b_5+314.040 >= r\n",
      "\t<class 'docplex.mp.constr.LinearConstraint'> (status code: ConflictStatus.Member): 0.066x_0-22.705x_1-2.474x_2-17.264x_3+19.659x_4+300b_7-2.040 >= r\n",
      "\t<class 'docplex.mp.constr.LinearConstraint'> (status code: ConflictStatus.Member): -0.066x_0+22.705x_1+2.474x_2+17.264x_3-19.659x_4-300b_7+302.040 >= r\n",
      "No solution found\n"
     ]
    },
    {
     "name": "stderr",
     "output_type": "stream",
     "text": [
      "/home/artem/.conda/envs/ica_new/lib/python3.6/site-packages/docplex/mp/model.py:3278: UserWarning: Unknown quick-setting in Context: display, value: True\n",
      "  context.update_key_value(argname, argval)\n"
     ]
    },
    {
     "name": "stdout",
     "output_type": "stream",
     "text": [
      "show some of the constraints that can be removed to arrive at a minimal conflict\n",
      "Initial y\n",
      "10\n",
      "Intercept\n",
      "23.040211159101823\n",
      "Conflict set:\n",
      "\t<class 'docplex.mp.constr.LinearConstraint'> (status code: ConflictStatus.Member): 0.066x_0-22.705x_1-2.474x_2-17.264x_3+19.659x_4-13.040 <= r\n",
      "\t<class 'docplex.mp.constr.LinearConstraint'> (status code: ConflictStatus.Member): -0.066x_0+22.705x_1+2.474x_2+17.264x_3-19.659x_4+13.040 <= r\n",
      "\t<class 'docplex.mp.constr.LinearConstraint'> (status code: ConflictStatus.Member): 0.066x_0-22.705x_1-2.474x_2-17.264x_3+19.659x_4+300b_5-14.040 >= r\n",
      "\t<class 'docplex.mp.constr.LinearConstraint'> (status code: ConflictStatus.Member): -0.066x_0+22.705x_1+2.474x_2+17.264x_3-19.659x_4-300b_5+314.040 >= r\n",
      "\t<class 'docplex.mp.constr.LinearConstraint'> (status code: ConflictStatus.Member): 0.066x_0-22.705x_1-2.474x_2-17.264x_3+19.659x_4+300b_7-2.040 >= r\n",
      "\t<class 'docplex.mp.constr.LinearConstraint'> (status code: ConflictStatus.Member): -0.066x_0+22.705x_1+2.474x_2+17.264x_3-19.659x_4-300b_7+302.040 >= r\n",
      "No solution found\n"
     ]
    },
    {
     "name": "stderr",
     "output_type": "stream",
     "text": [
      "/home/artem/.conda/envs/ica_new/lib/python3.6/site-packages/docplex/mp/model.py:3278: UserWarning: Unknown quick-setting in Context: display, value: True\n",
      "  context.update_key_value(argname, argval)\n"
     ]
    },
    {
     "name": "stdout",
     "output_type": "stream",
     "text": [
      "show some of the constraints that can be removed to arrive at a minimal conflict\n",
      "Initial y\n",
      "10\n",
      "Intercept\n",
      "23.040211159101823\n",
      "Conflict set:\n",
      "\t<class 'docplex.mp.constr.LinearConstraint'> (status code: ConflictStatus.Member): 0.066x_0-22.705x_1-2.474x_2-17.264x_3+19.659x_4-13.040 <= r\n",
      "\t<class 'docplex.mp.constr.LinearConstraint'> (status code: ConflictStatus.Member): -0.066x_0+22.705x_1+2.474x_2+17.264x_3-19.659x_4+13.040 <= r\n",
      "\t<class 'docplex.mp.constr.LinearConstraint'> (status code: ConflictStatus.Member): 0.066x_0-22.705x_1-2.474x_2-17.264x_3+19.659x_4+300b_5-14.040 >= r\n",
      "\t<class 'docplex.mp.constr.LinearConstraint'> (status code: ConflictStatus.Member): -0.066x_0+22.705x_1+2.474x_2+17.264x_3-19.659x_4-300b_5+314.040 >= r\n",
      "\t<class 'docplex.mp.constr.LinearConstraint'> (status code: ConflictStatus.Member): 0.066x_0-22.705x_1-2.474x_2-17.264x_3+19.659x_4+300b_7-2.040 >= r\n",
      "\t<class 'docplex.mp.constr.LinearConstraint'> (status code: ConflictStatus.Member): -0.066x_0+22.705x_1+2.474x_2+17.264x_3-19.659x_4-300b_7+302.040 >= r\n",
      "No solution found\n"
     ]
    },
    {
     "name": "stderr",
     "output_type": "stream",
     "text": [
      "/home/artem/.conda/envs/ica_new/lib/python3.6/site-packages/docplex/mp/model.py:3278: UserWarning: Unknown quick-setting in Context: display, value: True\n",
      "  context.update_key_value(argname, argval)\n"
     ]
    },
    {
     "name": "stdout",
     "output_type": "stream",
     "text": [
      "show some of the constraints that can be removed to arrive at a minimal conflict\n",
      "Initial y\n",
      "10\n",
      "Intercept\n",
      "23.040211159101823\n",
      "Conflict set:\n",
      "\t<class 'docplex.mp.constr.LinearConstraint'> (status code: ConflictStatus.Member): 0.066x_0-22.705x_1-2.474x_2-17.264x_3+19.659x_4-13.040 <= r\n",
      "\t<class 'docplex.mp.constr.LinearConstraint'> (status code: ConflictStatus.Member): -0.066x_0+22.705x_1+2.474x_2+17.264x_3-19.659x_4+13.040 <= r\n",
      "\t<class 'docplex.mp.constr.LinearConstraint'> (status code: ConflictStatus.Member): 0.066x_0-22.705x_1-2.474x_2-17.264x_3+19.659x_4+300b_5-14.040 >= r\n",
      "\t<class 'docplex.mp.constr.LinearConstraint'> (status code: ConflictStatus.Member): -0.066x_0+22.705x_1+2.474x_2+17.264x_3-19.659x_4-300b_5+314.040 >= r\n",
      "\t<class 'docplex.mp.constr.LinearConstraint'> (status code: ConflictStatus.Member): 0.066x_0-22.705x_1-2.474x_2-17.264x_3+19.659x_4+300b_7-2.040 >= r\n",
      "\t<class 'docplex.mp.constr.LinearConstraint'> (status code: ConflictStatus.Member): -0.066x_0+22.705x_1+2.474x_2+17.264x_3-19.659x_4-300b_7+302.040 >= r\n",
      "No solution found\n"
     ]
    },
    {
     "name": "stderr",
     "output_type": "stream",
     "text": [
      "/home/artem/.conda/envs/ica_new/lib/python3.6/site-packages/docplex/mp/model.py:3278: UserWarning: Unknown quick-setting in Context: display, value: True\n",
      "  context.update_key_value(argname, argval)\n"
     ]
    },
    {
     "name": "stdout",
     "output_type": "stream",
     "text": [
      "show some of the constraints that can be removed to arrive at a minimal conflict\n",
      "Initial y\n",
      "10\n",
      "Intercept\n",
      "23.040211159101823\n",
      "Conflict set:\n",
      "\t<class 'docplex.mp.constr.LinearConstraint'> (status code: ConflictStatus.Member): 0.066x_0-22.705x_1-2.474x_2-17.264x_3+19.659x_4-13.040 <= r\n",
      "\t<class 'docplex.mp.constr.LinearConstraint'> (status code: ConflictStatus.Member): -0.066x_0+22.705x_1+2.474x_2+17.264x_3-19.659x_4+13.040 <= r\n",
      "\t<class 'docplex.mp.constr.LinearConstraint'> (status code: ConflictStatus.Member): 0.066x_0-22.705x_1-2.474x_2-17.264x_3+19.659x_4+300b_5-14.040 >= r\n",
      "\t<class 'docplex.mp.constr.LinearConstraint'> (status code: ConflictStatus.Member): -0.066x_0+22.705x_1+2.474x_2+17.264x_3-19.659x_4-300b_5+314.040 >= r\n",
      "\t<class 'docplex.mp.constr.LinearConstraint'> (status code: ConflictStatus.Member): 0.066x_0-22.705x_1-2.474x_2-17.264x_3+19.659x_4+300b_7-2.040 >= r\n",
      "\t<class 'docplex.mp.constr.LinearConstraint'> (status code: ConflictStatus.Member): -0.066x_0+22.705x_1+2.474x_2+17.264x_3-19.659x_4-300b_7+302.040 >= r\n",
      "No solution found\n"
     ]
    },
    {
     "name": "stderr",
     "output_type": "stream",
     "text": [
      "/home/artem/.conda/envs/ica_new/lib/python3.6/site-packages/docplex/mp/model.py:3278: UserWarning: Unknown quick-setting in Context: display, value: True\n",
      "  context.update_key_value(argname, argval)\n"
     ]
    },
    {
     "name": "stdout",
     "output_type": "stream",
     "text": [
      "show some of the constraints that can be removed to arrive at a minimal conflict\n",
      "Initial y\n",
      "10\n",
      "Intercept\n",
      "23.040211159101823\n",
      "Conflict set:\n",
      "\t<class 'docplex.mp.constr.LinearConstraint'> (status code: ConflictStatus.Member): 0.066x_0-22.705x_1-2.474x_2-17.264x_3+19.659x_4-13.040 <= r\n",
      "\t<class 'docplex.mp.constr.LinearConstraint'> (status code: ConflictStatus.Member): -0.066x_0+22.705x_1+2.474x_2+17.264x_3-19.659x_4+13.040 <= r\n",
      "\t<class 'docplex.mp.constr.LinearConstraint'> (status code: ConflictStatus.Member): 0.066x_0-22.705x_1-2.474x_2-17.264x_3+19.659x_4+300b_5-14.040 >= r\n",
      "\t<class 'docplex.mp.constr.LinearConstraint'> (status code: ConflictStatus.Member): -0.066x_0+22.705x_1+2.474x_2+17.264x_3-19.659x_4-300b_5+314.040 >= r\n",
      "\t<class 'docplex.mp.constr.LinearConstraint'> (status code: ConflictStatus.Member): 0.066x_0-22.705x_1-2.474x_2-17.264x_3+19.659x_4+300b_7-2.040 >= r\n",
      "\t<class 'docplex.mp.constr.LinearConstraint'> (status code: ConflictStatus.Member): -0.066x_0+22.705x_1+2.474x_2+17.264x_3-19.659x_4-300b_7+302.040 >= r\n",
      "No solution found\n"
     ]
    },
    {
     "name": "stderr",
     "output_type": "stream",
     "text": [
      "/home/artem/.conda/envs/ica_new/lib/python3.6/site-packages/docplex/mp/model.py:3278: UserWarning: Unknown quick-setting in Context: display, value: True\n",
      "  context.update_key_value(argname, argval)\n"
     ]
    },
    {
     "name": "stdout",
     "output_type": "stream",
     "text": [
      "show some of the constraints that can be removed to arrive at a minimal conflict\n",
      "Initial y\n",
      "10\n",
      "Intercept\n",
      "23.040211159101823\n",
      "Conflict set:\n",
      "\t<class 'docplex.mp.constr.LinearConstraint'> (status code: ConflictStatus.Member): 0.066x_0-22.705x_1-2.474x_2-17.264x_3+19.659x_4-13.040 <= r\n",
      "\t<class 'docplex.mp.constr.LinearConstraint'> (status code: ConflictStatus.Member): -0.066x_0+22.705x_1+2.474x_2+17.264x_3-19.659x_4+13.040 <= r\n",
      "\t<class 'docplex.mp.constr.LinearConstraint'> (status code: ConflictStatus.Member): 0.066x_0-22.705x_1-2.474x_2-17.264x_3+19.659x_4+300b_5-14.040 >= r\n",
      "\t<class 'docplex.mp.constr.LinearConstraint'> (status code: ConflictStatus.Member): -0.066x_0+22.705x_1+2.474x_2+17.264x_3-19.659x_4-300b_5+314.040 >= r\n",
      "\t<class 'docplex.mp.constr.LinearConstraint'> (status code: ConflictStatus.Member): 0.066x_0-22.705x_1-2.474x_2-17.264x_3+19.659x_4+300b_7-2.040 >= r\n",
      "\t<class 'docplex.mp.constr.LinearConstraint'> (status code: ConflictStatus.Member): -0.066x_0+22.705x_1+2.474x_2+17.264x_3-19.659x_4-300b_7+302.040 >= r\n",
      "No solution found\n"
     ]
    },
    {
     "name": "stderr",
     "output_type": "stream",
     "text": [
      "/home/artem/.conda/envs/ica_new/lib/python3.6/site-packages/docplex/mp/model.py:3278: UserWarning: Unknown quick-setting in Context: display, value: True\n",
      "  context.update_key_value(argname, argval)\n"
     ]
    },
    {
     "name": "stdout",
     "output_type": "stream",
     "text": [
      "show some of the constraints that can be removed to arrive at a minimal conflict\n",
      "Initial y\n",
      "10\n",
      "Intercept\n",
      "23.040211159101823\n",
      "Conflict set:\n",
      "\t<class 'docplex.mp.constr.LinearConstraint'> (status code: ConflictStatus.Member): 0.066x_0-22.705x_1-2.474x_2-17.264x_3+19.659x_4-13.040 <= r\n",
      "\t<class 'docplex.mp.constr.LinearConstraint'> (status code: ConflictStatus.Member): -0.066x_0+22.705x_1+2.474x_2+17.264x_3-19.659x_4+13.040 <= r\n",
      "\t<class 'docplex.mp.constr.LinearConstraint'> (status code: ConflictStatus.Member): 0.066x_0-22.705x_1-2.474x_2-17.264x_3+19.659x_4+300b_5-14.040 >= r\n",
      "\t<class 'docplex.mp.constr.LinearConstraint'> (status code: ConflictStatus.Member): -0.066x_0+22.705x_1+2.474x_2+17.264x_3-19.659x_4-300b_5+314.040 >= r\n",
      "\t<class 'docplex.mp.constr.LinearConstraint'> (status code: ConflictStatus.Member): 0.066x_0-22.705x_1-2.474x_2-17.264x_3+19.659x_4+300b_7-2.040 >= r\n",
      "\t<class 'docplex.mp.constr.LinearConstraint'> (status code: ConflictStatus.Member): -0.066x_0+22.705x_1+2.474x_2+17.264x_3-19.659x_4-300b_7+302.040 >= r\n",
      "No solution found\n"
     ]
    },
    {
     "name": "stderr",
     "output_type": "stream",
     "text": [
      "/home/artem/.conda/envs/ica_new/lib/python3.6/site-packages/docplex/mp/model.py:3278: UserWarning: Unknown quick-setting in Context: display, value: True\n",
      "  context.update_key_value(argname, argval)\n"
     ]
    },
    {
     "name": "stdout",
     "output_type": "stream",
     "text": [
      "show some of the constraints that can be removed to arrive at a minimal conflict\n",
      "Initial y\n",
      "10\n",
      "Intercept\n",
      "23.040211159101823\n",
      "Conflict set:\n",
      "\t<class 'docplex.mp.constr.LinearConstraint'> (status code: ConflictStatus.Member): 0.066x_0-22.705x_1-2.474x_2-17.264x_3+19.659x_4-13.040 <= r\n",
      "\t<class 'docplex.mp.constr.LinearConstraint'> (status code: ConflictStatus.Member): -0.066x_0+22.705x_1+2.474x_2+17.264x_3-19.659x_4+13.040 <= r\n",
      "\t<class 'docplex.mp.constr.LinearConstraint'> (status code: ConflictStatus.Member): 0.066x_0-22.705x_1-2.474x_2-17.264x_3+19.659x_4+300b_5-14.040 >= r\n",
      "\t<class 'docplex.mp.constr.LinearConstraint'> (status code: ConflictStatus.Member): -0.066x_0+22.705x_1+2.474x_2+17.264x_3-19.659x_4-300b_5+314.040 >= r\n",
      "\t<class 'docplex.mp.constr.LinearConstraint'> (status code: ConflictStatus.Member): 0.066x_0-22.705x_1-2.474x_2-17.264x_3+19.659x_4+300b_7-2.040 >= r\n",
      "\t<class 'docplex.mp.constr.LinearConstraint'> (status code: ConflictStatus.Member): -0.066x_0+22.705x_1+2.474x_2+17.264x_3-19.659x_4-300b_7+302.040 >= r\n",
      "No solution found\n"
     ]
    },
    {
     "name": "stderr",
     "output_type": "stream",
     "text": [
      "/home/artem/.conda/envs/ica_new/lib/python3.6/site-packages/docplex/mp/model.py:3278: UserWarning: Unknown quick-setting in Context: display, value: True\n",
      "  context.update_key_value(argname, argval)\n"
     ]
    },
    {
     "name": "stdout",
     "output_type": "stream",
     "text": [
      "show some of the constraints that can be removed to arrive at a minimal conflict\n",
      "Initial y\n",
      "10\n",
      "Intercept\n",
      "23.040211159101823\n",
      "Conflict set:\n",
      "\t<class 'docplex.mp.constr.LinearConstraint'> (status code: ConflictStatus.Member): 0.066x_0-22.705x_1-2.474x_2-17.264x_3+19.659x_4-13.040 <= r\n",
      "\t<class 'docplex.mp.constr.LinearConstraint'> (status code: ConflictStatus.Member): -0.066x_0+22.705x_1+2.474x_2+17.264x_3-19.659x_4+13.040 <= r\n",
      "\t<class 'docplex.mp.constr.LinearConstraint'> (status code: ConflictStatus.Member): 0.066x_0-22.705x_1-2.474x_2-17.264x_3+19.659x_4+300b_5-14.040 >= r\n",
      "\t<class 'docplex.mp.constr.LinearConstraint'> (status code: ConflictStatus.Member): -0.066x_0+22.705x_1+2.474x_2+17.264x_3-19.659x_4-300b_5+314.040 >= r\n",
      "\t<class 'docplex.mp.constr.LinearConstraint'> (status code: ConflictStatus.Member): 0.066x_0-22.705x_1-2.474x_2-17.264x_3+19.659x_4+300b_7-2.040 >= r\n",
      "\t<class 'docplex.mp.constr.LinearConstraint'> (status code: ConflictStatus.Member): -0.066x_0+22.705x_1+2.474x_2+17.264x_3-19.659x_4-300b_7+302.040 >= r\n",
      "No solution found\n"
     ]
    },
    {
     "name": "stderr",
     "output_type": "stream",
     "text": [
      "/home/artem/.conda/envs/ica_new/lib/python3.6/site-packages/docplex/mp/model.py:3278: UserWarning: Unknown quick-setting in Context: display, value: True\n",
      "  context.update_key_value(argname, argval)\n"
     ]
    },
    {
     "name": "stdout",
     "output_type": "stream",
     "text": [
      "show some of the constraints that can be removed to arrive at a minimal conflict\n",
      "Initial y\n",
      "10\n",
      "Intercept\n",
      "23.040211159101823\n",
      "Conflict set:\n",
      "\t<class 'docplex.mp.constr.LinearConstraint'> (status code: ConflictStatus.Member): 0.066x_0-22.705x_1-2.474x_2-17.264x_3+19.659x_4-13.040 <= r\n",
      "\t<class 'docplex.mp.constr.LinearConstraint'> (status code: ConflictStatus.Member): -0.066x_0+22.705x_1+2.474x_2+17.264x_3-19.659x_4+13.040 <= r\n",
      "\t<class 'docplex.mp.constr.LinearConstraint'> (status code: ConflictStatus.Member): 0.066x_0-22.705x_1-2.474x_2-17.264x_3+19.659x_4+300b_5-14.040 >= r\n",
      "\t<class 'docplex.mp.constr.LinearConstraint'> (status code: ConflictStatus.Member): -0.066x_0+22.705x_1+2.474x_2+17.264x_3-19.659x_4-300b_5+314.040 >= r\n",
      "\t<class 'docplex.mp.constr.LinearConstraint'> (status code: ConflictStatus.Member): 0.066x_0-22.705x_1-2.474x_2-17.264x_3+19.659x_4+300b_7-2.040 >= r\n",
      "\t<class 'docplex.mp.constr.LinearConstraint'> (status code: ConflictStatus.Member): -0.066x_0+22.705x_1+2.474x_2+17.264x_3-19.659x_4-300b_7+302.040 >= r\n",
      "No solution found\n"
     ]
    },
    {
     "name": "stderr",
     "output_type": "stream",
     "text": [
      "/home/artem/.conda/envs/ica_new/lib/python3.6/site-packages/docplex/mp/model.py:3278: UserWarning: Unknown quick-setting in Context: display, value: True\n",
      "  context.update_key_value(argname, argval)\n"
     ]
    },
    {
     "name": "stdout",
     "output_type": "stream",
     "text": [
      "show some of the constraints that can be removed to arrive at a minimal conflict\n",
      "Initial y\n",
      "10\n",
      "Intercept\n",
      "23.040211159101823\n",
      "Conflict set:\n",
      "\t<class 'docplex.mp.constr.LinearConstraint'> (status code: ConflictStatus.Member): 0.066x_0-22.705x_1-2.474x_2-17.264x_3+19.659x_4-13.040 <= r\n",
      "\t<class 'docplex.mp.constr.LinearConstraint'> (status code: ConflictStatus.Member): -0.066x_0+22.705x_1+2.474x_2+17.264x_3-19.659x_4+13.040 <= r\n",
      "\t<class 'docplex.mp.constr.LinearConstraint'> (status code: ConflictStatus.Member): 0.066x_0-22.705x_1-2.474x_2-17.264x_3+19.659x_4+300b_5-14.040 >= r\n",
      "\t<class 'docplex.mp.constr.LinearConstraint'> (status code: ConflictStatus.Member): -0.066x_0+22.705x_1+2.474x_2+17.264x_3-19.659x_4-300b_5+314.040 >= r\n",
      "\t<class 'docplex.mp.constr.LinearConstraint'> (status code: ConflictStatus.Member): 0.066x_0-22.705x_1-2.474x_2-17.264x_3+19.659x_4+300b_7-2.040 >= r\n",
      "\t<class 'docplex.mp.constr.LinearConstraint'> (status code: ConflictStatus.Member): -0.066x_0+22.705x_1+2.474x_2+17.264x_3-19.659x_4-300b_7+302.040 >= r\n",
      "No solution found\n",
      "[ -0.69323139  19.57690021   0.92423841  19.54402202 -20.68570462]\n",
      "24.27052486213107\n"
     ]
    },
    {
     "name": "stderr",
     "output_type": "stream",
     "text": [
      "/home/artem/.conda/envs/ica_new/lib/python3.6/site-packages/docplex/mp/model.py:3278: UserWarning: Unknown quick-setting in Context: display, value: True\n",
      "  context.update_key_value(argname, argval)\n"
     ]
    },
    {
     "name": "stdout",
     "output_type": "stream",
     "text": [
      "JobSolveStatus.OPTIMAL_SOLUTION\n",
      "show some of the constraints that can be removed to arrive at a minimal conflict\n"
     ]
    },
    {
     "name": "stderr",
     "output_type": "stream",
     "text": [
      "/home/artem/.conda/envs/ica_new/lib/python3.6/site-packages/docplex/mp/model.py:3278: UserWarning: Unknown quick-setting in Context: display, value: True\n",
      "  context.update_key_value(argname, argval)\n"
     ]
    },
    {
     "name": "stdout",
     "output_type": "stream",
     "text": [
      "Initial y\n",
      "47\n",
      "Intercept\n",
      "24.27052486213107\n",
      "Conflict set:\n",
      "\t<class 'docplex.mp.constr.LinearConstraint'> (status code: ConflictStatus.Member): 0.693x_0-19.577x_1-0.924x_2-19.544x_3+20.686x_4+22.729 <= r\n",
      "\t<class 'docplex.mp.constr.LinearConstraint'> (status code: ConflictStatus.Member): -0.693x_0+19.577x_1+0.924x_2+19.544x_3-20.686x_4-22.729 <= r\n",
      "\t<class 'docplex.mp.constr.LinearConstraint'> (status code: ConflictStatus.Member): 0.693x_0-19.577x_1-0.924x_2-19.544x_3+20.686x_4+300b_0+19.729 >= r\n",
      "\t<class 'docplex.mp.constr.LinearConstraint'> (status code: ConflictStatus.Member): -0.693x_0+19.577x_1+0.924x_2+19.544x_3-20.686x_4-300b_0+280.271 >= r\n",
      "\t<class 'docplex.mp.constr.LinearConstraint'> (status code: ConflictStatus.Member): 0.693x_0-19.577x_1-0.924x_2-19.544x_3+20.686x_4+300b_2+39.729 >= r\n",
      "\t<class 'docplex.mp.constr.LinearConstraint'> (status code: ConflictStatus.Member): -0.693x_0+19.577x_1+0.924x_2+19.544x_3-20.686x_4-300b_2+260.271 >= r\n",
      "No solution found\n",
      "JobSolveStatus.OPTIMAL_SOLUTION\n",
      "show some of the constraints that can be removed to arrive at a minimal conflict\n",
      "Initial y\n",
      "67\n",
      "Intercept\n",
      "24.27052486213107\n",
      "Conflict set:\n",
      "\t<class 'docplex.mp.constr.LinearConstraint'> (status code: ConflictStatus.Member): 0.693x_0-19.577x_1-0.924x_2-19.544x_3+20.686x_4+42.729 <= r\n",
      "\t<class 'docplex.mp.constr.LinearConstraint'> (status code: ConflictStatus.Member): 0.693x_0-19.577x_1-0.924x_2-19.544x_3+20.686x_4+300b_2+39.729 >= r\n",
      "\t<class 'docplex.mp.constr.LinearConstraint'> (status code: ConflictStatus.Member): -0.693x_0+19.577x_1+0.924x_2+19.544x_3-20.686x_4-300b_2+260.271 >= r\n",
      "No solution found\n"
     ]
    },
    {
     "name": "stderr",
     "output_type": "stream",
     "text": [
      "/home/artem/.conda/envs/ica_new/lib/python3.6/site-packages/docplex/mp/model.py:3278: UserWarning: Unknown quick-setting in Context: display, value: True\n",
      "  context.update_key_value(argname, argval)\n"
     ]
    },
    {
     "name": "stdout",
     "output_type": "stream",
     "text": [
      "show some of the constraints that can be removed to arrive at a minimal conflict\n",
      "Initial y\n",
      "67\n",
      "Intercept\n",
      "24.27052486213107\n",
      "Conflict set:\n",
      "\t<class 'docplex.mp.constr.LinearConstraint'> (status code: ConflictStatus.Member): 0.693x_0-19.577x_1-0.924x_2-19.544x_3+20.686x_4+42.729 <= r\n",
      "\t<class 'docplex.mp.constr.LinearConstraint'> (status code: ConflictStatus.Member): 0.693x_0-19.577x_1-0.924x_2-19.544x_3+20.686x_4+300b_2+39.729 >= r\n",
      "\t<class 'docplex.mp.constr.LinearConstraint'> (status code: ConflictStatus.Member): -0.693x_0+19.577x_1+0.924x_2+19.544x_3-20.686x_4-300b_2+260.271 >= r\n",
      "No solution found\n"
     ]
    },
    {
     "name": "stderr",
     "output_type": "stream",
     "text": [
      "/home/artem/.conda/envs/ica_new/lib/python3.6/site-packages/docplex/mp/model.py:3278: UserWarning: Unknown quick-setting in Context: display, value: True\n",
      "  context.update_key_value(argname, argval)\n"
     ]
    },
    {
     "name": "stdout",
     "output_type": "stream",
     "text": [
      "JobSolveStatus.OPTIMAL_SOLUTION\n",
      "show some of the constraints that can be removed to arrive at a minimal conflict\n"
     ]
    },
    {
     "name": "stderr",
     "output_type": "stream",
     "text": [
      "/home/artem/.conda/envs/ica_new/lib/python3.6/site-packages/docplex/mp/model.py:3278: UserWarning: Unknown quick-setting in Context: display, value: True\n",
      "  context.update_key_value(argname, argval)\n"
     ]
    },
    {
     "name": "stdout",
     "output_type": "stream",
     "text": [
      "Initial y\n",
      "83\n",
      "Intercept\n",
      "24.27052486213107\n",
      "Conflict set:\n",
      "\t<class 'docplex.mp.constr.LinearConstraint'> (status code: ConflictStatus.Member): 0.693x_0-19.577x_1-0.924x_2-19.544x_3+20.686x_4+58.729 <= r\n",
      "\t<class 'docplex.mp.constr.LinearConstraint'> (status code: ConflictStatus.Member): 0.693x_0-19.577x_1-0.924x_2-19.544x_3+20.686x_4+300b_1+22.729 >= r\n",
      "\t<class 'docplex.mp.constr.LinearConstraint'> (status code: ConflictStatus.Member): -0.693x_0+19.577x_1+0.924x_2+19.544x_3-20.686x_4-300b_1+277.271 >= r\n",
      "No solution found\n",
      "JobSolveStatus.OPTIMAL_SOLUTION\n",
      "No solution found\n",
      "show some of the constraints that can be removed to arrive at a minimal conflict\n",
      "Initial y\n",
      "87\n",
      "Intercept\n",
      "24.27052486213107\n",
      "Conflict set:\n",
      "\t<class 'docplex.mp.constr.LinearConstraint'> (status code: ConflictStatus.Member): 0.693x_0-19.577x_1-0.924x_2-19.544x_3+20.686x_4+62.729 <= r\n",
      "\t<class 'docplex.mp.constr.LinearConstraint'> (status code: ConflictStatus.Member): 0.693x_0-19.577x_1-0.924x_2-19.544x_3+20.686x_4+300b_0+19.729 >= r\n",
      "\t<class 'docplex.mp.constr.LinearConstraint'> (status code: ConflictStatus.Member): -0.693x_0+19.577x_1+0.924x_2+19.544x_3-20.686x_4-300b_0+280.271 >= r\n",
      "No solution found\n"
     ]
    },
    {
     "name": "stderr",
     "output_type": "stream",
     "text": [
      "/home/artem/.conda/envs/ica_new/lib/python3.6/site-packages/docplex/mp/model.py:3278: UserWarning: Unknown quick-setting in Context: display, value: True\n",
      "  context.update_key_value(argname, argval)\n"
     ]
    },
    {
     "name": "stdout",
     "output_type": "stream",
     "text": [
      "show some of the constraints that can be removed to arrive at a minimal conflict\n",
      "Initial y\n",
      "10\n",
      "Intercept\n",
      "24.27052486213107\n",
      "Conflict set:\n",
      "\t<class 'docplex.mp.constr.LinearConstraint'> (status code: ConflictStatus.Member): 0.693x_0-19.577x_1-0.924x_2-19.544x_3+20.686x_4-14.271 <= r\n",
      "\t<class 'docplex.mp.constr.LinearConstraint'> (status code: ConflictStatus.Member): -0.693x_0+19.577x_1+0.924x_2+19.544x_3-20.686x_4+14.271 <= r\n",
      "\t<class 'docplex.mp.constr.LinearConstraint'> (status code: ConflictStatus.Member): 0.693x_0-19.577x_1-0.924x_2-19.544x_3+20.686x_4+300b_5-15.271 >= r\n",
      "\t<class 'docplex.mp.constr.LinearConstraint'> (status code: ConflictStatus.Member): -0.693x_0+19.577x_1+0.924x_2+19.544x_3-20.686x_4-300b_5+315.271 >= r\n",
      "\t<class 'docplex.mp.constr.LinearConstraint'> (status code: ConflictStatus.Member): 0.693x_0-19.577x_1-0.924x_2-19.544x_3+20.686x_4+300b_7-3.271 >= r\n",
      "\t<class 'docplex.mp.constr.LinearConstraint'> (status code: ConflictStatus.Member): -0.693x_0+19.577x_1+0.924x_2+19.544x_3-20.686x_4-300b_7+303.271 >= r\n",
      "No solution found\n"
     ]
    },
    {
     "name": "stderr",
     "output_type": "stream",
     "text": [
      "/home/artem/.conda/envs/ica_new/lib/python3.6/site-packages/docplex/mp/model.py:3278: UserWarning: Unknown quick-setting in Context: display, value: True\n",
      "  context.update_key_value(argname, argval)\n"
     ]
    },
    {
     "name": "stdout",
     "output_type": "stream",
     "text": [
      "show some of the constraints that can be removed to arrive at a minimal conflict\n"
     ]
    },
    {
     "name": "stderr",
     "output_type": "stream",
     "text": [
      "/home/artem/.conda/envs/ica_new/lib/python3.6/site-packages/docplex/mp/model.py:3278: UserWarning: Unknown quick-setting in Context: display, value: True\n",
      "  context.update_key_value(argname, argval)\n"
     ]
    },
    {
     "name": "stdout",
     "output_type": "stream",
     "text": [
      "Initial y\n",
      "10\n",
      "Intercept\n",
      "24.27052486213107\n",
      "Conflict set:\n",
      "\t<class 'docplex.mp.constr.LinearConstraint'> (status code: ConflictStatus.Member): 0.693x_0-19.577x_1-0.924x_2-19.544x_3+20.686x_4-14.271 <= r\n",
      "\t<class 'docplex.mp.constr.LinearConstraint'> (status code: ConflictStatus.Member): -0.693x_0+19.577x_1+0.924x_2+19.544x_3-20.686x_4+14.271 <= r\n",
      "\t<class 'docplex.mp.constr.LinearConstraint'> (status code: ConflictStatus.Member): 0.693x_0-19.577x_1-0.924x_2-19.544x_3+20.686x_4+300b_5-15.271 >= r\n",
      "\t<class 'docplex.mp.constr.LinearConstraint'> (status code: ConflictStatus.Member): -0.693x_0+19.577x_1+0.924x_2+19.544x_3-20.686x_4-300b_5+315.271 >= r\n",
      "\t<class 'docplex.mp.constr.LinearConstraint'> (status code: ConflictStatus.Member): 0.693x_0-19.577x_1-0.924x_2-19.544x_3+20.686x_4+300b_7-3.271 >= r\n",
      "\t<class 'docplex.mp.constr.LinearConstraint'> (status code: ConflictStatus.Member): -0.693x_0+19.577x_1+0.924x_2+19.544x_3-20.686x_4-300b_7+303.271 >= r\n",
      "No solution found\n",
      "show some of the constraints that can be removed to arrive at a minimal conflict\n"
     ]
    },
    {
     "name": "stderr",
     "output_type": "stream",
     "text": [
      "/home/artem/.conda/envs/ica_new/lib/python3.6/site-packages/docplex/mp/model.py:3278: UserWarning: Unknown quick-setting in Context: display, value: True\n",
      "  context.update_key_value(argname, argval)\n"
     ]
    },
    {
     "name": "stdout",
     "output_type": "stream",
     "text": [
      "Initial y\n",
      "10\n",
      "Intercept\n",
      "24.27052486213107\n",
      "Conflict set:\n",
      "\t<class 'docplex.mp.constr.LinearConstraint'> (status code: ConflictStatus.Member): 0.693x_0-19.577x_1-0.924x_2-19.544x_3+20.686x_4-14.271 <= r\n",
      "\t<class 'docplex.mp.constr.LinearConstraint'> (status code: ConflictStatus.Member): -0.693x_0+19.577x_1+0.924x_2+19.544x_3-20.686x_4+14.271 <= r\n",
      "\t<class 'docplex.mp.constr.LinearConstraint'> (status code: ConflictStatus.Member): 0.693x_0-19.577x_1-0.924x_2-19.544x_3+20.686x_4+300b_5-15.271 >= r\n",
      "\t<class 'docplex.mp.constr.LinearConstraint'> (status code: ConflictStatus.Member): -0.693x_0+19.577x_1+0.924x_2+19.544x_3-20.686x_4-300b_5+315.271 >= r\n",
      "\t<class 'docplex.mp.constr.LinearConstraint'> (status code: ConflictStatus.Member): 0.693x_0-19.577x_1-0.924x_2-19.544x_3+20.686x_4+300b_7-3.271 >= r\n",
      "\t<class 'docplex.mp.constr.LinearConstraint'> (status code: ConflictStatus.Member): -0.693x_0+19.577x_1+0.924x_2+19.544x_3-20.686x_4-300b_7+303.271 >= r\n",
      "No solution found\n",
      "show some of the constraints that can be removed to arrive at a minimal conflict\n"
     ]
    },
    {
     "name": "stderr",
     "output_type": "stream",
     "text": [
      "/home/artem/.conda/envs/ica_new/lib/python3.6/site-packages/docplex/mp/model.py:3278: UserWarning: Unknown quick-setting in Context: display, value: True\n",
      "  context.update_key_value(argname, argval)\n"
     ]
    },
    {
     "name": "stdout",
     "output_type": "stream",
     "text": [
      "Initial y\n",
      "10\n",
      "Intercept\n",
      "24.27052486213107\n",
      "Conflict set:\n",
      "\t<class 'docplex.mp.constr.LinearConstraint'> (status code: ConflictStatus.Member): 0.693x_0-19.577x_1-0.924x_2-19.544x_3+20.686x_4-14.271 <= r\n",
      "\t<class 'docplex.mp.constr.LinearConstraint'> (status code: ConflictStatus.Member): -0.693x_0+19.577x_1+0.924x_2+19.544x_3-20.686x_4+14.271 <= r\n",
      "\t<class 'docplex.mp.constr.LinearConstraint'> (status code: ConflictStatus.Member): 0.693x_0-19.577x_1-0.924x_2-19.544x_3+20.686x_4+300b_5-15.271 >= r\n",
      "\t<class 'docplex.mp.constr.LinearConstraint'> (status code: ConflictStatus.Member): -0.693x_0+19.577x_1+0.924x_2+19.544x_3-20.686x_4-300b_5+315.271 >= r\n",
      "\t<class 'docplex.mp.constr.LinearConstraint'> (status code: ConflictStatus.Member): 0.693x_0-19.577x_1-0.924x_2-19.544x_3+20.686x_4+300b_7-3.271 >= r\n",
      "\t<class 'docplex.mp.constr.LinearConstraint'> (status code: ConflictStatus.Member): -0.693x_0+19.577x_1+0.924x_2+19.544x_3-20.686x_4-300b_7+303.271 >= r\n",
      "No solution found\n",
      "show some of the constraints that can be removed to arrive at a minimal conflict\n",
      "Initial y\n",
      "10\n",
      "Intercept\n",
      "24.27052486213107\n",
      "Conflict set:\n",
      "\t<class 'docplex.mp.constr.LinearConstraint'> (status code: ConflictStatus.Member): 0.693x_0-19.577x_1-0.924x_2-19.544x_3+20.686x_4-14.271 <= r\n",
      "\t<class 'docplex.mp.constr.LinearConstraint'> (status code: ConflictStatus.Member): -0.693x_0+19.577x_1+0.924x_2+19.544x_3-20.686x_4+14.271 <= r\n",
      "\t<class 'docplex.mp.constr.LinearConstraint'> (status code: ConflictStatus.Member): 0.693x_0-19.577x_1-0.924x_2-19.544x_3+20.686x_4+300b_5-15.271 >= r\n",
      "\t<class 'docplex.mp.constr.LinearConstraint'> (status code: ConflictStatus.Member): -0.693x_0+19.577x_1+0.924x_2+19.544x_3-20.686x_4-300b_5+315.271 >= r\n",
      "\t<class 'docplex.mp.constr.LinearConstraint'> (status code: ConflictStatus.Member): 0.693x_0-19.577x_1-0.924x_2-19.544x_3+20.686x_4+300b_7-3.271 >= r\n",
      "\t<class 'docplex.mp.constr.LinearConstraint'> (status code: ConflictStatus.Member): -0.693x_0+19.577x_1+0.924x_2+19.544x_3-20.686x_4-300b_7+303.271 >= r\n",
      "No solution found\n"
     ]
    },
    {
     "name": "stderr",
     "output_type": "stream",
     "text": [
      "/home/artem/.conda/envs/ica_new/lib/python3.6/site-packages/docplex/mp/model.py:3278: UserWarning: Unknown quick-setting in Context: display, value: True\n",
      "  context.update_key_value(argname, argval)\n"
     ]
    },
    {
     "name": "stdout",
     "output_type": "stream",
     "text": [
      "show some of the constraints that can be removed to arrive at a minimal conflict\n",
      "Initial y\n",
      "10\n",
      "Intercept\n",
      "24.27052486213107\n",
      "Conflict set:\n",
      "\t<class 'docplex.mp.constr.LinearConstraint'> (status code: ConflictStatus.Member): 0.693x_0-19.577x_1-0.924x_2-19.544x_3+20.686x_4-14.271 <= r\n",
      "\t<class 'docplex.mp.constr.LinearConstraint'> (status code: ConflictStatus.Member): -0.693x_0+19.577x_1+0.924x_2+19.544x_3-20.686x_4+14.271 <= r\n",
      "\t<class 'docplex.mp.constr.LinearConstraint'> (status code: ConflictStatus.Member): 0.693x_0-19.577x_1-0.924x_2-19.544x_3+20.686x_4+300b_5-15.271 >= r\n",
      "\t<class 'docplex.mp.constr.LinearConstraint'> (status code: ConflictStatus.Member): -0.693x_0+19.577x_1+0.924x_2+19.544x_3-20.686x_4-300b_5+315.271 >= r\n",
      "\t<class 'docplex.mp.constr.LinearConstraint'> (status code: ConflictStatus.Member): 0.693x_0-19.577x_1-0.924x_2-19.544x_3+20.686x_4+300b_7-3.271 >= r\n",
      "\t<class 'docplex.mp.constr.LinearConstraint'> (status code: ConflictStatus.Member): -0.693x_0+19.577x_1+0.924x_2+19.544x_3-20.686x_4-300b_7+303.271 >= r\n",
      "No solution found\n"
     ]
    },
    {
     "name": "stderr",
     "output_type": "stream",
     "text": [
      "/home/artem/.conda/envs/ica_new/lib/python3.6/site-packages/docplex/mp/model.py:3278: UserWarning: Unknown quick-setting in Context: display, value: True\n",
      "  context.update_key_value(argname, argval)\n"
     ]
    },
    {
     "name": "stdout",
     "output_type": "stream",
     "text": [
      "show some of the constraints that can be removed to arrive at a minimal conflict\n",
      "Initial y\n",
      "10\n",
      "Intercept\n",
      "24.27052486213107\n",
      "Conflict set:\n",
      "\t<class 'docplex.mp.constr.LinearConstraint'> (status code: ConflictStatus.Member): 0.693x_0-19.577x_1-0.924x_2-19.544x_3+20.686x_4-14.271 <= r\n",
      "\t<class 'docplex.mp.constr.LinearConstraint'> (status code: ConflictStatus.Member): -0.693x_0+19.577x_1+0.924x_2+19.544x_3-20.686x_4+14.271 <= r\n",
      "\t<class 'docplex.mp.constr.LinearConstraint'> (status code: ConflictStatus.Member): 0.693x_0-19.577x_1-0.924x_2-19.544x_3+20.686x_4+300b_5-15.271 >= r\n",
      "\t<class 'docplex.mp.constr.LinearConstraint'> (status code: ConflictStatus.Member): -0.693x_0+19.577x_1+0.924x_2+19.544x_3-20.686x_4-300b_5+315.271 >= r\n",
      "\t<class 'docplex.mp.constr.LinearConstraint'> (status code: ConflictStatus.Member): 0.693x_0-19.577x_1-0.924x_2-19.544x_3+20.686x_4+300b_7-3.271 >= r\n",
      "\t<class 'docplex.mp.constr.LinearConstraint'> (status code: ConflictStatus.Member): -0.693x_0+19.577x_1+0.924x_2+19.544x_3-20.686x_4-300b_7+303.271 >= r\n",
      "No solution found\n"
     ]
    },
    {
     "name": "stderr",
     "output_type": "stream",
     "text": [
      "/home/artem/.conda/envs/ica_new/lib/python3.6/site-packages/docplex/mp/model.py:3278: UserWarning: Unknown quick-setting in Context: display, value: True\n",
      "  context.update_key_value(argname, argval)\n"
     ]
    },
    {
     "name": "stdout",
     "output_type": "stream",
     "text": [
      "show some of the constraints that can be removed to arrive at a minimal conflict\n"
     ]
    },
    {
     "name": "stderr",
     "output_type": "stream",
     "text": [
      "/home/artem/.conda/envs/ica_new/lib/python3.6/site-packages/docplex/mp/model.py:3278: UserWarning: Unknown quick-setting in Context: display, value: True\n",
      "  context.update_key_value(argname, argval)\n"
     ]
    },
    {
     "name": "stdout",
     "output_type": "stream",
     "text": [
      "Initial y\n",
      "10\n",
      "Intercept\n",
      "24.27052486213107\n",
      "Conflict set:\n",
      "\t<class 'docplex.mp.constr.LinearConstraint'> (status code: ConflictStatus.Member): 0.693x_0-19.577x_1-0.924x_2-19.544x_3+20.686x_4-14.271 <= r\n",
      "\t<class 'docplex.mp.constr.LinearConstraint'> (status code: ConflictStatus.Member): -0.693x_0+19.577x_1+0.924x_2+19.544x_3-20.686x_4+14.271 <= r\n",
      "\t<class 'docplex.mp.constr.LinearConstraint'> (status code: ConflictStatus.Member): 0.693x_0-19.577x_1-0.924x_2-19.544x_3+20.686x_4+300b_5-15.271 >= r\n",
      "\t<class 'docplex.mp.constr.LinearConstraint'> (status code: ConflictStatus.Member): -0.693x_0+19.577x_1+0.924x_2+19.544x_3-20.686x_4-300b_5+315.271 >= r\n",
      "\t<class 'docplex.mp.constr.LinearConstraint'> (status code: ConflictStatus.Member): 0.693x_0-19.577x_1-0.924x_2-19.544x_3+20.686x_4+300b_7-3.271 >= r\n",
      "\t<class 'docplex.mp.constr.LinearConstraint'> (status code: ConflictStatus.Member): -0.693x_0+19.577x_1+0.924x_2+19.544x_3-20.686x_4-300b_7+303.271 >= r\n",
      "No solution found\n",
      "show some of the constraints that can be removed to arrive at a minimal conflict\n"
     ]
    },
    {
     "name": "stderr",
     "output_type": "stream",
     "text": [
      "/home/artem/.conda/envs/ica_new/lib/python3.6/site-packages/docplex/mp/model.py:3278: UserWarning: Unknown quick-setting in Context: display, value: True\n",
      "  context.update_key_value(argname, argval)\n"
     ]
    },
    {
     "name": "stdout",
     "output_type": "stream",
     "text": [
      "Initial y\n",
      "10\n",
      "Intercept\n",
      "24.27052486213107\n",
      "Conflict set:\n",
      "\t<class 'docplex.mp.constr.LinearConstraint'> (status code: ConflictStatus.Member): 0.693x_0-19.577x_1-0.924x_2-19.544x_3+20.686x_4-14.271 <= r\n",
      "\t<class 'docplex.mp.constr.LinearConstraint'> (status code: ConflictStatus.Member): -0.693x_0+19.577x_1+0.924x_2+19.544x_3-20.686x_4+14.271 <= r\n",
      "\t<class 'docplex.mp.constr.LinearConstraint'> (status code: ConflictStatus.Member): 0.693x_0-19.577x_1-0.924x_2-19.544x_3+20.686x_4+300b_5-15.271 >= r\n",
      "\t<class 'docplex.mp.constr.LinearConstraint'> (status code: ConflictStatus.Member): -0.693x_0+19.577x_1+0.924x_2+19.544x_3-20.686x_4-300b_5+315.271 >= r\n",
      "\t<class 'docplex.mp.constr.LinearConstraint'> (status code: ConflictStatus.Member): 0.693x_0-19.577x_1-0.924x_2-19.544x_3+20.686x_4+300b_7-3.271 >= r\n",
      "\t<class 'docplex.mp.constr.LinearConstraint'> (status code: ConflictStatus.Member): -0.693x_0+19.577x_1+0.924x_2+19.544x_3-20.686x_4-300b_7+303.271 >= r\n",
      "No solution found\n",
      "show some of the constraints that can be removed to arrive at a minimal conflict\n"
     ]
    },
    {
     "name": "stderr",
     "output_type": "stream",
     "text": [
      "/home/artem/.conda/envs/ica_new/lib/python3.6/site-packages/docplex/mp/model.py:3278: UserWarning: Unknown quick-setting in Context: display, value: True\n",
      "  context.update_key_value(argname, argval)\n"
     ]
    },
    {
     "name": "stdout",
     "output_type": "stream",
     "text": [
      "Initial y\n",
      "10\n",
      "Intercept\n",
      "24.27052486213107\n",
      "Conflict set:\n",
      "\t<class 'docplex.mp.constr.LinearConstraint'> (status code: ConflictStatus.Member): 0.693x_0-19.577x_1-0.924x_2-19.544x_3+20.686x_4-14.271 <= r\n",
      "\t<class 'docplex.mp.constr.LinearConstraint'> (status code: ConflictStatus.Member): -0.693x_0+19.577x_1+0.924x_2+19.544x_3-20.686x_4+14.271 <= r\n",
      "\t<class 'docplex.mp.constr.LinearConstraint'> (status code: ConflictStatus.Member): 0.693x_0-19.577x_1-0.924x_2-19.544x_3+20.686x_4+300b_5-15.271 >= r\n",
      "\t<class 'docplex.mp.constr.LinearConstraint'> (status code: ConflictStatus.Member): -0.693x_0+19.577x_1+0.924x_2+19.544x_3-20.686x_4-300b_5+315.271 >= r\n",
      "\t<class 'docplex.mp.constr.LinearConstraint'> (status code: ConflictStatus.Member): 0.693x_0-19.577x_1-0.924x_2-19.544x_3+20.686x_4+300b_7-3.271 >= r\n",
      "\t<class 'docplex.mp.constr.LinearConstraint'> (status code: ConflictStatus.Member): -0.693x_0+19.577x_1+0.924x_2+19.544x_3-20.686x_4-300b_7+303.271 >= r\n",
      "No solution found\n",
      "show some of the constraints that can be removed to arrive at a minimal conflict\n"
     ]
    },
    {
     "name": "stderr",
     "output_type": "stream",
     "text": [
      "/home/artem/.conda/envs/ica_new/lib/python3.6/site-packages/docplex/mp/model.py:3278: UserWarning: Unknown quick-setting in Context: display, value: True\n",
      "  context.update_key_value(argname, argval)\n"
     ]
    },
    {
     "name": "stdout",
     "output_type": "stream",
     "text": [
      "Initial y\n",
      "10\n",
      "Intercept\n",
      "24.27052486213107\n",
      "Conflict set:\n",
      "\t<class 'docplex.mp.constr.LinearConstraint'> (status code: ConflictStatus.Member): 0.693x_0-19.577x_1-0.924x_2-19.544x_3+20.686x_4-14.271 <= r\n",
      "\t<class 'docplex.mp.constr.LinearConstraint'> (status code: ConflictStatus.Member): -0.693x_0+19.577x_1+0.924x_2+19.544x_3-20.686x_4+14.271 <= r\n",
      "\t<class 'docplex.mp.constr.LinearConstraint'> (status code: ConflictStatus.Member): 0.693x_0-19.577x_1-0.924x_2-19.544x_3+20.686x_4+300b_5-15.271 >= r\n",
      "\t<class 'docplex.mp.constr.LinearConstraint'> (status code: ConflictStatus.Member): -0.693x_0+19.577x_1+0.924x_2+19.544x_3-20.686x_4-300b_5+315.271 >= r\n",
      "\t<class 'docplex.mp.constr.LinearConstraint'> (status code: ConflictStatus.Member): 0.693x_0-19.577x_1-0.924x_2-19.544x_3+20.686x_4+300b_7-3.271 >= r\n",
      "\t<class 'docplex.mp.constr.LinearConstraint'> (status code: ConflictStatus.Member): -0.693x_0+19.577x_1+0.924x_2+19.544x_3-20.686x_4-300b_7+303.271 >= r\n",
      "No solution found\n",
      "show some of the constraints that can be removed to arrive at a minimal conflict\n"
     ]
    },
    {
     "name": "stderr",
     "output_type": "stream",
     "text": [
      "/home/artem/.conda/envs/ica_new/lib/python3.6/site-packages/docplex/mp/model.py:3278: UserWarning: Unknown quick-setting in Context: display, value: True\n",
      "  context.update_key_value(argname, argval)\n"
     ]
    },
    {
     "name": "stdout",
     "output_type": "stream",
     "text": [
      "Initial y\n",
      "10\n",
      "Intercept\n",
      "24.27052486213107\n",
      "Conflict set:\n",
      "\t<class 'docplex.mp.constr.LinearConstraint'> (status code: ConflictStatus.Member): 0.693x_0-19.577x_1-0.924x_2-19.544x_3+20.686x_4-14.271 <= r\n",
      "\t<class 'docplex.mp.constr.LinearConstraint'> (status code: ConflictStatus.Member): -0.693x_0+19.577x_1+0.924x_2+19.544x_3-20.686x_4+14.271 <= r\n",
      "\t<class 'docplex.mp.constr.LinearConstraint'> (status code: ConflictStatus.Member): 0.693x_0-19.577x_1-0.924x_2-19.544x_3+20.686x_4+300b_5-15.271 >= r\n",
      "\t<class 'docplex.mp.constr.LinearConstraint'> (status code: ConflictStatus.Member): -0.693x_0+19.577x_1+0.924x_2+19.544x_3-20.686x_4-300b_5+315.271 >= r\n",
      "\t<class 'docplex.mp.constr.LinearConstraint'> (status code: ConflictStatus.Member): 0.693x_0-19.577x_1-0.924x_2-19.544x_3+20.686x_4+300b_7-3.271 >= r\n",
      "\t<class 'docplex.mp.constr.LinearConstraint'> (status code: ConflictStatus.Member): -0.693x_0+19.577x_1+0.924x_2+19.544x_3-20.686x_4-300b_7+303.271 >= r\n",
      "No solution found\n",
      "show some of the constraints that can be removed to arrive at a minimal conflict\n"
     ]
    },
    {
     "name": "stderr",
     "output_type": "stream",
     "text": [
      "/home/artem/.conda/envs/ica_new/lib/python3.6/site-packages/docplex/mp/model.py:3278: UserWarning: Unknown quick-setting in Context: display, value: True\n",
      "  context.update_key_value(argname, argval)\n"
     ]
    },
    {
     "name": "stdout",
     "output_type": "stream",
     "text": [
      "Initial y\n",
      "10\n",
      "Intercept\n",
      "24.27052486213107\n",
      "Conflict set:\n",
      "\t<class 'docplex.mp.constr.LinearConstraint'> (status code: ConflictStatus.Member): 0.693x_0-19.577x_1-0.924x_2-19.544x_3+20.686x_4-14.271 <= r\n",
      "\t<class 'docplex.mp.constr.LinearConstraint'> (status code: ConflictStatus.Member): -0.693x_0+19.577x_1+0.924x_2+19.544x_3-20.686x_4+14.271 <= r\n",
      "\t<class 'docplex.mp.constr.LinearConstraint'> (status code: ConflictStatus.Member): 0.693x_0-19.577x_1-0.924x_2-19.544x_3+20.686x_4+300b_5-15.271 >= r\n",
      "\t<class 'docplex.mp.constr.LinearConstraint'> (status code: ConflictStatus.Member): -0.693x_0+19.577x_1+0.924x_2+19.544x_3-20.686x_4-300b_5+315.271 >= r\n",
      "\t<class 'docplex.mp.constr.LinearConstraint'> (status code: ConflictStatus.Member): 0.693x_0-19.577x_1-0.924x_2-19.544x_3+20.686x_4+300b_7-3.271 >= r\n",
      "\t<class 'docplex.mp.constr.LinearConstraint'> (status code: ConflictStatus.Member): -0.693x_0+19.577x_1+0.924x_2+19.544x_3-20.686x_4-300b_7+303.271 >= r\n",
      "No solution found\n",
      "show some of the constraints that can be removed to arrive at a minimal conflict\n"
     ]
    },
    {
     "name": "stderr",
     "output_type": "stream",
     "text": [
      "/home/artem/.conda/envs/ica_new/lib/python3.6/site-packages/docplex/mp/model.py:3278: UserWarning: Unknown quick-setting in Context: display, value: True\n",
      "  context.update_key_value(argname, argval)\n"
     ]
    },
    {
     "name": "stdout",
     "output_type": "stream",
     "text": [
      "Initial y\n",
      "10\n",
      "Intercept\n",
      "24.27052486213107\n",
      "Conflict set:\n",
      "\t<class 'docplex.mp.constr.LinearConstraint'> (status code: ConflictStatus.Member): 0.693x_0-19.577x_1-0.924x_2-19.544x_3+20.686x_4-14.271 <= r\n",
      "\t<class 'docplex.mp.constr.LinearConstraint'> (status code: ConflictStatus.Member): -0.693x_0+19.577x_1+0.924x_2+19.544x_3-20.686x_4+14.271 <= r\n",
      "\t<class 'docplex.mp.constr.LinearConstraint'> (status code: ConflictStatus.Member): 0.693x_0-19.577x_1-0.924x_2-19.544x_3+20.686x_4+300b_5-15.271 >= r\n",
      "\t<class 'docplex.mp.constr.LinearConstraint'> (status code: ConflictStatus.Member): -0.693x_0+19.577x_1+0.924x_2+19.544x_3-20.686x_4-300b_5+315.271 >= r\n",
      "\t<class 'docplex.mp.constr.LinearConstraint'> (status code: ConflictStatus.Member): 0.693x_0-19.577x_1-0.924x_2-19.544x_3+20.686x_4+300b_7-3.271 >= r\n",
      "\t<class 'docplex.mp.constr.LinearConstraint'> (status code: ConflictStatus.Member): -0.693x_0+19.577x_1+0.924x_2+19.544x_3-20.686x_4-300b_7+303.271 >= r\n",
      "No solution found\n",
      "[  0.04368755  19.14612355   0.04510977  19.30450004 -20.20702356]\n",
      "24.494493472394424\n",
      "JobSolveStatus.OPTIMAL_SOLUTION\n",
      "show some of the constraints that can be removed to arrive at a minimal conflict\n"
     ]
    },
    {
     "name": "stderr",
     "output_type": "stream",
     "text": [
      "/home/artem/.conda/envs/ica_new/lib/python3.6/site-packages/docplex/mp/model.py:3278: UserWarning: Unknown quick-setting in Context: display, value: True\n",
      "  context.update_key_value(argname, argval)\n"
     ]
    },
    {
     "name": "stdout",
     "output_type": "stream",
     "text": [
      "Initial y\n",
      "47\n",
      "Intercept\n",
      "24.494493472394424\n",
      "Conflict set:\n",
      "\t<class 'docplex.mp.constr.LinearConstraint'> (status code: ConflictStatus.Member): -0.044x_0-19.146x_1-0.045x_2-19.305x_3+20.207x_4+22.506 <= r\n",
      "\t<class 'docplex.mp.constr.LinearConstraint'> (status code: ConflictStatus.Member): 0.044x_0+19.146x_1+0.045x_2+19.305x_3-20.207x_4-22.506 <= r\n",
      "\t<class 'docplex.mp.constr.LinearConstraint'> (status code: ConflictStatus.Member): -0.044x_0-19.146x_1-0.045x_2-19.305x_3+20.207x_4+300b_0+19.506 >= r\n",
      "\t<class 'docplex.mp.constr.LinearConstraint'> (status code: ConflictStatus.Member): 0.044x_0+19.146x_1+0.045x_2+19.305x_3-20.207x_4-300b_0+280.494 >= r\n",
      "\t<class 'docplex.mp.constr.LinearConstraint'> (status code: ConflictStatus.Member): -0.044x_0-19.146x_1-0.045x_2-19.305x_3+20.207x_4+300b_2+39.506 >= r\n",
      "\t<class 'docplex.mp.constr.LinearConstraint'> (status code: ConflictStatus.Member): 0.044x_0+19.146x_1+0.045x_2+19.305x_3-20.207x_4-300b_2+260.494 >= r\n",
      "No solution found\n",
      "JobSolveStatus.OPTIMAL_SOLUTION\n",
      "show some of the constraints that can be removed to arrive at a minimal conflict\n",
      "Initial y\n",
      "67\n",
      "Intercept\n",
      "24.494493472394424\n",
      "Conflict set:\n",
      "\t<class 'docplex.mp.constr.LinearConstraint'> (status code: ConflictStatus.Member): -0.044x_0-19.146x_1-0.045x_2-19.305x_3+20.207x_4+42.506 <= r\n",
      "\t<class 'docplex.mp.constr.LinearConstraint'> (status code: ConflictStatus.Member): -0.044x_0-19.146x_1-0.045x_2-19.305x_3+20.207x_4+300b_2+39.506 >= r\n",
      "\t<class 'docplex.mp.constr.LinearConstraint'> (status code: ConflictStatus.Member): 0.044x_0+19.146x_1+0.045x_2+19.305x_3-20.207x_4-300b_2+260.494 >= r\n",
      "No solution found\n"
     ]
    },
    {
     "name": "stderr",
     "output_type": "stream",
     "text": [
      "/home/artem/.conda/envs/ica_new/lib/python3.6/site-packages/docplex/mp/model.py:3278: UserWarning: Unknown quick-setting in Context: display, value: True\n",
      "  context.update_key_value(argname, argval)\n"
     ]
    },
    {
     "name": "stdout",
     "output_type": "stream",
     "text": [
      "show some of the constraints that can be removed to arrive at a minimal conflict\n",
      "Initial y\n",
      "67\n",
      "Intercept\n",
      "24.494493472394424\n",
      "Conflict set:\n",
      "\t<class 'docplex.mp.constr.LinearConstraint'> (status code: ConflictStatus.Member): -0.044x_0-19.146x_1-0.045x_2-19.305x_3+20.207x_4+42.506 <= r\n",
      "\t<class 'docplex.mp.constr.LinearConstraint'> (status code: ConflictStatus.Member): -0.044x_0-19.146x_1-0.045x_2-19.305x_3+20.207x_4+300b_2+39.506 >= r\n",
      "\t<class 'docplex.mp.constr.LinearConstraint'> (status code: ConflictStatus.Member): 0.044x_0+19.146x_1+0.045x_2+19.305x_3-20.207x_4-300b_2+260.494 >= r\n",
      "No solution found\n"
     ]
    },
    {
     "name": "stderr",
     "output_type": "stream",
     "text": [
      "/home/artem/.conda/envs/ica_new/lib/python3.6/site-packages/docplex/mp/model.py:3278: UserWarning: Unknown quick-setting in Context: display, value: True\n",
      "  context.update_key_value(argname, argval)\n"
     ]
    },
    {
     "name": "stdout",
     "output_type": "stream",
     "text": [
      "JobSolveStatus.OPTIMAL_SOLUTION\n",
      "show some of the constraints that can be removed to arrive at a minimal conflict\n"
     ]
    },
    {
     "name": "stderr",
     "output_type": "stream",
     "text": [
      "/home/artem/.conda/envs/ica_new/lib/python3.6/site-packages/docplex/mp/model.py:3278: UserWarning: Unknown quick-setting in Context: display, value: True\n",
      "  context.update_key_value(argname, argval)\n"
     ]
    },
    {
     "name": "stdout",
     "output_type": "stream",
     "text": [
      "Initial y\n",
      "83\n",
      "Intercept\n",
      "24.494493472394424\n",
      "Conflict set:\n",
      "\t<class 'docplex.mp.constr.LinearConstraint'> (status code: ConflictStatus.Member): -0.044x_0-19.146x_1-0.045x_2-19.305x_3+20.207x_4+58.506 <= r\n",
      "\t<class 'docplex.mp.constr.LinearConstraint'> (status code: ConflictStatus.Member): -0.044x_0-19.146x_1-0.045x_2-19.305x_3+20.207x_4+300b_0+19.506 >= r\n",
      "\t<class 'docplex.mp.constr.LinearConstraint'> (status code: ConflictStatus.Member): 0.044x_0+19.146x_1+0.045x_2+19.305x_3-20.207x_4-300b_0+280.494 >= r\n",
      "No solution found\n",
      "JobSolveStatus.OPTIMAL_SOLUTION\n",
      "No solution found\n",
      "show some of the constraints that can be removed to arrive at a minimal conflict\n",
      "Initial y\n",
      "87\n",
      "Intercept\n",
      "24.494493472394424\n",
      "Conflict set:\n",
      "\t<class 'docplex.mp.constr.LinearConstraint'> (status code: ConflictStatus.Member): -0.044x_0-19.146x_1-0.045x_2-19.305x_3+20.207x_4+62.506 <= r\n",
      "\t<class 'docplex.mp.constr.LinearConstraint'> (status code: ConflictStatus.Member): -0.044x_0-19.146x_1-0.045x_2-19.305x_3+20.207x_4+300b_0+19.506 >= r\n",
      "\t<class 'docplex.mp.constr.LinearConstraint'> (status code: ConflictStatus.Member): 0.044x_0+19.146x_1+0.045x_2+19.305x_3-20.207x_4-300b_0+280.494 >= r\n",
      "No solution found\n"
     ]
    },
    {
     "name": "stderr",
     "output_type": "stream",
     "text": [
      "/home/artem/.conda/envs/ica_new/lib/python3.6/site-packages/docplex/mp/model.py:3278: UserWarning: Unknown quick-setting in Context: display, value: True\n",
      "  context.update_key_value(argname, argval)\n"
     ]
    },
    {
     "name": "stdout",
     "output_type": "stream",
     "text": [
      "show some of the constraints that can be removed to arrive at a minimal conflict\n",
      "Initial y\n",
      "10\n",
      "Intercept\n",
      "24.494493472394424\n",
      "Conflict set:\n",
      "\t<class 'docplex.mp.constr.LinearConstraint'> (status code: ConflictStatus.Member): -0.044x_0-19.146x_1-0.045x_2-19.305x_3+20.207x_4-14.494 <= r\n",
      "\t<class 'docplex.mp.constr.LinearConstraint'> (status code: ConflictStatus.Member): 0.044x_0+19.146x_1+0.045x_2+19.305x_3-20.207x_4+14.494 <= r\n",
      "\t<class 'docplex.mp.constr.LinearConstraint'> (status code: ConflictStatus.Member): -0.044x_0-19.146x_1-0.045x_2-19.305x_3+20.207x_4+300b_5-15.494 >= r\n",
      "\t<class 'docplex.mp.constr.LinearConstraint'> (status code: ConflictStatus.Member): 0.044x_0+19.146x_1+0.045x_2+19.305x_3-20.207x_4-300b_5+315.494 >= r\n",
      "\t<class 'docplex.mp.constr.LinearConstraint'> (status code: ConflictStatus.Member): -0.044x_0-19.146x_1-0.045x_2-19.305x_3+20.207x_4+300b_7-3.494 >= r\n",
      "\t<class 'docplex.mp.constr.LinearConstraint'> (status code: ConflictStatus.Member): 0.044x_0+19.146x_1+0.045x_2+19.305x_3-20.207x_4-300b_7+303.494 >= r\n",
      "No solution found\n"
     ]
    },
    {
     "name": "stderr",
     "output_type": "stream",
     "text": [
      "/home/artem/.conda/envs/ica_new/lib/python3.6/site-packages/docplex/mp/model.py:3278: UserWarning: Unknown quick-setting in Context: display, value: True\n",
      "  context.update_key_value(argname, argval)\n"
     ]
    },
    {
     "name": "stdout",
     "output_type": "stream",
     "text": [
      "show some of the constraints that can be removed to arrive at a minimal conflict\n"
     ]
    },
    {
     "name": "stderr",
     "output_type": "stream",
     "text": [
      "/home/artem/.conda/envs/ica_new/lib/python3.6/site-packages/docplex/mp/model.py:3278: UserWarning: Unknown quick-setting in Context: display, value: True\n",
      "  context.update_key_value(argname, argval)\n"
     ]
    },
    {
     "name": "stdout",
     "output_type": "stream",
     "text": [
      "Initial y\n",
      "10\n",
      "Intercept\n",
      "24.494493472394424\n",
      "Conflict set:\n",
      "\t<class 'docplex.mp.constr.LinearConstraint'> (status code: ConflictStatus.Member): -0.044x_0-19.146x_1-0.045x_2-19.305x_3+20.207x_4-14.494 <= r\n",
      "\t<class 'docplex.mp.constr.LinearConstraint'> (status code: ConflictStatus.Member): 0.044x_0+19.146x_1+0.045x_2+19.305x_3-20.207x_4+14.494 <= r\n",
      "\t<class 'docplex.mp.constr.LinearConstraint'> (status code: ConflictStatus.Member): -0.044x_0-19.146x_1-0.045x_2-19.305x_3+20.207x_4+300b_5-15.494 >= r\n",
      "\t<class 'docplex.mp.constr.LinearConstraint'> (status code: ConflictStatus.Member): 0.044x_0+19.146x_1+0.045x_2+19.305x_3-20.207x_4-300b_5+315.494 >= r\n",
      "\t<class 'docplex.mp.constr.LinearConstraint'> (status code: ConflictStatus.Member): -0.044x_0-19.146x_1-0.045x_2-19.305x_3+20.207x_4+300b_7-3.494 >= r\n",
      "\t<class 'docplex.mp.constr.LinearConstraint'> (status code: ConflictStatus.Member): 0.044x_0+19.146x_1+0.045x_2+19.305x_3-20.207x_4-300b_7+303.494 >= r\n",
      "No solution found\n",
      "show some of the constraints that can be removed to arrive at a minimal conflict\n",
      "Initial y\n",
      "10\n",
      "Intercept\n",
      "24.494493472394424\n",
      "Conflict set:\n",
      "\t<class 'docplex.mp.constr.LinearConstraint'> (status code: ConflictStatus.Member): -0.044x_0-19.146x_1-0.045x_2-19.305x_3+20.207x_4-14.494 <= r\n",
      "\t<class 'docplex.mp.constr.LinearConstraint'> (status code: ConflictStatus.Member): 0.044x_0+19.146x_1+0.045x_2+19.305x_3-20.207x_4+14.494 <= r\n",
      "\t<class 'docplex.mp.constr.LinearConstraint'> (status code: ConflictStatus.Member): -0.044x_0-19.146x_1-0.045x_2-19.305x_3+20.207x_4+300b_5-15.494 >= r\n",
      "\t<class 'docplex.mp.constr.LinearConstraint'> (status code: ConflictStatus.Member): 0.044x_0+19.146x_1+0.045x_2+19.305x_3-20.207x_4-300b_5+315.494 >= r\n",
      "\t<class 'docplex.mp.constr.LinearConstraint'> (status code: ConflictStatus.Member): -0.044x_0-19.146x_1-0.045x_2-19.305x_3+20.207x_4+300b_7-3.494 >= r\n",
      "\t<class 'docplex.mp.constr.LinearConstraint'> (status code: ConflictStatus.Member): 0.044x_0+19.146x_1+0.045x_2+19.305x_3-20.207x_4-300b_7+303.494 >= r\n",
      "No solution found\n"
     ]
    },
    {
     "name": "stderr",
     "output_type": "stream",
     "text": [
      "/home/artem/.conda/envs/ica_new/lib/python3.6/site-packages/docplex/mp/model.py:3278: UserWarning: Unknown quick-setting in Context: display, value: True\n",
      "  context.update_key_value(argname, argval)\n"
     ]
    },
    {
     "name": "stdout",
     "output_type": "stream",
     "text": [
      "show some of the constraints that can be removed to arrive at a minimal conflict\n"
     ]
    },
    {
     "name": "stderr",
     "output_type": "stream",
     "text": [
      "/home/artem/.conda/envs/ica_new/lib/python3.6/site-packages/docplex/mp/model.py:3278: UserWarning: Unknown quick-setting in Context: display, value: True\n",
      "  context.update_key_value(argname, argval)\n"
     ]
    },
    {
     "name": "stdout",
     "output_type": "stream",
     "text": [
      "Initial y\n",
      "10\n",
      "Intercept\n",
      "24.494493472394424\n",
      "Conflict set:\n",
      "\t<class 'docplex.mp.constr.LinearConstraint'> (status code: ConflictStatus.Member): -0.044x_0-19.146x_1-0.045x_2-19.305x_3+20.207x_4-14.494 <= r\n",
      "\t<class 'docplex.mp.constr.LinearConstraint'> (status code: ConflictStatus.Member): 0.044x_0+19.146x_1+0.045x_2+19.305x_3-20.207x_4+14.494 <= r\n",
      "\t<class 'docplex.mp.constr.LinearConstraint'> (status code: ConflictStatus.Member): -0.044x_0-19.146x_1-0.045x_2-19.305x_3+20.207x_4+300b_5-15.494 >= r\n",
      "\t<class 'docplex.mp.constr.LinearConstraint'> (status code: ConflictStatus.Member): 0.044x_0+19.146x_1+0.045x_2+19.305x_3-20.207x_4-300b_5+315.494 >= r\n",
      "\t<class 'docplex.mp.constr.LinearConstraint'> (status code: ConflictStatus.Member): -0.044x_0-19.146x_1-0.045x_2-19.305x_3+20.207x_4+300b_7-3.494 >= r\n",
      "\t<class 'docplex.mp.constr.LinearConstraint'> (status code: ConflictStatus.Member): 0.044x_0+19.146x_1+0.045x_2+19.305x_3-20.207x_4-300b_7+303.494 >= r\n",
      "No solution found\n",
      "show some of the constraints that can be removed to arrive at a minimal conflict\n",
      "Initial y\n",
      "10\n",
      "Intercept\n",
      "24.494493472394424\n",
      "Conflict set:\n",
      "\t<class 'docplex.mp.constr.LinearConstraint'> (status code: ConflictStatus.Member): -0.044x_0-19.146x_1-0.045x_2-19.305x_3+20.207x_4-14.494 <= r\n",
      "\t<class 'docplex.mp.constr.LinearConstraint'> (status code: ConflictStatus.Member): 0.044x_0+19.146x_1+0.045x_2+19.305x_3-20.207x_4+14.494 <= r\n",
      "\t<class 'docplex.mp.constr.LinearConstraint'> (status code: ConflictStatus.Member): -0.044x_0-19.146x_1-0.045x_2-19.305x_3+20.207x_4+300b_5-15.494 >= r\n",
      "\t<class 'docplex.mp.constr.LinearConstraint'> (status code: ConflictStatus.Member): 0.044x_0+19.146x_1+0.045x_2+19.305x_3-20.207x_4-300b_5+315.494 >= r\n",
      "\t<class 'docplex.mp.constr.LinearConstraint'> (status code: ConflictStatus.Member): -0.044x_0-19.146x_1-0.045x_2-19.305x_3+20.207x_4+300b_7-3.494 >= r\n",
      "\t<class 'docplex.mp.constr.LinearConstraint'> (status code: ConflictStatus.Member): 0.044x_0+19.146x_1+0.045x_2+19.305x_3-20.207x_4-300b_7+303.494 >= r\n",
      "No solution found\n"
     ]
    },
    {
     "name": "stderr",
     "output_type": "stream",
     "text": [
      "/home/artem/.conda/envs/ica_new/lib/python3.6/site-packages/docplex/mp/model.py:3278: UserWarning: Unknown quick-setting in Context: display, value: True\n",
      "  context.update_key_value(argname, argval)\n"
     ]
    },
    {
     "name": "stdout",
     "output_type": "stream",
     "text": [
      "show some of the constraints that can be removed to arrive at a minimal conflict\n",
      "Initial y\n",
      "10\n",
      "Intercept\n",
      "24.494493472394424\n",
      "Conflict set:\n",
      "\t<class 'docplex.mp.constr.LinearConstraint'> (status code: ConflictStatus.Member): -0.044x_0-19.146x_1-0.045x_2-19.305x_3+20.207x_4-14.494 <= r\n",
      "\t<class 'docplex.mp.constr.LinearConstraint'> (status code: ConflictStatus.Member): 0.044x_0+19.146x_1+0.045x_2+19.305x_3-20.207x_4+14.494 <= r\n",
      "\t<class 'docplex.mp.constr.LinearConstraint'> (status code: ConflictStatus.Member): -0.044x_0-19.146x_1-0.045x_2-19.305x_3+20.207x_4+300b_5-15.494 >= r\n",
      "\t<class 'docplex.mp.constr.LinearConstraint'> (status code: ConflictStatus.Member): 0.044x_0+19.146x_1+0.045x_2+19.305x_3-20.207x_4-300b_5+315.494 >= r\n",
      "\t<class 'docplex.mp.constr.LinearConstraint'> (status code: ConflictStatus.Member): -0.044x_0-19.146x_1-0.045x_2-19.305x_3+20.207x_4+300b_7-3.494 >= r\n",
      "\t<class 'docplex.mp.constr.LinearConstraint'> (status code: ConflictStatus.Member): 0.044x_0+19.146x_1+0.045x_2+19.305x_3-20.207x_4-300b_7+303.494 >= r\n",
      "No solution found\n"
     ]
    },
    {
     "name": "stderr",
     "output_type": "stream",
     "text": [
      "/home/artem/.conda/envs/ica_new/lib/python3.6/site-packages/docplex/mp/model.py:3278: UserWarning: Unknown quick-setting in Context: display, value: True\n",
      "  context.update_key_value(argname, argval)\n"
     ]
    },
    {
     "name": "stdout",
     "output_type": "stream",
     "text": [
      "show some of the constraints that can be removed to arrive at a minimal conflict\n",
      "Initial y\n",
      "10\n",
      "Intercept\n",
      "24.494493472394424\n",
      "Conflict set:\n",
      "\t<class 'docplex.mp.constr.LinearConstraint'> (status code: ConflictStatus.Member): -0.044x_0-19.146x_1-0.045x_2-19.305x_3+20.207x_4-14.494 <= r\n",
      "\t<class 'docplex.mp.constr.LinearConstraint'> (status code: ConflictStatus.Member): 0.044x_0+19.146x_1+0.045x_2+19.305x_3-20.207x_4+14.494 <= r\n",
      "\t<class 'docplex.mp.constr.LinearConstraint'> (status code: ConflictStatus.Member): -0.044x_0-19.146x_1-0.045x_2-19.305x_3+20.207x_4+300b_5-15.494 >= r\n",
      "\t<class 'docplex.mp.constr.LinearConstraint'> (status code: ConflictStatus.Member): 0.044x_0+19.146x_1+0.045x_2+19.305x_3-20.207x_4-300b_5+315.494 >= r\n",
      "\t<class 'docplex.mp.constr.LinearConstraint'> (status code: ConflictStatus.Member): -0.044x_0-19.146x_1-0.045x_2-19.305x_3+20.207x_4+300b_7-3.494 >= r\n",
      "\t<class 'docplex.mp.constr.LinearConstraint'> (status code: ConflictStatus.Member): 0.044x_0+19.146x_1+0.045x_2+19.305x_3-20.207x_4-300b_7+303.494 >= r\n",
      "No solution found\n"
     ]
    },
    {
     "name": "stderr",
     "output_type": "stream",
     "text": [
      "/home/artem/.conda/envs/ica_new/lib/python3.6/site-packages/docplex/mp/model.py:3278: UserWarning: Unknown quick-setting in Context: display, value: True\n",
      "  context.update_key_value(argname, argval)\n"
     ]
    },
    {
     "name": "stdout",
     "output_type": "stream",
     "text": [
      "show some of the constraints that can be removed to arrive at a minimal conflict\n",
      "Initial y\n",
      "10\n",
      "Intercept\n",
      "24.494493472394424\n",
      "Conflict set:\n",
      "\t<class 'docplex.mp.constr.LinearConstraint'> (status code: ConflictStatus.Member): -0.044x_0-19.146x_1-0.045x_2-19.305x_3+20.207x_4-14.494 <= r\n",
      "\t<class 'docplex.mp.constr.LinearConstraint'> (status code: ConflictStatus.Member): 0.044x_0+19.146x_1+0.045x_2+19.305x_3-20.207x_4+14.494 <= r\n",
      "\t<class 'docplex.mp.constr.LinearConstraint'> (status code: ConflictStatus.Member): -0.044x_0-19.146x_1-0.045x_2-19.305x_3+20.207x_4+300b_5-15.494 >= r\n",
      "\t<class 'docplex.mp.constr.LinearConstraint'> (status code: ConflictStatus.Member): 0.044x_0+19.146x_1+0.045x_2+19.305x_3-20.207x_4-300b_5+315.494 >= r\n",
      "\t<class 'docplex.mp.constr.LinearConstraint'> (status code: ConflictStatus.Member): -0.044x_0-19.146x_1-0.045x_2-19.305x_3+20.207x_4+300b_7-3.494 >= r\n",
      "\t<class 'docplex.mp.constr.LinearConstraint'> (status code: ConflictStatus.Member): 0.044x_0+19.146x_1+0.045x_2+19.305x_3-20.207x_4-300b_7+303.494 >= r\n",
      "No solution found\n"
     ]
    },
    {
     "name": "stderr",
     "output_type": "stream",
     "text": [
      "/home/artem/.conda/envs/ica_new/lib/python3.6/site-packages/docplex/mp/model.py:3278: UserWarning: Unknown quick-setting in Context: display, value: True\n",
      "  context.update_key_value(argname, argval)\n"
     ]
    },
    {
     "name": "stdout",
     "output_type": "stream",
     "text": [
      "show some of the constraints that can be removed to arrive at a minimal conflict\n",
      "Initial y\n",
      "10\n",
      "Intercept\n",
      "24.494493472394424\n",
      "Conflict set:\n",
      "\t<class 'docplex.mp.constr.LinearConstraint'> (status code: ConflictStatus.Member): -0.044x_0-19.146x_1-0.045x_2-19.305x_3+20.207x_4-14.494 <= r\n",
      "\t<class 'docplex.mp.constr.LinearConstraint'> (status code: ConflictStatus.Member): 0.044x_0+19.146x_1+0.045x_2+19.305x_3-20.207x_4+14.494 <= r\n",
      "\t<class 'docplex.mp.constr.LinearConstraint'> (status code: ConflictStatus.Member): -0.044x_0-19.146x_1-0.045x_2-19.305x_3+20.207x_4+300b_5-15.494 >= r\n",
      "\t<class 'docplex.mp.constr.LinearConstraint'> (status code: ConflictStatus.Member): 0.044x_0+19.146x_1+0.045x_2+19.305x_3-20.207x_4-300b_5+315.494 >= r\n",
      "\t<class 'docplex.mp.constr.LinearConstraint'> (status code: ConflictStatus.Member): -0.044x_0-19.146x_1-0.045x_2-19.305x_3+20.207x_4+300b_7-3.494 >= r\n",
      "\t<class 'docplex.mp.constr.LinearConstraint'> (status code: ConflictStatus.Member): 0.044x_0+19.146x_1+0.045x_2+19.305x_3-20.207x_4-300b_7+303.494 >= r\n",
      "No solution found\n"
     ]
    },
    {
     "name": "stderr",
     "output_type": "stream",
     "text": [
      "/home/artem/.conda/envs/ica_new/lib/python3.6/site-packages/docplex/mp/model.py:3278: UserWarning: Unknown quick-setting in Context: display, value: True\n",
      "  context.update_key_value(argname, argval)\n"
     ]
    },
    {
     "name": "stdout",
     "output_type": "stream",
     "text": [
      "show some of the constraints that can be removed to arrive at a minimal conflict\n",
      "Initial y\n",
      "10\n",
      "Intercept\n",
      "24.494493472394424\n",
      "Conflict set:\n",
      "\t<class 'docplex.mp.constr.LinearConstraint'> (status code: ConflictStatus.Member): -0.044x_0-19.146x_1-0.045x_2-19.305x_3+20.207x_4-14.494 <= r\n",
      "\t<class 'docplex.mp.constr.LinearConstraint'> (status code: ConflictStatus.Member): 0.044x_0+19.146x_1+0.045x_2+19.305x_3-20.207x_4+14.494 <= r\n",
      "\t<class 'docplex.mp.constr.LinearConstraint'> (status code: ConflictStatus.Member): -0.044x_0-19.146x_1-0.045x_2-19.305x_3+20.207x_4+300b_5-15.494 >= r\n",
      "\t<class 'docplex.mp.constr.LinearConstraint'> (status code: ConflictStatus.Member): 0.044x_0+19.146x_1+0.045x_2+19.305x_3-20.207x_4-300b_5+315.494 >= r\n",
      "\t<class 'docplex.mp.constr.LinearConstraint'> (status code: ConflictStatus.Member): -0.044x_0-19.146x_1-0.045x_2-19.305x_3+20.207x_4+300b_7-3.494 >= r\n",
      "\t<class 'docplex.mp.constr.LinearConstraint'> (status code: ConflictStatus.Member): 0.044x_0+19.146x_1+0.045x_2+19.305x_3-20.207x_4-300b_7+303.494 >= r\n",
      "No solution found\n"
     ]
    },
    {
     "name": "stderr",
     "output_type": "stream",
     "text": [
      "/home/artem/.conda/envs/ica_new/lib/python3.6/site-packages/docplex/mp/model.py:3278: UserWarning: Unknown quick-setting in Context: display, value: True\n",
      "  context.update_key_value(argname, argval)\n"
     ]
    },
    {
     "name": "stdout",
     "output_type": "stream",
     "text": [
      "show some of the constraints that can be removed to arrive at a minimal conflict\n",
      "Initial y\n",
      "10\n",
      "Intercept\n",
      "24.494493472394424\n",
      "Conflict set:\n",
      "\t<class 'docplex.mp.constr.LinearConstraint'> (status code: ConflictStatus.Member): -0.044x_0-19.146x_1-0.045x_2-19.305x_3+20.207x_4-14.494 <= r\n",
      "\t<class 'docplex.mp.constr.LinearConstraint'> (status code: ConflictStatus.Member): 0.044x_0+19.146x_1+0.045x_2+19.305x_3-20.207x_4+14.494 <= r\n",
      "\t<class 'docplex.mp.constr.LinearConstraint'> (status code: ConflictStatus.Member): -0.044x_0-19.146x_1-0.045x_2-19.305x_3+20.207x_4+300b_5-15.494 >= r\n",
      "\t<class 'docplex.mp.constr.LinearConstraint'> (status code: ConflictStatus.Member): 0.044x_0+19.146x_1+0.045x_2+19.305x_3-20.207x_4-300b_5+315.494 >= r\n",
      "\t<class 'docplex.mp.constr.LinearConstraint'> (status code: ConflictStatus.Member): -0.044x_0-19.146x_1-0.045x_2-19.305x_3+20.207x_4+300b_7-3.494 >= r\n",
      "\t<class 'docplex.mp.constr.LinearConstraint'> (status code: ConflictStatus.Member): 0.044x_0+19.146x_1+0.045x_2+19.305x_3-20.207x_4-300b_7+303.494 >= r\n",
      "No solution found\n"
     ]
    },
    {
     "name": "stderr",
     "output_type": "stream",
     "text": [
      "/home/artem/.conda/envs/ica_new/lib/python3.6/site-packages/docplex/mp/model.py:3278: UserWarning: Unknown quick-setting in Context: display, value: True\n",
      "  context.update_key_value(argname, argval)\n"
     ]
    },
    {
     "name": "stdout",
     "output_type": "stream",
     "text": [
      "show some of the constraints that can be removed to arrive at a minimal conflict\n",
      "Initial y\n",
      "10\n",
      "Intercept\n",
      "24.494493472394424\n",
      "Conflict set:\n",
      "\t<class 'docplex.mp.constr.LinearConstraint'> (status code: ConflictStatus.Member): -0.044x_0-19.146x_1-0.045x_2-19.305x_3+20.207x_4-14.494 <= r\n",
      "\t<class 'docplex.mp.constr.LinearConstraint'> (status code: ConflictStatus.Member): 0.044x_0+19.146x_1+0.045x_2+19.305x_3-20.207x_4+14.494 <= r\n",
      "\t<class 'docplex.mp.constr.LinearConstraint'> (status code: ConflictStatus.Member): -0.044x_0-19.146x_1-0.045x_2-19.305x_3+20.207x_4+300b_5-15.494 >= r\n",
      "\t<class 'docplex.mp.constr.LinearConstraint'> (status code: ConflictStatus.Member): 0.044x_0+19.146x_1+0.045x_2+19.305x_3-20.207x_4-300b_5+315.494 >= r\n",
      "\t<class 'docplex.mp.constr.LinearConstraint'> (status code: ConflictStatus.Member): -0.044x_0-19.146x_1-0.045x_2-19.305x_3+20.207x_4+300b_7-3.494 >= r\n",
      "\t<class 'docplex.mp.constr.LinearConstraint'> (status code: ConflictStatus.Member): 0.044x_0+19.146x_1+0.045x_2+19.305x_3-20.207x_4-300b_7+303.494 >= r\n",
      "No solution found\n"
     ]
    },
    {
     "name": "stderr",
     "output_type": "stream",
     "text": [
      "/home/artem/.conda/envs/ica_new/lib/python3.6/site-packages/docplex/mp/model.py:3278: UserWarning: Unknown quick-setting in Context: display, value: True\n",
      "  context.update_key_value(argname, argval)\n"
     ]
    },
    {
     "name": "stdout",
     "output_type": "stream",
     "text": [
      "show some of the constraints that can be removed to arrive at a minimal conflict\n",
      "Initial y\n",
      "10\n",
      "Intercept\n",
      "24.494493472394424\n",
      "Conflict set:\n",
      "\t<class 'docplex.mp.constr.LinearConstraint'> (status code: ConflictStatus.Member): -0.044x_0-19.146x_1-0.045x_2-19.305x_3+20.207x_4-14.494 <= r\n",
      "\t<class 'docplex.mp.constr.LinearConstraint'> (status code: ConflictStatus.Member): 0.044x_0+19.146x_1+0.045x_2+19.305x_3-20.207x_4+14.494 <= r\n",
      "\t<class 'docplex.mp.constr.LinearConstraint'> (status code: ConflictStatus.Member): -0.044x_0-19.146x_1-0.045x_2-19.305x_3+20.207x_4+300b_5-15.494 >= r\n",
      "\t<class 'docplex.mp.constr.LinearConstraint'> (status code: ConflictStatus.Member): 0.044x_0+19.146x_1+0.045x_2+19.305x_3-20.207x_4-300b_5+315.494 >= r\n",
      "\t<class 'docplex.mp.constr.LinearConstraint'> (status code: ConflictStatus.Member): -0.044x_0-19.146x_1-0.045x_2-19.305x_3+20.207x_4+300b_7-3.494 >= r\n",
      "\t<class 'docplex.mp.constr.LinearConstraint'> (status code: ConflictStatus.Member): 0.044x_0+19.146x_1+0.045x_2+19.305x_3-20.207x_4-300b_7+303.494 >= r\n",
      "No solution found\n"
     ]
    },
    {
     "name": "stderr",
     "output_type": "stream",
     "text": [
      "/home/artem/.conda/envs/ica_new/lib/python3.6/site-packages/docplex/mp/model.py:3278: UserWarning: Unknown quick-setting in Context: display, value: True\n",
      "  context.update_key_value(argname, argval)\n"
     ]
    },
    {
     "name": "stdout",
     "output_type": "stream",
     "text": [
      "show some of the constraints that can be removed to arrive at a minimal conflict\n",
      "Initial y\n",
      "10\n",
      "Intercept\n",
      "24.494493472394424\n",
      "Conflict set:\n",
      "\t<class 'docplex.mp.constr.LinearConstraint'> (status code: ConflictStatus.Member): -0.044x_0-19.146x_1-0.045x_2-19.305x_3+20.207x_4-14.494 <= r\n",
      "\t<class 'docplex.mp.constr.LinearConstraint'> (status code: ConflictStatus.Member): 0.044x_0+19.146x_1+0.045x_2+19.305x_3-20.207x_4+14.494 <= r\n",
      "\t<class 'docplex.mp.constr.LinearConstraint'> (status code: ConflictStatus.Member): -0.044x_0-19.146x_1-0.045x_2-19.305x_3+20.207x_4+300b_5-15.494 >= r\n",
      "\t<class 'docplex.mp.constr.LinearConstraint'> (status code: ConflictStatus.Member): 0.044x_0+19.146x_1+0.045x_2+19.305x_3-20.207x_4-300b_5+315.494 >= r\n",
      "\t<class 'docplex.mp.constr.LinearConstraint'> (status code: ConflictStatus.Member): -0.044x_0-19.146x_1-0.045x_2-19.305x_3+20.207x_4+300b_7-3.494 >= r\n",
      "\t<class 'docplex.mp.constr.LinearConstraint'> (status code: ConflictStatus.Member): 0.044x_0+19.146x_1+0.045x_2+19.305x_3-20.207x_4-300b_7+303.494 >= r\n",
      "No solution found\n"
     ]
    },
    {
     "name": "stderr",
     "output_type": "stream",
     "text": [
      "/home/artem/.conda/envs/ica_new/lib/python3.6/site-packages/docplex/mp/model.py:3278: UserWarning: Unknown quick-setting in Context: display, value: True\n",
      "  context.update_key_value(argname, argval)\n"
     ]
    },
    {
     "name": "stdout",
     "output_type": "stream",
     "text": [
      "show some of the constraints that can be removed to arrive at a minimal conflict\n",
      "Initial y\n",
      "10\n",
      "Intercept\n",
      "24.494493472394424\n",
      "Conflict set:\n",
      "\t<class 'docplex.mp.constr.LinearConstraint'> (status code: ConflictStatus.Member): -0.044x_0-19.146x_1-0.045x_2-19.305x_3+20.207x_4-14.494 <= r\n",
      "\t<class 'docplex.mp.constr.LinearConstraint'> (status code: ConflictStatus.Member): 0.044x_0+19.146x_1+0.045x_2+19.305x_3-20.207x_4+14.494 <= r\n",
      "\t<class 'docplex.mp.constr.LinearConstraint'> (status code: ConflictStatus.Member): -0.044x_0-19.146x_1-0.045x_2-19.305x_3+20.207x_4+300b_5-15.494 >= r\n",
      "\t<class 'docplex.mp.constr.LinearConstraint'> (status code: ConflictStatus.Member): 0.044x_0+19.146x_1+0.045x_2+19.305x_3-20.207x_4-300b_5+315.494 >= r\n",
      "\t<class 'docplex.mp.constr.LinearConstraint'> (status code: ConflictStatus.Member): -0.044x_0-19.146x_1-0.045x_2-19.305x_3+20.207x_4+300b_7-3.494 >= r\n",
      "\t<class 'docplex.mp.constr.LinearConstraint'> (status code: ConflictStatus.Member): 0.044x_0+19.146x_1+0.045x_2+19.305x_3-20.207x_4-300b_7+303.494 >= r\n",
      "No solution found\n",
      "[ -0.37754293  18.93501663  -0.28371973  19.08570181 -19.95215699]\n",
      "25.136840099104255\n"
     ]
    },
    {
     "name": "stderr",
     "output_type": "stream",
     "text": [
      "/home/artem/.conda/envs/ica_new/lib/python3.6/site-packages/docplex/mp/model.py:3278: UserWarning: Unknown quick-setting in Context: display, value: True\n",
      "  context.update_key_value(argname, argval)\n"
     ]
    },
    {
     "name": "stdout",
     "output_type": "stream",
     "text": [
      "JobSolveStatus.OPTIMAL_SOLUTION\n",
      "show some of the constraints that can be removed to arrive at a minimal conflict\n"
     ]
    },
    {
     "name": "stderr",
     "output_type": "stream",
     "text": [
      "/home/artem/.conda/envs/ica_new/lib/python3.6/site-packages/docplex/mp/model.py:3278: UserWarning: Unknown quick-setting in Context: display, value: True\n",
      "  context.update_key_value(argname, argval)\n"
     ]
    },
    {
     "name": "stdout",
     "output_type": "stream",
     "text": [
      "Initial y\n",
      "47\n",
      "Intercept\n",
      "25.136840099104255\n",
      "Conflict set:\n",
      "\t<class 'docplex.mp.constr.LinearConstraint'> (status code: ConflictStatus.Member): 0.378x_0-18.935x_1+0.284x_2-19.086x_3+19.952x_4+21.863 <= r\n",
      "\t<class 'docplex.mp.constr.LinearConstraint'> (status code: ConflictStatus.Member): -0.378x_0+18.935x_1-0.284x_2+19.086x_3-19.952x_4-21.863 <= r\n",
      "\t<class 'docplex.mp.constr.LinearConstraint'> (status code: ConflictStatus.Member): 0.378x_0-18.935x_1+0.284x_2-19.086x_3+19.952x_4+300b_0+18.863 >= r\n",
      "\t<class 'docplex.mp.constr.LinearConstraint'> (status code: ConflictStatus.Member): -0.378x_0+18.935x_1-0.284x_2+19.086x_3-19.952x_4-300b_0+281.137 >= r\n",
      "\t<class 'docplex.mp.constr.LinearConstraint'> (status code: ConflictStatus.Member): 0.378x_0-18.935x_1+0.284x_2-19.086x_3+19.952x_4+300b_2+38.863 >= r\n",
      "\t<class 'docplex.mp.constr.LinearConstraint'> (status code: ConflictStatus.Member): -0.378x_0+18.935x_1-0.284x_2+19.086x_3-19.952x_4-300b_2+261.137 >= r\n",
      "No solution found\n",
      "JobSolveStatus.OPTIMAL_SOLUTION\n",
      "show some of the constraints that can be removed to arrive at a minimal conflict\n",
      "Initial y\n",
      "67\n",
      "Intercept\n",
      "25.136840099104255\n",
      "Conflict set:\n",
      "\t<class 'docplex.mp.constr.LinearConstraint'> (status code: ConflictStatus.Member): 0.378x_0-18.935x_1+0.284x_2-19.086x_3+19.952x_4+41.863 <= r\n",
      "\t<class 'docplex.mp.constr.LinearConstraint'> (status code: ConflictStatus.Member): 0.378x_0-18.935x_1+0.284x_2-19.086x_3+19.952x_4+300b_2+38.863 >= r\n",
      "\t<class 'docplex.mp.constr.LinearConstraint'> (status code: ConflictStatus.Member): -0.378x_0+18.935x_1-0.284x_2+19.086x_3-19.952x_4-300b_2+261.137 >= r\n",
      "No solution found\n"
     ]
    },
    {
     "name": "stderr",
     "output_type": "stream",
     "text": [
      "/home/artem/.conda/envs/ica_new/lib/python3.6/site-packages/docplex/mp/model.py:3278: UserWarning: Unknown quick-setting in Context: display, value: True\n",
      "  context.update_key_value(argname, argval)\n"
     ]
    },
    {
     "name": "stdout",
     "output_type": "stream",
     "text": [
      "show some of the constraints that can be removed to arrive at a minimal conflict\n",
      "Initial y\n",
      "67\n",
      "Intercept\n",
      "25.136840099104255\n",
      "Conflict set:\n",
      "\t<class 'docplex.mp.constr.LinearConstraint'> (status code: ConflictStatus.Member): 0.378x_0-18.935x_1+0.284x_2-19.086x_3+19.952x_4+41.863 <= r\n",
      "\t<class 'docplex.mp.constr.LinearConstraint'> (status code: ConflictStatus.Member): 0.378x_0-18.935x_1+0.284x_2-19.086x_3+19.952x_4+300b_2+38.863 >= r\n",
      "\t<class 'docplex.mp.constr.LinearConstraint'> (status code: ConflictStatus.Member): -0.378x_0+18.935x_1-0.284x_2+19.086x_3-19.952x_4-300b_2+261.137 >= r\n",
      "No solution found\n"
     ]
    },
    {
     "name": "stderr",
     "output_type": "stream",
     "text": [
      "/home/artem/.conda/envs/ica_new/lib/python3.6/site-packages/docplex/mp/model.py:3278: UserWarning: Unknown quick-setting in Context: display, value: True\n",
      "  context.update_key_value(argname, argval)\n"
     ]
    },
    {
     "name": "stdout",
     "output_type": "stream",
     "text": [
      "JobSolveStatus.OPTIMAL_SOLUTION\n",
      "show some of the constraints that can be removed to arrive at a minimal conflict\n",
      "Initial y\n",
      "83\n",
      "Intercept\n",
      "25.136840099104255\n",
      "Conflict set:\n",
      "\t<class 'docplex.mp.constr.LinearConstraint'> (status code: ConflictStatus.Member): 0.378x_0-18.935x_1+0.284x_2-19.086x_3+19.952x_4+57.863 <= r\n",
      "\t<class 'docplex.mp.constr.LinearConstraint'> (status code: ConflictStatus.Member): 0.378x_0-18.935x_1+0.284x_2-19.086x_3+19.952x_4+300b_0+18.863 >= r\n",
      "\t<class 'docplex.mp.constr.LinearConstraint'> (status code: ConflictStatus.Member): -0.378x_0+18.935x_1-0.284x_2+19.086x_3-19.952x_4-300b_0+281.137 >= r\n",
      "No solution found\n"
     ]
    },
    {
     "name": "stderr",
     "output_type": "stream",
     "text": [
      "/home/artem/.conda/envs/ica_new/lib/python3.6/site-packages/docplex/mp/model.py:3278: UserWarning: Unknown quick-setting in Context: display, value: True\n",
      "  context.update_key_value(argname, argval)\n"
     ]
    },
    {
     "name": "stdout",
     "output_type": "stream",
     "text": [
      "JobSolveStatus.OPTIMAL_SOLUTION\n",
      "No solution found\n",
      "show some of the constraints that can be removed to arrive at a minimal conflict\n"
     ]
    },
    {
     "name": "stderr",
     "output_type": "stream",
     "text": [
      "/home/artem/.conda/envs/ica_new/lib/python3.6/site-packages/docplex/mp/model.py:3278: UserWarning: Unknown quick-setting in Context: display, value: True\n",
      "  context.update_key_value(argname, argval)\n"
     ]
    },
    {
     "name": "stdout",
     "output_type": "stream",
     "text": [
      "Initial y\n",
      "87\n",
      "Intercept\n",
      "25.136840099104255\n",
      "Conflict set:\n",
      "\t<class 'docplex.mp.constr.LinearConstraint'> (status code: ConflictStatus.Member): 0.378x_0-18.935x_1+0.284x_2-19.086x_3+19.952x_4+61.863 <= r\n",
      "\t<class 'docplex.mp.constr.LinearConstraint'> (status code: ConflictStatus.Member): 0.378x_0-18.935x_1+0.284x_2-19.086x_3+19.952x_4+300b_0+18.863 >= r\n",
      "\t<class 'docplex.mp.constr.LinearConstraint'> (status code: ConflictStatus.Member): -0.378x_0+18.935x_1-0.284x_2+19.086x_3-19.952x_4-300b_0+281.137 >= r\n",
      "No solution found\n",
      "show some of the constraints that can be removed to arrive at a minimal conflict\n",
      "Initial y\n",
      "10\n",
      "Intercept\n",
      "25.136840099104255\n",
      "Conflict set:\n",
      "\t<class 'docplex.mp.constr.LinearConstraint'> (status code: ConflictStatus.Member): 0.378x_0-18.935x_1+0.284x_2-19.086x_3+19.952x_4-15.137 <= r\n",
      "\t<class 'docplex.mp.constr.LinearConstraint'> (status code: ConflictStatus.Member): -0.378x_0+18.935x_1-0.284x_2+19.086x_3-19.952x_4+15.137 <= r\n",
      "\t<class 'docplex.mp.constr.LinearConstraint'> (status code: ConflictStatus.Member): 0.378x_0-18.935x_1+0.284x_2-19.086x_3+19.952x_4+300b_5-16.137 >= r\n",
      "\t<class 'docplex.mp.constr.LinearConstraint'> (status code: ConflictStatus.Member): -0.378x_0+18.935x_1-0.284x_2+19.086x_3-19.952x_4-300b_5+316.137 >= r\n",
      "\t<class 'docplex.mp.constr.LinearConstraint'> (status code: ConflictStatus.Member): 0.378x_0-18.935x_1+0.284x_2-19.086x_3+19.952x_4+300b_7-4.137 >= r\n",
      "\t<class 'docplex.mp.constr.LinearConstraint'> (status code: ConflictStatus.Member): -0.378x_0+18.935x_1-0.284x_2+19.086x_3-19.952x_4-300b_7+304.137 >= r\n",
      "No solution found\n"
     ]
    },
    {
     "name": "stderr",
     "output_type": "stream",
     "text": [
      "/home/artem/.conda/envs/ica_new/lib/python3.6/site-packages/docplex/mp/model.py:3278: UserWarning: Unknown quick-setting in Context: display, value: True\n",
      "  context.update_key_value(argname, argval)\n"
     ]
    },
    {
     "name": "stdout",
     "output_type": "stream",
     "text": [
      "show some of the constraints that can be removed to arrive at a minimal conflict\n"
     ]
    },
    {
     "name": "stderr",
     "output_type": "stream",
     "text": [
      "/home/artem/.conda/envs/ica_new/lib/python3.6/site-packages/docplex/mp/model.py:3278: UserWarning: Unknown quick-setting in Context: display, value: True\n",
      "  context.update_key_value(argname, argval)\n"
     ]
    },
    {
     "name": "stdout",
     "output_type": "stream",
     "text": [
      "Initial y\n",
      "10\n",
      "Intercept\n",
      "25.136840099104255\n",
      "Conflict set:\n",
      "\t<class 'docplex.mp.constr.LinearConstraint'> (status code: ConflictStatus.Member): 0.378x_0-18.935x_1+0.284x_2-19.086x_3+19.952x_4-15.137 <= r\n",
      "\t<class 'docplex.mp.constr.LinearConstraint'> (status code: ConflictStatus.Member): -0.378x_0+18.935x_1-0.284x_2+19.086x_3-19.952x_4+15.137 <= r\n",
      "\t<class 'docplex.mp.constr.LinearConstraint'> (status code: ConflictStatus.Member): 0.378x_0-18.935x_1+0.284x_2-19.086x_3+19.952x_4+300b_5-16.137 >= r\n",
      "\t<class 'docplex.mp.constr.LinearConstraint'> (status code: ConflictStatus.Member): -0.378x_0+18.935x_1-0.284x_2+19.086x_3-19.952x_4-300b_5+316.137 >= r\n",
      "\t<class 'docplex.mp.constr.LinearConstraint'> (status code: ConflictStatus.Member): 0.378x_0-18.935x_1+0.284x_2-19.086x_3+19.952x_4+300b_7-4.137 >= r\n",
      "\t<class 'docplex.mp.constr.LinearConstraint'> (status code: ConflictStatus.Member): -0.378x_0+18.935x_1-0.284x_2+19.086x_3-19.952x_4-300b_7+304.137 >= r\n",
      "No solution found\n",
      "show some of the constraints that can be removed to arrive at a minimal conflict\n"
     ]
    },
    {
     "name": "stderr",
     "output_type": "stream",
     "text": [
      "/home/artem/.conda/envs/ica_new/lib/python3.6/site-packages/docplex/mp/model.py:3278: UserWarning: Unknown quick-setting in Context: display, value: True\n",
      "  context.update_key_value(argname, argval)\n"
     ]
    },
    {
     "name": "stdout",
     "output_type": "stream",
     "text": [
      "Initial y\n",
      "10\n",
      "Intercept\n",
      "25.136840099104255\n",
      "Conflict set:\n",
      "\t<class 'docplex.mp.constr.LinearConstraint'> (status code: ConflictStatus.Member): 0.378x_0-18.935x_1+0.284x_2-19.086x_3+19.952x_4-15.137 <= r\n",
      "\t<class 'docplex.mp.constr.LinearConstraint'> (status code: ConflictStatus.Member): -0.378x_0+18.935x_1-0.284x_2+19.086x_3-19.952x_4+15.137 <= r\n",
      "\t<class 'docplex.mp.constr.LinearConstraint'> (status code: ConflictStatus.Member): 0.378x_0-18.935x_1+0.284x_2-19.086x_3+19.952x_4+300b_5-16.137 >= r\n",
      "\t<class 'docplex.mp.constr.LinearConstraint'> (status code: ConflictStatus.Member): -0.378x_0+18.935x_1-0.284x_2+19.086x_3-19.952x_4-300b_5+316.137 >= r\n",
      "\t<class 'docplex.mp.constr.LinearConstraint'> (status code: ConflictStatus.Member): 0.378x_0-18.935x_1+0.284x_2-19.086x_3+19.952x_4+300b_7-4.137 >= r\n",
      "\t<class 'docplex.mp.constr.LinearConstraint'> (status code: ConflictStatus.Member): -0.378x_0+18.935x_1-0.284x_2+19.086x_3-19.952x_4-300b_7+304.137 >= r\n",
      "No solution found\n",
      "show some of the constraints that can be removed to arrive at a minimal conflict\n"
     ]
    },
    {
     "name": "stderr",
     "output_type": "stream",
     "text": [
      "/home/artem/.conda/envs/ica_new/lib/python3.6/site-packages/docplex/mp/model.py:3278: UserWarning: Unknown quick-setting in Context: display, value: True\n",
      "  context.update_key_value(argname, argval)\n"
     ]
    },
    {
     "name": "stdout",
     "output_type": "stream",
     "text": [
      "Initial y\n",
      "10\n",
      "Intercept\n",
      "25.136840099104255\n",
      "Conflict set:\n",
      "\t<class 'docplex.mp.constr.LinearConstraint'> (status code: ConflictStatus.Member): 0.378x_0-18.935x_1+0.284x_2-19.086x_3+19.952x_4-15.137 <= r\n",
      "\t<class 'docplex.mp.constr.LinearConstraint'> (status code: ConflictStatus.Member): -0.378x_0+18.935x_1-0.284x_2+19.086x_3-19.952x_4+15.137 <= r\n",
      "\t<class 'docplex.mp.constr.LinearConstraint'> (status code: ConflictStatus.Member): 0.378x_0-18.935x_1+0.284x_2-19.086x_3+19.952x_4+300b_5-16.137 >= r\n",
      "\t<class 'docplex.mp.constr.LinearConstraint'> (status code: ConflictStatus.Member): -0.378x_0+18.935x_1-0.284x_2+19.086x_3-19.952x_4-300b_5+316.137 >= r\n",
      "\t<class 'docplex.mp.constr.LinearConstraint'> (status code: ConflictStatus.Member): 0.378x_0-18.935x_1+0.284x_2-19.086x_3+19.952x_4+300b_7-4.137 >= r\n",
      "\t<class 'docplex.mp.constr.LinearConstraint'> (status code: ConflictStatus.Member): -0.378x_0+18.935x_1-0.284x_2+19.086x_3-19.952x_4-300b_7+304.137 >= r\n",
      "No solution found\n",
      "show some of the constraints that can be removed to arrive at a minimal conflict\n"
     ]
    },
    {
     "name": "stderr",
     "output_type": "stream",
     "text": [
      "/home/artem/.conda/envs/ica_new/lib/python3.6/site-packages/docplex/mp/model.py:3278: UserWarning: Unknown quick-setting in Context: display, value: True\n",
      "  context.update_key_value(argname, argval)\n"
     ]
    },
    {
     "name": "stdout",
     "output_type": "stream",
     "text": [
      "Initial y\n",
      "10\n",
      "Intercept\n",
      "25.136840099104255\n",
      "Conflict set:\n",
      "\t<class 'docplex.mp.constr.LinearConstraint'> (status code: ConflictStatus.Member): 0.378x_0-18.935x_1+0.284x_2-19.086x_3+19.952x_4-15.137 <= r\n",
      "\t<class 'docplex.mp.constr.LinearConstraint'> (status code: ConflictStatus.Member): -0.378x_0+18.935x_1-0.284x_2+19.086x_3-19.952x_4+15.137 <= r\n",
      "\t<class 'docplex.mp.constr.LinearConstraint'> (status code: ConflictStatus.Member): 0.378x_0-18.935x_1+0.284x_2-19.086x_3+19.952x_4+300b_5-16.137 >= r\n",
      "\t<class 'docplex.mp.constr.LinearConstraint'> (status code: ConflictStatus.Member): -0.378x_0+18.935x_1-0.284x_2+19.086x_3-19.952x_4-300b_5+316.137 >= r\n",
      "\t<class 'docplex.mp.constr.LinearConstraint'> (status code: ConflictStatus.Member): 0.378x_0-18.935x_1+0.284x_2-19.086x_3+19.952x_4+300b_7-4.137 >= r\n",
      "\t<class 'docplex.mp.constr.LinearConstraint'> (status code: ConflictStatus.Member): -0.378x_0+18.935x_1-0.284x_2+19.086x_3-19.952x_4-300b_7+304.137 >= r\n",
      "No solution found\n",
      "show some of the constraints that can be removed to arrive at a minimal conflict\n",
      "Initial y\n",
      "10\n",
      "Intercept\n",
      "25.136840099104255\n",
      "Conflict set:\n",
      "\t<class 'docplex.mp.constr.LinearConstraint'> (status code: ConflictStatus.Member): 0.378x_0-18.935x_1+0.284x_2-19.086x_3+19.952x_4-15.137 <= r\n",
      "\t<class 'docplex.mp.constr.LinearConstraint'> (status code: ConflictStatus.Member): -0.378x_0+18.935x_1-0.284x_2+19.086x_3-19.952x_4+15.137 <= r\n",
      "\t<class 'docplex.mp.constr.LinearConstraint'> (status code: ConflictStatus.Member): 0.378x_0-18.935x_1+0.284x_2-19.086x_3+19.952x_4+300b_5-16.137 >= r\n",
      "\t<class 'docplex.mp.constr.LinearConstraint'> (status code: ConflictStatus.Member): -0.378x_0+18.935x_1-0.284x_2+19.086x_3-19.952x_4-300b_5+316.137 >= r\n",
      "\t<class 'docplex.mp.constr.LinearConstraint'> (status code: ConflictStatus.Member): 0.378x_0-18.935x_1+0.284x_2-19.086x_3+19.952x_4+300b_7-4.137 >= r\n",
      "\t<class 'docplex.mp.constr.LinearConstraint'> (status code: ConflictStatus.Member): -0.378x_0+18.935x_1-0.284x_2+19.086x_3-19.952x_4-300b_7+304.137 >= r\n",
      "No solution found\n"
     ]
    },
    {
     "name": "stderr",
     "output_type": "stream",
     "text": [
      "/home/artem/.conda/envs/ica_new/lib/python3.6/site-packages/docplex/mp/model.py:3278: UserWarning: Unknown quick-setting in Context: display, value: True\n",
      "  context.update_key_value(argname, argval)\n"
     ]
    },
    {
     "name": "stdout",
     "output_type": "stream",
     "text": [
      "show some of the constraints that can be removed to arrive at a minimal conflict\n",
      "Initial y\n",
      "10\n",
      "Intercept\n",
      "25.136840099104255\n",
      "Conflict set:\n",
      "\t<class 'docplex.mp.constr.LinearConstraint'> (status code: ConflictStatus.Member): 0.378x_0-18.935x_1+0.284x_2-19.086x_3+19.952x_4-15.137 <= r\n",
      "\t<class 'docplex.mp.constr.LinearConstraint'> (status code: ConflictStatus.Member): -0.378x_0+18.935x_1-0.284x_2+19.086x_3-19.952x_4+15.137 <= r\n",
      "\t<class 'docplex.mp.constr.LinearConstraint'> (status code: ConflictStatus.Member): 0.378x_0-18.935x_1+0.284x_2-19.086x_3+19.952x_4+300b_5-16.137 >= r\n",
      "\t<class 'docplex.mp.constr.LinearConstraint'> (status code: ConflictStatus.Member): -0.378x_0+18.935x_1-0.284x_2+19.086x_3-19.952x_4-300b_5+316.137 >= r\n",
      "\t<class 'docplex.mp.constr.LinearConstraint'> (status code: ConflictStatus.Member): 0.378x_0-18.935x_1+0.284x_2-19.086x_3+19.952x_4+300b_7-4.137 >= r\n",
      "\t<class 'docplex.mp.constr.LinearConstraint'> (status code: ConflictStatus.Member): -0.378x_0+18.935x_1-0.284x_2+19.086x_3-19.952x_4-300b_7+304.137 >= r\n",
      "No solution found\n"
     ]
    },
    {
     "name": "stderr",
     "output_type": "stream",
     "text": [
      "/home/artem/.conda/envs/ica_new/lib/python3.6/site-packages/docplex/mp/model.py:3278: UserWarning: Unknown quick-setting in Context: display, value: True\n",
      "  context.update_key_value(argname, argval)\n"
     ]
    },
    {
     "name": "stdout",
     "output_type": "stream",
     "text": [
      "show some of the constraints that can be removed to arrive at a minimal conflict\n"
     ]
    },
    {
     "name": "stderr",
     "output_type": "stream",
     "text": [
      "/home/artem/.conda/envs/ica_new/lib/python3.6/site-packages/docplex/mp/model.py:3278: UserWarning: Unknown quick-setting in Context: display, value: True\n",
      "  context.update_key_value(argname, argval)\n"
     ]
    },
    {
     "name": "stdout",
     "output_type": "stream",
     "text": [
      "Initial y\n",
      "10\n",
      "Intercept\n",
      "25.136840099104255\n",
      "Conflict set:\n",
      "\t<class 'docplex.mp.constr.LinearConstraint'> (status code: ConflictStatus.Member): 0.378x_0-18.935x_1+0.284x_2-19.086x_3+19.952x_4-15.137 <= r\n",
      "\t<class 'docplex.mp.constr.LinearConstraint'> (status code: ConflictStatus.Member): -0.378x_0+18.935x_1-0.284x_2+19.086x_3-19.952x_4+15.137 <= r\n",
      "\t<class 'docplex.mp.constr.LinearConstraint'> (status code: ConflictStatus.Member): 0.378x_0-18.935x_1+0.284x_2-19.086x_3+19.952x_4+300b_5-16.137 >= r\n",
      "\t<class 'docplex.mp.constr.LinearConstraint'> (status code: ConflictStatus.Member): -0.378x_0+18.935x_1-0.284x_2+19.086x_3-19.952x_4-300b_5+316.137 >= r\n",
      "\t<class 'docplex.mp.constr.LinearConstraint'> (status code: ConflictStatus.Member): 0.378x_0-18.935x_1+0.284x_2-19.086x_3+19.952x_4+300b_7-4.137 >= r\n",
      "\t<class 'docplex.mp.constr.LinearConstraint'> (status code: ConflictStatus.Member): -0.378x_0+18.935x_1-0.284x_2+19.086x_3-19.952x_4-300b_7+304.137 >= r\n",
      "No solution found\n",
      "show some of the constraints that can be removed to arrive at a minimal conflict\n",
      "Initial y\n",
      "10\n",
      "Intercept\n",
      "25.136840099104255\n",
      "Conflict set:\n",
      "\t<class 'docplex.mp.constr.LinearConstraint'> (status code: ConflictStatus.Member): 0.378x_0-18.935x_1+0.284x_2-19.086x_3+19.952x_4-15.137 <= r\n",
      "\t<class 'docplex.mp.constr.LinearConstraint'> (status code: ConflictStatus.Member): -0.378x_0+18.935x_1-0.284x_2+19.086x_3-19.952x_4+15.137 <= r\n",
      "\t<class 'docplex.mp.constr.LinearConstraint'> (status code: ConflictStatus.Member): 0.378x_0-18.935x_1+0.284x_2-19.086x_3+19.952x_4+300b_5-16.137 >= r\n",
      "\t<class 'docplex.mp.constr.LinearConstraint'> (status code: ConflictStatus.Member): -0.378x_0+18.935x_1-0.284x_2+19.086x_3-19.952x_4-300b_5+316.137 >= r\n",
      "\t<class 'docplex.mp.constr.LinearConstraint'> (status code: ConflictStatus.Member): 0.378x_0-18.935x_1+0.284x_2-19.086x_3+19.952x_4+300b_7-4.137 >= r\n",
      "\t<class 'docplex.mp.constr.LinearConstraint'> (status code: ConflictStatus.Member): -0.378x_0+18.935x_1-0.284x_2+19.086x_3-19.952x_4-300b_7+304.137 >= r\n",
      "No solution found\n"
     ]
    },
    {
     "name": "stderr",
     "output_type": "stream",
     "text": [
      "/home/artem/.conda/envs/ica_new/lib/python3.6/site-packages/docplex/mp/model.py:3278: UserWarning: Unknown quick-setting in Context: display, value: True\n",
      "  context.update_key_value(argname, argval)\n"
     ]
    },
    {
     "name": "stdout",
     "output_type": "stream",
     "text": [
      "show some of the constraints that can be removed to arrive at a minimal conflict\n",
      "Initial y\n",
      "10\n",
      "Intercept\n",
      "25.136840099104255\n",
      "Conflict set:\n",
      "\t<class 'docplex.mp.constr.LinearConstraint'> (status code: ConflictStatus.Member): 0.378x_0-18.935x_1+0.284x_2-19.086x_3+19.952x_4-15.137 <= r\n",
      "\t<class 'docplex.mp.constr.LinearConstraint'> (status code: ConflictStatus.Member): -0.378x_0+18.935x_1-0.284x_2+19.086x_3-19.952x_4+15.137 <= r\n",
      "\t<class 'docplex.mp.constr.LinearConstraint'> (status code: ConflictStatus.Member): 0.378x_0-18.935x_1+0.284x_2-19.086x_3+19.952x_4+300b_5-16.137 >= r\n",
      "\t<class 'docplex.mp.constr.LinearConstraint'> (status code: ConflictStatus.Member): -0.378x_0+18.935x_1-0.284x_2+19.086x_3-19.952x_4-300b_5+316.137 >= r\n",
      "\t<class 'docplex.mp.constr.LinearConstraint'> (status code: ConflictStatus.Member): 0.378x_0-18.935x_1+0.284x_2-19.086x_3+19.952x_4+300b_7-4.137 >= r\n",
      "\t<class 'docplex.mp.constr.LinearConstraint'> (status code: ConflictStatus.Member): -0.378x_0+18.935x_1-0.284x_2+19.086x_3-19.952x_4-300b_7+304.137 >= r\n",
      "No solution found\n"
     ]
    },
    {
     "name": "stderr",
     "output_type": "stream",
     "text": [
      "/home/artem/.conda/envs/ica_new/lib/python3.6/site-packages/docplex/mp/model.py:3278: UserWarning: Unknown quick-setting in Context: display, value: True\n",
      "  context.update_key_value(argname, argval)\n"
     ]
    },
    {
     "name": "stdout",
     "output_type": "stream",
     "text": [
      "show some of the constraints that can be removed to arrive at a minimal conflict\n",
      "Initial y\n",
      "10\n",
      "Intercept\n",
      "25.136840099104255\n",
      "Conflict set:\n",
      "\t<class 'docplex.mp.constr.LinearConstraint'> (status code: ConflictStatus.Member): 0.378x_0-18.935x_1+0.284x_2-19.086x_3+19.952x_4-15.137 <= r\n",
      "\t<class 'docplex.mp.constr.LinearConstraint'> (status code: ConflictStatus.Member): -0.378x_0+18.935x_1-0.284x_2+19.086x_3-19.952x_4+15.137 <= r\n",
      "\t<class 'docplex.mp.constr.LinearConstraint'> (status code: ConflictStatus.Member): 0.378x_0-18.935x_1+0.284x_2-19.086x_3+19.952x_4+300b_5-16.137 >= r\n",
      "\t<class 'docplex.mp.constr.LinearConstraint'> (status code: ConflictStatus.Member): -0.378x_0+18.935x_1-0.284x_2+19.086x_3-19.952x_4-300b_5+316.137 >= r\n",
      "\t<class 'docplex.mp.constr.LinearConstraint'> (status code: ConflictStatus.Member): 0.378x_0-18.935x_1+0.284x_2-19.086x_3+19.952x_4+300b_7-4.137 >= r\n",
      "\t<class 'docplex.mp.constr.LinearConstraint'> (status code: ConflictStatus.Member): -0.378x_0+18.935x_1-0.284x_2+19.086x_3-19.952x_4-300b_7+304.137 >= r\n",
      "No solution found\n"
     ]
    },
    {
     "name": "stderr",
     "output_type": "stream",
     "text": [
      "/home/artem/.conda/envs/ica_new/lib/python3.6/site-packages/docplex/mp/model.py:3278: UserWarning: Unknown quick-setting in Context: display, value: True\n",
      "  context.update_key_value(argname, argval)\n"
     ]
    },
    {
     "name": "stdout",
     "output_type": "stream",
     "text": [
      "show some of the constraints that can be removed to arrive at a minimal conflict\n",
      "Initial y\n",
      "10\n",
      "Intercept\n",
      "25.136840099104255\n",
      "Conflict set:\n",
      "\t<class 'docplex.mp.constr.LinearConstraint'> (status code: ConflictStatus.Member): 0.378x_0-18.935x_1+0.284x_2-19.086x_3+19.952x_4-15.137 <= r\n",
      "\t<class 'docplex.mp.constr.LinearConstraint'> (status code: ConflictStatus.Member): -0.378x_0+18.935x_1-0.284x_2+19.086x_3-19.952x_4+15.137 <= r\n",
      "\t<class 'docplex.mp.constr.LinearConstraint'> (status code: ConflictStatus.Member): 0.378x_0-18.935x_1+0.284x_2-19.086x_3+19.952x_4+300b_5-16.137 >= r\n",
      "\t<class 'docplex.mp.constr.LinearConstraint'> (status code: ConflictStatus.Member): -0.378x_0+18.935x_1-0.284x_2+19.086x_3-19.952x_4-300b_5+316.137 >= r\n",
      "\t<class 'docplex.mp.constr.LinearConstraint'> (status code: ConflictStatus.Member): 0.378x_0-18.935x_1+0.284x_2-19.086x_3+19.952x_4+300b_7-4.137 >= r\n",
      "\t<class 'docplex.mp.constr.LinearConstraint'> (status code: ConflictStatus.Member): -0.378x_0+18.935x_1-0.284x_2+19.086x_3-19.952x_4-300b_7+304.137 >= r\n",
      "No solution found\n"
     ]
    },
    {
     "name": "stderr",
     "output_type": "stream",
     "text": [
      "/home/artem/.conda/envs/ica_new/lib/python3.6/site-packages/docplex/mp/model.py:3278: UserWarning: Unknown quick-setting in Context: display, value: True\n",
      "  context.update_key_value(argname, argval)\n"
     ]
    },
    {
     "name": "stdout",
     "output_type": "stream",
     "text": [
      "show some of the constraints that can be removed to arrive at a minimal conflict\n"
     ]
    },
    {
     "name": "stderr",
     "output_type": "stream",
     "text": [
      "/home/artem/.conda/envs/ica_new/lib/python3.6/site-packages/docplex/mp/model.py:3278: UserWarning: Unknown quick-setting in Context: display, value: True\n",
      "  context.update_key_value(argname, argval)\n"
     ]
    },
    {
     "name": "stdout",
     "output_type": "stream",
     "text": [
      "Initial y\n",
      "10\n",
      "Intercept\n",
      "25.136840099104255\n",
      "Conflict set:\n",
      "\t<class 'docplex.mp.constr.LinearConstraint'> (status code: ConflictStatus.Member): 0.378x_0-18.935x_1+0.284x_2-19.086x_3+19.952x_4-15.137 <= r\n",
      "\t<class 'docplex.mp.constr.LinearConstraint'> (status code: ConflictStatus.Member): -0.378x_0+18.935x_1-0.284x_2+19.086x_3-19.952x_4+15.137 <= r\n",
      "\t<class 'docplex.mp.constr.LinearConstraint'> (status code: ConflictStatus.Member): 0.378x_0-18.935x_1+0.284x_2-19.086x_3+19.952x_4+300b_5-16.137 >= r\n",
      "\t<class 'docplex.mp.constr.LinearConstraint'> (status code: ConflictStatus.Member): -0.378x_0+18.935x_1-0.284x_2+19.086x_3-19.952x_4-300b_5+316.137 >= r\n",
      "\t<class 'docplex.mp.constr.LinearConstraint'> (status code: ConflictStatus.Member): 0.378x_0-18.935x_1+0.284x_2-19.086x_3+19.952x_4+300b_7-4.137 >= r\n",
      "\t<class 'docplex.mp.constr.LinearConstraint'> (status code: ConflictStatus.Member): -0.378x_0+18.935x_1-0.284x_2+19.086x_3-19.952x_4-300b_7+304.137 >= r\n",
      "No solution found\n",
      "show some of the constraints that can be removed to arrive at a minimal conflict\n",
      "Initial y\n",
      "10\n",
      "Intercept\n",
      "25.136840099104255\n",
      "Conflict set:\n",
      "\t<class 'docplex.mp.constr.LinearConstraint'> (status code: ConflictStatus.Member): 0.378x_0-18.935x_1+0.284x_2-19.086x_3+19.952x_4-15.137 <= r\n",
      "\t<class 'docplex.mp.constr.LinearConstraint'> (status code: ConflictStatus.Member): -0.378x_0+18.935x_1-0.284x_2+19.086x_3-19.952x_4+15.137 <= r\n",
      "\t<class 'docplex.mp.constr.LinearConstraint'> (status code: ConflictStatus.Member): 0.378x_0-18.935x_1+0.284x_2-19.086x_3+19.952x_4+300b_5-16.137 >= r\n",
      "\t<class 'docplex.mp.constr.LinearConstraint'> (status code: ConflictStatus.Member): -0.378x_0+18.935x_1-0.284x_2+19.086x_3-19.952x_4-300b_5+316.137 >= r\n",
      "\t<class 'docplex.mp.constr.LinearConstraint'> (status code: ConflictStatus.Member): 0.378x_0-18.935x_1+0.284x_2-19.086x_3+19.952x_4+300b_7-4.137 >= r\n",
      "\t<class 'docplex.mp.constr.LinearConstraint'> (status code: ConflictStatus.Member): -0.378x_0+18.935x_1-0.284x_2+19.086x_3-19.952x_4-300b_7+304.137 >= r\n",
      "No solution found\n"
     ]
    },
    {
     "name": "stderr",
     "output_type": "stream",
     "text": [
      "/home/artem/.conda/envs/ica_new/lib/python3.6/site-packages/docplex/mp/model.py:3278: UserWarning: Unknown quick-setting in Context: display, value: True\n",
      "  context.update_key_value(argname, argval)\n"
     ]
    },
    {
     "name": "stdout",
     "output_type": "stream",
     "text": [
      "show some of the constraints that can be removed to arrive at a minimal conflict\n",
      "Initial y\n",
      "10\n",
      "Intercept\n",
      "25.136840099104255\n",
      "Conflict set:\n",
      "\t<class 'docplex.mp.constr.LinearConstraint'> (status code: ConflictStatus.Member): 0.378x_0-18.935x_1+0.284x_2-19.086x_3+19.952x_4-15.137 <= r\n",
      "\t<class 'docplex.mp.constr.LinearConstraint'> (status code: ConflictStatus.Member): -0.378x_0+18.935x_1-0.284x_2+19.086x_3-19.952x_4+15.137 <= r\n",
      "\t<class 'docplex.mp.constr.LinearConstraint'> (status code: ConflictStatus.Member): 0.378x_0-18.935x_1+0.284x_2-19.086x_3+19.952x_4+300b_5-16.137 >= r\n",
      "\t<class 'docplex.mp.constr.LinearConstraint'> (status code: ConflictStatus.Member): -0.378x_0+18.935x_1-0.284x_2+19.086x_3-19.952x_4-300b_5+316.137 >= r\n",
      "\t<class 'docplex.mp.constr.LinearConstraint'> (status code: ConflictStatus.Member): 0.378x_0-18.935x_1+0.284x_2-19.086x_3+19.952x_4+300b_7-4.137 >= r\n",
      "\t<class 'docplex.mp.constr.LinearConstraint'> (status code: ConflictStatus.Member): -0.378x_0+18.935x_1-0.284x_2+19.086x_3-19.952x_4-300b_7+304.137 >= r\n",
      "No solution found\n"
     ]
    },
    {
     "name": "stderr",
     "output_type": "stream",
     "text": [
      "/home/artem/.conda/envs/ica_new/lib/python3.6/site-packages/docplex/mp/model.py:3278: UserWarning: Unknown quick-setting in Context: display, value: True\n",
      "  context.update_key_value(argname, argval)\n"
     ]
    },
    {
     "name": "stdout",
     "output_type": "stream",
     "text": [
      "show some of the constraints that can be removed to arrive at a minimal conflict\n",
      "Initial y\n",
      "10\n",
      "Intercept\n",
      "25.136840099104255\n",
      "Conflict set:\n",
      "\t<class 'docplex.mp.constr.LinearConstraint'> (status code: ConflictStatus.Member): 0.378x_0-18.935x_1+0.284x_2-19.086x_3+19.952x_4-15.137 <= r\n",
      "\t<class 'docplex.mp.constr.LinearConstraint'> (status code: ConflictStatus.Member): -0.378x_0+18.935x_1-0.284x_2+19.086x_3-19.952x_4+15.137 <= r\n",
      "\t<class 'docplex.mp.constr.LinearConstraint'> (status code: ConflictStatus.Member): 0.378x_0-18.935x_1+0.284x_2-19.086x_3+19.952x_4+300b_5-16.137 >= r\n",
      "\t<class 'docplex.mp.constr.LinearConstraint'> (status code: ConflictStatus.Member): -0.378x_0+18.935x_1-0.284x_2+19.086x_3-19.952x_4-300b_5+316.137 >= r\n",
      "\t<class 'docplex.mp.constr.LinearConstraint'> (status code: ConflictStatus.Member): 0.378x_0-18.935x_1+0.284x_2-19.086x_3+19.952x_4+300b_7-4.137 >= r\n",
      "\t<class 'docplex.mp.constr.LinearConstraint'> (status code: ConflictStatus.Member): -0.378x_0+18.935x_1-0.284x_2+19.086x_3-19.952x_4-300b_7+304.137 >= r\n",
      "No solution found\n",
      "[-1.33968185e-01  1.87854345e+01  5.28081376e-03  1.88224218e+01\n",
      " -1.97499188e+01]\n",
      "25.058759874472457\n"
     ]
    },
    {
     "name": "stderr",
     "output_type": "stream",
     "text": [
      "/home/artem/.conda/envs/ica_new/lib/python3.6/site-packages/docplex/mp/model.py:3278: UserWarning: Unknown quick-setting in Context: display, value: True\n",
      "  context.update_key_value(argname, argval)\n"
     ]
    },
    {
     "name": "stdout",
     "output_type": "stream",
     "text": [
      "JobSolveStatus.OPTIMAL_SOLUTION\n",
      "show some of the constraints that can be removed to arrive at a minimal conflict\n",
      "Initial y\n",
      "47\n",
      "Intercept\n",
      "25.058759874472457\n",
      "Conflict set:\n",
      "\t<class 'docplex.mp.constr.LinearConstraint'> (status code: ConflictStatus.Member): 0.134x_0-18.785x_1-0.005x_2-18.822x_3+19.750x_4+21.941 <= r\n",
      "\t<class 'docplex.mp.constr.LinearConstraint'> (status code: ConflictStatus.Member): -0.134x_0+18.785x_1+0.005x_2+18.822x_3-19.750x_4-21.941 <= r\n",
      "\t<class 'docplex.mp.constr.LinearConstraint'> (status code: ConflictStatus.Member): 0.134x_0-18.785x_1-0.005x_2-18.822x_3+19.750x_4+300b_0+18.941 >= r\n",
      "\t<class 'docplex.mp.constr.LinearConstraint'> (status code: ConflictStatus.Member): -0.134x_0+18.785x_1+0.005x_2+18.822x_3-19.750x_4-300b_0+281.059 >= r\n",
      "\t<class 'docplex.mp.constr.LinearConstraint'> (status code: ConflictStatus.Member): 0.134x_0-18.785x_1-0.005x_2-18.822x_3+19.750x_4+300b_2+38.941 >= r\n",
      "\t<class 'docplex.mp.constr.LinearConstraint'> (status code: ConflictStatus.Member): -0.134x_0+18.785x_1+0.005x_2+18.822x_3-19.750x_4-300b_2+261.059 >= r\n",
      "No solution found\n"
     ]
    },
    {
     "name": "stderr",
     "output_type": "stream",
     "text": [
      "/home/artem/.conda/envs/ica_new/lib/python3.6/site-packages/docplex/mp/model.py:3278: UserWarning: Unknown quick-setting in Context: display, value: True\n",
      "  context.update_key_value(argname, argval)\n"
     ]
    },
    {
     "name": "stdout",
     "output_type": "stream",
     "text": [
      "JobSolveStatus.OPTIMAL_SOLUTION\n",
      "show some of the constraints that can be removed to arrive at a minimal conflict\n",
      "Initial y\n",
      "67\n",
      "Intercept\n",
      "25.058759874472457\n",
      "Conflict set:\n",
      "\t<class 'docplex.mp.constr.LinearConstraint'> (status code: ConflictStatus.Member): 0.134x_0-18.785x_1-0.005x_2-18.822x_3+19.750x_4+41.941 <= r\n",
      "\t<class 'docplex.mp.constr.LinearConstraint'> (status code: ConflictStatus.Member): 0.134x_0-18.785x_1-0.005x_2-18.822x_3+19.750x_4+300b_2+38.941 >= r\n",
      "\t<class 'docplex.mp.constr.LinearConstraint'> (status code: ConflictStatus.Member): -0.134x_0+18.785x_1+0.005x_2+18.822x_3-19.750x_4-300b_2+261.059 >= r\n",
      "No solution found\n"
     ]
    },
    {
     "name": "stderr",
     "output_type": "stream",
     "text": [
      "/home/artem/.conda/envs/ica_new/lib/python3.6/site-packages/docplex/mp/model.py:3278: UserWarning: Unknown quick-setting in Context: display, value: True\n",
      "  context.update_key_value(argname, argval)\n"
     ]
    },
    {
     "name": "stdout",
     "output_type": "stream",
     "text": [
      "show some of the constraints that can be removed to arrive at a minimal conflict\n",
      "Initial y\n",
      "67\n",
      "Intercept\n",
      "25.058759874472457\n",
      "Conflict set:\n",
      "\t<class 'docplex.mp.constr.LinearConstraint'> (status code: ConflictStatus.Member): 0.134x_0-18.785x_1-0.005x_2-18.822x_3+19.750x_4+41.941 <= r\n",
      "\t<class 'docplex.mp.constr.LinearConstraint'> (status code: ConflictStatus.Member): 0.134x_0-18.785x_1-0.005x_2-18.822x_3+19.750x_4+300b_2+38.941 >= r\n",
      "\t<class 'docplex.mp.constr.LinearConstraint'> (status code: ConflictStatus.Member): -0.134x_0+18.785x_1+0.005x_2+18.822x_3-19.750x_4-300b_2+261.059 >= r\n",
      "No solution found\n"
     ]
    },
    {
     "name": "stderr",
     "output_type": "stream",
     "text": [
      "/home/artem/.conda/envs/ica_new/lib/python3.6/site-packages/docplex/mp/model.py:3278: UserWarning: Unknown quick-setting in Context: display, value: True\n",
      "  context.update_key_value(argname, argval)\n"
     ]
    },
    {
     "name": "stdout",
     "output_type": "stream",
     "text": [
      "JobSolveStatus.OPTIMAL_SOLUTION\n",
      "show some of the constraints that can be removed to arrive at a minimal conflict\n",
      "Initial y\n",
      "83\n",
      "Intercept\n",
      "25.058759874472457\n",
      "Conflict set:\n",
      "\t<class 'docplex.mp.constr.LinearConstraint'> (status code: ConflictStatus.Member): 0.134x_0-18.785x_1-0.005x_2-18.822x_3+19.750x_4+57.941 <= r\n",
      "\t<class 'docplex.mp.constr.LinearConstraint'> (status code: ConflictStatus.Member): 0.134x_0-18.785x_1-0.005x_2-18.822x_3+19.750x_4+300b_0+18.941 >= r\n",
      "\t<class 'docplex.mp.constr.LinearConstraint'> (status code: ConflictStatus.Member): -0.134x_0+18.785x_1+0.005x_2+18.822x_3-19.750x_4-300b_0+281.059 >= r\n",
      "No solution found\n"
     ]
    },
    {
     "name": "stderr",
     "output_type": "stream",
     "text": [
      "/home/artem/.conda/envs/ica_new/lib/python3.6/site-packages/docplex/mp/model.py:3278: UserWarning: Unknown quick-setting in Context: display, value: True\n",
      "  context.update_key_value(argname, argval)\n"
     ]
    },
    {
     "name": "stdout",
     "output_type": "stream",
     "text": [
      "JobSolveStatus.OPTIMAL_SOLUTION\n",
      "No solution found\n",
      "show some of the constraints that can be removed to arrive at a minimal conflict\n",
      "Initial y\n",
      "87\n",
      "Intercept\n",
      "25.058759874472457\n",
      "Conflict set:\n",
      "\t<class 'docplex.mp.constr.LinearConstraint'> (status code: ConflictStatus.Member): 0.134x_0-18.785x_1-0.005x_2-18.822x_3+19.750x_4+61.941 <= r\n",
      "\t<class 'docplex.mp.constr.LinearConstraint'> (status code: ConflictStatus.Member): 0.134x_0-18.785x_1-0.005x_2-18.822x_3+19.750x_4+300b_0+18.941 >= r\n",
      "\t<class 'docplex.mp.constr.LinearConstraint'> (status code: ConflictStatus.Member): -0.134x_0+18.785x_1+0.005x_2+18.822x_3-19.750x_4-300b_0+281.059 >= r\n",
      "No solution found\n"
     ]
    },
    {
     "name": "stderr",
     "output_type": "stream",
     "text": [
      "/home/artem/.conda/envs/ica_new/lib/python3.6/site-packages/docplex/mp/model.py:3278: UserWarning: Unknown quick-setting in Context: display, value: True\n",
      "  context.update_key_value(argname, argval)\n"
     ]
    },
    {
     "name": "stdout",
     "output_type": "stream",
     "text": [
      "show some of the constraints that can be removed to arrive at a minimal conflict\n",
      "Initial y\n",
      "10\n",
      "Intercept\n",
      "25.058759874472457\n",
      "Conflict set:\n",
      "\t<class 'docplex.mp.constr.LinearConstraint'> (status code: ConflictStatus.Member): 0.134x_0-18.785x_1-0.005x_2-18.822x_3+19.750x_4-15.059 <= r\n",
      "\t<class 'docplex.mp.constr.LinearConstraint'> (status code: ConflictStatus.Member): -0.134x_0+18.785x_1+0.005x_2+18.822x_3-19.750x_4+15.059 <= r\n",
      "\t<class 'docplex.mp.constr.LinearConstraint'> (status code: ConflictStatus.Member): 0.134x_0-18.785x_1-0.005x_2-18.822x_3+19.750x_4+300b_5-16.059 >= r\n",
      "\t<class 'docplex.mp.constr.LinearConstraint'> (status code: ConflictStatus.Member): -0.134x_0+18.785x_1+0.005x_2+18.822x_3-19.750x_4-300b_5+316.059 >= r\n",
      "\t<class 'docplex.mp.constr.LinearConstraint'> (status code: ConflictStatus.Member): 0.134x_0-18.785x_1-0.005x_2-18.822x_3+19.750x_4+300b_7-4.059 >= r\n",
      "\t<class 'docplex.mp.constr.LinearConstraint'> (status code: ConflictStatus.Member): -0.134x_0+18.785x_1+0.005x_2+18.822x_3-19.750x_4-300b_7+304.059 >= r\n",
      "No solution found\n"
     ]
    },
    {
     "name": "stderr",
     "output_type": "stream",
     "text": [
      "/home/artem/.conda/envs/ica_new/lib/python3.6/site-packages/docplex/mp/model.py:3278: UserWarning: Unknown quick-setting in Context: display, value: True\n",
      "  context.update_key_value(argname, argval)\n"
     ]
    },
    {
     "name": "stdout",
     "output_type": "stream",
     "text": [
      "show some of the constraints that can be removed to arrive at a minimal conflict\n"
     ]
    },
    {
     "name": "stderr",
     "output_type": "stream",
     "text": [
      "/home/artem/.conda/envs/ica_new/lib/python3.6/site-packages/docplex/mp/model.py:3278: UserWarning: Unknown quick-setting in Context: display, value: True\n",
      "  context.update_key_value(argname, argval)\n"
     ]
    },
    {
     "name": "stdout",
     "output_type": "stream",
     "text": [
      "Initial y\n",
      "10\n",
      "Intercept\n",
      "25.058759874472457\n",
      "Conflict set:\n",
      "\t<class 'docplex.mp.constr.LinearConstraint'> (status code: ConflictStatus.Member): 0.134x_0-18.785x_1-0.005x_2-18.822x_3+19.750x_4-15.059 <= r\n",
      "\t<class 'docplex.mp.constr.LinearConstraint'> (status code: ConflictStatus.Member): -0.134x_0+18.785x_1+0.005x_2+18.822x_3-19.750x_4+15.059 <= r\n",
      "\t<class 'docplex.mp.constr.LinearConstraint'> (status code: ConflictStatus.Member): 0.134x_0-18.785x_1-0.005x_2-18.822x_3+19.750x_4+300b_5-16.059 >= r\n",
      "\t<class 'docplex.mp.constr.LinearConstraint'> (status code: ConflictStatus.Member): -0.134x_0+18.785x_1+0.005x_2+18.822x_3-19.750x_4-300b_5+316.059 >= r\n",
      "\t<class 'docplex.mp.constr.LinearConstraint'> (status code: ConflictStatus.Member): 0.134x_0-18.785x_1-0.005x_2-18.822x_3+19.750x_4+300b_7-4.059 >= r\n",
      "\t<class 'docplex.mp.constr.LinearConstraint'> (status code: ConflictStatus.Member): -0.134x_0+18.785x_1+0.005x_2+18.822x_3-19.750x_4-300b_7+304.059 >= r\n",
      "No solution found\n",
      "show some of the constraints that can be removed to arrive at a minimal conflict\n",
      "Initial y\n",
      "10\n",
      "Intercept\n",
      "25.058759874472457\n",
      "Conflict set:\n",
      "\t<class 'docplex.mp.constr.LinearConstraint'> (status code: ConflictStatus.Member): 0.134x_0-18.785x_1-0.005x_2-18.822x_3+19.750x_4-15.059 <= r\n",
      "\t<class 'docplex.mp.constr.LinearConstraint'> (status code: ConflictStatus.Member): -0.134x_0+18.785x_1+0.005x_2+18.822x_3-19.750x_4+15.059 <= r\n",
      "\t<class 'docplex.mp.constr.LinearConstraint'> (status code: ConflictStatus.Member): 0.134x_0-18.785x_1-0.005x_2-18.822x_3+19.750x_4+300b_5-16.059 >= r\n",
      "\t<class 'docplex.mp.constr.LinearConstraint'> (status code: ConflictStatus.Member): -0.134x_0+18.785x_1+0.005x_2+18.822x_3-19.750x_4-300b_5+316.059 >= r\n",
      "\t<class 'docplex.mp.constr.LinearConstraint'> (status code: ConflictStatus.Member): 0.134x_0-18.785x_1-0.005x_2-18.822x_3+19.750x_4+300b_7-4.059 >= r\n",
      "\t<class 'docplex.mp.constr.LinearConstraint'> (status code: ConflictStatus.Member): -0.134x_0+18.785x_1+0.005x_2+18.822x_3-19.750x_4-300b_7+304.059 >= r\n",
      "No solution found\n"
     ]
    },
    {
     "name": "stderr",
     "output_type": "stream",
     "text": [
      "/home/artem/.conda/envs/ica_new/lib/python3.6/site-packages/docplex/mp/model.py:3278: UserWarning: Unknown quick-setting in Context: display, value: True\n",
      "  context.update_key_value(argname, argval)\n"
     ]
    },
    {
     "name": "stdout",
     "output_type": "stream",
     "text": [
      "show some of the constraints that can be removed to arrive at a minimal conflict\n",
      "Initial y\n",
      "10\n",
      "Intercept\n",
      "25.058759874472457\n",
      "Conflict set:\n",
      "\t<class 'docplex.mp.constr.LinearConstraint'> (status code: ConflictStatus.Member): 0.134x_0-18.785x_1-0.005x_2-18.822x_3+19.750x_4-15.059 <= r\n",
      "\t<class 'docplex.mp.constr.LinearConstraint'> (status code: ConflictStatus.Member): -0.134x_0+18.785x_1+0.005x_2+18.822x_3-19.750x_4+15.059 <= r\n",
      "\t<class 'docplex.mp.constr.LinearConstraint'> (status code: ConflictStatus.Member): 0.134x_0-18.785x_1-0.005x_2-18.822x_3+19.750x_4+300b_5-16.059 >= r\n",
      "\t<class 'docplex.mp.constr.LinearConstraint'> (status code: ConflictStatus.Member): -0.134x_0+18.785x_1+0.005x_2+18.822x_3-19.750x_4-300b_5+316.059 >= r\n",
      "\t<class 'docplex.mp.constr.LinearConstraint'> (status code: ConflictStatus.Member): 0.134x_0-18.785x_1-0.005x_2-18.822x_3+19.750x_4+300b_7-4.059 >= r\n",
      "\t<class 'docplex.mp.constr.LinearConstraint'> (status code: ConflictStatus.Member): -0.134x_0+18.785x_1+0.005x_2+18.822x_3-19.750x_4-300b_7+304.059 >= r\n",
      "No solution found\n"
     ]
    },
    {
     "name": "stderr",
     "output_type": "stream",
     "text": [
      "/home/artem/.conda/envs/ica_new/lib/python3.6/site-packages/docplex/mp/model.py:3278: UserWarning: Unknown quick-setting in Context: display, value: True\n",
      "  context.update_key_value(argname, argval)\n"
     ]
    },
    {
     "name": "stdout",
     "output_type": "stream",
     "text": [
      "show some of the constraints that can be removed to arrive at a minimal conflict\n",
      "Initial y\n",
      "10\n",
      "Intercept\n",
      "25.058759874472457\n",
      "Conflict set:\n",
      "\t<class 'docplex.mp.constr.LinearConstraint'> (status code: ConflictStatus.Member): 0.134x_0-18.785x_1-0.005x_2-18.822x_3+19.750x_4-15.059 <= r\n",
      "\t<class 'docplex.mp.constr.LinearConstraint'> (status code: ConflictStatus.Member): -0.134x_0+18.785x_1+0.005x_2+18.822x_3-19.750x_4+15.059 <= r\n",
      "\t<class 'docplex.mp.constr.LinearConstraint'> (status code: ConflictStatus.Member): 0.134x_0-18.785x_1-0.005x_2-18.822x_3+19.750x_4+300b_5-16.059 >= r\n",
      "\t<class 'docplex.mp.constr.LinearConstraint'> (status code: ConflictStatus.Member): -0.134x_0+18.785x_1+0.005x_2+18.822x_3-19.750x_4-300b_5+316.059 >= r\n",
      "\t<class 'docplex.mp.constr.LinearConstraint'> (status code: ConflictStatus.Member): 0.134x_0-18.785x_1-0.005x_2-18.822x_3+19.750x_4+300b_7-4.059 >= r\n",
      "\t<class 'docplex.mp.constr.LinearConstraint'> (status code: ConflictStatus.Member): -0.134x_0+18.785x_1+0.005x_2+18.822x_3-19.750x_4-300b_7+304.059 >= r\n",
      "No solution found\n"
     ]
    },
    {
     "name": "stderr",
     "output_type": "stream",
     "text": [
      "/home/artem/.conda/envs/ica_new/lib/python3.6/site-packages/docplex/mp/model.py:3278: UserWarning: Unknown quick-setting in Context: display, value: True\n",
      "  context.update_key_value(argname, argval)\n"
     ]
    },
    {
     "name": "stdout",
     "output_type": "stream",
     "text": [
      "show some of the constraints that can be removed to arrive at a minimal conflict\n"
     ]
    },
    {
     "name": "stderr",
     "output_type": "stream",
     "text": [
      "/home/artem/.conda/envs/ica_new/lib/python3.6/site-packages/docplex/mp/model.py:3278: UserWarning: Unknown quick-setting in Context: display, value: True\n",
      "  context.update_key_value(argname, argval)\n"
     ]
    },
    {
     "name": "stdout",
     "output_type": "stream",
     "text": [
      "Initial y\n",
      "10\n",
      "Intercept\n",
      "25.058759874472457\n",
      "Conflict set:\n",
      "\t<class 'docplex.mp.constr.LinearConstraint'> (status code: ConflictStatus.Member): 0.134x_0-18.785x_1-0.005x_2-18.822x_3+19.750x_4-15.059 <= r\n",
      "\t<class 'docplex.mp.constr.LinearConstraint'> (status code: ConflictStatus.Member): -0.134x_0+18.785x_1+0.005x_2+18.822x_3-19.750x_4+15.059 <= r\n",
      "\t<class 'docplex.mp.constr.LinearConstraint'> (status code: ConflictStatus.Member): 0.134x_0-18.785x_1-0.005x_2-18.822x_3+19.750x_4+300b_5-16.059 >= r\n",
      "\t<class 'docplex.mp.constr.LinearConstraint'> (status code: ConflictStatus.Member): -0.134x_0+18.785x_1+0.005x_2+18.822x_3-19.750x_4-300b_5+316.059 >= r\n",
      "\t<class 'docplex.mp.constr.LinearConstraint'> (status code: ConflictStatus.Member): 0.134x_0-18.785x_1-0.005x_2-18.822x_3+19.750x_4+300b_7-4.059 >= r\n",
      "\t<class 'docplex.mp.constr.LinearConstraint'> (status code: ConflictStatus.Member): -0.134x_0+18.785x_1+0.005x_2+18.822x_3-19.750x_4-300b_7+304.059 >= r\n",
      "No solution found\n",
      "show some of the constraints that can be removed to arrive at a minimal conflict\n"
     ]
    },
    {
     "name": "stderr",
     "output_type": "stream",
     "text": [
      "/home/artem/.conda/envs/ica_new/lib/python3.6/site-packages/docplex/mp/model.py:3278: UserWarning: Unknown quick-setting in Context: display, value: True\n",
      "  context.update_key_value(argname, argval)\n"
     ]
    },
    {
     "name": "stdout",
     "output_type": "stream",
     "text": [
      "Initial y\n",
      "10\n",
      "Intercept\n",
      "25.058759874472457\n",
      "Conflict set:\n",
      "\t<class 'docplex.mp.constr.LinearConstraint'> (status code: ConflictStatus.Member): 0.134x_0-18.785x_1-0.005x_2-18.822x_3+19.750x_4-15.059 <= r\n",
      "\t<class 'docplex.mp.constr.LinearConstraint'> (status code: ConflictStatus.Member): -0.134x_0+18.785x_1+0.005x_2+18.822x_3-19.750x_4+15.059 <= r\n",
      "\t<class 'docplex.mp.constr.LinearConstraint'> (status code: ConflictStatus.Member): 0.134x_0-18.785x_1-0.005x_2-18.822x_3+19.750x_4+300b_5-16.059 >= r\n",
      "\t<class 'docplex.mp.constr.LinearConstraint'> (status code: ConflictStatus.Member): -0.134x_0+18.785x_1+0.005x_2+18.822x_3-19.750x_4-300b_5+316.059 >= r\n",
      "\t<class 'docplex.mp.constr.LinearConstraint'> (status code: ConflictStatus.Member): 0.134x_0-18.785x_1-0.005x_2-18.822x_3+19.750x_4+300b_7-4.059 >= r\n",
      "\t<class 'docplex.mp.constr.LinearConstraint'> (status code: ConflictStatus.Member): -0.134x_0+18.785x_1+0.005x_2+18.822x_3-19.750x_4-300b_7+304.059 >= r\n",
      "No solution found\n",
      "show some of the constraints that can be removed to arrive at a minimal conflict\n",
      "Initial y\n",
      "10\n",
      "Intercept\n",
      "25.058759874472457\n",
      "Conflict set:\n",
      "\t<class 'docplex.mp.constr.LinearConstraint'> (status code: ConflictStatus.Member): 0.134x_0-18.785x_1-0.005x_2-18.822x_3+19.750x_4-15.059 <= r\n",
      "\t<class 'docplex.mp.constr.LinearConstraint'> (status code: ConflictStatus.Member): -0.134x_0+18.785x_1+0.005x_2+18.822x_3-19.750x_4+15.059 <= r\n",
      "\t<class 'docplex.mp.constr.LinearConstraint'> (status code: ConflictStatus.Member): 0.134x_0-18.785x_1-0.005x_2-18.822x_3+19.750x_4+300b_5-16.059 >= r\n",
      "\t<class 'docplex.mp.constr.LinearConstraint'> (status code: ConflictStatus.Member): -0.134x_0+18.785x_1+0.005x_2+18.822x_3-19.750x_4-300b_5+316.059 >= r\n",
      "\t<class 'docplex.mp.constr.LinearConstraint'> (status code: ConflictStatus.Member): 0.134x_0-18.785x_1-0.005x_2-18.822x_3+19.750x_4+300b_7-4.059 >= r\n",
      "\t<class 'docplex.mp.constr.LinearConstraint'> (status code: ConflictStatus.Member): -0.134x_0+18.785x_1+0.005x_2+18.822x_3-19.750x_4-300b_7+304.059 >= r\n",
      "No solution found\n"
     ]
    },
    {
     "name": "stderr",
     "output_type": "stream",
     "text": [
      "/home/artem/.conda/envs/ica_new/lib/python3.6/site-packages/docplex/mp/model.py:3278: UserWarning: Unknown quick-setting in Context: display, value: True\n",
      "  context.update_key_value(argname, argval)\n"
     ]
    },
    {
     "name": "stdout",
     "output_type": "stream",
     "text": [
      "show some of the constraints that can be removed to arrive at a minimal conflict\n",
      "Initial y\n",
      "10\n",
      "Intercept\n",
      "25.058759874472457\n",
      "Conflict set:\n",
      "\t<class 'docplex.mp.constr.LinearConstraint'> (status code: ConflictStatus.Member): 0.134x_0-18.785x_1-0.005x_2-18.822x_3+19.750x_4-15.059 <= r\n",
      "\t<class 'docplex.mp.constr.LinearConstraint'> (status code: ConflictStatus.Member): -0.134x_0+18.785x_1+0.005x_2+18.822x_3-19.750x_4+15.059 <= r\n",
      "\t<class 'docplex.mp.constr.LinearConstraint'> (status code: ConflictStatus.Member): 0.134x_0-18.785x_1-0.005x_2-18.822x_3+19.750x_4+300b_5-16.059 >= r\n",
      "\t<class 'docplex.mp.constr.LinearConstraint'> (status code: ConflictStatus.Member): -0.134x_0+18.785x_1+0.005x_2+18.822x_3-19.750x_4-300b_5+316.059 >= r\n",
      "\t<class 'docplex.mp.constr.LinearConstraint'> (status code: ConflictStatus.Member): 0.134x_0-18.785x_1-0.005x_2-18.822x_3+19.750x_4+300b_7-4.059 >= r\n",
      "\t<class 'docplex.mp.constr.LinearConstraint'> (status code: ConflictStatus.Member): -0.134x_0+18.785x_1+0.005x_2+18.822x_3-19.750x_4-300b_7+304.059 >= r\n",
      "No solution found\n"
     ]
    },
    {
     "name": "stderr",
     "output_type": "stream",
     "text": [
      "/home/artem/.conda/envs/ica_new/lib/python3.6/site-packages/docplex/mp/model.py:3278: UserWarning: Unknown quick-setting in Context: display, value: True\n",
      "  context.update_key_value(argname, argval)\n"
     ]
    },
    {
     "name": "stdout",
     "output_type": "stream",
     "text": [
      "show some of the constraints that can be removed to arrive at a minimal conflict\n",
      "Initial y\n",
      "10\n",
      "Intercept\n",
      "25.058759874472457\n",
      "Conflict set:\n",
      "\t<class 'docplex.mp.constr.LinearConstraint'> (status code: ConflictStatus.Member): 0.134x_0-18.785x_1-0.005x_2-18.822x_3+19.750x_4-15.059 <= r\n",
      "\t<class 'docplex.mp.constr.LinearConstraint'> (status code: ConflictStatus.Member): -0.134x_0+18.785x_1+0.005x_2+18.822x_3-19.750x_4+15.059 <= r\n",
      "\t<class 'docplex.mp.constr.LinearConstraint'> (status code: ConflictStatus.Member): 0.134x_0-18.785x_1-0.005x_2-18.822x_3+19.750x_4+300b_5-16.059 >= r\n",
      "\t<class 'docplex.mp.constr.LinearConstraint'> (status code: ConflictStatus.Member): -0.134x_0+18.785x_1+0.005x_2+18.822x_3-19.750x_4-300b_5+316.059 >= r\n",
      "\t<class 'docplex.mp.constr.LinearConstraint'> (status code: ConflictStatus.Member): 0.134x_0-18.785x_1-0.005x_2-18.822x_3+19.750x_4+300b_7-4.059 >= r\n",
      "\t<class 'docplex.mp.constr.LinearConstraint'> (status code: ConflictStatus.Member): -0.134x_0+18.785x_1+0.005x_2+18.822x_3-19.750x_4-300b_7+304.059 >= r\n",
      "No solution found\n"
     ]
    },
    {
     "name": "stderr",
     "output_type": "stream",
     "text": [
      "/home/artem/.conda/envs/ica_new/lib/python3.6/site-packages/docplex/mp/model.py:3278: UserWarning: Unknown quick-setting in Context: display, value: True\n",
      "  context.update_key_value(argname, argval)\n"
     ]
    },
    {
     "name": "stdout",
     "output_type": "stream",
     "text": [
      "show some of the constraints that can be removed to arrive at a minimal conflict\n",
      "Initial y\n",
      "10\n",
      "Intercept\n",
      "25.058759874472457\n",
      "Conflict set:\n",
      "\t<class 'docplex.mp.constr.LinearConstraint'> (status code: ConflictStatus.Member): 0.134x_0-18.785x_1-0.005x_2-18.822x_3+19.750x_4-15.059 <= r\n",
      "\t<class 'docplex.mp.constr.LinearConstraint'> (status code: ConflictStatus.Member): -0.134x_0+18.785x_1+0.005x_2+18.822x_3-19.750x_4+15.059 <= r\n",
      "\t<class 'docplex.mp.constr.LinearConstraint'> (status code: ConflictStatus.Member): 0.134x_0-18.785x_1-0.005x_2-18.822x_3+19.750x_4+300b_5-16.059 >= r\n",
      "\t<class 'docplex.mp.constr.LinearConstraint'> (status code: ConflictStatus.Member): -0.134x_0+18.785x_1+0.005x_2+18.822x_3-19.750x_4-300b_5+316.059 >= r\n",
      "\t<class 'docplex.mp.constr.LinearConstraint'> (status code: ConflictStatus.Member): 0.134x_0-18.785x_1-0.005x_2-18.822x_3+19.750x_4+300b_7-4.059 >= r\n",
      "\t<class 'docplex.mp.constr.LinearConstraint'> (status code: ConflictStatus.Member): -0.134x_0+18.785x_1+0.005x_2+18.822x_3-19.750x_4-300b_7+304.059 >= r\n",
      "No solution found\n"
     ]
    },
    {
     "name": "stderr",
     "output_type": "stream",
     "text": [
      "/home/artem/.conda/envs/ica_new/lib/python3.6/site-packages/docplex/mp/model.py:3278: UserWarning: Unknown quick-setting in Context: display, value: True\n",
      "  context.update_key_value(argname, argval)\n"
     ]
    },
    {
     "name": "stdout",
     "output_type": "stream",
     "text": [
      "show some of the constraints that can be removed to arrive at a minimal conflict\n",
      "Initial y\n",
      "10\n",
      "Intercept\n",
      "25.058759874472457\n",
      "Conflict set:\n",
      "\t<class 'docplex.mp.constr.LinearConstraint'> (status code: ConflictStatus.Member): 0.134x_0-18.785x_1-0.005x_2-18.822x_3+19.750x_4-15.059 <= r\n",
      "\t<class 'docplex.mp.constr.LinearConstraint'> (status code: ConflictStatus.Member): -0.134x_0+18.785x_1+0.005x_2+18.822x_3-19.750x_4+15.059 <= r\n",
      "\t<class 'docplex.mp.constr.LinearConstraint'> (status code: ConflictStatus.Member): 0.134x_0-18.785x_1-0.005x_2-18.822x_3+19.750x_4+300b_5-16.059 >= r\n",
      "\t<class 'docplex.mp.constr.LinearConstraint'> (status code: ConflictStatus.Member): -0.134x_0+18.785x_1+0.005x_2+18.822x_3-19.750x_4-300b_5+316.059 >= r\n",
      "\t<class 'docplex.mp.constr.LinearConstraint'> (status code: ConflictStatus.Member): 0.134x_0-18.785x_1-0.005x_2-18.822x_3+19.750x_4+300b_7-4.059 >= r\n",
      "\t<class 'docplex.mp.constr.LinearConstraint'> (status code: ConflictStatus.Member): -0.134x_0+18.785x_1+0.005x_2+18.822x_3-19.750x_4-300b_7+304.059 >= r\n",
      "No solution found\n"
     ]
    },
    {
     "name": "stderr",
     "output_type": "stream",
     "text": [
      "/home/artem/.conda/envs/ica_new/lib/python3.6/site-packages/docplex/mp/model.py:3278: UserWarning: Unknown quick-setting in Context: display, value: True\n",
      "  context.update_key_value(argname, argval)\n"
     ]
    },
    {
     "name": "stdout",
     "output_type": "stream",
     "text": [
      "show some of the constraints that can be removed to arrive at a minimal conflict\n",
      "Initial y\n",
      "10\n",
      "Intercept\n",
      "25.058759874472457\n",
      "Conflict set:\n",
      "\t<class 'docplex.mp.constr.LinearConstraint'> (status code: ConflictStatus.Member): 0.134x_0-18.785x_1-0.005x_2-18.822x_3+19.750x_4-15.059 <= r\n",
      "\t<class 'docplex.mp.constr.LinearConstraint'> (status code: ConflictStatus.Member): -0.134x_0+18.785x_1+0.005x_2+18.822x_3-19.750x_4+15.059 <= r\n",
      "\t<class 'docplex.mp.constr.LinearConstraint'> (status code: ConflictStatus.Member): 0.134x_0-18.785x_1-0.005x_2-18.822x_3+19.750x_4+300b_5-16.059 >= r\n",
      "\t<class 'docplex.mp.constr.LinearConstraint'> (status code: ConflictStatus.Member): -0.134x_0+18.785x_1+0.005x_2+18.822x_3-19.750x_4-300b_5+316.059 >= r\n",
      "\t<class 'docplex.mp.constr.LinearConstraint'> (status code: ConflictStatus.Member): 0.134x_0-18.785x_1-0.005x_2-18.822x_3+19.750x_4+300b_7-4.059 >= r\n",
      "\t<class 'docplex.mp.constr.LinearConstraint'> (status code: ConflictStatus.Member): -0.134x_0+18.785x_1+0.005x_2+18.822x_3-19.750x_4-300b_7+304.059 >= r\n",
      "No solution found\n"
     ]
    },
    {
     "name": "stderr",
     "output_type": "stream",
     "text": [
      "/home/artem/.conda/envs/ica_new/lib/python3.6/site-packages/docplex/mp/model.py:3278: UserWarning: Unknown quick-setting in Context: display, value: True\n",
      "  context.update_key_value(argname, argval)\n"
     ]
    },
    {
     "name": "stdout",
     "output_type": "stream",
     "text": [
      "show some of the constraints that can be removed to arrive at a minimal conflict\n",
      "Initial y\n",
      "10\n",
      "Intercept\n",
      "25.058759874472457\n",
      "Conflict set:\n",
      "\t<class 'docplex.mp.constr.LinearConstraint'> (status code: ConflictStatus.Member): 0.134x_0-18.785x_1-0.005x_2-18.822x_3+19.750x_4-15.059 <= r\n",
      "\t<class 'docplex.mp.constr.LinearConstraint'> (status code: ConflictStatus.Member): -0.134x_0+18.785x_1+0.005x_2+18.822x_3-19.750x_4+15.059 <= r\n",
      "\t<class 'docplex.mp.constr.LinearConstraint'> (status code: ConflictStatus.Member): 0.134x_0-18.785x_1-0.005x_2-18.822x_3+19.750x_4+300b_5-16.059 >= r\n",
      "\t<class 'docplex.mp.constr.LinearConstraint'> (status code: ConflictStatus.Member): -0.134x_0+18.785x_1+0.005x_2+18.822x_3-19.750x_4-300b_5+316.059 >= r\n",
      "\t<class 'docplex.mp.constr.LinearConstraint'> (status code: ConflictStatus.Member): 0.134x_0-18.785x_1-0.005x_2-18.822x_3+19.750x_4+300b_7-4.059 >= r\n",
      "\t<class 'docplex.mp.constr.LinearConstraint'> (status code: ConflictStatus.Member): -0.134x_0+18.785x_1+0.005x_2+18.822x_3-19.750x_4-300b_7+304.059 >= r\n",
      "No solution found\n"
     ]
    },
    {
     "name": "stderr",
     "output_type": "stream",
     "text": [
      "/home/artem/.conda/envs/ica_new/lib/python3.6/site-packages/docplex/mp/model.py:3278: UserWarning: Unknown quick-setting in Context: display, value: True\n",
      "  context.update_key_value(argname, argval)\n"
     ]
    },
    {
     "name": "stdout",
     "output_type": "stream",
     "text": [
      "show some of the constraints that can be removed to arrive at a minimal conflict\n",
      "Initial y\n",
      "10\n",
      "Intercept\n",
      "25.058759874472457\n",
      "Conflict set:\n",
      "\t<class 'docplex.mp.constr.LinearConstraint'> (status code: ConflictStatus.Member): 0.134x_0-18.785x_1-0.005x_2-18.822x_3+19.750x_4-15.059 <= r\n",
      "\t<class 'docplex.mp.constr.LinearConstraint'> (status code: ConflictStatus.Member): -0.134x_0+18.785x_1+0.005x_2+18.822x_3-19.750x_4+15.059 <= r\n",
      "\t<class 'docplex.mp.constr.LinearConstraint'> (status code: ConflictStatus.Member): 0.134x_0-18.785x_1-0.005x_2-18.822x_3+19.750x_4+300b_5-16.059 >= r\n",
      "\t<class 'docplex.mp.constr.LinearConstraint'> (status code: ConflictStatus.Member): -0.134x_0+18.785x_1+0.005x_2+18.822x_3-19.750x_4-300b_5+316.059 >= r\n",
      "\t<class 'docplex.mp.constr.LinearConstraint'> (status code: ConflictStatus.Member): 0.134x_0-18.785x_1-0.005x_2-18.822x_3+19.750x_4+300b_7-4.059 >= r\n",
      "\t<class 'docplex.mp.constr.LinearConstraint'> (status code: ConflictStatus.Member): -0.134x_0+18.785x_1+0.005x_2+18.822x_3-19.750x_4-300b_7+304.059 >= r\n",
      "No solution found\n"
     ]
    },
    {
     "name": "stderr",
     "output_type": "stream",
     "text": [
      "/home/artem/.conda/envs/ica_new/lib/python3.6/site-packages/docplex/mp/model.py:3278: UserWarning: Unknown quick-setting in Context: display, value: True\n",
      "  context.update_key_value(argname, argval)\n"
     ]
    },
    {
     "name": "stdout",
     "output_type": "stream",
     "text": [
      "show some of the constraints that can be removed to arrive at a minimal conflict\n",
      "Initial y\n",
      "10\n",
      "Intercept\n",
      "25.058759874472457\n",
      "Conflict set:\n",
      "\t<class 'docplex.mp.constr.LinearConstraint'> (status code: ConflictStatus.Member): 0.134x_0-18.785x_1-0.005x_2-18.822x_3+19.750x_4-15.059 <= r\n",
      "\t<class 'docplex.mp.constr.LinearConstraint'> (status code: ConflictStatus.Member): -0.134x_0+18.785x_1+0.005x_2+18.822x_3-19.750x_4+15.059 <= r\n",
      "\t<class 'docplex.mp.constr.LinearConstraint'> (status code: ConflictStatus.Member): 0.134x_0-18.785x_1-0.005x_2-18.822x_3+19.750x_4+300b_5-16.059 >= r\n",
      "\t<class 'docplex.mp.constr.LinearConstraint'> (status code: ConflictStatus.Member): -0.134x_0+18.785x_1+0.005x_2+18.822x_3-19.750x_4-300b_5+316.059 >= r\n",
      "\t<class 'docplex.mp.constr.LinearConstraint'> (status code: ConflictStatus.Member): 0.134x_0-18.785x_1-0.005x_2-18.822x_3+19.750x_4+300b_7-4.059 >= r\n",
      "\t<class 'docplex.mp.constr.LinearConstraint'> (status code: ConflictStatus.Member): -0.134x_0+18.785x_1+0.005x_2+18.822x_3-19.750x_4-300b_7+304.059 >= r\n",
      "No solution found\n"
     ]
    },
    {
     "name": "stderr",
     "output_type": "stream",
     "text": [
      "/home/artem/.conda/envs/ica_new/lib/python3.6/site-packages/docplex/mp/model.py:3278: UserWarning: Unknown quick-setting in Context: display, value: True\n",
      "  context.update_key_value(argname, argval)\n"
     ]
    },
    {
     "name": "stdout",
     "output_type": "stream",
     "text": [
      "show some of the constraints that can be removed to arrive at a minimal conflict\n",
      "Initial y\n",
      "10\n",
      "Intercept\n",
      "25.058759874472457\n",
      "Conflict set:\n",
      "\t<class 'docplex.mp.constr.LinearConstraint'> (status code: ConflictStatus.Member): 0.134x_0-18.785x_1-0.005x_2-18.822x_3+19.750x_4-15.059 <= r\n",
      "\t<class 'docplex.mp.constr.LinearConstraint'> (status code: ConflictStatus.Member): -0.134x_0+18.785x_1+0.005x_2+18.822x_3-19.750x_4+15.059 <= r\n",
      "\t<class 'docplex.mp.constr.LinearConstraint'> (status code: ConflictStatus.Member): 0.134x_0-18.785x_1-0.005x_2-18.822x_3+19.750x_4+300b_5-16.059 >= r\n",
      "\t<class 'docplex.mp.constr.LinearConstraint'> (status code: ConflictStatus.Member): -0.134x_0+18.785x_1+0.005x_2+18.822x_3-19.750x_4-300b_5+316.059 >= r\n",
      "\t<class 'docplex.mp.constr.LinearConstraint'> (status code: ConflictStatus.Member): 0.134x_0-18.785x_1-0.005x_2-18.822x_3+19.750x_4+300b_7-4.059 >= r\n",
      "\t<class 'docplex.mp.constr.LinearConstraint'> (status code: ConflictStatus.Member): -0.134x_0+18.785x_1+0.005x_2+18.822x_3-19.750x_4-300b_7+304.059 >= r\n",
      "No solution found\n",
      "[  1.58637579  19.03546905  -1.5437521   19.8429342  -17.97592714]\n",
      "22.684395857675625\n"
     ]
    },
    {
     "name": "stderr",
     "output_type": "stream",
     "text": [
      "/home/artem/.conda/envs/ica_new/lib/python3.6/site-packages/docplex/mp/model.py:3278: UserWarning: Unknown quick-setting in Context: display, value: True\n",
      "  context.update_key_value(argname, argval)\n"
     ]
    },
    {
     "name": "stdout",
     "output_type": "stream",
     "text": [
      "JobSolveStatus.OPTIMAL_SOLUTION\n",
      "show some of the constraints that can be removed to arrive at a minimal conflict\n",
      "Initial y\n",
      "47\n",
      "Intercept\n",
      "22.684395857675625\n",
      "Conflict set:\n",
      "\t<class 'docplex.mp.constr.LinearConstraint'> (status code: ConflictStatus.Member): -1.586x_0-19.035x_1+1.544x_2-19.843x_3+17.976x_4+24.316 <= r\n",
      "\t<class 'docplex.mp.constr.LinearConstraint'> (status code: ConflictStatus.Member): 1.586x_0+19.035x_1-1.544x_2+19.843x_3-17.976x_4-24.316 <= r\n",
      "\t<class 'docplex.mp.constr.LinearConstraint'> (status code: ConflictStatus.Member): -1.586x_0-19.035x_1+1.544x_2-19.843x_3+17.976x_4+300b_0+21.316 >= r\n",
      "\t<class 'docplex.mp.constr.LinearConstraint'> (status code: ConflictStatus.Member): 1.586x_0+19.035x_1-1.544x_2+19.843x_3-17.976x_4-300b_0+278.684 >= r\n",
      "\t<class 'docplex.mp.constr.LinearConstraint'> (status code: ConflictStatus.Member): -1.586x_0-19.035x_1+1.544x_2-19.843x_3+17.976x_4+300b_2+41.316 >= r\n",
      "\t<class 'docplex.mp.constr.LinearConstraint'> (status code: ConflictStatus.Member): 1.586x_0+19.035x_1-1.544x_2+19.843x_3-17.976x_4-300b_2+258.684 >= r\n",
      "No solution found\n"
     ]
    },
    {
     "name": "stderr",
     "output_type": "stream",
     "text": [
      "/home/artem/.conda/envs/ica_new/lib/python3.6/site-packages/docplex/mp/model.py:3278: UserWarning: Unknown quick-setting in Context: display, value: True\n",
      "  context.update_key_value(argname, argval)\n"
     ]
    },
    {
     "name": "stdout",
     "output_type": "stream",
     "text": [
      "JobSolveStatus.OPTIMAL_SOLUTION\n",
      "show some of the constraints that can be removed to arrive at a minimal conflict\n",
      "Initial y\n",
      "67\n",
      "Intercept\n",
      "22.684395857675625\n",
      "Conflict set:\n",
      "\t<class 'docplex.mp.constr.LinearConstraint'> (status code: ConflictStatus.Member): -1.586x_0-19.035x_1+1.544x_2-19.843x_3+17.976x_4+44.316 <= r\n",
      "\t<class 'docplex.mp.constr.LinearConstraint'> (status code: ConflictStatus.Member): -1.586x_0-19.035x_1+1.544x_2-19.843x_3+17.976x_4+300b_2+41.316 >= r\n",
      "\t<class 'docplex.mp.constr.LinearConstraint'> (status code: ConflictStatus.Member): 1.586x_0+19.035x_1-1.544x_2+19.843x_3-17.976x_4-300b_2+258.684 >= r\n",
      "No solution found\n"
     ]
    },
    {
     "name": "stderr",
     "output_type": "stream",
     "text": [
      "/home/artem/.conda/envs/ica_new/lib/python3.6/site-packages/docplex/mp/model.py:3278: UserWarning: Unknown quick-setting in Context: display, value: True\n",
      "  context.update_key_value(argname, argval)\n"
     ]
    },
    {
     "name": "stdout",
     "output_type": "stream",
     "text": [
      "show some of the constraints that can be removed to arrive at a minimal conflict\n",
      "Initial y\n",
      "67\n",
      "Intercept\n",
      "22.684395857675625\n",
      "Conflict set:\n",
      "\t<class 'docplex.mp.constr.LinearConstraint'> (status code: ConflictStatus.Member): -1.586x_0-19.035x_1+1.544x_2-19.843x_3+17.976x_4+44.316 <= r\n",
      "\t<class 'docplex.mp.constr.LinearConstraint'> (status code: ConflictStatus.Member): -1.586x_0-19.035x_1+1.544x_2-19.843x_3+17.976x_4+300b_2+41.316 >= r\n",
      "\t<class 'docplex.mp.constr.LinearConstraint'> (status code: ConflictStatus.Member): 1.586x_0+19.035x_1-1.544x_2+19.843x_3-17.976x_4-300b_2+258.684 >= r\n",
      "No solution found\n"
     ]
    },
    {
     "name": "stderr",
     "output_type": "stream",
     "text": [
      "/home/artem/.conda/envs/ica_new/lib/python3.6/site-packages/docplex/mp/model.py:3278: UserWarning: Unknown quick-setting in Context: display, value: True\n",
      "  context.update_key_value(argname, argval)\n"
     ]
    },
    {
     "name": "stdout",
     "output_type": "stream",
     "text": [
      "JobSolveStatus.OPTIMAL_SOLUTION\n",
      "show some of the constraints that can be removed to arrive at a minimal conflict\n"
     ]
    },
    {
     "name": "stderr",
     "output_type": "stream",
     "text": [
      "/home/artem/.conda/envs/ica_new/lib/python3.6/site-packages/docplex/mp/model.py:3278: UserWarning: Unknown quick-setting in Context: display, value: True\n",
      "  context.update_key_value(argname, argval)\n"
     ]
    },
    {
     "name": "stdout",
     "output_type": "stream",
     "text": [
      "Initial y\n",
      "83\n",
      "Intercept\n",
      "22.684395857675625\n",
      "Conflict set:\n",
      "\t<class 'docplex.mp.constr.LinearConstraint'> (status code: ConflictStatus.Member): -1.586x_0-19.035x_1+1.544x_2-19.843x_3+17.976x_4+60.316 <= r\n",
      "\t<class 'docplex.mp.constr.LinearConstraint'> (status code: ConflictStatus.Member): -1.586x_0-19.035x_1+1.544x_2-19.843x_3+17.976x_4+300b_0+21.316 >= r\n",
      "\t<class 'docplex.mp.constr.LinearConstraint'> (status code: ConflictStatus.Member): 1.586x_0+19.035x_1-1.544x_2+19.843x_3-17.976x_4-300b_0+278.684 >= r\n",
      "No solution found\n",
      "JobSolveStatus.OPTIMAL_SOLUTION\n",
      "No solution found\n",
      "show some of the constraints that can be removed to arrive at a minimal conflict\n",
      "Initial y\n",
      "87\n",
      "Intercept\n",
      "22.684395857675625\n",
      "Conflict set:\n",
      "\t<class 'docplex.mp.constr.LinearConstraint'> (status code: ConflictStatus.Member): -1.586x_0-19.035x_1+1.544x_2-19.843x_3+17.976x_4+64.316 <= r\n",
      "\t<class 'docplex.mp.constr.LinearConstraint'> (status code: ConflictStatus.Member): -1.586x_0-19.035x_1+1.544x_2-19.843x_3+17.976x_4+300b_0+21.316 >= r\n",
      "\t<class 'docplex.mp.constr.LinearConstraint'> (status code: ConflictStatus.Member): 1.586x_0+19.035x_1-1.544x_2+19.843x_3-17.976x_4-300b_0+278.684 >= r\n",
      "No solution found\n"
     ]
    },
    {
     "name": "stderr",
     "output_type": "stream",
     "text": [
      "/home/artem/.conda/envs/ica_new/lib/python3.6/site-packages/docplex/mp/model.py:3278: UserWarning: Unknown quick-setting in Context: display, value: True\n",
      "  context.update_key_value(argname, argval)\n"
     ]
    },
    {
     "name": "stdout",
     "output_type": "stream",
     "text": [
      "show some of the constraints that can be removed to arrive at a minimal conflict\n",
      "Initial y\n",
      "10\n",
      "Intercept\n",
      "22.684395857675625\n",
      "Conflict set:\n",
      "\t<class 'docplex.mp.constr.LinearConstraint'> (status code: ConflictStatus.Member): -1.586x_0-19.035x_1+1.544x_2-19.843x_3+17.976x_4-12.684 <= r\n",
      "\t<class 'docplex.mp.constr.LinearConstraint'> (status code: ConflictStatus.Member): 1.586x_0+19.035x_1-1.544x_2+19.843x_3-17.976x_4+12.684 <= r\n",
      "\t<class 'docplex.mp.constr.LinearConstraint'> (status code: ConflictStatus.Member): -1.586x_0-19.035x_1+1.544x_2-19.843x_3+17.976x_4+300b_5-13.684 >= r\n",
      "\t<class 'docplex.mp.constr.LinearConstraint'> (status code: ConflictStatus.Member): 1.586x_0+19.035x_1-1.544x_2+19.843x_3-17.976x_4-300b_5+313.684 >= r\n",
      "\t<class 'docplex.mp.constr.LinearConstraint'> (status code: ConflictStatus.Member): -1.586x_0-19.035x_1+1.544x_2-19.843x_3+17.976x_4+300b_7-1.684 >= r\n",
      "\t<class 'docplex.mp.constr.LinearConstraint'> (status code: ConflictStatus.Member): 1.586x_0+19.035x_1-1.544x_2+19.843x_3-17.976x_4-300b_7+301.684 >= r\n",
      "No solution found\n"
     ]
    },
    {
     "name": "stderr",
     "output_type": "stream",
     "text": [
      "/home/artem/.conda/envs/ica_new/lib/python3.6/site-packages/docplex/mp/model.py:3278: UserWarning: Unknown quick-setting in Context: display, value: True\n",
      "  context.update_key_value(argname, argval)\n"
     ]
    },
    {
     "name": "stdout",
     "output_type": "stream",
     "text": [
      "show some of the constraints that can be removed to arrive at a minimal conflict\n"
     ]
    },
    {
     "name": "stderr",
     "output_type": "stream",
     "text": [
      "/home/artem/.conda/envs/ica_new/lib/python3.6/site-packages/docplex/mp/model.py:3278: UserWarning: Unknown quick-setting in Context: display, value: True\n",
      "  context.update_key_value(argname, argval)\n"
     ]
    },
    {
     "name": "stdout",
     "output_type": "stream",
     "text": [
      "Initial y\n",
      "10\n",
      "Intercept\n",
      "22.684395857675625\n",
      "Conflict set:\n",
      "\t<class 'docplex.mp.constr.LinearConstraint'> (status code: ConflictStatus.Member): -1.586x_0-19.035x_1+1.544x_2-19.843x_3+17.976x_4-12.684 <= r\n",
      "\t<class 'docplex.mp.constr.LinearConstraint'> (status code: ConflictStatus.Member): 1.586x_0+19.035x_1-1.544x_2+19.843x_3-17.976x_4+12.684 <= r\n",
      "\t<class 'docplex.mp.constr.LinearConstraint'> (status code: ConflictStatus.Member): -1.586x_0-19.035x_1+1.544x_2-19.843x_3+17.976x_4+300b_5-13.684 >= r\n",
      "\t<class 'docplex.mp.constr.LinearConstraint'> (status code: ConflictStatus.Member): 1.586x_0+19.035x_1-1.544x_2+19.843x_3-17.976x_4-300b_5+313.684 >= r\n",
      "\t<class 'docplex.mp.constr.LinearConstraint'> (status code: ConflictStatus.Member): -1.586x_0-19.035x_1+1.544x_2-19.843x_3+17.976x_4+300b_7-1.684 >= r\n",
      "\t<class 'docplex.mp.constr.LinearConstraint'> (status code: ConflictStatus.Member): 1.586x_0+19.035x_1-1.544x_2+19.843x_3-17.976x_4-300b_7+301.684 >= r\n",
      "No solution found\n",
      "show some of the constraints that can be removed to arrive at a minimal conflict\n"
     ]
    },
    {
     "name": "stderr",
     "output_type": "stream",
     "text": [
      "/home/artem/.conda/envs/ica_new/lib/python3.6/site-packages/docplex/mp/model.py:3278: UserWarning: Unknown quick-setting in Context: display, value: True\n",
      "  context.update_key_value(argname, argval)\n"
     ]
    },
    {
     "name": "stdout",
     "output_type": "stream",
     "text": [
      "Initial y\n",
      "10\n",
      "Intercept\n",
      "22.684395857675625\n",
      "Conflict set:\n",
      "\t<class 'docplex.mp.constr.LinearConstraint'> (status code: ConflictStatus.Member): -1.586x_0-19.035x_1+1.544x_2-19.843x_3+17.976x_4-12.684 <= r\n",
      "\t<class 'docplex.mp.constr.LinearConstraint'> (status code: ConflictStatus.Member): 1.586x_0+19.035x_1-1.544x_2+19.843x_3-17.976x_4+12.684 <= r\n",
      "\t<class 'docplex.mp.constr.LinearConstraint'> (status code: ConflictStatus.Member): -1.586x_0-19.035x_1+1.544x_2-19.843x_3+17.976x_4+300b_5-13.684 >= r\n",
      "\t<class 'docplex.mp.constr.LinearConstraint'> (status code: ConflictStatus.Member): 1.586x_0+19.035x_1-1.544x_2+19.843x_3-17.976x_4-300b_5+313.684 >= r\n",
      "\t<class 'docplex.mp.constr.LinearConstraint'> (status code: ConflictStatus.Member): -1.586x_0-19.035x_1+1.544x_2-19.843x_3+17.976x_4+300b_7-1.684 >= r\n",
      "\t<class 'docplex.mp.constr.LinearConstraint'> (status code: ConflictStatus.Member): 1.586x_0+19.035x_1-1.544x_2+19.843x_3-17.976x_4-300b_7+301.684 >= r\n",
      "No solution found\n",
      "show some of the constraints that can be removed to arrive at a minimal conflict\n"
     ]
    },
    {
     "name": "stderr",
     "output_type": "stream",
     "text": [
      "/home/artem/.conda/envs/ica_new/lib/python3.6/site-packages/docplex/mp/model.py:3278: UserWarning: Unknown quick-setting in Context: display, value: True\n",
      "  context.update_key_value(argname, argval)\n"
     ]
    },
    {
     "name": "stdout",
     "output_type": "stream",
     "text": [
      "Initial y\n",
      "10\n",
      "Intercept\n",
      "22.684395857675625\n",
      "Conflict set:\n",
      "\t<class 'docplex.mp.constr.LinearConstraint'> (status code: ConflictStatus.Member): -1.586x_0-19.035x_1+1.544x_2-19.843x_3+17.976x_4-12.684 <= r\n",
      "\t<class 'docplex.mp.constr.LinearConstraint'> (status code: ConflictStatus.Member): 1.586x_0+19.035x_1-1.544x_2+19.843x_3-17.976x_4+12.684 <= r\n",
      "\t<class 'docplex.mp.constr.LinearConstraint'> (status code: ConflictStatus.Member): -1.586x_0-19.035x_1+1.544x_2-19.843x_3+17.976x_4+300b_5-13.684 >= r\n",
      "\t<class 'docplex.mp.constr.LinearConstraint'> (status code: ConflictStatus.Member): 1.586x_0+19.035x_1-1.544x_2+19.843x_3-17.976x_4-300b_5+313.684 >= r\n",
      "\t<class 'docplex.mp.constr.LinearConstraint'> (status code: ConflictStatus.Member): -1.586x_0-19.035x_1+1.544x_2-19.843x_3+17.976x_4+300b_7-1.684 >= r\n",
      "\t<class 'docplex.mp.constr.LinearConstraint'> (status code: ConflictStatus.Member): 1.586x_0+19.035x_1-1.544x_2+19.843x_3-17.976x_4-300b_7+301.684 >= r\n",
      "No solution found\n",
      "show some of the constraints that can be removed to arrive at a minimal conflict\n"
     ]
    },
    {
     "name": "stderr",
     "output_type": "stream",
     "text": [
      "/home/artem/.conda/envs/ica_new/lib/python3.6/site-packages/docplex/mp/model.py:3278: UserWarning: Unknown quick-setting in Context: display, value: True\n",
      "  context.update_key_value(argname, argval)\n"
     ]
    },
    {
     "name": "stdout",
     "output_type": "stream",
     "text": [
      "Initial y\n",
      "10\n",
      "Intercept\n",
      "22.684395857675625\n",
      "Conflict set:\n",
      "\t<class 'docplex.mp.constr.LinearConstraint'> (status code: ConflictStatus.Member): -1.586x_0-19.035x_1+1.544x_2-19.843x_3+17.976x_4-12.684 <= r\n",
      "\t<class 'docplex.mp.constr.LinearConstraint'> (status code: ConflictStatus.Member): 1.586x_0+19.035x_1-1.544x_2+19.843x_3-17.976x_4+12.684 <= r\n",
      "\t<class 'docplex.mp.constr.LinearConstraint'> (status code: ConflictStatus.Member): -1.586x_0-19.035x_1+1.544x_2-19.843x_3+17.976x_4+300b_5-13.684 >= r\n",
      "\t<class 'docplex.mp.constr.LinearConstraint'> (status code: ConflictStatus.Member): 1.586x_0+19.035x_1-1.544x_2+19.843x_3-17.976x_4-300b_5+313.684 >= r\n",
      "\t<class 'docplex.mp.constr.LinearConstraint'> (status code: ConflictStatus.Member): -1.586x_0-19.035x_1+1.544x_2-19.843x_3+17.976x_4+300b_7-1.684 >= r\n",
      "\t<class 'docplex.mp.constr.LinearConstraint'> (status code: ConflictStatus.Member): 1.586x_0+19.035x_1-1.544x_2+19.843x_3-17.976x_4-300b_7+301.684 >= r\n",
      "No solution found\n",
      "show some of the constraints that can be removed to arrive at a minimal conflict\n"
     ]
    },
    {
     "name": "stderr",
     "output_type": "stream",
     "text": [
      "/home/artem/.conda/envs/ica_new/lib/python3.6/site-packages/docplex/mp/model.py:3278: UserWarning: Unknown quick-setting in Context: display, value: True\n",
      "  context.update_key_value(argname, argval)\n"
     ]
    },
    {
     "name": "stdout",
     "output_type": "stream",
     "text": [
      "Initial y\n",
      "10\n",
      "Intercept\n",
      "22.684395857675625\n",
      "Conflict set:\n",
      "\t<class 'docplex.mp.constr.LinearConstraint'> (status code: ConflictStatus.Member): -1.586x_0-19.035x_1+1.544x_2-19.843x_3+17.976x_4-12.684 <= r\n",
      "\t<class 'docplex.mp.constr.LinearConstraint'> (status code: ConflictStatus.Member): 1.586x_0+19.035x_1-1.544x_2+19.843x_3-17.976x_4+12.684 <= r\n",
      "\t<class 'docplex.mp.constr.LinearConstraint'> (status code: ConflictStatus.Member): -1.586x_0-19.035x_1+1.544x_2-19.843x_3+17.976x_4+300b_5-13.684 >= r\n",
      "\t<class 'docplex.mp.constr.LinearConstraint'> (status code: ConflictStatus.Member): 1.586x_0+19.035x_1-1.544x_2+19.843x_3-17.976x_4-300b_5+313.684 >= r\n",
      "\t<class 'docplex.mp.constr.LinearConstraint'> (status code: ConflictStatus.Member): -1.586x_0-19.035x_1+1.544x_2-19.843x_3+17.976x_4+300b_7-1.684 >= r\n",
      "\t<class 'docplex.mp.constr.LinearConstraint'> (status code: ConflictStatus.Member): 1.586x_0+19.035x_1-1.544x_2+19.843x_3-17.976x_4-300b_7+301.684 >= r\n",
      "No solution found\n",
      "show some of the constraints that can be removed to arrive at a minimal conflict\n"
     ]
    },
    {
     "name": "stderr",
     "output_type": "stream",
     "text": [
      "/home/artem/.conda/envs/ica_new/lib/python3.6/site-packages/docplex/mp/model.py:3278: UserWarning: Unknown quick-setting in Context: display, value: True\n",
      "  context.update_key_value(argname, argval)\n"
     ]
    },
    {
     "name": "stdout",
     "output_type": "stream",
     "text": [
      "Initial y\n",
      "10\n",
      "Intercept\n",
      "22.684395857675625\n",
      "Conflict set:\n",
      "\t<class 'docplex.mp.constr.LinearConstraint'> (status code: ConflictStatus.Member): -1.586x_0-19.035x_1+1.544x_2-19.843x_3+17.976x_4-12.684 <= r\n",
      "\t<class 'docplex.mp.constr.LinearConstraint'> (status code: ConflictStatus.Member): 1.586x_0+19.035x_1-1.544x_2+19.843x_3-17.976x_4+12.684 <= r\n",
      "\t<class 'docplex.mp.constr.LinearConstraint'> (status code: ConflictStatus.Member): -1.586x_0-19.035x_1+1.544x_2-19.843x_3+17.976x_4+300b_5-13.684 >= r\n",
      "\t<class 'docplex.mp.constr.LinearConstraint'> (status code: ConflictStatus.Member): 1.586x_0+19.035x_1-1.544x_2+19.843x_3-17.976x_4-300b_5+313.684 >= r\n",
      "\t<class 'docplex.mp.constr.LinearConstraint'> (status code: ConflictStatus.Member): -1.586x_0-19.035x_1+1.544x_2-19.843x_3+17.976x_4+300b_7-1.684 >= r\n",
      "\t<class 'docplex.mp.constr.LinearConstraint'> (status code: ConflictStatus.Member): 1.586x_0+19.035x_1-1.544x_2+19.843x_3-17.976x_4-300b_7+301.684 >= r\n",
      "No solution found\n",
      "show some of the constraints that can be removed to arrive at a minimal conflict\n"
     ]
    },
    {
     "name": "stderr",
     "output_type": "stream",
     "text": [
      "/home/artem/.conda/envs/ica_new/lib/python3.6/site-packages/docplex/mp/model.py:3278: UserWarning: Unknown quick-setting in Context: display, value: True\n",
      "  context.update_key_value(argname, argval)\n"
     ]
    },
    {
     "name": "stdout",
     "output_type": "stream",
     "text": [
      "Initial y\n",
      "10\n",
      "Intercept\n",
      "22.684395857675625\n",
      "Conflict set:\n",
      "\t<class 'docplex.mp.constr.LinearConstraint'> (status code: ConflictStatus.Member): -1.586x_0-19.035x_1+1.544x_2-19.843x_3+17.976x_4-12.684 <= r\n",
      "\t<class 'docplex.mp.constr.LinearConstraint'> (status code: ConflictStatus.Member): 1.586x_0+19.035x_1-1.544x_2+19.843x_3-17.976x_4+12.684 <= r\n",
      "\t<class 'docplex.mp.constr.LinearConstraint'> (status code: ConflictStatus.Member): -1.586x_0-19.035x_1+1.544x_2-19.843x_3+17.976x_4+300b_5-13.684 >= r\n",
      "\t<class 'docplex.mp.constr.LinearConstraint'> (status code: ConflictStatus.Member): 1.586x_0+19.035x_1-1.544x_2+19.843x_3-17.976x_4-300b_5+313.684 >= r\n",
      "\t<class 'docplex.mp.constr.LinearConstraint'> (status code: ConflictStatus.Member): -1.586x_0-19.035x_1+1.544x_2-19.843x_3+17.976x_4+300b_7-1.684 >= r\n",
      "\t<class 'docplex.mp.constr.LinearConstraint'> (status code: ConflictStatus.Member): 1.586x_0+19.035x_1-1.544x_2+19.843x_3-17.976x_4-300b_7+301.684 >= r\n",
      "No solution found\n",
      "show some of the constraints that can be removed to arrive at a minimal conflict\n"
     ]
    },
    {
     "name": "stderr",
     "output_type": "stream",
     "text": [
      "/home/artem/.conda/envs/ica_new/lib/python3.6/site-packages/docplex/mp/model.py:3278: UserWarning: Unknown quick-setting in Context: display, value: True\n",
      "  context.update_key_value(argname, argval)\n"
     ]
    },
    {
     "name": "stdout",
     "output_type": "stream",
     "text": [
      "Initial y\n",
      "10\n",
      "Intercept\n",
      "22.684395857675625\n",
      "Conflict set:\n",
      "\t<class 'docplex.mp.constr.LinearConstraint'> (status code: ConflictStatus.Member): -1.586x_0-19.035x_1+1.544x_2-19.843x_3+17.976x_4-12.684 <= r\n",
      "\t<class 'docplex.mp.constr.LinearConstraint'> (status code: ConflictStatus.Member): 1.586x_0+19.035x_1-1.544x_2+19.843x_3-17.976x_4+12.684 <= r\n",
      "\t<class 'docplex.mp.constr.LinearConstraint'> (status code: ConflictStatus.Member): -1.586x_0-19.035x_1+1.544x_2-19.843x_3+17.976x_4+300b_5-13.684 >= r\n",
      "\t<class 'docplex.mp.constr.LinearConstraint'> (status code: ConflictStatus.Member): 1.586x_0+19.035x_1-1.544x_2+19.843x_3-17.976x_4-300b_5+313.684 >= r\n",
      "\t<class 'docplex.mp.constr.LinearConstraint'> (status code: ConflictStatus.Member): -1.586x_0-19.035x_1+1.544x_2-19.843x_3+17.976x_4+300b_7-1.684 >= r\n",
      "\t<class 'docplex.mp.constr.LinearConstraint'> (status code: ConflictStatus.Member): 1.586x_0+19.035x_1-1.544x_2+19.843x_3-17.976x_4-300b_7+301.684 >= r\n",
      "No solution found\n",
      "show some of the constraints that can be removed to arrive at a minimal conflict\n"
     ]
    },
    {
     "name": "stderr",
     "output_type": "stream",
     "text": [
      "/home/artem/.conda/envs/ica_new/lib/python3.6/site-packages/docplex/mp/model.py:3278: UserWarning: Unknown quick-setting in Context: display, value: True\n",
      "  context.update_key_value(argname, argval)\n"
     ]
    },
    {
     "name": "stdout",
     "output_type": "stream",
     "text": [
      "Initial y\n",
      "10\n",
      "Intercept\n",
      "22.684395857675625\n",
      "Conflict set:\n",
      "\t<class 'docplex.mp.constr.LinearConstraint'> (status code: ConflictStatus.Member): -1.586x_0-19.035x_1+1.544x_2-19.843x_3+17.976x_4-12.684 <= r\n",
      "\t<class 'docplex.mp.constr.LinearConstraint'> (status code: ConflictStatus.Member): 1.586x_0+19.035x_1-1.544x_2+19.843x_3-17.976x_4+12.684 <= r\n",
      "\t<class 'docplex.mp.constr.LinearConstraint'> (status code: ConflictStatus.Member): -1.586x_0-19.035x_1+1.544x_2-19.843x_3+17.976x_4+300b_5-13.684 >= r\n",
      "\t<class 'docplex.mp.constr.LinearConstraint'> (status code: ConflictStatus.Member): 1.586x_0+19.035x_1-1.544x_2+19.843x_3-17.976x_4-300b_5+313.684 >= r\n",
      "\t<class 'docplex.mp.constr.LinearConstraint'> (status code: ConflictStatus.Member): -1.586x_0-19.035x_1+1.544x_2-19.843x_3+17.976x_4+300b_7-1.684 >= r\n",
      "\t<class 'docplex.mp.constr.LinearConstraint'> (status code: ConflictStatus.Member): 1.586x_0+19.035x_1-1.544x_2+19.843x_3-17.976x_4-300b_7+301.684 >= r\n",
      "No solution found\n",
      "show some of the constraints that can be removed to arrive at a minimal conflict\n"
     ]
    },
    {
     "name": "stderr",
     "output_type": "stream",
     "text": [
      "/home/artem/.conda/envs/ica_new/lib/python3.6/site-packages/docplex/mp/model.py:3278: UserWarning: Unknown quick-setting in Context: display, value: True\n",
      "  context.update_key_value(argname, argval)\n"
     ]
    },
    {
     "name": "stdout",
     "output_type": "stream",
     "text": [
      "Initial y\n",
      "10\n",
      "Intercept\n",
      "22.684395857675625\n",
      "Conflict set:\n",
      "\t<class 'docplex.mp.constr.LinearConstraint'> (status code: ConflictStatus.Member): -1.586x_0-19.035x_1+1.544x_2-19.843x_3+17.976x_4-12.684 <= r\n",
      "\t<class 'docplex.mp.constr.LinearConstraint'> (status code: ConflictStatus.Member): 1.586x_0+19.035x_1-1.544x_2+19.843x_3-17.976x_4+12.684 <= r\n",
      "\t<class 'docplex.mp.constr.LinearConstraint'> (status code: ConflictStatus.Member): -1.586x_0-19.035x_1+1.544x_2-19.843x_3+17.976x_4+300b_5-13.684 >= r\n",
      "\t<class 'docplex.mp.constr.LinearConstraint'> (status code: ConflictStatus.Member): 1.586x_0+19.035x_1-1.544x_2+19.843x_3-17.976x_4-300b_5+313.684 >= r\n",
      "\t<class 'docplex.mp.constr.LinearConstraint'> (status code: ConflictStatus.Member): -1.586x_0-19.035x_1+1.544x_2-19.843x_3+17.976x_4+300b_7-1.684 >= r\n",
      "\t<class 'docplex.mp.constr.LinearConstraint'> (status code: ConflictStatus.Member): 1.586x_0+19.035x_1-1.544x_2+19.843x_3-17.976x_4-300b_7+301.684 >= r\n",
      "No solution found\n",
      "show some of the constraints that can be removed to arrive at a minimal conflict\n"
     ]
    },
    {
     "name": "stderr",
     "output_type": "stream",
     "text": [
      "/home/artem/.conda/envs/ica_new/lib/python3.6/site-packages/docplex/mp/model.py:3278: UserWarning: Unknown quick-setting in Context: display, value: True\n",
      "  context.update_key_value(argname, argval)\n"
     ]
    },
    {
     "name": "stdout",
     "output_type": "stream",
     "text": [
      "Initial y\n",
      "10\n",
      "Intercept\n",
      "22.684395857675625\n",
      "Conflict set:\n",
      "\t<class 'docplex.mp.constr.LinearConstraint'> (status code: ConflictStatus.Member): -1.586x_0-19.035x_1+1.544x_2-19.843x_3+17.976x_4-12.684 <= r\n",
      "\t<class 'docplex.mp.constr.LinearConstraint'> (status code: ConflictStatus.Member): 1.586x_0+19.035x_1-1.544x_2+19.843x_3-17.976x_4+12.684 <= r\n",
      "\t<class 'docplex.mp.constr.LinearConstraint'> (status code: ConflictStatus.Member): -1.586x_0-19.035x_1+1.544x_2-19.843x_3+17.976x_4+300b_5-13.684 >= r\n",
      "\t<class 'docplex.mp.constr.LinearConstraint'> (status code: ConflictStatus.Member): 1.586x_0+19.035x_1-1.544x_2+19.843x_3-17.976x_4-300b_5+313.684 >= r\n",
      "\t<class 'docplex.mp.constr.LinearConstraint'> (status code: ConflictStatus.Member): -1.586x_0-19.035x_1+1.544x_2-19.843x_3+17.976x_4+300b_7-1.684 >= r\n",
      "\t<class 'docplex.mp.constr.LinearConstraint'> (status code: ConflictStatus.Member): 1.586x_0+19.035x_1-1.544x_2+19.843x_3-17.976x_4-300b_7+301.684 >= r\n",
      "No solution found\n",
      "show some of the constraints that can be removed to arrive at a minimal conflict\n"
     ]
    },
    {
     "name": "stderr",
     "output_type": "stream",
     "text": [
      "/home/artem/.conda/envs/ica_new/lib/python3.6/site-packages/docplex/mp/model.py:3278: UserWarning: Unknown quick-setting in Context: display, value: True\n",
      "  context.update_key_value(argname, argval)\n"
     ]
    },
    {
     "name": "stdout",
     "output_type": "stream",
     "text": [
      "Initial y\n",
      "10\n",
      "Intercept\n",
      "22.684395857675625\n",
      "Conflict set:\n",
      "\t<class 'docplex.mp.constr.LinearConstraint'> (status code: ConflictStatus.Member): -1.586x_0-19.035x_1+1.544x_2-19.843x_3+17.976x_4-12.684 <= r\n",
      "\t<class 'docplex.mp.constr.LinearConstraint'> (status code: ConflictStatus.Member): 1.586x_0+19.035x_1-1.544x_2+19.843x_3-17.976x_4+12.684 <= r\n",
      "\t<class 'docplex.mp.constr.LinearConstraint'> (status code: ConflictStatus.Member): -1.586x_0-19.035x_1+1.544x_2-19.843x_3+17.976x_4+300b_5-13.684 >= r\n",
      "\t<class 'docplex.mp.constr.LinearConstraint'> (status code: ConflictStatus.Member): 1.586x_0+19.035x_1-1.544x_2+19.843x_3-17.976x_4-300b_5+313.684 >= r\n",
      "\t<class 'docplex.mp.constr.LinearConstraint'> (status code: ConflictStatus.Member): -1.586x_0-19.035x_1+1.544x_2-19.843x_3+17.976x_4+300b_7-1.684 >= r\n",
      "\t<class 'docplex.mp.constr.LinearConstraint'> (status code: ConflictStatus.Member): 1.586x_0+19.035x_1-1.544x_2+19.843x_3-17.976x_4-300b_7+301.684 >= r\n",
      "No solution found\n",
      "show some of the constraints that can be removed to arrive at a minimal conflict\n"
     ]
    },
    {
     "name": "stderr",
     "output_type": "stream",
     "text": [
      "/home/artem/.conda/envs/ica_new/lib/python3.6/site-packages/docplex/mp/model.py:3278: UserWarning: Unknown quick-setting in Context: display, value: True\n",
      "  context.update_key_value(argname, argval)\n"
     ]
    },
    {
     "name": "stdout",
     "output_type": "stream",
     "text": [
      "Initial y\n",
      "10\n",
      "Intercept\n",
      "22.684395857675625\n",
      "Conflict set:\n",
      "\t<class 'docplex.mp.constr.LinearConstraint'> (status code: ConflictStatus.Member): -1.586x_0-19.035x_1+1.544x_2-19.843x_3+17.976x_4-12.684 <= r\n",
      "\t<class 'docplex.mp.constr.LinearConstraint'> (status code: ConflictStatus.Member): 1.586x_0+19.035x_1-1.544x_2+19.843x_3-17.976x_4+12.684 <= r\n",
      "\t<class 'docplex.mp.constr.LinearConstraint'> (status code: ConflictStatus.Member): -1.586x_0-19.035x_1+1.544x_2-19.843x_3+17.976x_4+300b_5-13.684 >= r\n",
      "\t<class 'docplex.mp.constr.LinearConstraint'> (status code: ConflictStatus.Member): 1.586x_0+19.035x_1-1.544x_2+19.843x_3-17.976x_4-300b_5+313.684 >= r\n",
      "\t<class 'docplex.mp.constr.LinearConstraint'> (status code: ConflictStatus.Member): -1.586x_0-19.035x_1+1.544x_2-19.843x_3+17.976x_4+300b_7-1.684 >= r\n",
      "\t<class 'docplex.mp.constr.LinearConstraint'> (status code: ConflictStatus.Member): 1.586x_0+19.035x_1-1.544x_2+19.843x_3-17.976x_4-300b_7+301.684 >= r\n",
      "No solution found\n",
      "show some of the constraints that can be removed to arrive at a minimal conflict\n"
     ]
    },
    {
     "name": "stderr",
     "output_type": "stream",
     "text": [
      "/home/artem/.conda/envs/ica_new/lib/python3.6/site-packages/docplex/mp/model.py:3278: UserWarning: Unknown quick-setting in Context: display, value: True\n",
      "  context.update_key_value(argname, argval)\n"
     ]
    },
    {
     "name": "stdout",
     "output_type": "stream",
     "text": [
      "Initial y\n",
      "10\n",
      "Intercept\n",
      "22.684395857675625\n",
      "Conflict set:\n",
      "\t<class 'docplex.mp.constr.LinearConstraint'> (status code: ConflictStatus.Member): -1.586x_0-19.035x_1+1.544x_2-19.843x_3+17.976x_4-12.684 <= r\n",
      "\t<class 'docplex.mp.constr.LinearConstraint'> (status code: ConflictStatus.Member): 1.586x_0+19.035x_1-1.544x_2+19.843x_3-17.976x_4+12.684 <= r\n",
      "\t<class 'docplex.mp.constr.LinearConstraint'> (status code: ConflictStatus.Member): -1.586x_0-19.035x_1+1.544x_2-19.843x_3+17.976x_4+300b_5-13.684 >= r\n",
      "\t<class 'docplex.mp.constr.LinearConstraint'> (status code: ConflictStatus.Member): 1.586x_0+19.035x_1-1.544x_2+19.843x_3-17.976x_4-300b_5+313.684 >= r\n",
      "\t<class 'docplex.mp.constr.LinearConstraint'> (status code: ConflictStatus.Member): -1.586x_0-19.035x_1+1.544x_2-19.843x_3+17.976x_4+300b_7-1.684 >= r\n",
      "\t<class 'docplex.mp.constr.LinearConstraint'> (status code: ConflictStatus.Member): 1.586x_0+19.035x_1-1.544x_2+19.843x_3-17.976x_4-300b_7+301.684 >= r\n",
      "No solution found\n",
      "show some of the constraints that can be removed to arrive at a minimal conflict\n"
     ]
    },
    {
     "name": "stderr",
     "output_type": "stream",
     "text": [
      "/home/artem/.conda/envs/ica_new/lib/python3.6/site-packages/docplex/mp/model.py:3278: UserWarning: Unknown quick-setting in Context: display, value: True\n",
      "  context.update_key_value(argname, argval)\n"
     ]
    },
    {
     "name": "stdout",
     "output_type": "stream",
     "text": [
      "Initial y\n",
      "10\n",
      "Intercept\n",
      "22.684395857675625\n",
      "Conflict set:\n",
      "\t<class 'docplex.mp.constr.LinearConstraint'> (status code: ConflictStatus.Member): -1.586x_0-19.035x_1+1.544x_2-19.843x_3+17.976x_4-12.684 <= r\n",
      "\t<class 'docplex.mp.constr.LinearConstraint'> (status code: ConflictStatus.Member): 1.586x_0+19.035x_1-1.544x_2+19.843x_3-17.976x_4+12.684 <= r\n",
      "\t<class 'docplex.mp.constr.LinearConstraint'> (status code: ConflictStatus.Member): -1.586x_0-19.035x_1+1.544x_2-19.843x_3+17.976x_4+300b_5-13.684 >= r\n",
      "\t<class 'docplex.mp.constr.LinearConstraint'> (status code: ConflictStatus.Member): 1.586x_0+19.035x_1-1.544x_2+19.843x_3-17.976x_4-300b_5+313.684 >= r\n",
      "\t<class 'docplex.mp.constr.LinearConstraint'> (status code: ConflictStatus.Member): -1.586x_0-19.035x_1+1.544x_2-19.843x_3+17.976x_4+300b_7-1.684 >= r\n",
      "\t<class 'docplex.mp.constr.LinearConstraint'> (status code: ConflictStatus.Member): 1.586x_0+19.035x_1-1.544x_2+19.843x_3-17.976x_4-300b_7+301.684 >= r\n",
      "No solution found\n",
      "show some of the constraints that can be removed to arrive at a minimal conflict\n"
     ]
    },
    {
     "name": "stderr",
     "output_type": "stream",
     "text": [
      "/home/artem/.conda/envs/ica_new/lib/python3.6/site-packages/docplex/mp/model.py:3278: UserWarning: Unknown quick-setting in Context: display, value: True\n",
      "  context.update_key_value(argname, argval)\n"
     ]
    },
    {
     "name": "stdout",
     "output_type": "stream",
     "text": [
      "Initial y\n",
      "10\n",
      "Intercept\n",
      "22.684395857675625\n",
      "Conflict set:\n",
      "\t<class 'docplex.mp.constr.LinearConstraint'> (status code: ConflictStatus.Member): -1.586x_0-19.035x_1+1.544x_2-19.843x_3+17.976x_4-12.684 <= r\n",
      "\t<class 'docplex.mp.constr.LinearConstraint'> (status code: ConflictStatus.Member): 1.586x_0+19.035x_1-1.544x_2+19.843x_3-17.976x_4+12.684 <= r\n",
      "\t<class 'docplex.mp.constr.LinearConstraint'> (status code: ConflictStatus.Member): -1.586x_0-19.035x_1+1.544x_2-19.843x_3+17.976x_4+300b_5-13.684 >= r\n",
      "\t<class 'docplex.mp.constr.LinearConstraint'> (status code: ConflictStatus.Member): 1.586x_0+19.035x_1-1.544x_2+19.843x_3-17.976x_4-300b_5+313.684 >= r\n",
      "\t<class 'docplex.mp.constr.LinearConstraint'> (status code: ConflictStatus.Member): -1.586x_0-19.035x_1+1.544x_2-19.843x_3+17.976x_4+300b_7-1.684 >= r\n",
      "\t<class 'docplex.mp.constr.LinearConstraint'> (status code: ConflictStatus.Member): 1.586x_0+19.035x_1-1.544x_2+19.843x_3-17.976x_4-300b_7+301.684 >= r\n",
      "No solution found\n",
      "show some of the constraints that can be removed to arrive at a minimal conflict\n"
     ]
    },
    {
     "name": "stderr",
     "output_type": "stream",
     "text": [
      "/home/artem/.conda/envs/ica_new/lib/python3.6/site-packages/docplex/mp/model.py:3278: UserWarning: Unknown quick-setting in Context: display, value: True\n",
      "  context.update_key_value(argname, argval)\n"
     ]
    },
    {
     "name": "stdout",
     "output_type": "stream",
     "text": [
      "Initial y\n",
      "10\n",
      "Intercept\n",
      "22.684395857675625\n",
      "Conflict set:\n",
      "\t<class 'docplex.mp.constr.LinearConstraint'> (status code: ConflictStatus.Member): -1.586x_0-19.035x_1+1.544x_2-19.843x_3+17.976x_4-12.684 <= r\n",
      "\t<class 'docplex.mp.constr.LinearConstraint'> (status code: ConflictStatus.Member): 1.586x_0+19.035x_1-1.544x_2+19.843x_3-17.976x_4+12.684 <= r\n",
      "\t<class 'docplex.mp.constr.LinearConstraint'> (status code: ConflictStatus.Member): -1.586x_0-19.035x_1+1.544x_2-19.843x_3+17.976x_4+300b_5-13.684 >= r\n",
      "\t<class 'docplex.mp.constr.LinearConstraint'> (status code: ConflictStatus.Member): 1.586x_0+19.035x_1-1.544x_2+19.843x_3-17.976x_4-300b_5+313.684 >= r\n",
      "\t<class 'docplex.mp.constr.LinearConstraint'> (status code: ConflictStatus.Member): -1.586x_0-19.035x_1+1.544x_2-19.843x_3+17.976x_4+300b_7-1.684 >= r\n",
      "\t<class 'docplex.mp.constr.LinearConstraint'> (status code: ConflictStatus.Member): 1.586x_0+19.035x_1-1.544x_2+19.843x_3-17.976x_4-300b_7+301.684 >= r\n",
      "No solution found\n",
      "[  0.91812041  19.00377916  -0.99030915  19.57880565 -17.72692855]\n",
      "22.953367840681313\n",
      "JobSolveStatus.OPTIMAL_SOLUTION\n",
      "show some of the constraints that can be removed to arrive at a minimal conflict\n",
      "Initial y\n",
      "47\n",
      "Intercept\n",
      "22.953367840681313\n",
      "Conflict set:\n",
      "\t<class 'docplex.mp.constr.LinearConstraint'> (status code: ConflictStatus.Member): -0.918x_0-19.004x_1+0.990x_2-19.579x_3+17.727x_4+24.047 <= r\n",
      "\t<class 'docplex.mp.constr.LinearConstraint'> (status code: ConflictStatus.Member): 0.918x_0+19.004x_1-0.990x_2+19.579x_3-17.727x_4-24.047 <= r\n",
      "\t<class 'docplex.mp.constr.LinearConstraint'> (status code: ConflictStatus.Member): -0.918x_0-19.004x_1+0.990x_2-19.579x_3+17.727x_4+300b_0+21.047 >= r\n",
      "\t<class 'docplex.mp.constr.LinearConstraint'> (status code: ConflictStatus.Member): 0.918x_0+19.004x_1-0.990x_2+19.579x_3-17.727x_4-300b_0+278.953 >= r\n",
      "\t<class 'docplex.mp.constr.LinearConstraint'> (status code: ConflictStatus.Member): -0.918x_0-19.004x_1+0.990x_2-19.579x_3+17.727x_4+300b_2+41.047 >= r\n",
      "\t<class 'docplex.mp.constr.LinearConstraint'> (status code: ConflictStatus.Member): 0.918x_0+19.004x_1-0.990x_2+19.579x_3-17.727x_4-300b_2+258.953 >= r\n",
      "No solution found\n"
     ]
    },
    {
     "name": "stderr",
     "output_type": "stream",
     "text": [
      "/home/artem/.conda/envs/ica_new/lib/python3.6/site-packages/docplex/mp/model.py:3278: UserWarning: Unknown quick-setting in Context: display, value: True\n",
      "  context.update_key_value(argname, argval)\n"
     ]
    },
    {
     "name": "stdout",
     "output_type": "stream",
     "text": [
      "JobSolveStatus.OPTIMAL_SOLUTION\n",
      "show some of the constraints that can be removed to arrive at a minimal conflict\n",
      "Initial y\n",
      "67\n",
      "Intercept\n",
      "22.953367840681313\n",
      "Conflict set:\n",
      "\t<class 'docplex.mp.constr.LinearConstraint'> (status code: ConflictStatus.Member): -0.918x_0-19.004x_1+0.990x_2-19.579x_3+17.727x_4+44.047 <= r\n",
      "\t<class 'docplex.mp.constr.LinearConstraint'> (status code: ConflictStatus.Member): -0.918x_0-19.004x_1+0.990x_2-19.579x_3+17.727x_4+300b_2+41.047 >= r\n",
      "\t<class 'docplex.mp.constr.LinearConstraint'> (status code: ConflictStatus.Member): 0.918x_0+19.004x_1-0.990x_2+19.579x_3-17.727x_4-300b_2+258.953 >= r\n",
      "No solution found\n"
     ]
    },
    {
     "name": "stderr",
     "output_type": "stream",
     "text": [
      "/home/artem/.conda/envs/ica_new/lib/python3.6/site-packages/docplex/mp/model.py:3278: UserWarning: Unknown quick-setting in Context: display, value: True\n",
      "  context.update_key_value(argname, argval)\n"
     ]
    },
    {
     "name": "stdout",
     "output_type": "stream",
     "text": [
      "show some of the constraints that can be removed to arrive at a minimal conflict\n",
      "Initial y\n",
      "67\n",
      "Intercept\n",
      "22.953367840681313\n",
      "Conflict set:\n",
      "\t<class 'docplex.mp.constr.LinearConstraint'> (status code: ConflictStatus.Member): -0.918x_0-19.004x_1+0.990x_2-19.579x_3+17.727x_4+44.047 <= r\n",
      "\t<class 'docplex.mp.constr.LinearConstraint'> (status code: ConflictStatus.Member): -0.918x_0-19.004x_1+0.990x_2-19.579x_3+17.727x_4+300b_2+41.047 >= r\n",
      "\t<class 'docplex.mp.constr.LinearConstraint'> (status code: ConflictStatus.Member): 0.918x_0+19.004x_1-0.990x_2+19.579x_3-17.727x_4-300b_2+258.953 >= r\n",
      "No solution found\n"
     ]
    },
    {
     "name": "stderr",
     "output_type": "stream",
     "text": [
      "/home/artem/.conda/envs/ica_new/lib/python3.6/site-packages/docplex/mp/model.py:3278: UserWarning: Unknown quick-setting in Context: display, value: True\n",
      "  context.update_key_value(argname, argval)\n"
     ]
    },
    {
     "name": "stdout",
     "output_type": "stream",
     "text": [
      "JobSolveStatus.OPTIMAL_SOLUTION\n",
      "show some of the constraints that can be removed to arrive at a minimal conflict\n",
      "Initial y\n",
      "83\n",
      "Intercept\n",
      "22.953367840681313\n",
      "Conflict set:\n",
      "\t<class 'docplex.mp.constr.LinearConstraint'> (status code: ConflictStatus.Member): -0.918x_0-19.004x_1+0.990x_2-19.579x_3+17.727x_4+60.047 <= r\n",
      "\t<class 'docplex.mp.constr.LinearConstraint'> (status code: ConflictStatus.Member): -0.918x_0-19.004x_1+0.990x_2-19.579x_3+17.727x_4+300b_0+21.047 >= r\n",
      "\t<class 'docplex.mp.constr.LinearConstraint'> (status code: ConflictStatus.Member): 0.918x_0+19.004x_1-0.990x_2+19.579x_3-17.727x_4-300b_0+278.953 >= r\n",
      "No solution found\n"
     ]
    },
    {
     "name": "stderr",
     "output_type": "stream",
     "text": [
      "/home/artem/.conda/envs/ica_new/lib/python3.6/site-packages/docplex/mp/model.py:3278: UserWarning: Unknown quick-setting in Context: display, value: True\n",
      "  context.update_key_value(argname, argval)\n"
     ]
    },
    {
     "name": "stdout",
     "output_type": "stream",
     "text": [
      "JobSolveStatus.OPTIMAL_SOLUTION\n",
      "No solution found\n",
      "show some of the constraints that can be removed to arrive at a minimal conflict\n",
      "Initial y\n",
      "87\n",
      "Intercept\n",
      "22.953367840681313\n",
      "Conflict set:\n",
      "\t<class 'docplex.mp.constr.LinearConstraint'> (status code: ConflictStatus.Member): -0.918x_0-19.004x_1+0.990x_2-19.579x_3+17.727x_4+64.047 <= r\n",
      "\t<class 'docplex.mp.constr.LinearConstraint'> (status code: ConflictStatus.Member): -0.918x_0-19.004x_1+0.990x_2-19.579x_3+17.727x_4+300b_0+21.047 >= r\n",
      "\t<class 'docplex.mp.constr.LinearConstraint'> (status code: ConflictStatus.Member): 0.918x_0+19.004x_1-0.990x_2+19.579x_3-17.727x_4-300b_0+278.953 >= r\n",
      "No solution found\n"
     ]
    },
    {
     "name": "stderr",
     "output_type": "stream",
     "text": [
      "/home/artem/.conda/envs/ica_new/lib/python3.6/site-packages/docplex/mp/model.py:3278: UserWarning: Unknown quick-setting in Context: display, value: True\n",
      "  context.update_key_value(argname, argval)\n"
     ]
    },
    {
     "name": "stdout",
     "output_type": "stream",
     "text": [
      "show some of the constraints that can be removed to arrive at a minimal conflict\n",
      "Initial y\n",
      "10\n",
      "Intercept\n",
      "22.953367840681313\n",
      "Conflict set:\n",
      "\t<class 'docplex.mp.constr.LinearConstraint'> (status code: ConflictStatus.Member): -0.918x_0-19.004x_1+0.990x_2-19.579x_3+17.727x_4-12.953 <= r\n",
      "\t<class 'docplex.mp.constr.LinearConstraint'> (status code: ConflictStatus.Member): 0.918x_0+19.004x_1-0.990x_2+19.579x_3-17.727x_4+12.953 <= r\n",
      "\t<class 'docplex.mp.constr.LinearConstraint'> (status code: ConflictStatus.Member): -0.918x_0-19.004x_1+0.990x_2-19.579x_3+17.727x_4+300b_5-13.953 >= r\n",
      "\t<class 'docplex.mp.constr.LinearConstraint'> (status code: ConflictStatus.Member): 0.918x_0+19.004x_1-0.990x_2+19.579x_3-17.727x_4-300b_5+313.953 >= r\n",
      "\t<class 'docplex.mp.constr.LinearConstraint'> (status code: ConflictStatus.Member): -0.918x_0-19.004x_1+0.990x_2-19.579x_3+17.727x_4+300b_7-1.953 >= r\n",
      "\t<class 'docplex.mp.constr.LinearConstraint'> (status code: ConflictStatus.Member): 0.918x_0+19.004x_1-0.990x_2+19.579x_3-17.727x_4-300b_7+301.953 >= r\n",
      "No solution found\n"
     ]
    },
    {
     "name": "stderr",
     "output_type": "stream",
     "text": [
      "/home/artem/.conda/envs/ica_new/lib/python3.6/site-packages/docplex/mp/model.py:3278: UserWarning: Unknown quick-setting in Context: display, value: True\n",
      "  context.update_key_value(argname, argval)\n"
     ]
    },
    {
     "name": "stdout",
     "output_type": "stream",
     "text": [
      "show some of the constraints that can be removed to arrive at a minimal conflict\n",
      "Initial y\n",
      "10\n",
      "Intercept\n",
      "22.953367840681313\n",
      "Conflict set:\n",
      "\t<class 'docplex.mp.constr.LinearConstraint'> (status code: ConflictStatus.Member): -0.918x_0-19.004x_1+0.990x_2-19.579x_3+17.727x_4-12.953 <= r\n",
      "\t<class 'docplex.mp.constr.LinearConstraint'> (status code: ConflictStatus.Member): 0.918x_0+19.004x_1-0.990x_2+19.579x_3-17.727x_4+12.953 <= r\n",
      "\t<class 'docplex.mp.constr.LinearConstraint'> (status code: ConflictStatus.Member): -0.918x_0-19.004x_1+0.990x_2-19.579x_3+17.727x_4+300b_5-13.953 >= r\n",
      "\t<class 'docplex.mp.constr.LinearConstraint'> (status code: ConflictStatus.Member): 0.918x_0+19.004x_1-0.990x_2+19.579x_3-17.727x_4-300b_5+313.953 >= r\n",
      "\t<class 'docplex.mp.constr.LinearConstraint'> (status code: ConflictStatus.Member): -0.918x_0-19.004x_1+0.990x_2-19.579x_3+17.727x_4+300b_7-1.953 >= r\n",
      "\t<class 'docplex.mp.constr.LinearConstraint'> (status code: ConflictStatus.Member): 0.918x_0+19.004x_1-0.990x_2+19.579x_3-17.727x_4-300b_7+301.953 >= r\n",
      "No solution found\n"
     ]
    },
    {
     "name": "stderr",
     "output_type": "stream",
     "text": [
      "/home/artem/.conda/envs/ica_new/lib/python3.6/site-packages/docplex/mp/model.py:3278: UserWarning: Unknown quick-setting in Context: display, value: True\n",
      "  context.update_key_value(argname, argval)\n"
     ]
    },
    {
     "name": "stdout",
     "output_type": "stream",
     "text": [
      "show some of the constraints that can be removed to arrive at a minimal conflict\n",
      "Initial y\n",
      "10\n",
      "Intercept\n",
      "22.953367840681313\n",
      "Conflict set:\n",
      "\t<class 'docplex.mp.constr.LinearConstraint'> (status code: ConflictStatus.Member): -0.918x_0-19.004x_1+0.990x_2-19.579x_3+17.727x_4-12.953 <= r\n",
      "\t<class 'docplex.mp.constr.LinearConstraint'> (status code: ConflictStatus.Member): 0.918x_0+19.004x_1-0.990x_2+19.579x_3-17.727x_4+12.953 <= r\n",
      "\t<class 'docplex.mp.constr.LinearConstraint'> (status code: ConflictStatus.Member): -0.918x_0-19.004x_1+0.990x_2-19.579x_3+17.727x_4+300b_5-13.953 >= r\n",
      "\t<class 'docplex.mp.constr.LinearConstraint'> (status code: ConflictStatus.Member): 0.918x_0+19.004x_1-0.990x_2+19.579x_3-17.727x_4-300b_5+313.953 >= r\n",
      "\t<class 'docplex.mp.constr.LinearConstraint'> (status code: ConflictStatus.Member): -0.918x_0-19.004x_1+0.990x_2-19.579x_3+17.727x_4+300b_7-1.953 >= r\n",
      "\t<class 'docplex.mp.constr.LinearConstraint'> (status code: ConflictStatus.Member): 0.918x_0+19.004x_1-0.990x_2+19.579x_3-17.727x_4-300b_7+301.953 >= r\n",
      "No solution found\n"
     ]
    },
    {
     "name": "stderr",
     "output_type": "stream",
     "text": [
      "/home/artem/.conda/envs/ica_new/lib/python3.6/site-packages/docplex/mp/model.py:3278: UserWarning: Unknown quick-setting in Context: display, value: True\n",
      "  context.update_key_value(argname, argval)\n"
     ]
    },
    {
     "name": "stdout",
     "output_type": "stream",
     "text": [
      "show some of the constraints that can be removed to arrive at a minimal conflict\n",
      "Initial y\n",
      "10\n",
      "Intercept\n",
      "22.953367840681313\n",
      "Conflict set:\n",
      "\t<class 'docplex.mp.constr.LinearConstraint'> (status code: ConflictStatus.Member): -0.918x_0-19.004x_1+0.990x_2-19.579x_3+17.727x_4-12.953 <= r\n",
      "\t<class 'docplex.mp.constr.LinearConstraint'> (status code: ConflictStatus.Member): 0.918x_0+19.004x_1-0.990x_2+19.579x_3-17.727x_4+12.953 <= r\n",
      "\t<class 'docplex.mp.constr.LinearConstraint'> (status code: ConflictStatus.Member): -0.918x_0-19.004x_1+0.990x_2-19.579x_3+17.727x_4+300b_5-13.953 >= r\n",
      "\t<class 'docplex.mp.constr.LinearConstraint'> (status code: ConflictStatus.Member): 0.918x_0+19.004x_1-0.990x_2+19.579x_3-17.727x_4-300b_5+313.953 >= r\n",
      "\t<class 'docplex.mp.constr.LinearConstraint'> (status code: ConflictStatus.Member): -0.918x_0-19.004x_1+0.990x_2-19.579x_3+17.727x_4+300b_7-1.953 >= r\n",
      "\t<class 'docplex.mp.constr.LinearConstraint'> (status code: ConflictStatus.Member): 0.918x_0+19.004x_1-0.990x_2+19.579x_3-17.727x_4-300b_7+301.953 >= r\n",
      "No solution found\n"
     ]
    },
    {
     "name": "stderr",
     "output_type": "stream",
     "text": [
      "/home/artem/.conda/envs/ica_new/lib/python3.6/site-packages/docplex/mp/model.py:3278: UserWarning: Unknown quick-setting in Context: display, value: True\n",
      "  context.update_key_value(argname, argval)\n"
     ]
    },
    {
     "name": "stdout",
     "output_type": "stream",
     "text": [
      "show some of the constraints that can be removed to arrive at a minimal conflict\n",
      "Initial y\n",
      "10\n",
      "Intercept\n",
      "22.953367840681313\n",
      "Conflict set:\n",
      "\t<class 'docplex.mp.constr.LinearConstraint'> (status code: ConflictStatus.Member): -0.918x_0-19.004x_1+0.990x_2-19.579x_3+17.727x_4-12.953 <= r\n",
      "\t<class 'docplex.mp.constr.LinearConstraint'> (status code: ConflictStatus.Member): 0.918x_0+19.004x_1-0.990x_2+19.579x_3-17.727x_4+12.953 <= r\n",
      "\t<class 'docplex.mp.constr.LinearConstraint'> (status code: ConflictStatus.Member): -0.918x_0-19.004x_1+0.990x_2-19.579x_3+17.727x_4+300b_5-13.953 >= r\n",
      "\t<class 'docplex.mp.constr.LinearConstraint'> (status code: ConflictStatus.Member): 0.918x_0+19.004x_1-0.990x_2+19.579x_3-17.727x_4-300b_5+313.953 >= r\n",
      "\t<class 'docplex.mp.constr.LinearConstraint'> (status code: ConflictStatus.Member): -0.918x_0-19.004x_1+0.990x_2-19.579x_3+17.727x_4+300b_7-1.953 >= r\n",
      "\t<class 'docplex.mp.constr.LinearConstraint'> (status code: ConflictStatus.Member): 0.918x_0+19.004x_1-0.990x_2+19.579x_3-17.727x_4-300b_7+301.953 >= r\n",
      "No solution found\n"
     ]
    },
    {
     "name": "stderr",
     "output_type": "stream",
     "text": [
      "/home/artem/.conda/envs/ica_new/lib/python3.6/site-packages/docplex/mp/model.py:3278: UserWarning: Unknown quick-setting in Context: display, value: True\n",
      "  context.update_key_value(argname, argval)\n"
     ]
    },
    {
     "name": "stdout",
     "output_type": "stream",
     "text": [
      "show some of the constraints that can be removed to arrive at a minimal conflict\n",
      "Initial y\n",
      "10\n",
      "Intercept\n",
      "22.953367840681313\n",
      "Conflict set:\n",
      "\t<class 'docplex.mp.constr.LinearConstraint'> (status code: ConflictStatus.Member): -0.918x_0-19.004x_1+0.990x_2-19.579x_3+17.727x_4-12.953 <= r\n",
      "\t<class 'docplex.mp.constr.LinearConstraint'> (status code: ConflictStatus.Member): 0.918x_0+19.004x_1-0.990x_2+19.579x_3-17.727x_4+12.953 <= r\n",
      "\t<class 'docplex.mp.constr.LinearConstraint'> (status code: ConflictStatus.Member): -0.918x_0-19.004x_1+0.990x_2-19.579x_3+17.727x_4+300b_5-13.953 >= r\n",
      "\t<class 'docplex.mp.constr.LinearConstraint'> (status code: ConflictStatus.Member): 0.918x_0+19.004x_1-0.990x_2+19.579x_3-17.727x_4-300b_5+313.953 >= r\n",
      "\t<class 'docplex.mp.constr.LinearConstraint'> (status code: ConflictStatus.Member): -0.918x_0-19.004x_1+0.990x_2-19.579x_3+17.727x_4+300b_7-1.953 >= r\n",
      "\t<class 'docplex.mp.constr.LinearConstraint'> (status code: ConflictStatus.Member): 0.918x_0+19.004x_1-0.990x_2+19.579x_3-17.727x_4-300b_7+301.953 >= r\n",
      "No solution found\n"
     ]
    },
    {
     "name": "stderr",
     "output_type": "stream",
     "text": [
      "/home/artem/.conda/envs/ica_new/lib/python3.6/site-packages/docplex/mp/model.py:3278: UserWarning: Unknown quick-setting in Context: display, value: True\n",
      "  context.update_key_value(argname, argval)\n"
     ]
    },
    {
     "name": "stdout",
     "output_type": "stream",
     "text": [
      "show some of the constraints that can be removed to arrive at a minimal conflict\n",
      "Initial y\n",
      "10\n",
      "Intercept\n",
      "22.953367840681313\n",
      "Conflict set:\n",
      "\t<class 'docplex.mp.constr.LinearConstraint'> (status code: ConflictStatus.Member): -0.918x_0-19.004x_1+0.990x_2-19.579x_3+17.727x_4-12.953 <= r\n",
      "\t<class 'docplex.mp.constr.LinearConstraint'> (status code: ConflictStatus.Member): 0.918x_0+19.004x_1-0.990x_2+19.579x_3-17.727x_4+12.953 <= r\n",
      "\t<class 'docplex.mp.constr.LinearConstraint'> (status code: ConflictStatus.Member): -0.918x_0-19.004x_1+0.990x_2-19.579x_3+17.727x_4+300b_5-13.953 >= r\n",
      "\t<class 'docplex.mp.constr.LinearConstraint'> (status code: ConflictStatus.Member): 0.918x_0+19.004x_1-0.990x_2+19.579x_3-17.727x_4-300b_5+313.953 >= r\n",
      "\t<class 'docplex.mp.constr.LinearConstraint'> (status code: ConflictStatus.Member): -0.918x_0-19.004x_1+0.990x_2-19.579x_3+17.727x_4+300b_7-1.953 >= r\n",
      "\t<class 'docplex.mp.constr.LinearConstraint'> (status code: ConflictStatus.Member): 0.918x_0+19.004x_1-0.990x_2+19.579x_3-17.727x_4-300b_7+301.953 >= r\n",
      "No solution found\n"
     ]
    },
    {
     "name": "stderr",
     "output_type": "stream",
     "text": [
      "/home/artem/.conda/envs/ica_new/lib/python3.6/site-packages/docplex/mp/model.py:3278: UserWarning: Unknown quick-setting in Context: display, value: True\n",
      "  context.update_key_value(argname, argval)\n"
     ]
    },
    {
     "name": "stdout",
     "output_type": "stream",
     "text": [
      "show some of the constraints that can be removed to arrive at a minimal conflict\n",
      "Initial y\n",
      "10\n",
      "Intercept\n",
      "22.953367840681313\n",
      "Conflict set:\n",
      "\t<class 'docplex.mp.constr.LinearConstraint'> (status code: ConflictStatus.Member): -0.918x_0-19.004x_1+0.990x_2-19.579x_3+17.727x_4-12.953 <= r\n",
      "\t<class 'docplex.mp.constr.LinearConstraint'> (status code: ConflictStatus.Member): 0.918x_0+19.004x_1-0.990x_2+19.579x_3-17.727x_4+12.953 <= r\n",
      "\t<class 'docplex.mp.constr.LinearConstraint'> (status code: ConflictStatus.Member): -0.918x_0-19.004x_1+0.990x_2-19.579x_3+17.727x_4+300b_5-13.953 >= r\n",
      "\t<class 'docplex.mp.constr.LinearConstraint'> (status code: ConflictStatus.Member): 0.918x_0+19.004x_1-0.990x_2+19.579x_3-17.727x_4-300b_5+313.953 >= r\n",
      "\t<class 'docplex.mp.constr.LinearConstraint'> (status code: ConflictStatus.Member): -0.918x_0-19.004x_1+0.990x_2-19.579x_3+17.727x_4+300b_7-1.953 >= r\n",
      "\t<class 'docplex.mp.constr.LinearConstraint'> (status code: ConflictStatus.Member): 0.918x_0+19.004x_1-0.990x_2+19.579x_3-17.727x_4-300b_7+301.953 >= r\n",
      "No solution found\n"
     ]
    },
    {
     "name": "stderr",
     "output_type": "stream",
     "text": [
      "/home/artem/.conda/envs/ica_new/lib/python3.6/site-packages/docplex/mp/model.py:3278: UserWarning: Unknown quick-setting in Context: display, value: True\n",
      "  context.update_key_value(argname, argval)\n"
     ]
    },
    {
     "name": "stdout",
     "output_type": "stream",
     "text": [
      "show some of the constraints that can be removed to arrive at a minimal conflict\n",
      "Initial y\n",
      "10\n",
      "Intercept\n",
      "22.953367840681313\n",
      "Conflict set:\n",
      "\t<class 'docplex.mp.constr.LinearConstraint'> (status code: ConflictStatus.Member): -0.918x_0-19.004x_1+0.990x_2-19.579x_3+17.727x_4-12.953 <= r\n",
      "\t<class 'docplex.mp.constr.LinearConstraint'> (status code: ConflictStatus.Member): 0.918x_0+19.004x_1-0.990x_2+19.579x_3-17.727x_4+12.953 <= r\n",
      "\t<class 'docplex.mp.constr.LinearConstraint'> (status code: ConflictStatus.Member): -0.918x_0-19.004x_1+0.990x_2-19.579x_3+17.727x_4+300b_5-13.953 >= r\n",
      "\t<class 'docplex.mp.constr.LinearConstraint'> (status code: ConflictStatus.Member): 0.918x_0+19.004x_1-0.990x_2+19.579x_3-17.727x_4-300b_5+313.953 >= r\n",
      "\t<class 'docplex.mp.constr.LinearConstraint'> (status code: ConflictStatus.Member): -0.918x_0-19.004x_1+0.990x_2-19.579x_3+17.727x_4+300b_7-1.953 >= r\n",
      "\t<class 'docplex.mp.constr.LinearConstraint'> (status code: ConflictStatus.Member): 0.918x_0+19.004x_1-0.990x_2+19.579x_3-17.727x_4-300b_7+301.953 >= r\n",
      "No solution found\n"
     ]
    },
    {
     "name": "stderr",
     "output_type": "stream",
     "text": [
      "/home/artem/.conda/envs/ica_new/lib/python3.6/site-packages/docplex/mp/model.py:3278: UserWarning: Unknown quick-setting in Context: display, value: True\n",
      "  context.update_key_value(argname, argval)\n"
     ]
    },
    {
     "name": "stdout",
     "output_type": "stream",
     "text": [
      "show some of the constraints that can be removed to arrive at a minimal conflict\n",
      "Initial y\n",
      "10\n",
      "Intercept\n",
      "22.953367840681313\n",
      "Conflict set:\n",
      "\t<class 'docplex.mp.constr.LinearConstraint'> (status code: ConflictStatus.Member): -0.918x_0-19.004x_1+0.990x_2-19.579x_3+17.727x_4-12.953 <= r\n",
      "\t<class 'docplex.mp.constr.LinearConstraint'> (status code: ConflictStatus.Member): 0.918x_0+19.004x_1-0.990x_2+19.579x_3-17.727x_4+12.953 <= r\n",
      "\t<class 'docplex.mp.constr.LinearConstraint'> (status code: ConflictStatus.Member): -0.918x_0-19.004x_1+0.990x_2-19.579x_3+17.727x_4+300b_5-13.953 >= r\n",
      "\t<class 'docplex.mp.constr.LinearConstraint'> (status code: ConflictStatus.Member): 0.918x_0+19.004x_1-0.990x_2+19.579x_3-17.727x_4-300b_5+313.953 >= r\n",
      "\t<class 'docplex.mp.constr.LinearConstraint'> (status code: ConflictStatus.Member): -0.918x_0-19.004x_1+0.990x_2-19.579x_3+17.727x_4+300b_7-1.953 >= r\n",
      "\t<class 'docplex.mp.constr.LinearConstraint'> (status code: ConflictStatus.Member): 0.918x_0+19.004x_1-0.990x_2+19.579x_3-17.727x_4-300b_7+301.953 >= r\n",
      "No solution found\n"
     ]
    },
    {
     "name": "stderr",
     "output_type": "stream",
     "text": [
      "/home/artem/.conda/envs/ica_new/lib/python3.6/site-packages/docplex/mp/model.py:3278: UserWarning: Unknown quick-setting in Context: display, value: True\n",
      "  context.update_key_value(argname, argval)\n"
     ]
    },
    {
     "name": "stdout",
     "output_type": "stream",
     "text": [
      "show some of the constraints that can be removed to arrive at a minimal conflict\n",
      "Initial y\n",
      "10\n",
      "Intercept\n",
      "22.953367840681313\n",
      "Conflict set:\n",
      "\t<class 'docplex.mp.constr.LinearConstraint'> (status code: ConflictStatus.Member): -0.918x_0-19.004x_1+0.990x_2-19.579x_3+17.727x_4-12.953 <= r\n",
      "\t<class 'docplex.mp.constr.LinearConstraint'> (status code: ConflictStatus.Member): 0.918x_0+19.004x_1-0.990x_2+19.579x_3-17.727x_4+12.953 <= r\n",
      "\t<class 'docplex.mp.constr.LinearConstraint'> (status code: ConflictStatus.Member): -0.918x_0-19.004x_1+0.990x_2-19.579x_3+17.727x_4+300b_5-13.953 >= r\n",
      "\t<class 'docplex.mp.constr.LinearConstraint'> (status code: ConflictStatus.Member): 0.918x_0+19.004x_1-0.990x_2+19.579x_3-17.727x_4-300b_5+313.953 >= r\n",
      "\t<class 'docplex.mp.constr.LinearConstraint'> (status code: ConflictStatus.Member): -0.918x_0-19.004x_1+0.990x_2-19.579x_3+17.727x_4+300b_7-1.953 >= r\n",
      "\t<class 'docplex.mp.constr.LinearConstraint'> (status code: ConflictStatus.Member): 0.918x_0+19.004x_1-0.990x_2+19.579x_3-17.727x_4-300b_7+301.953 >= r\n",
      "No solution found\n"
     ]
    },
    {
     "name": "stderr",
     "output_type": "stream",
     "text": [
      "/home/artem/.conda/envs/ica_new/lib/python3.6/site-packages/docplex/mp/model.py:3278: UserWarning: Unknown quick-setting in Context: display, value: True\n",
      "  context.update_key_value(argname, argval)\n"
     ]
    },
    {
     "name": "stdout",
     "output_type": "stream",
     "text": [
      "show some of the constraints that can be removed to arrive at a minimal conflict\n",
      "Initial y\n",
      "10\n",
      "Intercept\n",
      "22.953367840681313\n",
      "Conflict set:\n",
      "\t<class 'docplex.mp.constr.LinearConstraint'> (status code: ConflictStatus.Member): -0.918x_0-19.004x_1+0.990x_2-19.579x_3+17.727x_4-12.953 <= r\n",
      "\t<class 'docplex.mp.constr.LinearConstraint'> (status code: ConflictStatus.Member): 0.918x_0+19.004x_1-0.990x_2+19.579x_3-17.727x_4+12.953 <= r\n",
      "\t<class 'docplex.mp.constr.LinearConstraint'> (status code: ConflictStatus.Member): -0.918x_0-19.004x_1+0.990x_2-19.579x_3+17.727x_4+300b_5-13.953 >= r\n",
      "\t<class 'docplex.mp.constr.LinearConstraint'> (status code: ConflictStatus.Member): 0.918x_0+19.004x_1-0.990x_2+19.579x_3-17.727x_4-300b_5+313.953 >= r\n",
      "\t<class 'docplex.mp.constr.LinearConstraint'> (status code: ConflictStatus.Member): -0.918x_0-19.004x_1+0.990x_2-19.579x_3+17.727x_4+300b_7-1.953 >= r\n",
      "\t<class 'docplex.mp.constr.LinearConstraint'> (status code: ConflictStatus.Member): 0.918x_0+19.004x_1-0.990x_2+19.579x_3-17.727x_4-300b_7+301.953 >= r\n",
      "No solution found\n"
     ]
    },
    {
     "name": "stderr",
     "output_type": "stream",
     "text": [
      "/home/artem/.conda/envs/ica_new/lib/python3.6/site-packages/docplex/mp/model.py:3278: UserWarning: Unknown quick-setting in Context: display, value: True\n",
      "  context.update_key_value(argname, argval)\n"
     ]
    },
    {
     "name": "stdout",
     "output_type": "stream",
     "text": [
      "show some of the constraints that can be removed to arrive at a minimal conflict\n"
     ]
    },
    {
     "name": "stderr",
     "output_type": "stream",
     "text": [
      "/home/artem/.conda/envs/ica_new/lib/python3.6/site-packages/docplex/mp/model.py:3278: UserWarning: Unknown quick-setting in Context: display, value: True\n",
      "  context.update_key_value(argname, argval)\n"
     ]
    },
    {
     "name": "stdout",
     "output_type": "stream",
     "text": [
      "Initial y\n",
      "10\n",
      "Intercept\n",
      "22.953367840681313\n",
      "Conflict set:\n",
      "\t<class 'docplex.mp.constr.LinearConstraint'> (status code: ConflictStatus.Member): -0.918x_0-19.004x_1+0.990x_2-19.579x_3+17.727x_4-12.953 <= r\n",
      "\t<class 'docplex.mp.constr.LinearConstraint'> (status code: ConflictStatus.Member): 0.918x_0+19.004x_1-0.990x_2+19.579x_3-17.727x_4+12.953 <= r\n",
      "\t<class 'docplex.mp.constr.LinearConstraint'> (status code: ConflictStatus.Member): -0.918x_0-19.004x_1+0.990x_2-19.579x_3+17.727x_4+300b_5-13.953 >= r\n",
      "\t<class 'docplex.mp.constr.LinearConstraint'> (status code: ConflictStatus.Member): 0.918x_0+19.004x_1-0.990x_2+19.579x_3-17.727x_4-300b_5+313.953 >= r\n",
      "\t<class 'docplex.mp.constr.LinearConstraint'> (status code: ConflictStatus.Member): -0.918x_0-19.004x_1+0.990x_2-19.579x_3+17.727x_4+300b_7-1.953 >= r\n",
      "\t<class 'docplex.mp.constr.LinearConstraint'> (status code: ConflictStatus.Member): 0.918x_0+19.004x_1-0.990x_2+19.579x_3-17.727x_4-300b_7+301.953 >= r\n",
      "No solution found\n",
      "show some of the constraints that can be removed to arrive at a minimal conflict\n",
      "Initial y\n",
      "10\n",
      "Intercept\n",
      "22.953367840681313\n",
      "Conflict set:\n",
      "\t<class 'docplex.mp.constr.LinearConstraint'> (status code: ConflictStatus.Member): -0.918x_0-19.004x_1+0.990x_2-19.579x_3+17.727x_4-12.953 <= r\n",
      "\t<class 'docplex.mp.constr.LinearConstraint'> (status code: ConflictStatus.Member): 0.918x_0+19.004x_1-0.990x_2+19.579x_3-17.727x_4+12.953 <= r\n",
      "\t<class 'docplex.mp.constr.LinearConstraint'> (status code: ConflictStatus.Member): -0.918x_0-19.004x_1+0.990x_2-19.579x_3+17.727x_4+300b_5-13.953 >= r\n",
      "\t<class 'docplex.mp.constr.LinearConstraint'> (status code: ConflictStatus.Member): 0.918x_0+19.004x_1-0.990x_2+19.579x_3-17.727x_4-300b_5+313.953 >= r\n",
      "\t<class 'docplex.mp.constr.LinearConstraint'> (status code: ConflictStatus.Member): -0.918x_0-19.004x_1+0.990x_2-19.579x_3+17.727x_4+300b_7-1.953 >= r\n",
      "\t<class 'docplex.mp.constr.LinearConstraint'> (status code: ConflictStatus.Member): 0.918x_0+19.004x_1-0.990x_2+19.579x_3-17.727x_4-300b_7+301.953 >= r\n",
      "No solution found\n"
     ]
    },
    {
     "name": "stderr",
     "output_type": "stream",
     "text": [
      "/home/artem/.conda/envs/ica_new/lib/python3.6/site-packages/docplex/mp/model.py:3278: UserWarning: Unknown quick-setting in Context: display, value: True\n",
      "  context.update_key_value(argname, argval)\n"
     ]
    },
    {
     "name": "stdout",
     "output_type": "stream",
     "text": [
      "show some of the constraints that can be removed to arrive at a minimal conflict\n",
      "Initial y\n",
      "10\n",
      "Intercept\n",
      "22.953367840681313\n",
      "Conflict set:\n",
      "\t<class 'docplex.mp.constr.LinearConstraint'> (status code: ConflictStatus.Member): -0.918x_0-19.004x_1+0.990x_2-19.579x_3+17.727x_4-12.953 <= r\n",
      "\t<class 'docplex.mp.constr.LinearConstraint'> (status code: ConflictStatus.Member): 0.918x_0+19.004x_1-0.990x_2+19.579x_3-17.727x_4+12.953 <= r\n",
      "\t<class 'docplex.mp.constr.LinearConstraint'> (status code: ConflictStatus.Member): -0.918x_0-19.004x_1+0.990x_2-19.579x_3+17.727x_4+300b_5-13.953 >= r\n",
      "\t<class 'docplex.mp.constr.LinearConstraint'> (status code: ConflictStatus.Member): 0.918x_0+19.004x_1-0.990x_2+19.579x_3-17.727x_4-300b_5+313.953 >= r\n",
      "\t<class 'docplex.mp.constr.LinearConstraint'> (status code: ConflictStatus.Member): -0.918x_0-19.004x_1+0.990x_2-19.579x_3+17.727x_4+300b_7-1.953 >= r\n",
      "\t<class 'docplex.mp.constr.LinearConstraint'> (status code: ConflictStatus.Member): 0.918x_0+19.004x_1-0.990x_2+19.579x_3-17.727x_4-300b_7+301.953 >= r\n",
      "No solution found\n"
     ]
    },
    {
     "name": "stderr",
     "output_type": "stream",
     "text": [
      "/home/artem/.conda/envs/ica_new/lib/python3.6/site-packages/docplex/mp/model.py:3278: UserWarning: Unknown quick-setting in Context: display, value: True\n",
      "  context.update_key_value(argname, argval)\n"
     ]
    },
    {
     "name": "stdout",
     "output_type": "stream",
     "text": [
      "show some of the constraints that can be removed to arrive at a minimal conflict\n"
     ]
    },
    {
     "name": "stderr",
     "output_type": "stream",
     "text": [
      "/home/artem/.conda/envs/ica_new/lib/python3.6/site-packages/docplex/mp/model.py:3278: UserWarning: Unknown quick-setting in Context: display, value: True\n",
      "  context.update_key_value(argname, argval)\n"
     ]
    },
    {
     "name": "stdout",
     "output_type": "stream",
     "text": [
      "Initial y\n",
      "10\n",
      "Intercept\n",
      "22.953367840681313\n",
      "Conflict set:\n",
      "\t<class 'docplex.mp.constr.LinearConstraint'> (status code: ConflictStatus.Member): -0.918x_0-19.004x_1+0.990x_2-19.579x_3+17.727x_4-12.953 <= r\n",
      "\t<class 'docplex.mp.constr.LinearConstraint'> (status code: ConflictStatus.Member): 0.918x_0+19.004x_1-0.990x_2+19.579x_3-17.727x_4+12.953 <= r\n",
      "\t<class 'docplex.mp.constr.LinearConstraint'> (status code: ConflictStatus.Member): -0.918x_0-19.004x_1+0.990x_2-19.579x_3+17.727x_4+300b_5-13.953 >= r\n",
      "\t<class 'docplex.mp.constr.LinearConstraint'> (status code: ConflictStatus.Member): 0.918x_0+19.004x_1-0.990x_2+19.579x_3-17.727x_4-300b_5+313.953 >= r\n",
      "\t<class 'docplex.mp.constr.LinearConstraint'> (status code: ConflictStatus.Member): -0.918x_0-19.004x_1+0.990x_2-19.579x_3+17.727x_4+300b_7-1.953 >= r\n",
      "\t<class 'docplex.mp.constr.LinearConstraint'> (status code: ConflictStatus.Member): 0.918x_0+19.004x_1-0.990x_2+19.579x_3-17.727x_4-300b_7+301.953 >= r\n",
      "No solution found\n",
      "show some of the constraints that can be removed to arrive at a minimal conflict\n"
     ]
    },
    {
     "name": "stderr",
     "output_type": "stream",
     "text": [
      "/home/artem/.conda/envs/ica_new/lib/python3.6/site-packages/docplex/mp/model.py:3278: UserWarning: Unknown quick-setting in Context: display, value: True\n",
      "  context.update_key_value(argname, argval)\n"
     ]
    },
    {
     "name": "stdout",
     "output_type": "stream",
     "text": [
      "Initial y\n",
      "10\n",
      "Intercept\n",
      "22.953367840681313\n",
      "Conflict set:\n",
      "\t<class 'docplex.mp.constr.LinearConstraint'> (status code: ConflictStatus.Member): -0.918x_0-19.004x_1+0.990x_2-19.579x_3+17.727x_4-12.953 <= r\n",
      "\t<class 'docplex.mp.constr.LinearConstraint'> (status code: ConflictStatus.Member): 0.918x_0+19.004x_1-0.990x_2+19.579x_3-17.727x_4+12.953 <= r\n",
      "\t<class 'docplex.mp.constr.LinearConstraint'> (status code: ConflictStatus.Member): -0.918x_0-19.004x_1+0.990x_2-19.579x_3+17.727x_4+300b_5-13.953 >= r\n",
      "\t<class 'docplex.mp.constr.LinearConstraint'> (status code: ConflictStatus.Member): 0.918x_0+19.004x_1-0.990x_2+19.579x_3-17.727x_4-300b_5+313.953 >= r\n",
      "\t<class 'docplex.mp.constr.LinearConstraint'> (status code: ConflictStatus.Member): -0.918x_0-19.004x_1+0.990x_2-19.579x_3+17.727x_4+300b_7-1.953 >= r\n",
      "\t<class 'docplex.mp.constr.LinearConstraint'> (status code: ConflictStatus.Member): 0.918x_0+19.004x_1-0.990x_2+19.579x_3-17.727x_4-300b_7+301.953 >= r\n",
      "No solution found\n",
      "show some of the constraints that can be removed to arrive at a minimal conflict\n",
      "Initial y\n",
      "10\n",
      "Intercept\n",
      "22.953367840681313\n",
      "Conflict set:\n",
      "\t<class 'docplex.mp.constr.LinearConstraint'> (status code: ConflictStatus.Member): -0.918x_0-19.004x_1+0.990x_2-19.579x_3+17.727x_4-12.953 <= r\n",
      "\t<class 'docplex.mp.constr.LinearConstraint'> (status code: ConflictStatus.Member): 0.918x_0+19.004x_1-0.990x_2+19.579x_3-17.727x_4+12.953 <= r\n",
      "\t<class 'docplex.mp.constr.LinearConstraint'> (status code: ConflictStatus.Member): -0.918x_0-19.004x_1+0.990x_2-19.579x_3+17.727x_4+300b_5-13.953 >= r\n",
      "\t<class 'docplex.mp.constr.LinearConstraint'> (status code: ConflictStatus.Member): 0.918x_0+19.004x_1-0.990x_2+19.579x_3-17.727x_4-300b_5+313.953 >= r\n",
      "\t<class 'docplex.mp.constr.LinearConstraint'> (status code: ConflictStatus.Member): -0.918x_0-19.004x_1+0.990x_2-19.579x_3+17.727x_4+300b_7-1.953 >= r\n",
      "\t<class 'docplex.mp.constr.LinearConstraint'> (status code: ConflictStatus.Member): 0.918x_0+19.004x_1-0.990x_2+19.579x_3-17.727x_4-300b_7+301.953 >= r\n",
      "No solution found\n"
     ]
    },
    {
     "name": "stderr",
     "output_type": "stream",
     "text": [
      "/home/artem/.conda/envs/ica_new/lib/python3.6/site-packages/docplex/mp/model.py:3278: UserWarning: Unknown quick-setting in Context: display, value: True\n",
      "  context.update_key_value(argname, argval)\n"
     ]
    },
    {
     "name": "stdout",
     "output_type": "stream",
     "text": [
      "show some of the constraints that can be removed to arrive at a minimal conflict\n"
     ]
    },
    {
     "name": "stderr",
     "output_type": "stream",
     "text": [
      "/home/artem/.conda/envs/ica_new/lib/python3.6/site-packages/docplex/mp/model.py:3278: UserWarning: Unknown quick-setting in Context: display, value: True\n",
      "  context.update_key_value(argname, argval)\n"
     ]
    },
    {
     "name": "stdout",
     "output_type": "stream",
     "text": [
      "Initial y\n",
      "10\n",
      "Intercept\n",
      "22.953367840681313\n",
      "Conflict set:\n",
      "\t<class 'docplex.mp.constr.LinearConstraint'> (status code: ConflictStatus.Member): -0.918x_0-19.004x_1+0.990x_2-19.579x_3+17.727x_4-12.953 <= r\n",
      "\t<class 'docplex.mp.constr.LinearConstraint'> (status code: ConflictStatus.Member): 0.918x_0+19.004x_1-0.990x_2+19.579x_3-17.727x_4+12.953 <= r\n",
      "\t<class 'docplex.mp.constr.LinearConstraint'> (status code: ConflictStatus.Member): -0.918x_0-19.004x_1+0.990x_2-19.579x_3+17.727x_4+300b_5-13.953 >= r\n",
      "\t<class 'docplex.mp.constr.LinearConstraint'> (status code: ConflictStatus.Member): 0.918x_0+19.004x_1-0.990x_2+19.579x_3-17.727x_4-300b_5+313.953 >= r\n",
      "\t<class 'docplex.mp.constr.LinearConstraint'> (status code: ConflictStatus.Member): -0.918x_0-19.004x_1+0.990x_2-19.579x_3+17.727x_4+300b_7-1.953 >= r\n",
      "\t<class 'docplex.mp.constr.LinearConstraint'> (status code: ConflictStatus.Member): 0.918x_0+19.004x_1-0.990x_2+19.579x_3-17.727x_4-300b_7+301.953 >= r\n",
      "No solution found\n",
      "[  0.43097172  18.98067768  -0.58685709  19.38625968 -17.54541212]\n",
      "23.149444600018654\n",
      "JobSolveStatus.OPTIMAL_SOLUTION\n",
      "show some of the constraints that can be removed to arrive at a minimal conflict\n",
      "Initial y\n",
      "47\n",
      "Intercept\n",
      "23.149444600018654\n",
      "Conflict set:\n",
      "\t<class 'docplex.mp.constr.LinearConstraint'> (status code: ConflictStatus.Member): -0.431x_0-18.981x_1+0.587x_2-19.386x_3+17.545x_4+23.851 <= r\n",
      "\t<class 'docplex.mp.constr.LinearConstraint'> (status code: ConflictStatus.Member): 0.431x_0+18.981x_1-0.587x_2+19.386x_3-17.545x_4-23.851 <= r\n",
      "\t<class 'docplex.mp.constr.LinearConstraint'> (status code: ConflictStatus.Member): -0.431x_0-18.981x_1+0.587x_2-19.386x_3+17.545x_4+300b_0+20.851 >= r\n",
      "\t<class 'docplex.mp.constr.LinearConstraint'> (status code: ConflictStatus.Member): 0.431x_0+18.981x_1-0.587x_2+19.386x_3-17.545x_4-300b_0+279.149 >= r\n",
      "\t<class 'docplex.mp.constr.LinearConstraint'> (status code: ConflictStatus.Member): -0.431x_0-18.981x_1+0.587x_2-19.386x_3+17.545x_4+300b_2+40.851 >= r\n",
      "\t<class 'docplex.mp.constr.LinearConstraint'> (status code: ConflictStatus.Member): 0.431x_0+18.981x_1-0.587x_2+19.386x_3-17.545x_4-300b_2+259.149 >= r\n",
      "No solution found\n"
     ]
    },
    {
     "name": "stderr",
     "output_type": "stream",
     "text": [
      "/home/artem/.conda/envs/ica_new/lib/python3.6/site-packages/docplex/mp/model.py:3278: UserWarning: Unknown quick-setting in Context: display, value: True\n",
      "  context.update_key_value(argname, argval)\n"
     ]
    },
    {
     "name": "stdout",
     "output_type": "stream",
     "text": [
      "JobSolveStatus.OPTIMAL_SOLUTION\n",
      "show some of the constraints that can be removed to arrive at a minimal conflict\n",
      "Initial y\n",
      "67\n",
      "Intercept\n",
      "23.149444600018654\n",
      "Conflict set:\n",
      "\t<class 'docplex.mp.constr.LinearConstraint'> (status code: ConflictStatus.Member): -0.431x_0-18.981x_1+0.587x_2-19.386x_3+17.545x_4+43.851 <= r\n",
      "\t<class 'docplex.mp.constr.LinearConstraint'> (status code: ConflictStatus.Member): -0.431x_0-18.981x_1+0.587x_2-19.386x_3+17.545x_4+300b_2+40.851 >= r\n",
      "\t<class 'docplex.mp.constr.LinearConstraint'> (status code: ConflictStatus.Member): 0.431x_0+18.981x_1-0.587x_2+19.386x_3-17.545x_4-300b_2+259.149 >= r\n",
      "No solution found\n"
     ]
    },
    {
     "name": "stderr",
     "output_type": "stream",
     "text": [
      "/home/artem/.conda/envs/ica_new/lib/python3.6/site-packages/docplex/mp/model.py:3278: UserWarning: Unknown quick-setting in Context: display, value: True\n",
      "  context.update_key_value(argname, argval)\n"
     ]
    },
    {
     "name": "stdout",
     "output_type": "stream",
     "text": [
      "show some of the constraints that can be removed to arrive at a minimal conflict\n",
      "Initial y\n",
      "67\n",
      "Intercept\n",
      "23.149444600018654\n",
      "Conflict set:\n",
      "\t<class 'docplex.mp.constr.LinearConstraint'> (status code: ConflictStatus.Member): -0.431x_0-18.981x_1+0.587x_2-19.386x_3+17.545x_4+43.851 <= r\n",
      "\t<class 'docplex.mp.constr.LinearConstraint'> (status code: ConflictStatus.Member): -0.431x_0-18.981x_1+0.587x_2-19.386x_3+17.545x_4+300b_2+40.851 >= r\n",
      "\t<class 'docplex.mp.constr.LinearConstraint'> (status code: ConflictStatus.Member): 0.431x_0+18.981x_1-0.587x_2+19.386x_3-17.545x_4-300b_2+259.149 >= r\n",
      "No solution found\n"
     ]
    },
    {
     "name": "stderr",
     "output_type": "stream",
     "text": [
      "/home/artem/.conda/envs/ica_new/lib/python3.6/site-packages/docplex/mp/model.py:3278: UserWarning: Unknown quick-setting in Context: display, value: True\n",
      "  context.update_key_value(argname, argval)\n"
     ]
    },
    {
     "name": "stdout",
     "output_type": "stream",
     "text": [
      "JobSolveStatus.OPTIMAL_SOLUTION\n",
      "show some of the constraints that can be removed to arrive at a minimal conflict\n",
      "Initial y\n",
      "83\n",
      "Intercept\n",
      "23.149444600018654\n",
      "Conflict set:\n",
      "\t<class 'docplex.mp.constr.LinearConstraint'> (status code: ConflictStatus.Member): -0.431x_0-18.981x_1+0.587x_2-19.386x_3+17.545x_4+59.851 <= r\n",
      "\t<class 'docplex.mp.constr.LinearConstraint'> (status code: ConflictStatus.Member): -0.431x_0-18.981x_1+0.587x_2-19.386x_3+17.545x_4+300b_0+20.851 >= r\n",
      "\t<class 'docplex.mp.constr.LinearConstraint'> (status code: ConflictStatus.Member): 0.431x_0+18.981x_1-0.587x_2+19.386x_3-17.545x_4-300b_0+279.149 >= r\n",
      "No solution found\n"
     ]
    },
    {
     "name": "stderr",
     "output_type": "stream",
     "text": [
      "/home/artem/.conda/envs/ica_new/lib/python3.6/site-packages/docplex/mp/model.py:3278: UserWarning: Unknown quick-setting in Context: display, value: True\n",
      "  context.update_key_value(argname, argval)\n"
     ]
    },
    {
     "name": "stdout",
     "output_type": "stream",
     "text": [
      "JobSolveStatus.OPTIMAL_SOLUTION\n",
      "No solution found\n",
      "show some of the constraints that can be removed to arrive at a minimal conflict\n",
      "Initial y\n",
      "87\n",
      "Intercept\n",
      "23.149444600018654\n",
      "Conflict set:\n",
      "\t<class 'docplex.mp.constr.LinearConstraint'> (status code: ConflictStatus.Member): -0.431x_0-18.981x_1+0.587x_2-19.386x_3+17.545x_4+63.851 <= r\n",
      "\t<class 'docplex.mp.constr.LinearConstraint'> (status code: ConflictStatus.Member): -0.431x_0-18.981x_1+0.587x_2-19.386x_3+17.545x_4+300b_0+20.851 >= r\n",
      "\t<class 'docplex.mp.constr.LinearConstraint'> (status code: ConflictStatus.Member): 0.431x_0+18.981x_1-0.587x_2+19.386x_3-17.545x_4-300b_0+279.149 >= r\n",
      "No solution found\n"
     ]
    },
    {
     "name": "stderr",
     "output_type": "stream",
     "text": [
      "/home/artem/.conda/envs/ica_new/lib/python3.6/site-packages/docplex/mp/model.py:3278: UserWarning: Unknown quick-setting in Context: display, value: True\n",
      "  context.update_key_value(argname, argval)\n"
     ]
    },
    {
     "name": "stdout",
     "output_type": "stream",
     "text": [
      "show some of the constraints that can be removed to arrive at a minimal conflict\n",
      "Initial y\n",
      "10\n",
      "Intercept\n",
      "23.149444600018654\n",
      "Conflict set:\n",
      "\t<class 'docplex.mp.constr.LinearConstraint'> (status code: ConflictStatus.Member): -0.431x_0-18.981x_1+0.587x_2-19.386x_3+17.545x_4-13.149 <= r\n",
      "\t<class 'docplex.mp.constr.LinearConstraint'> (status code: ConflictStatus.Member): 0.431x_0+18.981x_1-0.587x_2+19.386x_3-17.545x_4+13.149 <= r\n",
      "\t<class 'docplex.mp.constr.LinearConstraint'> (status code: ConflictStatus.Member): -0.431x_0-18.981x_1+0.587x_2-19.386x_3+17.545x_4+300b_5-14.149 >= r\n",
      "\t<class 'docplex.mp.constr.LinearConstraint'> (status code: ConflictStatus.Member): 0.431x_0+18.981x_1-0.587x_2+19.386x_3-17.545x_4-300b_5+314.149 >= r\n",
      "\t<class 'docplex.mp.constr.LinearConstraint'> (status code: ConflictStatus.Member): -0.431x_0-18.981x_1+0.587x_2-19.386x_3+17.545x_4+300b_7-2.149 >= r\n",
      "\t<class 'docplex.mp.constr.LinearConstraint'> (status code: ConflictStatus.Member): 0.431x_0+18.981x_1-0.587x_2+19.386x_3-17.545x_4-300b_7+302.149 >= r\n",
      "No solution found\n"
     ]
    },
    {
     "name": "stderr",
     "output_type": "stream",
     "text": [
      "/home/artem/.conda/envs/ica_new/lib/python3.6/site-packages/docplex/mp/model.py:3278: UserWarning: Unknown quick-setting in Context: display, value: True\n",
      "  context.update_key_value(argname, argval)\n"
     ]
    },
    {
     "name": "stdout",
     "output_type": "stream",
     "text": [
      "show some of the constraints that can be removed to arrive at a minimal conflict\n",
      "Initial y\n",
      "10\n",
      "Intercept\n",
      "23.149444600018654\n",
      "Conflict set:\n",
      "\t<class 'docplex.mp.constr.LinearConstraint'> (status code: ConflictStatus.Member): -0.431x_0-18.981x_1+0.587x_2-19.386x_3+17.545x_4-13.149 <= r\n",
      "\t<class 'docplex.mp.constr.LinearConstraint'> (status code: ConflictStatus.Member): 0.431x_0+18.981x_1-0.587x_2+19.386x_3-17.545x_4+13.149 <= r\n",
      "\t<class 'docplex.mp.constr.LinearConstraint'> (status code: ConflictStatus.Member): -0.431x_0-18.981x_1+0.587x_2-19.386x_3+17.545x_4+300b_5-14.149 >= r\n",
      "\t<class 'docplex.mp.constr.LinearConstraint'> (status code: ConflictStatus.Member): 0.431x_0+18.981x_1-0.587x_2+19.386x_3-17.545x_4-300b_5+314.149 >= r\n",
      "\t<class 'docplex.mp.constr.LinearConstraint'> (status code: ConflictStatus.Member): -0.431x_0-18.981x_1+0.587x_2-19.386x_3+17.545x_4+300b_7-2.149 >= r\n",
      "\t<class 'docplex.mp.constr.LinearConstraint'> (status code: ConflictStatus.Member): 0.431x_0+18.981x_1-0.587x_2+19.386x_3-17.545x_4-300b_7+302.149 >= r\n",
      "No solution found\n"
     ]
    },
    {
     "name": "stderr",
     "output_type": "stream",
     "text": [
      "/home/artem/.conda/envs/ica_new/lib/python3.6/site-packages/docplex/mp/model.py:3278: UserWarning: Unknown quick-setting in Context: display, value: True\n",
      "  context.update_key_value(argname, argval)\n"
     ]
    },
    {
     "name": "stdout",
     "output_type": "stream",
     "text": [
      "show some of the constraints that can be removed to arrive at a minimal conflict\n"
     ]
    },
    {
     "name": "stderr",
     "output_type": "stream",
     "text": [
      "/home/artem/.conda/envs/ica_new/lib/python3.6/site-packages/docplex/mp/model.py:3278: UserWarning: Unknown quick-setting in Context: display, value: True\n",
      "  context.update_key_value(argname, argval)\n"
     ]
    },
    {
     "name": "stdout",
     "output_type": "stream",
     "text": [
      "Initial y\n",
      "10\n",
      "Intercept\n",
      "23.149444600018654\n",
      "Conflict set:\n",
      "\t<class 'docplex.mp.constr.LinearConstraint'> (status code: ConflictStatus.Member): -0.431x_0-18.981x_1+0.587x_2-19.386x_3+17.545x_4-13.149 <= r\n",
      "\t<class 'docplex.mp.constr.LinearConstraint'> (status code: ConflictStatus.Member): 0.431x_0+18.981x_1-0.587x_2+19.386x_3-17.545x_4+13.149 <= r\n",
      "\t<class 'docplex.mp.constr.LinearConstraint'> (status code: ConflictStatus.Member): -0.431x_0-18.981x_1+0.587x_2-19.386x_3+17.545x_4+300b_5-14.149 >= r\n",
      "\t<class 'docplex.mp.constr.LinearConstraint'> (status code: ConflictStatus.Member): 0.431x_0+18.981x_1-0.587x_2+19.386x_3-17.545x_4-300b_5+314.149 >= r\n",
      "\t<class 'docplex.mp.constr.LinearConstraint'> (status code: ConflictStatus.Member): -0.431x_0-18.981x_1+0.587x_2-19.386x_3+17.545x_4+300b_7-2.149 >= r\n",
      "\t<class 'docplex.mp.constr.LinearConstraint'> (status code: ConflictStatus.Member): 0.431x_0+18.981x_1-0.587x_2+19.386x_3-17.545x_4-300b_7+302.149 >= r\n",
      "No solution found\n",
      "show some of the constraints that can be removed to arrive at a minimal conflict\n"
     ]
    },
    {
     "name": "stderr",
     "output_type": "stream",
     "text": [
      "/home/artem/.conda/envs/ica_new/lib/python3.6/site-packages/docplex/mp/model.py:3278: UserWarning: Unknown quick-setting in Context: display, value: True\n",
      "  context.update_key_value(argname, argval)\n"
     ]
    },
    {
     "name": "stdout",
     "output_type": "stream",
     "text": [
      "Initial y\n",
      "10\n",
      "Intercept\n",
      "23.149444600018654\n",
      "Conflict set:\n",
      "\t<class 'docplex.mp.constr.LinearConstraint'> (status code: ConflictStatus.Member): -0.431x_0-18.981x_1+0.587x_2-19.386x_3+17.545x_4-13.149 <= r\n",
      "\t<class 'docplex.mp.constr.LinearConstraint'> (status code: ConflictStatus.Member): 0.431x_0+18.981x_1-0.587x_2+19.386x_3-17.545x_4+13.149 <= r\n",
      "\t<class 'docplex.mp.constr.LinearConstraint'> (status code: ConflictStatus.Member): -0.431x_0-18.981x_1+0.587x_2-19.386x_3+17.545x_4+300b_5-14.149 >= r\n",
      "\t<class 'docplex.mp.constr.LinearConstraint'> (status code: ConflictStatus.Member): 0.431x_0+18.981x_1-0.587x_2+19.386x_3-17.545x_4-300b_5+314.149 >= r\n",
      "\t<class 'docplex.mp.constr.LinearConstraint'> (status code: ConflictStatus.Member): -0.431x_0-18.981x_1+0.587x_2-19.386x_3+17.545x_4+300b_7-2.149 >= r\n",
      "\t<class 'docplex.mp.constr.LinearConstraint'> (status code: ConflictStatus.Member): 0.431x_0+18.981x_1-0.587x_2+19.386x_3-17.545x_4-300b_7+302.149 >= r\n",
      "No solution found\n",
      "show some of the constraints that can be removed to arrive at a minimal conflict\n"
     ]
    },
    {
     "name": "stderr",
     "output_type": "stream",
     "text": [
      "/home/artem/.conda/envs/ica_new/lib/python3.6/site-packages/docplex/mp/model.py:3278: UserWarning: Unknown quick-setting in Context: display, value: True\n",
      "  context.update_key_value(argname, argval)\n"
     ]
    },
    {
     "name": "stdout",
     "output_type": "stream",
     "text": [
      "Initial y\n",
      "10\n",
      "Intercept\n",
      "23.149444600018654\n",
      "Conflict set:\n",
      "\t<class 'docplex.mp.constr.LinearConstraint'> (status code: ConflictStatus.Member): -0.431x_0-18.981x_1+0.587x_2-19.386x_3+17.545x_4-13.149 <= r\n",
      "\t<class 'docplex.mp.constr.LinearConstraint'> (status code: ConflictStatus.Member): 0.431x_0+18.981x_1-0.587x_2+19.386x_3-17.545x_4+13.149 <= r\n",
      "\t<class 'docplex.mp.constr.LinearConstraint'> (status code: ConflictStatus.Member): -0.431x_0-18.981x_1+0.587x_2-19.386x_3+17.545x_4+300b_5-14.149 >= r\n",
      "\t<class 'docplex.mp.constr.LinearConstraint'> (status code: ConflictStatus.Member): 0.431x_0+18.981x_1-0.587x_2+19.386x_3-17.545x_4-300b_5+314.149 >= r\n",
      "\t<class 'docplex.mp.constr.LinearConstraint'> (status code: ConflictStatus.Member): -0.431x_0-18.981x_1+0.587x_2-19.386x_3+17.545x_4+300b_7-2.149 >= r\n",
      "\t<class 'docplex.mp.constr.LinearConstraint'> (status code: ConflictStatus.Member): 0.431x_0+18.981x_1-0.587x_2+19.386x_3-17.545x_4-300b_7+302.149 >= r\n",
      "No solution found\n",
      "show some of the constraints that can be removed to arrive at a minimal conflict\n"
     ]
    },
    {
     "name": "stderr",
     "output_type": "stream",
     "text": [
      "/home/artem/.conda/envs/ica_new/lib/python3.6/site-packages/docplex/mp/model.py:3278: UserWarning: Unknown quick-setting in Context: display, value: True\n",
      "  context.update_key_value(argname, argval)\n"
     ]
    },
    {
     "name": "stdout",
     "output_type": "stream",
     "text": [
      "Initial y\n",
      "10\n",
      "Intercept\n",
      "23.149444600018654\n",
      "Conflict set:\n",
      "\t<class 'docplex.mp.constr.LinearConstraint'> (status code: ConflictStatus.Member): -0.431x_0-18.981x_1+0.587x_2-19.386x_3+17.545x_4-13.149 <= r\n",
      "\t<class 'docplex.mp.constr.LinearConstraint'> (status code: ConflictStatus.Member): 0.431x_0+18.981x_1-0.587x_2+19.386x_3-17.545x_4+13.149 <= r\n",
      "\t<class 'docplex.mp.constr.LinearConstraint'> (status code: ConflictStatus.Member): -0.431x_0-18.981x_1+0.587x_2-19.386x_3+17.545x_4+300b_5-14.149 >= r\n",
      "\t<class 'docplex.mp.constr.LinearConstraint'> (status code: ConflictStatus.Member): 0.431x_0+18.981x_1-0.587x_2+19.386x_3-17.545x_4-300b_5+314.149 >= r\n",
      "\t<class 'docplex.mp.constr.LinearConstraint'> (status code: ConflictStatus.Member): -0.431x_0-18.981x_1+0.587x_2-19.386x_3+17.545x_4+300b_7-2.149 >= r\n",
      "\t<class 'docplex.mp.constr.LinearConstraint'> (status code: ConflictStatus.Member): 0.431x_0+18.981x_1-0.587x_2+19.386x_3-17.545x_4-300b_7+302.149 >= r\n",
      "No solution found\n",
      "show some of the constraints that can be removed to arrive at a minimal conflict\n"
     ]
    },
    {
     "name": "stderr",
     "output_type": "stream",
     "text": [
      "/home/artem/.conda/envs/ica_new/lib/python3.6/site-packages/docplex/mp/model.py:3278: UserWarning: Unknown quick-setting in Context: display, value: True\n",
      "  context.update_key_value(argname, argval)\n"
     ]
    },
    {
     "name": "stdout",
     "output_type": "stream",
     "text": [
      "Initial y\n",
      "10\n",
      "Intercept\n",
      "23.149444600018654\n",
      "Conflict set:\n",
      "\t<class 'docplex.mp.constr.LinearConstraint'> (status code: ConflictStatus.Member): -0.431x_0-18.981x_1+0.587x_2-19.386x_3+17.545x_4-13.149 <= r\n",
      "\t<class 'docplex.mp.constr.LinearConstraint'> (status code: ConflictStatus.Member): 0.431x_0+18.981x_1-0.587x_2+19.386x_3-17.545x_4+13.149 <= r\n",
      "\t<class 'docplex.mp.constr.LinearConstraint'> (status code: ConflictStatus.Member): -0.431x_0-18.981x_1+0.587x_2-19.386x_3+17.545x_4+300b_5-14.149 >= r\n",
      "\t<class 'docplex.mp.constr.LinearConstraint'> (status code: ConflictStatus.Member): 0.431x_0+18.981x_1-0.587x_2+19.386x_3-17.545x_4-300b_5+314.149 >= r\n",
      "\t<class 'docplex.mp.constr.LinearConstraint'> (status code: ConflictStatus.Member): -0.431x_0-18.981x_1+0.587x_2-19.386x_3+17.545x_4+300b_7-2.149 >= r\n",
      "\t<class 'docplex.mp.constr.LinearConstraint'> (status code: ConflictStatus.Member): 0.431x_0+18.981x_1-0.587x_2+19.386x_3-17.545x_4-300b_7+302.149 >= r\n",
      "No solution found\n",
      "show some of the constraints that can be removed to arrive at a minimal conflict\n"
     ]
    },
    {
     "name": "stderr",
     "output_type": "stream",
     "text": [
      "/home/artem/.conda/envs/ica_new/lib/python3.6/site-packages/docplex/mp/model.py:3278: UserWarning: Unknown quick-setting in Context: display, value: True\n",
      "  context.update_key_value(argname, argval)\n"
     ]
    },
    {
     "name": "stdout",
     "output_type": "stream",
     "text": [
      "Initial y\n",
      "10\n",
      "Intercept\n",
      "23.149444600018654\n",
      "Conflict set:\n",
      "\t<class 'docplex.mp.constr.LinearConstraint'> (status code: ConflictStatus.Member): -0.431x_0-18.981x_1+0.587x_2-19.386x_3+17.545x_4-13.149 <= r\n",
      "\t<class 'docplex.mp.constr.LinearConstraint'> (status code: ConflictStatus.Member): 0.431x_0+18.981x_1-0.587x_2+19.386x_3-17.545x_4+13.149 <= r\n",
      "\t<class 'docplex.mp.constr.LinearConstraint'> (status code: ConflictStatus.Member): -0.431x_0-18.981x_1+0.587x_2-19.386x_3+17.545x_4+300b_5-14.149 >= r\n",
      "\t<class 'docplex.mp.constr.LinearConstraint'> (status code: ConflictStatus.Member): 0.431x_0+18.981x_1-0.587x_2+19.386x_3-17.545x_4-300b_5+314.149 >= r\n",
      "\t<class 'docplex.mp.constr.LinearConstraint'> (status code: ConflictStatus.Member): -0.431x_0-18.981x_1+0.587x_2-19.386x_3+17.545x_4+300b_7-2.149 >= r\n",
      "\t<class 'docplex.mp.constr.LinearConstraint'> (status code: ConflictStatus.Member): 0.431x_0+18.981x_1-0.587x_2+19.386x_3-17.545x_4-300b_7+302.149 >= r\n",
      "No solution found\n",
      "show some of the constraints that can be removed to arrive at a minimal conflict\n"
     ]
    },
    {
     "name": "stderr",
     "output_type": "stream",
     "text": [
      "/home/artem/.conda/envs/ica_new/lib/python3.6/site-packages/docplex/mp/model.py:3278: UserWarning: Unknown quick-setting in Context: display, value: True\n",
      "  context.update_key_value(argname, argval)\n"
     ]
    },
    {
     "name": "stdout",
     "output_type": "stream",
     "text": [
      "Initial y\n",
      "10\n",
      "Intercept\n",
      "23.149444600018654\n",
      "Conflict set:\n",
      "\t<class 'docplex.mp.constr.LinearConstraint'> (status code: ConflictStatus.Member): -0.431x_0-18.981x_1+0.587x_2-19.386x_3+17.545x_4-13.149 <= r\n",
      "\t<class 'docplex.mp.constr.LinearConstraint'> (status code: ConflictStatus.Member): 0.431x_0+18.981x_1-0.587x_2+19.386x_3-17.545x_4+13.149 <= r\n",
      "\t<class 'docplex.mp.constr.LinearConstraint'> (status code: ConflictStatus.Member): -0.431x_0-18.981x_1+0.587x_2-19.386x_3+17.545x_4+300b_5-14.149 >= r\n",
      "\t<class 'docplex.mp.constr.LinearConstraint'> (status code: ConflictStatus.Member): 0.431x_0+18.981x_1-0.587x_2+19.386x_3-17.545x_4-300b_5+314.149 >= r\n",
      "\t<class 'docplex.mp.constr.LinearConstraint'> (status code: ConflictStatus.Member): -0.431x_0-18.981x_1+0.587x_2-19.386x_3+17.545x_4+300b_7-2.149 >= r\n",
      "\t<class 'docplex.mp.constr.LinearConstraint'> (status code: ConflictStatus.Member): 0.431x_0+18.981x_1-0.587x_2+19.386x_3-17.545x_4-300b_7+302.149 >= r\n",
      "No solution found\n",
      "show some of the constraints that can be removed to arrive at a minimal conflict\n"
     ]
    },
    {
     "name": "stderr",
     "output_type": "stream",
     "text": [
      "/home/artem/.conda/envs/ica_new/lib/python3.6/site-packages/docplex/mp/model.py:3278: UserWarning: Unknown quick-setting in Context: display, value: True\n",
      "  context.update_key_value(argname, argval)\n"
     ]
    },
    {
     "name": "stdout",
     "output_type": "stream",
     "text": [
      "Initial y\n",
      "10\n",
      "Intercept\n",
      "23.149444600018654\n",
      "Conflict set:\n",
      "\t<class 'docplex.mp.constr.LinearConstraint'> (status code: ConflictStatus.Member): -0.431x_0-18.981x_1+0.587x_2-19.386x_3+17.545x_4-13.149 <= r\n",
      "\t<class 'docplex.mp.constr.LinearConstraint'> (status code: ConflictStatus.Member): 0.431x_0+18.981x_1-0.587x_2+19.386x_3-17.545x_4+13.149 <= r\n",
      "\t<class 'docplex.mp.constr.LinearConstraint'> (status code: ConflictStatus.Member): -0.431x_0-18.981x_1+0.587x_2-19.386x_3+17.545x_4+300b_5-14.149 >= r\n",
      "\t<class 'docplex.mp.constr.LinearConstraint'> (status code: ConflictStatus.Member): 0.431x_0+18.981x_1-0.587x_2+19.386x_3-17.545x_4-300b_5+314.149 >= r\n",
      "\t<class 'docplex.mp.constr.LinearConstraint'> (status code: ConflictStatus.Member): -0.431x_0-18.981x_1+0.587x_2-19.386x_3+17.545x_4+300b_7-2.149 >= r\n",
      "\t<class 'docplex.mp.constr.LinearConstraint'> (status code: ConflictStatus.Member): 0.431x_0+18.981x_1-0.587x_2+19.386x_3-17.545x_4-300b_7+302.149 >= r\n",
      "No solution found\n",
      "show some of the constraints that can be removed to arrive at a minimal conflict\n"
     ]
    },
    {
     "name": "stderr",
     "output_type": "stream",
     "text": [
      "/home/artem/.conda/envs/ica_new/lib/python3.6/site-packages/docplex/mp/model.py:3278: UserWarning: Unknown quick-setting in Context: display, value: True\n",
      "  context.update_key_value(argname, argval)\n"
     ]
    },
    {
     "name": "stdout",
     "output_type": "stream",
     "text": [
      "Initial y\n",
      "10\n",
      "Intercept\n",
      "23.149444600018654\n",
      "Conflict set:\n",
      "\t<class 'docplex.mp.constr.LinearConstraint'> (status code: ConflictStatus.Member): -0.431x_0-18.981x_1+0.587x_2-19.386x_3+17.545x_4-13.149 <= r\n",
      "\t<class 'docplex.mp.constr.LinearConstraint'> (status code: ConflictStatus.Member): 0.431x_0+18.981x_1-0.587x_2+19.386x_3-17.545x_4+13.149 <= r\n",
      "\t<class 'docplex.mp.constr.LinearConstraint'> (status code: ConflictStatus.Member): -0.431x_0-18.981x_1+0.587x_2-19.386x_3+17.545x_4+300b_5-14.149 >= r\n",
      "\t<class 'docplex.mp.constr.LinearConstraint'> (status code: ConflictStatus.Member): 0.431x_0+18.981x_1-0.587x_2+19.386x_3-17.545x_4-300b_5+314.149 >= r\n",
      "\t<class 'docplex.mp.constr.LinearConstraint'> (status code: ConflictStatus.Member): -0.431x_0-18.981x_1+0.587x_2-19.386x_3+17.545x_4+300b_7-2.149 >= r\n",
      "\t<class 'docplex.mp.constr.LinearConstraint'> (status code: ConflictStatus.Member): 0.431x_0+18.981x_1-0.587x_2+19.386x_3-17.545x_4-300b_7+302.149 >= r\n",
      "No solution found\n",
      "show some of the constraints that can be removed to arrive at a minimal conflict\n"
     ]
    },
    {
     "name": "stderr",
     "output_type": "stream",
     "text": [
      "/home/artem/.conda/envs/ica_new/lib/python3.6/site-packages/docplex/mp/model.py:3278: UserWarning: Unknown quick-setting in Context: display, value: True\n",
      "  context.update_key_value(argname, argval)\n"
     ]
    },
    {
     "name": "stdout",
     "output_type": "stream",
     "text": [
      "Initial y\n",
      "10\n",
      "Intercept\n",
      "23.149444600018654\n",
      "Conflict set:\n",
      "\t<class 'docplex.mp.constr.LinearConstraint'> (status code: ConflictStatus.Member): -0.431x_0-18.981x_1+0.587x_2-19.386x_3+17.545x_4-13.149 <= r\n",
      "\t<class 'docplex.mp.constr.LinearConstraint'> (status code: ConflictStatus.Member): 0.431x_0+18.981x_1-0.587x_2+19.386x_3-17.545x_4+13.149 <= r\n",
      "\t<class 'docplex.mp.constr.LinearConstraint'> (status code: ConflictStatus.Member): -0.431x_0-18.981x_1+0.587x_2-19.386x_3+17.545x_4+300b_5-14.149 >= r\n",
      "\t<class 'docplex.mp.constr.LinearConstraint'> (status code: ConflictStatus.Member): 0.431x_0+18.981x_1-0.587x_2+19.386x_3-17.545x_4-300b_5+314.149 >= r\n",
      "\t<class 'docplex.mp.constr.LinearConstraint'> (status code: ConflictStatus.Member): -0.431x_0-18.981x_1+0.587x_2-19.386x_3+17.545x_4+300b_7-2.149 >= r\n",
      "\t<class 'docplex.mp.constr.LinearConstraint'> (status code: ConflictStatus.Member): 0.431x_0+18.981x_1-0.587x_2+19.386x_3-17.545x_4-300b_7+302.149 >= r\n",
      "No solution found\n",
      "show some of the constraints that can be removed to arrive at a minimal conflict\n",
      "Initial y\n",
      "10\n",
      "Intercept\n",
      "23.149444600018654\n",
      "Conflict set:\n",
      "\t<class 'docplex.mp.constr.LinearConstraint'> (status code: ConflictStatus.Member): -0.431x_0-18.981x_1+0.587x_2-19.386x_3+17.545x_4-13.149 <= r\n",
      "\t<class 'docplex.mp.constr.LinearConstraint'> (status code: ConflictStatus.Member): 0.431x_0+18.981x_1-0.587x_2+19.386x_3-17.545x_4+13.149 <= r\n",
      "\t<class 'docplex.mp.constr.LinearConstraint'> (status code: ConflictStatus.Member): -0.431x_0-18.981x_1+0.587x_2-19.386x_3+17.545x_4+300b_5-14.149 >= r\n",
      "\t<class 'docplex.mp.constr.LinearConstraint'> (status code: ConflictStatus.Member): 0.431x_0+18.981x_1-0.587x_2+19.386x_3-17.545x_4-300b_5+314.149 >= r\n",
      "\t<class 'docplex.mp.constr.LinearConstraint'> (status code: ConflictStatus.Member): -0.431x_0-18.981x_1+0.587x_2-19.386x_3+17.545x_4+300b_7-2.149 >= r\n",
      "\t<class 'docplex.mp.constr.LinearConstraint'> (status code: ConflictStatus.Member): 0.431x_0+18.981x_1-0.587x_2+19.386x_3-17.545x_4-300b_7+302.149 >= r\n",
      "No solution found\n"
     ]
    },
    {
     "name": "stderr",
     "output_type": "stream",
     "text": [
      "/home/artem/.conda/envs/ica_new/lib/python3.6/site-packages/docplex/mp/model.py:3278: UserWarning: Unknown quick-setting in Context: display, value: True\n",
      "  context.update_key_value(argname, argval)\n"
     ]
    },
    {
     "name": "stdout",
     "output_type": "stream",
     "text": [
      "show some of the constraints that can be removed to arrive at a minimal conflict\n"
     ]
    },
    {
     "name": "stderr",
     "output_type": "stream",
     "text": [
      "/home/artem/.conda/envs/ica_new/lib/python3.6/site-packages/docplex/mp/model.py:3278: UserWarning: Unknown quick-setting in Context: display, value: True\n",
      "  context.update_key_value(argname, argval)\n"
     ]
    },
    {
     "name": "stdout",
     "output_type": "stream",
     "text": [
      "Initial y\n",
      "10\n",
      "Intercept\n",
      "23.149444600018654\n",
      "Conflict set:\n",
      "\t<class 'docplex.mp.constr.LinearConstraint'> (status code: ConflictStatus.Member): -0.431x_0-18.981x_1+0.587x_2-19.386x_3+17.545x_4-13.149 <= r\n",
      "\t<class 'docplex.mp.constr.LinearConstraint'> (status code: ConflictStatus.Member): 0.431x_0+18.981x_1-0.587x_2+19.386x_3-17.545x_4+13.149 <= r\n",
      "\t<class 'docplex.mp.constr.LinearConstraint'> (status code: ConflictStatus.Member): -0.431x_0-18.981x_1+0.587x_2-19.386x_3+17.545x_4+300b_5-14.149 >= r\n",
      "\t<class 'docplex.mp.constr.LinearConstraint'> (status code: ConflictStatus.Member): 0.431x_0+18.981x_1-0.587x_2+19.386x_3-17.545x_4-300b_5+314.149 >= r\n",
      "\t<class 'docplex.mp.constr.LinearConstraint'> (status code: ConflictStatus.Member): -0.431x_0-18.981x_1+0.587x_2-19.386x_3+17.545x_4+300b_7-2.149 >= r\n",
      "\t<class 'docplex.mp.constr.LinearConstraint'> (status code: ConflictStatus.Member): 0.431x_0+18.981x_1-0.587x_2+19.386x_3-17.545x_4-300b_7+302.149 >= r\n",
      "No solution found\n",
      "show some of the constraints that can be removed to arrive at a minimal conflict\n"
     ]
    },
    {
     "name": "stderr",
     "output_type": "stream",
     "text": [
      "/home/artem/.conda/envs/ica_new/lib/python3.6/site-packages/docplex/mp/model.py:3278: UserWarning: Unknown quick-setting in Context: display, value: True\n",
      "  context.update_key_value(argname, argval)\n"
     ]
    },
    {
     "name": "stdout",
     "output_type": "stream",
     "text": [
      "Initial y\n",
      "10\n",
      "Intercept\n",
      "23.149444600018654\n",
      "Conflict set:\n",
      "\t<class 'docplex.mp.constr.LinearConstraint'> (status code: ConflictStatus.Member): -0.431x_0-18.981x_1+0.587x_2-19.386x_3+17.545x_4-13.149 <= r\n",
      "\t<class 'docplex.mp.constr.LinearConstraint'> (status code: ConflictStatus.Member): 0.431x_0+18.981x_1-0.587x_2+19.386x_3-17.545x_4+13.149 <= r\n",
      "\t<class 'docplex.mp.constr.LinearConstraint'> (status code: ConflictStatus.Member): -0.431x_0-18.981x_1+0.587x_2-19.386x_3+17.545x_4+300b_5-14.149 >= r\n",
      "\t<class 'docplex.mp.constr.LinearConstraint'> (status code: ConflictStatus.Member): 0.431x_0+18.981x_1-0.587x_2+19.386x_3-17.545x_4-300b_5+314.149 >= r\n",
      "\t<class 'docplex.mp.constr.LinearConstraint'> (status code: ConflictStatus.Member): -0.431x_0-18.981x_1+0.587x_2-19.386x_3+17.545x_4+300b_7-2.149 >= r\n",
      "\t<class 'docplex.mp.constr.LinearConstraint'> (status code: ConflictStatus.Member): 0.431x_0+18.981x_1-0.587x_2+19.386x_3-17.545x_4-300b_7+302.149 >= r\n",
      "No solution found\n",
      "show some of the constraints that can be removed to arrive at a minimal conflict\n"
     ]
    },
    {
     "name": "stderr",
     "output_type": "stream",
     "text": [
      "/home/artem/.conda/envs/ica_new/lib/python3.6/site-packages/docplex/mp/model.py:3278: UserWarning: Unknown quick-setting in Context: display, value: True\n",
      "  context.update_key_value(argname, argval)\n"
     ]
    },
    {
     "name": "stdout",
     "output_type": "stream",
     "text": [
      "Initial y\n",
      "10\n",
      "Intercept\n",
      "23.149444600018654\n",
      "Conflict set:\n",
      "\t<class 'docplex.mp.constr.LinearConstraint'> (status code: ConflictStatus.Member): -0.431x_0-18.981x_1+0.587x_2-19.386x_3+17.545x_4-13.149 <= r\n",
      "\t<class 'docplex.mp.constr.LinearConstraint'> (status code: ConflictStatus.Member): 0.431x_0+18.981x_1-0.587x_2+19.386x_3-17.545x_4+13.149 <= r\n",
      "\t<class 'docplex.mp.constr.LinearConstraint'> (status code: ConflictStatus.Member): -0.431x_0-18.981x_1+0.587x_2-19.386x_3+17.545x_4+300b_5-14.149 >= r\n",
      "\t<class 'docplex.mp.constr.LinearConstraint'> (status code: ConflictStatus.Member): 0.431x_0+18.981x_1-0.587x_2+19.386x_3-17.545x_4-300b_5+314.149 >= r\n",
      "\t<class 'docplex.mp.constr.LinearConstraint'> (status code: ConflictStatus.Member): -0.431x_0-18.981x_1+0.587x_2-19.386x_3+17.545x_4+300b_7-2.149 >= r\n",
      "\t<class 'docplex.mp.constr.LinearConstraint'> (status code: ConflictStatus.Member): 0.431x_0+18.981x_1-0.587x_2+19.386x_3-17.545x_4-300b_7+302.149 >= r\n",
      "No solution found\n",
      "show some of the constraints that can be removed to arrive at a minimal conflict\n"
     ]
    },
    {
     "name": "stderr",
     "output_type": "stream",
     "text": [
      "/home/artem/.conda/envs/ica_new/lib/python3.6/site-packages/docplex/mp/model.py:3278: UserWarning: Unknown quick-setting in Context: display, value: True\n",
      "  context.update_key_value(argname, argval)\n"
     ]
    },
    {
     "name": "stdout",
     "output_type": "stream",
     "text": [
      "Initial y\n",
      "10\n",
      "Intercept\n",
      "23.149444600018654\n",
      "Conflict set:\n",
      "\t<class 'docplex.mp.constr.LinearConstraint'> (status code: ConflictStatus.Member): -0.431x_0-18.981x_1+0.587x_2-19.386x_3+17.545x_4-13.149 <= r\n",
      "\t<class 'docplex.mp.constr.LinearConstraint'> (status code: ConflictStatus.Member): 0.431x_0+18.981x_1-0.587x_2+19.386x_3-17.545x_4+13.149 <= r\n",
      "\t<class 'docplex.mp.constr.LinearConstraint'> (status code: ConflictStatus.Member): -0.431x_0-18.981x_1+0.587x_2-19.386x_3+17.545x_4+300b_5-14.149 >= r\n",
      "\t<class 'docplex.mp.constr.LinearConstraint'> (status code: ConflictStatus.Member): 0.431x_0+18.981x_1-0.587x_2+19.386x_3-17.545x_4-300b_5+314.149 >= r\n",
      "\t<class 'docplex.mp.constr.LinearConstraint'> (status code: ConflictStatus.Member): -0.431x_0-18.981x_1+0.587x_2-19.386x_3+17.545x_4+300b_7-2.149 >= r\n",
      "\t<class 'docplex.mp.constr.LinearConstraint'> (status code: ConflictStatus.Member): 0.431x_0+18.981x_1-0.587x_2+19.386x_3-17.545x_4-300b_7+302.149 >= r\n",
      "No solution found\n",
      "show some of the constraints that can be removed to arrive at a minimal conflict\n"
     ]
    },
    {
     "name": "stderr",
     "output_type": "stream",
     "text": [
      "/home/artem/.conda/envs/ica_new/lib/python3.6/site-packages/docplex/mp/model.py:3278: UserWarning: Unknown quick-setting in Context: display, value: True\n",
      "  context.update_key_value(argname, argval)\n"
     ]
    },
    {
     "name": "stdout",
     "output_type": "stream",
     "text": [
      "Initial y\n",
      "10\n",
      "Intercept\n",
      "23.149444600018654\n",
      "Conflict set:\n",
      "\t<class 'docplex.mp.constr.LinearConstraint'> (status code: ConflictStatus.Member): -0.431x_0-18.981x_1+0.587x_2-19.386x_3+17.545x_4-13.149 <= r\n",
      "\t<class 'docplex.mp.constr.LinearConstraint'> (status code: ConflictStatus.Member): 0.431x_0+18.981x_1-0.587x_2+19.386x_3-17.545x_4+13.149 <= r\n",
      "\t<class 'docplex.mp.constr.LinearConstraint'> (status code: ConflictStatus.Member): -0.431x_0-18.981x_1+0.587x_2-19.386x_3+17.545x_4+300b_5-14.149 >= r\n",
      "\t<class 'docplex.mp.constr.LinearConstraint'> (status code: ConflictStatus.Member): 0.431x_0+18.981x_1-0.587x_2+19.386x_3-17.545x_4-300b_5+314.149 >= r\n",
      "\t<class 'docplex.mp.constr.LinearConstraint'> (status code: ConflictStatus.Member): -0.431x_0-18.981x_1+0.587x_2-19.386x_3+17.545x_4+300b_7-2.149 >= r\n",
      "\t<class 'docplex.mp.constr.LinearConstraint'> (status code: ConflictStatus.Member): 0.431x_0+18.981x_1-0.587x_2+19.386x_3-17.545x_4-300b_7+302.149 >= r\n",
      "No solution found\n",
      "show some of the constraints that can be removed to arrive at a minimal conflict\n",
      "Initial y\n",
      "10\n",
      "Intercept\n",
      "23.149444600018654\n",
      "Conflict set:\n",
      "\t<class 'docplex.mp.constr.LinearConstraint'> (status code: ConflictStatus.Member): -0.431x_0-18.981x_1+0.587x_2-19.386x_3+17.545x_4-13.149 <= r\n",
      "\t<class 'docplex.mp.constr.LinearConstraint'> (status code: ConflictStatus.Member): 0.431x_0+18.981x_1-0.587x_2+19.386x_3-17.545x_4+13.149 <= r\n",
      "\t<class 'docplex.mp.constr.LinearConstraint'> (status code: ConflictStatus.Member): -0.431x_0-18.981x_1+0.587x_2-19.386x_3+17.545x_4+300b_5-14.149 >= r\n",
      "\t<class 'docplex.mp.constr.LinearConstraint'> (status code: ConflictStatus.Member): 0.431x_0+18.981x_1-0.587x_2+19.386x_3-17.545x_4-300b_5+314.149 >= r\n",
      "\t<class 'docplex.mp.constr.LinearConstraint'> (status code: ConflictStatus.Member): -0.431x_0-18.981x_1+0.587x_2-19.386x_3+17.545x_4+300b_7-2.149 >= r\n",
      "\t<class 'docplex.mp.constr.LinearConstraint'> (status code: ConflictStatus.Member): 0.431x_0+18.981x_1-0.587x_2+19.386x_3-17.545x_4-300b_7+302.149 >= r\n",
      "No solution found\n"
     ]
    },
    {
     "name": "stderr",
     "output_type": "stream",
     "text": [
      "/home/artem/.conda/envs/ica_new/lib/python3.6/site-packages/docplex/mp/model.py:3278: UserWarning: Unknown quick-setting in Context: display, value: True\n",
      "  context.update_key_value(argname, argval)\n"
     ]
    },
    {
     "name": "stdout",
     "output_type": "stream",
     "text": [
      "show some of the constraints that can be removed to arrive at a minimal conflict\n",
      "Initial y\n",
      "10\n",
      "Intercept\n",
      "23.149444600018654\n",
      "Conflict set:\n",
      "\t<class 'docplex.mp.constr.LinearConstraint'> (status code: ConflictStatus.Member): -0.431x_0-18.981x_1+0.587x_2-19.386x_3+17.545x_4-13.149 <= r\n",
      "\t<class 'docplex.mp.constr.LinearConstraint'> (status code: ConflictStatus.Member): 0.431x_0+18.981x_1-0.587x_2+19.386x_3-17.545x_4+13.149 <= r\n",
      "\t<class 'docplex.mp.constr.LinearConstraint'> (status code: ConflictStatus.Member): -0.431x_0-18.981x_1+0.587x_2-19.386x_3+17.545x_4+300b_5-14.149 >= r\n",
      "\t<class 'docplex.mp.constr.LinearConstraint'> (status code: ConflictStatus.Member): 0.431x_0+18.981x_1-0.587x_2+19.386x_3-17.545x_4-300b_5+314.149 >= r\n",
      "\t<class 'docplex.mp.constr.LinearConstraint'> (status code: ConflictStatus.Member): -0.431x_0-18.981x_1+0.587x_2-19.386x_3+17.545x_4+300b_7-2.149 >= r\n",
      "\t<class 'docplex.mp.constr.LinearConstraint'> (status code: ConflictStatus.Member): 0.431x_0+18.981x_1-0.587x_2+19.386x_3-17.545x_4-300b_7+302.149 >= r\n",
      "No solution found\n"
     ]
    },
    {
     "name": "stderr",
     "output_type": "stream",
     "text": [
      "/home/artem/.conda/envs/ica_new/lib/python3.6/site-packages/docplex/mp/model.py:3278: UserWarning: Unknown quick-setting in Context: display, value: True\n",
      "  context.update_key_value(argname, argval)\n"
     ]
    }
   ],
   "source": [
    "def galo_bids_init(value_model, bidder_id, n, presampled_n, presampled_algorithm, ml_model):\n",
    "    np.random.seed(0)\n",
    "    values = np.random.randint(0, 100, size=(10)).tolist()\n",
    "    bundles = np.random.randint(0, 2, size=(10, 5)).tolist()\n",
    "    #print(bundles)\n",
    "    M = len(bundles[0])\n",
    "\n",
    "    # bundles random 18 bundles of length 10\n",
    "    reg = LinearRegression().fit(bundles, values)\n",
    "\n",
    "    count = 10\n",
    "    bigM = 300\n",
    "    while count <= 30:\n",
    "        reg = LinearRegression().fit(bundles, values)\n",
    "        coef = reg.coef_\n",
    "        intercept = reg.intercept_\n",
    "        print(coef)\n",
    "        print(intercept)\n",
    "        x_vectors = []\n",
    "        x_distances = []\n",
    "        for bundle in range(len(bundles)):\n",
    "\n",
    "            m = Model(name='galo')\n",
    "\n",
    "            r = m.continuous_var(name='r')\n",
    "            \n",
    "            x = m.binary_var_list(range(M), name='x')\n",
    "            \n",
    "            b = [m.binary_var(name=f'b_{j}') for j in range(len(values))]\n",
    "\n",
    "            constraints = []\n",
    "\n",
    "            y_prediction = m.sum(x[k]*coef[k] for k in range(M)) + intercept\n",
    "\n",
    "\n",
    "            constraints.append(values[bundle] - y_prediction <= r)\n",
    "            constraints.append(y_prediction - values[bundle] <= r)\n",
    "\n",
    "            for j in range(len(values)):\n",
    "                constraints.append(values[j] - y_prediction + bigM * b[j] >= r)\n",
    "                constraints.append(y_prediction - values[j] + bigM * (1 - b[j]) >= r)\n",
    "\n",
    "            m.add_constraints(constraints)\n",
    "            \n",
    "            m.maximize(r)\n",
    "            \n",
    "            sol = m.solve()\n",
    "\n",
    "            res = m.get_solve_status()\n",
    "\n",
    "            if res.name == 'INFEASIBLE_SOLUTION':  # or also 'INFEASIBLE_OR_UNBOUNDED_SOLUTION'\n",
    "                cref = cr.ConflictRefiner()\n",
    "                print('show some of the constraints that can be removed to arrive at a minimal conflict')\n",
    "                confl = cref.refine_conflict(m, display=True)  # display flag is to show the conflicts\n",
    "                print('Initial y')\n",
    "                print(values[bundle])\n",
    "                print('Intercept')\n",
    "                print(intercept)\n",
    "                cref.display_conflicts(confl)\n",
    "\n",
    "            try:\n",
    "                print(sol.solve_status)\n",
    "\n",
    "            except:\n",
    "                print('No solution found')\n",
    "                continue\n",
    "\n",
    "            vector = np.array([x[k].solution_value for k in range(M)])\n",
    "            x_vectors.append(vector)\n",
    "            distance = np.sum(np.abs(np.sum(vector * coef) + intercept - values[bundle]))\n",
    "            x_distances.append(distance)\n",
    "\n",
    "        chosen_bundle = x_vectors[np.argmax(x_distances)]\n",
    "        #generate one random value\n",
    "        value = np.random.randint(0, 100)\n",
    "        values.append(value)\n",
    "        bundles.append(chosen_bundle.tolist())\n",
    "        count+=1\n",
    "\n",
    "    return bundles\n",
    "\n",
    "results = galo_bids_init(None, 0, 20, 10, 'unif', None)\n",
    "#results"
   ]
  }
 ],
 "metadata": {
  "kernelspec": {
   "display_name": "ica_new",
   "language": "python",
   "name": "python3"
  },
  "language_info": {
   "codemirror_mode": {
    "name": "ipython",
    "version": 3
   },
   "file_extension": ".py",
   "mimetype": "text/x-python",
   "name": "python",
   "nbconvert_exporter": "python",
   "pygments_lexer": "ipython3",
   "version": "3.6.13"
  },
  "orig_nbformat": 4
 },
 "nbformat": 4,
 "nbformat_minor": 2
}
