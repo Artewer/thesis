{
 "cells": [
  {
   "cell_type": "code",
   "execution_count": 1,
   "metadata": {},
   "outputs": [],
   "source": [
    "from docplex.mp.model import Model\n",
    "import numpy as np\n",
    "from sklearn.linear_model import LinearRegression\n",
    "import docplex.mp.conflict_refiner as cr"
   ]
  },
  {
   "cell_type": "code",
   "execution_count": 2,
   "metadata": {},
   "outputs": [
    {
     "name": "stdout",
     "output_type": "stream",
     "text": [
      "[  6.88679245  38.73584906  -2.88679245   3.8490566  -18.86792453]\n",
      "35.58490566037738\n",
      "JobSolveStatus.OPTIMAL_SOLUTION\n",
      "JobSolveStatus.OPTIMAL_SOLUTION\n",
      "JobSolveStatus.OPTIMAL_SOLUTION\n",
      "JobSolveStatus.OPTIMAL_SOLUTION\n",
      "JobSolveStatus.OPTIMAL_SOLUTION\n",
      "JobSolveStatus.OPTIMAL_SOLUTION\n",
      "JobSolveStatus.OPTIMAL_SOLUTION\n",
      "JobSolveStatus.OPTIMAL_SOLUTION\n",
      "JobSolveStatus.OPTIMAL_SOLUTION\n",
      "JobSolveStatus.OPTIMAL_SOLUTION\n",
      "[  7.15517241  38.5         -3.15517241   3.77586207 -18.96551724]\n",
      "35.70689655172416\n",
      "JobSolveStatus.OPTIMAL_SOLUTION\n",
      "JobSolveStatus.OPTIMAL_SOLUTION\n",
      "JobSolveStatus.OPTIMAL_SOLUTION\n",
      "JobSolveStatus.OPTIMAL_SOLUTION\n",
      "JobSolveStatus.OPTIMAL_SOLUTION\n",
      "JobSolveStatus.OPTIMAL_SOLUTION\n",
      "JobSolveStatus.OPTIMAL_SOLUTION\n",
      "JobSolveStatus.OPTIMAL_SOLUTION\n",
      "JobSolveStatus.OPTIMAL_SOLUTION\n",
      "JobSolveStatus.OPTIMAL_SOLUTION\n",
      "JobSolveStatus.OPTIMAL_SOLUTION\n",
      "[ 16.92384106  34.00331126 -12.92384106  -1.3410596   -7.8013245 ]\n",
      "35.24172185430466\n",
      "JobSolveStatus.OPTIMAL_SOLUTION\n",
      "JobSolveStatus.OPTIMAL_SOLUTION\n",
      "JobSolveStatus.OPTIMAL_SOLUTION\n",
      "JobSolveStatus.OPTIMAL_SOLUTION\n",
      "JobSolveStatus.OPTIMAL_SOLUTION\n",
      "JobSolveStatus.OPTIMAL_SOLUTION\n",
      "JobSolveStatus.OPTIMAL_SOLUTION\n",
      "JobSolveStatus.OPTIMAL_SOLUTION\n",
      "JobSolveStatus.OPTIMAL_SOLUTION\n",
      "JobSolveStatus.OPTIMAL_SOLUTION\n",
      "JobSolveStatus.OPTIMAL_SOLUTION\n",
      "JobSolveStatus.OPTIMAL_SOLUTION\n",
      "[  9.49562363  19.10393873 -18.46280088  16.1345733   -7.02844639]\n",
      "36.83041575492343\n",
      "JobSolveStatus.OPTIMAL_SOLUTION\n",
      "JobSolveStatus.OPTIMAL_SOLUTION\n",
      "JobSolveStatus.OPTIMAL_SOLUTION\n",
      "JobSolveStatus.OPTIMAL_SOLUTION\n",
      "JobSolveStatus.OPTIMAL_SOLUTION\n",
      "JobSolveStatus.OPTIMAL_SOLUTION\n",
      "JobSolveStatus.OPTIMAL_SOLUTION\n",
      "JobSolveStatus.OPTIMAL_SOLUTION\n",
      "JobSolveStatus.OPTIMAL_SOLUTION\n",
      "show some of the constraints that can be removed to arrive at a minimal conflict\n",
      "Initial y\n",
      "87\n",
      "Intercept\n",
      "36.83041575492343\n",
      "Conflict set:\n",
      "\t<class 'docplex.mp.constr.LinearConstraint'> (status code: ConflictStatus.Member): -9.496x_0-19.104x_1+18.463x_2-16.135x_3+7.028x_4+50.170 <= r\n",
      "\t<class 'docplex.mp.constr.LinearConstraint'> (status code: ConflictStatus.Member): -9.496x_0-19.104x_1+18.463x_2-16.135x_3+7.028x_4+300b_6+46.170 >= r\n",
      "\t<class 'docplex.mp.constr.LinearConstraint'> (status code: ConflictStatus.Member): 9.496x_0+19.104x_1-18.463x_2+16.135x_3-7.028x_4-300b_6+253.830 >= r\n",
      "No solution found\n"
     ]
    },
    {
     "name": "stderr",
     "output_type": "stream",
     "text": [
      "/home/artem/.conda/envs/ica_new/lib/python3.6/site-packages/docplex/mp/model.py:3278: UserWarning: Unknown quick-setting in Context: display, value: True\n",
      "  context.update_key_value(argname, argval)\n"
     ]
    },
    {
     "name": "stdout",
     "output_type": "stream",
     "text": [
      "JobSolveStatus.OPTIMAL_SOLUTION\n",
      "JobSolveStatus.OPTIMAL_SOLUTION\n",
      "JobSolveStatus.OPTIMAL_SOLUTION\n",
      "[ -1.55973154  13.05100671  -4.50604027  18.88590604 -21.73557047]\n",
      "37.08053691275167\n",
      "JobSolveStatus.OPTIMAL_SOLUTION\n",
      "JobSolveStatus.OPTIMAL_SOLUTION\n",
      "JobSolveStatus.OPTIMAL_SOLUTION\n",
      "JobSolveStatus.OPTIMAL_SOLUTION\n",
      "JobSolveStatus.OPTIMAL_SOLUTION\n",
      "JobSolveStatus.OPTIMAL_SOLUTION\n",
      "show some of the constraints that can be removed to arrive at a minimal conflict\n",
      "Initial y\n",
      "83\n",
      "Intercept\n",
      "37.08053691275167\n",
      "Conflict set:\n",
      "\t<class 'docplex.mp.constr.LinearConstraint'> (status code: ConflictStatus.Member): 1.560x_0-13.051x_1+4.506x_2-18.886x_3+21.736x_4+45.919 <= r\n",
      "\t<class 'docplex.mp.constr.LinearConstraint'> (status code: ConflictStatus.Member): 1.560x_0-13.051x_1+4.506x_2-18.886x_3+21.736x_4+300b_2+26.919 >= r\n",
      "\t<class 'docplex.mp.constr.LinearConstraint'> (status code: ConflictStatus.Member): -1.560x_0+13.051x_1-4.506x_2+18.886x_3-21.736x_4-300b_2+273.081 >= r\n",
      "No solution found\n"
     ]
    },
    {
     "name": "stderr",
     "output_type": "stream",
     "text": [
      "/home/artem/.conda/envs/ica_new/lib/python3.6/site-packages/docplex/mp/model.py:3278: UserWarning: Unknown quick-setting in Context: display, value: True\n",
      "  context.update_key_value(argname, argval)\n"
     ]
    },
    {
     "name": "stdout",
     "output_type": "stream",
     "text": [
      "JobSolveStatus.OPTIMAL_SOLUTION\n",
      "JobSolveStatus.OPTIMAL_SOLUTION\n",
      "show some of the constraints that can be removed to arrive at a minimal conflict\n"
     ]
    },
    {
     "name": "stderr",
     "output_type": "stream",
     "text": [
      "/home/artem/.conda/envs/ica_new/lib/python3.6/site-packages/docplex/mp/model.py:3278: UserWarning: Unknown quick-setting in Context: display, value: True\n",
      "  context.update_key_value(argname, argval)\n"
     ]
    },
    {
     "name": "stdout",
     "output_type": "stream",
     "text": [
      "Initial y\n",
      "87\n",
      "Intercept\n",
      "37.08053691275167\n",
      "Conflict set:\n",
      "\t<class 'docplex.mp.constr.LinearConstraint'> (status code: ConflictStatus.Member): 1.560x_0-13.051x_1+4.506x_2-18.886x_3+21.736x_4+49.919 <= r\n",
      "\t<class 'docplex.mp.constr.LinearConstraint'> (status code: ConflictStatus.Member): 1.560x_0-13.051x_1+4.506x_2-18.886x_3+21.736x_4+300b_2+26.919 >= r\n",
      "\t<class 'docplex.mp.constr.LinearConstraint'> (status code: ConflictStatus.Member): -1.560x_0+13.051x_1-4.506x_2+18.886x_3-21.736x_4-300b_2+273.081 >= r\n",
      "No solution found\n",
      "JobSolveStatus.OPTIMAL_SOLUTION\n",
      "JobSolveStatus.OPTIMAL_SOLUTION\n",
      "JobSolveStatus.OPTIMAL_SOLUTION\n",
      "show some of the constraints that can be removed to arrive at a minimal conflict\n"
     ]
    },
    {
     "name": "stderr",
     "output_type": "stream",
     "text": [
      "/home/artem/.conda/envs/ica_new/lib/python3.6/site-packages/docplex/mp/model.py:3278: UserWarning: Unknown quick-setting in Context: display, value: True\n",
      "  context.update_key_value(argname, argval)\n"
     ]
    },
    {
     "name": "stdout",
     "output_type": "stream",
     "text": [
      "Initial y\n",
      "0\n",
      "Intercept\n",
      "37.08053691275167\n",
      "Conflict set:\n",
      "\t<class 'docplex.mp.constr.LinearConstraint'> (status code: ConflictStatus.Member): -1.560x_0+13.051x_1-4.506x_2+18.886x_3-21.736x_4+37.081 <= r\n",
      "\t<class 'docplex.mp.constr.LinearConstraint'> (status code: ConflictStatus.Member): 1.560x_0-13.051x_1+4.506x_2-18.886x_3+21.736x_4+300b_5-28.081 >= r\n",
      "\t<class 'docplex.mp.constr.LinearConstraint'> (status code: ConflictStatus.Member): -1.560x_0+13.051x_1-4.506x_2+18.886x_3-21.736x_4-300b_5+328.081 >= r\n",
      "No solution found\n",
      "[ -0.34206471  14.53466872  -1.95839753  21.01386749 -23.66255778]\n",
      "32.46995377503851\n",
      "JobSolveStatus.OPTIMAL_SOLUTION\n",
      "JobSolveStatus.OPTIMAL_SOLUTION\n",
      "show some of the constraints that can be removed to arrive at a minimal conflict\n"
     ]
    },
    {
     "name": "stderr",
     "output_type": "stream",
     "text": [
      "/home/artem/.conda/envs/ica_new/lib/python3.6/site-packages/docplex/mp/model.py:3278: UserWarning: Unknown quick-setting in Context: display, value: True\n",
      "  context.update_key_value(argname, argval)\n"
     ]
    },
    {
     "name": "stdout",
     "output_type": "stream",
     "text": [
      "Initial y\n",
      "64\n",
      "Intercept\n",
      "32.46995377503851\n",
      "Conflict set:\n",
      "\t<class 'docplex.mp.constr.LinearConstraint'> (status code: ConflictStatus.Member): 0.342x_0-14.535x_1+1.958x_2-21.014x_3+23.663x_4+31.530 <= r\n",
      "\t<class 'docplex.mp.constr.LinearConstraint'> (status code: ConflictStatus.Member): -0.342x_0+14.535x_1-1.958x_2+21.014x_3-23.663x_4-31.530 <= r\n",
      "\t<class 'docplex.mp.constr.LinearConstraint'> (status code: ConflictStatus.Member): 0.342x_0-14.535x_1+1.958x_2-21.014x_3+23.663x_4+300b_0+11.530 >= r\n",
      "\t<class 'docplex.mp.constr.LinearConstraint'> (status code: ConflictStatus.Member): -0.342x_0+14.535x_1-1.958x_2+21.014x_3-23.663x_4-300b_0+288.470 >= r\n",
      "\t<class 'docplex.mp.constr.LinearConstraint'> (status code: ConflictStatus.Member): 0.342x_0-14.535x_1+1.958x_2-21.014x_3+23.663x_4+300b_3+34.530 >= r\n",
      "\t<class 'docplex.mp.constr.LinearConstraint'> (status code: ConflictStatus.Member): -0.342x_0+14.535x_1-1.958x_2+21.014x_3-23.663x_4-300b_3+265.470 >= r\n",
      "No solution found\n",
      "JobSolveStatus.OPTIMAL_SOLUTION\n",
      "JobSolveStatus.OPTIMAL_SOLUTION\n",
      "JobSolveStatus.OPTIMAL_SOLUTION\n",
      "show some of the constraints that can be removed to arrive at a minimal conflict\n"
     ]
    },
    {
     "name": "stderr",
     "output_type": "stream",
     "text": [
      "/home/artem/.conda/envs/ica_new/lib/python3.6/site-packages/docplex/mp/model.py:3278: UserWarning: Unknown quick-setting in Context: display, value: True\n",
      "  context.update_key_value(argname, argval)\n"
     ]
    },
    {
     "name": "stdout",
     "output_type": "stream",
     "text": [
      "Initial y\n",
      "83\n",
      "Intercept\n",
      "32.46995377503851\n",
      "Conflict set:\n",
      "\t<class 'docplex.mp.constr.LinearConstraint'> (status code: ConflictStatus.Member): 0.342x_0-14.535x_1+1.958x_2-21.014x_3+23.663x_4+50.530 <= r\n",
      "\t<class 'docplex.mp.constr.LinearConstraint'> (status code: ConflictStatus.Member): 0.342x_0-14.535x_1+1.958x_2-21.014x_3+23.663x_4+300b_2+31.530 >= r\n",
      "\t<class 'docplex.mp.constr.LinearConstraint'> (status code: ConflictStatus.Member): -0.342x_0+14.535x_1-1.958x_2+21.014x_3-23.663x_4-300b_2+268.470 >= r\n",
      "No solution found\n",
      "JobSolveStatus.OPTIMAL_SOLUTION\n",
      "No solution found\n",
      "show some of the constraints that can be removed to arrive at a minimal conflict\n"
     ]
    },
    {
     "name": "stderr",
     "output_type": "stream",
     "text": [
      "/home/artem/.conda/envs/ica_new/lib/python3.6/site-packages/docplex/mp/model.py:3278: UserWarning: Unknown quick-setting in Context: display, value: True\n",
      "  context.update_key_value(argname, argval)\n"
     ]
    },
    {
     "name": "stdout",
     "output_type": "stream",
     "text": [
      "Initial y\n",
      "87\n",
      "Intercept\n",
      "32.46995377503851\n",
      "Conflict set:\n",
      "\t<class 'docplex.mp.constr.LinearConstraint'> (status code: ConflictStatus.Member): 0.342x_0-14.535x_1+1.958x_2-21.014x_3+23.663x_4+54.530 <= r\n",
      "\t<class 'docplex.mp.constr.LinearConstraint'> (status code: ConflictStatus.Member): 0.342x_0-14.535x_1+1.958x_2-21.014x_3+23.663x_4+300b_2+31.530 >= r\n",
      "\t<class 'docplex.mp.constr.LinearConstraint'> (status code: ConflictStatus.Member): -0.342x_0+14.535x_1-1.958x_2+21.014x_3-23.663x_4-300b_2+268.470 >= r\n",
      "No solution found\n",
      "JobSolveStatus.OPTIMAL_SOLUTION\n",
      "JobSolveStatus.OPTIMAL_SOLUTION\n",
      "JobSolveStatus.OPTIMAL_SOLUTION\n",
      "show some of the constraints that can be removed to arrive at a minimal conflict\n"
     ]
    },
    {
     "name": "stderr",
     "output_type": "stream",
     "text": [
      "/home/artem/.conda/envs/ica_new/lib/python3.6/site-packages/docplex/mp/model.py:3278: UserWarning: Unknown quick-setting in Context: display, value: True\n",
      "  context.update_key_value(argname, argval)\n"
     ]
    },
    {
     "name": "stdout",
     "output_type": "stream",
     "text": [
      "Initial y\n",
      "0\n",
      "Intercept\n",
      "32.46995377503851\n",
      "Conflict set:\n",
      "\t<class 'docplex.mp.constr.LinearConstraint'> (status code: ConflictStatus.Member): -0.342x_0+14.535x_1-1.958x_2+21.014x_3-23.663x_4+32.470 <= r\n",
      "\t<class 'docplex.mp.constr.LinearConstraint'> (status code: ConflictStatus.Member): 0.342x_0-14.535x_1+1.958x_2-21.014x_3+23.663x_4+300b_5-23.470 >= r\n",
      "\t<class 'docplex.mp.constr.LinearConstraint'> (status code: ConflictStatus.Member): -0.342x_0+14.535x_1-1.958x_2+21.014x_3-23.663x_4-300b_5+323.470 >= r\n",
      "No solution found\n",
      "show some of the constraints that can be removed to arrive at a minimal conflict\n"
     ]
    },
    {
     "name": "stderr",
     "output_type": "stream",
     "text": [
      "/home/artem/.conda/envs/ica_new/lib/python3.6/site-packages/docplex/mp/model.py:3278: UserWarning: Unknown quick-setting in Context: display, value: True\n",
      "  context.update_key_value(argname, argval)\n"
     ]
    },
    {
     "name": "stdout",
     "output_type": "stream",
     "text": [
      "Initial y\n",
      "0\n",
      "Intercept\n",
      "32.46995377503851\n",
      "Conflict set:\n",
      "\t<class 'docplex.mp.constr.LinearConstraint'> (status code: ConflictStatus.Member): -0.342x_0+14.535x_1-1.958x_2+21.014x_3-23.663x_4+32.470 <= r\n",
      "\t<class 'docplex.mp.constr.LinearConstraint'> (status code: ConflictStatus.Member): 0.342x_0-14.535x_1+1.958x_2-21.014x_3+23.663x_4+300b_5-23.470 >= r\n",
      "\t<class 'docplex.mp.constr.LinearConstraint'> (status code: ConflictStatus.Member): -0.342x_0+14.535x_1-1.958x_2+21.014x_3-23.663x_4-300b_5+323.470 >= r\n",
      "No solution found\n",
      "[ -1.04197815  13.8573893   -2.54514089  21.19493962 -24.52961472]\n",
      "33.58424381828637\n",
      "\n",
      "KeyboardInterrupt\n",
      "JobSolveStatus.OPTIMAL_SOLUTION\n",
      "JobSolveStatus.OPTIMAL_SOLUTION\n",
      "JobSolveStatus.OPTIMAL_SOLUTION\n",
      "JobSolveStatus.OPTIMAL_SOLUTION\n",
      "JobSolveStatus.OPTIMAL_SOLUTION\n",
      "JobSolveStatus.OPTIMAL_SOLUTION\n",
      "show some of the constraints that can be removed to arrive at a minimal conflict\n"
     ]
    },
    {
     "name": "stderr",
     "output_type": "stream",
     "text": [
      "/home/artem/.conda/envs/ica_new/lib/python3.6/site-packages/docplex/mp/model.py:3278: UserWarning: Unknown quick-setting in Context: display, value: True\n",
      "  context.update_key_value(argname, argval)\n"
     ]
    },
    {
     "name": "stdout",
     "output_type": "stream",
     "text": [
      "Initial y\n",
      "83\n",
      "Intercept\n",
      "33.58424381828637\n",
      "Conflict set:\n",
      "\t<class 'docplex.mp.constr.LinearConstraint'> (status code: ConflictStatus.Member): 1.042x_0-13.857x_1+2.545x_2-21.195x_3+24.530x_4+49.416 <= r\n",
      "\t<class 'docplex.mp.constr.LinearConstraint'> (status code: ConflictStatus.Member): 1.042x_0-13.857x_1+2.545x_2-21.195x_3+24.530x_4+300b_2+30.416 >= r\n",
      "\t<class 'docplex.mp.constr.LinearConstraint'> (status code: ConflictStatus.Member): -1.042x_0+13.857x_1-2.545x_2+21.195x_3-24.530x_4-300b_2+269.584 >= r\n",
      "No solution found\n",
      "JobSolveStatus.OPTIMAL_SOLUTION\n",
      "No solution found\n",
      "show some of the constraints that can be removed to arrive at a minimal conflict\n"
     ]
    },
    {
     "name": "stderr",
     "output_type": "stream",
     "text": [
      "/home/artem/.conda/envs/ica_new/lib/python3.6/site-packages/docplex/mp/model.py:3278: UserWarning: Unknown quick-setting in Context: display, value: True\n",
      "  context.update_key_value(argname, argval)\n"
     ]
    },
    {
     "name": "stdout",
     "output_type": "stream",
     "text": [
      "Initial y\n",
      "87\n",
      "Intercept\n",
      "33.58424381828637\n",
      "Conflict set:\n",
      "\t<class 'docplex.mp.constr.LinearConstraint'> (status code: ConflictStatus.Member): 1.042x_0-13.857x_1+2.545x_2-21.195x_3+24.530x_4+53.416 <= r\n",
      "\t<class 'docplex.mp.constr.LinearConstraint'> (status code: ConflictStatus.Member): 1.042x_0-13.857x_1+2.545x_2-21.195x_3+24.530x_4+300b_2+30.416 >= r\n",
      "\t<class 'docplex.mp.constr.LinearConstraint'> (status code: ConflictStatus.Member): -1.042x_0+13.857x_1-2.545x_2+21.195x_3-24.530x_4-300b_2+269.584 >= r\n",
      "No solution found\n",
      "JobSolveStatus.OPTIMAL_SOLUTION\n",
      "JobSolveStatus.OPTIMAL_SOLUTION\n",
      "JobSolveStatus.OPTIMAL_SOLUTION\n",
      "show some of the constraints that can be removed to arrive at a minimal conflict\n"
     ]
    },
    {
     "name": "stderr",
     "output_type": "stream",
     "text": [
      "/home/artem/.conda/envs/ica_new/lib/python3.6/site-packages/docplex/mp/model.py:3278: UserWarning: Unknown quick-setting in Context: display, value: True\n",
      "  context.update_key_value(argname, argval)\n"
     ]
    },
    {
     "name": "stdout",
     "output_type": "stream",
     "text": [
      "Initial y\n",
      "0\n",
      "Intercept\n",
      "33.58424381828637\n",
      "Conflict set:\n",
      "\t<class 'docplex.mp.constr.LinearConstraint'> (status code: ConflictStatus.Member): -1.042x_0+13.857x_1-2.545x_2+21.195x_3-24.530x_4+33.584 <= r\n",
      "\t<class 'docplex.mp.constr.LinearConstraint'> (status code: ConflictStatus.Member): 1.042x_0-13.857x_1+2.545x_2-21.195x_3+24.530x_4+300b_5-24.584 >= r\n",
      "\t<class 'docplex.mp.constr.LinearConstraint'> (status code: ConflictStatus.Member): -1.042x_0+13.857x_1-2.545x_2+21.195x_3-24.530x_4-300b_5+324.584 >= r\n",
      "No solution found\n",
      "show some of the constraints that can be removed to arrive at a minimal conflict\n"
     ]
    },
    {
     "name": "stderr",
     "output_type": "stream",
     "text": [
      "/home/artem/.conda/envs/ica_new/lib/python3.6/site-packages/docplex/mp/model.py:3278: UserWarning: Unknown quick-setting in Context: display, value: True\n",
      "  context.update_key_value(argname, argval)\n"
     ]
    },
    {
     "name": "stdout",
     "output_type": "stream",
     "text": [
      "Initial y\n",
      "0\n",
      "Intercept\n",
      "33.58424381828637\n",
      "Conflict set:\n",
      "\t<class 'docplex.mp.constr.LinearConstraint'> (status code: ConflictStatus.Member): -1.042x_0+13.857x_1-2.545x_2+21.195x_3-24.530x_4+33.584 <= r\n",
      "\t<class 'docplex.mp.constr.LinearConstraint'> (status code: ConflictStatus.Member): 1.042x_0-13.857x_1+2.545x_2-21.195x_3+24.530x_4+300b_5-24.584 >= r\n",
      "\t<class 'docplex.mp.constr.LinearConstraint'> (status code: ConflictStatus.Member): -1.042x_0+13.857x_1-2.545x_2+21.195x_3-24.530x_4-300b_5+324.584 >= r\n",
      "No solution found\n",
      "No solution found\n",
      "[ -2.46415929  14.69247788  -1.48230088  21.65044248 -23.66415929]\n",
      "33.00221238938052\n",
      "JobSolveStatus.OPTIMAL_SOLUTION\n",
      "JobSolveStatus.OPTIMAL_SOLUTION\n",
      "JobSolveStatus.OPTIMAL_SOLUTION\n",
      "JobSolveStatus.OPTIMAL_SOLUTION\n",
      "JobSolveStatus.OPTIMAL_SOLUTION\n",
      "JobSolveStatus.OPTIMAL_SOLUTION\n",
      "show some of the constraints that can be removed to arrive at a minimal conflict\n"
     ]
    },
    {
     "name": "stderr",
     "output_type": "stream",
     "text": [
      "/home/artem/.conda/envs/ica_new/lib/python3.6/site-packages/docplex/mp/model.py:3278: UserWarning: Unknown quick-setting in Context: display, value: True\n",
      "  context.update_key_value(argname, argval)\n"
     ]
    },
    {
     "name": "stdout",
     "output_type": "stream",
     "text": [
      "Initial y\n",
      "83\n",
      "Intercept\n",
      "33.00221238938052\n",
      "Conflict set:\n",
      "\t<class 'docplex.mp.constr.LinearConstraint'> (status code: ConflictStatus.Member): 2.464x_0-14.692x_1+1.482x_2-21.650x_3+23.664x_4+49.998 <= r\n",
      "\t<class 'docplex.mp.constr.LinearConstraint'> (status code: ConflictStatus.Member): 2.464x_0-14.692x_1+1.482x_2-21.650x_3+23.664x_4+300b_2+30.998 >= r\n",
      "\t<class 'docplex.mp.constr.LinearConstraint'> (status code: ConflictStatus.Member): -2.464x_0+14.692x_1-1.482x_2+21.650x_3-23.664x_4-300b_2+269.002 >= r\n",
      "No solution found\n",
      "JobSolveStatus.OPTIMAL_SOLUTION\n",
      "No solution found\n",
      "show some of the constraints that can be removed to arrive at a minimal conflict\n"
     ]
    },
    {
     "name": "stderr",
     "output_type": "stream",
     "text": [
      "/home/artem/.conda/envs/ica_new/lib/python3.6/site-packages/docplex/mp/model.py:3278: UserWarning: Unknown quick-setting in Context: display, value: True\n",
      "  context.update_key_value(argname, argval)\n"
     ]
    },
    {
     "name": "stdout",
     "output_type": "stream",
     "text": [
      "Initial y\n",
      "87\n",
      "Intercept\n",
      "33.00221238938052\n",
      "Conflict set:\n",
      "\t<class 'docplex.mp.constr.LinearConstraint'> (status code: ConflictStatus.Member): 2.464x_0-14.692x_1+1.482x_2-21.650x_3+23.664x_4+53.998 <= r\n",
      "\t<class 'docplex.mp.constr.LinearConstraint'> (status code: ConflictStatus.Member): 2.464x_0-14.692x_1+1.482x_2-21.650x_3+23.664x_4+300b_2+30.998 >= r\n",
      "\t<class 'docplex.mp.constr.LinearConstraint'> (status code: ConflictStatus.Member): -2.464x_0+14.692x_1-1.482x_2+21.650x_3-23.664x_4-300b_2+269.002 >= r\n",
      "No solution found\n",
      "JobSolveStatus.OPTIMAL_SOLUTION\n",
      "JobSolveStatus.OPTIMAL_SOLUTION\n",
      "JobSolveStatus.OPTIMAL_SOLUTION\n",
      "show some of the constraints that can be removed to arrive at a minimal conflict\n"
     ]
    },
    {
     "name": "stderr",
     "output_type": "stream",
     "text": [
      "/home/artem/.conda/envs/ica_new/lib/python3.6/site-packages/docplex/mp/model.py:3278: UserWarning: Unknown quick-setting in Context: display, value: True\n",
      "  context.update_key_value(argname, argval)\n"
     ]
    },
    {
     "name": "stdout",
     "output_type": "stream",
     "text": [
      "Initial y\n",
      "0\n",
      "Intercept\n",
      "33.00221238938052\n",
      "Conflict set:\n",
      "\t<class 'docplex.mp.constr.LinearConstraint'> (status code: ConflictStatus.Member): -2.464x_0+14.692x_1-1.482x_2+21.650x_3-23.664x_4+33.002 <= r\n",
      "\t<class 'docplex.mp.constr.LinearConstraint'> (status code: ConflictStatus.Member): 2.464x_0-14.692x_1+1.482x_2-21.650x_3+23.664x_4+300b_5-24.002 >= r\n",
      "\t<class 'docplex.mp.constr.LinearConstraint'> (status code: ConflictStatus.Member): -2.464x_0+14.692x_1-1.482x_2+21.650x_3-23.664x_4-300b_5+324.002 >= r\n",
      "No solution found\n",
      "show some of the constraints that can be removed to arrive at a minimal conflict\n"
     ]
    },
    {
     "name": "stderr",
     "output_type": "stream",
     "text": [
      "/home/artem/.conda/envs/ica_new/lib/python3.6/site-packages/docplex/mp/model.py:3278: UserWarning: Unknown quick-setting in Context: display, value: True\n",
      "  context.update_key_value(argname, argval)\n"
     ]
    },
    {
     "name": "stdout",
     "output_type": "stream",
     "text": [
      "Initial y\n",
      "0\n",
      "Intercept\n",
      "33.00221238938052\n",
      "Conflict set:\n",
      "\t<class 'docplex.mp.constr.LinearConstraint'> (status code: ConflictStatus.Member): -2.464x_0+14.692x_1-1.482x_2+21.650x_3-23.664x_4+33.002 <= r\n",
      "\t<class 'docplex.mp.constr.LinearConstraint'> (status code: ConflictStatus.Member): 2.464x_0-14.692x_1+1.482x_2-21.650x_3+23.664x_4+300b_5-24.002 >= r\n",
      "\t<class 'docplex.mp.constr.LinearConstraint'> (status code: ConflictStatus.Member): -2.464x_0+14.692x_1-1.482x_2+21.650x_3-23.664x_4-300b_5+324.002 >= r\n",
      "No solution found\n",
      "No solution found\n",
      "JobSolveStatus.OPTIMAL_SOLUTION\n",
      "[  0.14927302  16.53473344  -3.53877221  23.5355412  -21.05072698]\n",
      "27.903877221324727\n",
      "JobSolveStatus.OPTIMAL_SOLUTION\n",
      "JobSolveStatus.OPTIMAL_SOLUTION\n",
      "JobSolveStatus.OPTIMAL_SOLUTION\n",
      "JobSolveStatus.OPTIMAL_SOLUTION\n",
      "JobSolveStatus.OPTIMAL_SOLUTION\n",
      "JobSolveStatus.OPTIMAL_SOLUTION\n",
      "show some of the constraints that can be removed to arrive at a minimal conflict\n"
     ]
    },
    {
     "name": "stderr",
     "output_type": "stream",
     "text": [
      "/home/artem/.conda/envs/ica_new/lib/python3.6/site-packages/docplex/mp/model.py:3278: UserWarning: Unknown quick-setting in Context: display, value: True\n",
      "  context.update_key_value(argname, argval)\n"
     ]
    },
    {
     "name": "stdout",
     "output_type": "stream",
     "text": [
      "Initial y\n",
      "83\n",
      "Intercept\n",
      "27.903877221324727\n",
      "Conflict set:\n",
      "\t<class 'docplex.mp.constr.LinearConstraint'> (status code: ConflictStatus.Member): -0.149x_0-16.535x_1+3.539x_2-23.536x_3+21.051x_4+55.096 <= r\n",
      "\t<class 'docplex.mp.constr.LinearConstraint'> (status code: ConflictStatus.Member): -0.149x_0-16.535x_1+3.539x_2-23.536x_3+21.051x_4+300b_2+36.096 >= r\n",
      "\t<class 'docplex.mp.constr.LinearConstraint'> (status code: ConflictStatus.Member): 0.149x_0+16.535x_1-3.539x_2+23.536x_3-21.051x_4-300b_2+263.904 >= r\n",
      "No solution found\n",
      "JobSolveStatus.OPTIMAL_SOLUTION\n",
      "No solution found\n",
      "show some of the constraints that can be removed to arrive at a minimal conflict\n"
     ]
    },
    {
     "name": "stderr",
     "output_type": "stream",
     "text": [
      "/home/artem/.conda/envs/ica_new/lib/python3.6/site-packages/docplex/mp/model.py:3278: UserWarning: Unknown quick-setting in Context: display, value: True\n",
      "  context.update_key_value(argname, argval)\n"
     ]
    },
    {
     "name": "stdout",
     "output_type": "stream",
     "text": [
      "Initial y\n",
      "87\n",
      "Intercept\n",
      "27.903877221324727\n",
      "Conflict set:\n",
      "\t<class 'docplex.mp.constr.LinearConstraint'> (status code: ConflictStatus.Member): -0.149x_0-16.535x_1+3.539x_2-23.536x_3+21.051x_4+59.096 <= r\n",
      "\t<class 'docplex.mp.constr.LinearConstraint'> (status code: ConflictStatus.Member): -0.149x_0-16.535x_1+3.539x_2-23.536x_3+21.051x_4+300b_2+36.096 >= r\n",
      "\t<class 'docplex.mp.constr.LinearConstraint'> (status code: ConflictStatus.Member): 0.149x_0+16.535x_1-3.539x_2+23.536x_3-21.051x_4-300b_2+263.904 >= r\n",
      "No solution found\n",
      "show some of the constraints that can be removed to arrive at a minimal conflict\n"
     ]
    },
    {
     "name": "stderr",
     "output_type": "stream",
     "text": [
      "/home/artem/.conda/envs/ica_new/lib/python3.6/site-packages/docplex/mp/model.py:3278: UserWarning: Unknown quick-setting in Context: display, value: True\n",
      "  context.update_key_value(argname, argval)\n"
     ]
    },
    {
     "name": "stdout",
     "output_type": "stream",
     "text": [
      "Initial y\n",
      "55\n",
      "Intercept\n",
      "27.903877221324727\n",
      "Conflict set:\n",
      "\t<class 'docplex.mp.constr.LinearConstraint'> (status code: ConflictStatus.Member): -0.149x_0-16.535x_1+3.539x_2-23.536x_3+21.051x_4+27.096 <= r\n",
      "\t<class 'docplex.mp.constr.LinearConstraint'> (status code: ConflictStatus.Member): 0.149x_0+16.535x_1-3.539x_2+23.536x_3-21.051x_4-27.096 <= r\n",
      "\t<class 'docplex.mp.constr.LinearConstraint'> (status code: ConflictStatus.Member): -0.149x_0-16.535x_1+3.539x_2-23.536x_3+21.051x_4+300b_2+36.096 >= r\n",
      "\t<class 'docplex.mp.constr.LinearConstraint'> (status code: ConflictStatus.Member): 0.149x_0+16.535x_1-3.539x_2+23.536x_3-21.051x_4-300b_2+263.904 >= r\n",
      "\t<class 'docplex.mp.constr.LinearConstraint'> (status code: ConflictStatus.Member): -0.149x_0-16.535x_1+3.539x_2-23.536x_3+21.051x_4+300b_16+25.096 >= r\n",
      "\t<class 'docplex.mp.constr.LinearConstraint'> (status code: ConflictStatus.Member): 0.149x_0+16.535x_1-3.539x_2+23.536x_3-21.051x_4-300b_16+274.904 >= r\n",
      "No solution found\n",
      "JobSolveStatus.OPTIMAL_SOLUTION\n",
      "No solution found\n",
      "show some of the constraints that can be removed to arrive at a minimal conflict\n"
     ]
    },
    {
     "name": "stderr",
     "output_type": "stream",
     "text": [
      "/home/artem/.conda/envs/ica_new/lib/python3.6/site-packages/docplex/mp/model.py:3278: UserWarning: Unknown quick-setting in Context: display, value: True\n",
      "  context.update_key_value(argname, argval)\n"
     ]
    },
    {
     "name": "stdout",
     "output_type": "stream",
     "text": [
      "Initial y\n",
      "0\n",
      "Intercept\n",
      "27.903877221324727\n",
      "Conflict set:\n",
      "\t<class 'docplex.mp.constr.LinearConstraint'> (status code: ConflictStatus.Member): 0.149x_0+16.535x_1-3.539x_2+23.536x_3-21.051x_4+27.904 <= r\n",
      "\t<class 'docplex.mp.constr.LinearConstraint'> (status code: ConflictStatus.Member): -0.149x_0-16.535x_1+3.539x_2-23.536x_3+21.051x_4+300b_17-22.904 >= r\n",
      "\t<class 'docplex.mp.constr.LinearConstraint'> (status code: ConflictStatus.Member): 0.149x_0+16.535x_1-3.539x_2+23.536x_3-21.051x_4-300b_17+322.904 >= r\n",
      "No solution found\n",
      "show some of the constraints that can be removed to arrive at a minimal conflict\n"
     ]
    },
    {
     "name": "stderr",
     "output_type": "stream",
     "text": [
      "/home/artem/.conda/envs/ica_new/lib/python3.6/site-packages/docplex/mp/model.py:3278: UserWarning: Unknown quick-setting in Context: display, value: True\n",
      "  context.update_key_value(argname, argval)\n"
     ]
    },
    {
     "name": "stdout",
     "output_type": "stream",
     "text": [
      "Initial y\n",
      "0\n",
      "Intercept\n",
      "27.903877221324727\n",
      "Conflict set:\n",
      "\t<class 'docplex.mp.constr.LinearConstraint'> (status code: ConflictStatus.Member): 0.149x_0+16.535x_1-3.539x_2+23.536x_3-21.051x_4+27.904 <= r\n",
      "\t<class 'docplex.mp.constr.LinearConstraint'> (status code: ConflictStatus.Member): -0.149x_0-16.535x_1+3.539x_2-23.536x_3+21.051x_4+300b_17-22.904 >= r\n",
      "\t<class 'docplex.mp.constr.LinearConstraint'> (status code: ConflictStatus.Member): 0.149x_0+16.535x_1-3.539x_2+23.536x_3-21.051x_4-300b_17+322.904 >= r\n",
      "No solution found\n",
      "No solution found\n",
      "JobSolveStatus.OPTIMAL_SOLUTION\n",
      "JobSolveStatus.OPTIMAL_SOLUTION\n",
      "[ -0.15991641  15.86416559  -3.75116927  24.35630411 -20.98427704]\n",
      "27.925116927057424\n",
      "JobSolveStatus.OPTIMAL_SOLUTION\n",
      "\n",
      "KeyboardInterrupt\n",
      "JobSolveStatus.OPTIMAL_SOLUTION\n",
      "JobSolveStatus.OPTIMAL_SOLUTION\n",
      "JobSolveStatus.OPTIMAL_SOLUTION\n",
      "JobSolveStatus.OPTIMAL_SOLUTION\n",
      "\n",
      "KeyboardInterrupt\n",
      "No solution found\n",
      "show some of the constraints that can be removed to arrive at a minimal conflict\n"
     ]
    },
    {
     "name": "stderr",
     "output_type": "stream",
     "text": [
      "/home/artem/.conda/envs/ica_new/lib/python3.6/site-packages/docplex/mp/model.py:3278: UserWarning: Unknown quick-setting in Context: display, value: True\n",
      "  context.update_key_value(argname, argval)\n"
     ]
    },
    {
     "name": "stdout",
     "output_type": "stream",
     "text": [
      "Initial y\n",
      "83\n",
      "Intercept\n",
      "27.925116927057424\n",
      "Conflict set:\n",
      "\t<class 'docplex.mp.constr.LinearConstraint'> (status code: ConflictStatus.Member): 0.160x_0-15.864x_1+3.751x_2-24.356x_3+20.984x_4+55.075 <= r\n",
      "\t<class 'docplex.mp.constr.LinearConstraint'> (status code: ConflictStatus.Member): 0.160x_0-15.864x_1+3.751x_2-24.356x_3+20.984x_4+300b_2+36.075 >= r\n",
      "\t<class 'docplex.mp.constr.LinearConstraint'> (status code: ConflictStatus.Member): -0.160x_0+15.864x_1-3.751x_2+24.356x_3-20.984x_4-300b_2+263.925 >= r\n",
      "No solution found\n",
      "JobSolveStatus.OPTIMAL_SOLUTION\n",
      "No solution found\n",
      "show some of the constraints that can be removed to arrive at a minimal conflict\n"
     ]
    },
    {
     "name": "stderr",
     "output_type": "stream",
     "text": [
      "/home/artem/.conda/envs/ica_new/lib/python3.6/site-packages/docplex/mp/model.py:3278: UserWarning: Unknown quick-setting in Context: display, value: True\n",
      "  context.update_key_value(argname, argval)\n"
     ]
    },
    {
     "name": "stdout",
     "output_type": "stream",
     "text": [
      "Initial y\n",
      "87\n",
      "Intercept\n",
      "27.925116927057424\n",
      "Conflict set:\n",
      "\t<class 'docplex.mp.constr.LinearConstraint'> (status code: ConflictStatus.Member): 0.160x_0-15.864x_1+3.751x_2-24.356x_3+20.984x_4+59.075 <= r\n",
      "\t<class 'docplex.mp.constr.LinearConstraint'> (status code: ConflictStatus.Member): 0.160x_0-15.864x_1+3.751x_2-24.356x_3+20.984x_4+300b_2+36.075 >= r\n",
      "\t<class 'docplex.mp.constr.LinearConstraint'> (status code: ConflictStatus.Member): -0.160x_0+15.864x_1-3.751x_2+24.356x_3-20.984x_4-300b_2+263.925 >= r\n",
      "No solution found\n",
      "show some of the constraints that can be removed to arrive at a minimal conflict\n"
     ]
    },
    {
     "name": "stderr",
     "output_type": "stream",
     "text": [
      "/home/artem/.conda/envs/ica_new/lib/python3.6/site-packages/docplex/mp/model.py:3278: UserWarning: Unknown quick-setting in Context: display, value: True\n",
      "  context.update_key_value(argname, argval)\n"
     ]
    },
    {
     "name": "stdout",
     "output_type": "stream",
     "text": [
      "Initial y\n",
      "55\n",
      "Intercept\n",
      "27.925116927057424\n",
      "Conflict set:\n",
      "\t<class 'docplex.mp.constr.LinearConstraint'> (status code: ConflictStatus.Member): 0.160x_0-15.864x_1+3.751x_2-24.356x_3+20.984x_4+27.075 <= r\n",
      "\t<class 'docplex.mp.constr.LinearConstraint'> (status code: ConflictStatus.Member): -0.160x_0+15.864x_1-3.751x_2+24.356x_3-20.984x_4-27.075 <= r\n",
      "\t<class 'docplex.mp.constr.LinearConstraint'> (status code: ConflictStatus.Member): 0.160x_0-15.864x_1+3.751x_2-24.356x_3+20.984x_4+300b_2+36.075 >= r\n",
      "\t<class 'docplex.mp.constr.LinearConstraint'> (status code: ConflictStatus.Member): -0.160x_0+15.864x_1-3.751x_2+24.356x_3-20.984x_4-300b_2+263.925 >= r\n",
      "\t<class 'docplex.mp.constr.LinearConstraint'> (status code: ConflictStatus.Member): 0.160x_0-15.864x_1+3.751x_2-24.356x_3+20.984x_4+300b_16+25.075 >= r\n",
      "\t<class 'docplex.mp.constr.LinearConstraint'> (status code: ConflictStatus.Member): -0.160x_0+15.864x_1-3.751x_2+24.356x_3-20.984x_4-300b_16+274.925 >= r\n",
      "No solution found\n",
      "\n",
      "KeyboardInterrupt\n",
      "JobSolveStatus.OPTIMAL_SOLUTION\n",
      "JobSolveStatus.OPTIMAL_SOLUTION\n",
      "show some of the constraints that can be removed to arrive at a minimal conflict\n"
     ]
    },
    {
     "name": "stderr",
     "output_type": "stream",
     "text": [
      "/home/artem/.conda/envs/ica_new/lib/python3.6/site-packages/docplex/mp/model.py:3278: UserWarning: Unknown quick-setting in Context: display, value: True\n",
      "  context.update_key_value(argname, argval)\n"
     ]
    },
    {
     "name": "stdout",
     "output_type": "stream",
     "text": [
      "Initial y\n",
      "0\n",
      "Intercept\n",
      "27.925116927057424\n",
      "Conflict set:\n",
      "\t<class 'docplex.mp.constr.LinearConstraint'> (status code: ConflictStatus.Member): -0.160x_0+15.864x_1-3.751x_2+24.356x_3-20.984x_4+27.925 <= r\n",
      "\t<class 'docplex.mp.constr.LinearConstraint'> (status code: ConflictStatus.Member): 0.160x_0-15.864x_1+3.751x_2-24.356x_3+20.984x_4+300b_17-22.925 >= r\n",
      "\t<class 'docplex.mp.constr.LinearConstraint'> (status code: ConflictStatus.Member): -0.160x_0+15.864x_1-3.751x_2+24.356x_3-20.984x_4-300b_17+322.925 >= r\n",
      "No solution found\n",
      "show some of the constraints that can be removed to arrive at a minimal conflict\n"
     ]
    },
    {
     "name": "stderr",
     "output_type": "stream",
     "text": [
      "/home/artem/.conda/envs/ica_new/lib/python3.6/site-packages/docplex/mp/model.py:3278: UserWarning: Unknown quick-setting in Context: display, value: True\n",
      "  context.update_key_value(argname, argval)\n"
     ]
    },
    {
     "name": "stdout",
     "output_type": "stream",
     "text": [
      "Initial y\n",
      "0\n",
      "Intercept\n",
      "27.925116927057424\n",
      "Conflict set:\n",
      "\t<class 'docplex.mp.constr.LinearConstraint'> (status code: ConflictStatus.Member): -0.160x_0+15.864x_1-3.751x_2+24.356x_3-20.984x_4+27.925 <= r\n",
      "\t<class 'docplex.mp.constr.LinearConstraint'> (status code: ConflictStatus.Member): 0.160x_0-15.864x_1+3.751x_2-24.356x_3+20.984x_4+300b_17-22.925 >= r\n",
      "\t<class 'docplex.mp.constr.LinearConstraint'> (status code: ConflictStatus.Member): -0.160x_0+15.864x_1-3.751x_2+24.356x_3-20.984x_4-300b_17+322.925 >= r\n",
      "No solution found\n",
      "No solution found\n",
      "JobSolveStatus.OPTIMAL_SOLUTION\n",
      "JobSolveStatus.OPTIMAL_SOLUTION\n",
      "JobSolveStatus.OPTIMAL_SOLUTION\n",
      "[  0.72921424  18.36064473  -2.17454668  22.261182   -21.44996642]\n",
      "25.837676292813953\n"
     ]
    }
   ],
   "source": [
    "def galo_bids_init(value_model, bidder_id, n, presampled_n, presampled_algorithm, ml_model):\n",
    "    np.random.seed(0)\n",
    "    values = np.random.randint(0, 100, size=(10)).tolist()\n",
    "    bundles = np.random.randint(0, 2, size=(10, 5)).tolist()\n",
    "    #print(bundles)\n",
    "    M = len(bundles[0])\n",
    "\n",
    "    # bundles random 18 bundles of length 10\n",
    "    reg = LinearRegression().fit(bundles, values)\n",
    "\n",
    "    count = 10\n",
    "    bigM = 300\n",
    "    while count <= 30:\n",
    "        reg = LinearRegression().fit(bundles, values)\n",
    "        coef = reg.coef_\n",
    "        intercept = reg.intercept_\n",
    "        print(coef)\n",
    "        print(intercept)\n",
    "        x_vectors = []\n",
    "        x_distances = []\n",
    "        for bundle in range(len(bundles)):\n",
    "\n",
    "            m = Model(name='galo')\n",
    "\n",
    "            r = m.continuous_var(name='r')\n",
    "            \n",
    "            x = m.binary_var_list(range(M), name='x')\n",
    "            \n",
    "            b = [m.binary_var(name=f'b_{j}') for j in range(len(values))]\n",
    "\n",
    "            constraints = []\n",
    "\n",
    "            y_prediction = m.sum(x[k]*coef[k] for k in range(M)) + intercept\n",
    "\n",
    "            constraints.append(values[bundle] - y_prediction <= r)\n",
    "            constraints.append(y_prediction - values[bundle] <= r)\n",
    "\n",
    "            for j in range(len(values)):\n",
    "                if j == bundle:\n",
    "                    continue\n",
    "                constraints.append(values[j] - y_prediction + bigM * b[j] >= r)\n",
    "                constraints.append(y_prediction - values[j] + bigM * (1 - b[j]) >= r)\n",
    "\n",
    "            m.add_constraints(constraints)\n",
    "            \n",
    "            m.maximize(r)\n",
    "            \n",
    "            sol = m.solve()\n",
    "\n",
    "            res = m.get_solve_status()\n",
    "\n",
    "            if res.name == 'INFEASIBLE_SOLUTION':  # or also 'INFEASIBLE_OR_UNBOUNDED_SOLUTION'\n",
    "                cref = cr.ConflictRefiner()\n",
    "                print('show some of the constraints that can be removed to arrive at a minimal conflict')\n",
    "                confl = cref.refine_conflict(m, display=True)  # display flag is to show the conflicts\n",
    "                print('Initial y')\n",
    "                print(values[bundle])\n",
    "                print('Intercept')\n",
    "                print(intercept)\n",
    "                cref.display_conflicts(confl)\n",
    "\n",
    "            try:\n",
    "                print(sol.solve_status)\n",
    "\n",
    "            except:\n",
    "                print('No solution found')\n",
    "                continue\n",
    "\n",
    "            vector = np.array([x[k].solution_value for k in range(M)])\n",
    "            x_vectors.append(vector)\n",
    "            distance = np.sum(np.abs(np.sum(vector * coef) + intercept - values[bundle]))\n",
    "            x_distances.append(distance)\n",
    "\n",
    "        chosen_bundle = x_vectors[np.argmax(x_distances)]\n",
    "        #generate one random value\n",
    "        value = np.random.randint(0, 100)\n",
    "        values.append(value)\n",
    "        bundles.append(chosen_bundle.tolist())\n",
    "        count+=1\n",
    "\n",
    "    return bundles\n",
    "\n",
    "results = galo_bids_init(None, 0, 20, 10, 'unif', None)\n",
    "#results"
   ]
  }
 ],
 "metadata": {
  "kernelspec": {
   "display_name": "ica_new",
   "language": "python",
   "name": "python3"
  },
  "language_info": {
   "codemirror_mode": {
    "name": "ipython",
    "version": 3
   },
   "file_extension": ".py",
   "mimetype": "text/x-python",
   "name": "python",
   "nbconvert_exporter": "python",
   "pygments_lexer": "ipython3",
   "version": "3.6.13"
  },
  "orig_nbformat": 4
 },
 "nbformat": 4,
 "nbformat_minor": 2
}
