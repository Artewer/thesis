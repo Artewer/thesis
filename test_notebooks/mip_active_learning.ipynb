{
 "cells": [
  {
   "cell_type": "code",
   "execution_count": 7,
   "metadata": {},
   "outputs": [],
   "source": [
    "import docplex\n",
    "from docplex.mp.model import Model\n",
    "import numpy as np"
   ]
  },
  {
   "cell_type": "code",
   "execution_count": 153,
   "metadata": {},
   "outputs": [
    {
     "name": "stdout",
     "output_type": "stream",
     "text": [
      "--> begin fibonacci 30\n",
      "fibonacci(30) = 832040\n",
      "<-- end fibonacci 30,  time: 371 ms\n"
     ]
    }
   ],
   "source": [
    "import time\n",
    "import math\n",
    "\n",
    "class ContextTimer(object):\n",
    "    def __init__(self, msg):\n",
    "        self.msg = msg\n",
    "        self.start = 0\n",
    "        \n",
    "    def __enter__(self):\n",
    "        self.start = time.time()\n",
    "        print('--> begin {0}'.format(self.msg))\n",
    "        return self  # return value is value of with ()\n",
    "        \n",
    "    def __exit__(self, *args):\n",
    "        elapsed = time.time() - self.start\n",
    "        self.msecs = math.ceil(1000* elapsed)\n",
    "        print('<-- end {0},  time: {1:.0f} ms'.format(self.msg, self.msecs))   \n",
    "        \n",
    "# try our timer on computing fibonacci numbers\n",
    "def fib(n):\n",
    "    return 1 if n <= 2 else  fib(n-1) + fib(n-2)\n",
    "\n",
    "# timing fibonacci(30)\n",
    "with ContextTimer(\"fibonacci 30\"):\n",
    "    n = 30\n",
    "    f = fib(n)\n",
    "    print(\"fibonacci({0}) = {1}\".format(n, f))\n",
    "        "
   ]
  },
  {
   "cell_type": "code",
   "execution_count": 232,
   "metadata": {},
   "outputs": [],
   "source": [
    "def gali_bids_init(value_model, M, n):\n",
    "    np.random.seed(42)\n",
    "    models = []\n",
    "    #M = 5  # number of items in value model\n",
    "    #n = 5 # number of bundles to be sampled\n",
    "    b_0 = np.asarray(np.random.choice([0, 1], size=M))\n",
    "    S_matrix = []\n",
    "    S_matrix.append(b_0)\n",
    "    for i in range(n-1): #start with next bundle\n",
    "        n_S_matrix = len(S_matrix)\n",
    "        x_vectors = []\n",
    "        x_distances = []\n",
    "        for j in range(n_S_matrix): # solve a MIP for each bundle\n",
    "            m = Model(name='greedy sampling')\n",
    "            indices = range(M)\n",
    "            x = m.binary_var_list(keys = M, name='x')\n",
    "\n",
    "            #Define objective function\n",
    "            obj_function = m.sum(x[i] + S_matrix[j][i] - 2 * x[i] * S_matrix[j][i] for i in indices)\n",
    "\n",
    "            \n",
    "            for k in range(n_S_matrix):\n",
    "                if k == j:\n",
    "                    continue\n",
    "                constraint_expr = m.sum(x[i] + S_matrix[k][i] - 2 * x[i] * S_matrix[k][i] for i in indices)\n",
    "                m.add_constraint(obj_function <= constraint_expr)\n",
    "\n",
    "            m.maximize(obj_function)\n",
    "            m.solve()\n",
    "            models.append(m)\n",
    "            vector = np.array([x[i].solution_value for i in range(M)])\n",
    "            #Calculate manhattan distance between bundle and corresponding bundle in S_matrix\n",
    "            distances = np.sum(np.abs(vector - S_matrix[j]))            \n",
    "            x_vectors.append(vector)\n",
    "            x_distances.append(distances)\n",
    "        #print('All found vectors')\n",
    "        #print(x_vectors)\n",
    "        S_matrix.append(x_vectors[np.argmax(x_distances)])\n",
    "        #print('We append this vector to S_matrix')\n",
    "        #print(x_vectors[np.argmax(x_distances)])\n",
    "    D = np.array(S_matrix)\n",
    "    return (D), models"
   ]
  },
  {
   "cell_type": "code",
   "execution_count": 255,
   "metadata": {},
   "outputs": [],
   "source": [
    "def gali_bids_init_new(value_model, M, n):\n",
    "    np.random.seed(42)\n",
    "    models = []\n",
    "    #M = 5  # number of items in value model\n",
    "    #n = 5 # number of bundles to be sampled\n",
    "    b_0 = np.asarray(np.random.choice([0, 1], size=M))\n",
    "    S_matrix = []\n",
    "    S_matrix.append(b_0)\n",
    "    for i in range(n-1): #start with next bundle\n",
    "        n_S_matrix = len(S_matrix)\n",
    "        x_vectors = []\n",
    "        x_distances = []\n",
    "        for j in range(n_S_matrix): # solve a MIP for each bundle\n",
    "            m = Model(name='greedy sampling')\n",
    "            indices = range(M)\n",
    "            x = m.binary_var_list(keys = M, name='x')\n",
    "\n",
    "            #Define objective function\n",
    "            obj_function = m.sum(x[i] + S_matrix[j][i] - 2 * x[i] * S_matrix[j][i] for i in indices)\n",
    "\n",
    "            constraints = []\n",
    "            for k in range(n_S_matrix):\n",
    "                if k == j:\n",
    "                    continue\n",
    "                constraint_expr = m.sum(x[i] + S_matrix[k][i] - 2 * x[i] * S_matrix[k][i] for i in indices)\n",
    "                constraints.append(obj_function <= constraint_expr)\n",
    "            m.add_constraints(constraints)\n",
    "\n",
    "            m.maximize(obj_function)\n",
    "            m.solve()\n",
    "            models.append(m)\n",
    "\n",
    "            vector = np.array([x[i].solution_value for i in range(M)])\n",
    "            #Calculate manhattan distance between bundle and corresponding bundle in S_matrix\n",
    "            distances = np.sum(np.abs(vector - S_matrix[j]))            \n",
    "            x_vectors.append(vector)\n",
    "            x_distances.append(distances)\n",
    "        #print('All found vectors')\n",
    "        #print(x_vectors)\n",
    "        S_matrix.append(x_vectors[np.argmax(x_distances)])\n",
    "        #print('We append this vector to S_matrix')\n",
    "        #print(x_vectors[np.argmax(x_distances)])\n",
    "    D = np.array(S_matrix)\n",
    "    return (D), models"
   ]
  },
  {
   "cell_type": "code",
   "execution_count": 257,
   "metadata": {},
   "outputs": [
    {
     "name": "stdout",
     "output_type": "stream",
     "text": [
      "--> begin bench1_size_1000\n",
      "<-- end bench1_size_1000,  time: 2908 ms\n",
      "--> begin bench2_size_1000\n",
      "<-- end bench2_size_1000,  time: 3369 ms\n",
      "--> begin bench1_size_1000\n",
      "<-- end bench1_size_1000,  time: 15056 ms\n",
      "--> begin bench2_size_1000\n",
      "<-- end bench2_size_1000,  time: 12119 ms\n"
     ]
    }
   ],
   "source": [
    "#set seed\n",
    "#plot results\n",
    "np.random.seed(42)\n",
    "sizes = [5, 10]\n",
    "init = []\n",
    "init_new = []\n",
    "for sz in sizes:\n",
    "    with ContextTimer(\"bench1_size_1000\"):\n",
    "        output, model = gali_bids_init(None,10,sz)\n",
    "    #model.print_information()\n",
    "    init.append(model)\n",
    "    with ContextTimer(\"bench2_size_1000\"):\n",
    "        output, n_model = gali_bids_init_new(None, 10, sz)\n",
    "    init_new.append(n_model)\n",
    "    # model.print_information()\n",
    "    # print(output)\n"
   ]
  },
  {
   "cell_type": "code",
   "execution_count": 258,
   "metadata": {},
   "outputs": [],
   "source": [
    "try:\n",
    "    import matplotlib.pyplot as plt\n",
    "    %matplotlib inline\n",
    "except ImportError:\n",
    "    print(\"try install matplotlib: pip install matplotlib\")\n",
    "    raise"
   ]
  },
  {
   "cell_type": "code",
   "execution_count": 267,
   "metadata": {},
   "outputs": [],
   "source": [
    "# plt.figure(figsize=(16,7))\n",
    "# plt.plot(sizes, init[0], label=\"one_by_one\")\n",
    "# plt.plot(sizes, init_new[0], label=\"var_list\")\n",
    "# plt.legend()\n",
    "# plt.show()\n",
    "#import numpy as np\n",
    "#calculate runtime\n",
    "#calculate mean runtime\n",
    "init_runtime = []\n",
    "for each in init:\n",
    "    for i in range(len(each)):\n",
    "        init_runtime.append(each[i].solve_details.time)\n",
    "init_new_runtime = []\n",
    "for each in init_new:\n",
    "    for i in range(len(each)):\n",
    "        init_new_runtime.append(each[i].solve_details.time)\n",
    "#print(np.mean(init_new)[0])\n",
    "#print(np.mean(init)[0])\n"
   ]
  },
  {
   "cell_type": "code",
   "execution_count": 268,
   "metadata": {},
   "outputs": [
    {
     "name": "stdout",
     "output_type": "stream",
     "text": [
      "0.299120890010487\n",
      "0.26301933201876554\n"
     ]
    }
   ],
   "source": [
    "import numpy as np\n",
    "print(np.mean(init_runtime))\n",
    "print(np.mean(init_new_runtime))"
   ]
  },
  {
   "cell_type": "code",
   "execution_count": 116,
   "metadata": {},
   "outputs": [
    {
     "name": "stdout",
     "output_type": "stream",
     "text": [
      "--- 0.0004203319549560547 seconds ---\n"
     ]
    }
   ],
   "source": [
    "#Calculate runtime\n",
    "import time\n",
    "start_time = time.time()\n",
    "arr = []\n",
    "for i in range(1000):\n",
    "    arr.append(1)\n",
    "np_arr = np.array(arr)\n",
    "print(\"--- %s seconds ---\" % (time.time() - start_time))\n",
    "#print(np_arr)"
   ]
  },
  {
   "cell_type": "code",
   "execution_count": 131,
   "metadata": {},
   "outputs": [
    {
     "name": "stdout",
     "output_type": "stream",
     "text": [
      "--- 0.007542610168457031 seconds ---\n",
      "[1 2 3]\n"
     ]
    }
   ],
   "source": [
    "#Calculate runtime\n",
    "import time\n",
    "start_time = time.time()\n",
    "n_arr = np.array([1,2,3])\n",
    "for i in range(1000):\n",
    "    np.append(n_arr, [i], axis=0)\n",
    "print(\"--- %s seconds ---\" % (time.time() - start_time))\n",
    "print(n_arr)"
   ]
  }
 ],
 "metadata": {
  "kernelspec": {
   "display_name": "ica_last",
   "language": "python",
   "name": "python3"
  },
  "language_info": {
   "codemirror_mode": {
    "name": "ipython",
    "version": 3
   },
   "file_extension": ".py",
   "mimetype": "text/x-python",
   "name": "python",
   "nbconvert_exporter": "python",
   "pygments_lexer": "ipython3",
   "version": "3.6.13"
  },
  "orig_nbformat": 4
 },
 "nbformat": 4,
 "nbformat_minor": 2
}
